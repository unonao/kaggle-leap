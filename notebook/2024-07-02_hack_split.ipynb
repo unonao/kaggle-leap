{
 "cells": [
  {
   "cell_type": "code",
   "execution_count": 1,
   "id": "75f09f97-8f79-40ce-8f24-ae3372bc53e3",
   "metadata": {},
   "outputs": [
    {
     "name": "stdout",
     "output_type": "stream",
     "text": [
      "/kaggle/working\n"
     ]
    }
   ],
   "source": [
    "%cd /kaggle/working\n",
    "import glob\n",
    "\n",
    "import numpy as np\n",
    "import numpy as np\n",
    "import polars as pl"
   ]
  },
  {
   "cell_type": "code",
   "execution_count": 78,
   "id": "771a7cee-0c35-4c4e-a95a-33aeebd4a6a9",
   "metadata": {},
   "outputs": [
    {
     "data": {
      "text/plain": [
       "2190"
      ]
     },
     "execution_count": 78,
     "metadata": {},
     "output_type": "execute_result"
    }
   ],
   "source": [
    "path_list = sorted(glob.glob(\"input/ClimSim_low-res/train/*/*.npy\"))\n",
    "debug = False\n",
    "if debug:\n",
    "    path_list = path_list[:1000]\n",
    "\n",
    "len(path_list[::24])"
   ]
  },
  {
   "cell_type": "code",
   "execution_count": 79,
   "id": "745291d1-c4aa-4b7f-a86e-360259634209",
   "metadata": {},
   "outputs": [
    {
     "data": {
      "text/html": [
       "<div><style>\n",
       ".dataframe > thead > tr,\n",
       ".dataframe > tbody > tr {\n",
       "  text-align: right;\n",
       "  white-space: pre-wrap;\n",
       "}\n",
       "</style>\n",
       "<small>shape: (38_400, 5)</small><table border=\"1\" class=\"dataframe\"><thead><tr><th>index</th><th>location</th><th>file_index</th><th>time_mod</th><th>row_index</th></tr><tr><td>u32</td><td>u32</td><td>u32</td><td>u32</td><td>u32</td></tr></thead><tbody><tr><td>0</td><td>0</td><td>0</td><td>0</td><td>0</td></tr><tr><td>1</td><td>1</td><td>0</td><td>0</td><td>1</td></tr><tr><td>2</td><td>2</td><td>0</td><td>0</td><td>2</td></tr><tr><td>3</td><td>3</td><td>0</td><td>0</td><td>3</td></tr><tr><td>4</td><td>4</td><td>0</td><td>0</td><td>4</td></tr><tr><td>&hellip;</td><td>&hellip;</td><td>&hellip;</td><td>&hellip;</td><td>&hellip;</td></tr><tr><td>38395</td><td>379</td><td>2376</td><td>96</td><td>912763</td></tr><tr><td>38396</td><td>380</td><td>2376</td><td>96</td><td>912764</td></tr><tr><td>38397</td><td>381</td><td>2376</td><td>96</td><td>912765</td></tr><tr><td>38398</td><td>382</td><td>2376</td><td>96</td><td>912766</td></tr><tr><td>38399</td><td>383</td><td>2376</td><td>96</td><td>912767</td></tr></tbody></table></div>"
      ],
      "text/plain": [
       "shape: (38_400, 5)\n",
       "┌───────┬──────────┬────────────┬──────────┬───────────┐\n",
       "│ index ┆ location ┆ file_index ┆ time_mod ┆ row_index │\n",
       "│ ---   ┆ ---      ┆ ---        ┆ ---      ┆ ---       │\n",
       "│ u32   ┆ u32      ┆ u32        ┆ u32      ┆ u32       │\n",
       "╞═══════╪══════════╪════════════╪══════════╪═══════════╡\n",
       "│ 0     ┆ 0        ┆ 0          ┆ 0        ┆ 0         │\n",
       "│ 1     ┆ 1        ┆ 0          ┆ 0        ┆ 1         │\n",
       "│ 2     ┆ 2        ┆ 0          ┆ 0        ┆ 2         │\n",
       "│ 3     ┆ 3        ┆ 0          ┆ 0        ┆ 3         │\n",
       "│ 4     ┆ 4        ┆ 0          ┆ 0        ┆ 4         │\n",
       "│ …     ┆ …        ┆ …          ┆ …        ┆ …         │\n",
       "│ 38395 ┆ 379      ┆ 2376       ┆ 96       ┆ 912763    │\n",
       "│ 38396 ┆ 380      ┆ 2376       ┆ 96       ┆ 912764    │\n",
       "│ 38397 ┆ 381      ┆ 2376       ┆ 96       ┆ 912765    │\n",
       "│ 38398 ┆ 382      ┆ 2376       ┆ 96       ┆ 912766    │\n",
       "│ 38399 ┆ 383      ┆ 2376       ┆ 96       ┆ 912767    │\n",
       "└───────┴──────────┴────────────┴──────────┴───────────┘"
      ]
     },
     "execution_count": 79,
     "metadata": {},
     "output_type": "execute_result"
    }
   ],
   "source": [
    "base_array = np.vstack([np.load(path) for path in path_list[::24][:100]])\n",
    "old_array = np.vstack([np.load(path) for path in path_list[::30]])\n",
    "\n",
    "# Create a DataFrame using Polars\n",
    "df = (\n",
    "    pl.DataFrame(base_array[:, :1])\n",
    "    .with_row_index()\n",
    "    .with_columns(\n",
    "        [\n",
    "            (pl.col(\"index\") % 384).alias(\"location\"),\n",
    "            ((pl.col(\"index\") // 384) * 24).alias(\"file_index\"),\n",
    "            ((pl.col(\"index\") // 384) * 24 % 120).alias(\"time_mod\"),\n",
    "            ((pl.col(\"index\") // 384) * 24 * 384 + (pl.col(\"index\") % 384)).alias(\n",
    "                \"row_index\"\n",
    "            ),\n",
    "        ]\n",
    "    )\n",
    "    .drop([\"column_0\"])\n",
    ")\n",
    "df_old = (\n",
    "    pl.DataFrame(old_array[:, :1])\n",
    "    .with_row_index()\n",
    "    .with_columns(\n",
    "        [\n",
    "            (pl.col(\"index\") % 384).alias(\"location\"),\n",
    "            ((pl.col(\"index\") // 384) * 30).alias(\"file_index\"),\n",
    "            ((pl.col(\"index\") // 384) * 30 % 120).alias(\"time_mod\"),\n",
    "            ((pl.col(\"index\") // 384) * 30 * 384 + (pl.col(\"index\") % 384)).alias(\n",
    "                \"row_index\"\n",
    "            ),\n",
    "        ]\n",
    "    )\n",
    "    .drop([\"column_0\"])\n",
    ")\n",
    "\n",
    "df"
   ]
  },
  {
   "cell_type": "code",
   "execution_count": 80,
   "id": "07d87aee-25f1-48ad-9078-4de8d5764f3a",
   "metadata": {},
   "outputs": [
    {
     "data": {
      "application/vnd.jupyter.widget-view+json": {
       "model_id": "99b97e14711144938423a019c9aa62d8",
       "version_major": 2,
       "version_minor": 0
      },
      "text/plain": [
       "  0%|          | 0/384 [00:00<?, ?it/s]"
      ]
     },
     "metadata": {},
     "output_type": "display_data"
    },
    {
     "data": {
      "text/plain": [
       "tensor([[    0,  4608,  9997,  6208,  5440],\n",
       "        [    1, 10048,  6532,  7300,  6536],\n",
       "        [    2,  4610,   207,   770,  2690],\n",
       "        ...,\n",
       "        [30717, 31101, 29949, 30333, 29565],\n",
       "        [30718, 31102, 29950, 29566, 30334],\n",
       "        [30719, 30335, 29951, 31103, 31487]])"
      ]
     },
     "execution_count": 80,
     "metadata": {},
     "output_type": "execute_result"
    }
   ],
   "source": [
    "import pickle\n",
    "from pathlib import Path\n",
    "\n",
    "import torch\n",
    "from torch.nn.functional import normalize\n",
    "from torch.utils.data import DataLoader, TensorDataset\n",
    "from tqdm.notebook import tqdm\n",
    "\n",
    "\n",
    "def compute_cosine_similarity(tensor1, tensor2):\n",
    "    return torch.mm(tensor1, tensor2.t())\n",
    "\n",
    "\n",
    "def get_top_k_similar_rows(matrix, target_matrix, k=5, chunk_size=1000, device=\"cpu\"):\n",
    "    matrix = matrix.to(device)\n",
    "    normalized_matrix = normalize(matrix, p=2, dim=1)\n",
    "    target_matrix = target_matrix.to(device)\n",
    "    normalized_target_matrix = normalize(target_matrix, p=2, dim=1)\n",
    "\n",
    "    top_k_indices = torch.empty((matrix.size(0), k), dtype=torch.long, device=\"cpu\")\n",
    "\n",
    "    dataset = TensorDataset(normalized_matrix)\n",
    "    dataloader = DataLoader(dataset, batch_size=chunk_size)\n",
    "\n",
    "    for ci, chunk in enumerate(tqdm(dataloader)):\n",
    "        chunk_tensor = chunk[0]\n",
    "        chunk_size_actual = chunk_tensor.size(0)\n",
    "\n",
    "        cosine_similarities = compute_cosine_similarity(\n",
    "            chunk_tensor, normalized_target_matrix\n",
    "        ).to(device)\n",
    "        top_k = torch.topk(cosine_similarities, k, dim=1)\n",
    "        top_k_indices[ci * chunk_size : ci * chunk_size + chunk_size_actual] = (\n",
    "            top_k.indices.cpu()\n",
    "        )\n",
    "\n",
    "    return top_k_indices\n",
    "\n",
    "\n",
    "# scale\n",
    "scale_dir = \"output/preprocess/normalize_009_rate_feat/bolton\"\n",
    "feat_mean_dict = pickle.load(\n",
    "    open(\n",
    "        Path(scale_dir) / \"x_mean_feat_dict.pkl\",\n",
    "        \"rb\",\n",
    "    )\n",
    ")\n",
    "feat_std_dict = pickle.load(\n",
    "    open(\n",
    "        Path(scale_dir) / \"x_std_feat_dict.pkl\",\n",
    "        \"rb\",\n",
    "    )\n",
    ")\n",
    "\n",
    "# Sample data\n",
    "data = torch.tensor(base_array[:, :556])\n",
    "data_old = torch.tensor(old_array[:, :556])\n",
    "\n",
    "data = (data - feat_mean_dict[\"base\"]) / (feat_std_dict[\"base\"] + 1e-60)\n",
    "data_old = (data_old - feat_mean_dict[\"base\"]) / (feat_std_dict[\"base\"] + 1e-60)\n",
    "\n",
    "\n",
    "k = 5\n",
    "chunk_size = 100\n",
    "\n",
    "# Use CPU or GPU\n",
    "device = \"cpu\"  # \"cuda\" if torch.cuda.is_available() else \"cpu\"\n",
    "\n",
    "top_k_similar_rows = get_top_k_similar_rows(\n",
    "    data, data_old, k=k, chunk_size=chunk_size, device=device\n",
    ")\n",
    "top_k_similar_rows"
   ]
  },
  {
   "cell_type": "code",
   "execution_count": 90,
   "id": "30fc2fad-2e0d-4b64-a8ff-4748e7be8212",
   "metadata": {},
   "outputs": [],
   "source": [
    "df_similar = df.with_columns(\n",
    "    [\n",
    "        pl.Series(\n",
    "            \"old_index\",\n",
    "            values=(top_k_similar_rows.numpy()),\n",
    "        ),\n",
    "        pl.Series(\n",
    "            \"old_file_index\",\n",
    "            values=(top_k_similar_rows.numpy() // 384) * 30,\n",
    "        ),\n",
    "        pl.Series(\n",
    "            \"old_row_index\",\n",
    "            values=(top_k_similar_rows.numpy() // 384 * 30 * 384)\n",
    "            + (top_k_similar_rows.numpy() % 384),\n",
    "        ),\n",
    "    ]\n",
    ").with_columns(\n",
    "    [\n",
    "        pl.col(\"old_row_index\")\n",
    "        .list.head(2).list.contains(pl.col(\"row_index\") + 384 * i)\n",
    "        .alias(f\"is_in_next{i}\")\n",
    "        for i in [0, 6, 12, 24]\n",
    "    ]\n",
    ")"
   ]
  },
  {
   "cell_type": "code",
   "execution_count": 91,
   "id": "5d78e4b9-9518-44a7-861d-ac15f93c2e83",
   "metadata": {},
   "outputs": [
    {
     "data": {
      "text/plain": [
       "7375"
      ]
     },
     "execution_count": 91,
     "metadata": {},
     "output_type": "execute_result"
    }
   ],
   "source": [
    "df_similar.filter(pl.col(\"time_mod\") == 24)[\"is_in_next6\"].sum()"
   ]
  },
  {
   "cell_type": "code",
   "execution_count": 89,
   "id": "5f1ca63e-a59b-4fdd-bfb3-101d6f197f37",
   "metadata": {},
   "outputs": [
    {
     "data": {
      "text/html": [
       "<div><style>\n",
       ".dataframe > thead > tr,\n",
       ".dataframe > tbody > tr {\n",
       "  text-align: right;\n",
       "  white-space: pre-wrap;\n",
       "}\n",
       "</style>\n",
       "<small>shape: (7_680, 12)</small><table border=\"1\" class=\"dataframe\"><thead><tr><th>index</th><th>location</th><th>file_index</th><th>time_mod</th><th>row_index</th><th>old_index</th><th>old_file_index</th><th>old_row_index</th><th>is_in_next0</th><th>is_in_next6</th><th>is_in_next12</th><th>is_in_next24</th></tr><tr><td>u32</td><td>u32</td><td>u32</td><td>u32</td><td>u32</td><td>list[i64]</td><td>list[i64]</td><td>list[i64]</td><td>bool</td><td>bool</td><td>bool</td><td>bool</td></tr></thead><tbody><tr><td>384</td><td>0</td><td>24</td><td>24</td><td>9216</td><td>[384, 12289, … 1152]</td><td>[30, 960, … 90]</td><td>[11520, 368641, … 34560]</td><td>false</td><td>true</td><td>false</td><td>false</td></tr><tr><td>385</td><td>1</td><td>24</td><td>24</td><td>9217</td><td>[385, 4993, … 6148]</td><td>[30, 390, … 480]</td><td>[11521, 149761, … 184324]</td><td>false</td><td>true</td><td>false</td><td>false</td></tr><tr><td>386</td><td>2</td><td>24</td><td>24</td><td>9218</td><td>[386, 591, … 4994]</td><td>[30, 30, … 390]</td><td>[11522, 11727, … 149762]</td><td>false</td><td>true</td><td>false</td><td>false</td></tr><tr><td>387</td><td>3</td><td>24</td><td>24</td><td>9219</td><td>[387, 7683, … 12294]</td><td>[30, 600, … 960]</td><td>[11523, 230403, … 368646]</td><td>false</td><td>true</td><td>false</td><td>false</td></tr><tr><td>388</td><td>4</td><td>24</td><td>24</td><td>9220</td><td>[388, 308033, … 4997]</td><td>[30, 24060, … 390]</td><td>[11524, 9239105, … 149765]</td><td>false</td><td>true</td><td>false</td><td>false</td></tr><tr><td>&hellip;</td><td>&hellip;</td><td>&hellip;</td><td>&hellip;</td><td>&hellip;</td><td>&hellip;</td><td>&hellip;</td><td>&hellip;</td><td>&hellip;</td><td>&hellip;</td><td>&hellip;</td><td>&hellip;</td></tr><tr><td>37243</td><td>379</td><td>2304</td><td>24</td><td>885115</td><td>[29947, 29563, … 18043]</td><td>[2310, 2280, … 1380]</td><td>[887419, 875899, … 530299]</td><td>false</td><td>true</td><td>false</td><td>false</td></tr><tr><td>37244</td><td>380</td><td>2304</td><td>24</td><td>885116</td><td>[29948, 29564, … 29180]</td><td>[2310, 2280, … 2250]</td><td>[887420, 875900, … 864380]</td><td>false</td><td>true</td><td>false</td><td>false</td></tr><tr><td>37245</td><td>381</td><td>2304</td><td>24</td><td>885117</td><td>[29949, 30717, … 29181]</td><td>[2310, 2370, … 2250]</td><td>[887421, 910461, … 864381]</td><td>false</td><td>true</td><td>false</td><td>false</td></tr><tr><td>37246</td><td>382</td><td>2304</td><td>24</td><td>885118</td><td>[29950, 30718, … 31102]</td><td>[2310, 2370, … 2400]</td><td>[887422, 910462, … 921982]</td><td>false</td><td>true</td><td>false</td><td>false</td></tr><tr><td>37247</td><td>383</td><td>2304</td><td>24</td><td>885119</td><td>[29951, 31103, … 30719]</td><td>[2310, 2400, … 2370]</td><td>[887423, 921983, … 910463]</td><td>false</td><td>true</td><td>false</td><td>false</td></tr></tbody></table></div>"
      ],
      "text/plain": [
       "shape: (7_680, 12)\n",
       "┌───────┬──────────┬────────────┬──────────┬───┬────────────┬────────────┬────────────┬────────────┐\n",
       "│ index ┆ location ┆ file_index ┆ time_mod ┆ … ┆ is_in_next ┆ is_in_next ┆ is_in_next ┆ is_in_next │\n",
       "│ ---   ┆ ---      ┆ ---        ┆ ---      ┆   ┆ 0          ┆ 6          ┆ 12         ┆ 24         │\n",
       "│ u32   ┆ u32      ┆ u32        ┆ u32      ┆   ┆ ---        ┆ ---        ┆ ---        ┆ ---        │\n",
       "│       ┆          ┆            ┆          ┆   ┆ bool       ┆ bool       ┆ bool       ┆ bool       │\n",
       "╞═══════╪══════════╪════════════╪══════════╪═══╪════════════╪════════════╪════════════╪════════════╡\n",
       "│ 384   ┆ 0        ┆ 24         ┆ 24       ┆ … ┆ false      ┆ true       ┆ false      ┆ false      │\n",
       "│ 385   ┆ 1        ┆ 24         ┆ 24       ┆ … ┆ false      ┆ true       ┆ false      ┆ false      │\n",
       "│ 386   ┆ 2        ┆ 24         ┆ 24       ┆ … ┆ false      ┆ true       ┆ false      ┆ false      │\n",
       "│ 387   ┆ 3        ┆ 24         ┆ 24       ┆ … ┆ false      ┆ true       ┆ false      ┆ false      │\n",
       "│ 388   ┆ 4        ┆ 24         ┆ 24       ┆ … ┆ false      ┆ true       ┆ false      ┆ false      │\n",
       "│ …     ┆ …        ┆ …          ┆ …        ┆ … ┆ …          ┆ …          ┆ …          ┆ …          │\n",
       "│ 37243 ┆ 379      ┆ 2304       ┆ 24       ┆ … ┆ false      ┆ true       ┆ false      ┆ false      │\n",
       "│ 37244 ┆ 380      ┆ 2304       ┆ 24       ┆ … ┆ false      ┆ true       ┆ false      ┆ false      │\n",
       "│ 37245 ┆ 381      ┆ 2304       ┆ 24       ┆ … ┆ false      ┆ true       ┆ false      ┆ false      │\n",
       "│ 37246 ┆ 382      ┆ 2304       ┆ 24       ┆ … ┆ false      ┆ true       ┆ false      ┆ false      │\n",
       "│ 37247 ┆ 383      ┆ 2304       ┆ 24       ┆ … ┆ false      ┆ true       ┆ false      ┆ false      │\n",
       "└───────┴──────────┴────────────┴──────────┴───┴────────────┴────────────┴────────────┴────────────┘"
      ]
     },
     "execution_count": 89,
     "metadata": {},
     "output_type": "execute_result"
    }
   ],
   "source": [
    "df_similar.filter(pl.col(\"time_mod\") == 24)"
   ]
  },
  {
   "cell_type": "code",
   "execution_count": 84,
   "id": "271aaae7-dc9f-4f8a-9d54-4547e7d8091f",
   "metadata": {},
   "outputs": [
    {
     "data": {
      "text/plain": [
       "(672768, 5)"
      ]
     },
     "execution_count": 84,
     "metadata": {},
     "output_type": "execute_result"
    }
   ],
   "source": [
    "df_old.shape"
   ]
  },
  {
   "cell_type": "code",
   "execution_count": null,
   "id": "4bea275e-fa6e-46a3-90eb-36fe9efb248b",
   "metadata": {},
   "outputs": [],
   "source": []
  }
 ],
 "metadata": {
  "kernelspec": {
   "display_name": "Python 3 (ipykernel) (Local)",
   "language": "python",
   "name": "python3"
  },
  "language_info": {
   "codemirror_mode": {
    "name": "ipython",
    "version": 3
   },
   "file_extension": ".py",
   "mimetype": "text/x-python",
   "name": "python",
   "nbconvert_exporter": "python",
   "pygments_lexer": "ipython3",
   "version": "3.10.13"
  }
 },
 "nbformat": 4,
 "nbformat_minor": 5
}
