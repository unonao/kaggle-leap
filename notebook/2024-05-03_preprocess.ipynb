{
 "cells": [
  {
   "cell_type": "code",
   "execution_count": 1,
   "id": "b06e2843-84cc-460d-8cd9-d4fb4f086f6a",
   "metadata": {},
   "outputs": [],
   "source": [
    "from pathlib import Path\n",
    "\n",
    "import numpy as np\n",
    "import polars as pl\n",
    "from tqdm import tqdm\n",
    "\n",
    "debug = True\n",
    "n_sampling = 9000 if debug else 650000\n",
    "iter_sampling = 10 if debug else 100\n",
    "\n",
    "\n",
    "output_path = Path(\"../misc/normalize_v3\")\n",
    "output_path.mkdir(exist_ok=True)"
   ]
  },
  {
   "cell_type": "code",
   "execution_count": null,
   "id": "75e427db-c75a-4fef-a7f4-cee39c131805",
   "metadata": {},
   "outputs": [],
   "source": [
    "df = pl.read_parquet(\"../input/train.parquet\", n_rows=10000 if debug else None)"
   ]
  },
  {
   "cell_type": "code",
   "execution_count": 2,
   "id": "2560d141-0403-4350-8356-c447c4323142",
   "metadata": {},
   "outputs": [
    {
     "name": "stdout",
     "output_type": "stream",
     "text": [
      "start y\n"
     ]
    },
    {
     "name": "stderr",
     "output_type": "stream",
     "text": [
      "100%|██████████| 10/10 [00:00<00:00, 37.39it/s]\n"
     ]
    }
   ],
   "source": [
    "print(\"start y\")\n",
    "y_001_percentile_list = []\n",
    "y_999_percentile_list = []\n",
    "for i in tqdm(range(iter_sampling)):\n",
    "    sample_df = df[:, 557:].sample(n_sampling, seed=i)\n",
    "    y_001_percentile = sample_df.quantile(0.001).to_numpy().ravel()\n",
    "    y_001_percentile_list.append(y_001_percentile)\n",
    "    y_999_percentile = sample_df.quantile(0.999).to_numpy().ravel()\n",
    "    y_999_percentile_list.append(y_999_percentile)\n",
    "\n",
    "y_001_percentile_max = np.max(y_001_percentile_list, axis=0)\n",
    "np.save(output_path / \"y_001_percentile_max.npy\", y_001_percentile)\n",
    "y_999_percentile_min = np.min(y_999_percentile_list, axis=0)\n",
    "np.save(output_path / \"y_999_percentile_min.npy\", y_999_percentile)"
   ]
  },
  {
   "cell_type": "code",
   "execution_count": 4,
   "id": "76416439-caf3-4b61-b516-0a9e52e7334e",
   "metadata": {},
   "outputs": [],
   "source": [
    "y_diff = y_999_percentile_min - y_001_percentile_max\n",
    "y_lower_bound = y_001_percentile_max - y_diff\n",
    "np.save(output_path / \"y_lower_bound.npy\", y_lower_bound)\n",
    "\n",
    "y_upper_bound = y_999_percentile_min + y_diff\n",
    "np.save(output_path / \"y_upper_bound.npy\", y_upper_bound)"
   ]
  },
  {
   "cell_type": "code",
   "execution_count": 6,
   "id": "90f5b35a-c011-4054-85a8-6b53ceb2ff36",
   "metadata": {},
   "outputs": [
    {
     "name": "stdout",
     "output_type": "stream",
     "text": [
      "y_001_percentile.shape=(368,), y_999_percentile.shape=(368,), y_lower_bound.shape=(368,), y_upper_bound.shape=(368,)\n"
     ]
    }
   ],
   "source": [
    "print(\n",
    "    f\"{y_001_percentile.shape=}, {y_999_percentile.shape=}, {y_lower_bound.shape=}, {y_upper_bound.shape=}\"\n",
    ")\n",
    "\n",
    "y = df[:, 557:].to_numpy()\n",
    "y[y < y_lower_bound] = np.nan\n",
    "y[y > y_upper_bound] = np.nan\n",
    "y_nanmean = np.nanmean(y, axis=0)\n",
    "np.save(output_path / \"y_nanmean.npy\", y_nanmean)\n",
    "y_nanmin = np.nanmin(y, axis=0)\n",
    "np.save(output_path / \"y_nanmin.npy\", y_nanmin)\n",
    "y_nanmax = np.nanmax(y, axis=0)\n",
    "np.save(output_path / \"y_nanmax.npy\", y_nanmax)\n",
    "y_nanstd = np.nanstd(y, axis=0)\n",
    "np.save(output_path / \"y_nanstd.npy\", y_nanstd)"
   ]
  },
  {
   "cell_type": "code",
   "execution_count": 18,
   "id": "5d32a6d3-93a1-4f09-9fc6-2ca3d18ec377",
   "metadata": {},
   "outputs": [
    {
     "name": "stdout",
     "output_type": "stream",
     "text": [
      "[306 306 306 ... 306 306 306]\n",
      "[368 368 368 ... 368 368 368]\n"
     ]
    }
   ],
   "source": [
    "eps = 1e-60\n",
    "filter_bool = np.all(df[:, 557:].to_numpy() >= y_lower_bound - eps, axis=1) & np.all(\n",
    "    df[:, 557:].to_numpy() <= y_upper_bound + eps, axis=1\n",
    ")\n",
    "print(np.sum(df[:, 557:].to_numpy() > y_lower_bound, axis=1))\n",
    "print(np.sum(df[:, 557:].to_numpy() >= y_lower_bound - eps, axis=1))"
   ]
  },
  {
   "cell_type": "code",
   "execution_count": 12,
   "id": "2e5c04f7-0353-4f32-8c0b-d470d052b8e9",
   "metadata": {},
   "outputs": [
    {
     "data": {
      "text/plain": [
       "array([ True,  True,  True, ...,  True,  True,  True])"
      ]
     },
     "execution_count": 12,
     "metadata": {},
     "output_type": "execute_result"
    }
   ],
   "source": [
    "np.all(df[:, 557:].to_numpy() >= y_lower_bound - eps, axis=1)"
   ]
  },
  {
   "cell_type": "code",
   "execution_count": 13,
   "id": "9bf1b1b2-48a5-425c-b852-421cfe0e6bf0",
   "metadata": {},
   "outputs": [
    {
     "data": {
      "text/plain": [
       "array([ True,  True,  True, ...,  True,  True,  True])"
      ]
     },
     "execution_count": 13,
     "metadata": {},
     "output_type": "execute_result"
    }
   ],
   "source": [
    "np.all(df[:, 557:].to_numpy() <= y_upper_bound + eps, axis=1)"
   ]
  },
  {
   "cell_type": "code",
   "execution_count": 15,
   "id": "ae46273e-b0c4-4810-afa3-8bb8bb4597f7",
   "metadata": {},
   "outputs": [
    {
     "data": {
      "text/plain": [
       "array([ True,  True,  True, ...,  True,  True,  True])"
      ]
     },
     "execution_count": 15,
     "metadata": {},
     "output_type": "execute_result"
    }
   ],
   "source": [
    "filter_bool"
   ]
  },
  {
   "cell_type": "code",
   "execution_count": 16,
   "id": "5c4f1c72-4131-48db-aee4-7fd95e66403c",
   "metadata": {},
   "outputs": [
    {
     "name": "stdout",
     "output_type": "stream",
     "text": [
      "df.shape=(10000, 925)\n"
     ]
    }
   ],
   "source": [
    "\n",
    "print(f\"{df.shape=}\")\n",
    "df = df.filter(filter_bool)"
   ]
  },
  {
   "cell_type": "code",
   "execution_count": 17,
   "id": "82ac466c-098f-42cf-a5bd-07974c1add4f",
   "metadata": {},
   "outputs": [
    {
     "name": "stdout",
     "output_type": "stream",
     "text": [
      "df.shape=(9884, 925)\n"
     ]
    }
   ],
   "source": [
    "print(f\"{df.shape=}\")\n"
   ]
  },
  {
   "cell_type": "code",
   "execution_count": null,
   "id": "f6a81ad2-1ec1-42e5-90c6-21151bcb50eb",
   "metadata": {},
   "outputs": [],
   "source": []
  }
 ],
 "metadata": {
  "kernelspec": {
   "display_name": "Python 3 (ipykernel) (Local)",
   "language": "python",
   "name": "python3"
  },
  "language_info": {
   "codemirror_mode": {
    "name": "ipython",
    "version": 3
   },
   "file_extension": ".py",
   "mimetype": "text/x-python",
   "name": "python",
   "nbconvert_exporter": "python",
   "pygments_lexer": "ipython3",
   "version": "3.10.13"
  }
 },
 "nbformat": 4,
 "nbformat_minor": 5
}
