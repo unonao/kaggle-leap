{
 "cells": [
  {
   "cell_type": "code",
   "execution_count": 18,
   "id": "b0d5d961-b547-4e4f-a844-a0ddd5f3cad4",
   "metadata": {},
   "outputs": [
    {
     "name": "stdout",
     "output_type": "stream",
     "text": [
      "/kaggle/working\n"
     ]
    }
   ],
   "source": [
    "%cd /kaggle/working"
   ]
  },
  {
   "cell_type": "code",
   "execution_count": 6,
   "id": "812512c6-4c01-412d-83fd-17f84f52f498",
   "metadata": {},
   "outputs": [],
   "source": [
    "import pickle\n",
    "from pathlib import Path\n",
    "\n",
    "import matplotlib.pyplot as plt\n",
    "import numpy as np\n",
    "import pandas as pd\n",
    "import polars as pl\n",
    "import seaborn as sns\n",
    "from hydra import compose, initialize\n",
    "from omegaconf import OmegaConf\n",
    "\n",
    "from utils.metric import score"
   ]
  },
  {
   "cell_type": "code",
   "execution_count": 7,
   "id": "31b653b6-b2ee-43b2-98df-87d22c5677a1",
   "metadata": {},
   "outputs": [],
   "source": [
    "def hide_submission(sub_df):\n",
    "    hide_sub_df = sub_df.clone().with_columns(\n",
    "        [pl.lit(0.0).alias(f\"ptend_q0002_{i}\") for i in range(12, 22)]\n",
    "    )\n",
    "    return hide_sub_df"
   ]
  },
  {
   "cell_type": "code",
   "execution_count": 8,
   "id": "719bed95-b625-4fcf-9188-0580fe7217bf",
   "metadata": {},
   "outputs": [
    {
     "data": {
      "text/html": [
       "<div><style>\n",
       ".dataframe > thead > tr,\n",
       ".dataframe > tbody > tr {\n",
       "  text-align: right;\n",
       "  white-space: pre-wrap;\n",
       "}\n",
       "</style>\n",
       "<small>shape: (625_000, 14)</small><table border=\"1\" class=\"dataframe\"><thead><tr><th>sort_index</th><th>original_index</th><th>sample_id</th><th>location</th><th>month</th><th>day</th><th>seconds</th><th>tick</th><th>pred</th><th>is_duplicated</th><th>pred_diff</th><th>is_second_year</th><th>year</th><th>timestamp</th></tr><tr><td>u32</td><td>u32</td><td>str</td><td>u32</td><td>i64</td><td>i64</td><td>i64</td><td>i64</td><td>f32</td><td>bool</td><td>f32</td><td>i32</td><td>i32</td><td>datetime[μs]</td></tr></thead><tbody><tr><td>0</td><td>138117</td><td>&quot;test_267252&quot;</td><td>0</td><td>3</td><td>1</td><td>0</td><td>0</td><td>0.011544</td><td>true</td><td>0.527491</td><td>0</td><td>9</td><td>0009-03-01 00:00:00</td></tr><tr><td>1</td><td>101693</td><td>&quot;test_223108&quot;</td><td>1</td><td>3</td><td>1</td><td>0</td><td>0</td><td>0.012308</td><td>true</td><td>0.524553</td><td>0</td><td>9</td><td>0009-03-01 00:00:00</td></tr><tr><td>2</td><td>562692</td><td>&quot;test_781565&quot;</td><td>2</td><td>3</td><td>1</td><td>0</td><td>0</td><td>0.009292</td><td>true</td><td>0.530859</td><td>0</td><td>9</td><td>0009-03-01 00:00:00</td></tr><tr><td>3</td><td>504741</td><td>&quot;test_711401&quot;</td><td>3</td><td>3</td><td>1</td><td>0</td><td>0</td><td>0.009514</td><td>true</td><td>0.530276</td><td>0</td><td>9</td><td>0009-03-01 00:00:00</td></tr><tr><td>4</td><td>228828</td><td>&quot;test_377300&quot;</td><td>4</td><td>3</td><td>1</td><td>0</td><td>0</td><td>0.013316</td><td>true</td><td>0.523161</td><td>0</td><td>9</td><td>0009-03-01 00:00:00</td></tr><tr><td>&hellip;</td><td>&hellip;</td><td>&hellip;</td><td>&hellip;</td><td>&hellip;</td><td>&hellip;</td><td>&hellip;</td><td>&hellip;</td><td>&hellip;</td><td>&hellip;</td><td>&hellip;</td><td>&hellip;</td><td>&hellip;</td><td>&hellip;</td></tr><tr><td>624995</td><td>597036</td><td>&quot;test_822994&quot;</td><td>227</td><td>8</td><td>25</td><td>28800</td><td>24</td><td>0.804436</td><td>true</td><td>0.54411</td><td>1</td><td>10</td><td>0010-08-25 08:00:00</td></tr><tr><td>624996</td><td>152503</td><td>&quot;test_284808&quot;</td><td>228</td><td>8</td><td>25</td><td>28800</td><td>24</td><td>0.804081</td><td>true</td><td>0.537386</td><td>1</td><td>10</td><td>0010-08-25 08:00:00</td></tr><tr><td>624997</td><td>274314</td><td>&quot;test_432560&quot;</td><td>229</td><td>8</td><td>25</td><td>28800</td><td>24</td><td>0.800769</td><td>true</td><td>0.536229</td><td>1</td><td>10</td><td>0010-08-25 08:00:00</td></tr><tr><td>624998</td><td>61857</td><td>&quot;test_174901&quot;</td><td>230</td><td>8</td><td>25</td><td>28800</td><td>24</td><td>0.801106</td><td>true</td><td>0.543163</td><td>1</td><td>10</td><td>0010-08-25 08:00:00</td></tr><tr><td>624999</td><td>88150</td><td>&quot;test_206675&quot;</td><td>231</td><td>8</td><td>25</td><td>28800</td><td>24</td><td>0.798579</td><td>true</td><td>0.543434</td><td>1</td><td>10</td><td>0010-08-25 08:00:00</td></tr></tbody></table></div>"
      ],
      "text/plain": [
       "shape: (625_000, 14)\n",
       "┌────────────┬────────────┬────────────┬──────────┬───┬───────────┬────────────┬──────┬────────────┐\n",
       "│ sort_index ┆ original_i ┆ sample_id  ┆ location ┆ … ┆ pred_diff ┆ is_second_ ┆ year ┆ timestamp  │\n",
       "│ ---        ┆ ndex       ┆ ---        ┆ ---      ┆   ┆ ---       ┆ year       ┆ ---  ┆ ---        │\n",
       "│ u32        ┆ ---        ┆ str        ┆ u32      ┆   ┆ f32       ┆ ---        ┆ i32  ┆ datetime[μ │\n",
       "│            ┆ u32        ┆            ┆          ┆   ┆           ┆ i32        ┆      ┆ s]         │\n",
       "╞════════════╪════════════╪════════════╪══════════╪═══╪═══════════╪════════════╪══════╪════════════╡\n",
       "│ 0          ┆ 138117     ┆ test_26725 ┆ 0        ┆ … ┆ 0.527491  ┆ 0          ┆ 9    ┆ 0009-03-01 │\n",
       "│            ┆            ┆ 2          ┆          ┆   ┆           ┆            ┆      ┆ 00:00:00   │\n",
       "│ 1          ┆ 101693     ┆ test_22310 ┆ 1        ┆ … ┆ 0.524553  ┆ 0          ┆ 9    ┆ 0009-03-01 │\n",
       "│            ┆            ┆ 8          ┆          ┆   ┆           ┆            ┆      ┆ 00:00:00   │\n",
       "│ 2          ┆ 562692     ┆ test_78156 ┆ 2        ┆ … ┆ 0.530859  ┆ 0          ┆ 9    ┆ 0009-03-01 │\n",
       "│            ┆            ┆ 5          ┆          ┆   ┆           ┆            ┆      ┆ 00:00:00   │\n",
       "│ 3          ┆ 504741     ┆ test_71140 ┆ 3        ┆ … ┆ 0.530276  ┆ 0          ┆ 9    ┆ 0009-03-01 │\n",
       "│            ┆            ┆ 1          ┆          ┆   ┆           ┆            ┆      ┆ 00:00:00   │\n",
       "│ 4          ┆ 228828     ┆ test_37730 ┆ 4        ┆ … ┆ 0.523161  ┆ 0          ┆ 9    ┆ 0009-03-01 │\n",
       "│            ┆            ┆ 0          ┆          ┆   ┆           ┆            ┆      ┆ 00:00:00   │\n",
       "│ …          ┆ …          ┆ …          ┆ …        ┆ … ┆ …         ┆ …          ┆ …    ┆ …          │\n",
       "│ 624995     ┆ 597036     ┆ test_82299 ┆ 227      ┆ … ┆ 0.54411   ┆ 1          ┆ 10   ┆ 0010-08-25 │\n",
       "│            ┆            ┆ 4          ┆          ┆   ┆           ┆            ┆      ┆ 08:00:00   │\n",
       "│ 624996     ┆ 152503     ┆ test_28480 ┆ 228      ┆ … ┆ 0.537386  ┆ 1          ┆ 10   ┆ 0010-08-25 │\n",
       "│            ┆            ┆ 8          ┆          ┆   ┆           ┆            ┆      ┆ 08:00:00   │\n",
       "│ 624997     ┆ 274314     ┆ test_43256 ┆ 229      ┆ … ┆ 0.536229  ┆ 1          ┆ 10   ┆ 0010-08-25 │\n",
       "│            ┆            ┆ 0          ┆          ┆   ┆           ┆            ┆      ┆ 08:00:00   │\n",
       "│ 624998     ┆ 61857      ┆ test_17490 ┆ 230      ┆ … ┆ 0.543163  ┆ 1          ┆ 10   ┆ 0010-08-25 │\n",
       "│            ┆            ┆ 1          ┆          ┆   ┆           ┆            ┆      ┆ 08:00:00   │\n",
       "│ 624999     ┆ 88150      ┆ test_20667 ┆ 231      ┆ … ┆ 0.543434  ┆ 1          ┆ 10   ┆ 0010-08-25 │\n",
       "│            ┆            ┆ 5          ┆          ┆   ┆           ┆            ┆      ┆ 08:00:00   │\n",
       "└────────────┴────────────┴────────────┴──────────┴───┴───────────┴────────────┴──────┴────────────┘"
      ]
     },
     "execution_count": 8,
     "metadata": {},
     "output_type": "execute_result"
    }
   ],
   "source": [
    "test_info_df = pl.read_parquet(\n",
    "    \"output/experiments/810_pred_elaps_time/base/test_info_year.parquet\"\n",
    ")\n",
    "test_info_df.sort(\"sort_index\")"
   ]
  },
  {
   "cell_type": "markdown",
   "id": "1459eaaf-1d69-4270-a35b-bc94c71afb81",
   "metadata": {},
   "source": [
    "## 提出ファイルチェック"
   ]
  },
  {
   "cell_type": "code",
   "execution_count": 9,
   "id": "4dc9834c-9efc-40bd-8a44-e0515fa9c01c",
   "metadata": {},
   "outputs": [],
   "source": [
    "base_sub_path = \"gs://kaggle-leap/kami/20240610_ensemble_nelder_mead2_lb078544.parquet\"\n",
    "base_sub_df = pl.read_parquet(base_sub_path)"
   ]
  },
  {
   "cell_type": "code",
   "execution_count": 10,
   "id": "acf368df-1860-4293-b741-3fad4320862a",
   "metadata": {},
   "outputs": [],
   "source": [
    "multi_col_sub_path = \"gs://kaggle-leap/kami/experiments/502_latlon_smoothl1_infer_new/all_001/submission.parquet\"\n",
    "multi_col_sub_df = pl.read_parquet(multi_col_sub_path)"
   ]
  },
  {
   "cell_type": "code",
   "execution_count": 11,
   "id": "d30f9d04-87fd-49d6-9f7d-ad195c72f610",
   "metadata": {},
   "outputs": [
    {
     "data": {
      "text/html": [
       "<div><style>\n",
       ".dataframe > thead > tr,\n",
       ".dataframe > tbody > tr {\n",
       "  text-align: right;\n",
       "  white-space: pre-wrap;\n",
       "}\n",
       "</style>\n",
       "<small>shape: (5, 369)</small><table border=\"1\" class=\"dataframe\"><thead><tr><th>sample_id</th><th>ptend_t_0</th><th>ptend_t_1</th><th>ptend_t_2</th><th>ptend_t_3</th><th>ptend_t_4</th><th>ptend_t_5</th><th>ptend_t_6</th><th>ptend_t_7</th><th>ptend_t_8</th><th>ptend_t_9</th><th>ptend_t_10</th><th>ptend_t_11</th><th>ptend_t_12</th><th>ptend_t_13</th><th>ptend_t_14</th><th>ptend_t_15</th><th>ptend_t_16</th><th>ptend_t_17</th><th>ptend_t_18</th><th>ptend_t_19</th><th>ptend_t_20</th><th>ptend_t_21</th><th>ptend_t_22</th><th>ptend_t_23</th><th>ptend_t_24</th><th>ptend_t_25</th><th>ptend_t_26</th><th>ptend_t_27</th><th>ptend_t_28</th><th>ptend_t_29</th><th>ptend_t_30</th><th>ptend_t_31</th><th>ptend_t_32</th><th>ptend_t_33</th><th>ptend_t_34</th><th>ptend_t_35</th><th>&hellip;</th><th>ptend_v_31</th><th>ptend_v_32</th><th>ptend_v_33</th><th>ptend_v_34</th><th>ptend_v_35</th><th>ptend_v_36</th><th>ptend_v_37</th><th>ptend_v_38</th><th>ptend_v_39</th><th>ptend_v_40</th><th>ptend_v_41</th><th>ptend_v_42</th><th>ptend_v_43</th><th>ptend_v_44</th><th>ptend_v_45</th><th>ptend_v_46</th><th>ptend_v_47</th><th>ptend_v_48</th><th>ptend_v_49</th><th>ptend_v_50</th><th>ptend_v_51</th><th>ptend_v_52</th><th>ptend_v_53</th><th>ptend_v_54</th><th>ptend_v_55</th><th>ptend_v_56</th><th>ptend_v_57</th><th>ptend_v_58</th><th>ptend_v_59</th><th>cam_out_NETSW</th><th>cam_out_FLWDS</th><th>cam_out_PRECSC</th><th>cam_out_PRECC</th><th>cam_out_SOLS</th><th>cam_out_SOLL</th><th>cam_out_SOLSD</th><th>cam_out_SOLLD</th></tr><tr><td>str</td><td>f64</td><td>f64</td><td>f64</td><td>f64</td><td>f64</td><td>f64</td><td>f64</td><td>f64</td><td>f64</td><td>f64</td><td>f64</td><td>f64</td><td>f64</td><td>f64</td><td>f64</td><td>f64</td><td>f64</td><td>f64</td><td>f64</td><td>f64</td><td>f64</td><td>f64</td><td>f64</td><td>f64</td><td>f64</td><td>f64</td><td>f64</td><td>f64</td><td>f64</td><td>f64</td><td>f64</td><td>f64</td><td>f64</td><td>f64</td><td>f64</td><td>f64</td><td>&hellip;</td><td>f64</td><td>f64</td><td>f64</td><td>f64</td><td>f64</td><td>f64</td><td>f64</td><td>f64</td><td>f64</td><td>f64</td><td>f64</td><td>f64</td><td>f64</td><td>f64</td><td>f64</td><td>f64</td><td>f64</td><td>f64</td><td>f64</td><td>f64</td><td>f64</td><td>f64</td><td>f64</td><td>f64</td><td>f64</td><td>f64</td><td>f64</td><td>f64</td><td>f64</td><td>f64</td><td>f64</td><td>f64</td><td>f64</td><td>f64</td><td>f64</td><td>f64</td><td>f64</td></tr></thead><tbody><tr><td>&quot;test_99994&quot;</td><td>0.00005</td><td>-0.000014</td><td>0.000016</td><td>0.000094</td><td>0.000125</td><td>0.000157</td><td>0.000136</td><td>0.000101</td><td>0.000064</td><td>0.000048</td><td>0.000037</td><td>0.000031</td><td>0.000024</td><td>0.000017</td><td>0.000012</td><td>0.00001</td><td>0.000009</td><td>0.000005</td><td>0.000003</td><td>0.000006</td><td>0.000006</td><td>-0.000001</td><td>-0.000006</td><td>2.5306e-7</td><td>-0.000001</td><td>-0.000005</td><td>-0.00001</td><td>-0.000021</td><td>-0.000023</td><td>-0.000018</td><td>-0.000016</td><td>-0.000015</td><td>-0.000011</td><td>-0.000005</td><td>-0.000014</td><td>-0.00001</td><td>&hellip;</td><td>0.000013</td><td>-0.000006</td><td>-0.00001</td><td>-0.000018</td><td>-0.000008</td><td>-0.000002</td><td>-0.000006</td><td>-0.000012</td><td>-0.000019</td><td>-0.000022</td><td>-0.000017</td><td>-0.000016</td><td>-0.00002</td><td>-0.000022</td><td>-0.000026</td><td>-0.000017</td><td>0.000004</td><td>0.000012</td><td>0.000021</td><td>0.000054</td><td>0.000058</td><td>0.000052</td><td>0.000044</td><td>0.00003</td><td>0.000016</td><td>0.000006</td><td>0.000001</td><td>0.000003</td><td>0.000006</td><td>398.355195</td><td>401.776939</td><td>-8.7887e-12</td><td>4.4550e-8</td><td>168.996437</td><td>179.921644</td><td>63.441382</td><td>26.253855</td></tr><tr><td>&quot;test_99995&quot;</td><td>0.000006</td><td>-0.00006</td><td>-0.000144</td><td>-0.000073</td><td>-0.000063</td><td>-0.000054</td><td>-0.000046</td><td>-0.000038</td><td>-0.000029</td><td>-0.000021</td><td>-0.000015</td><td>-0.000011</td><td>-0.000009</td><td>-0.000008</td><td>-0.000008</td><td>-0.000008</td><td>-0.000007</td><td>-0.000007</td><td>-0.000006</td><td>-0.000006</td><td>-0.000005</td><td>-0.000005</td><td>-0.000004</td><td>-0.000004</td><td>-0.000004</td><td>-0.000004</td><td>-0.000004</td><td>-0.000005</td><td>-0.000005</td><td>-0.000006</td><td>-0.000006</td><td>-0.000007</td><td>-0.000007</td><td>-0.000007</td><td>-0.000007</td><td>-0.000008</td><td>&hellip;</td><td>1.6019e-9</td><td>-2.3881e-8</td><td>-2.0371e-9</td><td>-1.6359e-8</td><td>-8.6881e-9</td><td>-8.7230e-9</td><td>-8.4384e-9</td><td>-1.0448e-8</td><td>7.3093e-10</td><td>-1.1911e-8</td><td>-2.4137e-8</td><td>-1.4626e-8</td><td>-1.6828e-8</td><td>-4.0241e-9</td><td>-8.8073e-9</td><td>-2.1367e-8</td><td>-3.6644e-8</td><td>-1.0782e-8</td><td>-2.8448e-8</td><td>-3.7951e-8</td><td>-4.1887e-8</td><td>-2.1783e-8</td><td>-2.0002e-8</td><td>-8.7700e-9</td><td>-1.8248e-7</td><td>2.5465e-7</td><td>-1.2444e-7</td><td>0.000003</td><td>-0.000004</td><td>-2.295682</td><td>129.060447</td><td>2.1083e-9</td><td>1.7344e-9</td><td>-1.470787</td><td>-0.157183</td><td>-0.565996</td><td>-0.58987</td></tr><tr><td>&quot;test_99996&quot;</td><td>0.000031</td><td>0.000006</td><td>0.000015</td><td>0.000024</td><td>0.000042</td><td>0.000063</td><td>0.000057</td><td>0.000038</td><td>0.000023</td><td>0.000015</td><td>0.00001</td><td>0.000006</td><td>0.000005</td><td>0.000005</td><td>0.000005</td><td>0.000005</td><td>0.000004</td><td>0.000001</td><td>0.000002</td><td>3.7992e-7</td><td>3.3764e-7</td><td>-1.2257e-7</td><td>-2.6080e-7</td><td>-6.1881e-7</td><td>-7.7037e-7</td><td>-7.7466e-7</td><td>-0.000001</td><td>-9.8860e-7</td><td>-0.000001</td><td>-0.000001</td><td>-0.000002</td><td>-0.000002</td><td>-0.000002</td><td>-0.000002</td><td>-0.000003</td><td>-0.000003</td><td>&hellip;</td><td>-1.2142e-8</td><td>6.1130e-10</td><td>-5.7148e-9</td><td>-3.2736e-9</td><td>-1.1217e-8</td><td>-5.9065e-9</td><td>-1.0385e-8</td><td>-4.3288e-9</td><td>-1.2205e-8</td><td>-4.4341e-9</td><td>-5.5610e-9</td><td>1.1598e-9</td><td>-1.2246e-9</td><td>1.8995e-8</td><td>-2.4001e-9</td><td>5.8757e-9</td><td>-2.4029e-9</td><td>1.1391e-8</td><td>-2.5699e-8</td><td>-3.2696e-8</td><td>-3.4587e-8</td><td>2.2078e-8</td><td>1.4498e-8</td><td>5.0109e-8</td><td>1.8383e-8</td><td>1.2089e-7</td><td>1.0654e-7</td><td>-3.5700e-8</td><td>8.6124e-8</td><td>68.100157</td><td>178.803326</td><td>5.8365e-9</td><td>6.5500e-9</td><td>118.463629</td><td>174.194484</td><td>64.729002</td><td>19.917534</td></tr><tr><td>&quot;test_99997&quot;</td><td>-0.000019</td><td>-0.000017</td><td>-0.000036</td><td>-0.000053</td><td>-0.000081</td><td>-0.000109</td><td>-0.000096</td><td>-0.000067</td><td>-0.000045</td><td>-0.000037</td><td>-0.000027</td><td>-0.00002</td><td>-0.000013</td><td>-0.000009</td><td>-0.000002</td><td>0.000001</td><td>0.000004</td><td>0.000004</td><td>0.000001</td><td>-2.8651e-8</td><td>-0.000004</td><td>-0.000006</td><td>-0.000009</td><td>-0.000015</td><td>-0.000022</td><td>-0.000026</td><td>-0.000033</td><td>-0.000032</td><td>-0.00003</td><td>-0.000027</td><td>-0.000025</td><td>-0.000024</td><td>-0.000025</td><td>-0.000024</td><td>-0.000027</td><td>-0.000026</td><td>&hellip;</td><td>-3.1255e-7</td><td>-8.4950e-7</td><td>-9.2030e-7</td><td>-5.9883e-7</td><td>-2.0691e-7</td><td>-1.3217e-7</td><td>9.7441e-8</td><td>0.000004</td><td>-0.000008</td><td>-0.000007</td><td>-0.000001</td><td>0.000002</td><td>0.000003</td><td>0.000004</td><td>0.000004</td><td>0.000004</td><td>0.000003</td><td>0.000002</td><td>0.000002</td><td>0.000002</td><td>0.000002</td><td>0.000002</td><td>0.000001</td><td>6.8404e-7</td><td>-6.2819e-7</td><td>-0.000001</td><td>-0.000003</td><td>-0.000002</td><td>-0.000011</td><td>0.352228</td><td>374.676784</td><td>-1.0432e-10</td><td>2.0668e-9</td><td>0.23888</td><td>0.317467</td><td>-0.611229</td><td>-0.207057</td></tr><tr><td>&quot;test_99998&quot;</td><td>0.000038</td><td>0.000029</td><td>0.000075</td><td>0.000087</td><td>0.000105</td><td>0.000096</td><td>0.000065</td><td>0.000056</td><td>0.000035</td><td>0.000024</td><td>0.000018</td><td>0.000014</td><td>0.000012</td><td>0.000009</td><td>0.000007</td><td>0.000005</td><td>0.000004</td><td>0.000003</td><td>-0.000002</td><td>0.000002</td><td>7.0547e-7</td><td>-0.000001</td><td>-0.000002</td><td>-0.000002</td><td>-0.000003</td><td>-0.000005</td><td>-0.000006</td><td>-0.000004</td><td>-0.000005</td><td>-0.000006</td><td>-0.000008</td><td>-0.000009</td><td>-0.00001</td><td>-0.000011</td><td>-0.000013</td><td>-0.000015</td><td>&hellip;</td><td>-4.5317e-7</td><td>-3.8620e-7</td><td>-2.2202e-7</td><td>2.3936e-8</td><td>2.2433e-7</td><td>1.8648e-7</td><td>9.3045e-8</td><td>-1.3584e-7</td><td>-3.0509e-7</td><td>-3.8540e-7</td><td>-1.7197e-7</td><td>-5.5040e-7</td><td>3.3486e-8</td><td>-0.000002</td><td>-0.000004</td><td>-0.000002</td><td>-0.000003</td><td>-0.000003</td><td>-5.7017e-7</td><td>-2.4761e-8</td><td>-3.3849e-7</td><td>0.000001</td><td>0.000006</td><td>0.00001</td><td>0.000023</td><td>0.000007</td><td>-0.000006</td><td>-0.000003</td><td>-0.000011</td><td>138.554746</td><td>326.152724</td><td>1.0321e-10</td><td>4.7063e-9</td><td>37.392753</td><td>49.377288</td><td>42.410075</td><td>23.891</td></tr></tbody></table></div>"
      ],
      "text/plain": [
       "shape: (5, 369)\n",
       "┌───────────┬───────────┬───────────┬───────────┬───┬───────────┬───────────┬───────────┬──────────┐\n",
       "│ sample_id ┆ ptend_t_0 ┆ ptend_t_1 ┆ ptend_t_2 ┆ … ┆ cam_out_S ┆ cam_out_S ┆ cam_out_S ┆ cam_out_ │\n",
       "│ ---       ┆ ---       ┆ ---       ┆ ---       ┆   ┆ OLS       ┆ OLL       ┆ OLSD      ┆ SOLLD    │\n",
       "│ str       ┆ f64       ┆ f64       ┆ f64       ┆   ┆ ---       ┆ ---       ┆ ---       ┆ ---      │\n",
       "│           ┆           ┆           ┆           ┆   ┆ f64       ┆ f64       ┆ f64       ┆ f64      │\n",
       "╞═══════════╪═══════════╪═══════════╪═══════════╪═══╪═══════════╪═══════════╪═══════════╪══════════╡\n",
       "│ test_9999 ┆ 0.00005   ┆ -0.000014 ┆ 0.000016  ┆ … ┆ 168.99643 ┆ 179.92164 ┆ 63.441382 ┆ 26.25385 │\n",
       "│ 4         ┆           ┆           ┆           ┆   ┆ 7         ┆ 4         ┆           ┆ 5        │\n",
       "│ test_9999 ┆ 0.000006  ┆ -0.00006  ┆ -0.000144 ┆ … ┆ -1.470787 ┆ -0.157183 ┆ -0.565996 ┆ -0.58987 │\n",
       "│ 5         ┆           ┆           ┆           ┆   ┆           ┆           ┆           ┆          │\n",
       "│ test_9999 ┆ 0.000031  ┆ 0.000006  ┆ 0.000015  ┆ … ┆ 118.46362 ┆ 174.19448 ┆ 64.729002 ┆ 19.91753 │\n",
       "│ 6         ┆           ┆           ┆           ┆   ┆ 9         ┆ 4         ┆           ┆ 4        │\n",
       "│ test_9999 ┆ -0.000019 ┆ -0.000017 ┆ -0.000036 ┆ … ┆ 0.23888   ┆ 0.317467  ┆ -0.611229 ┆ -0.20705 │\n",
       "│ 7         ┆           ┆           ┆           ┆   ┆           ┆           ┆           ┆ 7        │\n",
       "│ test_9999 ┆ 0.000038  ┆ 0.000029  ┆ 0.000075  ┆ … ┆ 37.392753 ┆ 49.377288 ┆ 42.410075 ┆ 23.891   │\n",
       "│ 8         ┆           ┆           ┆           ┆   ┆           ┆           ┆           ┆          │\n",
       "└───────────┴───────────┴───────────┴───────────┴───┴───────────┴───────────┴───────────┴──────────┘"
      ]
     },
     "execution_count": 11,
     "metadata": {},
     "output_type": "execute_result"
    }
   ],
   "source": [
    "multi_col_sub_df.with_columns(base_sub_df[\"sample_id\"]).tail()"
   ]
  },
  {
   "cell_type": "code",
   "execution_count": 12,
   "id": "f0adbe5f-9776-4f42-89fa-c57237c54a08",
   "metadata": {},
   "outputs": [],
   "source": [
    "preds = base_sub_df[:, 1:].to_numpy()\n",
    "labels = multi_col_sub_df[:, 1:].to_numpy()"
   ]
  },
  {
   "cell_type": "code",
   "execution_count": 13,
   "id": "ef654f40-9f5e-45d7-9d2b-17a901ad53b7",
   "metadata": {},
   "outputs": [
    {
     "name": "stdout",
     "output_type": "stream",
     "text": [
      "r2_score=0.9513133270160357\n"
     ]
    }
   ],
   "source": [
    "# 埋める前後でスコアが大きく変わらないかをチェック\n",
    "preds = base_sub_df[:, 1:].to_numpy()\n",
    "labels = multi_col_sub_df[:, 1:].to_numpy()\n",
    "_predict_df = pd.DataFrame(\n",
    "    preds, columns=[i for i in range(preds.shape[1])]\n",
    ").reset_index()\n",
    "_label_df = pd.DataFrame(\n",
    "    labels, columns=[i for i in range(labels.shape[1])]\n",
    ").reset_index()\n",
    "r2_scores = score(_label_df, _predict_df, \"index\", multioutput=\"raw_values\")\n",
    "\n",
    "r2_score = float(np.array(r2_scores).mean())\n",
    "print(f\"{r2_score=}\")"
   ]
  },
  {
   "cell_type": "code",
   "execution_count": 14,
   "id": "92960b19-4719-4c4f-852e-f02f6a5b7fee",
   "metadata": {},
   "outputs": [
    {
     "data": {
      "image/png": "[encoded data removed]",
      "text/plain": [
       "<Figure size 640x480 with 1 Axes>"
      ]
     },
     "metadata": {},
     "output_type": "display_data"
    }
   ],
   "source": [
    "import matplotlib.pyplot as plt\n",
    "\n",
    "plt.hist(r2_scores)\n",
    "plt.show()"
   ]
  },
  {
   "cell_type": "code",
   "execution_count": 15,
   "id": "69e22a6d-df60-4fe0-970a-fc4d9b444186",
   "metadata": {},
   "outputs": [
    {
     "name": "stdout",
     "output_type": "stream",
     "text": [
      "(625000, 369)\n"
     ]
    },
    {
     "data": {
      "text/html": [
       "<div><style>\n",
       ".dataframe > thead > tr,\n",
       ".dataframe > tbody > tr {\n",
       "  text-align: right;\n",
       "  white-space: pre-wrap;\n",
       "}\n",
       "</style>\n",
       "<small>shape: (5, 30)</small><table border=\"1\" class=\"dataframe\"><thead><tr><th>ptend_q0001_59</th><th>ptend_q0002_0</th><th>ptend_q0002_1</th><th>ptend_q0002_2</th><th>ptend_q0002_3</th><th>ptend_q0002_4</th><th>ptend_q0002_5</th><th>ptend_q0002_6</th><th>ptend_q0002_7</th><th>ptend_q0002_8</th><th>ptend_q0002_9</th><th>ptend_q0002_10</th><th>ptend_q0002_11</th><th>ptend_q0002_12</th><th>ptend_q0002_13</th><th>ptend_q0002_14</th><th>ptend_q0002_15</th><th>ptend_q0002_16</th><th>ptend_q0002_17</th><th>ptend_q0002_18</th><th>ptend_q0002_19</th><th>ptend_q0002_20</th><th>ptend_q0002_21</th><th>ptend_q0002_22</th><th>ptend_q0002_23</th><th>ptend_q0002_24</th><th>ptend_q0002_25</th><th>ptend_q0002_26</th><th>ptend_q0002_27</th><th>ptend_q0002_28</th></tr><tr><td>f64</td><td>f64</td><td>f64</td><td>f64</td><td>f64</td><td>f64</td><td>f64</td><td>f64</td><td>f64</td><td>f64</td><td>f64</td><td>f64</td><td>f64</td><td>f64</td><td>f64</td><td>f64</td><td>f64</td><td>f64</td><td>f64</td><td>f64</td><td>f64</td><td>f64</td><td>f64</td><td>f64</td><td>f64</td><td>f64</td><td>f64</td><td>f64</td><td>f64</td><td>f64</td></tr></thead><tbody><tr><td>-3.2238e-8</td><td>0.0</td><td>0.0</td><td>0.0</td><td>0.0</td><td>0.0</td><td>0.0</td><td>0.0</td><td>0.0</td><td>0.0</td><td>0.0</td><td>0.0</td><td>0.0</td><td>0.0</td><td>0.0</td><td>0.0</td><td>0.0</td><td>0.0</td><td>0.0</td><td>0.0</td><td>0.0</td><td>0.0</td><td>0.0</td><td>-0.0</td><td>-3.4732e-52</td><td>-1.1230e-50</td><td>-3.7416e-46</td><td>-0.0</td><td>-0.0</td><td>-3.6225e-41</td></tr><tr><td>1.0373e-9</td><td>0.0</td><td>0.0</td><td>0.0</td><td>0.0</td><td>0.0</td><td>0.0</td><td>0.0</td><td>0.0</td><td>0.0</td><td>0.0</td><td>0.0</td><td>0.0</td><td>0.0</td><td>0.0</td><td>0.0</td><td>0.0</td><td>0.0</td><td>0.0</td><td>0.0</td><td>0.0</td><td>0.0</td><td>0.0</td><td>-0.0</td><td>-0.0</td><td>-0.0</td><td>-4.6953e-38</td><td>-1.1300e-34</td><td>-0.0</td><td>-0.0</td></tr><tr><td>-1.6156e-8</td><td>0.0</td><td>0.0</td><td>0.0</td><td>0.0</td><td>0.0</td><td>0.0</td><td>0.0</td><td>0.0</td><td>0.0</td><td>0.0</td><td>0.0</td><td>0.0</td><td>0.0</td><td>0.0</td><td>0.0</td><td>0.0</td><td>0.0</td><td>0.0</td><td>0.0</td><td>0.0</td><td>0.0</td><td>0.0</td><td>-4.5470e-55</td><td>-4.8672e-50</td><td>-1.7166e-45</td><td>-3.0009e-41</td><td>-1.6681e-36</td><td>-4.6263e-32</td><td>-4.1423e-29</td></tr><tr><td>-9.8703e-8</td><td>0.0</td><td>0.0</td><td>0.0</td><td>0.0</td><td>0.0</td><td>0.0</td><td>0.0</td><td>0.0</td><td>0.0</td><td>0.0</td><td>0.0</td><td>0.0</td><td>0.0</td><td>0.0</td><td>0.0</td><td>0.0</td><td>0.0</td><td>0.0</td><td>0.0</td><td>0.0</td><td>0.0</td><td>0.0</td><td>-0.0</td><td>-0.0</td><td>-0.0</td><td>-0.0</td><td>-2.1850e-33</td><td>-1.4489e-28</td><td>-9.7428e-24</td></tr><tr><td>-1.3557e-10</td><td>0.0</td><td>0.0</td><td>0.0</td><td>0.0</td><td>0.0</td><td>0.0</td><td>0.0</td><td>0.0</td><td>0.0</td><td>0.0</td><td>0.0</td><td>0.0</td><td>0.0</td><td>0.0</td><td>0.0</td><td>0.0</td><td>0.0</td><td>0.0</td><td>0.0</td><td>0.0</td><td>0.0</td><td>0.0</td><td>-1.2989e-46</td><td>-9.8736e-42</td><td>-4.5247e-37</td><td>-1.4539e-32</td><td>-4.3046e-28</td><td>-1.1317e-23</td><td>-1.7664e-19</td></tr></tbody></table></div>"
      ],
      "text/plain": [
       "shape: (5, 30)\n",
       "┌───────────┬───────────┬───────────┬───────────┬───┬───────────┬───────────┬───────────┬──────────┐\n",
       "│ ptend_q00 ┆ ptend_q00 ┆ ptend_q00 ┆ ptend_q00 ┆ … ┆ ptend_q00 ┆ ptend_q00 ┆ ptend_q00 ┆ ptend_q0 │\n",
       "│ 01_59     ┆ 02_0      ┆ 02_1      ┆ 02_2      ┆   ┆ 02_25     ┆ 02_26     ┆ 02_27     ┆ 002_28   │\n",
       "│ ---       ┆ ---       ┆ ---       ┆ ---       ┆   ┆ ---       ┆ ---       ┆ ---       ┆ ---      │\n",
       "│ f64       ┆ f64       ┆ f64       ┆ f64       ┆   ┆ f64       ┆ f64       ┆ f64       ┆ f64      │\n",
       "╞═══════════╪═══════════╪═══════════╪═══════════╪═══╪═══════════╪═══════════╪═══════════╪══════════╡\n",
       "│ -3.2238e- ┆ 0.0       ┆ 0.0       ┆ 0.0       ┆ … ┆ -3.7416e- ┆ -0.0      ┆ -0.0      ┆ -3.6225e │\n",
       "│ 8         ┆           ┆           ┆           ┆   ┆ 46        ┆           ┆           ┆ -41      │\n",
       "│ 1.0373e-9 ┆ 0.0       ┆ 0.0       ┆ 0.0       ┆ … ┆ -4.6953e- ┆ -1.1300e- ┆ -0.0      ┆ -0.0     │\n",
       "│           ┆           ┆           ┆           ┆   ┆ 38        ┆ 34        ┆           ┆          │\n",
       "│ -1.6156e- ┆ 0.0       ┆ 0.0       ┆ 0.0       ┆ … ┆ -3.0009e- ┆ -1.6681e- ┆ -4.6263e- ┆ -4.1423e │\n",
       "│ 8         ┆           ┆           ┆           ┆   ┆ 41        ┆ 36        ┆ 32        ┆ -29      │\n",
       "│ -9.8703e- ┆ 0.0       ┆ 0.0       ┆ 0.0       ┆ … ┆ -0.0      ┆ -2.1850e- ┆ -1.4489e- ┆ -9.7428e │\n",
       "│ 8         ┆           ┆           ┆           ┆   ┆           ┆ 33        ┆ 28        ┆ -24      │\n",
       "│ -1.3557e- ┆ 0.0       ┆ 0.0       ┆ 0.0       ┆ … ┆ -1.4539e- ┆ -4.3046e- ┆ -1.1317e- ┆ -1.7664e │\n",
       "│ 10        ┆           ┆           ┆           ┆   ┆ 32        ┆ 28        ┆ 23        ┆ -19      │\n",
       "└───────────┴───────────┴───────────┴───────────┴───┴───────────┴───────────┴───────────┴──────────┘"
      ]
     },
     "execution_count": 15,
     "metadata": {},
     "output_type": "execute_result"
    }
   ],
   "source": [
    "# hide\n",
    "hide_multi_col_sub_df = hide_submission(multi_col_sub_df)\n",
    "print(hide_multi_col_sub_df.shape)\n",
    "hide_multi_col_sub_df[:, 120:150].head()"
   ]
  },
  {
   "cell_type": "code",
   "execution_count": 17,
   "id": "1b0a454c-2ddd-4218-9626-c0d083007ee4",
   "metadata": {},
   "outputs": [],
   "source": [
    "hide_multi_col_sub_df.write_parquet(\n",
    "    \"output/hide_502_latlon_smoothl1_infer_new_all_001_submission.parquet\"\n",
    ")"
   ]
  },
  {
   "cell_type": "markdown",
   "id": "c5c7f776-3570-4fe7-b713-baf02308b2e3",
   "metadata": {},
   "source": [
    "## timestamp 埋め"
   ]
  },
  {
   "cell_type": "code",
   "execution_count": 19,
   "id": "beffa0ab-4abf-4ac1-9deb-98079ec6547e",
   "metadata": {},
   "outputs": [
    {
     "data": {
      "text/html": [
       "<div><style>\n",
       ".dataframe > thead > tr,\n",
       ".dataframe > tbody > tr {\n",
       "  text-align: right;\n",
       "  white-space: pre-wrap;\n",
       "}\n",
       "</style>\n",
       "<small>shape: (5, 369)</small><table border=\"1\" class=\"dataframe\"><thead><tr><th>sample_id</th><th>ptend_t_0</th><th>ptend_t_1</th><th>ptend_t_2</th><th>ptend_t_3</th><th>ptend_t_4</th><th>ptend_t_5</th><th>ptend_t_6</th><th>ptend_t_7</th><th>ptend_t_8</th><th>ptend_t_9</th><th>ptend_t_10</th><th>ptend_t_11</th><th>ptend_t_12</th><th>ptend_t_13</th><th>ptend_t_14</th><th>ptend_t_15</th><th>ptend_t_16</th><th>ptend_t_17</th><th>ptend_t_18</th><th>ptend_t_19</th><th>ptend_t_20</th><th>ptend_t_21</th><th>ptend_t_22</th><th>ptend_t_23</th><th>ptend_t_24</th><th>ptend_t_25</th><th>ptend_t_26</th><th>ptend_t_27</th><th>ptend_t_28</th><th>ptend_t_29</th><th>ptend_t_30</th><th>ptend_t_31</th><th>ptend_t_32</th><th>ptend_t_33</th><th>ptend_t_34</th><th>ptend_t_35</th><th>&hellip;</th><th>ptend_v_31</th><th>ptend_v_32</th><th>ptend_v_33</th><th>ptend_v_34</th><th>ptend_v_35</th><th>ptend_v_36</th><th>ptend_v_37</th><th>ptend_v_38</th><th>ptend_v_39</th><th>ptend_v_40</th><th>ptend_v_41</th><th>ptend_v_42</th><th>ptend_v_43</th><th>ptend_v_44</th><th>ptend_v_45</th><th>ptend_v_46</th><th>ptend_v_47</th><th>ptend_v_48</th><th>ptend_v_49</th><th>ptend_v_50</th><th>ptend_v_51</th><th>ptend_v_52</th><th>ptend_v_53</th><th>ptend_v_54</th><th>ptend_v_55</th><th>ptend_v_56</th><th>ptend_v_57</th><th>ptend_v_58</th><th>ptend_v_59</th><th>cam_out_NETSW</th><th>cam_out_FLWDS</th><th>cam_out_PRECSC</th><th>cam_out_PRECC</th><th>cam_out_SOLS</th><th>cam_out_SOLL</th><th>cam_out_SOLSD</th><th>cam_out_SOLLD</th></tr><tr><td>str</td><td>f64</td><td>f64</td><td>f64</td><td>f64</td><td>f64</td><td>f64</td><td>f64</td><td>f64</td><td>f64</td><td>f64</td><td>f64</td><td>f64</td><td>f64</td><td>f64</td><td>f64</td><td>f64</td><td>f64</td><td>f64</td><td>f64</td><td>f64</td><td>f64</td><td>f64</td><td>f64</td><td>f64</td><td>f64</td><td>f64</td><td>f64</td><td>f64</td><td>f64</td><td>f64</td><td>f64</td><td>f64</td><td>f64</td><td>f64</td><td>f64</td><td>f64</td><td>&hellip;</td><td>f64</td><td>f64</td><td>f64</td><td>f64</td><td>f64</td><td>f64</td><td>f64</td><td>f64</td><td>f64</td><td>f64</td><td>f64</td><td>f64</td><td>f64</td><td>f64</td><td>f64</td><td>f64</td><td>f64</td><td>f64</td><td>f64</td><td>f64</td><td>f64</td><td>f64</td><td>f64</td><td>f64</td><td>f64</td><td>f64</td><td>f64</td><td>f64</td><td>f64</td><td>f64</td><td>f64</td><td>f64</td><td>f64</td><td>f64</td><td>f64</td><td>f64</td><td>f64</td></tr></thead><tbody><tr><td>&quot;test_99994&quot;</td><td>0.00005</td><td>-0.000014</td><td>0.000016</td><td>0.000092</td><td>0.000123</td><td>0.000154</td><td>0.000134</td><td>0.000101</td><td>0.000064</td><td>0.000046</td><td>0.000037</td><td>0.000031</td><td>0.000023</td><td>0.000017</td><td>0.000011</td><td>0.00001</td><td>0.000009</td><td>0.000005</td><td>0.000003</td><td>0.000006</td><td>0.000006</td><td>-0.000001</td><td>-0.000008</td><td>0.000003</td><td>-0.000004</td><td>-0.000003</td><td>-0.000007</td><td>-0.000024</td><td>-0.000027</td><td>-0.000007</td><td>-0.000019</td><td>-0.00002</td><td>-0.000004</td><td>-0.000011</td><td>-0.000009</td><td>-0.000013</td><td>&hellip;</td><td>0.000018</td><td>-0.000009</td><td>-0.000014</td><td>-0.000019</td><td>-0.000008</td><td>-0.000002</td><td>-0.000008</td><td>-0.000024</td><td>-0.000039</td><td>-0.000042</td><td>-0.000034</td><td>-0.000014</td><td>-0.000007</td><td>0.000005</td><td>0.000005</td><td>0.000009</td><td>0.000015</td><td>0.000017</td><td>0.000026</td><td>0.000057</td><td>0.00006</td><td>0.000051</td><td>0.000039</td><td>0.000026</td><td>0.000014</td><td>0.000005</td><td>7.9935e-7</td><td>8.0221e-7</td><td>0.000005</td><td>374.145874</td><td>400.883399</td><td>4.6892e-11</td><td>6.6643e-8</td><td>159.981086</td><td>166.362864</td><td>60.629005</td><td>25.554155</td></tr><tr><td>&quot;test_99995&quot;</td><td>0.000008</td><td>-0.000058</td><td>-0.000152</td><td>-0.000074</td><td>-0.000063</td><td>-0.000054</td><td>-0.000045</td><td>-0.000037</td><td>-0.000029</td><td>-0.000021</td><td>-0.000015</td><td>-0.000011</td><td>-0.000009</td><td>-0.000008</td><td>-0.000008</td><td>-0.000008</td><td>-0.000007</td><td>-0.000007</td><td>-0.000006</td><td>-0.000006</td><td>-0.000005</td><td>-0.000004</td><td>-0.000004</td><td>-0.000004</td><td>-0.000003</td><td>-0.000003</td><td>-0.000003</td><td>-0.000004</td><td>-0.000004</td><td>-0.000006</td><td>-0.000006</td><td>-0.000006</td><td>-0.000007</td><td>-0.000006</td><td>-0.000008</td><td>-0.000007</td><td>&hellip;</td><td>-2.3105e-8</td><td>-2.5482e-8</td><td>-3.1484e-8</td><td>-7.3379e-9</td><td>-2.3304e-8</td><td>-9.3158e-9</td><td>-2.7665e-8</td><td>-1.0579e-8</td><td>-2.3535e-12</td><td>-9.5928e-10</td><td>-1.6203e-8</td><td>-9.3337e-9</td><td>7.8392e-9</td><td>-5.3038e-9</td><td>-1.3000e-8</td><td>-1.4621e-8</td><td>3.8273e-9</td><td>-3.2322e-8</td><td>-4.5684e-8</td><td>-1.4936e-8</td><td>4.4368e-8</td><td>4.3760e-8</td><td>3.2295e-8</td><td>-2.4409e-8</td><td>-3.0973e-8</td><td>7.5367e-7</td><td>1.3501e-7</td><td>0.000006</td><td>-0.000008</td><td>-2.634993</td><td>130.157033</td><td>1.9060e-9</td><td>2.7167e-9</td><td>-0.234532</td><td>2.102584</td><td>-0.393977</td><td>-1.247709</td></tr><tr><td>&quot;test_99996&quot;</td><td>0.000031</td><td>0.000006</td><td>0.000015</td><td>0.000023</td><td>0.000037</td><td>0.000059</td><td>0.000054</td><td>0.000037</td><td>0.000022</td><td>0.000014</td><td>0.000009</td><td>0.000006</td><td>0.000004</td><td>0.000004</td><td>0.000005</td><td>0.000004</td><td>0.000004</td><td>0.000001</td><td>0.000002</td><td>-2.3788e-8</td><td>4.9351e-8</td><td>-1.5949e-7</td><td>-5.0052e-7</td><td>-8.6544e-7</td><td>-0.000001</td><td>-0.000001</td><td>-0.000001</td><td>-8.6544e-7</td><td>-8.1495e-7</td><td>-0.000001</td><td>-0.000001</td><td>-0.000002</td><td>-0.000002</td><td>-0.000002</td><td>-0.000002</td><td>-0.000003</td><td>&hellip;</td><td>-5.2730e-9</td><td>-4.0718e-10</td><td>1.8095e-10</td><td>3.7128e-9</td><td>-1.3064e-9</td><td>5.9373e-9</td><td>1.9330e-8</td><td>8.8009e-9</td><td>2.2802e-8</td><td>-2.0961e-10</td><td>1.1089e-9</td><td>-1.0145e-8</td><td>-1.6338e-10</td><td>7.9844e-9</td><td>-1.8286e-8</td><td>5.5609e-9</td><td>-1.7030e-8</td><td>-6.1971e-9</td><td>6.5645e-9</td><td>-8.3043e-9</td><td>-5.9426e-9</td><td>-1.1473e-8</td><td>-4.1505e-8</td><td>-6.8709e-8</td><td>-1.7125e-8</td><td>-4.5540e-8</td><td>-4.4208e-9</td><td>-4.2289e-8</td><td>-8.9592e-8</td><td>68.148364</td><td>179.68733</td><td>5.8668e-9</td><td>4.7717e-9</td><td>118.497924</td><td>177.037129</td><td>62.796541</td><td>17.045815</td></tr><tr><td>&quot;test_99997&quot;</td><td>-0.000018</td><td>-0.000014</td><td>-0.000037</td><td>-0.000055</td><td>-0.00008</td><td>-0.000107</td><td>-0.000098</td><td>-0.000067</td><td>-0.000044</td><td>-0.000036</td><td>-0.000027</td><td>-0.00002</td><td>-0.000013</td><td>-0.000009</td><td>-0.000002</td><td>0.000001</td><td>0.000004</td><td>0.000004</td><td>0.000001</td><td>0.000002</td><td>-0.000007</td><td>-0.000006</td><td>-0.000008</td><td>-0.000015</td><td>-0.00002</td><td>-0.000018</td><td>-0.000032</td><td>-0.000036</td><td>-0.000027</td><td>-0.000024</td><td>-0.000029</td><td>-0.00002</td><td>-0.000018</td><td>-0.000039</td><td>-0.000028</td><td>-0.000028</td><td>&hellip;</td><td>-1.4143e-7</td><td>-0.000002</td><td>-0.000002</td><td>-0.000001</td><td>2.7967e-8</td><td>-0.000001</td><td>0.000001</td><td>0.000007</td><td>-0.000018</td><td>-0.000028</td><td>-0.000012</td><td>-0.000003</td><td>0.000009</td><td>0.000022</td><td>0.000029</td><td>0.00003</td><td>0.000029</td><td>0.000024</td><td>0.000018</td><td>0.000011</td><td>0.000004</td><td>-0.000003</td><td>-0.000009</td><td>-0.000014</td><td>-0.000019</td><td>-0.000023</td><td>-0.000026</td><td>-0.000024</td><td>-0.000021</td><td>3.867929</td><td>382.032495</td><td>1.6660e-10</td><td>-2.6780e-9</td><td>4.621925</td><td>7.830369</td><td>-0.364605</td><td>-0.199668</td></tr><tr><td>&quot;test_99998&quot;</td><td>0.000035</td><td>0.000027</td><td>0.000079</td><td>0.000091</td><td>0.000107</td><td>0.000093</td><td>0.000066</td><td>0.000057</td><td>0.000036</td><td>0.000025</td><td>0.000017</td><td>0.000014</td><td>0.000011</td><td>0.00001</td><td>0.000007</td><td>0.000004</td><td>0.000002</td><td>8.5940e-7</td><td>7.9568e-7</td><td>-2.7170e-7</td><td>3.2958e-7</td><td>-0.000001</td><td>-0.000004</td><td>8.2136e-7</td><td>-0.000002</td><td>-0.000009</td><td>-0.000008</td><td>-0.000007</td><td>-0.000003</td><td>-0.000005</td><td>-0.000011</td><td>-0.000008</td><td>-0.000008</td><td>-0.000011</td><td>-0.000016</td><td>-0.000017</td><td>&hellip;</td><td>-0.000001</td><td>-0.000001</td><td>-9.6303e-7</td><td>-7.1103e-7</td><td>-3.4623e-7</td><td>-3.9314e-7</td><td>-7.5467e-7</td><td>-0.000002</td><td>-0.000003</td><td>-0.000006</td><td>-0.000011</td><td>-0.000034</td><td>-0.000035</td><td>-0.000025</td><td>-0.000007</td><td>0.000009</td><td>0.00002</td><td>0.000027</td><td>0.000025</td><td>0.000021</td><td>0.000018</td><td>0.000023</td><td>0.000033</td><td>0.000039</td><td>0.000049</td><td>0.000008</td><td>-0.000022</td><td>-0.000015</td><td>-0.000017</td><td>186.810509</td><td>336.484449</td><td>7.2382e-10</td><td>1.6161e-7</td><td>63.972196</td><td>83.514758</td><td>41.866045</td><td>25.583784</td></tr></tbody></table></div>"
      ],
      "text/plain": [
       "shape: (5, 369)\n",
       "┌───────────┬───────────┬───────────┬───────────┬───┬───────────┬───────────┬───────────┬──────────┐\n",
       "│ sample_id ┆ ptend_t_0 ┆ ptend_t_1 ┆ ptend_t_2 ┆ … ┆ cam_out_S ┆ cam_out_S ┆ cam_out_S ┆ cam_out_ │\n",
       "│ ---       ┆ ---       ┆ ---       ┆ ---       ┆   ┆ OLS       ┆ OLL       ┆ OLSD      ┆ SOLLD    │\n",
       "│ str       ┆ f64       ┆ f64       ┆ f64       ┆   ┆ ---       ┆ ---       ┆ ---       ┆ ---      │\n",
       "│           ┆           ┆           ┆           ┆   ┆ f64       ┆ f64       ┆ f64       ┆ f64      │\n",
       "╞═══════════╪═══════════╪═══════════╪═══════════╪═══╪═══════════╪═══════════╪═══════════╪══════════╡\n",
       "│ test_9999 ┆ 0.00005   ┆ -0.000014 ┆ 0.000016  ┆ … ┆ 159.98108 ┆ 166.36286 ┆ 60.629005 ┆ 25.55415 │\n",
       "│ 4         ┆           ┆           ┆           ┆   ┆ 6         ┆ 4         ┆           ┆ 5        │\n",
       "│ test_9999 ┆ 0.000008  ┆ -0.000058 ┆ -0.000152 ┆ … ┆ -0.234532 ┆ 2.102584  ┆ -0.393977 ┆ -1.24770 │\n",
       "│ 5         ┆           ┆           ┆           ┆   ┆           ┆           ┆           ┆ 9        │\n",
       "│ test_9999 ┆ 0.000031  ┆ 0.000006  ┆ 0.000015  ┆ … ┆ 118.49792 ┆ 177.03712 ┆ 62.796541 ┆ 17.04581 │\n",
       "│ 6         ┆           ┆           ┆           ┆   ┆ 4         ┆ 9         ┆           ┆ 5        │\n",
       "│ test_9999 ┆ -0.000018 ┆ -0.000014 ┆ -0.000037 ┆ … ┆ 4.621925  ┆ 7.830369  ┆ -0.364605 ┆ -0.19966 │\n",
       "│ 7         ┆           ┆           ┆           ┆   ┆           ┆           ┆           ┆ 8        │\n",
       "│ test_9999 ┆ 0.000035  ┆ 0.000027  ┆ 0.000079  ┆ … ┆ 63.972196 ┆ 83.514758 ┆ 41.866045 ┆ 25.58378 │\n",
       "│ 8         ┆           ┆           ┆           ┆   ┆           ┆           ┆           ┆ 4        │\n",
       "└───────────┴───────────┴───────────┴───────────┴───┴───────────┴───────────┴───────────┴──────────┘"
      ]
     },
     "execution_count": 19,
     "metadata": {},
     "output_type": "execute_result"
    }
   ],
   "source": [
    "time_sub_path = \"gs://kaggle-leap/kami/experiments/610_sim6/all/submission.parquet\"\n",
    "time_sub_df = pl.read_parquet(time_sub_path)\n",
    "time_sub_df.tail()"
   ]
  },
  {
   "cell_type": "code",
   "execution_count": 20,
   "id": "74dcc562-da35-4187-8e8c-1a6ccf9338c8",
   "metadata": {},
   "outputs": [],
   "source": [
    "class_exps = [\"704_diff_top3/all\"]"
   ]
  },
  {
   "cell_type": "code",
   "execution_count": 21,
   "id": "5801d606-6b4f-4d83-8ea3-68b4eefa0d1f",
   "metadata": {},
   "outputs": [
    {
     "data": {
      "text/html": [
       "<div><style>\n",
       ".dataframe > thead > tr,\n",
       ".dataframe > tbody > tr {\n",
       "  text-align: right;\n",
       "  white-space: pre-wrap;\n",
       "}\n",
       "</style>\n",
       "<small>shape: (5, 12)</small><table border=\"1\" class=\"dataframe\"><thead><tr><th>index</th><th>0</th><th>1</th><th>2</th><th>3</th><th>4</th><th>5</th><th>6</th><th>7</th><th>8</th><th>9</th><th>10</th></tr><tr><td>i64</td><td>f32</td><td>f32</td><td>f32</td><td>f32</td><td>f32</td><td>f32</td><td>f32</td><td>f32</td><td>f32</td><td>f32</td><td>f32</td></tr></thead><tbody><tr><td>624995</td><td>0.999998</td><td>3.5536e-7</td><td>2.8944e-12</td><td>3.9998e-9</td><td>1.3041e-9</td><td>6.6387e-8</td><td>7.7986e-9</td><td>1.0392e-9</td><td>1.2641e-7</td><td>7.0632e-9</td><td>9.2192e-7</td></tr><tr><td>624996</td><td>0.000011</td><td>0.99997</td><td>0.000016</td><td>3.0027e-9</td><td>5.7119e-11</td><td>1.5711e-11</td><td>0.000003</td><td>7.9003e-10</td><td>2.6562e-11</td><td>9.9551e-12</td><td>2.6195e-7</td></tr><tr><td>624997</td><td>1.0</td><td>9.5750e-8</td><td>7.9714e-13</td><td>2.2783e-11</td><td>7.0562e-14</td><td>7.0815e-12</td><td>2.6643e-7</td><td>4.0843e-11</td><td>1.0627e-8</td><td>9.3115e-11</td><td>4.0896e-9</td></tr><tr><td>624998</td><td>2.7905e-8</td><td>0.999998</td><td>3.3991e-8</td><td>3.9214e-8</td><td>0.000001</td><td>3.6363e-11</td><td>2.4577e-8</td><td>1.8824e-10</td><td>2.0587e-9</td><td>5.1136e-12</td><td>4.2765e-7</td></tr><tr><td>624999</td><td>4.7162e-7</td><td>5.6062e-7</td><td>5.3258e-10</td><td>3.1356e-12</td><td>5.2200e-9</td><td>0.000001</td><td>1.5995e-7</td><td>2.9758e-9</td><td>1.0296e-9</td><td>3.3948e-7</td><td>0.999997</td></tr></tbody></table></div>"
      ],
      "text/plain": [
       "shape: (5, 12)\n",
       "┌────────┬───────────┬───────────┬────────────┬───┬────────────┬───────────┬───────────┬───────────┐\n",
       "│ index  ┆ 0         ┆ 1         ┆ 2          ┆ … ┆ 7          ┆ 8         ┆ 9         ┆ 10        │\n",
       "│ ---    ┆ ---       ┆ ---       ┆ ---        ┆   ┆ ---        ┆ ---       ┆ ---       ┆ ---       │\n",
       "│ i64    ┆ f32       ┆ f32       ┆ f32        ┆   ┆ f32        ┆ f32       ┆ f32       ┆ f32       │\n",
       "╞════════╪═══════════╪═══════════╪════════════╪═══╪════════════╪═══════════╪═══════════╪═══════════╡\n",
       "│ 624995 ┆ 0.999998  ┆ 3.5536e-7 ┆ 2.8944e-12 ┆ … ┆ 1.0392e-9  ┆ 1.2641e-7 ┆ 7.0632e-9 ┆ 9.2192e-7 │\n",
       "│ 624996 ┆ 0.000011  ┆ 0.99997   ┆ 0.000016   ┆ … ┆ 7.9003e-10 ┆ 2.6562e-1 ┆ 9.9551e-1 ┆ 2.6195e-7 │\n",
       "│        ┆           ┆           ┆            ┆   ┆            ┆ 1         ┆ 2         ┆           │\n",
       "│ 624997 ┆ 1.0       ┆ 9.5750e-8 ┆ 7.9714e-13 ┆ … ┆ 4.0843e-11 ┆ 1.0627e-8 ┆ 9.3115e-1 ┆ 4.0896e-9 │\n",
       "│        ┆           ┆           ┆            ┆   ┆            ┆           ┆ 1         ┆           │\n",
       "│ 624998 ┆ 2.7905e-8 ┆ 0.999998  ┆ 3.3991e-8  ┆ … ┆ 1.8824e-10 ┆ 2.0587e-9 ┆ 5.1136e-1 ┆ 4.2765e-7 │\n",
       "│        ┆           ┆           ┆            ┆   ┆            ┆           ┆ 2         ┆           │\n",
       "│ 624999 ┆ 4.7162e-7 ┆ 5.6062e-7 ┆ 5.3258e-10 ┆ … ┆ 2.9758e-9  ┆ 1.0296e-9 ┆ 3.3948e-7 ┆ 0.999997  │\n",
       "└────────┴───────────┴───────────┴────────────┴───┴────────────┴───────────┴───────────┴───────────┘"
      ]
     },
     "execution_count": 21,
     "metadata": {},
     "output_type": "execute_result"
    }
   ],
   "source": [
    "class_preds_list = []\n",
    "for class_exp in class_exps:\n",
    "    class_pred_df = pl.read_parquet(\n",
    "        f\"gs://kaggle-leap/kami/experiments/{class_exp}/test_predict1.parquet\"\n",
    "    )\n",
    "    class_preds = class_pred_df.get_column(\"0\").to_numpy().reshape(-1)\n",
    "    class_preds_list.append(class_preds)\n",
    "class_preds = np.mean(class_preds_list, axis=0)\n",
    "\n",
    "class_pred_df.tail()"
   ]
  },
  {
   "cell_type": "code",
   "execution_count": 24,
   "id": "241906bb-e57e-4082-8d2b-205372d43d37",
   "metadata": {},
   "outputs": [
    {
     "name": "stdout",
     "output_type": "stream",
     "text": [
      "replace num:120881 rate:0.1934096\n"
     ]
    }
   ],
   "source": [
    "# 閾値以上の行について、カラムごとにR2を計算して一定値以上であれば置き換えを行う\n",
    "from sklearn.metrics import r2_score\n",
    "\n",
    "threshold = 0.99995\n",
    "replace_index = class_preds > threshold\n",
    "print(f\"replace num:{replace_index.sum()} rate:{replace_index.sum()/len(class_preds)}\")\n",
    "\n",
    "replace_sub_df = multi_col_sub_df.clone()\n",
    "r2_score_vals = []\n",
    "\n",
    "for col in multi_col_sub_df.columns[1:]:\n",
    "    time_pred = time_sub_df[col].to_numpy()\n",
    "    base_pred = multi_col_sub_df[col].to_numpy()\n",
    "    r2_score_val = r2_score(\n",
    "        base_pred[replace_index],\n",
    "        time_pred[replace_index],\n",
    "    )\n",
    "    r2_score_val2 = r2_score(\n",
    "        time_pred[replace_index],\n",
    "        base_pred[replace_index],\n",
    "    )\n",
    "    if (r2_score_val > 0.5) & (r2_score_val2 > 0.5):\n",
    "        replace_pred = multi_col_sub_df[col].to_numpy().copy()\n",
    "        replace_pred[replace_index] = time_pred[replace_index]\n",
    "        replace_sub_df = replace_sub_df.with_columns(\n",
    "            pl.Series(name=col, values=replace_pred)\n",
    "        )\n",
    "        r2_score_vals.append(r2_score_val)\n",
    "    else:\n",
    "        print(col, r2_score_val, r2_score_val2)"
   ]
  },
  {
   "cell_type": "code",
   "execution_count": null,
   "id": "8103686a-9887-4152-b1ae-8e0439c31dc4",
   "metadata": {},
   "outputs": [],
   "source": [
    "replace_sub_df.write_parquet(\n",
    "    \"output/502_latlon_smoothl1_infer_new_all_001_610_sim6_all_submission.parquet\"\n",
    ")\n",
    "replace_sub_df.head()"
   ]
  },
  {
   "cell_type": "code",
   "execution_count": null,
   "id": "15f6cbb1-b99c-4f1b-9188-3617dbf261d9",
   "metadata": {},
   "outputs": [],
   "source": []
  },
  {
   "cell_type": "markdown",
   "id": "689276be-53b5-4f69-8545-fdc4c6443795",
   "metadata": {},
   "source": [
    "## similarity が低いやつを削除(不要)"
   ]
  },
  {
   "cell_type": "code",
   "execution_count": 11,
   "id": "e50238bf-f6d9-48f0-9b36-90fb60473bb6",
   "metadata": {},
   "outputs": [
    {
     "data": {
      "text/html": [
       "<style>#sk-container-id-1 {\n",
       "  /* Definition of color scheme common for light and dark mode */\n",
       "  --sklearn-color-text: black;\n",
       "  --sklearn-color-line: gray;\n",
       "  /* Definition of color scheme for unfitted estimators */\n",
       "  --sklearn-color-unfitted-level-0: #fff5e6;\n",
       "  --sklearn-color-unfitted-level-1: #f6e4d2;\n",
       "  --sklearn-color-unfitted-level-2: #ffe0b3;\n",
       "  --sklearn-color-unfitted-level-3: chocolate;\n",
       "  /* Definition of color scheme for fitted estimators */\n",
       "  --sklearn-color-fitted-level-0: #f0f8ff;\n",
       "  --sklearn-color-fitted-level-1: #d4ebff;\n",
       "  --sklearn-color-fitted-level-2: #b3dbfd;\n",
       "  --sklearn-color-fitted-level-3: cornflowerblue;\n",
       "\n",
       "  /* Specific color for light theme */\n",
       "  --sklearn-color-text-on-default-background: var(--sg-text-color, var(--theme-code-foreground, var(--jp-content-font-color1, black)));\n",
       "  --sklearn-color-background: var(--sg-background-color, var(--theme-background, var(--jp-layout-color0, white)));\n",
       "  --sklearn-color-border-box: var(--sg-text-color, var(--theme-code-foreground, var(--jp-content-font-color1, black)));\n",
       "  --sklearn-color-icon: #696969;\n",
       "\n",
       "  @media (prefers-color-scheme: dark) {\n",
       "    /* Redefinition of color scheme for dark theme */\n",
       "    --sklearn-color-text-on-default-background: var(--sg-text-color, var(--theme-code-foreground, var(--jp-content-font-color1, white)));\n",
       "    --sklearn-color-background: var(--sg-background-color, var(--theme-background, var(--jp-layout-color0, #111)));\n",
       "    --sklearn-color-border-box: var(--sg-text-color, var(--theme-code-foreground, var(--jp-content-font-color1, white)));\n",
       "    --sklearn-color-icon: #878787;\n",
       "  }\n",
       "}\n",
       "\n",
       "#sk-container-id-1 {\n",
       "  color: var(--sklearn-color-text);\n",
       "}\n",
       "\n",
       "#sk-container-id-1 pre {\n",
       "  padding: 0;\n",
       "}\n",
       "\n",
       "#sk-container-id-1 input.sk-hidden--visually {\n",
       "  border: 0;\n",
       "  clip: rect(1px 1px 1px 1px);\n",
       "  clip: rect(1px, 1px, 1px, 1px);\n",
       "  height: 1px;\n",
       "  margin: -1px;\n",
       "  overflow: hidden;\n",
       "  padding: 0;\n",
       "  position: absolute;\n",
       "  width: 1px;\n",
       "}\n",
       "\n",
       "#sk-container-id-1 div.sk-dashed-wrapped {\n",
       "  border: 1px dashed var(--sklearn-color-line);\n",
       "  margin: 0 0.4em 0.5em 0.4em;\n",
       "  box-sizing: border-box;\n",
       "  padding-bottom: 0.4em;\n",
       "  background-color: var(--sklearn-color-background);\n",
       "}\n",
       "\n",
       "#sk-container-id-1 div.sk-container {\n",
       "  /* jupyter's `normalize.less` sets `[hidden] { display: none; }`\n",
       "     but bootstrap.min.css set `[hidden] { display: none !important; }`\n",
       "     so we also need the `!important` here to be able to override the\n",
       "     default hidden behavior on the sphinx rendered scikit-learn.org.\n",
       "     See: https://github.com/scikit-learn/scikit-learn/issues/21755 */\n",
       "  display: inline-block !important;\n",
       "  position: relative;\n",
       "}\n",
       "\n",
       "#sk-container-id-1 div.sk-text-repr-fallback {\n",
       "  display: none;\n",
       "}\n",
       "\n",
       "div.sk-parallel-item,\n",
       "div.sk-serial,\n",
       "div.sk-item {\n",
       "  /* draw centered vertical line to link estimators */\n",
       "  background-image: linear-gradient(var(--sklearn-color-text-on-default-background), var(--sklearn-color-text-on-default-background));\n",
       "  background-size: 2px 100%;\n",
       "  background-repeat: no-repeat;\n",
       "  background-position: center center;\n",
       "}\n",
       "\n",
       "/* Parallel-specific style estimator block */\n",
       "\n",
       "#sk-container-id-1 div.sk-parallel-item::after {\n",
       "  content: \"\";\n",
       "  width: 100%;\n",
       "  border-bottom: 2px solid var(--sklearn-color-text-on-default-background);\n",
       "  flex-grow: 1;\n",
       "}\n",
       "\n",
       "#sk-container-id-1 div.sk-parallel {\n",
       "  display: flex;\n",
       "  align-items: stretch;\n",
       "  justify-content: center;\n",
       "  background-color: var(--sklearn-color-background);\n",
       "  position: relative;\n",
       "}\n",
       "\n",
       "#sk-container-id-1 div.sk-parallel-item {\n",
       "  display: flex;\n",
       "  flex-direction: column;\n",
       "}\n",
       "\n",
       "#sk-container-id-1 div.sk-parallel-item:first-child::after {\n",
       "  align-self: flex-end;\n",
       "  width: 50%;\n",
       "}\n",
       "\n",
       "#sk-container-id-1 div.sk-parallel-item:last-child::after {\n",
       "  align-self: flex-start;\n",
       "  width: 50%;\n",
       "}\n",
       "\n",
       "#sk-container-id-1 div.sk-parallel-item:only-child::after {\n",
       "  width: 0;\n",
       "}\n",
       "\n",
       "/* Serial-specific style estimator block */\n",
       "\n",
       "#sk-container-id-1 div.sk-serial {\n",
       "  display: flex;\n",
       "  flex-direction: column;\n",
       "  align-items: center;\n",
       "  background-color: var(--sklearn-color-background);\n",
       "  padding-right: 1em;\n",
       "  padding-left: 1em;\n",
       "}\n",
       "\n",
       "\n",
       "/* Toggleable style: style used for estimator/Pipeline/ColumnTransformer box that is\n",
       "clickable and can be expanded/collapsed.\n",
       "- Pipeline and ColumnTransformer use this feature and define the default style\n",
       "- Estimators will overwrite some part of the style using the `sk-estimator` class\n",
       "*/\n",
       "\n",
       "/* Pipeline and ColumnTransformer style (default) */\n",
       "\n",
       "#sk-container-id-1 div.sk-toggleable {\n",
       "  /* Default theme specific background. It is overwritten whether we have a\n",
       "  specific estimator or a Pipeline/ColumnTransformer */\n",
       "  background-color: var(--sklearn-color-background);\n",
       "}\n",
       "\n",
       "/* Toggleable label */\n",
       "#sk-container-id-1 label.sk-toggleable__label {\n",
       "  cursor: pointer;\n",
       "  display: block;\n",
       "  width: 100%;\n",
       "  margin-bottom: 0;\n",
       "  padding: 0.5em;\n",
       "  box-sizing: border-box;\n",
       "  text-align: center;\n",
       "}\n",
       "\n",
       "#sk-container-id-1 label.sk-toggleable__label-arrow:before {\n",
       "  /* Arrow on the left of the label */\n",
       "  content: \"▸\";\n",
       "  float: left;\n",
       "  margin-right: 0.25em;\n",
       "  color: var(--sklearn-color-icon);\n",
       "}\n",
       "\n",
       "#sk-container-id-1 label.sk-toggleable__label-arrow:hover:before {\n",
       "  color: var(--sklearn-color-text);\n",
       "}\n",
       "\n",
       "/* Toggleable content - dropdown */\n",
       "\n",
       "#sk-container-id-1 div.sk-toggleable__content {\n",
       "  max-height: 0;\n",
       "  max-width: 0;\n",
       "  overflow: hidden;\n",
       "  text-align: left;\n",
       "  /* unfitted */\n",
       "  background-color: var(--sklearn-color-unfitted-level-0);\n",
       "}\n",
       "\n",
       "#sk-container-id-1 div.sk-toggleable__content.fitted {\n",
       "  /* fitted */\n",
       "  background-color: var(--sklearn-color-fitted-level-0);\n",
       "}\n",
       "\n",
       "#sk-container-id-1 div.sk-toggleable__content pre {\n",
       "  margin: 0.2em;\n",
       "  border-radius: 0.25em;\n",
       "  color: var(--sklearn-color-text);\n",
       "  /* unfitted */\n",
       "  background-color: var(--sklearn-color-unfitted-level-0);\n",
       "}\n",
       "\n",
       "#sk-container-id-1 div.sk-toggleable__content.fitted pre {\n",
       "  /* unfitted */\n",
       "  background-color: var(--sklearn-color-fitted-level-0);\n",
       "}\n",
       "\n",
       "#sk-container-id-1 input.sk-toggleable__control:checked~div.sk-toggleable__content {\n",
       "  /* Expand drop-down */\n",
       "  max-height: 200px;\n",
       "  max-width: 100%;\n",
       "  overflow: auto;\n",
       "}\n",
       "\n",
       "#sk-container-id-1 input.sk-toggleable__control:checked~label.sk-toggleable__label-arrow:before {\n",
       "  content: \"▾\";\n",
       "}\n",
       "\n",
       "/* Pipeline/ColumnTransformer-specific style */\n",
       "\n",
       "#sk-container-id-1 div.sk-label input.sk-toggleable__control:checked~label.sk-toggleable__label {\n",
       "  color: var(--sklearn-color-text);\n",
       "  background-color: var(--sklearn-color-unfitted-level-2);\n",
       "}\n",
       "\n",
       "#sk-container-id-1 div.sk-label.fitted input.sk-toggleable__control:checked~label.sk-toggleable__label {\n",
       "  background-color: var(--sklearn-color-fitted-level-2);\n",
       "}\n",
       "\n",
       "/* Estimator-specific style */\n",
       "\n",
       "/* Colorize estimator box */\n",
       "#sk-container-id-1 div.sk-estimator input.sk-toggleable__control:checked~label.sk-toggleable__label {\n",
       "  /* unfitted */\n",
       "  background-color: var(--sklearn-color-unfitted-level-2);\n",
       "}\n",
       "\n",
       "#sk-container-id-1 div.sk-estimator.fitted input.sk-toggleable__control:checked~label.sk-toggleable__label {\n",
       "  /* fitted */\n",
       "  background-color: var(--sklearn-color-fitted-level-2);\n",
       "}\n",
       "\n",
       "#sk-container-id-1 div.sk-label label.sk-toggleable__label,\n",
       "#sk-container-id-1 div.sk-label label {\n",
       "  /* The background is the default theme color */\n",
       "  color: var(--sklearn-color-text-on-default-background);\n",
       "}\n",
       "\n",
       "/* On hover, darken the color of the background */\n",
       "#sk-container-id-1 div.sk-label:hover label.sk-toggleable__label {\n",
       "  color: var(--sklearn-color-text);\n",
       "  background-color: var(--sklearn-color-unfitted-level-2);\n",
       "}\n",
       "\n",
       "/* Label box, darken color on hover, fitted */\n",
       "#sk-container-id-1 div.sk-label.fitted:hover label.sk-toggleable__label.fitted {\n",
       "  color: var(--sklearn-color-text);\n",
       "  background-color: var(--sklearn-color-fitted-level-2);\n",
       "}\n",
       "\n",
       "/* Estimator label */\n",
       "\n",
       "#sk-container-id-1 div.sk-label label {\n",
       "  font-family: monospace;\n",
       "  font-weight: bold;\n",
       "  display: inline-block;\n",
       "  line-height: 1.2em;\n",
       "}\n",
       "\n",
       "#sk-container-id-1 div.sk-label-container {\n",
       "  text-align: center;\n",
       "}\n",
       "\n",
       "/* Estimator-specific */\n",
       "#sk-container-id-1 div.sk-estimator {\n",
       "  font-family: monospace;\n",
       "  border: 1px dotted var(--sklearn-color-border-box);\n",
       "  border-radius: 0.25em;\n",
       "  box-sizing: border-box;\n",
       "  margin-bottom: 0.5em;\n",
       "  /* unfitted */\n",
       "  background-color: var(--sklearn-color-unfitted-level-0);\n",
       "}\n",
       "\n",
       "#sk-container-id-1 div.sk-estimator.fitted {\n",
       "  /* fitted */\n",
       "  background-color: var(--sklearn-color-fitted-level-0);\n",
       "}\n",
       "\n",
       "/* on hover */\n",
       "#sk-container-id-1 div.sk-estimator:hover {\n",
       "  /* unfitted */\n",
       "  background-color: var(--sklearn-color-unfitted-level-2);\n",
       "}\n",
       "\n",
       "#sk-container-id-1 div.sk-estimator.fitted:hover {\n",
       "  /* fitted */\n",
       "  background-color: var(--sklearn-color-fitted-level-2);\n",
       "}\n",
       "\n",
       "/* Specification for estimator info (e.g. \"i\" and \"?\") */\n",
       "\n",
       "/* Common style for \"i\" and \"?\" */\n",
       "\n",
       ".sk-estimator-doc-link,\n",
       "a:link.sk-estimator-doc-link,\n",
       "a:visited.sk-estimator-doc-link {\n",
       "  float: right;\n",
       "  font-size: smaller;\n",
       "  line-height: 1em;\n",
       "  font-family: monospace;\n",
       "  background-color: var(--sklearn-color-background);\n",
       "  border-radius: 1em;\n",
       "  height: 1em;\n",
       "  width: 1em;\n",
       "  text-decoration: none !important;\n",
       "  margin-left: 1ex;\n",
       "  /* unfitted */\n",
       "  border: var(--sklearn-color-unfitted-level-1) 1pt solid;\n",
       "  color: var(--sklearn-color-unfitted-level-1);\n",
       "}\n",
       "\n",
       ".sk-estimator-doc-link.fitted,\n",
       "a:link.sk-estimator-doc-link.fitted,\n",
       "a:visited.sk-estimator-doc-link.fitted {\n",
       "  /* fitted */\n",
       "  border: var(--sklearn-color-fitted-level-1) 1pt solid;\n",
       "  color: var(--sklearn-color-fitted-level-1);\n",
       "}\n",
       "\n",
       "/* On hover */\n",
       "div.sk-estimator:hover .sk-estimator-doc-link:hover,\n",
       ".sk-estimator-doc-link:hover,\n",
       "div.sk-label-container:hover .sk-estimator-doc-link:hover,\n",
       ".sk-estimator-doc-link:hover {\n",
       "  /* unfitted */\n",
       "  background-color: var(--sklearn-color-unfitted-level-3);\n",
       "  color: var(--sklearn-color-background);\n",
       "  text-decoration: none;\n",
       "}\n",
       "\n",
       "div.sk-estimator.fitted:hover .sk-estimator-doc-link.fitted:hover,\n",
       ".sk-estimator-doc-link.fitted:hover,\n",
       "div.sk-label-container:hover .sk-estimator-doc-link.fitted:hover,\n",
       ".sk-estimator-doc-link.fitted:hover {\n",
       "  /* fitted */\n",
       "  background-color: var(--sklearn-color-fitted-level-3);\n",
       "  color: var(--sklearn-color-background);\n",
       "  text-decoration: none;\n",
       "}\n",
       "\n",
       "/* Span, style for the box shown on hovering the info icon */\n",
       ".sk-estimator-doc-link span {\n",
       "  display: none;\n",
       "  z-index: 9999;\n",
       "  position: relative;\n",
       "  font-weight: normal;\n",
       "  right: .2ex;\n",
       "  padding: .5ex;\n",
       "  margin: .5ex;\n",
       "  width: min-content;\n",
       "  min-width: 20ex;\n",
       "  max-width: 50ex;\n",
       "  color: var(--sklearn-color-text);\n",
       "  box-shadow: 2pt 2pt 4pt #999;\n",
       "  /* unfitted */\n",
       "  background: var(--sklearn-color-unfitted-level-0);\n",
       "  border: .5pt solid var(--sklearn-color-unfitted-level-3);\n",
       "}\n",
       "\n",
       ".sk-estimator-doc-link.fitted span {\n",
       "  /* fitted */\n",
       "  background: var(--sklearn-color-fitted-level-0);\n",
       "  border: var(--sklearn-color-fitted-level-3);\n",
       "}\n",
       "\n",
       ".sk-estimator-doc-link:hover span {\n",
       "  display: block;\n",
       "}\n",
       "\n",
       "/* \"?\"-specific style due to the `<a>` HTML tag */\n",
       "\n",
       "#sk-container-id-1 a.estimator_doc_link {\n",
       "  float: right;\n",
       "  font-size: 1rem;\n",
       "  line-height: 1em;\n",
       "  font-family: monospace;\n",
       "  background-color: var(--sklearn-color-background);\n",
       "  border-radius: 1rem;\n",
       "  height: 1rem;\n",
       "  width: 1rem;\n",
       "  text-decoration: none;\n",
       "  /* unfitted */\n",
       "  color: var(--sklearn-color-unfitted-level-1);\n",
       "  border: var(--sklearn-color-unfitted-level-1) 1pt solid;\n",
       "}\n",
       "\n",
       "#sk-container-id-1 a.estimator_doc_link.fitted {\n",
       "  /* fitted */\n",
       "  border: var(--sklearn-color-fitted-level-1) 1pt solid;\n",
       "  color: var(--sklearn-color-fitted-level-1);\n",
       "}\n",
       "\n",
       "/* On hover */\n",
       "#sk-container-id-1 a.estimator_doc_link:hover {\n",
       "  /* unfitted */\n",
       "  background-color: var(--sklearn-color-unfitted-level-3);\n",
       "  color: var(--sklearn-color-background);\n",
       "  text-decoration: none;\n",
       "}\n",
       "\n",
       "#sk-container-id-1 a.estimator_doc_link.fitted:hover {\n",
       "  /* fitted */\n",
       "  background-color: var(--sklearn-color-fitted-level-3);\n",
       "}\n",
       "</style><div id=\"sk-container-id-1\" class=\"sk-top-container\"><div class=\"sk-text-repr-fallback\"><pre>StandardScaler()</pre><b>In a Jupyter environment, please rerun this cell to show the HTML representation or trust the notebook. <br />On GitHub, the HTML representation is unable to render, please try loading this page with nbviewer.org.</b></div><div class=\"sk-container\" hidden><div class=\"sk-item\"><div class=\"sk-estimator fitted sk-toggleable\"><input class=\"sk-toggleable__control sk-hidden--visually\" id=\"sk-estimator-id-1\" type=\"checkbox\" checked><label for=\"sk-estimator-id-1\" class=\"sk-toggleable__label fitted sk-toggleable__label-arrow fitted\">&nbsp;&nbsp;StandardScaler<a class=\"sk-estimator-doc-link fitted\" rel=\"noreferrer\" target=\"_blank\" href=\"https://scikit-learn.org/1.5/modules/generated/sklearn.preprocessing.StandardScaler.html\">?<span>Documentation for StandardScaler</span></a><span class=\"sk-estimator-doc-link fitted\">i<span>Fitted</span></span></label><div class=\"sk-toggleable__content fitted\"><pre>StandardScaler()</pre></div> </div></div></div></div>"
      ],
      "text/plain": [
       "StandardScaler()"
      ]
     },
     "execution_count": 11,
     "metadata": {},
     "output_type": "execute_result"
    }
   ],
   "source": [
    "from sklearn.preprocessing import StandardScaler\n",
    "\n",
    "scaler = StandardScaler()\n",
    "scaler.fit(preds)"
   ]
  },
  {
   "cell_type": "code",
   "execution_count": 12,
   "id": "28939c64-9e53-4dc1-a3ef-20b9dc8a95f8",
   "metadata": {},
   "outputs": [],
   "source": [
    "from sklearn.preprocessing import normalize\n",
    "\n",
    "_preds = scaler.transform(preds)\n",
    "_labels = scaler.transform(labels)"
   ]
  },
  {
   "cell_type": "code",
   "execution_count": 13,
   "id": "3d1d9355-e3e8-42b9-8e98-52cdd761ca2f",
   "metadata": {},
   "outputs": [
    {
     "data": {
      "text/plain": [
       "(625000, 368)"
      ]
     },
     "execution_count": 13,
     "metadata": {},
     "output_type": "execute_result"
    }
   ],
   "source": [
    "_preds = normalize(_preds, axis=1, norm=\"l2\")\n",
    "_labels = normalize(_labels, axis=1, norm=\"l2\")\n",
    "_labels.shape"
   ]
  },
  {
   "cell_type": "code",
   "execution_count": 14,
   "id": "f8cc9897-5367-4c36-8910-1b6de66c46f5",
   "metadata": {},
   "outputs": [
    {
     "data": {
      "text/plain": [
       "(625000,)"
      ]
     },
     "execution_count": 14,
     "metadata": {},
     "output_type": "execute_result"
    }
   ],
   "source": [
    "similarity = (_preds * _labels).sum(axis=1)\n",
    "similarity.shape"
   ]
  },
  {
   "cell_type": "code",
   "execution_count": 15,
   "id": "e719bddb-84f2-4dc7-880e-c774a7fb53f2",
   "metadata": {},
   "outputs": [
    {
     "data": {
      "image/png": "[encoded data removed]",
      "text/plain": [
       "<Figure size 640x480 with 1 Axes>"
      ]
     },
     "metadata": {},
     "output_type": "display_data"
    }
   ],
   "source": [
    "import matplotlib.pyplot as plt\n",
    "\n",
    "plt.hist(similarity)\n",
    "plt.show()"
   ]
  },
  {
   "cell_type": "code",
   "execution_count": 35,
   "id": "6608193b-a857-4bed-b9ee-f8e32d604764",
   "metadata": {},
   "outputs": [
    {
     "name": "stdout",
     "output_type": "stream",
     "text": [
      "r2_score=0.9519432534601444\n"
     ]
    }
   ],
   "source": [
    "# 埋める前後でスコアが大きく変わらないかをチェック\n",
    "rate = 0.2\n",
    "preds = base_sub_df[:, 1:].to_numpy()[similarity > rate]\n",
    "labels = multi_col_sub_df[:, 1:].to_numpy()[similarity > rate]\n",
    "_predict_df = pd.DataFrame(\n",
    "    preds, columns=[i for i in range(preds.shape[1])]\n",
    ").reset_index()\n",
    "_label_df = pd.DataFrame(\n",
    "    labels, columns=[i for i in range(labels.shape[1])]\n",
    ").reset_index()\n",
    "r2_scores = score(_label_df, _predict_df, \"index\", multioutput=\"raw_values\")\n",
    "\n",
    "r2_score = float(np.array(r2_scores).mean())\n",
    "print(f\"{r2_score=}\")"
   ]
  },
  {
   "cell_type": "code",
   "execution_count": 34,
   "id": "77500471-8c41-46b9-bbbe-b9629961b289",
   "metadata": {},
   "outputs": [
    {
     "data": {
      "text/html": [
       "<div><style>\n",
       ".dataframe > thead > tr,\n",
       ".dataframe > tbody > tr {\n",
       "  text-align: right;\n",
       "  white-space: pre-wrap;\n",
       "}\n",
       "</style>\n",
       "<small>shape: (233, 14)</small><table border=\"1\" class=\"dataframe\"><thead><tr><th>sort_index</th><th>original_index</th><th>sample_id</th><th>location</th><th>month</th><th>day</th><th>seconds</th><th>tick</th><th>pred</th><th>is_duplicated</th><th>pred_diff</th><th>is_second_year</th><th>year</th><th>timestamp</th></tr><tr><td>u32</td><td>u32</td><td>str</td><td>u32</td><td>i64</td><td>i64</td><td>i64</td><td>i64</td><td>f32</td><td>bool</td><td>f32</td><td>i32</td><td>i32</td><td>datetime[μs]</td></tr></thead><tbody><tr><td>149554</td><td>368083</td><td>&quot;test_545914&quot;</td><td>178</td><td>7</td><td>8</td><td>57600</td><td>48</td><td>0.20007</td><td>true</td><td>0.539636</td><td>0</td><td>9</td><td>0009-07-08 16:00:00</td></tr><tr><td>624792</td><td>2318</td><td>&quot;test_102800&quot;</td><td>24</td><td>8</td><td>25</td><td>28800</td><td>24</td><td>0.802709</td><td>true</td><td>0.539911</td><td>1</td><td>10</td><td>0010-08-25 08:00:00</td></tr><tr><td>624770</td><td>3138</td><td>&quot;test_103819&quot;</td><td>2</td><td>8</td><td>25</td><td>28800</td><td>24</td><td>0.797855</td><td>true</td><td>0.539951</td><td>1</td><td>10</td><td>0010-08-25 08:00:00</td></tr><tr><td>624872</td><td>15470</td><td>&quot;test_118638&quot;</td><td>104</td><td>8</td><td>25</td><td>28800</td><td>24</td><td>0.796433</td><td>true</td><td>0.530097</td><td>1</td><td>10</td><td>0010-08-25 08:00:00</td></tr><tr><td>624782</td><td>17992</td><td>&quot;test_121682&quot;</td><td>14</td><td>8</td><td>25</td><td>28800</td><td>24</td><td>0.798688</td><td>true</td><td>0.539699</td><td>1</td><td>10</td><td>0010-08-25 08:00:00</td></tr><tr><td>&hellip;</td><td>&hellip;</td><td>&hellip;</td><td>&hellip;</td><td>&hellip;</td><td>&hellip;</td><td>&hellip;</td><td>&hellip;</td><td>&hellip;</td><td>&hellip;</td><td>&hellip;</td><td>&hellip;</td><td>&hellip;</td><td>&hellip;</td></tr><tr><td>624929</td><td>611774</td><td>&quot;test_840780&quot;</td><td>161</td><td>8</td><td>25</td><td>28800</td><td>24</td><td>0.792691</td><td>true</td><td>0.52871</td><td>1</td><td>10</td><td>0010-08-25 08:00:00</td></tr><tr><td>624869</td><td>612434</td><td>&quot;test_84688&quot;</td><td>101</td><td>8</td><td>25</td><td>28800</td><td>24</td><td>0.795921</td><td>true</td><td>0.531137</td><td>1</td><td>10</td><td>0010-08-25 08:00:00</td></tr><tr><td>624854</td><td>614770</td><td>&quot;test_87551&quot;</td><td>86</td><td>8</td><td>25</td><td>28800</td><td>24</td><td>0.794655</td><td>true</td><td>0.528362</td><td>1</td><td>10</td><td>0010-08-25 08:00:00</td></tr><tr><td>624915</td><td>617069</td><td>&quot;test_9029&quot;</td><td>147</td><td>8</td><td>25</td><td>28800</td><td>24</td><td>0.79837</td><td>true</td><td>0.530057</td><td>1</td><td>10</td><td>0010-08-25 08:00:00</td></tr><tr><td>624773</td><td>618706</td><td>&quot;test_92292&quot;</td><td>5</td><td>8</td><td>25</td><td>28800</td><td>24</td><td>0.798055</td><td>true</td><td>0.539868</td><td>1</td><td>10</td><td>0010-08-25 08:00:00</td></tr></tbody></table></div>"
      ],
      "text/plain": [
       "shape: (233, 14)\n",
       "┌────────────┬────────────┬────────────┬──────────┬───┬───────────┬────────────┬──────┬────────────┐\n",
       "│ sort_index ┆ original_i ┆ sample_id  ┆ location ┆ … ┆ pred_diff ┆ is_second_ ┆ year ┆ timestamp  │\n",
       "│ ---        ┆ ndex       ┆ ---        ┆ ---      ┆   ┆ ---       ┆ year       ┆ ---  ┆ ---        │\n",
       "│ u32        ┆ ---        ┆ str        ┆ u32      ┆   ┆ f32       ┆ ---        ┆ i32  ┆ datetime[μ │\n",
       "│            ┆ u32        ┆            ┆          ┆   ┆           ┆ i32        ┆      ┆ s]         │\n",
       "╞════════════╪════════════╪════════════╪══════════╪═══╪═══════════╪════════════╪══════╪════════════╡\n",
       "│ 149554     ┆ 368083     ┆ test_54591 ┆ 178      ┆ … ┆ 0.539636  ┆ 0          ┆ 9    ┆ 0009-07-08 │\n",
       "│            ┆            ┆ 4          ┆          ┆   ┆           ┆            ┆      ┆ 16:00:00   │\n",
       "│ 624792     ┆ 2318       ┆ test_10280 ┆ 24       ┆ … ┆ 0.539911  ┆ 1          ┆ 10   ┆ 0010-08-25 │\n",
       "│            ┆            ┆ 0          ┆          ┆   ┆           ┆            ┆      ┆ 08:00:00   │\n",
       "│ 624770     ┆ 3138       ┆ test_10381 ┆ 2        ┆ … ┆ 0.539951  ┆ 1          ┆ 10   ┆ 0010-08-25 │\n",
       "│            ┆            ┆ 9          ┆          ┆   ┆           ┆            ┆      ┆ 08:00:00   │\n",
       "│ 624872     ┆ 15470      ┆ test_11863 ┆ 104      ┆ … ┆ 0.530097  ┆ 1          ┆ 10   ┆ 0010-08-25 │\n",
       "│            ┆            ┆ 8          ┆          ┆   ┆           ┆            ┆      ┆ 08:00:00   │\n",
       "│ 624782     ┆ 17992      ┆ test_12168 ┆ 14       ┆ … ┆ 0.539699  ┆ 1          ┆ 10   ┆ 0010-08-25 │\n",
       "│            ┆            ┆ 2          ┆          ┆   ┆           ┆            ┆      ┆ 08:00:00   │\n",
       "│ …          ┆ …          ┆ …          ┆ …        ┆ … ┆ …         ┆ …          ┆ …    ┆ …          │\n",
       "│ 624929     ┆ 611774     ┆ test_84078 ┆ 161      ┆ … ┆ 0.52871   ┆ 1          ┆ 10   ┆ 0010-08-25 │\n",
       "│            ┆            ┆ 0          ┆          ┆   ┆           ┆            ┆      ┆ 08:00:00   │\n",
       "│ 624869     ┆ 612434     ┆ test_84688 ┆ 101      ┆ … ┆ 0.531137  ┆ 1          ┆ 10   ┆ 0010-08-25 │\n",
       "│            ┆            ┆            ┆          ┆   ┆           ┆            ┆      ┆ 08:00:00   │\n",
       "│ 624854     ┆ 614770     ┆ test_87551 ┆ 86       ┆ … ┆ 0.528362  ┆ 1          ┆ 10   ┆ 0010-08-25 │\n",
       "│            ┆            ┆            ┆          ┆   ┆           ┆            ┆      ┆ 08:00:00   │\n",
       "│ 624915     ┆ 617069     ┆ test_9029  ┆ 147      ┆ … ┆ 0.530057  ┆ 1          ┆ 10   ┆ 0010-08-25 │\n",
       "│            ┆            ┆            ┆          ┆   ┆           ┆            ┆      ┆ 08:00:00   │\n",
       "│ 624773     ┆ 618706     ┆ test_92292 ┆ 5        ┆ … ┆ 0.539868  ┆ 1          ┆ 10   ┆ 0010-08-25 │\n",
       "│            ┆            ┆            ┆          ┆   ┆           ┆            ┆      ┆ 08:00:00   │\n",
       "└────────────┴────────────┴────────────┴──────────┴───┴───────────┴────────────┴──────┴────────────┘"
      ]
     },
     "execution_count": 34,
     "metadata": {},
     "output_type": "execute_result"
    }
   ],
   "source": [
    "test_info_df.filter(similarity < 0.2).sort(\"timestamp\")"
   ]
  },
  {
   "cell_type": "code",
   "execution_count": 28,
   "id": "966a8529-5ecc-4269-b855-03010c310af0",
   "metadata": {},
   "outputs": [
    {
     "data": {
      "text/plain": [
       "(625000,)"
      ]
     },
     "execution_count": 28,
     "metadata": {},
     "output_type": "execute_result"
    }
   ],
   "source": [
    "similarity.shape"
   ]
  },
  {
   "cell_type": "code",
   "execution_count": null,
   "id": "1e7c54af-e3f6-469d-9351-94b780bfaeb3",
   "metadata": {},
   "outputs": [],
   "source": []
  }
 ],
 "metadata": {
  "kernelspec": {
   "display_name": "Python 3 (ipykernel) (Local)",
   "language": "python",
   "name": "python3"
  },
  "language_info": {
   "codemirror_mode": {
    "name": "ipython",
    "version": 3
   },
   "file_extension": ".py",
   "mimetype": "text/x-python",
   "name": "python",
   "nbconvert_exporter": "python",
   "pygments_lexer": "ipython3",
   "version": "3.10.13"
  }
 },
 "nbformat": 4,
 "nbformat_minor": 5
}
