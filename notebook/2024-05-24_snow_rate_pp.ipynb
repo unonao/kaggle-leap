{
 "cells": [
  {
   "cell_type": "code",
   "execution_count": 2,
   "id": "53c82897-45c4-4b85-b9f6-2a431b14c0e1",
   "metadata": {},
   "outputs": [],
   "source": [
    "# parameters\n",
    "config_dir = \"../experiments\"\n",
    "exp_name = \"091_cloud_wather_then_q23/base_all\"  # \"072_save_input_valid/base_all_save"
   ]
  },
  {
   "cell_type": "code",
   "execution_count": 3,
   "id": "59c706b3-966d-4d08-b9c4-9c38bb63e6ac",
   "metadata": {},
   "outputs": [
    {
     "name": "stdout",
     "output_type": "stream",
     "text": [
      "/kaggle/working\n"
     ]
    }
   ],
   "source": [
    "%cd /kaggle/working\n",
    "\n",
    "from pathlib import Path\n",
    "\n",
    "from hydra import compose, initialize\n",
    "from omegaconf import OmegaConf\n",
    "\n",
    "with initialize(\n",
    "    version_base=None, config_path=f\"{config_dir}/{exp_name.split('/')[0]}\"\n",
    "):\n",
    "    cfg = compose(\n",
    "        config_name=\"config.yaml\",\n",
    "        overrides=[f\"exp={exp_name.split('/')[-1]}\"],\n",
    "        return_hydra_config=True,\n",
    "    )\n",
    "import pickle\n",
    "\n",
    "import matplotlib.pyplot as plt\n",
    "import numpy as np\n",
    "import polars as pl\n",
    "import seaborn as sns\n",
    "\n",
    "# 定数定義\n",
    "output_dir = Path(f\"output/experiments/{exp_name}\")\n",
    "gcs_path = f\"gs://{cfg.dir.gcs_bucket}/{cfg.dir.gcs_base_dir}/experiments/{exp_name}/\"\n",
    "\n",
    "# カラムの定義\n",
    "single_targets = [\n",
    "    \"cam_out_NETSW\",\n",
    "    \"cam_out_FLWDS\",\n",
    "    \"cam_out_PRECSC\",\n",
    "    \"cam_out_PRECC\",\n",
    "    \"cam_out_SOLS\",\n",
    "    \"cam_out_SOLL\",\n",
    "    \"cam_out_SOLSD\",\n",
    "    \"cam_out_SOLLD\",\n",
    "]\n",
    "seq_targets = [\n",
    "    \"ptend_t\",\n",
    "    \"ptend_q0001\",\n",
    "    \"ptend_q0002\",\n",
    "    \"ptend_q0003\",\n",
    "    \"ptend_u\",\n",
    "    \"ptend_v\",\n",
    "]\n",
    "target_columns = []\n",
    "for col in seq_targets:\n",
    "    for i in range(60):\n",
    "        target_columns.append(f\"{col}_{i}\")\n",
    "target_columns.extend(single_targets)\n",
    "\n",
    "\n",
    "# 結果などの読み込み\n",
    "r2_score_dict = pickle.load(open(output_dir / \"r2_score_dict.pkl\", \"rb\"))\n",
    "ss_df = pl.read_csv(\n",
    "    \"input/leap-atmospheric-physics-ai-climsim/sample_submission.csv\", n_rows=1\n",
    ")\n",
    "weight_array = ss_df.select([x for x in ss_df.columns if x != \"sample_id\"]).to_numpy()[\n",
    "    0\n",
    "]"
   ]
  },
  {
   "cell_type": "code",
   "execution_count": 31,
   "id": "a08abfa3-4188-4b80-a5db-7ddefc4af6f6",
   "metadata": {},
   "outputs": [
    {
     "name": "stdout",
     "output_type": "stream",
     "text": [
      "read original_xs\n",
      "read predict\n",
      "read label\n"
     ]
    }
   ],
   "source": [
    "n_rows = 500000\n",
    "\n",
    "print(\"read original_xs\")\n",
    "original_xs_df = pl.read_parquet(\n",
    "    gcs_path + \"original_xs.parquet\", retries=5, n_rows=n_rows\n",
    ")\n",
    "print(\"read predict\")\n",
    "predict_df = pl.read_parquet(gcs_path + \"predict.parquet\", retries=5, n_rows=n_rows)\n",
    "print(\"read label\")\n",
    "label_df = pl.read_parquet(gcs_path + \"label.parquet\", retries=5, n_rows=n_rows)"
   ]
  },
  {
   "cell_type": "code",
   "execution_count": 32,
   "id": "fc89698f-332c-4547-88fa-cf1846396c76",
   "metadata": {},
   "outputs": [],
   "source": [
    "import pickle\n",
    "\n",
    "import matplotlib.pyplot as plt\n",
    "import numpy as np\n",
    "import pandas as pd\n",
    "import polars as pl\n",
    "import seaborn as sns\n",
    "\n",
    "from utils.metric import score"
   ]
  },
  {
   "cell_type": "code",
   "execution_count": 33,
   "id": "c2091d8f-ec97-43f8-b6d0-371f1ad3d188",
   "metadata": {},
   "outputs": [
    {
     "name": "stdout",
     "output_type": "stream",
     "text": [
      "r2:  0.7441657130805308\n"
     ]
    }
   ],
   "source": [
    "# 普通に計算\n",
    "preds = predict_df[:, 1:].to_numpy()\n",
    "original_xs = original_xs_df[:, 1:].to_numpy()\n",
    "\n",
    "for col in cfg.exp.fill_target:\n",
    "    col_index = cfg.cols.col_names.index(col)\n",
    "    preds[:, col_index] = original_xs[:, col_index] / (-1200)\n",
    "\n",
    "predict_weight_df = pd.DataFrame(\n",
    "    preds * weight_array,\n",
    "    columns=[i for i in range(preds.shape[1])],\n",
    ").reset_index()\n",
    "label_weight_df = pd.DataFrame(\n",
    "    label_df[:, 1:].to_numpy() * weight_array,\n",
    "    columns=[i for i in range(preds.shape[1])],\n",
    ").reset_index()\n",
    "\n",
    "r2_scores = score(\n",
    "    label_weight_df,\n",
    "    predict_weight_df,\n",
    "    \"index\",\n",
    "    multioutput=\"raw_values\",\n",
    ")\n",
    "\n",
    "r2_score_dict_const = {\n",
    "    col: r2 for col, r2 in dict(zip(cfg.cols.col_names, r2_scores)).items()\n",
    "}\n",
    "print(\"r2: \", np.mean(list(r2_score_dict_const.values())))"
   ]
  },
  {
   "cell_type": "markdown",
   "id": "d8cdc9ef-fb82-456b-8ac6-369becb378b0",
   "metadata": {},
   "source": [
    "## 明らかにバランスがおかしい snow rate を修正する\n"
   ]
  },
  {
   "cell_type": "code",
   "execution_count": null,
   "id": "46f9fdf9-4e62-46ef-a1c3-7a9fb365b403",
   "metadata": {},
   "outputs": [],
   "source": []
  },
  {
   "cell_type": "code",
   "execution_count": 44,
   "id": "668f1c86-7b87-4902-920e-c6e9baa3401a",
   "metadata": {},
   "outputs": [],
   "source": [
    "\n",
    "h = 40\n",
    "temp = original_xs_df[:, 1 + h]\n",
    "\n",
    "true_q2 = original_xs_df[:, 121 + h] + label_df[:, 121 + h] * 1200\n",
    "true_q3 = original_xs_df[:, 181 + h] + label_df[:, 181 + h] * 1200\n",
    "true_cloud_water = true_q2 + true_q3\n",
    "true_snow_rate = (true_q3) / (true_cloud_water + 1e-60)"
   ]
  },
  {
   "cell_type": "code",
   "execution_count": 47,
   "id": "bb929c27-7750-489b-aa0d-fcd26675f052",
   "metadata": {},
   "outputs": [
    {
     "data": {
      "text/plain": [
       "(array([1.31612246e-01, 3.77944354e-20, 1.48761297e-01, ...,\n",
       "        2.87214262e-02, 1.00000000e+00, 1.00000000e+00]),\n",
       " array([270.48316061, 275.85696992, 270.41081691, ..., 272.98562252,\n",
       "        276.37338546, 275.23698443]))"
      ]
     },
     "execution_count": 47,
     "metadata": {},
     "output_type": "execute_result"
    }
   ],
   "source": [
    "non_zero_index = true_snow_rate > 0\n",
    "\n",
    "true_snow_rate.to_numpy()[non_zero_index], temp.to_numpy()[non_zero_index]"
   ]
  },
  {
   "cell_type": "code",
   "execution_count": 48,
   "id": "59c4ddca-77da-449a-b1f2-305a8079e35f",
   "metadata": {},
   "outputs": [
    {
     "data": {
      "text/plain": [
       "array([1.33427803e-05, 4.37726138e-05, 1.16122697e-07, ...,\n",
       "       5.69969822e-05, 0.00000000e+00, 0.00000000e+00])"
      ]
     },
     "execution_count": 48,
     "metadata": {},
     "output_type": "execute_result"
    }
   ],
   "source": [
    "true_q2.to_numpy()[non_zero_index]"
   ]
  },
  {
   "cell_type": "code",
   "execution_count": 49,
   "id": "f014b6dd-8714-46e5-9df1-55c3202e6679",
   "metadata": {},
   "outputs": [
    {
     "data": {
      "text/plain": [
       "array([2.02222254e-06, 1.65436123e-24, 2.02934418e-08, ...,\n",
       "       1.68544294e-06, 6.61744490e-24, 6.61744490e-24])"
      ]
     },
     "execution_count": 49,
     "metadata": {},
     "output_type": "execute_result"
    }
   ],
   "source": [
    "true_q3.to_numpy()[non_zero_index]"
   ]
  },
  {
   "cell_type": "code",
   "execution_count": null,
   "id": "0238f506-ccdf-41d9-85ea-a0cdfed6559c",
   "metadata": {},
   "outputs": [],
   "source": []
  }
 ],
 "metadata": {
  "kernelspec": {
   "display_name": "Python 3 (ipykernel) (Local)",
   "language": "python",
   "name": "python3"
  },
  "language_info": {
   "codemirror_mode": {
    "name": "ipython",
    "version": 3
   },
   "file_extension": ".py",
   "mimetype": "text/x-python",
   "name": "python",
   "nbconvert_exporter": "python",
   "pygments_lexer": "ipython3",
   "version": "3.10.13"
  }
 },
 "nbformat": 4,
 "nbformat_minor": 5
}
