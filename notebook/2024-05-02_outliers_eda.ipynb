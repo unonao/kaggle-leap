{
 "cells": [
  {
   "cell_type": "code",
   "execution_count": 2,
   "id": "6c2405a5-6527-415c-89c9-050cb9a75b65",
   "metadata": {},
   "outputs": [
    {
     "name": "stdout",
     "output_type": "stream",
     "text": [
      "/kaggle/working\n"
     ]
    }
   ],
   "source": [
    "%cd /kaggle/working\n",
    "import os"
   ]
  },
  {
   "cell_type": "code",
   "execution_count": 3,
   "id": "d31aa565-b5e4-42d9-b171-93081d950944",
   "metadata": {},
   "outputs": [],
   "source": [
    "import numpy as np\n",
    "import polars as pl"
   ]
  },
  {
   "cell_type": "code",
   "execution_count": null,
   "id": "bba58c56-e95d-46e9-8ad8-343a21b8f07c",
   "metadata": {},
   "outputs": [],
   "source": [
    "df = pl.read_parquet(\"input/train.parquet\")"
   ]
  },
  {
   "cell_type": "code",
   "execution_count": null,
   "id": "3fc1e6b8-e780-49dd-abe6-2dec6daee409",
   "metadata": {},
   "outputs": [],
   "source": [
    "with pl.Config() as cfg:\n",
    "    cfg.set_tbl_cols(-1)\n",
    "    print(df.head())"
   ]
  },
  {
   "cell_type": "code",
   "execution_count": null,
   "id": "b1ac95a1-8692-4cb0-b6e5-b788355f2da4",
   "metadata": {},
   "outputs": [],
   "source": [
    "with pl.Config() as cfg:\n",
    "    cfg.set_tbl_cols(-1)\n",
    "    print(pl.concat([df.quantile(0.99), df.qualtile(1.0)]))"
   ]
  },
  {
   "cell_type": "code",
   "execution_count": null,
   "id": "f9300a96-2e02-4e33-bfb9-2eaab3415080",
   "metadata": {},
   "outputs": [],
   "source": [
    "# outlierの基準値をどうするか問題\n",
    "# 99%タイルの"
   ]
  }
 ],
 "metadata": {
  "kernelspec": {
   "display_name": "Python 3 (ipykernel) (Local)",
   "language": "python",
   "name": "python3"
  },
  "language_info": {
   "codemirror_mode": {
    "name": "ipython",
    "version": 3
   },
   "file_extension": ".py",
   "mimetype": "text/x-python",
   "name": "python",
   "nbconvert_exporter": "python",
   "pygments_lexer": "ipython3",
   "version": "3.10.13"
  }
 },
 "nbformat": 4,
 "nbformat_minor": 5
}
