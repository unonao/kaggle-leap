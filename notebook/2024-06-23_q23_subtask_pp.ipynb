{
 "cells": [
  {
   "cell_type": "code",
   "execution_count": 1,
   "id": "7119e71c-3091-4d3e-bd78-2a44361de932",
   "metadata": {},
   "outputs": [],
   "source": [
    "config_dir = \"../experiments\"\n",
    "exp_name = \"208_subtask/small\""
   ]
  },
  {
   "cell_type": "code",
   "execution_count": 2,
   "id": "86ba6d09-5055-49da-9b52-7cf2bcef9f2c",
   "metadata": {},
   "outputs": [
    {
     "name": "stdout",
     "output_type": "stream",
     "text": [
      "/kaggle/working\n",
      "r2:  0.7294915497703501\n"
     ]
    }
   ],
   "source": [
    "%cd /kaggle/working\n",
    "\n",
    "import pickle\n",
    "from pathlib import Path\n",
    "\n",
    "import matplotlib.pyplot as plt\n",
    "import numpy as np\n",
    "import polars as pl\n",
    "import seaborn as sns\n",
    "from hydra import compose, initialize\n",
    "from omegaconf import OmegaConf\n",
    "\n",
    "with initialize(\n",
    "    version_base=None, config_path=f\"{config_dir}/{exp_name.split('/')[0]}\"\n",
    "):\n",
    "    cfg = compose(\n",
    "        config_name=\"config.yaml\",\n",
    "        overrides=[f\"exp={exp_name.split('/')[-1]}\"],\n",
    "        return_hydra_config=True,\n",
    "    )\n",
    "\n",
    "# 定数定義\n",
    "output_dir = Path(f\"output/experiments/{exp_name}\")\n",
    "gcs_path = f\"gs://{cfg.dir.gcs_bucket}/{cfg.dir.gcs_base_dir}/experiments/{exp_name}/\"\n",
    "\n",
    "# 結果などの読み込み\n",
    "r2_score_dict = pickle.load(open(output_dir / \"val2_r2_score_dict.pkl\", \"rb\"))\n",
    "print(\"r2: \", np.mean(list(r2_score_dict.values())))"
   ]
  },
  {
   "cell_type": "markdown",
   "id": "8ef4933d-c666-444b-9bbe-126b4d61c06e",
   "metadata": {},
   "source": [
    "## データの読み込み"
   ]
  },
  {
   "cell_type": "code",
   "execution_count": 3,
   "id": "465ba531-02c4-41bd-8b27-502605d8cf59",
   "metadata": {},
   "outputs": [],
   "source": [
    "original_xs_df = pl.read_parquet(gcs_path + \"val2_original_xs.parquet\", retries=5)\n",
    "sub_df = pl.read_parquet(gcs_path + \"val2_sub_predict.parquet\", retries=5)\n",
    "predict_df = pl.read_parquet(gcs_path + \"val2_predict.parquet\", retries=5)\n",
    "label_df = pl.read_parquet(gcs_path + \"val2_label.parquet\", retries=5)\n",
    "ss_df = pl.read_csv(\n",
    "    \"input/leap-atmospheric-physics-ai-climsim/sample_submission.csv\", n_rows=1\n",
    ")\n",
    "weight_array = ss_df.select([x for x in ss_df.columns if x != \"sample_id\"]).to_numpy()[\n",
    "    0\n",
    "]"
   ]
  },
  {
   "cell_type": "code",
   "execution_count": 4,
   "id": "70a3c32f-c848-4463-8c22-09ab5844fac2",
   "metadata": {},
   "outputs": [
    {
     "data": {
      "text/html": [
       "<div><style>\n",
       ".dataframe > thead > tr,\n",
       ".dataframe > tbody > tr {\n",
       "  text-align: right;\n",
       "  white-space: pre-wrap;\n",
       "}\n",
       "</style>\n",
       "<small>shape: (5, 557)</small><table border=\"1\" class=\"dataframe\"><thead><tr><th>sample_id</th><th>state_t_0</th><th>state_t_1</th><th>state_t_2</th><th>state_t_3</th><th>state_t_4</th><th>state_t_5</th><th>state_t_6</th><th>state_t_7</th><th>state_t_8</th><th>state_t_9</th><th>state_t_10</th><th>state_t_11</th><th>state_t_12</th><th>state_t_13</th><th>state_t_14</th><th>state_t_15</th><th>state_t_16</th><th>state_t_17</th><th>state_t_18</th><th>state_t_19</th><th>state_t_20</th><th>state_t_21</th><th>state_t_22</th><th>state_t_23</th><th>state_t_24</th><th>state_t_25</th><th>state_t_26</th><th>state_t_27</th><th>state_t_28</th><th>state_t_29</th><th>state_t_30</th><th>state_t_31</th><th>state_t_32</th><th>state_t_33</th><th>state_t_34</th><th>state_t_35</th><th>&hellip;</th><th>pbuf_N2O_23</th><th>pbuf_N2O_24</th><th>pbuf_N2O_25</th><th>pbuf_N2O_26</th><th>pbuf_N2O_27</th><th>pbuf_N2O_28</th><th>pbuf_N2O_29</th><th>pbuf_N2O_30</th><th>pbuf_N2O_31</th><th>pbuf_N2O_32</th><th>pbuf_N2O_33</th><th>pbuf_N2O_34</th><th>pbuf_N2O_35</th><th>pbuf_N2O_36</th><th>pbuf_N2O_37</th><th>pbuf_N2O_38</th><th>pbuf_N2O_39</th><th>pbuf_N2O_40</th><th>pbuf_N2O_41</th><th>pbuf_N2O_42</th><th>pbuf_N2O_43</th><th>pbuf_N2O_44</th><th>pbuf_N2O_45</th><th>pbuf_N2O_46</th><th>pbuf_N2O_47</th><th>pbuf_N2O_48</th><th>pbuf_N2O_49</th><th>pbuf_N2O_50</th><th>pbuf_N2O_51</th><th>pbuf_N2O_52</th><th>pbuf_N2O_53</th><th>pbuf_N2O_54</th><th>pbuf_N2O_55</th><th>pbuf_N2O_56</th><th>pbuf_N2O_57</th><th>pbuf_N2O_58</th><th>pbuf_N2O_59</th></tr><tr><td>i64</td><td>f64</td><td>f64</td><td>f64</td><td>f64</td><td>f64</td><td>f64</td><td>f64</td><td>f64</td><td>f64</td><td>f64</td><td>f64</td><td>f64</td><td>f64</td><td>f64</td><td>f64</td><td>f64</td><td>f64</td><td>f64</td><td>f64</td><td>f64</td><td>f64</td><td>f64</td><td>f64</td><td>f64</td><td>f64</td><td>f64</td><td>f64</td><td>f64</td><td>f64</td><td>f64</td><td>f64</td><td>f64</td><td>f64</td><td>f64</td><td>f64</td><td>f64</td><td>&hellip;</td><td>f64</td><td>f64</td><td>f64</td><td>f64</td><td>f64</td><td>f64</td><td>f64</td><td>f64</td><td>f64</td><td>f64</td><td>f64</td><td>f64</td><td>f64</td><td>f64</td><td>f64</td><td>f64</td><td>f64</td><td>f64</td><td>f64</td><td>f64</td><td>f64</td><td>f64</td><td>f64</td><td>f64</td><td>f64</td><td>f64</td><td>f64</td><td>f64</td><td>f64</td><td>f64</td><td>f64</td><td>f64</td><td>f64</td><td>f64</td><td>f64</td><td>f64</td><td>f64</td></tr></thead><tbody><tr><td>0</td><td>209.658019</td><td>230.387641</td><td>238.343944</td><td>246.544958</td><td>252.213235</td><td>249.866705</td><td>242.083703</td><td>235.691332</td><td>229.256637</td><td>225.81596</td><td>222.108325</td><td>218.657213</td><td>215.671462</td><td>213.425364</td><td>211.642811</td><td>210.319557</td><td>208.473457</td><td>206.429217</td><td>205.34601</td><td>205.778874</td><td>206.590721</td><td>206.708699</td><td>209.229532</td><td>211.685916</td><td>214.965148</td><td>218.5392</td><td>222.454816</td><td>226.339222</td><td>230.188813</td><td>233.977203</td><td>237.595957</td><td>241.143295</td><td>244.594272</td><td>247.9316</td><td>251.194144</td><td>254.212187</td><td>&hellip;</td><td>4.9086e-7</td><td>4.9086e-7</td><td>4.9086e-7</td><td>4.9086e-7</td><td>4.9086e-7</td><td>4.9086e-7</td><td>4.9086e-7</td><td>4.9086e-7</td><td>4.9086e-7</td><td>4.9086e-7</td><td>4.9086e-7</td><td>4.9086e-7</td><td>4.9086e-7</td><td>4.9086e-7</td><td>4.9086e-7</td><td>4.9086e-7</td><td>4.9086e-7</td><td>4.9086e-7</td><td>4.9086e-7</td><td>4.9086e-7</td><td>4.9086e-7</td><td>4.9086e-7</td><td>4.9086e-7</td><td>4.9086e-7</td><td>4.9086e-7</td><td>4.9086e-7</td><td>4.9086e-7</td><td>4.9086e-7</td><td>4.9086e-7</td><td>4.9086e-7</td><td>4.9086e-7</td><td>4.9086e-7</td><td>4.9086e-7</td><td>4.9086e-7</td><td>4.9086e-7</td><td>4.9086e-7</td><td>4.9086e-7</td></tr><tr><td>1</td><td>210.26488</td><td>229.761805</td><td>240.358826</td><td>249.42127</td><td>252.208494</td><td>248.718307</td><td>239.976667</td><td>233.147371</td><td>226.749996</td><td>223.194696</td><td>219.760581</td><td>216.698621</td><td>214.28257</td><td>212.698314</td><td>211.701495</td><td>211.02319</td><td>210.150563</td><td>209.172477</td><td>208.321153</td><td>208.955834</td><td>209.585178</td><td>210.150989</td><td>211.695567</td><td>213.702417</td><td>216.053159</td><td>218.595077</td><td>221.25905</td><td>223.952223</td><td>226.681248</td><td>229.457353</td><td>232.267315</td><td>235.174321</td><td>238.095657</td><td>241.120012</td><td>244.055982</td><td>246.866171</td><td>&hellip;</td><td>4.9086e-7</td><td>4.9086e-7</td><td>4.9086e-7</td><td>4.9086e-7</td><td>4.9086e-7</td><td>4.9086e-7</td><td>4.9086e-7</td><td>4.9086e-7</td><td>4.9086e-7</td><td>4.9086e-7</td><td>4.9086e-7</td><td>4.9086e-7</td><td>4.9086e-7</td><td>4.9086e-7</td><td>4.9086e-7</td><td>4.9086e-7</td><td>4.9086e-7</td><td>4.9086e-7</td><td>4.9086e-7</td><td>4.9086e-7</td><td>4.9086e-7</td><td>4.9086e-7</td><td>4.9086e-7</td><td>4.9086e-7</td><td>4.9086e-7</td><td>4.9086e-7</td><td>4.9086e-7</td><td>4.9086e-7</td><td>4.9086e-7</td><td>4.9086e-7</td><td>4.9086e-7</td><td>4.9086e-7</td><td>4.9086e-7</td><td>4.9086e-7</td><td>4.9086e-7</td><td>4.9086e-7</td><td>4.9086e-7</td></tr><tr><td>2</td><td>208.350949</td><td>223.604588</td><td>231.951835</td><td>242.871903</td><td>254.993682</td><td>256.389548</td><td>251.950028</td><td>243.998553</td><td>234.600467</td><td>229.91955</td><td>226.333564</td><td>223.040641</td><td>219.295277</td><td>215.761284</td><td>212.024627</td><td>208.665319</td><td>205.783639</td><td>203.589675</td><td>202.843125</td><td>205.056636</td><td>207.365564</td><td>207.514836</td><td>210.496801</td><td>213.334081</td><td>216.510841</td><td>220.129664</td><td>224.694799</td><td>229.165065</td><td>233.726607</td><td>238.194542</td><td>242.456779</td><td>246.386108</td><td>250.124195</td><td>253.573648</td><td>256.853075</td><td>259.902213</td><td>&hellip;</td><td>4.9086e-7</td><td>4.9086e-7</td><td>4.9086e-7</td><td>4.9086e-7</td><td>4.9086e-7</td><td>4.9086e-7</td><td>4.9086e-7</td><td>4.9086e-7</td><td>4.9086e-7</td><td>4.9086e-7</td><td>4.9086e-7</td><td>4.9086e-7</td><td>4.9086e-7</td><td>4.9086e-7</td><td>4.9086e-7</td><td>4.9086e-7</td><td>4.9086e-7</td><td>4.9086e-7</td><td>4.9086e-7</td><td>4.9086e-7</td><td>4.9086e-7</td><td>4.9086e-7</td><td>4.9086e-7</td><td>4.9086e-7</td><td>4.9086e-7</td><td>4.9086e-7</td><td>4.9086e-7</td><td>4.9086e-7</td><td>4.9086e-7</td><td>4.9086e-7</td><td>4.9086e-7</td><td>4.9086e-7</td><td>4.9086e-7</td><td>4.9086e-7</td><td>4.9086e-7</td><td>4.9086e-7</td><td>4.9086e-7</td></tr><tr><td>3</td><td>208.787141</td><td>223.873269</td><td>232.505078</td><td>244.098158</td><td>253.420492</td><td>253.766085</td><td>248.784052</td><td>241.253276</td><td>232.967552</td><td>229.012059</td><td>225.753068</td><td>222.79063</td><td>219.312547</td><td>216.089257</td><td>212.967267</td><td>210.098076</td><td>207.801654</td><td>205.934621</td><td>205.219532</td><td>206.796799</td><td>209.779504</td><td>210.28622</td><td>212.570652</td><td>215.399614</td><td>218.569742</td><td>221.771176</td><td>225.321101</td><td>229.067855</td><td>232.874967</td><td>236.637148</td><td>240.29244</td><td>243.708948</td><td>247.098648</td><td>250.234183</td><td>253.356945</td><td>256.212624</td><td>&hellip;</td><td>4.9086e-7</td><td>4.9086e-7</td><td>4.9086e-7</td><td>4.9086e-7</td><td>4.9086e-7</td><td>4.9086e-7</td><td>4.9086e-7</td><td>4.9086e-7</td><td>4.9086e-7</td><td>4.9086e-7</td><td>4.9086e-7</td><td>4.9086e-7</td><td>4.9086e-7</td><td>4.9086e-7</td><td>4.9086e-7</td><td>4.9086e-7</td><td>4.9086e-7</td><td>4.9086e-7</td><td>4.9086e-7</td><td>4.9086e-7</td><td>4.9086e-7</td><td>4.9086e-7</td><td>4.9086e-7</td><td>4.9086e-7</td><td>4.9086e-7</td><td>4.9086e-7</td><td>4.9086e-7</td><td>4.9086e-7</td><td>4.9086e-7</td><td>4.9086e-7</td><td>4.9086e-7</td><td>4.9086e-7</td><td>4.9086e-7</td><td>4.9086e-7</td><td>4.9086e-7</td><td>4.9086e-7</td><td>4.9086e-7</td></tr><tr><td>4</td><td>210.893272</td><td>227.831347</td><td>239.65502</td><td>249.779979</td><td>253.028225</td><td>250.165577</td><td>240.769124</td><td>232.650694</td><td>225.435323</td><td>221.296389</td><td>218.051828</td><td>215.618932</td><td>213.968104</td><td>212.965384</td><td>212.391519</td><td>212.054552</td><td>211.770174</td><td>211.537142</td><td>210.804785</td><td>211.6821</td><td>212.005317</td><td>212.470521</td><td>213.285443</td><td>214.522345</td><td>216.063838</td><td>217.819724</td><td>219.720225</td><td>221.836046</td><td>224.003413</td><td>226.275044</td><td>228.703103</td><td>231.241533</td><td>233.914734</td><td>236.570089</td><td>239.201914</td><td>241.842729</td><td>&hellip;</td><td>4.9086e-7</td><td>4.9086e-7</td><td>4.9086e-7</td><td>4.9086e-7</td><td>4.9086e-7</td><td>4.9086e-7</td><td>4.9086e-7</td><td>4.9086e-7</td><td>4.9086e-7</td><td>4.9086e-7</td><td>4.9086e-7</td><td>4.9086e-7</td><td>4.9086e-7</td><td>4.9086e-7</td><td>4.9086e-7</td><td>4.9086e-7</td><td>4.9086e-7</td><td>4.9086e-7</td><td>4.9086e-7</td><td>4.9086e-7</td><td>4.9086e-7</td><td>4.9086e-7</td><td>4.9086e-7</td><td>4.9086e-7</td><td>4.9086e-7</td><td>4.9086e-7</td><td>4.9086e-7</td><td>4.9086e-7</td><td>4.9086e-7</td><td>4.9086e-7</td><td>4.9086e-7</td><td>4.9086e-7</td><td>4.9086e-7</td><td>4.9086e-7</td><td>4.9086e-7</td><td>4.9086e-7</td><td>4.9086e-7</td></tr></tbody></table></div>"
      ],
      "text/plain": [
       "shape: (5, 557)\n",
       "┌───────────┬───────────┬───────────┬───────────┬───┬───────────┬───────────┬───────────┬──────────┐\n",
       "│ sample_id ┆ state_t_0 ┆ state_t_1 ┆ state_t_2 ┆ … ┆ pbuf_N2O_ ┆ pbuf_N2O_ ┆ pbuf_N2O_ ┆ pbuf_N2O │\n",
       "│ ---       ┆ ---       ┆ ---       ┆ ---       ┆   ┆ 56        ┆ 57        ┆ 58        ┆ _59      │\n",
       "│ i64       ┆ f64       ┆ f64       ┆ f64       ┆   ┆ ---       ┆ ---       ┆ ---       ┆ ---      │\n",
       "│           ┆           ┆           ┆           ┆   ┆ f64       ┆ f64       ┆ f64       ┆ f64      │\n",
       "╞═══════════╪═══════════╪═══════════╪═══════════╪═══╪═══════════╪═══════════╪═══════════╪══════════╡\n",
       "│ 0         ┆ 209.65801 ┆ 230.38764 ┆ 238.34394 ┆ … ┆ 4.9086e-7 ┆ 4.9086e-7 ┆ 4.9086e-7 ┆ 4.9086e- │\n",
       "│           ┆ 9         ┆ 1         ┆ 4         ┆   ┆           ┆           ┆           ┆ 7        │\n",
       "│ 1         ┆ 210.26488 ┆ 229.76180 ┆ 240.35882 ┆ … ┆ 4.9086e-7 ┆ 4.9086e-7 ┆ 4.9086e-7 ┆ 4.9086e- │\n",
       "│           ┆           ┆ 5         ┆ 6         ┆   ┆           ┆           ┆           ┆ 7        │\n",
       "│ 2         ┆ 208.35094 ┆ 223.60458 ┆ 231.95183 ┆ … ┆ 4.9086e-7 ┆ 4.9086e-7 ┆ 4.9086e-7 ┆ 4.9086e- │\n",
       "│           ┆ 9         ┆ 8         ┆ 5         ┆   ┆           ┆           ┆           ┆ 7        │\n",
       "│ 3         ┆ 208.78714 ┆ 223.87326 ┆ 232.50507 ┆ … ┆ 4.9086e-7 ┆ 4.9086e-7 ┆ 4.9086e-7 ┆ 4.9086e- │\n",
       "│           ┆ 1         ┆ 9         ┆ 8         ┆   ┆           ┆           ┆           ┆ 7        │\n",
       "│ 4         ┆ 210.89327 ┆ 227.83134 ┆ 239.65502 ┆ … ┆ 4.9086e-7 ┆ 4.9086e-7 ┆ 4.9086e-7 ┆ 4.9086e- │\n",
       "│           ┆ 2         ┆ 7         ┆           ┆   ┆           ┆           ┆           ┆ 7        │\n",
       "└───────────┴───────────┴───────────┴───────────┴───┴───────────┴───────────┴───────────┴──────────┘"
      ]
     },
     "execution_count": 4,
     "metadata": {},
     "output_type": "execute_result"
    }
   ],
   "source": [
    "# カラム名の変更\n",
    "test_df = pl.read_csv(\"input/leap-atmospheric-physics-ai-climsim/test.csv\", n_rows=1)\n",
    "original_xs_df = original_xs_df.rename(\n",
    "    dict(zip(original_xs_df.columns, test_df.columns))\n",
    ")\n",
    "sub_df = sub_df.rename(dict(zip(sub_df.columns, test_df.columns[:361])))\n",
    "\n",
    "predict_df = predict_df.rename(dict(zip(predict_df.columns, ss_df.columns)))\n",
    "label_df = label_df.rename(dict(zip(label_df.columns, ss_df.columns)))\n",
    "\n",
    "original_xs_df.head()"
   ]
  },
  {
   "cell_type": "markdown",
   "id": "8f04c190-c1a1-44af-8488-233d68809a08",
   "metadata": {},
   "source": [
    "## 後処理\n",
    "q2+q3の値を算出し、温度を利用して分配、答えを算出する。\n",
    "全てに対して行うと大きくズレる可能性があるので、変動が大きそうなやつに絞ってみる"
   ]
  },
  {
   "cell_type": "code",
   "execution_count": 35,
   "id": "d0b3ed3c-dee8-4361-9360-be7c8eef8a32",
   "metadata": {},
   "outputs": [
    {
     "name": "stdout",
     "output_type": "stream",
     "text": [
      "model score\n",
      "q2: 0.4306495422752499\n",
      "q3: 0.5406903934814681\n"
     ]
    }
   ],
   "source": [
    "from sklearn.metrics import r2_score\n",
    "\n",
    "h = 31\n",
    "\n",
    "q2_label = label_df[f\"ptend_q0002_{h}\"].to_numpy()\n",
    "q2_pred = predict_df[f\"ptend_q0002_{h}\"].to_numpy()\n",
    "q3_label = label_df[f\"ptend_q0003_{h}\"].to_numpy()\n",
    "q3_pred = predict_df[f\"ptend_q0003_{h}\"].to_numpy()\n",
    "print(\"model score\")\n",
    "print(\"q2:\", r2_score(q2_label, q2_pred))\n",
    "print(\"q3:\", r2_score(q3_label, q3_pred))"
   ]
  },
  {
   "cell_type": "code",
   "execution_count": 36,
   "id": "7e514a4e-23f7-42a4-94af-199159983b7b",
   "metadata": {},
   "outputs": [
    {
     "name": "stdout",
     "output_type": "stream",
     "text": [
      "subtask score\n",
      "q2: 0.17540631710578924\n",
      "q3: 0.5142788994904051\n"
     ]
    }
   ],
   "source": [
    "# 後処理を試す\n",
    "# subtaskから変化後のq2+q3を算出\n",
    "t_min = 253.15\n",
    "t_max = 273.28\n",
    "\n",
    "\n",
    "q2_state = original_xs_df[f\"state_q0002_{h}\"].to_numpy()\n",
    "q3_state = original_xs_df[f\"state_q0003_{h}\"].to_numpy()\n",
    "cloud_new_state = (\n",
    "    sub_df[f\"state_q0002_{h}\"].to_numpy() + sub_df[f\"state_q0003_{h}\"].to_numpy()\n",
    ")\n",
    "\n",
    "omn = np.clip(\n",
    "    (original_xs_df[f\"state_t_{h}\"].to_numpy() - t_min) * (1 / (t_max - t_min)),\n",
    "    0.0,\n",
    "    1.0,\n",
    ")\n",
    "\n",
    "q2_pred_rule = (cloud_new_state * omn - q2_state) / 1200\n",
    "q3_pred_rule = (cloud_new_state * (1 - omn) - q3_state) / 1200\n",
    "print(\"subtask score\")\n",
    "print(\"q2:\", r2_score(q2_label, q2_pred_rule))\n",
    "print(\"q3:\", r2_score(q3_label, q3_pred_rule))"
   ]
  },
  {
   "cell_type": "code",
   "execution_count": 37,
   "id": "9080f1de-2b51-4c47-bfd2-df3210430a4f",
   "metadata": {},
   "outputs": [
    {
     "name": "stdout",
     "output_type": "stream",
     "text": [
      "ensemble: 0.2\n",
      "q2: 0.4310047379321702\n",
      "q3: 0.5416875298969993\n"
     ]
    }
   ],
   "source": [
    "# 後処理とのアンサンブル\n",
    "rate = 0.2\n",
    "q2_pp = q2_pred * (1 - rate) + q2_pred_rule * rate\n",
    "q3_pp = q3_pred * (1 - rate) + q3_pred_rule * rate\n",
    "\n",
    "print(\"ensemble:\", rate)\n",
    "print(\"q2:\", r2_score(q2_label, q2_pp))\n",
    "print(\"q3:\", r2_score(q3_label, q3_pp))"
   ]
  },
  {
   "cell_type": "markdown",
   "id": "db0fbe74-2aed-4182-bd52-f105e5ccfebd",
   "metadata": {},
   "source": [
    "## all"
   ]
  },
  {
   "cell_type": "code",
   "execution_count": 13,
   "id": "a6d3009a-3b21-482f-bc1e-1258694b61f5",
   "metadata": {},
   "outputs": [
    {
     "name": "stdout",
     "output_type": "stream",
     "text": [
      "r2_score=0.7294915497703501\n"
     ]
    }
   ],
   "source": [
    "import pandas as pd\n",
    "\n",
    "from utils.metric import score\n",
    "\n",
    "preds = predict_df[:, 1:].to_numpy()\n",
    "labels = label_df[:, 1:].to_numpy()\n",
    "\n",
    "_predict_df = pd.DataFrame(\n",
    "    preds * weight_array, columns=[i for i in range(preds.shape[1])]\n",
    ").reset_index()\n",
    "_label_df = pd.DataFrame(\n",
    "    labels * weight_array, columns=[i for i in range(labels.shape[1])]\n",
    ").reset_index()\n",
    "r2_scores = score(_label_df, _predict_df, \"index\", multioutput=\"raw_values\")\n",
    "\n",
    "r2_score = float(np.array(r2_scores).mean())\n",
    "print(f\"{r2_score=}\")"
   ]
  },
  {
   "cell_type": "code",
   "execution_count": 42,
   "id": "bfa73db6-9b4c-4528-8673-a931ab2808f4",
   "metadata": {},
   "outputs": [],
   "source": [
    "def ensemble_subtask(\n",
    "    original_xs_df, sub_df, predict_df, h_range=[20, 50], rate=0.2\n",
    ") -> pl.DataFrame:\n",
    "    \"\"\"\n",
    "    カラム名は付与されているとする\n",
    "    \"\"\"\n",
    "    t_min = 253.15\n",
    "    t_max = 273.28\n",
    "\n",
    "    new_pred_df = predict_df.clone()\n",
    "    for h in range(h_range[0], h_range[1]):\n",
    "        q2_state = original_xs_df[f\"state_q0002_{h}\"].to_numpy()\n",
    "        q3_state = original_xs_df[f\"state_q0003_{h}\"].to_numpy()\n",
    "        cloud_new_state = (\n",
    "            sub_df[f\"state_q0002_{h}\"].to_numpy()\n",
    "            + sub_df[f\"state_q0003_{h}\"].to_numpy()\n",
    "        )\n",
    "\n",
    "        omn = np.clip(\n",
    "            (original_xs_df[f\"state_t_{h}\"].to_numpy() - t_min) * (1 / (t_max - t_min)),\n",
    "            0.0,\n",
    "            1.0,\n",
    "        )\n",
    "        q2_pred_rule = (cloud_new_state * omn - q2_state) / 1200\n",
    "        q3_pred_rule = (cloud_new_state * (1 - omn) - q3_state) / 1200\n",
    "\n",
    "        q2_pp = (\n",
    "            predict_df[f\"ptend_q0002_{h}\"].to_numpy() * (1 - rate) + q2_pred_rule * rate\n",
    "        )\n",
    "        q3_pp = (\n",
    "            predict_df[f\"ptend_q0003_{h}\"].to_numpy() * (1 - rate) + q3_pred_rule * rate\n",
    "        )\n",
    "        new_pred_df = new_pred_df.with_columns(\n",
    "            [\n",
    "                pl.Series(name=f\"ptend_q0002_{h}\", values=q2_pp),\n",
    "                pl.Series(name=f\"ptend_q0003_{h}\", values=q3_pp),\n",
    "            ]\n",
    "        )\n",
    "    return new_pred_df"
   ]
  },
  {
   "cell_type": "code",
   "execution_count": 43,
   "id": "e31dce4b-6168-443c-8324-ea6bd00872bc",
   "metadata": {},
   "outputs": [],
   "source": [
    "new_pred_df = ensemble_subtask(\n",
    "    original_xs_df, sub_df, predict_df, h_range=[30, 50], rate=0.2\n",
    ")"
   ]
  },
  {
   "cell_type": "code",
   "execution_count": 44,
   "id": "3cd1c445-4555-4702-9d5b-4ff44cc68b3a",
   "metadata": {},
   "outputs": [
    {
     "name": "stdout",
     "output_type": "stream",
     "text": [
      "r2_score=0.7296450675929265\n"
     ]
    }
   ],
   "source": [
    "preds = new_pred_df[:, 1:].to_numpy()\n",
    "labels = label_df[:, 1:].to_numpy()\n",
    "\n",
    "_predict_df = pd.DataFrame(\n",
    "    preds * weight_array, columns=[i for i in range(preds.shape[1])]\n",
    ").reset_index()\n",
    "_label_df = pd.DataFrame(\n",
    "    labels * weight_array, columns=[i for i in range(labels.shape[1])]\n",
    ").reset_index()\n",
    "r2_scores = score(_label_df, _predict_df, \"index\", multioutput=\"raw_values\")\n",
    "\n",
    "r2_score = float(np.array(r2_scores).mean())\n",
    "print(f\"{r2_score=}\")"
   ]
  },
  {
   "cell_type": "code",
   "execution_count": 45,
   "id": "2c0ff786-aca5-4025-be1d-69ea4c73fd69",
   "metadata": {},
   "outputs": [
    {
     "name": "stdout",
     "output_type": "stream",
     "text": [
      "r2_score=0.7297166438120948\n"
     ]
    }
   ],
   "source": [
    "new_pred_df = ensemble_subtask(\n",
    "    original_xs_df, sub_df, predict_df, h_range=[30, 60], rate=0.2\n",
    ")\n",
    "preds = new_pred_df[:, 1:].to_numpy()\n",
    "labels = label_df[:, 1:].to_numpy()\n",
    "\n",
    "_predict_df = pd.DataFrame(\n",
    "    preds * weight_array, columns=[i for i in range(preds.shape[1])]\n",
    ").reset_index()\n",
    "_label_df = pd.DataFrame(\n",
    "    labels * weight_array, columns=[i for i in range(labels.shape[1])]\n",
    ").reset_index()\n",
    "r2_scores = score(_label_df, _predict_df, \"index\", multioutput=\"raw_values\")\n",
    "\n",
    "r2_score = float(np.array(r2_scores).mean())\n",
    "print(f\"{r2_score=}\")"
   ]
  },
  {
   "cell_type": "code",
   "execution_count": 48,
   "id": "df2048d1-0bbe-46fe-ab13-4defdef60bd9",
   "metadata": {},
   "outputs": [
    {
     "name": "stdout",
     "output_type": "stream",
     "text": [
      "r2_score=0.7297224920109082\n"
     ]
    }
   ],
   "source": [
    "new_pred_df = ensemble_subtask(\n",
    "    original_xs_df, sub_df, predict_df, h_range=[30, 60], rate=0.1\n",
    ")\n",
    "preds = new_pred_df[:, 1:].to_numpy()\n",
    "labels = label_df[:, 1:].to_numpy()\n",
    "\n",
    "_predict_df = pd.DataFrame(\n",
    "    preds * weight_array, columns=[i for i in range(preds.shape[1])]\n",
    ").reset_index()\n",
    "_label_df = pd.DataFrame(\n",
    "    labels * weight_array, columns=[i for i in range(labels.shape[1])]\n",
    ").reset_index()\n",
    "r2_scores = score(_label_df, _predict_df, \"index\", multioutput=\"raw_values\")\n",
    "\n",
    "r2_score = float(np.array(r2_scores).mean())\n",
    "print(f\"{r2_score=}\")"
   ]
  },
  {
   "cell_type": "code",
   "execution_count": null,
   "id": "7f57dcaa-637c-4be2-b912-83958d1acc6f",
   "metadata": {},
   "outputs": [],
   "source": []
  }
 ],
 "metadata": {
  "kernelspec": {
   "display_name": "Python 3 (ipykernel) (Local)",
   "language": "python",
   "name": "python3"
  },
  "language_info": {
   "codemirror_mode": {
    "name": "ipython",
    "version": 3
   },
   "file_extension": ".py",
   "mimetype": "text/x-python",
   "name": "python",
   "nbconvert_exporter": "python",
   "pygments_lexer": "ipython3",
   "version": "3.10.13"
  }
 },
 "nbformat": 4,
 "nbformat_minor": 5
}
