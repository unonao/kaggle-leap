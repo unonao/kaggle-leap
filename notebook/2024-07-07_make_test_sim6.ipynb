{
 "cells": [
  {
   "cell_type": "code",
   "execution_count": 1,
   "id": "2475af5a-a011-4b21-a2ad-093077b9ac77",
   "metadata": {},
   "outputs": [
    {
     "name": "stdout",
     "output_type": "stream",
     "text": [
      "/kaggle/working\n"
     ]
    }
   ],
   "source": [
    "%cd /kaggle/working\n",
    "import json\n",
    "import os\n",
    "import pickle\n",
    "import shutil\n",
    "import sys\n",
    "import time\n",
    "from glob import glob\n",
    "from pathlib import Path\n",
    "from typing import Literal\n",
    "\n",
    "import hydra\n",
    "import numpy as np\n",
    "import polars as pl\n",
    "import torch\n",
    "from hydra.core.hydra_config import HydraConfig\n",
    "from omegaconf import DictConfig, OmegaConf\n",
    "from torch.nn.functional import normalize\n",
    "from torch.utils.data import DataLoader, TensorDataset\n",
    "from tqdm.auto import tqdm\n",
    "from tqdm.notebook import tqdm"
   ]
  },
  {
   "cell_type": "code",
   "execution_count": 2,
   "id": "93ff1e55-727a-48a6-8b63-e6dfd4a3e55e",
   "metadata": {},
   "outputs": [
    {
     "name": "stdout",
     "output_type": "stream",
     "text": [
      "seed: 7\n",
      "topk: 3\n",
      "chunk_size: 100\n",
      "output_dir: input/sim_data\n",
      "scale_dir: output/preprocess/normalize_009_rate_feat/bolton\n",
      "test_data_path: input/test.parquet\n",
      "test_old_data_path: input/test_old.parquet\n",
      "data_dir: input/ClimSim_low-res\n",
      "\n"
     ]
    }
   ],
   "source": [
    "import os\n",
    "\n",
    "from hydra import compose, initialize\n",
    "from omegaconf import OmegaConf\n",
    "\n",
    "with initialize(version_base=None, config_path=\"../preprocess/make_test_sim6\"):\n",
    "    cfg = compose(\n",
    "        config_name=\"config.yaml\",\n",
    "        overrides=[\"exp=base\", \"debug=True\"],\n",
    "        return_hydra_config=True,\n",
    "    )\n",
    "    print(OmegaConf.to_yaml(cfg.exp))"
   ]
  },
  {
   "cell_type": "code",
   "execution_count": 3,
   "id": "8376aef9-9dda-47ec-8552-6a6b53a4d224",
   "metadata": {},
   "outputs": [],
   "source": [
    "def compute_cosine_similarity(tensor1, tensor2):\n",
    "    return torch.mm(tensor1, tensor2.t())\n",
    "\n",
    "\n",
    "def get_top_k_similar_rows(matrix, target_matrix, k=5, chunk_size=1000, device=\"cpu\"):\n",
    "    matrix = matrix.to(device)\n",
    "    normalized_matrix = normalize(matrix, p=2, dim=1)\n",
    "    target_matrix = target_matrix.to(device)\n",
    "    normalized_target_matrix = normalize(target_matrix, p=2, dim=1)\n",
    "\n",
    "    top_k_indices = torch.empty((matrix.size(0), k), dtype=torch.long, device=\"cpu\")\n",
    "\n",
    "    dataset = TensorDataset(normalized_matrix)\n",
    "    dataloader = DataLoader(dataset, batch_size=chunk_size)\n",
    "\n",
    "    for ci, chunk in enumerate(tqdm(dataloader)):\n",
    "        chunk_tensor = chunk[0]\n",
    "        chunk_size_actual = chunk_tensor.size(0)\n",
    "\n",
    "        cosine_similarities = compute_cosine_similarity(\n",
    "            chunk_tensor, normalized_target_matrix\n",
    "        ).to(device)\n",
    "        top_k = torch.topk(cosine_similarities, k, dim=1)\n",
    "        top_k_indices[ci * chunk_size : ci * chunk_size + chunk_size_actual] = (\n",
    "            top_k.indices.cpu()\n",
    "        )\n",
    "\n",
    "    return top_k_indices"
   ]
  },
  {
   "cell_type": "code",
   "execution_count": 4,
   "id": "9d93cc11-016b-44ae-8f63-6dd3c4018307",
   "metadata": {},
   "outputs": [],
   "source": [
    "df = pl.read_parquet(cfg.exp.test_data_path, n_rows=500 if cfg.debug else None)\n",
    "old_df = pl.read_parquet(cfg.exp.test_old_data_path, n_rows=5000 if cfg.debug else None)\n",
    "\n",
    "# old_df は、+6が存在し得る、30+120n (1+4kファイル間隔) だけ残す"
   ]
  },
  {
   "cell_type": "code",
   "execution_count": 73,
   "id": "96ab93c8-a86e-47d4-82e4-a94d9857b2a9",
   "metadata": {},
   "outputs": [
    {
     "name": "stdout",
     "output_type": "stream",
     "text": [
      "(5000, 557) (1160, 557)\n"
     ]
    }
   ],
   "source": [
    "old_filter_df = (\n",
    "    old_df.with_row_index()\n",
    "    .with_columns(\n",
    "        [\n",
    "            ((pl.col(\"index\") // 384) * 30 % 120).alias(\"time_mod\"),\n",
    "        ]\n",
    "    )\n",
    "    .filter((pl.col(\"time_mod\") - 30) % 120 == 0)\n",
    "    .drop([\"index\", \"time_mod\"])\n",
    ")\n",
    "\n",
    "print(old_df.shape, old_filter_df.shape)"
   ]
  },
  {
   "cell_type": "code",
   "execution_count": 74,
   "id": "a31222ec-c5e5-4d00-8b2e-095622056c60",
   "metadata": {},
   "outputs": [],
   "source": [
    "base_array = df[:, 1:].to_numpy()\n",
    "old_array = old_filter_df[:, 1:].to_numpy()"
   ]
  },
  {
   "cell_type": "code",
   "execution_count": 75,
   "id": "dc8b8efa-6d74-4942-8f7e-b890a3103e62",
   "metadata": {},
   "outputs": [],
   "source": [
    "# scaling\n",
    "feat_mean_dict = pickle.load(\n",
    "    open(\n",
    "        Path(cfg.exp.scale_dir) / \"x_mean_feat_dict.pkl\",\n",
    "        \"rb\",\n",
    "    )\n",
    ")\n",
    "feat_std_dict = pickle.load(\n",
    "    open(\n",
    "        Path(cfg.exp.scale_dir) / \"x_std_feat_dict.pkl\",\n",
    "        \"rb\",\n",
    "    )\n",
    ")\n",
    "data = torch.tensor(base_array[:, :556])\n",
    "data_old = torch.tensor(old_array[:, :556])\n",
    "data = (data - feat_mean_dict[\"base\"]) / (feat_std_dict[\"base\"] + 1e-60)\n",
    "data_old = (data_old - feat_mean_dict[\"base\"]) / (feat_std_dict[\"base\"] + 1e-60)\n",
    "\n",
    "# flaot32\n",
    "data = data.float()\n",
    "data_old = data_old.float()"
   ]
  },
  {
   "cell_type": "code",
   "execution_count": 76,
   "id": "9ee47b1e-fab6-4f9d-8abd-74faba6b15b9",
   "metadata": {},
   "outputs": [
    {
     "data": {
      "application/vnd.jupyter.widget-view+json": {
       "model_id": "78f95ea8df124fdebeab4d3dc647d79c",
       "version_major": 2,
       "version_minor": 0
      },
      "text/plain": [
       "  0%|          | 0/5 [00:00<?, ?it/s]"
      ]
     },
     "metadata": {},
     "output_type": "display_data"
    }
   ],
   "source": [
    "# similar\n",
    "device = \"cuda\" if torch.cuda.is_available() else \"cpu\"\n",
    "if cfg.debug:\n",
    "    device = \"cpu\"\n",
    "top_k_similar = get_top_k_similar_rows(\n",
    "    data,\n",
    "    data_old,\n",
    "    k=cfg.exp.topk,\n",
    "    chunk_size=cfg.exp.chunk_size,\n",
    "    device=device,\n",
    ")"
   ]
  },
  {
   "cell_type": "markdown",
   "id": "48a441c4-16d3-4afa-8411-b08bcc8cf9e3",
   "metadata": {},
   "source": [
    "## 疑似validationに対して行う"
   ]
  },
  {
   "cell_type": "code",
   "execution_count": 77,
   "id": "7b71fbf6-bfa8-462e-9126-878bb77085bf",
   "metadata": {},
   "outputs": [],
   "source": [
    "def get_two_years_month_dirs(year_id):\n",
    "    start = 1 + year_id * 2\n",
    "    month_dirs = (\n",
    "        [f\"train/000{start}-{str(m).zfill(2)}\" for m in range(2, 13)]\n",
    "        + [\n",
    "            f\"train/000{y}-{str(m).zfill(2)}\"\n",
    "            for y in range(start + 1, start + 2)\n",
    "            for m in range(1, 13)\n",
    "        ]\n",
    "        + [f\"train/000{start+2}-01\"]\n",
    "    )\n",
    "    return month_dirs"
   ]
  },
  {
   "cell_type": "code",
   "execution_count": 78,
   "id": "5e3bf5a9-9166-484e-a070-6ca646e81cd2",
   "metadata": {},
   "outputs": [],
   "source": [
    "month_dirs = get_two_years_month_dirs(cfg.exp.valid_year_id)\n",
    "\n",
    "path_list = sorted(\n",
    "    [\n",
    "        path\n",
    "        for paths in [\n",
    "            glob(str(Path(cfg.exp.data_dir) / dir_path / \"*\"))\n",
    "            for dir_path in month_dirs\n",
    "        ]\n",
    "        for path in paths\n",
    "    ]\n",
    ")"
   ]
  },
  {
   "cell_type": "code",
   "execution_count": 79,
   "id": "7d8078e3-b7a2-438e-b2f2-7ad4f530bd64",
   "metadata": {},
   "outputs": [],
   "source": [
    "if cfg.debug:\n",
    "    path_list = path_list[:100]"
   ]
  },
  {
   "cell_type": "code",
   "execution_count": 95,
   "id": "e7354929-cc78-46ed-9bd8-91a0cb6228dd",
   "metadata": {},
   "outputs": [],
   "source": [
    "start_id = 0\n",
    "df = pl.DataFrame(\n",
    "    np.vstack([np.load(path) for path in path_list[start_id::24]])\n",
    ").with_row_index(\"sample_id\")\n",
    "old_df = pl.DataFrame(\n",
    "    np.vstack([np.load(path) for path in path_list[start_id::30]])\n",
    ").with_row_index(\"sample_id\")"
   ]
  },
  {
   "cell_type": "code",
   "execution_count": 96,
   "id": "caba605a-99c5-4f31-9ca6-66e04785333d",
   "metadata": {},
   "outputs": [
    {
     "data": {
      "text/plain": [
       "(1920, 925)"
      ]
     },
     "execution_count": 96,
     "metadata": {},
     "output_type": "execute_result"
    }
   ],
   "source": [
    "df.shape"
   ]
  },
  {
   "cell_type": "code",
   "execution_count": 97,
   "id": "05e39f16-dbab-4311-a567-174ff5ebb611",
   "metadata": {},
   "outputs": [
    {
     "name": "stdout",
     "output_type": "stream",
     "text": [
      "(1536, 925) (384, 925)\n"
     ]
    }
   ],
   "source": [
    "old_filter_df = (\n",
    "    old_df.with_row_index()\n",
    "    .with_columns(\n",
    "        [\n",
    "            ((pl.col(\"index\") // 384) * 30 % 120).alias(\"time_mod\"),\n",
    "        ]\n",
    "    )\n",
    "    .filter((pl.col(\"time_mod\") - 30) % 120 == 0)\n",
    "    .drop([\"index\", \"time_mod\"])\n",
    ")\n",
    "\n",
    "print(old_df.shape, old_filter_df.shape)"
   ]
  },
  {
   "cell_type": "code",
   "execution_count": 98,
   "id": "b330ae20-6eb1-45fd-b535-94046e8ff9fa",
   "metadata": {},
   "outputs": [
    {
     "data": {
      "text/plain": [
       "(1920, 556)"
      ]
     },
     "execution_count": 98,
     "metadata": {},
     "output_type": "execute_result"
    }
   ],
   "source": [
    "base_array = df[:, 1:557].to_numpy()\n",
    "old_array = old_filter_df[:, 1:557].to_numpy()\n",
    "\n",
    "stats_df = (\n",
    "    pl.DataFrame(base_array[:, :1])\n",
    "    .with_row_index()\n",
    "    .with_columns(\n",
    "        [\n",
    "            (pl.col(\"index\") % 384).alias(\"location\"),\n",
    "            ((pl.col(\"index\") // 384) * 24).alias(\"file_index\"),\n",
    "            ((pl.col(\"index\") // 384) * 24 % 120).alias(\"time_mod\"),\n",
    "            ((pl.col(\"index\") // 384) * 24 * 384 + (pl.col(\"index\") % 384)).alias(\n",
    "                \"row_index\"\n",
    "            ),\n",
    "        ]\n",
    "    )\n",
    "    .drop([\"column_0\"])\n",
    ")\n",
    "base_array.shape"
   ]
  },
  {
   "cell_type": "code",
   "execution_count": 99,
   "id": "2d4278d9-b371-43dd-9f21-d6a0b8e44b89",
   "metadata": {},
   "outputs": [],
   "source": [
    "# scaling\n",
    "feat_mean_dict = pickle.load(\n",
    "    open(\n",
    "        Path(cfg.exp.scale_dir) / \"x_mean_feat_dict.pkl\",\n",
    "        \"rb\",\n",
    "    )\n",
    ")\n",
    "feat_std_dict = pickle.load(\n",
    "    open(\n",
    "        Path(cfg.exp.scale_dir) / \"x_std_feat_dict.pkl\",\n",
    "        \"rb\",\n",
    "    )\n",
    ")\n",
    "data = torch.tensor(base_array[:, :556])\n",
    "data_old = torch.tensor(old_array[:, :556])\n",
    "data = (data - feat_mean_dict[\"base\"]) / (feat_std_dict[\"base\"] + 1e-60)\n",
    "data_old = (data_old - feat_mean_dict[\"base\"]) / (feat_std_dict[\"base\"] + 1e-60)\n",
    "\n",
    "# flaot32\n",
    "data = data.float()\n",
    "data_old = data_old.float()"
   ]
  },
  {
   "cell_type": "code",
   "execution_count": 100,
   "id": "355329c5-a2da-499e-ae49-99a902c1f1da",
   "metadata": {},
   "outputs": [
    {
     "data": {
      "application/vnd.jupyter.widget-view+json": {
       "model_id": "7d065f3466964812b3e6f21f780285fc",
       "version_major": 2,
       "version_minor": 0
      },
      "text/plain": [
       "  0%|          | 0/20 [00:00<?, ?it/s]"
      ]
     },
     "metadata": {},
     "output_type": "display_data"
    }
   ],
   "source": [
    "# similar\n",
    "device = \"cuda\" if torch.cuda.is_available() else \"cpu\"\n",
    "if cfg.debug:\n",
    "    device = \"cpu\"\n",
    "top_k_similar = get_top_k_similar_rows(\n",
    "    data,\n",
    "    data_old,\n",
    "    k=1,\n",
    "    chunk_size=cfg.exp.chunk_size,\n",
    "    device=device,\n",
    ")"
   ]
  },
  {
   "cell_type": "code",
   "execution_count": 101,
   "id": "01361edf-39c0-48d3-b9d0-d28f2e1edf18",
   "metadata": {},
   "outputs": [
    {
     "data": {
      "text/plain": [
       "torch.Size([1920, 1])"
      ]
     },
     "execution_count": 101,
     "metadata": {},
     "output_type": "execute_result"
    }
   ],
   "source": [
    "top_k_similar.shape"
   ]
  },
  {
   "cell_type": "code",
   "execution_count": 102,
   "id": "f64da97e-ec20-4a27-a0d8-774914f4fe46",
   "metadata": {},
   "outputs": [
    {
     "data": {
      "text/html": [
       "<div><style>\n",
       ".dataframe > thead > tr,\n",
       ".dataframe > tbody > tr {\n",
       "  text-align: right;\n",
       "  white-space: pre-wrap;\n",
       "}\n",
       "</style>\n",
       "<small>shape: (1_538, 5)</small><table border=\"1\" class=\"dataframe\"><thead><tr><th>index</th><th>location</th><th>file_index</th><th>time_mod</th><th>row_index</th></tr><tr><td>u32</td><td>u32</td><td>u32</td><td>u32</td><td>u32</td></tr></thead><tbody><tr><td>382</td><td>382</td><td>0</td><td>0</td><td>382</td></tr><tr><td>383</td><td>383</td><td>0</td><td>0</td><td>383</td></tr><tr><td>384</td><td>0</td><td>24</td><td>24</td><td>9216</td></tr><tr><td>385</td><td>1</td><td>24</td><td>24</td><td>9217</td></tr><tr><td>386</td><td>2</td><td>24</td><td>24</td><td>9218</td></tr><tr><td>&hellip;</td><td>&hellip;</td><td>&hellip;</td><td>&hellip;</td><td>&hellip;</td></tr><tr><td>1915</td><td>379</td><td>96</td><td>96</td><td>37243</td></tr><tr><td>1916</td><td>380</td><td>96</td><td>96</td><td>37244</td></tr><tr><td>1917</td><td>381</td><td>96</td><td>96</td><td>37245</td></tr><tr><td>1918</td><td>382</td><td>96</td><td>96</td><td>37246</td></tr><tr><td>1919</td><td>383</td><td>96</td><td>96</td><td>37247</td></tr></tbody></table></div>"
      ],
      "text/plain": [
       "shape: (1_538, 5)\n",
       "┌───────┬──────────┬────────────┬──────────┬───────────┐\n",
       "│ index ┆ location ┆ file_index ┆ time_mod ┆ row_index │\n",
       "│ ---   ┆ ---      ┆ ---        ┆ ---      ┆ ---       │\n",
       "│ u32   ┆ u32      ┆ u32        ┆ u32      ┆ u32       │\n",
       "╞═══════╪══════════╪════════════╪══════════╪═══════════╡\n",
       "│ 382   ┆ 382      ┆ 0          ┆ 0        ┆ 382       │\n",
       "│ 383   ┆ 383      ┆ 0          ┆ 0        ┆ 383       │\n",
       "│ 384   ┆ 0        ┆ 24         ┆ 24       ┆ 9216      │\n",
       "│ 385   ┆ 1        ┆ 24         ┆ 24       ┆ 9217      │\n",
       "│ 386   ┆ 2        ┆ 24         ┆ 24       ┆ 9218      │\n",
       "│ …     ┆ …        ┆ …          ┆ …        ┆ …         │\n",
       "│ 1915  ┆ 379      ┆ 96         ┆ 96       ┆ 37243     │\n",
       "│ 1916  ┆ 380      ┆ 96         ┆ 96       ┆ 37244     │\n",
       "│ 1917  ┆ 381      ┆ 96         ┆ 96       ┆ 37245     │\n",
       "│ 1918  ┆ 382      ┆ 96         ┆ 96       ┆ 37246     │\n",
       "│ 1919  ┆ 383      ┆ 96         ┆ 96       ┆ 37247     │\n",
       "└───────┴──────────┴────────────┴──────────┴───────────┘"
      ]
     },
     "execution_count": 102,
     "metadata": {},
     "output_type": "execute_result"
    }
   ],
   "source": [
    "stats_df[382:]"
   ]
  },
  {
   "cell_type": "code",
   "execution_count": 103,
   "id": "93bd12a2-8da1-4d59-96ad-a5fbd2d22ade",
   "metadata": {},
   "outputs": [],
   "source": [
    "df_similar = stats_df.with_columns(\n",
    "    [\n",
    "        pl.Series(\n",
    "            \"old_row_index\",\n",
    "            values=(((top_k_similar.numpy() // 384) * 4 * 30 + 30) * 384)\n",
    "            + (top_k_similar.numpy() % 384),\n",
    "        ),\n",
    "    ]\n",
    ").with_columns(\n",
    "    [\n",
    "        pl.col(\"old_row_index\")\n",
    "        .list.slice(0, 1)\n",
    "        .list.contains(pl.col(\"row_index\") + 384 * 6)\n",
    "        .alias(\"is_top1_next\")\n",
    "    ]\n",
    ")"
   ]
  },
  {
   "cell_type": "code",
   "execution_count": 106,
   "id": "ffd13aa9-88aa-4b1d-83b2-117c86a46cdd",
   "metadata": {},
   "outputs": [
    {
     "data": {
      "text/html": [
       "<div><style>\n",
       ".dataframe > thead > tr,\n",
       ".dataframe > tbody > tr {\n",
       "  text-align: right;\n",
       "  white-space: pre-wrap;\n",
       "}\n",
       "</style>\n",
       "<small>shape: (386, 7)</small><table border=\"1\" class=\"dataframe\"><thead><tr><th>index</th><th>location</th><th>file_index</th><th>time_mod</th><th>row_index</th><th>old_row_index</th><th>is_top1_next</th></tr><tr><td>u32</td><td>u32</td><td>u32</td><td>u32</td><td>u32</td><td>list[i64]</td><td>bool</td></tr></thead><tbody><tr><td>0</td><td>0</td><td>0</td><td>0</td><td>0</td><td>[11520]</td><td>false</td></tr><tr><td>1</td><td>1</td><td>0</td><td>0</td><td>1</td><td>[11521]</td><td>false</td></tr><tr><td>2</td><td>2</td><td>0</td><td>0</td><td>2</td><td>[11522]</td><td>false</td></tr><tr><td>3</td><td>3</td><td>0</td><td>0</td><td>3</td><td>[11654]</td><td>false</td></tr><tr><td>4</td><td>4</td><td>0</td><td>0</td><td>4</td><td>[11524]</td><td>false</td></tr><tr><td>&hellip;</td><td>&hellip;</td><td>&hellip;</td><td>&hellip;</td><td>&hellip;</td><td>&hellip;</td><td>&hellip;</td></tr><tr><td>381</td><td>381</td><td>0</td><td>0</td><td>381</td><td>[11901]</td><td>false</td></tr><tr><td>382</td><td>382</td><td>0</td><td>0</td><td>382</td><td>[11902]</td><td>false</td></tr><tr><td>383</td><td>383</td><td>0</td><td>0</td><td>383</td><td>[11903]</td><td>false</td></tr><tr><td>384</td><td>0</td><td>24</td><td>24</td><td>9216</td><td>[11520]</td><td>true</td></tr><tr><td>385</td><td>1</td><td>24</td><td>24</td><td>9217</td><td>[11521]</td><td>true</td></tr></tbody></table></div>"
      ],
      "text/plain": [
       "shape: (386, 7)\n",
       "┌───────┬──────────┬────────────┬──────────┬───────────┬───────────────┬──────────────┐\n",
       "│ index ┆ location ┆ file_index ┆ time_mod ┆ row_index ┆ old_row_index ┆ is_top1_next │\n",
       "│ ---   ┆ ---      ┆ ---        ┆ ---      ┆ ---       ┆ ---           ┆ ---          │\n",
       "│ u32   ┆ u32      ┆ u32        ┆ u32      ┆ u32       ┆ list[i64]     ┆ bool         │\n",
       "╞═══════╪══════════╪════════════╪══════════╪═══════════╪═══════════════╪══════════════╡\n",
       "│ 0     ┆ 0        ┆ 0          ┆ 0        ┆ 0         ┆ [11520]       ┆ false        │\n",
       "│ 1     ┆ 1        ┆ 0          ┆ 0        ┆ 1         ┆ [11521]       ┆ false        │\n",
       "│ 2     ┆ 2        ┆ 0          ┆ 0        ┆ 2         ┆ [11522]       ┆ false        │\n",
       "│ 3     ┆ 3        ┆ 0          ┆ 0        ┆ 3         ┆ [11654]       ┆ false        │\n",
       "│ 4     ┆ 4        ┆ 0          ┆ 0        ┆ 4         ┆ [11524]       ┆ false        │\n",
       "│ …     ┆ …        ┆ …          ┆ …        ┆ …         ┆ …             ┆ …            │\n",
       "│ 381   ┆ 381      ┆ 0          ┆ 0        ┆ 381       ┆ [11901]       ┆ false        │\n",
       "│ 382   ┆ 382      ┆ 0          ┆ 0        ┆ 382       ┆ [11902]       ┆ false        │\n",
       "│ 383   ┆ 383      ┆ 0          ┆ 0        ┆ 383       ┆ [11903]       ┆ false        │\n",
       "│ 384   ┆ 0        ┆ 24         ┆ 24       ┆ 9216      ┆ [11520]       ┆ true         │\n",
       "│ 385   ┆ 1        ┆ 24         ┆ 24       ┆ 9217      ┆ [11521]       ┆ true         │\n",
       "└───────┴──────────┴────────────┴──────────┴───────────┴───────────────┴──────────────┘"
      ]
     },
     "execution_count": 106,
     "metadata": {},
     "output_type": "execute_result"
    }
   ],
   "source": [
    "df_similar.head(386)"
   ]
  },
  {
   "cell_type": "code",
   "execution_count": 107,
   "id": "89b7949f-15a8-4e9b-b10c-4af9920e15b7",
   "metadata": {},
   "outputs": [
    {
     "name": "stdout",
     "output_type": "stream",
     "text": [
      "recall=shape: (1, 1)\n",
      "┌──────────────┐\n",
      "│ is_top1_next │\n",
      "│ ---          │\n",
      "│ f64          │\n",
      "╞══════════════╡\n",
      "│ 0.994792     │\n",
      "└──────────────┘\n"
     ]
    }
   ],
   "source": []
  },
  {
   "cell_type": "code",
   "execution_count": 59,
   "id": "135ac21c-fb48-41ec-86ba-b27606f46caf",
   "metadata": {},
   "outputs": [
    {
     "data": {
      "text/plain": [
       "384"
      ]
     },
     "execution_count": 59,
     "metadata": {},
     "output_type": "execute_result"
    }
   ],
   "source": []
  },
  {
   "cell_type": "code",
   "execution_count": null,
   "id": "b0d64e28-e5c0-427d-a486-ce54077080d3",
   "metadata": {},
   "outputs": [],
   "source": []
  }
 ],
 "metadata": {
  "kernelspec": {
   "display_name": "Python 3 (ipykernel) (Local)",
   "language": "python",
   "name": "python3"
  },
  "language_info": {
   "codemirror_mode": {
    "name": "ipython",
    "version": 3
   },
   "file_extension": ".py",
   "mimetype": "text/x-python",
   "name": "python",
   "nbconvert_exporter": "python",
   "pygments_lexer": "ipython3",
   "version": "3.10.13"
  }
 },
 "nbformat": 4,
 "nbformat_minor": 5
}
