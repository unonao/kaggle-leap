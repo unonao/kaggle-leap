{
 "cells": [
  {
   "cell_type": "code",
   "execution_count": 1,
   "id": "55f2e520-c6f6-46b6-b481-2aeb74acc674",
   "metadata": {},
   "outputs": [
    {
     "name": "stdout",
     "output_type": "stream",
     "text": [
      "/kaggle/working\n"
     ]
    }
   ],
   "source": [
    "%cd /kaggle/working\n",
    "\n",
    "import os\n",
    "\n",
    "from hydra import compose, initialize\n",
    "from omegaconf import OmegaConf\n",
    "\n",
    "with initialize(version_base=None, config_path=\"../experiments/016_norm_v5\"):\n",
    "    cfg = compose(\n",
    "        config_name=\"config.yaml\", overrides=[\"debug=True\"], return_hydra_config=True\n",
    "    )"
   ]
  },
  {
   "cell_type": "code",
   "execution_count": 2,
   "id": "16061527-0623-4518-8697-a51e4d4f41b6",
   "metadata": {},
   "outputs": [],
   "source": [
    "DT = 1800.0\n",
    "L_V = 2.501e6  # Latent heat of vaporization\n",
    "L_I = 3.337e5  # Latent heat of freezing\n",
    "L_F = L_I\n",
    "L_S = L_V + L_I  # Sublimation\n",
    "C_P = 1.00464e3  # Specific heat capacity of air at constant pressure\n",
    "G = 9.80616\n",
    "P0 = 1e5\n",
    "RHO_L = 1e3"
   ]
  },
  {
   "cell_type": "code",
   "execution_count": 3,
   "id": "76989805-89c8-4cb6-b5cd-ebc8e9d41464",
   "metadata": {},
   "outputs": [],
   "source": [
    "import plotly.express as px\n",
    "import polars as pl\n",
    "\n",
    "df = pl.read_parquet(\"input/train.parquet\", n_rows=100000)"
   ]
  },
  {
   "cell_type": "code",
   "execution_count": 4,
   "id": "0564a1a1-c0d0-4890-a15d-b3fca180811b",
   "metadata": {},
   "outputs": [
    {
     "data": {
      "text/html": [
       "<div><svg style=\"position: absolute; width: 0; height: 0; overflow: hidden\">\n",
       "<defs>\n",
       "<symbol id=\"icon-database\" viewBox=\"0 0 32 32\">\n",
       "<path d=\"M16 0c-8.837 0-16 2.239-16 5v4c0 2.761 7.163 5 16 5s16-2.239 16-5v-4c0-2.761-7.163-5-16-5z\"></path>\n",
       "<path d=\"M16 17c-8.837 0-16-2.239-16-5v6c0 2.761 7.163 5 16 5s16-2.239 16-5v-6c0 2.761-7.163 5-16 5z\"></path>\n",
       "<path d=\"M16 26c-8.837 0-16-2.239-16-5v6c0 2.761 7.163 5 16 5s16-2.239 16-5v-6c0 2.761-7.163 5-16 5z\"></path>\n",
       "</symbol>\n",
       "<symbol id=\"icon-file-text2\" viewBox=\"0 0 32 32\">\n",
       "<path d=\"M28.681 7.159c-0.694-0.947-1.662-2.053-2.724-3.116s-2.169-2.030-3.116-2.724c-1.612-1.182-2.393-1.319-2.841-1.319h-15.5c-1.378 0-2.5 1.121-2.5 2.5v27c0 1.378 1.122 2.5 2.5 2.5h23c1.378 0 2.5-1.122 2.5-2.5v-19.5c0-0.448-0.137-1.23-1.319-2.841zM24.543 5.457c0.959 0.959 1.712 1.825 2.268 2.543h-4.811v-4.811c0.718 0.556 1.584 1.309 2.543 2.268zM28 29.5c0 0.271-0.229 0.5-0.5 0.5h-23c-0.271 0-0.5-0.229-0.5-0.5v-27c0-0.271 0.229-0.5 0.5-0.5 0 0 15.499-0 15.5 0v7c0 0.552 0.448 1 1 1h7v19.5z\"></path>\n",
       "<path d=\"M23 26h-14c-0.552 0-1-0.448-1-1s0.448-1 1-1h14c0.552 0 1 0.448 1 1s-0.448 1-1 1z\"></path>\n",
       "<path d=\"M23 22h-14c-0.552 0-1-0.448-1-1s0.448-1 1-1h14c0.552 0 1 0.448 1 1s-0.448 1-1 1z\"></path>\n",
       "<path d=\"M23 18h-14c-0.552 0-1-0.448-1-1s0.448-1 1-1h14c0.552 0 1 0.448 1 1s-0.448 1-1 1z\"></path>\n",
       "</symbol>\n",
       "</defs>\n",
       "</svg>\n",
       "<style>/* CSS stylesheet for displaying xarray objects in jupyterlab.\n",
       " *\n",
       " */\n",
       "\n",
       ":root {\n",
       "  --xr-font-color0: var(--jp-content-font-color0, rgba(0, 0, 0, 1));\n",
       "  --xr-font-color2: var(--jp-content-font-color2, rgba(0, 0, 0, 0.54));\n",
       "  --xr-font-color3: var(--jp-content-font-color3, rgba(0, 0, 0, 0.38));\n",
       "  --xr-border-color: var(--jp-border-color2, #e0e0e0);\n",
       "  --xr-disabled-color: var(--jp-layout-color3, #bdbdbd);\n",
       "  --xr-background-color: var(--jp-layout-color0, white);\n",
       "  --xr-background-color-row-even: var(--jp-layout-color1, white);\n",
       "  --xr-background-color-row-odd: var(--jp-layout-color2, #eeeeee);\n",
       "}\n",
       "\n",
       "html[theme=dark],\n",
       "body[data-theme=dark],\n",
       "body.vscode-dark {\n",
       "  --xr-font-color0: rgba(255, 255, 255, 1);\n",
       "  --xr-font-color2: rgba(255, 255, 255, 0.54);\n",
       "  --xr-font-color3: rgba(255, 255, 255, 0.38);\n",
       "  --xr-border-color: #1F1F1F;\n",
       "  --xr-disabled-color: #515151;\n",
       "  --xr-background-color: #111111;\n",
       "  --xr-background-color-row-even: #111111;\n",
       "  --xr-background-color-row-odd: #313131;\n",
       "}\n",
       "\n",
       ".xr-wrap {\n",
       "  display: block !important;\n",
       "  min-width: 300px;\n",
       "  max-width: 700px;\n",
       "}\n",
       "\n",
       ".xr-text-repr-fallback {\n",
       "  /* fallback to plain text repr when CSS is not injected (untrusted notebook) */\n",
       "  display: none;\n",
       "}\n",
       "\n",
       ".xr-header {\n",
       "  padding-top: 6px;\n",
       "  padding-bottom: 6px;\n",
       "  margin-bottom: 4px;\n",
       "  border-bottom: solid 1px var(--xr-border-color);\n",
       "}\n",
       "\n",
       ".xr-header > div,\n",
       ".xr-header > ul {\n",
       "  display: inline;\n",
       "  margin-top: 0;\n",
       "  margin-bottom: 0;\n",
       "}\n",
       "\n",
       ".xr-obj-type,\n",
       ".xr-array-name {\n",
       "  margin-left: 2px;\n",
       "  margin-right: 10px;\n",
       "}\n",
       "\n",
       ".xr-obj-type {\n",
       "  color: var(--xr-font-color2);\n",
       "}\n",
       "\n",
       ".xr-sections {\n",
       "  padding-left: 0 !important;\n",
       "  display: grid;\n",
       "  grid-template-columns: 150px auto auto 1fr 20px 20px;\n",
       "}\n",
       "\n",
       ".xr-section-item {\n",
       "  display: contents;\n",
       "}\n",
       "\n",
       ".xr-section-item input {\n",
       "  display: none;\n",
       "}\n",
       "\n",
       ".xr-section-item input + label {\n",
       "  color: var(--xr-disabled-color);\n",
       "}\n",
       "\n",
       ".xr-section-item input:enabled + label {\n",
       "  cursor: pointer;\n",
       "  color: var(--xr-font-color2);\n",
       "}\n",
       "\n",
       ".xr-section-item input:enabled + label:hover {\n",
       "  color: var(--xr-font-color0);\n",
       "}\n",
       "\n",
       ".xr-section-summary {\n",
       "  grid-column: 1;\n",
       "  color: var(--xr-font-color2);\n",
       "  font-weight: 500;\n",
       "}\n",
       "\n",
       ".xr-section-summary > span {\n",
       "  display: inline-block;\n",
       "  padding-left: 0.5em;\n",
       "}\n",
       "\n",
       ".xr-section-summary-in:disabled + label {\n",
       "  color: var(--xr-font-color2);\n",
       "}\n",
       "\n",
       ".xr-section-summary-in + label:before {\n",
       "  display: inline-block;\n",
       "  content: '►';\n",
       "  font-size: 11px;\n",
       "  width: 15px;\n",
       "  text-align: center;\n",
       "}\n",
       "\n",
       ".xr-section-summary-in:disabled + label:before {\n",
       "  color: var(--xr-disabled-color);\n",
       "}\n",
       "\n",
       ".xr-section-summary-in:checked + label:before {\n",
       "  content: '▼';\n",
       "}\n",
       "\n",
       ".xr-section-summary-in:checked + label > span {\n",
       "  display: none;\n",
       "}\n",
       "\n",
       ".xr-section-summary,\n",
       ".xr-section-inline-details {\n",
       "  padding-top: 4px;\n",
       "  padding-bottom: 4px;\n",
       "}\n",
       "\n",
       ".xr-section-inline-details {\n",
       "  grid-column: 2 / -1;\n",
       "}\n",
       "\n",
       ".xr-section-details {\n",
       "  display: none;\n",
       "  grid-column: 1 / -1;\n",
       "  margin-bottom: 5px;\n",
       "}\n",
       "\n",
       ".xr-section-summary-in:checked ~ .xr-section-details {\n",
       "  display: contents;\n",
       "}\n",
       "\n",
       ".xr-array-wrap {\n",
       "  grid-column: 1 / -1;\n",
       "  display: grid;\n",
       "  grid-template-columns: 20px auto;\n",
       "}\n",
       "\n",
       ".xr-array-wrap > label {\n",
       "  grid-column: 1;\n",
       "  vertical-align: top;\n",
       "}\n",
       "\n",
       ".xr-preview {\n",
       "  color: var(--xr-font-color3);\n",
       "}\n",
       "\n",
       ".xr-array-preview,\n",
       ".xr-array-data {\n",
       "  padding: 0 5px !important;\n",
       "  grid-column: 2;\n",
       "}\n",
       "\n",
       ".xr-array-data,\n",
       ".xr-array-in:checked ~ .xr-array-preview {\n",
       "  display: none;\n",
       "}\n",
       "\n",
       ".xr-array-in:checked ~ .xr-array-data,\n",
       ".xr-array-preview {\n",
       "  display: inline-block;\n",
       "}\n",
       "\n",
       ".xr-dim-list {\n",
       "  display: inline-block !important;\n",
       "  list-style: none;\n",
       "  padding: 0 !important;\n",
       "  margin: 0;\n",
       "}\n",
       "\n",
       ".xr-dim-list li {\n",
       "  display: inline-block;\n",
       "  padding: 0;\n",
       "  margin: 0;\n",
       "}\n",
       "\n",
       ".xr-dim-list:before {\n",
       "  content: '(';\n",
       "}\n",
       "\n",
       ".xr-dim-list:after {\n",
       "  content: ')';\n",
       "}\n",
       "\n",
       ".xr-dim-list li:not(:last-child):after {\n",
       "  content: ',';\n",
       "  padding-right: 5px;\n",
       "}\n",
       "\n",
       ".xr-has-index {\n",
       "  font-weight: bold;\n",
       "}\n",
       "\n",
       ".xr-var-list,\n",
       ".xr-var-item {\n",
       "  display: contents;\n",
       "}\n",
       "\n",
       ".xr-var-item > div,\n",
       ".xr-var-item label,\n",
       ".xr-var-item > .xr-var-name span {\n",
       "  background-color: var(--xr-background-color-row-even);\n",
       "  margin-bottom: 0;\n",
       "}\n",
       "\n",
       ".xr-var-item > .xr-var-name:hover span {\n",
       "  padding-right: 5px;\n",
       "}\n",
       "\n",
       ".xr-var-list > li:nth-child(odd) > div,\n",
       ".xr-var-list > li:nth-child(odd) > label,\n",
       ".xr-var-list > li:nth-child(odd) > .xr-var-name span {\n",
       "  background-color: var(--xr-background-color-row-odd);\n",
       "}\n",
       "\n",
       ".xr-var-name {\n",
       "  grid-column: 1;\n",
       "}\n",
       "\n",
       ".xr-var-dims {\n",
       "  grid-column: 2;\n",
       "}\n",
       "\n",
       ".xr-var-dtype {\n",
       "  grid-column: 3;\n",
       "  text-align: right;\n",
       "  color: var(--xr-font-color2);\n",
       "}\n",
       "\n",
       ".xr-var-preview {\n",
       "  grid-column: 4;\n",
       "}\n",
       "\n",
       ".xr-index-preview {\n",
       "  grid-column: 2 / 5;\n",
       "  color: var(--xr-font-color2);\n",
       "}\n",
       "\n",
       ".xr-var-name,\n",
       ".xr-var-dims,\n",
       ".xr-var-dtype,\n",
       ".xr-preview,\n",
       ".xr-attrs dt {\n",
       "  white-space: nowrap;\n",
       "  overflow: hidden;\n",
       "  text-overflow: ellipsis;\n",
       "  padding-right: 10px;\n",
       "}\n",
       "\n",
       ".xr-var-name:hover,\n",
       ".xr-var-dims:hover,\n",
       ".xr-var-dtype:hover,\n",
       ".xr-attrs dt:hover {\n",
       "  overflow: visible;\n",
       "  width: auto;\n",
       "  z-index: 1;\n",
       "}\n",
       "\n",
       ".xr-var-attrs,\n",
       ".xr-var-data,\n",
       ".xr-index-data {\n",
       "  display: none;\n",
       "  background-color: var(--xr-background-color) !important;\n",
       "  padding-bottom: 5px !important;\n",
       "}\n",
       "\n",
       ".xr-var-attrs-in:checked ~ .xr-var-attrs,\n",
       ".xr-var-data-in:checked ~ .xr-var-data,\n",
       ".xr-index-data-in:checked ~ .xr-index-data {\n",
       "  display: block;\n",
       "}\n",
       "\n",
       ".xr-var-data > table {\n",
       "  float: right;\n",
       "}\n",
       "\n",
       ".xr-var-name span,\n",
       ".xr-var-data,\n",
       ".xr-index-name div,\n",
       ".xr-index-data,\n",
       ".xr-attrs {\n",
       "  padding-left: 25px !important;\n",
       "}\n",
       "\n",
       ".xr-attrs,\n",
       ".xr-var-attrs,\n",
       ".xr-var-data,\n",
       ".xr-index-data {\n",
       "  grid-column: 1 / -1;\n",
       "}\n",
       "\n",
       "dl.xr-attrs {\n",
       "  padding: 0;\n",
       "  margin: 0;\n",
       "  display: grid;\n",
       "  grid-template-columns: 125px auto;\n",
       "}\n",
       "\n",
       ".xr-attrs dt,\n",
       ".xr-attrs dd {\n",
       "  padding: 0;\n",
       "  margin: 0;\n",
       "  float: left;\n",
       "  padding-right: 10px;\n",
       "  width: auto;\n",
       "}\n",
       "\n",
       ".xr-attrs dt {\n",
       "  font-weight: normal;\n",
       "  grid-column: 1;\n",
       "}\n",
       "\n",
       ".xr-attrs dt:hover span {\n",
       "  display: inline-block;\n",
       "  background: var(--xr-background-color);\n",
       "  padding-right: 10px;\n",
       "}\n",
       "\n",
       ".xr-attrs dd {\n",
       "  grid-column: 2;\n",
       "  white-space: pre-wrap;\n",
       "  word-break: break-all;\n",
       "}\n",
       "\n",
       ".xr-icon-database,\n",
       ".xr-icon-file-text2,\n",
       ".xr-no-icon {\n",
       "  display: inline-block;\n",
       "  vertical-align: middle;\n",
       "  width: 1em;\n",
       "  height: 1.5em !important;\n",
       "  stroke-width: 0;\n",
       "  stroke: currentColor;\n",
       "  fill: currentColor;\n",
       "}\n",
       "</style><pre class='xr-text-repr-fallback'>&lt;xarray.Dataset&gt; Size: 14kB\n",
       "Dimensions:  (time: 1, ncol: 384, ilev: 61, lev: 60)\n",
       "Coordinates:\n",
       "  * ilev     (ilev) float64 488B 0.05588 0.1008 0.1814 ... 970.8 985.3 1e+03\n",
       "  * lev      (lev) float64 480B 0.07835 0.1411 0.2529 ... 963.6 978.0 992.6\n",
       "Dimensions without coordinates: time, ncol\n",
       "Data variables:\n",
       "    P0       float64 8B ...\n",
       "    PS       (time, ncol) float32 2kB ...\n",
       "    area     (ncol) float64 3kB ...\n",
       "    hyai     (ilev) float64 488B ...\n",
       "    hyam     (lev) float64 480B ...\n",
       "    hybi     (ilev) float64 488B ...\n",
       "    hybm     (lev) float64 480B ...\n",
       "    lat      (ncol) float64 3kB ...\n",
       "    lon      (ncol) float64 3kB ...\n",
       "Attributes: (12/19)\n",
       "    ne:                4\n",
       "    fv_nphys:          2\n",
       "    title:             EAM History file information\n",
       "    source:            E3SM Atmosphere Model\n",
       "    source_id:         4108bd8c11\n",
       "    product:           model-output\n",
       "    ...                ...\n",
       "    institution_id:    E3SM-Project\n",
       "    institution:       LLNL (Lawrence Livermore National Laboratory, Livermor...\n",
       "    contact:           e3sm-data-support@listserv.llnl.gov\n",
       "    initial_file:      /global/cfs/cdirs/e3sm/inputdata/atm/cam/inic/homme/ea...\n",
       "    topography_file:   /global/cfs/cdirs/e3sm/inputdata/atm/cam/topo/USGS-gto...\n",
       "    time_period_freq:  month_1</pre><div class='xr-wrap' style='display:none'><div class='xr-header'><div class='xr-obj-type'>xarray.Dataset</div></div><ul class='xr-sections'><li class='xr-section-item'><input id='section-c4af2c42-38ca-43d2-a5cc-970ff53fdbf8' class='xr-section-summary-in' type='checkbox' disabled ><label for='section-c4af2c42-38ca-43d2-a5cc-970ff53fdbf8' class='xr-section-summary'  title='Expand/collapse section'>Dimensions:</label><div class='xr-section-inline-details'><ul class='xr-dim-list'><li><span>time</span>: 1</li><li><span>ncol</span>: 384</li><li><span class='xr-has-index'>ilev</span>: 61</li><li><span class='xr-has-index'>lev</span>: 60</li></ul></div><div class='xr-section-details'></div></li><li class='xr-section-item'><input id='section-2d8cc515-b057-4387-bb64-d6c24e3d8992' class='xr-section-summary-in' type='checkbox'  checked><label for='section-2d8cc515-b057-4387-bb64-d6c24e3d8992' class='xr-section-summary' >Coordinates: <span>(2)</span></label><div class='xr-section-inline-details'></div><div class='xr-section-details'><ul class='xr-var-list'><li class='xr-var-item'><div class='xr-var-name'><span class='xr-has-index'>ilev</span></div><div class='xr-var-dims'>(ilev)</div><div class='xr-var-dtype'>float64</div><div class='xr-var-preview xr-preview'>0.05588 0.1008 ... 985.3 1e+03</div><input id='attrs-faa5ed7b-4461-4ba6-a155-c0c266910bcd' class='xr-var-attrs-in' type='checkbox' ><label for='attrs-faa5ed7b-4461-4ba6-a155-c0c266910bcd' title='Show/Hide attributes'><svg class='icon xr-icon-file-text2'><use xlink:href='#icon-file-text2'></use></svg></label><input id='data-959cfdc8-4033-4be9-8894-5aee2c8f9e8f' class='xr-var-data-in' type='checkbox'><label for='data-959cfdc8-4033-4be9-8894-5aee2c8f9e8f' title='Show/Hide data repr'><svg class='icon xr-icon-database'><use xlink:href='#icon-database'></use></svg></label><div class='xr-var-attrs'><dl class='xr-attrs'><dt><span>long_name :</span></dt><dd>hybrid level at interfaces (1000*(A+B))</dd><dt><span>units :</span></dt><dd>hPa</dd><dt><span>positive :</span></dt><dd>down</dd><dt><span>standard_name :</span></dt><dd>atmosphere_hybrid_sigma_pressure_coordinate</dd><dt><span>formula_terms :</span></dt><dd>a: hyai b: hybi p0: P0 ps: PS</dd></dl></div><div class='xr-var-data'><pre>array([5.588107e-02, 1.008146e-01, 1.814021e-01, 3.244445e-01, 5.740568e-01,\n",
       "       9.986356e-01, 1.696076e+00, 2.793479e+00, 4.439384e+00, 6.792288e+00,\n",
       "       1.001422e+01, 1.427476e+01, 1.975890e+01, 2.666270e+01, 3.516599e+01,\n",
       "       4.538917e+01, 5.736009e+01, 7.101836e+01, 8.626095e+01, 1.029992e+02,\n",
       "       1.211833e+02, 1.407723e+02, 1.616703e+02, 1.836775e+02, 2.064980e+02,\n",
       "       2.298139e+02, 2.533868e+02, 2.771302e+02, 3.011145e+02, 3.255097e+02,\n",
       "       3.505043e+02, 3.762427e+02, 4.028040e+02, 4.302119e+02, 4.584510e+02,\n",
       "       4.874635e+02, 5.171204e+02, 5.471842e+02, 5.772946e+02, 6.070039e+02,\n",
       "       6.358617e+02, 6.635180e+02, 6.897949e+02, 7.146895e+02, 7.383077e+02,\n",
       "       7.607676e+02, 7.821229e+02, 8.023457e+02, 8.213677e+02, 8.391516e+02,\n",
       "       8.557497e+02, 8.713221e+02, 8.861097e+02, 9.003824e+02, 9.143881e+02,\n",
       "       9.283207e+02, 9.423127e+02, 9.564434e+02, 9.707558e+02, 9.852711e+02,\n",
       "       1.000000e+03])</pre></div></li><li class='xr-var-item'><div class='xr-var-name'><span class='xr-has-index'>lev</span></div><div class='xr-var-dims'>(lev)</div><div class='xr-var-dtype'>float64</div><div class='xr-var-preview xr-preview'>0.07835 0.1411 ... 978.0 992.6</div><input id='attrs-78c01972-531f-4ef2-89c4-b1efcf0ac18d' class='xr-var-attrs-in' type='checkbox' ><label for='attrs-78c01972-531f-4ef2-89c4-b1efcf0ac18d' title='Show/Hide attributes'><svg class='icon xr-icon-file-text2'><use xlink:href='#icon-file-text2'></use></svg></label><input id='data-1761cfcc-63ed-44a6-992f-760fa4491cf0' class='xr-var-data-in' type='checkbox'><label for='data-1761cfcc-63ed-44a6-992f-760fa4491cf0' title='Show/Hide data repr'><svg class='icon xr-icon-database'><use xlink:href='#icon-database'></use></svg></label><div class='xr-var-attrs'><dl class='xr-attrs'><dt><span>long_name :</span></dt><dd>hybrid level at midpoints (1000*(A+B))</dd><dt><span>units :</span></dt><dd>hPa</dd><dt><span>positive :</span></dt><dd>down</dd><dt><span>standard_name :</span></dt><dd>atmosphere_hybrid_sigma_pressure_coordinate</dd><dt><span>formula_terms :</span></dt><dd>a: hyam b: hybm p0: P0 ps: PS</dd></dl></div><div class='xr-var-data'><pre>array([7.834781e-02, 1.411083e-01, 2.529233e-01, 4.492506e-01, 7.863462e-01,\n",
       "       1.347356e+00, 2.244777e+00, 3.616431e+00, 5.615836e+00, 8.403253e+00,\n",
       "       1.214449e+01, 1.701683e+01, 2.321080e+01, 3.091435e+01, 4.027758e+01,\n",
       "       5.137463e+01, 6.418923e+01, 7.863966e+01, 9.463009e+01, 1.120913e+02,\n",
       "       1.309778e+02, 1.512213e+02, 1.726739e+02, 1.950877e+02, 2.181559e+02,\n",
       "       2.416004e+02, 2.652585e+02, 2.891223e+02, 3.133121e+02, 3.380070e+02,\n",
       "       3.633735e+02, 3.895233e+02, 4.165079e+02, 4.443314e+02, 4.729572e+02,\n",
       "       5.022919e+02, 5.321523e+02, 5.622394e+02, 5.921493e+02, 6.214328e+02,\n",
       "       6.496899e+02, 6.766565e+02, 7.022422e+02, 7.264986e+02, 7.495376e+02,\n",
       "       7.714452e+02, 7.922343e+02, 8.118567e+02, 8.302596e+02, 8.474507e+02,\n",
       "       8.635359e+02, 8.787159e+02, 8.932460e+02, 9.073852e+02, 9.213544e+02,\n",
       "       9.353167e+02, 9.493781e+02, 9.635996e+02, 9.780134e+02, 9.926355e+02])</pre></div></li></ul></div></li><li class='xr-section-item'><input id='section-e8c7fdce-0a4f-43f1-af0f-50f6a4fff00f' class='xr-section-summary-in' type='checkbox'  checked><label for='section-e8c7fdce-0a4f-43f1-af0f-50f6a4fff00f' class='xr-section-summary' >Data variables: <span>(9)</span></label><div class='xr-section-inline-details'></div><div class='xr-section-details'><ul class='xr-var-list'><li class='xr-var-item'><div class='xr-var-name'><span>P0</span></div><div class='xr-var-dims'>()</div><div class='xr-var-dtype'>float64</div><div class='xr-var-preview xr-preview'>...</div><input id='attrs-32ca78ce-2c46-46e6-a3ac-4b11cf2ce680' class='xr-var-attrs-in' type='checkbox' ><label for='attrs-32ca78ce-2c46-46e6-a3ac-4b11cf2ce680' title='Show/Hide attributes'><svg class='icon xr-icon-file-text2'><use xlink:href='#icon-file-text2'></use></svg></label><input id='data-9bda541b-1222-4984-94ba-813090bc572f' class='xr-var-data-in' type='checkbox'><label for='data-9bda541b-1222-4984-94ba-813090bc572f' title='Show/Hide data repr'><svg class='icon xr-icon-database'><use xlink:href='#icon-database'></use></svg></label><div class='xr-var-attrs'><dl class='xr-attrs'><dt><span>long_name :</span></dt><dd>reference pressure</dd><dt><span>units :</span></dt><dd>Pa</dd></dl></div><div class='xr-var-data'><pre>[1 values with dtype=float64]</pre></div></li><li class='xr-var-item'><div class='xr-var-name'><span>PS</span></div><div class='xr-var-dims'>(time, ncol)</div><div class='xr-var-dtype'>float32</div><div class='xr-var-preview xr-preview'>...</div><input id='attrs-3fe2f750-e3ee-49a3-9e0f-1634c06db3b0' class='xr-var-attrs-in' type='checkbox' ><label for='attrs-3fe2f750-e3ee-49a3-9e0f-1634c06db3b0' title='Show/Hide attributes'><svg class='icon xr-icon-file-text2'><use xlink:href='#icon-file-text2'></use></svg></label><input id='data-286da27d-a21d-4ae1-b635-1d8daef216cf' class='xr-var-data-in' type='checkbox'><label for='data-286da27d-a21d-4ae1-b635-1d8daef216cf' title='Show/Hide data repr'><svg class='icon xr-icon-database'><use xlink:href='#icon-database'></use></svg></label><div class='xr-var-attrs'><dl class='xr-attrs'><dt><span>units :</span></dt><dd>Pa</dd><dt><span>long_name :</span></dt><dd>Surface pressure</dd><dt><span>standard_name :</span></dt><dd>surface_air_pressure</dd><dt><span>cell_methods :</span></dt><dd>time: mean</dd></dl></div><div class='xr-var-data'><pre>[384 values with dtype=float32]</pre></div></li><li class='xr-var-item'><div class='xr-var-name'><span>area</span></div><div class='xr-var-dims'>(ncol)</div><div class='xr-var-dtype'>float64</div><div class='xr-var-preview xr-preview'>...</div><input id='attrs-3f7d6523-bbbe-4ae3-b1eb-a7f40fc33411' class='xr-var-attrs-in' type='checkbox' ><label for='attrs-3f7d6523-bbbe-4ae3-b1eb-a7f40fc33411' title='Show/Hide attributes'><svg class='icon xr-icon-file-text2'><use xlink:href='#icon-file-text2'></use></svg></label><input id='data-98f3b47e-e9a1-4b1c-9e04-519020f5efff' class='xr-var-data-in' type='checkbox'><label for='data-98f3b47e-e9a1-4b1c-9e04-519020f5efff' title='Show/Hide data repr'><svg class='icon xr-icon-database'><use xlink:href='#icon-database'></use></svg></label><div class='xr-var-attrs'><dl class='xr-attrs'><dt><span>long_name :</span></dt><dd>physics grid areas</dd></dl></div><div class='xr-var-data'><pre>[384 values with dtype=float64]</pre></div></li><li class='xr-var-item'><div class='xr-var-name'><span>hyai</span></div><div class='xr-var-dims'>(ilev)</div><div class='xr-var-dtype'>float64</div><div class='xr-var-preview xr-preview'>...</div><input id='attrs-75114de5-7fd3-42d7-b6ad-238b314cf1df' class='xr-var-attrs-in' type='checkbox' ><label for='attrs-75114de5-7fd3-42d7-b6ad-238b314cf1df' title='Show/Hide attributes'><svg class='icon xr-icon-file-text2'><use xlink:href='#icon-file-text2'></use></svg></label><input id='data-12c30dfa-b5b4-4fed-964c-41b5c6d09be2' class='xr-var-data-in' type='checkbox'><label for='data-12c30dfa-b5b4-4fed-964c-41b5c6d09be2' title='Show/Hide data repr'><svg class='icon xr-icon-database'><use xlink:href='#icon-database'></use></svg></label><div class='xr-var-attrs'><dl class='xr-attrs'><dt><span>long_name :</span></dt><dd>hybrid A coefficient at layer interfaces</dd></dl></div><div class='xr-var-data'><pre>[61 values with dtype=float64]</pre></div></li><li class='xr-var-item'><div class='xr-var-name'><span>hyam</span></div><div class='xr-var-dims'>(lev)</div><div class='xr-var-dtype'>float64</div><div class='xr-var-preview xr-preview'>...</div><input id='attrs-89fba67e-6d54-4824-b52c-290677d7df76' class='xr-var-attrs-in' type='checkbox' ><label for='attrs-89fba67e-6d54-4824-b52c-290677d7df76' title='Show/Hide attributes'><svg class='icon xr-icon-file-text2'><use xlink:href='#icon-file-text2'></use></svg></label><input id='data-99d169ac-e564-4c16-80cf-44fed9d26c06' class='xr-var-data-in' type='checkbox'><label for='data-99d169ac-e564-4c16-80cf-44fed9d26c06' title='Show/Hide data repr'><svg class='icon xr-icon-database'><use xlink:href='#icon-database'></use></svg></label><div class='xr-var-attrs'><dl class='xr-attrs'><dt><span>long_name :</span></dt><dd>hybrid A coefficient at layer midpoints</dd></dl></div><div class='xr-var-data'><pre>[60 values with dtype=float64]</pre></div></li><li class='xr-var-item'><div class='xr-var-name'><span>hybi</span></div><div class='xr-var-dims'>(ilev)</div><div class='xr-var-dtype'>float64</div><div class='xr-var-preview xr-preview'>...</div><input id='attrs-7f86134b-6269-4703-9281-555c3542bf53' class='xr-var-attrs-in' type='checkbox' ><label for='attrs-7f86134b-6269-4703-9281-555c3542bf53' title='Show/Hide attributes'><svg class='icon xr-icon-file-text2'><use xlink:href='#icon-file-text2'></use></svg></label><input id='data-17986373-3a17-45f5-a765-5541d576fb32' class='xr-var-data-in' type='checkbox'><label for='data-17986373-3a17-45f5-a765-5541d576fb32' title='Show/Hide data repr'><svg class='icon xr-icon-database'><use xlink:href='#icon-database'></use></svg></label><div class='xr-var-attrs'><dl class='xr-attrs'><dt><span>long_name :</span></dt><dd>hybrid B coefficient at layer interfaces</dd></dl></div><div class='xr-var-data'><pre>[61 values with dtype=float64]</pre></div></li><li class='xr-var-item'><div class='xr-var-name'><span>hybm</span></div><div class='xr-var-dims'>(lev)</div><div class='xr-var-dtype'>float64</div><div class='xr-var-preview xr-preview'>...</div><input id='attrs-4086237a-c070-4d9c-866d-b16c5988f86d' class='xr-var-attrs-in' type='checkbox' ><label for='attrs-4086237a-c070-4d9c-866d-b16c5988f86d' title='Show/Hide attributes'><svg class='icon xr-icon-file-text2'><use xlink:href='#icon-file-text2'></use></svg></label><input id='data-8fc9d5f2-1271-4b83-87d2-e3860f9f01d0' class='xr-var-data-in' type='checkbox'><label for='data-8fc9d5f2-1271-4b83-87d2-e3860f9f01d0' title='Show/Hide data repr'><svg class='icon xr-icon-database'><use xlink:href='#icon-database'></use></svg></label><div class='xr-var-attrs'><dl class='xr-attrs'><dt><span>long_name :</span></dt><dd>hybrid B coefficient at layer midpoints</dd></dl></div><div class='xr-var-data'><pre>[60 values with dtype=float64]</pre></div></li><li class='xr-var-item'><div class='xr-var-name'><span>lat</span></div><div class='xr-var-dims'>(ncol)</div><div class='xr-var-dtype'>float64</div><div class='xr-var-preview xr-preview'>...</div><input id='attrs-fb90579f-7a53-41de-baa3-af33264361fa' class='xr-var-attrs-in' type='checkbox' ><label for='attrs-fb90579f-7a53-41de-baa3-af33264361fa' title='Show/Hide attributes'><svg class='icon xr-icon-file-text2'><use xlink:href='#icon-file-text2'></use></svg></label><input id='data-83da8fb3-2eeb-4322-91f8-d239e7bebf5e' class='xr-var-data-in' type='checkbox'><label for='data-83da8fb3-2eeb-4322-91f8-d239e7bebf5e' title='Show/Hide data repr'><svg class='icon xr-icon-database'><use xlink:href='#icon-database'></use></svg></label><div class='xr-var-attrs'><dl class='xr-attrs'><dt><span>long_name :</span></dt><dd>latitude</dd><dt><span>units :</span></dt><dd>degrees_north</dd></dl></div><div class='xr-var-data'><pre>[384 values with dtype=float64]</pre></div></li><li class='xr-var-item'><div class='xr-var-name'><span>lon</span></div><div class='xr-var-dims'>(ncol)</div><div class='xr-var-dtype'>float64</div><div class='xr-var-preview xr-preview'>...</div><input id='attrs-b493ae47-0516-40a3-95d7-60ebf5030e19' class='xr-var-attrs-in' type='checkbox' ><label for='attrs-b493ae47-0516-40a3-95d7-60ebf5030e19' title='Show/Hide attributes'><svg class='icon xr-icon-file-text2'><use xlink:href='#icon-file-text2'></use></svg></label><input id='data-881a7821-f168-42b4-8b99-f7ed4da607c2' class='xr-var-data-in' type='checkbox'><label for='data-881a7821-f168-42b4-8b99-f7ed4da607c2' title='Show/Hide data repr'><svg class='icon xr-icon-database'><use xlink:href='#icon-database'></use></svg></label><div class='xr-var-attrs'><dl class='xr-attrs'><dt><span>long_name :</span></dt><dd>longitude</dd><dt><span>units :</span></dt><dd>degrees_east</dd></dl></div><div class='xr-var-data'><pre>[384 values with dtype=float64]</pre></div></li></ul></div></li><li class='xr-section-item'><input id='section-31eb082a-6a88-42cd-b881-f642d07fe067' class='xr-section-summary-in' type='checkbox'  ><label for='section-31eb082a-6a88-42cd-b881-f642d07fe067' class='xr-section-summary' >Indexes: <span>(2)</span></label><div class='xr-section-inline-details'></div><div class='xr-section-details'><ul class='xr-var-list'><li class='xr-var-item'><div class='xr-index-name'><div>ilev</div></div><div class='xr-index-preview'>PandasIndex</div><div></div><input id='index-4db2168d-7ee0-47bd-a3bd-9ac3b49d3462' class='xr-index-data-in' type='checkbox'/><label for='index-4db2168d-7ee0-47bd-a3bd-9ac3b49d3462' title='Show/Hide index repr'><svg class='icon xr-icon-database'><use xlink:href='#icon-database'></use></svg></label><div class='xr-index-data'><pre>PandasIndex(Index([0.055881070509375234,   0.1008145521678864,   0.1814020847809158,\n",
       "         0.3244445091097667,   0.5740567612275569,   0.9986355617144188,\n",
       "         1.6960759588210845,   2.7934786149793256,    4.439384351072218,\n",
       "           6.79228849960247,   10.014217940104418,    14.27476076402817,\n",
       "         19.758895284577843,   26.662700947622255,     35.1659915763684,\n",
       "         45.389169749538745,    57.36009494577655,    71.01836188211671,\n",
       "          86.26095334050646,    102.9992306637676,   121.18331641599252,\n",
       "         140.77229116276303,   161.67034502826172,   183.67746427572362,\n",
       "          206.4979553635318,   229.81391415923028,   253.38684386522868,\n",
       "          277.1301867084679,   301.11445774996724,     325.509716470936,\n",
       "          350.5042820028278,    376.2427015562064,   402.80397500067625,\n",
       "         430.21186865577033,    458.4509553689735,    487.4634573848994,\n",
       "          517.1203764514815,    547.1841698652074,    577.2946150625949,\n",
       "          607.0039370524288,    635.8617451791833,    663.5180490861268,\n",
       "          689.7949201240809,    714.6894554477576,    738.3077235500817,\n",
       "          760.7675670237841,    782.1228673127215,    802.3456525942371,\n",
       "          821.3676976684287,    839.1515887260861,    855.7497174015796,\n",
       "          871.3220866134808,    886.1096625946574,    900.3823733530918,\n",
       "          914.3880518222962,    928.3207431440685,    942.3126911899926,\n",
       "          956.4434212251622,    970.7557775789805,    985.2710871850433,\n",
       "                     1000.0],\n",
       "      dtype=&#x27;float64&#x27;, name=&#x27;ilev&#x27;))</pre></div></li><li class='xr-var-item'><div class='xr-index-name'><div>lev</div></div><div class='xr-index-preview'>PandasIndex</div><div></div><input id='index-e9c8b96d-fb1f-47f4-ac3b-8f7d4e8227be' class='xr-index-data-in' type='checkbox'/><label for='index-e9c8b96d-fb1f-47f4-ac3b-8f7d4e8227be' title='Show/Hide index repr'><svg class='icon xr-icon-database'><use xlink:href='#icon-database'></use></svg></label><div class='xr-index-data'><pre>PandasIndex(Index([0.07834781133863082,  0.1411083184744011,  0.2529232969453412,\n",
       "        0.4492506351686618,  0.7863461614709879,  1.3473557602677517,\n",
       "         2.244777286900205,  3.6164314830257718,   5.615836425337344,\n",
       "         8.403253219853443,  12.144489352066294,  17.016828024303006,\n",
       "         23.21079811610005,  30.914346261995327,  40.277580662953575,\n",
       "         51.37463234765765,   64.18922841394662,   78.63965761131159,\n",
       "         94.63009200213703,  112.09127353988006,  130.97780378937776,\n",
       "        151.22131809551237,  172.67390465199267,  195.08770981962772,\n",
       "        218.15593476138105,  241.60037901222947,   265.2585152868483,\n",
       "        289.12232222921756,  313.31208711045167,   338.0069992368819,\n",
       "        363.37349177951705,   389.5233382784413,   416.5079218282233,\n",
       "         444.3314120123719,   472.9572063769364,   502.2919169181905,\n",
       "         532.1522731583445,   562.2393924639011,   592.1492760575118,\n",
       "         621.4328411158061,    649.689897132655,   676.6564846051039,\n",
       "         702.2421877859194,   726.4985894989197,   749.5376452869328,\n",
       "         771.4452171682528,   792.2342599534793,   811.8566751313328,\n",
       "         830.2596431972574,   847.4506530638328,   863.5359020075301,\n",
       "         878.7158746040692,   893.2460179738746,   907.3852125876941,\n",
       "         921.3543974831824,   935.3167171670306,   949.3780562075774,\n",
       "         963.5995994020714,    978.013432382012,   992.6355435925217],\n",
       "      dtype=&#x27;float64&#x27;, name=&#x27;lev&#x27;))</pre></div></li></ul></div></li><li class='xr-section-item'><input id='section-41317a3d-6f4a-4bf7-b678-de3728529abe' class='xr-section-summary-in' type='checkbox'  ><label for='section-41317a3d-6f4a-4bf7-b678-de3728529abe' class='xr-section-summary' >Attributes: <span>(19)</span></label><div class='xr-section-inline-details'></div><div class='xr-section-details'><dl class='xr-attrs'><dt><span>ne :</span></dt><dd>4</dd><dt><span>fv_nphys :</span></dt><dd>2</dd><dt><span>title :</span></dt><dd>EAM History file information</dd><dt><span>source :</span></dt><dd>E3SM Atmosphere Model</dd><dt><span>source_id :</span></dt><dd>4108bd8c11</dd><dt><span>product :</span></dt><dd>model-output</dd><dt><span>realm :</span></dt><dd>atmos</dd><dt><span>case :</span></dt><dd>E3SM_ML.GNUGPU.F2010-MMF1.ne4pg2_ne4pg2</dd><dt><span>username :</span></dt><dd>sungduk</dd><dt><span>hostname :</span></dt><dd>pm-gpu</dd><dt><span>git_version :</span></dt><dd>4108bd8c11</dd><dt><span>history :</span></dt><dd>created on 01/13/23 15:30:04</dd><dt><span>Conventions :</span></dt><dd>CF-1.7</dd><dt><span>institution_id :</span></dt><dd>E3SM-Project</dd><dt><span>institution :</span></dt><dd>LLNL (Lawrence Livermore National Laboratory, Livermore, CA 94550, USA); ANL (Argonne National Laboratory, Argonne, IL 60439, USA); BNL (Brookhaven National Laboratory, Upton, NY 11973, USA); LANL (Los Alamos National Laboratory, Los Alamos, NM 87545, USA); LBNL (Lawrence Berkeley National Laboratory, Berkeley, CA 94720, USA); ORNL (Oak Ridge National Laboratory, Oak Ridge, TN 37831, USA); PNNL (Pacific Northwest National Laboratory, Richland, WA 99352, USA); SNL (Sandia National Laboratories, Albuquerque, NM 87185, USA). Mailing address: LLNL Climate Program, c/o David C. Bader, Principal Investigator, L-103, 7000 East Avenue, Livermore, CA 94550, USA</dd><dt><span>contact :</span></dt><dd>e3sm-data-support@listserv.llnl.gov</dd><dt><span>initial_file :</span></dt><dd>/global/cfs/cdirs/e3sm/inputdata/atm/cam/inic/homme/eam_i_mam3_Linoz_ne4np4_L60_c20210917.nc</dd><dt><span>topography_file :</span></dt><dd>/global/cfs/cdirs/e3sm/inputdata/atm/cam/topo/USGS-gtopo30_ne4np4pg2_16x_converted.c20200527.nc</dd><dt><span>time_period_freq :</span></dt><dd>month_1</dd></dl></div></li></ul></div></div>"
      ],
      "text/plain": [
       "<xarray.Dataset> Size: 14kB\n",
       "Dimensions:  (time: 1, ncol: 384, ilev: 61, lev: 60)\n",
       "Coordinates:\n",
       "  * ilev     (ilev) float64 488B 0.05588 0.1008 0.1814 ... 970.8 985.3 1e+03\n",
       "  * lev      (lev) float64 480B 0.07835 0.1411 0.2529 ... 963.6 978.0 992.6\n",
       "Dimensions without coordinates: time, ncol\n",
       "Data variables:\n",
       "    P0       float64 8B ...\n",
       "    PS       (time, ncol) float32 2kB ...\n",
       "    area     (ncol) float64 3kB ...\n",
       "    hyai     (ilev) float64 488B ...\n",
       "    hyam     (lev) float64 480B ...\n",
       "    hybi     (ilev) float64 488B ...\n",
       "    hybm     (lev) float64 480B ...\n",
       "    lat      (ncol) float64 3kB ...\n",
       "    lon      (ncol) float64 3kB ...\n",
       "Attributes: (12/19)\n",
       "    ne:                4\n",
       "    fv_nphys:          2\n",
       "    title:             EAM History file information\n",
       "    source:            E3SM Atmosphere Model\n",
       "    source_id:         4108bd8c11\n",
       "    product:           model-output\n",
       "    ...                ...\n",
       "    institution_id:    E3SM-Project\n",
       "    institution:       LLNL (Lawrence Livermore National Laboratory, Livermor...\n",
       "    contact:           e3sm-data-support@listserv.llnl.gov\n",
       "    initial_file:      /global/cfs/cdirs/e3sm/inputdata/atm/cam/inic/homme/ea...\n",
       "    topography_file:   /global/cfs/cdirs/e3sm/inputdata/atm/cam/topo/USGS-gto...\n",
       "    time_period_freq:  month_1"
      ]
     },
     "execution_count": 4,
     "metadata": {},
     "output_type": "execute_result"
    }
   ],
   "source": [
    "import xarray as xr\n",
    "\n",
    "grid_path = \"/kaggle/working/misc/grid_info/ClimSim_low-res_grid-info.nc\"\n",
    "grid_info = xr.open_dataset(grid_path)\n",
    "grid_info"
   ]
  },
  {
   "cell_type": "code",
   "execution_count": 7,
   "id": "7bceac67-4c7d-4e0c-a880-37bd4281e995",
   "metadata": {},
   "outputs": [
    {
     "data": {
      "text/plain": [
       "360"
      ]
     },
     "execution_count": 7,
     "metadata": {},
     "output_type": "execute_result"
    }
   ],
   "source": [
    "df[:, 1:].columns.index(\"state_ps\")"
   ]
  },
  {
   "cell_type": "markdown",
   "id": "9f8dba37-f718-44d6-b960-18ef429134d0",
   "metadata": {},
   "source": [
    "## dP"
   ]
  },
  {
   "cell_type": "code",
   "execution_count": 112,
   "id": "a6b237c9-c209-4dc9-bf45-0ad9e0bea6b3",
   "metadata": {},
   "outputs": [
    {
     "data": {
      "text/plain": [
       "((100000, 60),\n",
       " array([[7.83478113e+00, 1.41108318e+01, 2.52923297e+01, ...,\n",
       "         9.74450233e+04, 9.89064246e+04, 1.00388943e+05],\n",
       "        [7.83478113e+00, 1.41108318e+01, 2.52923297e+01, ...,\n",
       "         9.77239937e+04, 9.91905416e+04, 1.00678281e+05],\n",
       "        [7.83478113e+00, 1.41108318e+01, 2.52923297e+01, ...,\n",
       "         9.54708095e+04, 9.68957892e+04, 9.83413596e+04],\n",
       "        ...,\n",
       "        [7.83478113e+00, 1.41108318e+01, 2.52923297e+01, ...,\n",
       "         9.76039582e+04, 9.90682916e+04, 1.00553784e+05],\n",
       "        [7.83478113e+00, 1.41108318e+01, 2.52923297e+01, ...,\n",
       "         9.75687549e+04, 9.90324389e+04, 1.00517273e+05],\n",
       "        [7.83478113e+00, 1.41108318e+01, 2.52923297e+01, ...,\n",
       "         9.76601214e+04, 9.91254910e+04, 1.00612035e+05]]))"
      ]
     },
     "execution_count": 112,
     "metadata": {},
     "output_type": "execute_result"
    }
   ],
   "source": [
    "# am,bm\n",
    "hyam = grid_info[\"hyam\"].to_numpy()\n",
    "hybm = grid_info[\"hybm\"].to_numpy()\n",
    "p0 = 1e5\n",
    "ps = df[\"state_ps\"].to_numpy()\n",
    "pressures = hyam * p0 + hybm[None, :] * ps[:, None]\n",
    "pressures.shape, pressures"
   ]
  },
  {
   "cell_type": "code",
   "execution_count": 113,
   "id": "e1a159c3-09be-41bb-abfc-948fbc49eed4",
   "metadata": {},
   "outputs": [
    {
     "data": {
      "text/plain": [
       "((100000, 60),\n",
       " array([[   4.49334817,    8.05875326,   14.30424243, ..., 1451.11266244,\n",
       "         1471.68984952, 1493.34682294],\n",
       "        [   4.49334817,    8.05875326,   14.30424243, ..., 1456.22305609,\n",
       "         1476.87270999, 1498.60595293],\n",
       "        [   4.49334817,    8.05875326,   14.30424243, ..., 1414.94749233,\n",
       "         1435.01184709, 1456.12907736],\n",
       "        ...,\n",
       "        [   4.49334817,    8.05875326,   14.30424243, ..., 1454.02415392,\n",
       "         1474.64262677, 1496.34305243],\n",
       "        [   4.49334817,    8.05875326,   14.30424243, ..., 1453.37927317,\n",
       "         1473.98860143, 1495.67940264],\n",
       "        [   4.49334817,    8.05875326,   14.30424243, ..., 1455.05299526,\n",
       "         1475.68605737, 1497.40183786]]))"
      ]
     },
     "execution_count": 113,
     "metadata": {},
     "output_type": "execute_result"
    }
   ],
   "source": [
    "# ai, bi\n",
    "hyai = grid_info[\"hyai\"].to_numpy()\n",
    "hybi = grid_info[\"hybi\"].to_numpy()\n",
    "p0 = 1e5\n",
    "ps = df[\"state_ps\"].to_numpy()\n",
    "pressures_v2 = hyai * p0 + hybi[None, :] * ps[:, None]\n",
    "pressures_v2 = np.diff(pressures_v2, n=1)\n",
    "pressures_v2.shape, pressures_v2"
   ]
  },
  {
   "cell_type": "code",
   "execution_count": null,
   "id": "51a8184c-f626-40cf-a927-f83000edbdbd",
   "metadata": {},
   "outputs": [],
   "source": []
  },
  {
   "cell_type": "code",
   "execution_count": 114,
   "id": "3eb1d36f-e373-42fc-bd79-a07937d6c036",
   "metadata": {},
   "outputs": [],
   "source": [
    "t_cols = [f\"ptend_t_{i}\" for i in range(60)]\n",
    "t_array = df[t_cols][0].to_numpy()\n",
    "\n",
    "q0001_cols = [f\"ptend_q0001_{i}\" for i in range(60)]\n",
    "q0001_array = df[q0001_cols][0].to_numpy()\n",
    "\n",
    "q0002_cols = [f\"ptend_q0002_{i}\" for i in range(60)]\n",
    "q0002_array = df[q0002_cols][0].to_numpy()\n",
    "\n",
    "q0003_cols = [f\"ptend_q0003_{i}\" for i in range(60)]\n",
    "q0003_array = df[q0003_cols][0].to_numpy()"
   ]
  },
  {
   "cell_type": "code",
   "execution_count": 115,
   "id": "ef16034a-a425-46be-8264-64e76a8b7449",
   "metadata": {},
   "outputs": [
    {
     "data": {
      "text/plain": [
       "array([-202.98457083, -203.65381852, -198.24844712, -202.18452895,\n",
       "       -203.19974194, -202.87435167, -202.82556951, -203.37534431,\n",
       "       -202.36159761, -200.43451654])"
      ]
     },
     "execution_count": 115,
     "metadata": {},
     "output_type": "execute_result"
    }
   ],
   "source": [
    "t = (t_array * pressures_v2).sum(axis=1) * C_P / G\n",
    "t[:10]"
   ]
  },
  {
   "cell_type": "code",
   "execution_count": null,
   "id": "944219fd-61a6-4cdc-a108-d2afeb73dd3e",
   "metadata": {},
   "outputs": [],
   "source": []
  },
  {
   "cell_type": "code",
   "execution_count": 116,
   "id": "ed4989c0-2fb3-4a40-ad43-c216f1ce3fc0",
   "metadata": {},
   "outputs": [],
   "source": [
    "sq0001_cols = [f\"state_q0001_{i}\" for i in range(60)]\n",
    "sq0001_array = df[sq0001_cols][0].to_numpy()\n",
    "\n",
    "sq0002_cols = [f\"state_q0002_{i}\" for i in range(60)]\n",
    "sq0002_array = df[sq0002_cols][0].to_numpy()\n",
    "\n",
    "sq0003_cols = [f\"state_q0003_{i}\" for i in range(60)]\n",
    "sq0003_array = df[sq0003_cols][0].to_numpy()"
   ]
  },
  {
   "cell_type": "code",
   "execution_count": 117,
   "id": "6355a48a-9047-4acc-b925-f67f15447abf",
   "metadata": {},
   "outputs": [
    {
     "data": {
      "text/plain": [
       "array([ 6.29182031e-07, -2.58264583e-06,  2.59379624e-06, -2.43335887e-05,\n",
       "       -2.91340828e-08, -1.29465991e-05, -1.09074563e-04, -1.58787304e-04,\n",
       "       -5.33405888e-05,  1.65656542e-13])"
      ]
     },
     "execution_count": 117,
     "metadata": {},
     "output_type": "execute_result"
    }
   ],
   "source": [
    "water_array = (\n",
    "    df[q0001_cols].to_numpy() + df[q0002_cols].to_numpy() + df[q0003_cols].to_numpy()\n",
    ")\n",
    "total_water_errr = (water_array * pressures_v2 / G).sum(axis=1)\n",
    "total_water_errr[:10]"
   ]
  },
  {
   "cell_type": "code",
   "execution_count": 118,
   "id": "5316310e-bec9-40e2-93cd-77e6b7766bd9",
   "metadata": {},
   "outputs": [
    {
     "data": {
      "text/plain": [
       "array([24.85765022, 19.67242225, 38.58525545, 37.84883581, 19.80491455,\n",
       "       29.19747821, 49.52172499, 50.87751134, 37.27527963, 34.66226362])"
      ]
     },
     "execution_count": 118,
     "metadata": {},
     "output_type": "execute_result"
    }
   ],
   "source": [
    "water_array = (\n",
    "    df[sq0001_cols].to_numpy() + df[sq0002_cols].to_numpy() + df[sq0003_cols].to_numpy()\n",
    ")\n",
    "total_water = (water_array * pressures_v2 / G).sum(axis=1)\n",
    "total_water[:10]"
   ]
  },
  {
   "cell_type": "code",
   "execution_count": 119,
   "id": "31dd2bb9-d12e-40ff-9792-29bdb981dff6",
   "metadata": {},
   "outputs": [
    {
     "data": {
      "text/plain": [
       "array([-2.94767248e-09, -3.13836586e-06, -7.42421523e-06, -2.53409014e-05,\n",
       "       -3.37741547e-07, -1.87480286e-05, -8.45100286e-05, -1.64397332e-04,\n",
       "       -4.25005947e-05, -0.00000000e+00])"
      ]
     },
     "execution_count": 119,
     "metadata": {},
     "output_type": "execute_result"
    }
   ],
   "source": [
    "surface_water_flux = -1e3 * (\n",
    "    df[[\"cam_out_PRECC\"]].to_numpy().flatten()\n",
    ")  # convert from m/s to kg/m2/s with factor of 1000; positive values into atmosphere\n",
    "\n",
    "surface_water_flux[:10]"
   ]
  },
  {
   "cell_type": "code",
   "execution_count": 120,
   "id": "e6c040cf-dca8-4731-b18e-466795542813",
   "metadata": {},
   "outputs": [
    {
     "data": {
      "text/plain": [
       "array([ 6.32129703e-07,  5.55720028e-07,  1.00180115e-05,  1.00731266e-06,\n",
       "        3.08607465e-07,  5.80142949e-06, -2.45645348e-05,  5.61002762e-06,\n",
       "       -1.08399941e-05,  1.65656542e-13])"
      ]
     },
     "execution_count": 120,
     "metadata": {},
     "output_type": "execute_result"
    }
   ],
   "source": [
    "(total_water_errr - surface_water_flux)[:10]"
   ]
  },
  {
   "cell_type": "code",
   "execution_count": 128,
   "id": "db7c43cf-13c5-4bfb-8332-c5b7e704b334",
   "metadata": {},
   "outputs": [
    {
     "data": {
      "text/plain": [
       "[<matplotlib.lines.Line2D at 0x7f90829948b0>]"
      ]
     },
     "execution_count": 128,
     "metadata": {},
     "output_type": "execute_result"
    },
    {
     "data": {
      "image/png": "[encoded data removed]",
      "text/plain": [
       "<Figure size 640x480 with 1 Axes>"
      ]
     },
     "metadata": {},
     "output_type": "display_data"
    }
   ],
   "source": [
    "import matplotlib.pyplot as plt\n",
    "import numpy as np\n",
    "\n",
    "# 折れ線グラフを出力\n",
    "left = np.arange(100000)\n",
    "plt.plot(left, 1200 * (total_water_errr - surface_water_flux) / total_water)"
   ]
  },
  {
   "cell_type": "code",
   "execution_count": 135,
   "id": "f0164d63-88ae-4232-84ca-ea70f39e8166",
   "metadata": {},
   "outputs": [
    {
     "data": {
      "text/plain": [
       "[<matplotlib.lines.Line2D at 0x7f90824e4c70>]"
      ]
     },
     "execution_count": 135,
     "metadata": {},
     "output_type": "execute_result"
    },
    {
     "data": {
      "image/png": "[encoded data removed]",
      "text/plain": [
       "<Figure size 640x480 with 1 Axes>"
      ]
     },
     "metadata": {},
     "output_type": "display_data"
    }
   ],
   "source": [
    "# 折れ線グラフを出力\n",
    "left = np.arange(10000)\n",
    "plt.plot(left, (1200 * (total_water_errr - surface_water_flux))[:10000])"
   ]
  },
  {
   "cell_type": "code",
   "execution_count": 126,
   "id": "a65a541f-e5b5-4107-beef-a78cd6a9e1ae",
   "metadata": {},
   "outputs": [
    {
     "data": {
      "text/html": [
       "<div>\n",
       "<style scoped>\n",
       "    .dataframe tbody tr th:only-of-type {\n",
       "        vertical-align: middle;\n",
       "    }\n",
       "\n",
       "    .dataframe tbody tr th {\n",
       "        vertical-align: top;\n",
       "    }\n",
       "\n",
       "    .dataframe thead th {\n",
       "        text-align: right;\n",
       "    }\n",
       "</style>\n",
       "<table border=\"1\" class=\"dataframe\">\n",
       "  <thead>\n",
       "    <tr style=\"text-align: right;\">\n",
       "      <th></th>\n",
       "      <th>count</th>\n",
       "      <th>mean</th>\n",
       "      <th>std</th>\n",
       "      <th>min</th>\n",
       "      <th>25%</th>\n",
       "      <th>50%</th>\n",
       "      <th>75%</th>\n",
       "      <th>max</th>\n",
       "    </tr>\n",
       "  </thead>\n",
       "  <tbody>\n",
       "    <tr>\n",
       "      <th>0</th>\n",
       "      <td>100000.0</td>\n",
       "      <td>0.000003</td>\n",
       "      <td>0.001213</td>\n",
       "      <td>-0.026569</td>\n",
       "      <td>-0.000063</td>\n",
       "      <td>-2.366801e-16</td>\n",
       "      <td>0.000084</td>\n",
       "      <td>0.028851</td>\n",
       "    </tr>\n",
       "  </tbody>\n",
       "</table>\n",
       "</div>"
      ],
      "text/plain": [
       "      count      mean       std       min       25%           50%       75%  \\\n",
       "0  100000.0  0.000003  0.001213 -0.026569 -0.000063 -2.366801e-16  0.000084   \n",
       "\n",
       "        max  \n",
       "0  0.028851  "
      ]
     },
     "execution_count": 126,
     "metadata": {},
     "output_type": "execute_result"
    }
   ],
   "source": [
    "change_rate = 1200 * (total_water_errr - surface_water_flux) / total_water\n",
    "import pandas as pd\n",
    "\n",
    "pd.DataFrame(pd.Series(change_rate.ravel()).describe()).transpose()"
   ]
  },
  {
   "cell_type": "code",
   "execution_count": 148,
   "id": "a5f88bbd-1a1a-4f1c-bc39-dc5c03cdca82",
   "metadata": {},
   "outputs": [
    {
     "data": {
      "text/plain": [
       "[<matplotlib.lines.Line2D at 0x7f9082429330>]"
      ]
     },
     "execution_count": 148,
     "metadata": {},
     "output_type": "execute_result"
    },
    {
     "data": {
      "image/png": "[encoded data removed]",
      "text/plain": [
       "<Figure size 640x480 with 1 Axes>"
      ]
     },
     "metadata": {},
     "output_type": "display_data"
    }
   ],
   "source": [
    "# 折れ線グラフを出力\n",
    "left = np.arange(10000)\n",
    "plt.plot(\n",
    "    left,\n",
    "    (1200 * (total_water_errr - surface_water_flux))[:10000],\n",
    ")"
   ]
  },
  {
   "cell_type": "code",
   "execution_count": 142,
   "id": "f5fb3f09-2fb7-4f22-a5ae-fdc0d904c5a3",
   "metadata": {},
   "outputs": [
    {
     "data": {
      "text/plain": [
       "360"
      ]
     },
     "execution_count": 142,
     "metadata": {},
     "output_type": "execute_result"
    }
   ],
   "source": [
    "df[:, 1:].columns.index(\"state_ps\")"
   ]
  },
  {
   "cell_type": "code",
   "execution_count": 143,
   "id": "ecde7eb6-da10-44d1-b548-35c8ec62f4ad",
   "metadata": {},
   "outputs": [
    {
     "data": {
      "text/plain": [
       "362"
      ]
     },
     "execution_count": 143,
     "metadata": {},
     "output_type": "execute_result"
    }
   ],
   "source": [
    "df[:, 1:].columns.index(\"cam_out_PRECC\") - 557"
   ]
  },
  {
   "cell_type": "code",
   "execution_count": 146,
   "id": "a4ed94da-e049-44c2-8a59-f0cc45b616ac",
   "metadata": {},
   "outputs": [
    {
     "data": {
      "text/html": [
       "<div><style>\n",
       ".dataframe > thead > tr,\n",
       ".dataframe > tbody > tr {\n",
       "  text-align: right;\n",
       "  white-space: pre-wrap;\n",
       "}\n",
       "</style>\n",
       "<small>shape: (100_000,)</small><table border=\"1\" class=\"dataframe\"><thead><tr><th>pbuf_LHFLX</th></tr><tr><td>f64</td></tr></thead><tbody><tr><td>0.000036</td></tr><tr><td>0.000041</td></tr><tr><td>0.000075</td></tr><tr><td>0.000101</td></tr><tr><td>0.000027</td></tr><tr><td>&hellip;</td></tr><tr><td>0.000064</td></tr><tr><td>0.000056</td></tr><tr><td>0.000036</td></tr><tr><td>0.000058</td></tr><tr><td>0.000025</td></tr></tbody></table></div>"
      ],
      "text/plain": [
       "shape: (100_000,)\n",
       "Series: 'pbuf_LHFLX' [f64]\n",
       "[\n",
       "\t0.000036\n",
       "\t0.000041\n",
       "\t0.000075\n",
       "\t0.000101\n",
       "\t0.000027\n",
       "\t…\n",
       "\t0.000064\n",
       "\t0.000056\n",
       "\t0.000036\n",
       "\t0.000058\n",
       "\t0.000025\n",
       "]"
      ]
     },
     "execution_count": 146,
     "metadata": {},
     "output_type": "execute_result"
    }
   ],
   "source": []
  },
  {
   "cell_type": "code",
   "execution_count": 12,
   "id": "ae7e76db-c82a-42fc-861b-ed0f800920f3",
   "metadata": {},
   "outputs": [
    {
     "data": {
      "text/plain": [
       "-1.479145326211788"
      ]
     },
     "execution_count": 12,
     "metadata": {},
     "output_type": "execute_result"
    }
   ],
   "source": [
    "C_P * t_array.sum()"
   ]
  },
  {
   "cell_type": "code",
   "execution_count": 26,
   "id": "4171d3c1-7e1d-40f4-b480-c290ce7245ff",
   "metadata": {},
   "outputs": [
    {
     "data": {
      "text/plain": [
       "-3.320673868834854e-08"
      ]
     },
     "execution_count": 26,
     "metadata": {},
     "output_type": "execute_result"
    }
   ],
   "source": [
    "q0001_array.sum()"
   ]
  },
  {
   "cell_type": "code",
   "execution_count": 27,
   "id": "f7f1f281-5d83-46f9-ae90-9e0ce8ff2340",
   "metadata": {},
   "outputs": [
    {
     "data": {
      "text/plain": [
       "-1.110027167237154e-08"
      ]
     },
     "execution_count": 27,
     "metadata": {},
     "output_type": "execute_result"
    }
   ],
   "source": [
    "q0002_array.sum()"
   ]
  },
  {
   "cell_type": "code",
   "execution_count": 28,
   "id": "3db98f0c-4658-442b-84e1-47dbefa208b6",
   "metadata": {},
   "outputs": [
    {
     "data": {
      "text/plain": [
       "-2.1122588405150454e-09"
      ]
     },
     "execution_count": 28,
     "metadata": {},
     "output_type": "execute_result"
    }
   ],
   "source": [
    "q0003_array.sum()"
   ]
  },
  {
   "cell_type": "code",
   "execution_count": 29,
   "id": "98018f16-d24e-4ccb-9371-e04de48ee180",
   "metadata": {},
   "outputs": [
    {
     "data": {
      "text/plain": [
       "array([[89.48877446]])"
      ]
     },
     "execution_count": 29,
     "metadata": {},
     "output_type": "execute_result"
    }
   ],
   "source": []
  },
  {
   "cell_type": "code",
   "execution_count": 31,
   "id": "68403eef-5c70-4c3c-8d27-be482b7abcc2",
   "metadata": {},
   "outputs": [
    {
     "data": {
      "text/plain": [
       "(array([[2.94767248e-12]]), array([[0.]]))"
      ]
     },
     "execution_count": 31,
     "metadata": {},
     "output_type": "execute_result"
    }
   ],
   "source": [
    "df[[\"cam_out_PRECC\"]][0].to_numpy(), df[[\"cam_out_PRECSC\"]][0].to_numpy()"
   ]
  },
  {
   "cell_type": "code",
   "execution_count": 36,
   "id": "773fed95-b16c-4de3-9c34-5888612644b5",
   "metadata": {},
   "outputs": [
    {
     "data": {
      "text/plain": [
       "7.421055217492985e-05"
      ]
     },
     "execution_count": 36,
     "metadata": {},
     "output_type": "execute_result"
    }
   ],
   "source": [
    "(df[\"state_ps\"][0] - P0) / 60 * G / L_V"
   ]
  },
  {
   "cell_type": "code",
   "execution_count": null,
   "id": "5f77423b-fcba-45be-95d8-a780f13945a5",
   "metadata": {},
   "outputs": [],
   "source": []
  }
 ],
 "metadata": {
  "kernelspec": {
   "display_name": "Python 3 (ipykernel) (Local)",
   "language": "python",
   "name": "python3"
  },
  "language_info": {
   "codemirror_mode": {
    "name": "ipython",
    "version": 3
   },
   "file_extension": ".py",
   "mimetype": "text/x-python",
   "name": "python",
   "nbconvert_exporter": "python",
   "pygments_lexer": "ipython3",
   "version": "3.10.13"
  }
 },
 "nbformat": 4,
 "nbformat_minor": 5
}
