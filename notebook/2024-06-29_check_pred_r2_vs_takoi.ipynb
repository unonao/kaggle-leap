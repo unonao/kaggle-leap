{
 "cells": [
  {
   "cell_type": "code",
   "execution_count": 1,
   "id": "3add46ab-6256-4067-835a-daf93e546806",
   "metadata": {},
   "outputs": [],
   "source": [
    "# parameters\n",
    "config_dir = \"../experiments\"\n",
    "exp_name = \"902_optuna/002\""
   ]
  },
  {
   "cell_type": "code",
   "execution_count": 2,
   "id": "601b1733-c0c1-4c96-906c-0162f924456d",
   "metadata": {},
   "outputs": [
    {
     "name": "stdout",
     "output_type": "stream",
     "text": [
      "/kaggle/working\n"
     ]
    }
   ],
   "source": [
    "%cd /kaggle/working\n",
    "\n",
    "from pathlib import Path\n",
    "\n",
    "from hydra import compose, initialize\n",
    "from omegaconf import OmegaConf\n",
    "\n",
    "with initialize(\n",
    "    version_base=None, config_path=f\"{config_dir}/{exp_name.split('/')[0]}\"\n",
    "):\n",
    "    cfg = compose(\n",
    "        config_name=\"config.yaml\",\n",
    "        overrides=[f\"exp={exp_name.split('/')[-1]}\"],\n",
    "        return_hydra_config=True,\n",
    "    )\n",
    "import pickle\n",
    "\n",
    "import matplotlib.pyplot as plt\n",
    "import numpy as np\n",
    "import polars as pl\n",
    "import seaborn as sns\n",
    "\n",
    "# 定数定義\n",
    "output_dir = Path(f\"output/experiments/{exp_name}\")\n",
    "gcs_path = f\"gs://{cfg.dir.gcs_bucket}/{cfg.dir.gcs_base_dir}/experiments/{exp_name}/\"\n",
    "\n",
    "# カラムの定義\n",
    "single_targets = [\n",
    "    \"cam_out_NETSW\",\n",
    "    \"cam_out_FLWDS\",\n",
    "    \"cam_out_PRECSC\",\n",
    "    \"cam_out_PRECC\",\n",
    "    \"cam_out_SOLS\",\n",
    "    \"cam_out_SOLL\",\n",
    "    \"cam_out_SOLSD\",\n",
    "    \"cam_out_SOLLD\",\n",
    "]\n",
    "seq_targets = [\n",
    "    \"ptend_t\",\n",
    "    \"ptend_q0001\",\n",
    "    \"ptend_q0002\",\n",
    "    \"ptend_q0003\",\n",
    "    \"ptend_u\",\n",
    "    \"ptend_v\",\n",
    "]\n",
    "target_columns = []\n",
    "for col in seq_targets:\n",
    "    for i in range(60):\n",
    "        target_columns.append(f\"{col}_{i}\")\n",
    "target_columns.extend(single_targets)"
   ]
  },
  {
   "cell_type": "code",
   "execution_count": 3,
   "id": "36c4b4d5-63a8-4d5c-94d8-1b451a768495",
   "metadata": {},
   "outputs": [],
   "source": [
    "kami_sub = pl.read_parquet(gcs_path + \"submission.parquet\", retries=5)"
   ]
  },
  {
   "cell_type": "code",
   "execution_count": 4,
   "id": "c678a72b-5f75-4e58-a538-e91c744b7566",
   "metadata": {},
   "outputs": [],
   "source": [
    "takoi_sub = pl.read_parquet(\n",
    "    \"gs://kaggle-leap/kami/ex123_124_130_131_133_134_135_ensemble.parquet\"\n",
    ")"
   ]
  },
  {
   "cell_type": "code",
   "execution_count": 42,
   "id": "85b7cb01-0d61-40f8-8f4c-0fdd2daf95e2",
   "metadata": {},
   "outputs": [],
   "source": [
    "import pandas as pd\n",
    "\n",
    "from utils.metric import score\n",
    "\n",
    "preds = kami_sub[:, 1:].to_numpy()\n",
    "labels = takoi_sub[:, 1:].to_numpy()\n",
    "\n",
    "_predict_df = pd.DataFrame(\n",
    "    preds, columns=[i for i in range(preds.shape[1])]\n",
    ").reset_index()\n",
    "_label_df = pd.DataFrame(\n",
    "    labels, columns=[i for i in range(labels.shape[1])]\n",
    ").reset_index()\n",
    "r2_scores = score(_label_df, _predict_df, \"index\", multioutput=\"raw_values\")\n",
    "\n",
    "r2_score_dict = {\n",
    "    col: r2 for col, r2 in dict(zip(cfg.cols.col_names, r2_scores)).items()\n",
    "}\n",
    "\n",
    "for key, val in r2_score_dict.items():\n",
    "    if val < 0.9:\n",
    "        print(key, val)"
   ]
  },
  {
   "cell_type": "code",
   "execution_count": 43,
   "id": "5b97cc4a-79d5-4ca0-87ff-35e9494b130d",
   "metadata": {},
   "outputs": [],
   "source": []
  },
  {
   "cell_type": "code",
   "execution_count": null,
   "id": "77fa7ace-7ad1-4b74-b309-295d28f7330f",
   "metadata": {},
   "outputs": [],
   "source": []
  },
  {
   "cell_type": "code",
   "execution_count": 51,
   "id": "7877c0bd-8870-49c7-9892-bdb845fa6f95",
   "metadata": {},
   "outputs": [],
   "source": [
    "fill_kami_sub = kami_sub.with_columns(\n",
    "    takoi_sub[[f\"ptend_q0001_{l}\" for l in range(60)]+[f\"ptend_q0002_{l}\" for l in range(60)]+[f\"ptend_q0003_{l}\" for l in range(60)]],\n",
    ")"
   ]
  },
  {
   "cell_type": "code",
   "execution_count": 39,
   "id": "4889810e-9287-48ba-b629-bb0995118cf4",
   "metadata": {},
   "outputs": [],
   "source": [
    "fill_kami_sub.write_parquet(\"output/fill_902_optuna_002.parquet\")"
   ]
  },
  {
   "cell_type": "code",
   "execution_count": null,
   "id": "a2ab951d-9aed-45dd-9882-99d40aeea898",
   "metadata": {},
   "outputs": [],
   "source": []
  },
  {
   "cell_type": "code",
   "execution_count": 52,
   "id": "30688b27-18b9-4a84-a7d3-e3e85cca8ed1",
   "metadata": {},
   "outputs": [
    {
     "name": "stdout",
     "output_type": "stream",
     "text": [
      "ptend_t_1 0.8338239811469996\n",
      "ptend_t_17 0.8341328449244259\n",
      "ptend_q0001_14 0.7142419565917002\n",
      "ptend_q0001_15 -0.39195517364672283\n",
      "ptend_q0001_16 0.798761040496495\n",
      "ptend_q0001_17 0.539621639601469\n",
      "ptend_q0001_18 0.7226863383299738\n",
      "ptend_q0002_28 0.03544894205125815\n",
      "ptend_q0003_15 -1.3326470718960994\n",
      "ptend_q0003_16 0.18885631697047534\n",
      "ptend_q0003_17 0.5584758708186639\n",
      "ptend_q0003_18 0.7606862424670793\n",
      "ptend_q0003_28 0.7546021777542491\n",
      "ptend_q0003_29 0.832351630527032\n"
     ]
    }
   ],
   "source": [
    "import pandas as pd\n",
    "\n",
    "from utils.metric import score\n",
    "\n",
    "preds = fill_kami_sub[:, 1:].to_numpy()\n",
    "labels = takoi_sub[:, 1:].to_numpy()\n",
    "\n",
    "_predict_df = pd.DataFrame(\n",
    "    preds, columns=[i for i in range(preds.shape[1])]\n",
    ").reset_index()\n",
    "_label_df = pd.DataFrame(\n",
    "    labels, columns=[i for i in range(labels.shape[1])]\n",
    ").reset_index()\n",
    "r2_scores = score(_label_df, _predict_df, \"index\", multioutput=\"raw_values\")\n",
    "\n",
    "for key, val in r2_score_dict.items():\n",
    "    if val < 0.9:\n",
    "        print(key, val)"
   ]
  },
  {
   "cell_type": "code",
   "execution_count": null,
   "id": "c4630eae-ff7d-40bb-b0b9-ed505784ea60",
   "metadata": {},
   "outputs": [],
   "source": []
  }
 ],
 "metadata": {
  "kernelspec": {
   "display_name": "Python 3 (ipykernel) (Local)",
   "language": "python",
   "name": "python3"
  },
  "language_info": {
   "codemirror_mode": {
    "name": "ipython",
    "version": 3
   },
   "file_extension": ".py",
   "mimetype": "text/x-python",
   "name": "python",
   "nbconvert_exporter": "python",
   "pygments_lexer": "ipython3",
   "version": "3.10.13"
  }
 },
 "nbformat": 4,
 "nbformat_minor": 5
}
