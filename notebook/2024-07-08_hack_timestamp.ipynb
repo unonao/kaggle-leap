{
 "cells": [
  {
   "cell_type": "code",
   "execution_count": 1,
   "id": "1359fbe9-ef15-49a2-a079-3bfe40424bc7",
   "metadata": {},
   "outputs": [
    {
     "name": "stdout",
     "output_type": "stream",
     "text": [
      "/kaggle/working\n"
     ]
    }
   ],
   "source": [
    "%cd /kaggle/working"
   ]
  },
  {
   "cell_type": "code",
   "execution_count": 2,
   "id": "45973d13-3a68-44bc-9f16-c095282b0451",
   "metadata": {},
   "outputs": [],
   "source": [
    "import pickle\n",
    "from pathlib import Path\n",
    "\n",
    "import matplotlib.pyplot as plt\n",
    "import numpy as np\n",
    "import pandas as pd\n",
    "import polars as pl\n",
    "import seaborn as sns\n",
    "from hydra import compose, initialize\n",
    "from omegaconf import OmegaConf\n",
    "\n",
    "from utils.metric import score"
   ]
  },
  {
   "cell_type": "code",
   "execution_count": 3,
   "id": "0388fa8a-8cd6-448d-8b72-e745f314d654",
   "metadata": {},
   "outputs": [],
   "source": [
    "def hide_submission(sub_df):\n",
    "    hide_sub_df = sub_df.clone().with_columns(\n",
    "        [pl.lit(0.0).alias(f\"ptend_q0002_{i}\") for i in range(12, 22)]\n",
    "    )\n",
    "    return hide_sub_df"
   ]
  },
  {
   "cell_type": "code",
   "execution_count": 4,
   "id": "00569ced-ef52-4f47-84e4-3adf65ed8929",
   "metadata": {},
   "outputs": [
    {
     "data": {
      "text/html": [
       "<div><style>\n",
       ".dataframe > thead > tr,\n",
       ".dataframe > tbody > tr {\n",
       "  text-align: right;\n",
       "  white-space: pre-wrap;\n",
       "}\n",
       "</style>\n",
       "<small>shape: (5, 369)</small><table border=\"1\" class=\"dataframe\"><thead><tr><th>sample_id</th><th>ptend_t_0</th><th>ptend_t_1</th><th>ptend_t_2</th><th>ptend_t_3</th><th>ptend_t_4</th><th>ptend_t_5</th><th>ptend_t_6</th><th>ptend_t_7</th><th>ptend_t_8</th><th>ptend_t_9</th><th>ptend_t_10</th><th>ptend_t_11</th><th>ptend_t_12</th><th>ptend_t_13</th><th>ptend_t_14</th><th>ptend_t_15</th><th>ptend_t_16</th><th>ptend_t_17</th><th>ptend_t_18</th><th>ptend_t_19</th><th>ptend_t_20</th><th>ptend_t_21</th><th>ptend_t_22</th><th>ptend_t_23</th><th>ptend_t_24</th><th>ptend_t_25</th><th>ptend_t_26</th><th>ptend_t_27</th><th>ptend_t_28</th><th>ptend_t_29</th><th>ptend_t_30</th><th>ptend_t_31</th><th>ptend_t_32</th><th>ptend_t_33</th><th>ptend_t_34</th><th>ptend_t_35</th><th>&hellip;</th><th>ptend_v_31</th><th>ptend_v_32</th><th>ptend_v_33</th><th>ptend_v_34</th><th>ptend_v_35</th><th>ptend_v_36</th><th>ptend_v_37</th><th>ptend_v_38</th><th>ptend_v_39</th><th>ptend_v_40</th><th>ptend_v_41</th><th>ptend_v_42</th><th>ptend_v_43</th><th>ptend_v_44</th><th>ptend_v_45</th><th>ptend_v_46</th><th>ptend_v_47</th><th>ptend_v_48</th><th>ptend_v_49</th><th>ptend_v_50</th><th>ptend_v_51</th><th>ptend_v_52</th><th>ptend_v_53</th><th>ptend_v_54</th><th>ptend_v_55</th><th>ptend_v_56</th><th>ptend_v_57</th><th>ptend_v_58</th><th>ptend_v_59</th><th>cam_out_NETSW</th><th>cam_out_FLWDS</th><th>cam_out_PRECSC</th><th>cam_out_PRECC</th><th>cam_out_SOLS</th><th>cam_out_SOLL</th><th>cam_out_SOLSD</th><th>cam_out_SOLLD</th></tr><tr><td>str</td><td>f64</td><td>f64</td><td>f64</td><td>f64</td><td>f64</td><td>f64</td><td>f64</td><td>f64</td><td>f64</td><td>f64</td><td>f64</td><td>f64</td><td>f64</td><td>f64</td><td>f64</td><td>f64</td><td>f64</td><td>f64</td><td>f64</td><td>f64</td><td>f64</td><td>f64</td><td>f64</td><td>f64</td><td>f64</td><td>f64</td><td>f64</td><td>f64</td><td>f64</td><td>f64</td><td>f64</td><td>f64</td><td>f64</td><td>f64</td><td>f64</td><td>f64</td><td>&hellip;</td><td>f64</td><td>f64</td><td>f64</td><td>f64</td><td>f64</td><td>f64</td><td>f64</td><td>f64</td><td>f64</td><td>f64</td><td>f64</td><td>f64</td><td>f64</td><td>f64</td><td>f64</td><td>f64</td><td>f64</td><td>f64</td><td>f64</td><td>f64</td><td>f64</td><td>f64</td><td>f64</td><td>f64</td><td>f64</td><td>f64</td><td>f64</td><td>f64</td><td>f64</td><td>f64</td><td>f64</td><td>f64</td><td>f64</td><td>f64</td><td>f64</td><td>f64</td><td>f64</td></tr></thead><tbody><tr><td>&quot;test_0&quot;</td><td>0.000003</td><td>-0.000065</td><td>-0.000085</td><td>-0.000086</td><td>-0.000096</td><td>-0.0001</td><td>-0.000082</td><td>-0.000064</td><td>-0.000049</td><td>-0.000041</td><td>-0.000028</td><td>-0.000018</td><td>-0.000009</td><td>-0.000004</td><td>-4.1657e-7</td><td>0.000001</td><td>0.000006</td><td>0.000004</td><td>0.000003</td><td>-0.000009</td><td>0.000009</td><td>-0.000003</td><td>-0.000012</td><td>-0.000016</td><td>-0.000015</td><td>-0.000013</td><td>-0.000016</td><td>-0.000018</td><td>-0.000023</td><td>-0.000031</td><td>-0.000037</td><td>-0.000032</td><td>-0.000023</td><td>-0.000018</td><td>-0.000017</td><td>-0.000015</td><td>&hellip;</td><td>9.3603e-7</td><td>0.000002</td><td>-4.3578e-7</td><td>-0.000002</td><td>-0.000001</td><td>-6.4969e-7</td><td>-8.2227e-7</td><td>-0.000003</td><td>-7.8813e-7</td><td>-5.8951e-7</td><td>1.9074e-7</td><td>-0.000003</td><td>0.000006</td><td>0.000001</td><td>0.000002</td><td>-0.000005</td><td>-0.000006</td><td>-0.000026</td><td>-0.000048</td><td>-0.000048</td><td>-0.000018</td><td>0.000038</td><td>0.000043</td><td>0.000042</td><td>0.000022</td><td>0.000012</td><td>0.000009</td><td>0.000008</td><td>4.1996e-7</td><td>-0.136167</td><td>402.35946</td><td>4.6684e-11</td><td>4.1327e-10</td><td>-0.033577</td><td>-0.049489</td><td>0.09329</td><td>0.212398</td></tr><tr><td>&quot;test_10&quot;</td><td>-0.000015</td><td>-0.00005</td><td>-0.000034</td><td>-0.000052</td><td>-0.00009</td><td>-0.000133</td><td>-0.000142</td><td>-0.000097</td><td>-0.000046</td><td>-0.000026</td><td>-0.000018</td><td>-0.000014</td><td>-0.000011</td><td>-0.000009</td><td>-0.000007</td><td>-0.000005</td><td>-0.000004</td><td>-0.000004</td><td>-0.000002</td><td>-0.000004</td><td>-0.000004</td><td>-0.000008</td><td>-0.000008</td><td>-0.000009</td><td>-0.000008</td><td>-0.000011</td><td>-0.000013</td><td>-0.000017</td><td>-0.00002</td><td>-0.000018</td><td>-0.00002</td><td>-0.000019</td><td>-0.000015</td><td>-0.000007</td><td>-0.000002</td><td>0.000003</td><td>&hellip;</td><td>-4.8681e-7</td><td>-3.7356e-7</td><td>2.0193e-7</td><td>4.7321e-7</td><td>3.4525e-7</td><td>2.1168e-7</td><td>1.7050e-7</td><td>6.5687e-8</td><td>2.0065e-8</td><td>2.7567e-9</td><td>1.3472e-7</td><td>-8.9901e-7</td><td>4.5322e-7</td><td>-3.2823e-7</td><td>0.000001</td><td>-4.6198e-9</td><td>-5.7225e-7</td><td>-0.000002</td><td>-0.000002</td><td>-0.000002</td><td>-0.000002</td><td>-0.000001</td><td>-1.4282e-7</td><td>9.2288e-7</td><td>0.000002</td><td>0.000001</td><td>8.3161e-7</td><td>-0.000002</td><td>0.000004</td><td>-0.027761</td><td>345.154827</td><td>2.5575e-11</td><td>-5.9339e-10</td><td>-0.316943</td><td>-0.456919</td><td>0.0302</td><td>0.172592</td></tr><tr><td>&quot;test_100&quot;</td><td>-0.000007</td><td>-0.00008</td><td>-0.000033</td><td>-0.000028</td><td>-0.000073</td><td>-0.000096</td><td>-0.000079</td><td>-0.000053</td><td>-0.00003</td><td>-0.000021</td><td>-0.000017</td><td>-0.000014</td><td>-0.000012</td><td>-0.00001</td><td>-0.000007</td><td>-0.000005</td><td>-0.000004</td><td>-0.000005</td><td>0.000004</td><td>-0.000009</td><td>-0.000004</td><td>-0.000007</td><td>-0.000006</td><td>-0.000006</td><td>-0.000004</td><td>-0.000003</td><td>-0.000006</td><td>-0.000006</td><td>-0.000007</td><td>-0.000011</td><td>-0.000015</td><td>-0.000019</td><td>-0.000022</td><td>-0.000022</td><td>-0.000024</td><td>-0.000024</td><td>&hellip;</td><td>-0.000002</td><td>-0.000002</td><td>-7.8204e-7</td><td>2.2820e-7</td><td>8.2554e-7</td><td>0.000001</td><td>8.8598e-7</td><td>8.5306e-7</td><td>6.2661e-7</td><td>3.6903e-7</td><td>1.7289e-8</td><td>-4.6920e-7</td><td>-1.9907e-7</td><td>0.000002</td><td>3.3318e-7</td><td>-0.000001</td><td>-7.2683e-7</td><td>-0.000004</td><td>-0.00001</td><td>-0.00002</td><td>-0.000023</td><td>0.000009</td><td>0.00001</td><td>0.000014</td><td>0.00001</td><td>0.000004</td><td>0.000004</td><td>0.000004</td><td>0.000012</td><td>2.065205</td><td>331.870707</td><td>3.9388e-12</td><td>6.2842e-10</td><td>0.947471</td><td>0.65194</td><td>0.288081</td><td>0.205645</td></tr><tr><td>&quot;test_1000&quot;</td><td>0.000026</td><td>0.000007</td><td>0.000033</td><td>0.000026</td><td>-0.000013</td><td>-0.000057</td><td>-0.000047</td><td>-0.000021</td><td>-0.000008</td><td>-0.000003</td><td>-0.000001</td><td>-6.6297e-7</td><td>-3.7065e-7</td><td>0.000002</td><td>0.000003</td><td>0.000005</td><td>0.000006</td><td>0.000004</td><td>1.3132e-7</td><td>7.6130e-7</td><td>-4.3587e-7</td><td>-0.000002</td><td>-0.00001</td><td>-0.000019</td><td>-0.000017</td><td>-0.000014</td><td>-0.000014</td><td>-0.000017</td><td>-0.000021</td><td>-0.000023</td><td>-0.000021</td><td>-0.00002</td><td>-0.000018</td><td>-0.000017</td><td>-0.000016</td><td>-0.000017</td><td>&hellip;</td><td>2.6728e-8</td><td>-4.6045e-8</td><td>6.6996e-7</td><td>-0.000001</td><td>8.5986e-8</td><td>0.000001</td><td>-0.000001</td><td>1.5021e-7</td><td>-9.4691e-7</td><td>3.3675e-7</td><td>-0.000005</td><td>0.000007</td><td>0.000003</td><td>0.000005</td><td>0.000007</td><td>0.000007</td><td>0.000007</td><td>0.00001</td><td>0.00001</td><td>0.000008</td><td>0.000006</td><td>0.000004</td><td>9.9584e-7</td><td>-0.000006</td><td>-0.000012</td><td>-0.000022</td><td>-0.000039</td><td>-0.000046</td><td>0.000025</td><td>2.73912</td><td>361.004821</td><td>-3.4882e-12</td><td>-7.1884e-10</td><td>-2.280668</td><td>2.305229</td><td>1.976705</td><td>-0.310764</td></tr><tr><td>&quot;test_10000&quot;</td><td>0.000048</td><td>0.000026</td><td>0.000045</td><td>0.000086</td><td>0.000127</td><td>0.000175</td><td>0.000188</td><td>0.000148</td><td>0.000089</td><td>0.000064</td><td>0.000046</td><td>0.000036</td><td>0.000029</td><td>0.00002</td><td>0.000014</td><td>0.000012</td><td>0.000011</td><td>0.00001</td><td>0.000008</td><td>0.000006</td><td>0.000003</td><td>-1.1089e-7</td><td>-0.000003</td><td>-0.000006</td><td>-0.00001</td><td>-0.000012</td><td>-0.000008</td><td>-0.000006</td><td>-0.000005</td><td>-0.000004</td><td>-0.000004</td><td>-0.000004</td><td>-0.000004</td><td>-0.000003</td><td>0.000002</td><td>0.000002</td><td>&hellip;</td><td>2.1942e-8</td><td>9.0835e-9</td><td>1.2533e-8</td><td>7.1560e-9</td><td>2.7984e-8</td><td>1.6180e-8</td><td>-1.7384e-8</td><td>2.7839e-8</td><td>-1.0827e-7</td><td>1.2593e-7</td><td>-7.0349e-8</td><td>2.6809e-8</td><td>-7.4153e-8</td><td>-2.0619e-7</td><td>1.2592e-7</td><td>6.6115e-9</td><td>-2.0495e-7</td><td>2.4834e-7</td><td>-4.8647e-9</td><td>-1.6581e-8</td><td>3.5178e-8</td><td>1.3987e-7</td><td>-1.2053e-7</td><td>-1.6337e-7</td><td>-2.0883e-7</td><td>8.2948e-7</td><td>-4.1533e-8</td><td>6.7766e-7</td><td>-9.4207e-7</td><td>921.564771</td><td>381.232881</td><td>3.8690e-11</td><td>-3.9947e-10</td><td>446.291565</td><td>452.6363</td><td>48.597155</td><td>2.662356</td></tr></tbody></table></div>"
      ],
      "text/plain": [
       "shape: (5, 369)\n",
       "┌───────────┬───────────┬───────────┬───────────┬───┬───────────┬───────────┬───────────┬──────────┐\n",
       "│ sample_id ┆ ptend_t_0 ┆ ptend_t_1 ┆ ptend_t_2 ┆ … ┆ cam_out_S ┆ cam_out_S ┆ cam_out_S ┆ cam_out_ │\n",
       "│ ---       ┆ ---       ┆ ---       ┆ ---       ┆   ┆ OLS       ┆ OLL       ┆ OLSD      ┆ SOLLD    │\n",
       "│ str       ┆ f64       ┆ f64       ┆ f64       ┆   ┆ ---       ┆ ---       ┆ ---       ┆ ---      │\n",
       "│           ┆           ┆           ┆           ┆   ┆ f64       ┆ f64       ┆ f64       ┆ f64      │\n",
       "╞═══════════╪═══════════╪═══════════╪═══════════╪═══╪═══════════╪═══════════╪═══════════╪══════════╡\n",
       "│ test_0    ┆ 0.000003  ┆ -0.000065 ┆ -0.000085 ┆ … ┆ -0.033577 ┆ -0.049489 ┆ 0.09329   ┆ 0.212398 │\n",
       "│ test_10   ┆ -0.000015 ┆ -0.00005  ┆ -0.000034 ┆ … ┆ -0.316943 ┆ -0.456919 ┆ 0.0302    ┆ 0.172592 │\n",
       "│ test_100  ┆ -0.000007 ┆ -0.00008  ┆ -0.000033 ┆ … ┆ 0.947471  ┆ 0.65194   ┆ 0.288081  ┆ 0.205645 │\n",
       "│ test_1000 ┆ 0.000026  ┆ 0.000007  ┆ 0.000033  ┆ … ┆ -2.280668 ┆ 2.305229  ┆ 1.976705  ┆ -0.31076 │\n",
       "│           ┆           ┆           ┆           ┆   ┆           ┆           ┆           ┆ 4        │\n",
       "│ test_1000 ┆ 0.000048  ┆ 0.000026  ┆ 0.000045  ┆ … ┆ 446.29156 ┆ 452.6363  ┆ 48.597155 ┆ 2.662356 │\n",
       "│ 0         ┆           ┆           ┆           ┆   ┆ 5         ┆           ┆           ┆          │\n",
       "└───────────┴───────────┴───────────┴───────────┴───┴───────────┴───────────┴───────────┴──────────┘"
      ]
     },
     "execution_count": 4,
     "metadata": {},
     "output_type": "execute_result"
    }
   ],
   "source": [
    "base_sub_path = \"gs://kaggle-leap/kami/20240610_ensemble_nelder_mead2_lb078544.parquet\"\n",
    "base_sub_df = pl.read_parquet(base_sub_path)\n",
    "base_sub_df.head()"
   ]
  },
  {
   "cell_type": "markdown",
   "id": "897ea026-1c6d-434b-87fd-e52b6d83e4e9",
   "metadata": {},
   "source": [
    "## timestamp使った予測値で置き換える"
   ]
  },
  {
   "cell_type": "code",
   "execution_count": null,
   "id": "bd28b0f4-a95f-4bc5-9172-e87a90d8825d",
   "metadata": {},
   "outputs": [],
   "source": [
    "time_sub_path = \"gs://kaggle-leap/kami/experiments/610_sim6/mid/submission.parquet\"\n",
    "time_sub_df = pl.read_parquet(time_sub_path)\n",
    "time_sub_df.head()"
   ]
  },
  {
   "cell_type": "code",
   "execution_count": 6,
   "id": "83b9f046-8836-43f3-9754-755d67e6b391",
   "metadata": {},
   "outputs": [
    {
     "data": {
      "text/html": [
       "<div><style>\n",
       ".dataframe > thead > tr,\n",
       ".dataframe > tbody > tr {\n",
       "  text-align: right;\n",
       "  white-space: pre-wrap;\n",
       "}\n",
       "</style>\n",
       "<small>shape: (5, 3)</small><table border=\"1\" class=\"dataframe\"><thead><tr><th>index</th><th>0</th><th>1</th></tr><tr><td>i64</td><td>f32</td><td>f32</td></tr></thead><tbody><tr><td>0</td><td>0.999998</td><td>0.000002</td></tr><tr><td>1</td><td>0.000003</td><td>0.999997</td></tr><tr><td>2</td><td>0.999998</td><td>0.000002</td></tr><tr><td>3</td><td>0.999993</td><td>0.000007</td></tr><tr><td>4</td><td>0.000003</td><td>0.999997</td></tr></tbody></table></div>"
      ],
      "text/plain": [
       "shape: (5, 3)\n",
       "┌───────┬──────────┬──────────┐\n",
       "│ index ┆ 0        ┆ 1        │\n",
       "│ ---   ┆ ---      ┆ ---      │\n",
       "│ i64   ┆ f32      ┆ f32      │\n",
       "╞═══════╪══════════╪══════════╡\n",
       "│ 0     ┆ 0.999998 ┆ 0.000002 │\n",
       "│ 1     ┆ 0.000003 ┆ 0.999997 │\n",
       "│ 2     ┆ 0.999998 ┆ 0.000002 │\n",
       "│ 3     ┆ 0.999993 ┆ 0.000007 │\n",
       "│ 4     ┆ 0.000003 ┆ 0.999997 │\n",
       "└───────┴──────────┴──────────┘"
      ]
     },
     "execution_count": 6,
     "metadata": {},
     "output_type": "execute_result"
    }
   ],
   "source": [
    "# class_exp = \"701_multi_class/small\"\n",
    "class_exp = \"700_binary_classify/small\""
   ]
  },
  {
   "cell_type": "code",
   "execution_count": 23,
   "id": "9f3110a8-d82f-4059-9b16-14269f999403",
   "metadata": {},
   "outputs": [
    {
     "name": "stdout",
     "output_type": "stream",
     "text": [
      "Threshold: 0.50000, Num:164917, Precision: 0.98712, Recall: 0.9997\n",
      "Threshold: 0.70000, Num:164431, Precision: 0.98990, Recall: 0.9996\n",
      "Threshold: 0.90000, Num:163780, Precision: 0.99341, Recall: 0.9991\n",
      "Threshold: 0.99000, Num:162670, Precision: 0.99731, Recall: 0.9963\n",
      "Threshold: 0.99900, Num:160517, Precision: 0.99918, Recall: 0.9849\n",
      "Threshold: 0.99990, Num:151902, Precision: 0.99993, Recall: 0.9328\n",
      "Threshold: 0.99999, Num:106162, Precision: 1.00000, Recall: 0.6519\n"
     ]
    }
   ],
   "source": [
    "# 閾値ごとの値をチェック\n",
    "\n",
    "from sklearn.metrics import precision_score, recall_score\n",
    "\n",
    "val2_predict_df = pl.read_parquet(\n",
    "    f\"gs://kaggle-leap/kami/experiments/{class_exp}/val2_predict.parquet\"\n",
    ")\n",
    "val2_label_df = pl.read_parquet(\n",
    "    f\"gs://kaggle-leap/kami/experiments/{class_exp}/val2_label.parquet\"\n",
    ")\n",
    "\n",
    "valid_preds = val2_predict_df.select([\"0\"]).to_numpy()  # classの番号\n",
    "valid_y_class = val2_label_df.select([\"0\"]).to_numpy() ==0\n",
    "\n",
    "thresholds = [0.5, 0.7, 0.9, 0.99, 0.999, 0.9999, 0.99999]\n",
    "for threshold in thresholds:\n",
    "    y_pred = (valid_preds > threshold).astype(np.int64)\n",
    "    # リコールと精度を計算\n",
    "    num_cand = np.sum(y_pred)\n",
    "    precision = precision_score(valid_y_class, y_pred)\n",
    "    recall = recall_score(valid_y_class, y_pred)\n",
    "    print(\n",
    "        f\"Threshold: {threshold:.5f}, Num:{num_cand}, Precision: {precision:.5f}, Recall: {recall:.5f}\"\n",
    "    )"
   ]
  },
  {
   "cell_type": "code",
   "execution_count": 25,
   "id": "fc70aa13-abd7-40c2-8f70-262b7bdebaa6",
   "metadata": {},
   "outputs": [
    {
     "data": {
      "text/html": [
       "<div><style>\n",
       ".dataframe > thead > tr,\n",
       ".dataframe > tbody > tr {\n",
       "  text-align: right;\n",
       "  white-space: pre-wrap;\n",
       "}\n",
       "</style>\n",
       "<small>shape: (5, 3)</small><table border=\"1\" class=\"dataframe\"><thead><tr><th>index</th><th>0</th><th>1</th></tr><tr><td>i64</td><td>f32</td><td>f32</td></tr></thead><tbody><tr><td>0</td><td>0.466391</td><td>0.533609</td></tr><tr><td>1</td><td>0.451819</td><td>0.548181</td></tr><tr><td>2</td><td>0.455463</td><td>0.544537</td></tr><tr><td>3</td><td>0.380917</td><td>0.619083</td></tr><tr><td>4</td><td>0.454082</td><td>0.545918</td></tr></tbody></table></div>"
      ],
      "text/plain": [
       "shape: (5, 3)\n",
       "┌───────┬──────────┬──────────┐\n",
       "│ index ┆ 0        ┆ 1        │\n",
       "│ ---   ┆ ---      ┆ ---      │\n",
       "│ i64   ┆ f32      ┆ f32      │\n",
       "╞═══════╪══════════╪══════════╡\n",
       "│ 0     ┆ 0.466391 ┆ 0.533609 │\n",
       "│ 1     ┆ 0.451819 ┆ 0.548181 │\n",
       "│ 2     ┆ 0.455463 ┆ 0.544537 │\n",
       "│ 3     ┆ 0.380917 ┆ 0.619083 │\n",
       "│ 4     ┆ 0.454082 ┆ 0.545918 │\n",
       "└───────┴──────────┴──────────┘"
      ]
     },
     "execution_count": 25,
     "metadata": {},
     "output_type": "execute_result"
    }
   ],
   "source": [
    "class_pred_df = pl.read_parquet(\n",
    "    f\"gs://kaggle-leap/kami/experiments/{class_exp}/test_predict.parquet\"\n",
    ")\n",
    "class_preds = val2_predict_df.select([\"0\"]).to_numpy()\n",
    "class_pred_df.head()"
   ]
  },
  {
   "cell_type": "code",
   "execution_count": 19,
   "id": "312fb000-b349-41d6-b0ad-2726ee734ecb",
   "metadata": {},
   "outputs": [
    {
     "data": {
      "text/html": [
       "<div><style>\n",
       ".dataframe > thead > tr,\n",
       ".dataframe > tbody > tr {\n",
       "  text-align: right;\n",
       "  white-space: pre-wrap;\n",
       "}\n",
       "</style>\n",
       "<small>shape: (840_960, 1)</small><table border=\"1\" class=\"dataframe\"><thead><tr><th>0</th></tr><tr><td>f64</td></tr></thead><tbody><tr><td>0.999995</td></tr><tr><td>0.999997</td></tr><tr><td>0.999996</td></tr><tr><td>0.999997</td></tr><tr><td>0.999998</td></tr><tr><td>&hellip;</td></tr><tr><td>0.999887</td></tr><tr><td>0.999997</td></tr><tr><td>0.999991</td></tr><tr><td>0.999987</td></tr><tr><td>0.999985</td></tr></tbody></table></div>"
      ],
      "text/plain": [
       "shape: (840_960, 1)\n",
       "┌──────────┐\n",
       "│ 0        │\n",
       "│ ---      │\n",
       "│ f64      │\n",
       "╞══════════╡\n",
       "│ 0.999995 │\n",
       "│ 0.999997 │\n",
       "│ 0.999996 │\n",
       "│ 0.999997 │\n",
       "│ 0.999998 │\n",
       "│ …        │\n",
       "│ 0.999887 │\n",
       "│ 0.999997 │\n",
       "│ 0.999991 │\n",
       "│ 0.999987 │\n",
       "│ 0.999985 │\n",
       "└──────────┘"
      ]
     },
     "execution_count": 19,
     "metadata": {},
     "output_type": "execute_result"
    }
   ],
   "source": [
    "# 閾値以上の行について、カラムごとにR2を計算して一定値以上であれば置き換えを行う\n",
    "\n",
    "threshold = 0.99999\n",
    "replace_index = class_preds > threshold\n",
    "\n",
    "replace_sub_df = base_sub_df.colne()\n",
    "\n",
    "for col in base_sub_df.columns[1:]:\n",
    "    base_pred = base_sub_df[replace_index][col].to_numpy()"
   ]
  },
  {
   "cell_type": "code",
   "execution_count": null,
   "id": "6be2abde-086d-41bf-bd2f-9bdf2702667a",
   "metadata": {},
   "outputs": [],
   "source": []
  }
 ],
 "metadata": {
  "kernelspec": {
   "display_name": "Python 3 (ipykernel) (Local)",
   "language": "python",
   "name": "python3"
  },
  "language_info": {
   "codemirror_mode": {
    "name": "ipython",
    "version": 3
   },
   "file_extension": ".py",
   "mimetype": "text/x-python",
   "name": "python",
   "nbconvert_exporter": "python",
   "pygments_lexer": "ipython3",
   "version": "3.10.13"
  }
 },
 "nbformat": 4,
 "nbformat_minor": 5
}
