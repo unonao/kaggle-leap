{
 "cells": [
  {
   "cell_type": "code",
   "execution_count": 1,
   "id": "1359fbe9-ef15-49a2-a079-3bfe40424bc7",
   "metadata": {},
   "outputs": [
    {
     "name": "stdout",
     "output_type": "stream",
     "text": [
      "/kaggle/working\n"
     ]
    }
   ],
   "source": [
    "%cd /kaggle/working"
   ]
  },
  {
   "cell_type": "code",
   "execution_count": 2,
   "id": "45973d13-3a68-44bc-9f16-c095282b0451",
   "metadata": {},
   "outputs": [],
   "source": [
    "import pickle\n",
    "from pathlib import Path\n",
    "\n",
    "import matplotlib.pyplot as plt\n",
    "import numpy as np\n",
    "import pandas as pd\n",
    "import polars as pl\n",
    "import seaborn as sns\n",
    "from hydra import compose, initialize\n",
    "from omegaconf import OmegaConf\n",
    "\n",
    "from utils.metric import score"
   ]
  },
  {
   "cell_type": "code",
   "execution_count": 3,
   "id": "0388fa8a-8cd6-448d-8b72-e745f314d654",
   "metadata": {},
   "outputs": [],
   "source": [
    "def hide_submission(sub_df):\n",
    "    hide_sub_df = sub_df.clone().with_columns(\n",
    "        [pl.lit(0.0).alias(f\"ptend_q0002_{i}\") for i in range(12, 22)]\n",
    "    )\n",
    "    return hide_sub_df"
   ]
  },
  {
   "cell_type": "code",
   "execution_count": 4,
   "id": "00569ced-ef52-4f47-84e4-3adf65ed8929",
   "metadata": {},
   "outputs": [
    {
     "data": {
      "text/html": [
       "<div><style>\n",
       ".dataframe > thead > tr,\n",
       ".dataframe > tbody > tr {\n",
       "  text-align: right;\n",
       "  white-space: pre-wrap;\n",
       "}\n",
       "</style>\n",
       "<small>shape: (5, 369)</small><table border=\"1\" class=\"dataframe\"><thead><tr><th>sample_id</th><th>ptend_t_0</th><th>ptend_t_1</th><th>ptend_t_2</th><th>ptend_t_3</th><th>ptend_t_4</th><th>ptend_t_5</th><th>ptend_t_6</th><th>ptend_t_7</th><th>ptend_t_8</th><th>ptend_t_9</th><th>ptend_t_10</th><th>ptend_t_11</th><th>ptend_t_12</th><th>ptend_t_13</th><th>ptend_t_14</th><th>ptend_t_15</th><th>ptend_t_16</th><th>ptend_t_17</th><th>ptend_t_18</th><th>ptend_t_19</th><th>ptend_t_20</th><th>ptend_t_21</th><th>ptend_t_22</th><th>ptend_t_23</th><th>ptend_t_24</th><th>ptend_t_25</th><th>ptend_t_26</th><th>ptend_t_27</th><th>ptend_t_28</th><th>ptend_t_29</th><th>ptend_t_30</th><th>ptend_t_31</th><th>ptend_t_32</th><th>ptend_t_33</th><th>ptend_t_34</th><th>ptend_t_35</th><th>&hellip;</th><th>ptend_v_31</th><th>ptend_v_32</th><th>ptend_v_33</th><th>ptend_v_34</th><th>ptend_v_35</th><th>ptend_v_36</th><th>ptend_v_37</th><th>ptend_v_38</th><th>ptend_v_39</th><th>ptend_v_40</th><th>ptend_v_41</th><th>ptend_v_42</th><th>ptend_v_43</th><th>ptend_v_44</th><th>ptend_v_45</th><th>ptend_v_46</th><th>ptend_v_47</th><th>ptend_v_48</th><th>ptend_v_49</th><th>ptend_v_50</th><th>ptend_v_51</th><th>ptend_v_52</th><th>ptend_v_53</th><th>ptend_v_54</th><th>ptend_v_55</th><th>ptend_v_56</th><th>ptend_v_57</th><th>ptend_v_58</th><th>ptend_v_59</th><th>cam_out_NETSW</th><th>cam_out_FLWDS</th><th>cam_out_PRECSC</th><th>cam_out_PRECC</th><th>cam_out_SOLS</th><th>cam_out_SOLL</th><th>cam_out_SOLSD</th><th>cam_out_SOLLD</th></tr><tr><td>str</td><td>f64</td><td>f64</td><td>f64</td><td>f64</td><td>f64</td><td>f64</td><td>f64</td><td>f64</td><td>f64</td><td>f64</td><td>f64</td><td>f64</td><td>f64</td><td>f64</td><td>f64</td><td>f64</td><td>f64</td><td>f64</td><td>f64</td><td>f64</td><td>f64</td><td>f64</td><td>f64</td><td>f64</td><td>f64</td><td>f64</td><td>f64</td><td>f64</td><td>f64</td><td>f64</td><td>f64</td><td>f64</td><td>f64</td><td>f64</td><td>f64</td><td>f64</td><td>&hellip;</td><td>f64</td><td>f64</td><td>f64</td><td>f64</td><td>f64</td><td>f64</td><td>f64</td><td>f64</td><td>f64</td><td>f64</td><td>f64</td><td>f64</td><td>f64</td><td>f64</td><td>f64</td><td>f64</td><td>f64</td><td>f64</td><td>f64</td><td>f64</td><td>f64</td><td>f64</td><td>f64</td><td>f64</td><td>f64</td><td>f64</td><td>f64</td><td>f64</td><td>f64</td><td>f64</td><td>f64</td><td>f64</td><td>f64</td><td>f64</td><td>f64</td><td>f64</td><td>f64</td></tr></thead><tbody><tr><td>&quot;test_0&quot;</td><td>0.000003</td><td>-0.000065</td><td>-0.000085</td><td>-0.000086</td><td>-0.000096</td><td>-0.0001</td><td>-0.000082</td><td>-0.000064</td><td>-0.000049</td><td>-0.000041</td><td>-0.000028</td><td>-0.000018</td><td>-0.000009</td><td>-0.000004</td><td>-4.1657e-7</td><td>0.000001</td><td>0.000006</td><td>0.000004</td><td>0.000003</td><td>-0.000009</td><td>0.000009</td><td>-0.000003</td><td>-0.000012</td><td>-0.000016</td><td>-0.000015</td><td>-0.000013</td><td>-0.000016</td><td>-0.000018</td><td>-0.000023</td><td>-0.000031</td><td>-0.000037</td><td>-0.000032</td><td>-0.000023</td><td>-0.000018</td><td>-0.000017</td><td>-0.000015</td><td>&hellip;</td><td>9.3603e-7</td><td>0.000002</td><td>-4.3578e-7</td><td>-0.000002</td><td>-0.000001</td><td>-6.4969e-7</td><td>-8.2227e-7</td><td>-0.000003</td><td>-7.8813e-7</td><td>-5.8951e-7</td><td>1.9074e-7</td><td>-0.000003</td><td>0.000006</td><td>0.000001</td><td>0.000002</td><td>-0.000005</td><td>-0.000006</td><td>-0.000026</td><td>-0.000048</td><td>-0.000048</td><td>-0.000018</td><td>0.000038</td><td>0.000043</td><td>0.000042</td><td>0.000022</td><td>0.000012</td><td>0.000009</td><td>0.000008</td><td>4.1996e-7</td><td>-0.136167</td><td>402.35946</td><td>4.6684e-11</td><td>4.1327e-10</td><td>-0.033577</td><td>-0.049489</td><td>0.09329</td><td>0.212398</td></tr><tr><td>&quot;test_10&quot;</td><td>-0.000015</td><td>-0.00005</td><td>-0.000034</td><td>-0.000052</td><td>-0.00009</td><td>-0.000133</td><td>-0.000142</td><td>-0.000097</td><td>-0.000046</td><td>-0.000026</td><td>-0.000018</td><td>-0.000014</td><td>-0.000011</td><td>-0.000009</td><td>-0.000007</td><td>-0.000005</td><td>-0.000004</td><td>-0.000004</td><td>-0.000002</td><td>-0.000004</td><td>-0.000004</td><td>-0.000008</td><td>-0.000008</td><td>-0.000009</td><td>-0.000008</td><td>-0.000011</td><td>-0.000013</td><td>-0.000017</td><td>-0.00002</td><td>-0.000018</td><td>-0.00002</td><td>-0.000019</td><td>-0.000015</td><td>-0.000007</td><td>-0.000002</td><td>0.000003</td><td>&hellip;</td><td>-4.8681e-7</td><td>-3.7356e-7</td><td>2.0193e-7</td><td>4.7321e-7</td><td>3.4525e-7</td><td>2.1168e-7</td><td>1.7050e-7</td><td>6.5687e-8</td><td>2.0065e-8</td><td>2.7567e-9</td><td>1.3472e-7</td><td>-8.9901e-7</td><td>4.5322e-7</td><td>-3.2823e-7</td><td>0.000001</td><td>-4.6198e-9</td><td>-5.7225e-7</td><td>-0.000002</td><td>-0.000002</td><td>-0.000002</td><td>-0.000002</td><td>-0.000001</td><td>-1.4282e-7</td><td>9.2288e-7</td><td>0.000002</td><td>0.000001</td><td>8.3161e-7</td><td>-0.000002</td><td>0.000004</td><td>-0.027761</td><td>345.154827</td><td>2.5575e-11</td><td>-5.9339e-10</td><td>-0.316943</td><td>-0.456919</td><td>0.0302</td><td>0.172592</td></tr><tr><td>&quot;test_100&quot;</td><td>-0.000007</td><td>-0.00008</td><td>-0.000033</td><td>-0.000028</td><td>-0.000073</td><td>-0.000096</td><td>-0.000079</td><td>-0.000053</td><td>-0.00003</td><td>-0.000021</td><td>-0.000017</td><td>-0.000014</td><td>-0.000012</td><td>-0.00001</td><td>-0.000007</td><td>-0.000005</td><td>-0.000004</td><td>-0.000005</td><td>0.000004</td><td>-0.000009</td><td>-0.000004</td><td>-0.000007</td><td>-0.000006</td><td>-0.000006</td><td>-0.000004</td><td>-0.000003</td><td>-0.000006</td><td>-0.000006</td><td>-0.000007</td><td>-0.000011</td><td>-0.000015</td><td>-0.000019</td><td>-0.000022</td><td>-0.000022</td><td>-0.000024</td><td>-0.000024</td><td>&hellip;</td><td>-0.000002</td><td>-0.000002</td><td>-7.8204e-7</td><td>2.2820e-7</td><td>8.2554e-7</td><td>0.000001</td><td>8.8598e-7</td><td>8.5306e-7</td><td>6.2661e-7</td><td>3.6903e-7</td><td>1.7289e-8</td><td>-4.6920e-7</td><td>-1.9907e-7</td><td>0.000002</td><td>3.3318e-7</td><td>-0.000001</td><td>-7.2683e-7</td><td>-0.000004</td><td>-0.00001</td><td>-0.00002</td><td>-0.000023</td><td>0.000009</td><td>0.00001</td><td>0.000014</td><td>0.00001</td><td>0.000004</td><td>0.000004</td><td>0.000004</td><td>0.000012</td><td>2.065205</td><td>331.870707</td><td>3.9388e-12</td><td>6.2842e-10</td><td>0.947471</td><td>0.65194</td><td>0.288081</td><td>0.205645</td></tr><tr><td>&quot;test_1000&quot;</td><td>0.000026</td><td>0.000007</td><td>0.000033</td><td>0.000026</td><td>-0.000013</td><td>-0.000057</td><td>-0.000047</td><td>-0.000021</td><td>-0.000008</td><td>-0.000003</td><td>-0.000001</td><td>-6.6297e-7</td><td>-3.7065e-7</td><td>0.000002</td><td>0.000003</td><td>0.000005</td><td>0.000006</td><td>0.000004</td><td>1.3132e-7</td><td>7.6130e-7</td><td>-4.3587e-7</td><td>-0.000002</td><td>-0.00001</td><td>-0.000019</td><td>-0.000017</td><td>-0.000014</td><td>-0.000014</td><td>-0.000017</td><td>-0.000021</td><td>-0.000023</td><td>-0.000021</td><td>-0.00002</td><td>-0.000018</td><td>-0.000017</td><td>-0.000016</td><td>-0.000017</td><td>&hellip;</td><td>2.6728e-8</td><td>-4.6045e-8</td><td>6.6996e-7</td><td>-0.000001</td><td>8.5986e-8</td><td>0.000001</td><td>-0.000001</td><td>1.5021e-7</td><td>-9.4691e-7</td><td>3.3675e-7</td><td>-0.000005</td><td>0.000007</td><td>0.000003</td><td>0.000005</td><td>0.000007</td><td>0.000007</td><td>0.000007</td><td>0.00001</td><td>0.00001</td><td>0.000008</td><td>0.000006</td><td>0.000004</td><td>9.9584e-7</td><td>-0.000006</td><td>-0.000012</td><td>-0.000022</td><td>-0.000039</td><td>-0.000046</td><td>0.000025</td><td>2.73912</td><td>361.004821</td><td>-3.4882e-12</td><td>-7.1884e-10</td><td>-2.280668</td><td>2.305229</td><td>1.976705</td><td>-0.310764</td></tr><tr><td>&quot;test_10000&quot;</td><td>0.000048</td><td>0.000026</td><td>0.000045</td><td>0.000086</td><td>0.000127</td><td>0.000175</td><td>0.000188</td><td>0.000148</td><td>0.000089</td><td>0.000064</td><td>0.000046</td><td>0.000036</td><td>0.000029</td><td>0.00002</td><td>0.000014</td><td>0.000012</td><td>0.000011</td><td>0.00001</td><td>0.000008</td><td>0.000006</td><td>0.000003</td><td>-1.1089e-7</td><td>-0.000003</td><td>-0.000006</td><td>-0.00001</td><td>-0.000012</td><td>-0.000008</td><td>-0.000006</td><td>-0.000005</td><td>-0.000004</td><td>-0.000004</td><td>-0.000004</td><td>-0.000004</td><td>-0.000003</td><td>0.000002</td><td>0.000002</td><td>&hellip;</td><td>2.1942e-8</td><td>9.0835e-9</td><td>1.2533e-8</td><td>7.1560e-9</td><td>2.7984e-8</td><td>1.6180e-8</td><td>-1.7384e-8</td><td>2.7839e-8</td><td>-1.0827e-7</td><td>1.2593e-7</td><td>-7.0349e-8</td><td>2.6809e-8</td><td>-7.4153e-8</td><td>-2.0619e-7</td><td>1.2592e-7</td><td>6.6115e-9</td><td>-2.0495e-7</td><td>2.4834e-7</td><td>-4.8647e-9</td><td>-1.6581e-8</td><td>3.5178e-8</td><td>1.3987e-7</td><td>-1.2053e-7</td><td>-1.6337e-7</td><td>-2.0883e-7</td><td>8.2948e-7</td><td>-4.1533e-8</td><td>6.7766e-7</td><td>-9.4207e-7</td><td>921.564771</td><td>381.232881</td><td>3.8690e-11</td><td>-3.9947e-10</td><td>446.291565</td><td>452.6363</td><td>48.597155</td><td>2.662356</td></tr></tbody></table></div>"
      ],
      "text/plain": [
       "shape: (5, 369)\n",
       "┌───────────┬───────────┬───────────┬───────────┬───┬───────────┬───────────┬───────────┬──────────┐\n",
       "│ sample_id ┆ ptend_t_0 ┆ ptend_t_1 ┆ ptend_t_2 ┆ … ┆ cam_out_S ┆ cam_out_S ┆ cam_out_S ┆ cam_out_ │\n",
       "│ ---       ┆ ---       ┆ ---       ┆ ---       ┆   ┆ OLS       ┆ OLL       ┆ OLSD      ┆ SOLLD    │\n",
       "│ str       ┆ f64       ┆ f64       ┆ f64       ┆   ┆ ---       ┆ ---       ┆ ---       ┆ ---      │\n",
       "│           ┆           ┆           ┆           ┆   ┆ f64       ┆ f64       ┆ f64       ┆ f64      │\n",
       "╞═══════════╪═══════════╪═══════════╪═══════════╪═══╪═══════════╪═══════════╪═══════════╪══════════╡\n",
       "│ test_0    ┆ 0.000003  ┆ -0.000065 ┆ -0.000085 ┆ … ┆ -0.033577 ┆ -0.049489 ┆ 0.09329   ┆ 0.212398 │\n",
       "│ test_10   ┆ -0.000015 ┆ -0.00005  ┆ -0.000034 ┆ … ┆ -0.316943 ┆ -0.456919 ┆ 0.0302    ┆ 0.172592 │\n",
       "│ test_100  ┆ -0.000007 ┆ -0.00008  ┆ -0.000033 ┆ … ┆ 0.947471  ┆ 0.65194   ┆ 0.288081  ┆ 0.205645 │\n",
       "│ test_1000 ┆ 0.000026  ┆ 0.000007  ┆ 0.000033  ┆ … ┆ -2.280668 ┆ 2.305229  ┆ 1.976705  ┆ -0.31076 │\n",
       "│           ┆           ┆           ┆           ┆   ┆           ┆           ┆           ┆ 4        │\n",
       "│ test_1000 ┆ 0.000048  ┆ 0.000026  ┆ 0.000045  ┆ … ┆ 446.29156 ┆ 452.6363  ┆ 48.597155 ┆ 2.662356 │\n",
       "│ 0         ┆           ┆           ┆           ┆   ┆ 5         ┆           ┆           ┆          │\n",
       "└───────────┴───────────┴───────────┴───────────┴───┴───────────┴───────────┴───────────┴──────────┘"
      ]
     },
     "execution_count": 4,
     "metadata": {},
     "output_type": "execute_result"
    }
   ],
   "source": [
    "base_sub_path = \"gs://kaggle-leap/kami/20240610_ensemble_nelder_mead2_lb078544.parquet\"\n",
    "base_sub_df = pl.read_parquet(base_sub_path)\n",
    "base_sub_df.head()"
   ]
  },
  {
   "cell_type": "markdown",
   "id": "897ea026-1c6d-434b-87fd-e52b6d83e4e9",
   "metadata": {},
   "source": [
    "## timestamp使った予測値で置き換える"
   ]
  },
  {
   "cell_type": "code",
   "execution_count": 5,
   "id": "bd28b0f4-a95f-4bc5-9172-e87a90d8825d",
   "metadata": {},
   "outputs": [
    {
     "data": {
      "text/html": [
       "<div><style>\n",
       ".dataframe > thead > tr,\n",
       ".dataframe > tbody > tr {\n",
       "  text-align: right;\n",
       "  white-space: pre-wrap;\n",
       "}\n",
       "</style>\n",
       "<small>shape: (5, 369)</small><table border=\"1\" class=\"dataframe\"><thead><tr><th>sample_id</th><th>ptend_t_0</th><th>ptend_t_1</th><th>ptend_t_2</th><th>ptend_t_3</th><th>ptend_t_4</th><th>ptend_t_5</th><th>ptend_t_6</th><th>ptend_t_7</th><th>ptend_t_8</th><th>ptend_t_9</th><th>ptend_t_10</th><th>ptend_t_11</th><th>ptend_t_12</th><th>ptend_t_13</th><th>ptend_t_14</th><th>ptend_t_15</th><th>ptend_t_16</th><th>ptend_t_17</th><th>ptend_t_18</th><th>ptend_t_19</th><th>ptend_t_20</th><th>ptend_t_21</th><th>ptend_t_22</th><th>ptend_t_23</th><th>ptend_t_24</th><th>ptend_t_25</th><th>ptend_t_26</th><th>ptend_t_27</th><th>ptend_t_28</th><th>ptend_t_29</th><th>ptend_t_30</th><th>ptend_t_31</th><th>ptend_t_32</th><th>ptend_t_33</th><th>ptend_t_34</th><th>ptend_t_35</th><th>&hellip;</th><th>ptend_v_31</th><th>ptend_v_32</th><th>ptend_v_33</th><th>ptend_v_34</th><th>ptend_v_35</th><th>ptend_v_36</th><th>ptend_v_37</th><th>ptend_v_38</th><th>ptend_v_39</th><th>ptend_v_40</th><th>ptend_v_41</th><th>ptend_v_42</th><th>ptend_v_43</th><th>ptend_v_44</th><th>ptend_v_45</th><th>ptend_v_46</th><th>ptend_v_47</th><th>ptend_v_48</th><th>ptend_v_49</th><th>ptend_v_50</th><th>ptend_v_51</th><th>ptend_v_52</th><th>ptend_v_53</th><th>ptend_v_54</th><th>ptend_v_55</th><th>ptend_v_56</th><th>ptend_v_57</th><th>ptend_v_58</th><th>ptend_v_59</th><th>cam_out_NETSW</th><th>cam_out_FLWDS</th><th>cam_out_PRECSC</th><th>cam_out_PRECC</th><th>cam_out_SOLS</th><th>cam_out_SOLL</th><th>cam_out_SOLSD</th><th>cam_out_SOLLD</th></tr><tr><td>str</td><td>f64</td><td>f64</td><td>f64</td><td>f64</td><td>f64</td><td>f64</td><td>f64</td><td>f64</td><td>f64</td><td>f64</td><td>f64</td><td>f64</td><td>f64</td><td>f64</td><td>f64</td><td>f64</td><td>f64</td><td>f64</td><td>f64</td><td>f64</td><td>f64</td><td>f64</td><td>f64</td><td>f64</td><td>f64</td><td>f64</td><td>f64</td><td>f64</td><td>f64</td><td>f64</td><td>f64</td><td>f64</td><td>f64</td><td>f64</td><td>f64</td><td>f64</td><td>&hellip;</td><td>f64</td><td>f64</td><td>f64</td><td>f64</td><td>f64</td><td>f64</td><td>f64</td><td>f64</td><td>f64</td><td>f64</td><td>f64</td><td>f64</td><td>f64</td><td>f64</td><td>f64</td><td>f64</td><td>f64</td><td>f64</td><td>f64</td><td>f64</td><td>f64</td><td>f64</td><td>f64</td><td>f64</td><td>f64</td><td>f64</td><td>f64</td><td>f64</td><td>f64</td><td>f64</td><td>f64</td><td>f64</td><td>f64</td><td>f64</td><td>f64</td><td>f64</td><td>f64</td></tr></thead><tbody><tr><td>&quot;test_99994&quot;</td><td>-0.000004</td><td>-0.000042</td><td>-0.000038</td><td>-0.000057</td><td>-0.000068</td><td>-0.000092</td><td>-0.000083</td><td>-0.000059</td><td>-0.000041</td><td>-0.000035</td><td>-0.000027</td><td>-0.000018</td><td>-0.00001</td><td>-0.000005</td><td>-0.000002</td><td>3.8469e-7</td><td>6.0225e-7</td><td>-0.000002</td><td>8.6690e-8</td><td>-0.000002</td><td>-0.000003</td><td>-0.000005</td><td>-0.00001</td><td>-0.000011</td><td>-0.000011</td><td>-0.000012</td><td>-0.00002</td><td>-0.000026</td><td>-0.000028</td><td>-0.000027</td><td>-0.000026</td><td>-0.00003</td><td>-0.000033</td><td>-0.000037</td><td>-0.000039</td><td>-0.000036</td><td>&hellip;</td><td>9.5217e-7</td><td>0.000001</td><td>4.2774e-7</td><td>8.4335e-8</td><td>-1.6422e-8</td><td>-7.7357e-8</td><td>-4.3173e-8</td><td>2.4093e-9</td><td>-1.2662e-8</td><td>-5.0907e-8</td><td>2.0592e-9</td><td>1.6775e-8</td><td>-6.4224e-8</td><td>-6.2424e-9</td><td>-8.1845e-8</td><td>-8.9744e-8</td><td>-1.4266e-7</td><td>-1.0918e-7</td><td>2.9620e-9</td><td>-1.0200e-7</td><td>-3.4877e-7</td><td>-6.6667e-7</td><td>-0.000004</td><td>0.000008</td><td>0.000005</td><td>-0.000002</td><td>4.1089e-7</td><td>0.000005</td><td>-0.000011</td><td>-0.019108</td><td>343.39618</td><td>-6.1158e-11</td><td>-2.1642e-10</td><td>-0.475033</td><td>0.748098</td><td>0.823573</td><td>0.397303</td></tr><tr><td>&quot;test_99995&quot;</td><td>0.000029</td><td>-0.000017</td><td>0.000055</td><td>0.000048</td><td>0.000047</td><td>0.000015</td><td>-0.000019</td><td>-0.000016</td><td>-0.000001</td><td>0.000002</td><td>0.000005</td><td>0.000007</td><td>0.000006</td><td>0.000003</td><td>6.5889e-7</td><td>-0.000005</td><td>-0.000002</td><td>-0.000042</td><td>0.000025</td><td>0.000033</td><td>-0.000036</td><td>-0.000051</td><td>-0.000007</td><td>0.000043</td><td>0.000063</td><td>-0.000024</td><td>0.000003</td><td>-0.000016</td><td>-0.000042</td><td>-0.000039</td><td>0.000001</td><td>0.00001</td><td>-0.000011</td><td>0.000002</td><td>0.000064</td><td>0.000149</td><td>&hellip;</td><td>-6.4174e-7</td><td>-0.000003</td><td>-0.000006</td><td>-0.000005</td><td>-0.000006</td><td>-0.000025</td><td>-0.000039</td><td>-0.000026</td><td>-0.000031</td><td>-0.000045</td><td>-0.000046</td><td>-0.000035</td><td>-0.000023</td><td>-0.000016</td><td>0.000001</td><td>0.000021</td><td>0.000031</td><td>0.000056</td><td>0.000057</td><td>0.00006</td><td>0.000066</td><td>0.000064</td><td>0.000069</td><td>0.000075</td><td>0.000077</td><td>0.000077</td><td>0.000061</td><td>0.000038</td><td>-0.00005</td><td>50.327766</td><td>373.786379</td><td>-7.9866e-10</td><td>2.6252e-8</td><td>17.049208</td><td>23.653017</td><td>18.294265</td><td>9.334201</td></tr><tr><td>&quot;test_99996&quot;</td><td>0.000055</td><td>0.000017</td><td>0.000052</td><td>0.000074</td><td>0.000104</td><td>0.000142</td><td>0.000153</td><td>0.000124</td><td>0.000084</td><td>0.000068</td><td>0.000051</td><td>0.000038</td><td>0.000027</td><td>0.00002</td><td>0.000016</td><td>0.000013</td><td>0.000006</td><td>0.000007</td><td>4.7977e-7</td><td>-0.000012</td><td>0.000017</td><td>-0.000003</td><td>-0.000006</td><td>-0.000002</td><td>4.3684e-7</td><td>-0.000009</td><td>-0.000012</td><td>-0.00001</td><td>-0.000006</td><td>-0.000006</td><td>0.000005</td><td>0.000015</td><td>0.00003</td><td>0.000031</td><td>0.000053</td><td>0.000088</td><td>&hellip;</td><td>-9.8909e-8</td><td>-5.8967e-8</td><td>0.000001</td><td>0.000002</td><td>0.000005</td><td>0.000005</td><td>0.000006</td><td>0.000007</td><td>0.000008</td><td>0.000005</td><td>0.000003</td><td>0.000003</td><td>0.000004</td><td>0.000008</td><td>0.000006</td><td>-1.0059e-7</td><td>-0.000004</td><td>-0.000006</td><td>-0.000007</td><td>0.000007</td><td>-0.000005</td><td>-0.000009</td><td>-0.000013</td><td>-0.000016</td><td>-0.000019</td><td>-0.000017</td><td>-0.000018</td><td>-0.000013</td><td>-0.000016</td><td>336.090357</td><td>376.89074</td><td>7.2617e-11</td><td>1.9914e-8</td><td>132.67483</td><td>134.040222</td><td>90.260488</td><td>46.920994</td></tr><tr><td>&quot;test_99997&quot;</td><td>0.000001</td><td>-0.000018</td><td>-0.000052</td><td>-0.000038</td><td>-0.000066</td><td>-0.000068</td><td>-0.000054</td><td>-0.000043</td><td>-0.000028</td><td>-0.000023</td><td>-0.00002</td><td>-0.000017</td><td>-0.000015</td><td>-0.000012</td><td>-0.000009</td><td>-0.000007</td><td>-0.000006</td><td>-0.000004</td><td>-0.000007</td><td>-0.000005</td><td>-0.000008</td><td>-0.000005</td><td>0.000017</td><td>-0.000026</td><td>-0.000002</td><td>0.000007</td><td>-0.000007</td><td>-0.000013</td><td>-0.000015</td><td>-0.000018</td><td>-0.000022</td><td>-0.000029</td><td>-0.000028</td><td>-0.000032</td><td>-0.000031</td><td>-0.000034</td><td>&hellip;</td><td>-3.0850e-7</td><td>-9.0931e-7</td><td>-9.7670e-7</td><td>-5.0733e-7</td><td>6.2314e-8</td><td>4.9771e-7</td><td>4.3595e-7</td><td>0.000001</td><td>2.5279e-7</td><td>1.8774e-7</td><td>8.2489e-7</td><td>7.5376e-7</td><td>-6.1016e-8</td><td>-6.8893e-7</td><td>0.000001</td><td>0.000009</td><td>0.000021</td><td>0.000017</td><td>0.000006</td><td>-0.000008</td><td>-0.000011</td><td>-0.00001</td><td>-0.000012</td><td>-0.000004</td><td>-0.000005</td><td>-0.000011</td><td>-0.000005</td><td>-0.000004</td><td>-0.000001</td><td>-1.79692</td><td>316.14153</td><td>6.3202e-10</td><td>3.4038e-8</td><td>-1.828611</td><td>-2.861001</td><td>-0.191153</td><td>-1.401672</td></tr><tr><td>&quot;test_99998&quot;</td><td>0.000044</td><td>0.00005</td><td>0.000082</td><td>0.000086</td><td>0.000129</td><td>0.000154</td><td>0.000161</td><td>0.000148</td><td>0.000094</td><td>0.00006</td><td>0.000042</td><td>0.000037</td><td>0.000032</td><td>0.000024</td><td>0.000016</td><td>0.000011</td><td>0.000006</td><td>0.000007</td><td>0.000004</td><td>0.000007</td><td>0.000004</td><td>-0.000003</td><td>0.000003</td><td>-0.000003</td><td>-0.000006</td><td>-0.000018</td><td>-0.000004</td><td>-0.000022</td><td>-0.000028</td><td>-0.000029</td><td>-0.000024</td><td>-0.000016</td><td>-0.000014</td><td>-0.000006</td><td>-0.000015</td><td>-0.000012</td><td>&hellip;</td><td>2.4042e-7</td><td>6.2146e-7</td><td>0.000008</td><td>0.000006</td><td>0.000002</td><td>-7.6594e-8</td><td>-0.000002</td><td>-0.000005</td><td>-0.000002</td><td>-0.000001</td><td>-0.000003</td><td>2.8978e-7</td><td>-0.000002</td><td>-0.000005</td><td>-0.000009</td><td>-0.000012</td><td>-0.000004</td><td>0.000009</td><td>0.000015</td><td>0.000015</td><td>0.000014</td><td>0.000013</td><td>0.000012</td><td>0.00001</td><td>0.000001</td><td>-0.000016</td><td>-0.000013</td><td>-0.000006</td><td>-0.000006</td><td>600.225899</td><td>430.82848</td><td>1.3801e-10</td><td>1.4000e-8</td><td>265.991405</td><td>259.891353</td><td>75.850059</td><td>29.083534</td></tr></tbody></table></div>"
      ],
      "text/plain": [
       "shape: (5, 369)\n",
       "┌───────────┬───────────┬───────────┬───────────┬───┬───────────┬───────────┬───────────┬──────────┐\n",
       "│ sample_id ┆ ptend_t_0 ┆ ptend_t_1 ┆ ptend_t_2 ┆ … ┆ cam_out_S ┆ cam_out_S ┆ cam_out_S ┆ cam_out_ │\n",
       "│ ---       ┆ ---       ┆ ---       ┆ ---       ┆   ┆ OLS       ┆ OLL       ┆ OLSD      ┆ SOLLD    │\n",
       "│ str       ┆ f64       ┆ f64       ┆ f64       ┆   ┆ ---       ┆ ---       ┆ ---       ┆ ---      │\n",
       "│           ┆           ┆           ┆           ┆   ┆ f64       ┆ f64       ┆ f64       ┆ f64      │\n",
       "╞═══════════╪═══════════╪═══════════╪═══════════╪═══╪═══════════╪═══════════╪═══════════╪══════════╡\n",
       "│ test_9999 ┆ -0.000004 ┆ -0.000042 ┆ -0.000038 ┆ … ┆ -0.475033 ┆ 0.748098  ┆ 0.823573  ┆ 0.397303 │\n",
       "│ 4         ┆           ┆           ┆           ┆   ┆           ┆           ┆           ┆          │\n",
       "│ test_9999 ┆ 0.000029  ┆ -0.000017 ┆ 0.000055  ┆ … ┆ 17.049208 ┆ 23.653017 ┆ 18.294265 ┆ 9.334201 │\n",
       "│ 5         ┆           ┆           ┆           ┆   ┆           ┆           ┆           ┆          │\n",
       "│ test_9999 ┆ 0.000055  ┆ 0.000017  ┆ 0.000052  ┆ … ┆ 132.67483 ┆ 134.04022 ┆ 90.260488 ┆ 46.92099 │\n",
       "│ 6         ┆           ┆           ┆           ┆   ┆           ┆ 2         ┆           ┆ 4        │\n",
       "│ test_9999 ┆ 0.000001  ┆ -0.000018 ┆ -0.000052 ┆ … ┆ -1.828611 ┆ -2.861001 ┆ -0.191153 ┆ -1.40167 │\n",
       "│ 7         ┆           ┆           ┆           ┆   ┆           ┆           ┆           ┆ 2        │\n",
       "│ test_9999 ┆ 0.000044  ┆ 0.00005   ┆ 0.000082  ┆ … ┆ 265.99140 ┆ 259.89135 ┆ 75.850059 ┆ 29.08353 │\n",
       "│ 8         ┆           ┆           ┆           ┆   ┆ 5         ┆ 3         ┆           ┆ 4        │\n",
       "└───────────┴───────────┴───────────┴───────────┴───┴───────────┴───────────┴───────────┴──────────┘"
      ]
     },
     "execution_count": 5,
     "metadata": {},
     "output_type": "execute_result"
    }
   ],
   "source": [
    "time_sub_path = \"gs://kaggle-leap/kami/experiments/610_sim6/mid/submission.parquet\"\n",
    "time_sub_df = pl.read_parquet(time_sub_path)\n",
    "time_sub_df.tail()"
   ]
  },
  {
   "cell_type": "code",
   "execution_count": 6,
   "id": "83b9f046-8836-43f3-9754-755d67e6b391",
   "metadata": {},
   "outputs": [],
   "source": [
    "class_exp = \"701_multi_class/small\"\n",
    "# class_exp = \"700_binary_classify/small\""
   ]
  },
  {
   "cell_type": "code",
   "execution_count": 7,
   "id": "9f3110a8-d82f-4059-9b16-14269f999403",
   "metadata": {},
   "outputs": [
    {
     "name": "stdout",
     "output_type": "stream",
     "text": [
      "Threshold: 0.50000, Num:165832, Precision: 0.98164, Recall: 0.99967\n",
      "Threshold: 0.70000, Num:164957, Precision: 0.98662, Recall: 0.99944\n",
      "Threshold: 0.90000, Num:163894, Precision: 0.99243, Recall: 0.99885\n",
      "Threshold: 0.99000, Num:162458, Precision: 0.99746, Recall: 0.99511\n",
      "Threshold: 0.99900, Num:159495, Precision: 0.99945, Recall: 0.97892\n",
      "Threshold: 0.99999, Num:116563, Precision: 1.00000, Recall: 0.71581\n",
      "Threshold: 1.00000, Num:54501, Precision: 1.00000, Recall: 0.33469\n"
     ]
    }
   ],
   "source": [
    "# 閾値ごとの値をチェック\n",
    "\n",
    "from sklearn.metrics import precision_score, recall_score\n",
    "\n",
    "val2_predict_df = pl.read_parquet(\n",
    "    f\"gs://kaggle-leap/kami/experiments/{class_exp}/val2_predict.parquet\"\n",
    ")\n",
    "val2_label_df = pl.read_parquet(\n",
    "    f\"gs://kaggle-leap/kami/experiments/{class_exp}/val2_label.parquet\"\n",
    ")\n",
    "\n",
    "valid_preds = val2_predict_df.select([\"0\"]).to_numpy()  # classの番号\n",
    "valid_y_class = val2_label_df.select([\"0\"]).to_numpy() == 0\n",
    "\n",
    "thresholds = [0.5, 0.7, 0.9, 0.99, 0.999, 0.99999, 0.999999]\n",
    "for threshold in thresholds:\n",
    "    y_pred = (valid_preds > threshold).astype(np.int64)\n",
    "    # リコールと精度を計算\n",
    "    num_cand = np.sum(y_pred)\n",
    "    precision = precision_score(valid_y_class, y_pred)\n",
    "    recall = recall_score(valid_y_class, y_pred)\n",
    "    print(\n",
    "        f\"Threshold: {threshold:.5f}, Num:{num_cand}, Precision: {precision:.5f}, Recall: {recall:.5f}\"\n",
    "    )"
   ]
  },
  {
   "cell_type": "code",
   "execution_count": 8,
   "id": "fc70aa13-abd7-40c2-8f70-262b7bdebaa6",
   "metadata": {},
   "outputs": [
    {
     "data": {
      "text/html": [
       "<div><style>\n",
       ".dataframe > thead > tr,\n",
       ".dataframe > tbody > tr {\n",
       "  text-align: right;\n",
       "  white-space: pre-wrap;\n",
       "}\n",
       "</style>\n",
       "<small>shape: (5, 6)</small><table border=\"1\" class=\"dataframe\"><thead><tr><th>index</th><th>0</th><th>1</th><th>2</th><th>3</th><th>4</th></tr><tr><td>i64</td><td>f32</td><td>f32</td><td>f32</td><td>f32</td><td>f32</td></tr></thead><tbody><tr><td>624995</td><td>1.0</td><td>2.0277e-7</td><td>1.1019e-7</td><td>2.1507e-8</td><td>1.0022e-10</td></tr><tr><td>624996</td><td>0.000012</td><td>0.987593</td><td>0.012306</td><td>0.000088</td><td>1.8166e-7</td></tr><tr><td>624997</td><td>0.99999</td><td>0.000005</td><td>3.0728e-7</td><td>0.000004</td><td>1.1756e-9</td></tr><tr><td>624998</td><td>2.9659e-7</td><td>0.999991</td><td>0.000007</td><td>9.7062e-7</td><td>8.0808e-9</td></tr><tr><td>624999</td><td>4.3638e-7</td><td>0.000002</td><td>0.000559</td><td>0.006239</td><td>0.9932</td></tr></tbody></table></div>"
      ],
      "text/plain": [
       "shape: (5, 6)\n",
       "┌────────┬───────────┬───────────┬───────────┬───────────┬────────────┐\n",
       "│ index  ┆ 0         ┆ 1         ┆ 2         ┆ 3         ┆ 4          │\n",
       "│ ---    ┆ ---       ┆ ---       ┆ ---       ┆ ---       ┆ ---        │\n",
       "│ i64    ┆ f32       ┆ f32       ┆ f32       ┆ f32       ┆ f32        │\n",
       "╞════════╪═══════════╪═══════════╪═══════════╪═══════════╪════════════╡\n",
       "│ 624995 ┆ 1.0       ┆ 2.0277e-7 ┆ 1.1019e-7 ┆ 2.1507e-8 ┆ 1.0022e-10 │\n",
       "│ 624996 ┆ 0.000012  ┆ 0.987593  ┆ 0.012306  ┆ 0.000088  ┆ 1.8166e-7  │\n",
       "│ 624997 ┆ 0.99999   ┆ 0.000005  ┆ 3.0728e-7 ┆ 0.000004  ┆ 1.1756e-9  │\n",
       "│ 624998 ┆ 2.9659e-7 ┆ 0.999991  ┆ 0.000007  ┆ 9.7062e-7 ┆ 8.0808e-9  │\n",
       "│ 624999 ┆ 4.3638e-7 ┆ 0.000002  ┆ 0.000559  ┆ 0.006239  ┆ 0.9932     │\n",
       "└────────┴───────────┴───────────┴───────────┴───────────┴────────────┘"
      ]
     },
     "execution_count": 8,
     "metadata": {},
     "output_type": "execute_result"
    }
   ],
   "source": [
    "class_pred_df = pl.read_parquet(\n",
    "    f\"gs://kaggle-leap/kami/experiments/{class_exp}/test_predict.parquet\"\n",
    ")\n",
    "class_preds = class_pred_df.get_column(\"0\").to_numpy().reshape(-1)\n",
    "class_pred_df.tail()"
   ]
  },
  {
   "cell_type": "code",
   "execution_count": 10,
   "id": "730e368b-72e5-4b97-b13e-a0fc820d62fd",
   "metadata": {},
   "outputs": [
    {
     "data": {
      "text/html": [
       "<div><style>\n",
       ".dataframe > thead > tr,\n",
       ".dataframe > tbody > tr {\n",
       "  text-align: right;\n",
       "  white-space: pre-wrap;\n",
       "}\n",
       "</style>\n",
       "<small>shape: (117_263, 7)</small><table border=\"1\" class=\"dataframe\"><thead><tr><th>nears</th><th>dist</th><th>old_time</th><th>new_place</th><th>sample_id</th><th>time_6_18_66_78</th><th>old_place</th></tr><tr><td>i64</td><td>f32</td><td>i64</td><td>i64</td><td>str</td><td>i64</td><td>i64</td></tr></thead><tbody><tr><td>258761</td><td>0.005093</td><td>20190</td><td>329</td><td>&quot;test_100008&quot;</td><td>0</td><td>329</td></tr><tr><td>456820</td><td>0.01054</td><td>35670</td><td>244</td><td>&quot;test_100016&quot;</td><td>0</td><td>244</td></tr><tr><td>235737</td><td>0.011838</td><td>18390</td><td>345</td><td>&quot;test_100023&quot;</td><td>0</td><td>345</td></tr><tr><td>234122</td><td>0.00494</td><td>18270</td><td>266</td><td>&quot;test_100027&quot;</td><td>0</td><td>266</td></tr><tr><td>69637</td><td>0.028217</td><td>5430</td><td>133</td><td>&quot;test_100028&quot;</td><td>0</td><td>133</td></tr><tr><td>&hellip;</td><td>&hellip;</td><td>&hellip;</td><td>&hellip;</td><td>&hellip;</td><td>&hellip;</td><td>&hellip;</td></tr><tr><td>412236</td><td>0.018188</td><td>32190</td><td>204</td><td>&quot;test_99956&quot;</td><td>0</td><td>204</td></tr><tr><td>419900</td><td>0.01401</td><td>32790</td><td>188</td><td>&quot;test_99969&quot;</td><td>0</td><td>188</td></tr><tr><td>392107</td><td>0.007062</td><td>30630</td><td>43</td><td>&quot;test_99976&quot;</td><td>0</td><td>43</td></tr><tr><td>304618</td><td>0.012626</td><td>23790</td><td>106</td><td>&quot;test_99994&quot;</td><td>0</td><td>106</td></tr><tr><td>57576</td><td>0.000487</td><td>4470</td><td>360</td><td>&quot;test_99996&quot;</td><td>0</td><td>360</td></tr></tbody></table></div>"
      ],
      "text/plain": [
       "shape: (117_263, 7)\n",
       "┌────────┬──────────┬──────────┬───────────┬─────────────┬─────────────────┬───────────┐\n",
       "│ nears  ┆ dist     ┆ old_time ┆ new_place ┆ sample_id   ┆ time_6_18_66_78 ┆ old_place │\n",
       "│ ---    ┆ ---      ┆ ---      ┆ ---       ┆ ---         ┆ ---             ┆ ---       │\n",
       "│ i64    ┆ f32      ┆ i64      ┆ i64       ┆ str         ┆ i64             ┆ i64       │\n",
       "╞════════╪══════════╪══════════╪═══════════╪═════════════╪═════════════════╪═══════════╡\n",
       "│ 258761 ┆ 0.005093 ┆ 20190    ┆ 329       ┆ test_100008 ┆ 0               ┆ 329       │\n",
       "│ 456820 ┆ 0.01054  ┆ 35670    ┆ 244       ┆ test_100016 ┆ 0               ┆ 244       │\n",
       "│ 235737 ┆ 0.011838 ┆ 18390    ┆ 345       ┆ test_100023 ┆ 0               ┆ 345       │\n",
       "│ 234122 ┆ 0.00494  ┆ 18270    ┆ 266       ┆ test_100027 ┆ 0               ┆ 266       │\n",
       "│ 69637  ┆ 0.028217 ┆ 5430     ┆ 133       ┆ test_100028 ┆ 0               ┆ 133       │\n",
       "│ …      ┆ …        ┆ …        ┆ …         ┆ …           ┆ …               ┆ …         │\n",
       "│ 412236 ┆ 0.018188 ┆ 32190    ┆ 204       ┆ test_99956  ┆ 0               ┆ 204       │\n",
       "│ 419900 ┆ 0.01401  ┆ 32790    ┆ 188       ┆ test_99969  ┆ 0               ┆ 188       │\n",
       "│ 392107 ┆ 0.007062 ┆ 30630    ┆ 43        ┆ test_99976  ┆ 0               ┆ 43        │\n",
       "│ 304618 ┆ 0.012626 ┆ 23790    ┆ 106       ┆ test_99994  ┆ 0               ┆ 106       │\n",
       "│ 57576  ┆ 0.000487 ┆ 4470     ┆ 360       ┆ test_99996  ┆ 0               ┆ 360       │\n",
       "└────────┴──────────┴──────────┴───────────┴─────────────┴─────────────────┴───────────┘"
      ]
     },
     "execution_count": 10,
     "metadata": {},
     "output_type": "execute_result"
    }
   ],
   "source": [
    "# takoi-san check\n",
    "print(base_sub_df[\"sample_id\"].to_numpy()[class_preds > 0.999])\n",
    "df = pl.read_parquet(\"output/exp152_143.parquet\")\n",
    "df.sort(\"sample_id\")"
   ]
  },
  {
   "cell_type": "code",
   "execution_count": 15,
   "id": "312fb000-b349-41d6-b0ad-2726ee734ecb",
   "metadata": {},
   "outputs": [
    {
     "name": "stdout",
     "output_type": "stream",
     "text": [
      "replace num:37579 rate:0.0601264\n",
      "ptend_t_0 -1.0980285257296458\n",
      "ptend_t_1 -1.0694982052031352\n",
      "ptend_t_2 -1.2099677293816518\n",
      "ptend_t_3 -1.1025231909900648\n",
      "ptend_t_4 -0.9513752402615518\n",
      "ptend_t_5 -0.840166219085563\n",
      "ptend_t_6 -0.7824307275571811\n",
      "ptend_t_7 -0.7738450543616655\n",
      "ptend_t_8 -0.7901498511873826\n",
      "ptend_t_9 -0.7876033488899126\n",
      "ptend_t_10 -0.7891441445146996\n",
      "ptend_t_11 -0.8281991730847809\n",
      "ptend_t_12 -0.9040510896012306\n",
      "ptend_t_13 -1.0112551246729726\n",
      "ptend_t_14 -1.1976971246930552\n",
      "ptend_t_15 -1.5649923328538753\n",
      "ptend_t_16 -2.363472421630556\n",
      "ptend_t_17 -4.621125880212753\n",
      "ptend_t_18 -7.246321444042859\n",
      "ptend_t_19 -5.721791972250844\n",
      "ptend_t_20 -2.9765549727013725\n",
      "ptend_t_21 -2.006911144438943\n",
      "ptend_t_22 -1.7223968333020254\n",
      "ptend_t_23 -1.5381211706594287\n",
      "ptend_t_24 -1.5158370400677827\n",
      "ptend_t_25 -1.4263914012709042\n",
      "ptend_t_26 -1.3908081235900087\n",
      "ptend_t_27 -1.4690782053438847\n",
      "ptend_t_28 -1.6096503549664938\n",
      "ptend_t_29 -1.8263072611737008\n",
      "ptend_t_30 -2.0739651948983515\n",
      "ptend_t_31 -2.3215838829981013\n",
      "ptend_t_32 -2.8413457992153273\n",
      "ptend_t_33 -3.4497528879919734\n",
      "ptend_t_34 -3.758074194700594\n",
      "ptend_t_35 -3.9949791459050905\n",
      "ptend_t_36 -4.632866371155492\n",
      "ptend_t_37 -4.9649519672652085\n",
      "ptend_t_38 -4.76506278892064\n",
      "ptend_t_39 -4.7698215770471055\n",
      "ptend_t_40 -4.679167091180374\n",
      "ptend_t_41 -4.661067377791752\n",
      "ptend_t_42 -4.505517920299987\n",
      "ptend_t_43 -4.307651759154417\n",
      "ptend_t_44 -4.299630405059533\n",
      "ptend_t_45 -4.154160401734672\n",
      "ptend_t_46 -4.200611075269828\n",
      "ptend_t_47 -4.358143034529131\n",
      "ptend_t_48 -4.443598794716177\n",
      "ptend_t_49 -4.497471026189047\n",
      "ptend_t_50 -4.691977606756143\n",
      "ptend_t_51 -4.729652539807304\n",
      "ptend_t_52 -4.645716479647202\n",
      "ptend_t_53 -4.877648976023588\n",
      "ptend_t_54 -5.158782693256909\n",
      "ptend_t_55 -5.375475205120413\n",
      "ptend_t_56 -5.385477529820113\n",
      "ptend_t_57 -5.3828291851365115\n",
      "ptend_t_58 -4.654215984519947\n",
      "ptend_t_59 -2.5632900949660993\n",
      "ptend_q0001_12 -1487.90665986281\n",
      "ptend_q0001_13 -54.77770161559358\n",
      "ptend_q0001_14 -12.327737938188287\n",
      "ptend_q0001_15 -22.85785894281293\n",
      "ptend_q0001_16 -4.747203248155124\n",
      "ptend_q0001_17 -1.61670631220393\n",
      "ptend_q0001_18 -2.6535870279369362\n",
      "ptend_q0001_19 -3.7289567501800773\n",
      "ptend_q0001_20 -3.094117459909625\n",
      "ptend_q0001_21 -2.518386925623113\n",
      "ptend_q0001_22 -2.1398514080636675\n",
      "ptend_q0001_23 -1.7076380721228666\n",
      "ptend_q0001_24 -1.4871553846948298\n",
      "ptend_q0001_25 -1.4042514888069348\n",
      "ptend_q0001_26 -1.3921147250623127\n",
      "ptend_q0001_27 -1.4192323142689922\n",
      "ptend_q0001_28 -1.541994441024182\n",
      "ptend_q0001_29 -1.6215623526349443\n",
      "ptend_q0001_30 -1.7887563081812092\n",
      "ptend_q0001_31 -2.0209964320461364\n",
      "ptend_q0001_32 -2.4090157624055633\n",
      "ptend_q0001_33 -2.6526521855261906\n",
      "ptend_q0001_34 -2.8134829924258553\n",
      "ptend_q0001_35 -3.102483949000886\n",
      "ptend_q0001_36 -3.4465911257722137\n",
      "ptend_q0001_37 -3.607386831285571\n",
      "ptend_q0001_38 -3.5209563115624363\n",
      "ptend_q0001_39 -3.5584993955987763\n",
      "ptend_q0001_40 -3.4084611869756545\n",
      "ptend_q0001_41 -3.3067802866264016\n",
      "ptend_q0001_42 -3.1162386335507835\n",
      "ptend_q0001_43 -2.7652461028519624\n",
      "ptend_q0001_44 -2.77516678792851\n",
      "ptend_q0001_45 -2.4585238625724117\n",
      "ptend_q0001_46 -2.3911588444877094\n",
      "ptend_q0001_47 -2.313501768265876\n",
      "ptend_q0001_48 -2.1696222508090863\n",
      "ptend_q0001_49 -2.141113082420261\n",
      "ptend_q0001_50 -2.2391558836636793\n",
      "ptend_q0001_51 -2.3838346736554126\n",
      "ptend_q0001_52 -2.329789279560353\n",
      "ptend_q0001_53 -2.2636344754733413\n",
      "ptend_q0001_54 -2.2333126645965624\n",
      "ptend_q0001_55 -2.303771740226474\n",
      "ptend_q0001_56 -2.4841118517461536\n",
      "ptend_q0001_57 -2.404306470765803\n",
      "ptend_q0001_58 -1.9625315558562848\n",
      "ptend_q0001_59 -1.884111990251843\n",
      "ptend_q0002_12 -6.954045807196009\n",
      "ptend_q0002_13 -8.538222349567889\n",
      "ptend_q0002_14 -1.8875124059466746\n",
      "ptend_q0002_15 -1.7486076681813456\n",
      "ptend_q0002_16 -419636.08079251554\n",
      "ptend_q0002_17 -24810.997685970688\n",
      "ptend_q0002_18 -5384.547060863334\n",
      "ptend_q0002_19 -256011.46937688836\n",
      "ptend_q0002_20 -9930635.912801895\n",
      "ptend_q0002_21 -72071.48542176517\n",
      "ptend_q0002_22 -1218.8422472512395\n",
      "ptend_q0002_23 -193.09832513367442\n",
      "ptend_q0002_24 -4.8303521177621676\n",
      "ptend_q0002_25 -2.1519516679498274\n",
      "ptend_q0002_26 -5.348283544884838\n",
      "ptend_q0002_27 -44.15001897036342\n",
      "ptend_q0002_28 -7.528440289376125\n",
      "ptend_q0002_29 -1.5941402624399736\n",
      "ptend_q0002_30 -1.8613039336559116\n",
      "ptend_q0002_31 -3.8030449475122277\n",
      "ptend_q0002_32 -4.5665177653108815\n",
      "ptend_q0002_33 -4.117012669881153\n",
      "ptend_q0002_34 -3.624733090849504\n",
      "ptend_q0002_35 -3.1168015530996778\n",
      "ptend_q0002_36 -2.581025129917997\n",
      "ptend_q0002_37 -2.031831041590156\n",
      "ptend_q0002_38 -1.9182999017289752\n",
      "ptend_q0002_39 -1.7776312313585287\n",
      "ptend_q0002_40 -1.8024730444183819\n",
      "ptend_q0002_41 -1.7694556003630364\n",
      "ptend_q0002_42 -1.859289179635741\n",
      "ptend_q0002_43 -1.7177713060156306\n",
      "ptend_q0002_44 -1.61693377455072\n",
      "ptend_q0002_45 -1.6250679564085657\n",
      "ptend_q0002_46 -1.5736319789964668\n",
      "ptend_q0002_47 -1.5582722497105852\n",
      "ptend_q0002_48 -1.523066356048258\n",
      "ptend_q0002_49 -1.4640623836893645\n",
      "ptend_q0002_50 -1.5175979394514245\n",
      "ptend_q0002_51 -1.590992166337542\n",
      "ptend_q0002_52 -1.628962887754688\n",
      "ptend_q0002_53 -1.828494350857151\n",
      "ptend_q0002_54 -1.9555637281571325\n",
      "ptend_q0002_55 -2.2498663283837304\n",
      "ptend_q0002_56 -2.7254006677836635\n",
      "ptend_q0002_57 -3.2024931080591017\n",
      "ptend_q0002_58 -3.356158707314729\n",
      "ptend_q0002_59 -5.494698932532409\n",
      "ptend_q0003_12 -4215912.884941012\n",
      "ptend_q0003_13 -1464262.774007977\n",
      "ptend_q0003_14 -1803388.8017234183\n",
      "ptend_q0003_15 -25.62758308559694\n",
      "ptend_q0003_16 -68.36161524567574\n",
      "ptend_q0003_17 -64.61127054895297\n",
      "ptend_q0003_18 -37.8999553406311\n",
      "ptend_q0003_19 -15.191907965178927\n",
      "ptend_q0003_20 -10.90880411228268\n",
      "ptend_q0003_21 -14.721710891323356\n",
      "ptend_q0003_22 -8.631464742319155\n",
      "ptend_q0003_23 -9.334731650323437\n",
      "ptend_q0003_24 -8.695147089233732\n",
      "ptend_q0003_25 -8.225963488514383\n",
      "ptend_q0003_26 -6.385401067991369\n",
      "ptend_q0003_27 -4.975499956969162\n",
      "ptend_q0003_28 -4.432591000780058\n",
      "ptend_q0003_29 -3.433847710301033\n",
      "ptend_q0003_30 -2.552753261845406\n",
      "ptend_q0003_31 -2.2245886271339024\n",
      "ptend_q0003_32 -2.2304548024437527\n",
      "ptend_q0003_33 -2.3200322270532032\n",
      "ptend_q0003_34 -2.49496072646265\n",
      "ptend_q0003_35 -2.616062937065597\n",
      "ptend_q0003_36 -2.854153395372214\n",
      "ptend_q0003_37 -3.071306651789963\n",
      "ptend_q0003_38 -3.4416964389648754\n",
      "ptend_q0003_39 -3.950477306242001\n",
      "ptend_q0003_40 -4.404334753624525\n",
      "ptend_q0003_41 -4.861587088956123\n",
      "ptend_q0003_42 -5.665945614643713\n",
      "ptend_q0003_43 -5.818411937771783\n",
      "ptend_q0003_44 -5.8011262594585835\n",
      "ptend_q0003_45 -6.443178081638394\n",
      "ptend_q0003_46 -6.949691063284594\n",
      "ptend_q0003_47 -7.417316157500702\n",
      "ptend_q0003_48 -7.77423407180091\n",
      "ptend_q0003_49 -7.901911073995128\n",
      "ptend_q0003_50 -7.43239657140194\n",
      "ptend_q0003_51 -7.15292295305812\n",
      "ptend_q0003_52 -7.588552091989156\n",
      "ptend_q0003_53 -8.033701837563907\n",
      "ptend_q0003_54 -7.999904873944262\n",
      "ptend_q0003_55 -8.731283281539394\n",
      "ptend_q0003_56 -10.031552856134908\n",
      "ptend_q0003_57 -12.886537877592884\n",
      "ptend_q0003_58 -14.912078275668973\n",
      "ptend_q0003_59 -13.196112736966436\n",
      "ptend_u_12 -2.3126046641587346\n",
      "ptend_u_13 -2.103262062056828\n",
      "ptend_u_14 -2.170879949715936\n",
      "ptend_u_15 -2.430000464630396\n",
      "ptend_u_16 -2.289172786363072\n",
      "ptend_u_17 -1.9635972172939677\n",
      "ptend_u_18 -1.930386801633463\n",
      "ptend_u_19 -2.3722480725509882\n",
      "ptend_u_20 -2.573687551059319\n",
      "ptend_u_21 -2.575750629517775\n",
      "ptend_u_22 -2.877038023740373\n",
      "ptend_u_23 -3.3821421534347778\n",
      "ptend_u_24 -3.5905660235630243\n",
      "ptend_u_25 -3.437120433372722\n",
      "ptend_u_26 -3.550714269613173\n",
      "ptend_u_27 -3.6588658440553035\n",
      "ptend_u_28 -3.674504065124612\n",
      "ptend_u_29 -3.5052935676941184\n",
      "ptend_u_30 -3.866429960195653\n",
      "ptend_u_31 -4.583728911139183\n",
      "ptend_u_32 -4.768690482397741\n",
      "ptend_u_33 -4.561789078535562\n",
      "ptend_u_34 -4.870802018242352\n",
      "ptend_u_35 -4.876609821559559\n",
      "ptend_u_36 -4.673536430893404\n",
      "ptend_u_37 -4.348192237821063\n",
      "ptend_u_38 -4.063590617369264\n",
      "ptend_u_39 -3.5939725104030398\n",
      "ptend_u_40 -3.051060941530319\n",
      "ptend_u_41 -3.2066036441550345\n",
      "ptend_u_42 -3.1477969656254112\n",
      "ptend_u_43 -2.9021145000791524\n",
      "ptend_u_44 -2.7739863553456265\n",
      "ptend_u_45 -2.3979876608647355\n",
      "ptend_u_46 -2.3443684156055173\n",
      "ptend_u_47 -2.061947812151068\n",
      "ptend_u_48 -2.0397817705004466\n",
      "ptend_u_49 -2.121195262218396\n",
      "ptend_u_50 -2.0549262651346196\n",
      "ptend_u_51 -1.989623322939916\n",
      "ptend_u_52 -1.9276012146480141\n",
      "ptend_u_53 -1.8579830411806046\n",
      "ptend_u_54 -1.9272451750769646\n",
      "ptend_u_55 -2.2913155448943616\n",
      "ptend_u_56 -2.341026737838811\n",
      "ptend_u_57 -2.1580811425145976\n",
      "ptend_u_58 -1.9145111726140103\n",
      "ptend_u_59 -1.3115547721053291\n",
      "ptend_v_12 -2.3849044264121364\n",
      "ptend_v_13 -2.1050124229094798\n",
      "ptend_v_14 -2.268819716385836\n",
      "ptend_v_15 -2.3944162082129865\n",
      "ptend_v_16 -2.064455950995521\n",
      "ptend_v_17 -1.6397279964810525\n",
      "ptend_v_18 -1.831114423042786\n",
      "ptend_v_19 -2.2471103087980895\n",
      "ptend_v_20 -3.0820873764954255\n",
      "ptend_v_21 -2.760403622348403\n",
      "ptend_v_22 -3.506139892254053\n",
      "ptend_v_23 -2.8534637103215497\n",
      "ptend_v_24 -3.325303264069986\n",
      "ptend_v_25 -3.5078767321423987\n",
      "ptend_v_26 -4.155861901335703\n",
      "ptend_v_27 -3.64931468860677\n",
      "ptend_v_28 -3.2029384946282917\n",
      "ptend_v_29 -3.21976762692831\n",
      "ptend_v_30 -3.5695493531829126\n",
      "ptend_v_31 -3.36466397805178\n",
      "ptend_v_32 -3.885707333362493\n",
      "ptend_v_33 -4.337119622579647\n",
      "ptend_v_34 -4.659474569667255\n",
      "ptend_v_35 -4.429134563673145\n",
      "ptend_v_36 -4.561368805379157\n",
      "ptend_v_37 -4.044683062185397\n",
      "ptend_v_38 -3.852181739503326\n",
      "ptend_v_39 -3.444364692894064\n",
      "ptend_v_40 -3.271434673371571\n",
      "ptend_v_41 -2.9578019407224554\n",
      "ptend_v_42 -2.8101456045951148\n",
      "ptend_v_43 -2.6000672083565712\n",
      "ptend_v_44 -2.3679526495779903\n",
      "ptend_v_45 -2.2290157412115192\n",
      "ptend_v_46 -2.1145300921491743\n",
      "ptend_v_47 -1.9882157602031225\n",
      "ptend_v_48 -1.9495971768512388\n",
      "ptend_v_49 -1.920793549167227\n",
      "ptend_v_50 -1.8877356294682666\n",
      "ptend_v_51 -1.9340002955324995\n",
      "ptend_v_52 -1.9903855909803343\n",
      "ptend_v_53 -2.0654885808104178\n",
      "ptend_v_54 -2.172477485195768\n",
      "ptend_v_55 -2.066903662719891\n",
      "ptend_v_56 -2.098295504891575\n",
      "ptend_v_57 -2.0885319434611924\n",
      "ptend_v_58 -1.8561063809410832\n",
      "ptend_v_59 -1.3024811844170183\n",
      "cam_out_NETSW -0.7068816435818417\n",
      "cam_out_FLWDS -2.578322014800673\n",
      "cam_out_PRECSC -9.634775480396407\n",
      "cam_out_PRECC -4.655973351921179\n",
      "cam_out_SOLS -0.6918507789126283\n",
      "cam_out_SOLL -0.7163747548174806\n",
      "cam_out_SOLSD -0.7760917151004827\n",
      "cam_out_SOLLD -0.7435477846248522\n"
     ]
    }
   ],
   "source": [
    "# 閾値以上の行について、カラムごとにR2を計算して一定値以上であれば置き換えを行う\n",
    "from sklearn.metrics import r2_score\n",
    "\n",
    "threshold = 0.999999\n",
    "replace_index = class_preds > threshold\n",
    "print(f\"replace num:{replace_index.sum()} rate:{replace_index.sum()/len(class_preds)}\")\n",
    "\n",
    "replace_sub_df = base_sub_df.clone()\n",
    "r2_score_vals = []\n",
    "\n",
    "for col in base_sub_df.columns[1:]:\n",
    "    time_pred = time_sub_df[col].to_numpy()\n",
    "    base_pred = base_sub_df[col].to_numpy()\n",
    "    r2_score_val = r2_score(\n",
    "        base_pred[replace_index],\n",
    "        time_pred[replace_index],\n",
    "    )\n",
    "    if r2_score_val > 0.2:\n",
    "        replace_pred = base_sub_df[col].to_numpy().copy()\n",
    "        replace_pred[replace_index] = time_pred[replace_index]\n",
    "        replace_sub_df = replace_sub_df.with_columns(\n",
    "            pl.Series(name=col, values=replace_pred)\n",
    "        )\n",
    "        r2_score_vals.append(r2_score_val)\n",
    "    else:\n",
    "        print(col, r2_score_val)"
   ]
  },
  {
   "cell_type": "code",
   "execution_count": 57,
   "id": "6be2abde-086d-41bf-bd2f-9bdf2702667a",
   "metadata": {},
   "outputs": [
    {
     "ename": "ValueError",
     "evalue": "assignment destination is read-only",
     "output_type": "error",
     "traceback": [
      "\u001b[0;31m---------------------------------------------------------------------------\u001b[0m",
      "\u001b[0;31mValueError\u001b[0m                                Traceback (most recent call last)",
      "Cell \u001b[0;32mIn[57], line 1\u001b[0m\n\u001b[0;32m----> 1\u001b[0m \u001b[43mbase_pred\u001b[49m\u001b[43m[\u001b[49m\u001b[43mreplace_index\u001b[49m\u001b[43m]\u001b[49m \u001b[38;5;241m=\u001b[39m \u001b[38;5;241m1\u001b[39m\n",
      "\u001b[0;31mValueError\u001b[0m: assignment destination is read-only"
     ]
    }
   ],
   "source": [
    "base_pred[replace_index] = 1"
   ]
  },
  {
   "cell_type": "code",
   "execution_count": 16,
   "id": "8a82010b-aeed-4f90-bd68-dcdffd9e3cba",
   "metadata": {},
   "outputs": [
    {
     "data": {
      "text/plain": [
       "array([ 2.11722729e-05, -1.87040935e-05, -6.29029656e-06, ...,\n",
       "        5.51110531e-05,  1.06978151e-06,  4.36059185e-05])"
      ]
     },
     "execution_count": 16,
     "metadata": {},
     "output_type": "execute_result"
    }
   ],
   "source": [
    "time_pred[304:]"
   ]
  },
  {
   "cell_type": "code",
   "execution_count": 17,
   "id": "119f2760-6895-45fa-9dda-5f7503c75c1e",
   "metadata": {},
   "outputs": [
    {
     "data": {
      "text/plain": [
       "array([ 3.94424593e-05,  3.97818179e-05,  4.17194799e-05, ...,\n",
       "        3.05507264e-05, -1.91269003e-05,  3.53775701e-05])"
      ]
     },
     "execution_count": 17,
     "metadata": {},
     "output_type": "execute_result"
    }
   ],
   "source": [
    "base_pred[304:]"
   ]
  },
  {
   "cell_type": "code",
   "execution_count": 20,
   "id": "c583b33f-4527-432f-b8a5-308202c11e1d",
   "metadata": {},
   "outputs": [],
   "source": [
    "path = \"input/sim6_data/test/id384.npz\"\n",
    "a = np.load(path)"
   ]
  },
  {
   "cell_type": "code",
   "execution_count": 23,
   "id": "37dfd12a-462f-4b59-9eec-010670044708",
   "metadata": {},
   "outputs": [
    {
     "data": {
      "text/plain": [
       "array([[2.08036108e+02, 2.27158595e+02, 2.30732909e+02, ...,\n",
       "        4.90858386e-07, 4.90858386e-07, 4.90858386e-07],\n",
       "       [2.13779131e+02, 2.22641431e+02, 2.34139642e+02, ...,\n",
       "        4.90858386e-07, 4.90858386e-07, 4.90858386e-07],\n",
       "       [2.20849426e+02, 2.22368835e+02, 2.36797136e+02, ...,\n",
       "        4.90858386e-07, 4.90858386e-07, 4.90858386e-07],\n",
       "       ...,\n",
       "       [2.11430493e+02, 2.36875820e+02, 2.53411973e+02, ...,\n",
       "        4.90858386e-07, 4.90858386e-07, 4.90858386e-07],\n",
       "       [2.37398034e+02, 2.25109263e+02, 2.36295219e+02, ...,\n",
       "        4.90858386e-07, 4.90858386e-07, 4.90858386e-07],\n",
       "       [2.14821313e+02, 2.31346606e+02, 2.38470580e+02, ...,\n",
       "        4.90858386e-07, 4.90858386e-07, 4.90858386e-07]])"
      ]
     },
     "execution_count": 23,
     "metadata": {},
     "output_type": "execute_result"
    }
   ],
   "source": [
    "a[\"x\"]"
   ]
  },
  {
   "cell_type": "code",
   "execution_count": 24,
   "id": "05ce19cc-7a53-44dd-85e9-1e99d4edc9bf",
   "metadata": {},
   "outputs": [],
   "source": [
    "test_df = pl.read_csv(\"input/leap-atmospheric-physics-ai-climsim/test.csv\", n_rows=500)"
   ]
  },
  {
   "cell_type": "code",
   "execution_count": 25,
   "id": "3f9cf25a-daa4-493c-8f1d-f2a7fe6ee9ea",
   "metadata": {},
   "outputs": [
    {
     "data": {
      "text/html": [
       "<div><style>\n",
       ".dataframe > thead > tr,\n",
       ".dataframe > tbody > tr {\n",
       "  text-align: right;\n",
       "  white-space: pre-wrap;\n",
       "}\n",
       "</style>\n",
       "<small>shape: (116, 557)</small><table border=\"1\" class=\"dataframe\"><thead><tr><th>sample_id</th><th>state_t_0</th><th>state_t_1</th><th>state_t_2</th><th>state_t_3</th><th>state_t_4</th><th>state_t_5</th><th>state_t_6</th><th>state_t_7</th><th>state_t_8</th><th>state_t_9</th><th>state_t_10</th><th>state_t_11</th><th>state_t_12</th><th>state_t_13</th><th>state_t_14</th><th>state_t_15</th><th>state_t_16</th><th>state_t_17</th><th>state_t_18</th><th>state_t_19</th><th>state_t_20</th><th>state_t_21</th><th>state_t_22</th><th>state_t_23</th><th>state_t_24</th><th>state_t_25</th><th>state_t_26</th><th>state_t_27</th><th>state_t_28</th><th>state_t_29</th><th>state_t_30</th><th>state_t_31</th><th>state_t_32</th><th>state_t_33</th><th>state_t_34</th><th>state_t_35</th><th>&hellip;</th><th>pbuf_N2O_23</th><th>pbuf_N2O_24</th><th>pbuf_N2O_25</th><th>pbuf_N2O_26</th><th>pbuf_N2O_27</th><th>pbuf_N2O_28</th><th>pbuf_N2O_29</th><th>pbuf_N2O_30</th><th>pbuf_N2O_31</th><th>pbuf_N2O_32</th><th>pbuf_N2O_33</th><th>pbuf_N2O_34</th><th>pbuf_N2O_35</th><th>pbuf_N2O_36</th><th>pbuf_N2O_37</th><th>pbuf_N2O_38</th><th>pbuf_N2O_39</th><th>pbuf_N2O_40</th><th>pbuf_N2O_41</th><th>pbuf_N2O_42</th><th>pbuf_N2O_43</th><th>pbuf_N2O_44</th><th>pbuf_N2O_45</th><th>pbuf_N2O_46</th><th>pbuf_N2O_47</th><th>pbuf_N2O_48</th><th>pbuf_N2O_49</th><th>pbuf_N2O_50</th><th>pbuf_N2O_51</th><th>pbuf_N2O_52</th><th>pbuf_N2O_53</th><th>pbuf_N2O_54</th><th>pbuf_N2O_55</th><th>pbuf_N2O_56</th><th>pbuf_N2O_57</th><th>pbuf_N2O_58</th><th>pbuf_N2O_59</th></tr><tr><td>str</td><td>f64</td><td>f64</td><td>f64</td><td>f64</td><td>f64</td><td>f64</td><td>f64</td><td>f64</td><td>f64</td><td>f64</td><td>f64</td><td>f64</td><td>f64</td><td>f64</td><td>f64</td><td>f64</td><td>f64</td><td>f64</td><td>f64</td><td>f64</td><td>f64</td><td>f64</td><td>f64</td><td>f64</td><td>f64</td><td>f64</td><td>f64</td><td>f64</td><td>f64</td><td>f64</td><td>f64</td><td>f64</td><td>f64</td><td>f64</td><td>f64</td><td>f64</td><td>&hellip;</td><td>f64</td><td>f64</td><td>f64</td><td>f64</td><td>f64</td><td>f64</td><td>f64</td><td>f64</td><td>f64</td><td>f64</td><td>f64</td><td>f64</td><td>f64</td><td>f64</td><td>f64</td><td>f64</td><td>f64</td><td>f64</td><td>f64</td><td>f64</td><td>f64</td><td>f64</td><td>f64</td><td>f64</td><td>f64</td><td>f64</td><td>f64</td><td>f64</td><td>f64</td><td>f64</td><td>f64</td><td>f64</td><td>f64</td><td>f64</td><td>f64</td><td>f64</td><td>f64</td></tr></thead><tbody><tr><td>&quot;test_100455&quot;</td><td>208.036108</td><td>227.158595</td><td>230.732909</td><td>232.859734</td><td>238.974486</td><td>242.371338</td><td>238.3371</td><td>232.301199</td><td>225.518653</td><td>222.664938</td><td>220.931735</td><td>219.55473</td><td>218.522116</td><td>217.81895</td><td>216.910092</td><td>216.251177</td><td>215.317696</td><td>215.025365</td><td>212.180458</td><td>212.413629</td><td>212.314927</td><td>212.411587</td><td>213.060662</td><td>214.098834</td><td>215.240623</td><td>216.654261</td><td>218.504662</td><td>221.013468</td><td>224.031618</td><td>227.345943</td><td>230.829695</td><td>234.36038</td><td>237.889765</td><td>241.301154</td><td>244.48481</td><td>247.469463</td><td>&hellip;</td><td>4.9086e-7</td><td>4.9086e-7</td><td>4.9086e-7</td><td>4.9086e-7</td><td>4.9086e-7</td><td>4.9086e-7</td><td>4.9086e-7</td><td>4.9086e-7</td><td>4.9086e-7</td><td>4.9086e-7</td><td>4.9086e-7</td><td>4.9086e-7</td><td>4.9086e-7</td><td>4.9086e-7</td><td>4.9086e-7</td><td>4.9086e-7</td><td>4.9086e-7</td><td>4.9086e-7</td><td>4.9086e-7</td><td>4.9086e-7</td><td>4.9086e-7</td><td>4.9086e-7</td><td>4.9086e-7</td><td>4.9086e-7</td><td>4.9086e-7</td><td>4.9086e-7</td><td>4.9086e-7</td><td>4.9086e-7</td><td>4.9086e-7</td><td>4.9086e-7</td><td>4.9086e-7</td><td>4.9086e-7</td><td>4.9086e-7</td><td>4.9086e-7</td><td>4.9086e-7</td><td>4.9086e-7</td><td>4.9086e-7</td></tr><tr><td>&quot;test_100456&quot;</td><td>213.779131</td><td>222.641431</td><td>234.139642</td><td>248.09112</td><td>259.115334</td><td>265.345904</td><td>263.341407</td><td>255.022751</td><td>244.659451</td><td>237.155154</td><td>231.599541</td><td>227.705521</td><td>224.966578</td><td>223.26269</td><td>222.053267</td><td>221.173859</td><td>220.142456</td><td>219.313927</td><td>215.369519</td><td>214.711592</td><td>210.829823</td><td>208.767038</td><td>208.560237</td><td>209.458643</td><td>211.015524</td><td>212.965759</td><td>215.249396</td><td>217.730036</td><td>220.361509</td><td>223.246607</td><td>226.559564</td><td>230.073359</td><td>233.629443</td><td>237.156588</td><td>240.694411</td><td>244.252419</td><td>&hellip;</td><td>4.9086e-7</td><td>4.9086e-7</td><td>4.9086e-7</td><td>4.9086e-7</td><td>4.9086e-7</td><td>4.9086e-7</td><td>4.9086e-7</td><td>4.9086e-7</td><td>4.9086e-7</td><td>4.9086e-7</td><td>4.9086e-7</td><td>4.9086e-7</td><td>4.9086e-7</td><td>4.9086e-7</td><td>4.9086e-7</td><td>4.9086e-7</td><td>4.9086e-7</td><td>4.9086e-7</td><td>4.9086e-7</td><td>4.9086e-7</td><td>4.9086e-7</td><td>4.9086e-7</td><td>4.9086e-7</td><td>4.9086e-7</td><td>4.9086e-7</td><td>4.9086e-7</td><td>4.9086e-7</td><td>4.9086e-7</td><td>4.9086e-7</td><td>4.9086e-7</td><td>4.9086e-7</td><td>4.9086e-7</td><td>4.9086e-7</td><td>4.9086e-7</td><td>4.9086e-7</td><td>4.9086e-7</td><td>4.9086e-7</td></tr><tr><td>&quot;test_100458&quot;</td><td>220.849426</td><td>222.368835</td><td>236.797136</td><td>247.46863</td><td>257.170938</td><td>265.812413</td><td>261.597356</td><td>250.263043</td><td>239.940483</td><td>233.877353</td><td>228.405961</td><td>222.707502</td><td>216.399564</td><td>212.72141</td><td>207.88912</td><td>200.191655</td><td>189.471222</td><td>186.1124</td><td>189.169765</td><td>191.528516</td><td>198.259119</td><td>204.388877</td><td>209.790096</td><td>215.67299</td><td>221.763447</td><td>227.443738</td><td>232.92412</td><td>237.888033</td><td>242.479158</td><td>246.826067</td><td>251.019566</td><td>255.024617</td><td>258.622324</td><td>261.717114</td><td>264.686033</td><td>267.593346</td><td>&hellip;</td><td>4.9086e-7</td><td>4.9086e-7</td><td>4.9086e-7</td><td>4.9086e-7</td><td>4.9086e-7</td><td>4.9086e-7</td><td>4.9086e-7</td><td>4.9086e-7</td><td>4.9086e-7</td><td>4.9086e-7</td><td>4.9086e-7</td><td>4.9086e-7</td><td>4.9086e-7</td><td>4.9086e-7</td><td>4.9086e-7</td><td>4.9086e-7</td><td>4.9086e-7</td><td>4.9086e-7</td><td>4.9086e-7</td><td>4.9086e-7</td><td>4.9086e-7</td><td>4.9086e-7</td><td>4.9086e-7</td><td>4.9086e-7</td><td>4.9086e-7</td><td>4.9086e-7</td><td>4.9086e-7</td><td>4.9086e-7</td><td>4.9086e-7</td><td>4.9086e-7</td><td>4.9086e-7</td><td>4.9086e-7</td><td>4.9086e-7</td><td>4.9086e-7</td><td>4.9086e-7</td><td>4.9086e-7</td><td>4.9086e-7</td></tr><tr><td>&quot;test_100459&quot;</td><td>210.303844</td><td>217.963133</td><td>230.294393</td><td>240.131893</td><td>255.06261</td><td>265.784184</td><td>264.537377</td><td>250.079453</td><td>237.615815</td><td>232.274324</td><td>227.024494</td><td>222.443966</td><td>218.326228</td><td>213.79039</td><td>206.145042</td><td>198.183557</td><td>192.019738</td><td>186.633447</td><td>189.394467</td><td>192.748124</td><td>197.786222</td><td>203.243175</td><td>209.533219</td><td>216.201298</td><td>222.496667</td><td>227.791011</td><td>232.613324</td><td>237.422549</td><td>242.126486</td><td>246.770446</td><td>251.273411</td><td>255.392277</td><td>259.238923</td><td>262.794763</td><td>266.115944</td><td>269.019767</td><td>&hellip;</td><td>4.9086e-7</td><td>4.9086e-7</td><td>4.9086e-7</td><td>4.9086e-7</td><td>4.9086e-7</td><td>4.9086e-7</td><td>4.9086e-7</td><td>4.9086e-7</td><td>4.9086e-7</td><td>4.9086e-7</td><td>4.9086e-7</td><td>4.9086e-7</td><td>4.9086e-7</td><td>4.9086e-7</td><td>4.9086e-7</td><td>4.9086e-7</td><td>4.9086e-7</td><td>4.9086e-7</td><td>4.9086e-7</td><td>4.9086e-7</td><td>4.9086e-7</td><td>4.9086e-7</td><td>4.9086e-7</td><td>4.9086e-7</td><td>4.9086e-7</td><td>4.9086e-7</td><td>4.9086e-7</td><td>4.9086e-7</td><td>4.9086e-7</td><td>4.9086e-7</td><td>4.9086e-7</td><td>4.9086e-7</td><td>4.9086e-7</td><td>4.9086e-7</td><td>4.9086e-7</td><td>4.9086e-7</td><td>4.9086e-7</td></tr><tr><td>&quot;test_10046&quot;</td><td>209.322507</td><td>231.10362</td><td>241.325142</td><td>247.55673</td><td>253.734333</td><td>259.701721</td><td>257.904731</td><td>252.741085</td><td>243.519753</td><td>234.41549</td><td>226.515931</td><td>221.011199</td><td>215.993577</td><td>213.310021</td><td>210.555016</td><td>203.85873</td><td>190.23026</td><td>183.499425</td><td>188.165277</td><td>194.902409</td><td>202.116503</td><td>209.452504</td><td>216.132954</td><td>220.993722</td><td>226.072093</td><td>231.817729</td><td>236.856361</td><td>241.249057</td><td>246.381163</td><td>251.236683</td><td>255.780915</td><td>259.843325</td><td>263.341175</td><td>266.320779</td><td>269.192216</td><td>272.120027</td><td>&hellip;</td><td>4.9086e-7</td><td>4.9086e-7</td><td>4.9086e-7</td><td>4.9086e-7</td><td>4.9086e-7</td><td>4.9086e-7</td><td>4.9086e-7</td><td>4.9086e-7</td><td>4.9086e-7</td><td>4.9086e-7</td><td>4.9086e-7</td><td>4.9086e-7</td><td>4.9086e-7</td><td>4.9086e-7</td><td>4.9086e-7</td><td>4.9086e-7</td><td>4.9086e-7</td><td>4.9086e-7</td><td>4.9086e-7</td><td>4.9086e-7</td><td>4.9086e-7</td><td>4.9086e-7</td><td>4.9086e-7</td><td>4.9086e-7</td><td>4.9086e-7</td><td>4.9086e-7</td><td>4.9086e-7</td><td>4.9086e-7</td><td>4.9086e-7</td><td>4.9086e-7</td><td>4.9086e-7</td><td>4.9086e-7</td><td>4.9086e-7</td><td>4.9086e-7</td><td>4.9086e-7</td><td>4.9086e-7</td><td>4.9086e-7</td></tr><tr><td>&hellip;</td><td>&hellip;</td><td>&hellip;</td><td>&hellip;</td><td>&hellip;</td><td>&hellip;</td><td>&hellip;</td><td>&hellip;</td><td>&hellip;</td><td>&hellip;</td><td>&hellip;</td><td>&hellip;</td><td>&hellip;</td><td>&hellip;</td><td>&hellip;</td><td>&hellip;</td><td>&hellip;</td><td>&hellip;</td><td>&hellip;</td><td>&hellip;</td><td>&hellip;</td><td>&hellip;</td><td>&hellip;</td><td>&hellip;</td><td>&hellip;</td><td>&hellip;</td><td>&hellip;</td><td>&hellip;</td><td>&hellip;</td><td>&hellip;</td><td>&hellip;</td><td>&hellip;</td><td>&hellip;</td><td>&hellip;</td><td>&hellip;</td><td>&hellip;</td><td>&hellip;</td><td>&hellip;</td><td>&hellip;</td><td>&hellip;</td><td>&hellip;</td><td>&hellip;</td><td>&hellip;</td><td>&hellip;</td><td>&hellip;</td><td>&hellip;</td><td>&hellip;</td><td>&hellip;</td><td>&hellip;</td><td>&hellip;</td><td>&hellip;</td><td>&hellip;</td><td>&hellip;</td><td>&hellip;</td><td>&hellip;</td><td>&hellip;</td><td>&hellip;</td><td>&hellip;</td><td>&hellip;</td><td>&hellip;</td><td>&hellip;</td><td>&hellip;</td><td>&hellip;</td><td>&hellip;</td><td>&hellip;</td><td>&hellip;</td><td>&hellip;</td><td>&hellip;</td><td>&hellip;</td><td>&hellip;</td><td>&hellip;</td><td>&hellip;</td><td>&hellip;</td><td>&hellip;</td><td>&hellip;</td></tr><tr><td>&quot;test_100583&quot;</td><td>210.896299</td><td>226.949524</td><td>246.328341</td><td>256.774321</td><td>255.693123</td><td>249.320052</td><td>240.589772</td><td>231.478061</td><td>221.625913</td><td>213.835722</td><td>209.015114</td><td>206.09005</td><td>204.614019</td><td>204.247701</td><td>204.475533</td><td>204.950203</td><td>205.595503</td><td>205.715511</td><td>205.036733</td><td>206.857188</td><td>207.152173</td><td>208.374523</td><td>209.03579</td><td>209.805986</td><td>210.707882</td><td>212.129655</td><td>213.904188</td><td>215.813468</td><td>218.053704</td><td>220.485115</td><td>222.971111</td><td>225.518342</td><td>228.08996</td><td>230.781366</td><td>233.680939</td><td>236.411408</td><td>&hellip;</td><td>4.9086e-7</td><td>4.9086e-7</td><td>4.9086e-7</td><td>4.9086e-7</td><td>4.9086e-7</td><td>4.9086e-7</td><td>4.9086e-7</td><td>4.9086e-7</td><td>4.9086e-7</td><td>4.9086e-7</td><td>4.9086e-7</td><td>4.9086e-7</td><td>4.9086e-7</td><td>4.9086e-7</td><td>4.9086e-7</td><td>4.9086e-7</td><td>4.9086e-7</td><td>4.9086e-7</td><td>4.9086e-7</td><td>4.9086e-7</td><td>4.9086e-7</td><td>4.9086e-7</td><td>4.9086e-7</td><td>4.9086e-7</td><td>4.9086e-7</td><td>4.9086e-7</td><td>4.9086e-7</td><td>4.9086e-7</td><td>4.9086e-7</td><td>4.9086e-7</td><td>4.9086e-7</td><td>4.9086e-7</td><td>4.9086e-7</td><td>4.9086e-7</td><td>4.9086e-7</td><td>4.9086e-7</td><td>4.9086e-7</td></tr><tr><td>&quot;test_100585&quot;</td><td>219.242308</td><td>213.683807</td><td>231.43643</td><td>241.752144</td><td>253.337549</td><td>259.810693</td><td>259.377023</td><td>252.394073</td><td>242.842122</td><td>236.111489</td><td>230.129933</td><td>225.202313</td><td>220.335361</td><td>214.914411</td><td>206.708639</td><td>196.175395</td><td>189.303298</td><td>189.538013</td><td>194.371118</td><td>200.519663</td><td>207.496444</td><td>213.907788</td><td>220.152382</td><td>227.363771</td><td>233.58624</td><td>238.934276</td><td>243.109843</td><td>246.77621</td><td>250.457702</td><td>254.143704</td><td>257.843862</td><td>261.447136</td><td>264.800699</td><td>267.952459</td><td>270.556472</td><td>273.150542</td><td>&hellip;</td><td>4.9086e-7</td><td>4.9086e-7</td><td>4.9086e-7</td><td>4.9086e-7</td><td>4.9086e-7</td><td>4.9086e-7</td><td>4.9086e-7</td><td>4.9086e-7</td><td>4.9086e-7</td><td>4.9086e-7</td><td>4.9086e-7</td><td>4.9086e-7</td><td>4.9086e-7</td><td>4.9086e-7</td><td>4.9086e-7</td><td>4.9086e-7</td><td>4.9086e-7</td><td>4.9086e-7</td><td>4.9086e-7</td><td>4.9086e-7</td><td>4.9086e-7</td><td>4.9086e-7</td><td>4.9086e-7</td><td>4.9086e-7</td><td>4.9086e-7</td><td>4.9086e-7</td><td>4.9086e-7</td><td>4.9086e-7</td><td>4.9086e-7</td><td>4.9086e-7</td><td>4.9086e-7</td><td>4.9086e-7</td><td>4.9086e-7</td><td>4.9086e-7</td><td>4.9086e-7</td><td>4.9086e-7</td><td>4.9086e-7</td></tr><tr><td>&quot;test_100587&quot;</td><td>188.641033</td><td>218.682586</td><td>251.38984</td><td>257.156122</td><td>247.991925</td><td>239.392321</td><td>231.504708</td><td>224.324894</td><td>215.861296</td><td>209.149528</td><td>205.285833</td><td>203.089489</td><td>201.798647</td><td>201.328213</td><td>201.43404</td><td>201.989683</td><td>202.856485</td><td>203.602909</td><td>202.674878</td><td>203.443471</td><td>203.642181</td><td>203.867029</td><td>203.985044</td><td>204.413502</td><td>205.363022</td><td>206.859562</td><td>208.660719</td><td>210.658955</td><td>212.837752</td><td>215.06403</td><td>217.227709</td><td>219.481502</td><td>221.829504</td><td>224.227651</td><td>226.681746</td><td>229.133459</td><td>&hellip;</td><td>4.7192e-7</td><td>4.9086e-7</td><td>4.9086e-7</td><td>4.9086e-7</td><td>4.9086e-7</td><td>4.9086e-7</td><td>4.9086e-7</td><td>4.9086e-7</td><td>4.9086e-7</td><td>4.9086e-7</td><td>4.9086e-7</td><td>4.9086e-7</td><td>4.9086e-7</td><td>4.9086e-7</td><td>4.9086e-7</td><td>4.9086e-7</td><td>4.9086e-7</td><td>4.9086e-7</td><td>4.9086e-7</td><td>4.9086e-7</td><td>4.9086e-7</td><td>4.9086e-7</td><td>4.9086e-7</td><td>4.9086e-7</td><td>4.9086e-7</td><td>4.9086e-7</td><td>4.9086e-7</td><td>4.9086e-7</td><td>4.9086e-7</td><td>4.9086e-7</td><td>4.9086e-7</td><td>4.9086e-7</td><td>4.9086e-7</td><td>4.9086e-7</td><td>4.9086e-7</td><td>4.9086e-7</td><td>4.9086e-7</td></tr><tr><td>&quot;test_100588&quot;</td><td>209.368365</td><td>216.826475</td><td>229.871042</td><td>243.125089</td><td>254.889736</td><td>261.936689</td><td>262.032798</td><td>250.627573</td><td>237.334386</td><td>231.390554</td><td>225.344048</td><td>219.947537</td><td>215.931143</td><td>214.46562</td><td>210.108701</td><td>202.036557</td><td>193.034664</td><td>187.446768</td><td>187.75894</td><td>192.271572</td><td>199.270371</td><td>204.088142</td><td>210.325125</td><td>216.104642</td><td>222.276893</td><td>227.444603</td><td>232.472156</td><td>237.190846</td><td>241.610457</td><td>245.953051</td><td>250.45319</td><td>254.673098</td><td>258.234254</td><td>261.776959</td><td>264.855822</td><td>267.896128</td><td>&hellip;</td><td>4.9086e-7</td><td>4.9086e-7</td><td>4.9086e-7</td><td>4.9086e-7</td><td>4.9086e-7</td><td>4.9086e-7</td><td>4.9086e-7</td><td>4.9086e-7</td><td>4.9086e-7</td><td>4.9086e-7</td><td>4.9086e-7</td><td>4.9086e-7</td><td>4.9086e-7</td><td>4.9086e-7</td><td>4.9086e-7</td><td>4.9086e-7</td><td>4.9086e-7</td><td>4.9086e-7</td><td>4.9086e-7</td><td>4.9086e-7</td><td>4.9086e-7</td><td>4.9086e-7</td><td>4.9086e-7</td><td>4.9086e-7</td><td>4.9086e-7</td><td>4.9086e-7</td><td>4.9086e-7</td><td>4.9086e-7</td><td>4.9086e-7</td><td>4.9086e-7</td><td>4.9086e-7</td><td>4.9086e-7</td><td>4.9086e-7</td><td>4.9086e-7</td><td>4.9086e-7</td><td>4.9086e-7</td><td>4.9086e-7</td></tr><tr><td>&quot;test_100589&quot;</td><td>220.356471</td><td>231.267107</td><td>242.052764</td><td>252.116253</td><td>259.346828</td><td>261.100216</td><td>256.379619</td><td>249.845687</td><td>242.00642</td><td>235.860386</td><td>231.387454</td><td>228.232283</td><td>226.13508</td><td>225.093459</td><td>224.704655</td><td>224.5964</td><td>224.295804</td><td>223.902255</td><td>222.070488</td><td>220.046879</td><td>215.302142</td><td>211.131013</td><td>209.413486</td><td>209.50535</td><td>209.937641</td><td>210.539534</td><td>211.276666</td><td>212.124887</td><td>213.096448</td><td>214.217609</td><td>215.455424</td><td>216.790125</td><td>218.184567</td><td>219.642916</td><td>221.19155</td><td>222.780407</td><td>&hellip;</td><td>4.1910e-7</td><td>4.4795e-7</td><td>4.7669e-7</td><td>4.9086e-7</td><td>4.9086e-7</td><td>4.9086e-7</td><td>4.9086e-7</td><td>4.9086e-7</td><td>4.9086e-7</td><td>4.9086e-7</td><td>4.9086e-7</td><td>4.9086e-7</td><td>4.9086e-7</td><td>4.9086e-7</td><td>4.9086e-7</td><td>4.9086e-7</td><td>4.9086e-7</td><td>4.9086e-7</td><td>4.9086e-7</td><td>4.9086e-7</td><td>4.9086e-7</td><td>4.9086e-7</td><td>4.9086e-7</td><td>4.9086e-7</td><td>4.9086e-7</td><td>4.9086e-7</td><td>4.9086e-7</td><td>4.9086e-7</td><td>4.9086e-7</td><td>4.9086e-7</td><td>4.9086e-7</td><td>4.9086e-7</td><td>4.9086e-7</td><td>4.9086e-7</td><td>4.9086e-7</td><td>4.9086e-7</td><td>4.9086e-7</td></tr></tbody></table></div>"
      ],
      "text/plain": [
       "shape: (116, 557)\n",
       "┌───────────┬───────────┬───────────┬───────────┬───┬───────────┬───────────┬───────────┬──────────┐\n",
       "│ sample_id ┆ state_t_0 ┆ state_t_1 ┆ state_t_2 ┆ … ┆ pbuf_N2O_ ┆ pbuf_N2O_ ┆ pbuf_N2O_ ┆ pbuf_N2O │\n",
       "│ ---       ┆ ---       ┆ ---       ┆ ---       ┆   ┆ 56        ┆ 57        ┆ 58        ┆ _59      │\n",
       "│ str       ┆ f64       ┆ f64       ┆ f64       ┆   ┆ ---       ┆ ---       ┆ ---       ┆ ---      │\n",
       "│           ┆           ┆           ┆           ┆   ┆ f64       ┆ f64       ┆ f64       ┆ f64      │\n",
       "╞═══════════╪═══════════╪═══════════╪═══════════╪═══╪═══════════╪═══════════╪═══════════╪══════════╡\n",
       "│ test_1004 ┆ 208.03610 ┆ 227.15859 ┆ 230.73290 ┆ … ┆ 4.9086e-7 ┆ 4.9086e-7 ┆ 4.9086e-7 ┆ 4.9086e- │\n",
       "│ 55        ┆ 8         ┆ 5         ┆ 9         ┆   ┆           ┆           ┆           ┆ 7        │\n",
       "│ test_1004 ┆ 213.77913 ┆ 222.64143 ┆ 234.13964 ┆ … ┆ 4.9086e-7 ┆ 4.9086e-7 ┆ 4.9086e-7 ┆ 4.9086e- │\n",
       "│ 56        ┆ 1         ┆ 1         ┆ 2         ┆   ┆           ┆           ┆           ┆ 7        │\n",
       "│ test_1004 ┆ 220.84942 ┆ 222.36883 ┆ 236.79713 ┆ … ┆ 4.9086e-7 ┆ 4.9086e-7 ┆ 4.9086e-7 ┆ 4.9086e- │\n",
       "│ 58        ┆ 6         ┆ 5         ┆ 6         ┆   ┆           ┆           ┆           ┆ 7        │\n",
       "│ test_1004 ┆ 210.30384 ┆ 217.96313 ┆ 230.29439 ┆ … ┆ 4.9086e-7 ┆ 4.9086e-7 ┆ 4.9086e-7 ┆ 4.9086e- │\n",
       "│ 59        ┆ 4         ┆ 3         ┆ 3         ┆   ┆           ┆           ┆           ┆ 7        │\n",
       "│ test_1004 ┆ 209.32250 ┆ 231.10362 ┆ 241.32514 ┆ … ┆ 4.9086e-7 ┆ 4.9086e-7 ┆ 4.9086e-7 ┆ 4.9086e- │\n",
       "│ 6         ┆ 7         ┆           ┆ 2         ┆   ┆           ┆           ┆           ┆ 7        │\n",
       "│ …         ┆ …         ┆ …         ┆ …         ┆ … ┆ …         ┆ …         ┆ …         ┆ …        │\n",
       "│ test_1005 ┆ 210.89629 ┆ 226.94952 ┆ 246.32834 ┆ … ┆ 4.9086e-7 ┆ 4.9086e-7 ┆ 4.9086e-7 ┆ 4.9086e- │\n",
       "│ 83        ┆ 9         ┆ 4         ┆ 1         ┆   ┆           ┆           ┆           ┆ 7        │\n",
       "│ test_1005 ┆ 219.24230 ┆ 213.68380 ┆ 231.43643 ┆ … ┆ 4.9086e-7 ┆ 4.9086e-7 ┆ 4.9086e-7 ┆ 4.9086e- │\n",
       "│ 85        ┆ 8         ┆ 7         ┆           ┆   ┆           ┆           ┆           ┆ 7        │\n",
       "│ test_1005 ┆ 188.64103 ┆ 218.68258 ┆ 251.38984 ┆ … ┆ 4.9086e-7 ┆ 4.9086e-7 ┆ 4.9086e-7 ┆ 4.9086e- │\n",
       "│ 87        ┆ 3         ┆ 6         ┆           ┆   ┆           ┆           ┆           ┆ 7        │\n",
       "│ test_1005 ┆ 209.36836 ┆ 216.82647 ┆ 229.87104 ┆ … ┆ 4.9086e-7 ┆ 4.9086e-7 ┆ 4.9086e-7 ┆ 4.9086e- │\n",
       "│ 88        ┆ 5         ┆ 5         ┆ 2         ┆   ┆           ┆           ┆           ┆ 7        │\n",
       "│ test_1005 ┆ 220.35647 ┆ 231.26710 ┆ 242.05276 ┆ … ┆ 4.9086e-7 ┆ 4.9086e-7 ┆ 4.9086e-7 ┆ 4.9086e- │\n",
       "│ 89        ┆ 1         ┆ 7         ┆ 4         ┆   ┆           ┆           ┆           ┆ 7        │\n",
       "└───────────┴───────────┴───────────┴───────────┴───┴───────────┴───────────┴───────────┴──────────┘"
      ]
     },
     "execution_count": 25,
     "metadata": {},
     "output_type": "execute_result"
    }
   ],
   "source": [
    "test_df[384:]"
   ]
  },
  {
   "cell_type": "code",
   "execution_count": null,
   "id": "c64c2909-3879-46f5-bb99-03415293d6cb",
   "metadata": {},
   "outputs": [],
   "source": []
  }
 ],
 "metadata": {
  "kernelspec": {
   "display_name": "Python 3 (ipykernel) (Local)",
   "language": "python",
   "name": "python3"
  },
  "language_info": {
   "codemirror_mode": {
    "name": "ipython",
    "version": 3
   },
   "file_extension": ".py",
   "mimetype": "text/x-python",
   "name": "python",
   "nbconvert_exporter": "python",
   "pygments_lexer": "ipython3",
   "version": "3.10.13"
  }
 },
 "nbformat": 4,
 "nbformat_minor": 5
}
