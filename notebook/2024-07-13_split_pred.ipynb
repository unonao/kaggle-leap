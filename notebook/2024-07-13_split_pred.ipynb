{
 "cells": [
  {
   "cell_type": "code",
   "execution_count": 11,
   "id": "ee96cb76-12a5-41af-96ab-481ec3159b7f",
   "metadata": {},
   "outputs": [
    {
     "name": "stdout",
     "output_type": "stream",
     "text": [
      "/kaggle/working\n",
      "seed: 7\n",
      "kami_pred_paths:\n",
      "- input/predict/kami-leap-pred2/kami_experiments_201_unet_multi_all_384_n2_submission.parquet\n",
      "- input/predict/kami-leap-pred2/kami_experiments_201_unet_multi_all_512_n3_submission.parquet\n",
      "- input/predict/kami-leap-pred2/kami_experiments_201_unet_multi_all_n3_restart2_submission.parquet\n",
      "- input/predict/kami-leap-pred2/kami_experiments_201_unet_multi_all_submission.parquet\n",
      "- input/predict/kami-leap-pred2/kami_experiments_204_diff_last_all_lr_submission.parquet\n",
      "- input/predict/kami-leap-pred2/kami_experiments_211_simple_split_head_all_cos_submission.parquet\n",
      "- input/predict/kami-leap-pred2/kami_experiments_217_fix_transformer_leak_all_cos_head64_n4_submission.parquet\n",
      "- input/predict/kami-leap-pred2/kami_experiments_217_fix_transformer_leak_all_cos_head64_submission.parquet\n",
      "- input/predict/kami-leap-pred2/kami_experiments_222_wo_transformer_all_submission.parquet\n",
      "kurupical_pred_paths:\n",
      "- input/predict/kurupical-leap-pred2/20240621215730_exp031_20files_1d_dims(64, 128,\n",
      "  256, 512)_7epochs_power2.5e-3\n",
      "- input/predict/kurupical-leap-pred2/20240626042548_exp031_20files_transformer_512x6_head32_lr1e-3\n",
      "- input/predict/kurupical-leap-pred2/20240626120414_exp031_20files_transformer_384x12_head32_lr1e-3\n",
      "- input/predict/kurupical-leap-pred2/20240703230157_exp042_70m_transformer_512x4_lr0.001_beta1\n",
      "- input/predict/kurupical-leap-pred2/20240705215850_exp042_70m_transformer_768x4_lr0.001_beta1\n",
      "- input/predict/kurupical-leap-pred2/20240706022848_exp042_70m_cnn64_smoothl1beta1_lr2.5e-3_beta0.01_wd0.05\n",
      "takoi_pred_dir:\n",
      "- input/predict/leap-takoi-pred3/ex123_pp.parquet\n",
      "- input/predict/leap-takoi-pred3/ex124_pp.parquet\n",
      "- input/predict/leap-takoi-pred3/ex130_pp.parquet\n",
      "- input/predict/leap-takoi-pred3/ex131_pp.parquet\n",
      "- input/predict/leap-takoi-pred3/ex133_pp.parquet\n",
      "- input/predict/leap-takoi-pred3/ex134_pp.parquet\n",
      "- input/predict/leap-takoi-pred3/ex135_pp.parquet\n",
      "- input/predict/leap-takoi-pred3/ex136_pp.parquet\n",
      "- input/predict/leap-takoi-pred3/ex138_pp.parquet\n",
      "- input/predict/leap-takoi-pred3/ex139_pp.parquet\n",
      "- input/predict/leap-takoi-pred3/ex141_pp.parquet\n",
      "valid_path: input/valid.parquet\n",
      "test_path: input/test.parquet\n",
      "output_dir: input/predict_split/\n",
      "n_data_for_eval: 636640\n",
      "\n"
     ]
    }
   ],
   "source": [
    "%cd /kaggle/working\n",
    "\n",
    "import os\n",
    "\n",
    "from hydra import compose, initialize\n",
    "from omegaconf import OmegaConf\n",
    "\n",
    "with initialize(version_base=None, config_path=\"../preprocess/split_pred\"):\n",
    "    cfg = compose(\n",
    "        config_name=\"config.yaml\", overrides=[\"debug=True\"], return_hydra_config=True\n",
    "    )\n",
    "    print(OmegaConf.to_yaml(cfg.exp))"
   ]
  },
  {
   "cell_type": "code",
   "execution_count": 3,
   "id": "8622f49d-1aeb-490a-a972-ae68b7bb9d76",
   "metadata": {},
   "outputs": [],
   "source": [
    "from glob import glob\n",
    "from pathlib import Path\n",
    "\n",
    "import numpy as np\n",
    "import polars as pl"
   ]
  },
  {
   "cell_type": "code",
   "execution_count": 8,
   "id": "dd75e80d-5940-4abd-a57c-1aeb3f0639ff",
   "metadata": {},
   "outputs": [
    {
     "name": "stdout",
     "output_type": "stream",
     "text": [
      "(384, 924)\n"
     ]
    }
   ],
   "source": [
    "# valid\n",
    "valid_output_dir = Path(cfg.exp.output_dir) / \"label\" / \"valid\"\n",
    "valid_output_dir.mkdir(parents=True, exist_ok=True)\n",
    "df = pl.read_parquet(cfg.exp.valid_path)\n",
    "for i in range(0, cfg.exp.n_data_for_eval, 384):\n",
    "    sub_array = df[\n",
    "        -cfg.exp.n_data_for_eval + i * 384 : -cfg.exp.n_data_for_eval + (i + 1) * 384,\n",
    "        1:,\n",
    "    ].to_numpy()\n",
    "    if i == 0:\n",
    "        print(sub_array.shape)\n",
    "    np.save(valid_output_dir / f\"{i:06d}.npy\", sub_array)"
   ]
  },
  {
   "cell_type": "code",
   "execution_count": 14,
   "id": "30fb0533-70ce-4bfc-b42d-7bfe8bd1f199",
   "metadata": {},
   "outputs": [
    {
     "name": "stdout",
     "output_type": "stream",
     "text": [
      "(384, 556)\n"
     ]
    }
   ],
   "source": [
    "# test\n",
    "output_dir = Path(cfg.exp.output_dir) / \"label\" / \"test\"\n",
    "output_dir.mkdir(parents=True, exist_ok=True)\n",
    "df = pl.read_parquet(cfg.exp.test_path)\n",
    "for i in range(0, len(df), 384):\n",
    "    sub_array = df[i * 384 : (i + 1) * 384, 1:].to_numpy()\n",
    "    if i == 0:\n",
    "        print(sub_array.shape)\n",
    "    np.save(output_dir / f\"{i:06d}.npy\", sub_array)"
   ]
  },
  {
   "cell_type": "code",
   "execution_count": 37,
   "id": "c1736b91-fbae-43fd-8d9e-4cdad7639d6b",
   "metadata": {},
   "outputs": [],
   "source": [
    "TARGET_COLUMNS = pl.read_csv(\n",
    "    \"input/leap-atmospheric-physics-ai-climsim/sample_submission.csv\", n_rows=1\n",
    ").columns[1:]"
   ]
  },
  {
   "cell_type": "code",
   "execution_count": 38,
   "id": "0777df83-a896-4699-b249-2a115e8406bb",
   "metadata": {},
   "outputs": [
    {
     "name": "stdout",
     "output_type": "stream",
     "text": [
      "kami_experiments_201_unet_multi_all_384_n2\n",
      "(636640, 368)\n",
      "(625000, 368)\n",
      "kami_experiments_201_unet_multi_all_512_n3\n",
      "(636640, 368)\n",
      "(625000, 368)\n",
      "kami_experiments_201_unet_multi_all_n3_restart2\n",
      "(636640, 368)\n",
      "(625000, 368)\n",
      "kami_experiments_201_unet_multi_all\n",
      "(636640, 368)\n",
      "(625000, 368)\n",
      "kami_experiments_204_diff_last_all_lr\n",
      "(636640, 368)\n",
      "(625000, 368)\n",
      "kami_experiments_211_simple_split_head_all_cos\n",
      "(636640, 368)\n",
      "(625000, 368)\n",
      "kami_experiments_217_fix_transformer_leak_all_cos_head64_n4\n",
      "(636640, 368)\n",
      "(625000, 368)\n",
      "kami_experiments_217_fix_transformer_leak_all_cos_head64\n",
      "(636640, 368)\n",
      "(625000, 368)\n",
      "kami_experiments_222_wo_transformer_all\n",
      "(636640, 368)\n",
      "(625000, 368)\n"
     ]
    }
   ],
   "source": [
    "# kami\n",
    "\n",
    "for path in cfg.exp.kami_pred_paths:\n",
    "    base_name = path.replace(\"_submission.parquet\", \"\").split(\"/\")[-1]\n",
    "    print(base_name)\n",
    "\n",
    "    # valid\n",
    "    valid_output_dir = Path(cfg.exp.output_dir) / base_name / \"valid\"\n",
    "    valid_output_dir.mkdir(parents=True, exist_ok=True)\n",
    "    valid_path = path.replace(\"_submission.parquet\", \"_valid_pred.parquet\")\n",
    "    df = pl.read_parquet(valid_path)\n",
    "    array = df.select(TARGET_COLUMNS)[-cfg.exp.n_data_for_eval :].to_numpy()\n",
    "    print(array.shape)\n",
    "    for i in range(0, cfg.exp.n_data_for_eval, 384):\n",
    "        sub_array = array[i * 384 : (i + 1) * 384]\n",
    "        np.save(valid_output_dir / f\"{i:06d}.npy\", sub_array)\n",
    "\n",
    "    # test\n",
    "    test_output_dir = Path(cfg.exp.output_dir) / base_name / \"test\"\n",
    "    test_output_dir.mkdir(parents=True, exist_ok=True)\n",
    "    sub_path = path\n",
    "    df = pl.read_parquet(sub_path)\n",
    "    array = df.select(TARGET_COLUMNS)[: cfg.exp.n_data_for_eval].to_numpy()\n",
    "    print(array.shape)\n",
    "    for i in range(0, len(df), 384):\n",
    "        sub_array = array[i * 384 : (i + 1) * 384]\n",
    "        np.save(test_output_dir / f\"{i:06d}.npy\", sub_array)"
   ]
  },
  {
   "cell_type": "code",
   "execution_count": 39,
   "id": "8b39be8c-902b-4f58-ab5e-baacfe3ff838",
   "metadata": {},
   "outputs": [
    {
     "name": "stdout",
     "output_type": "stream",
     "text": [
      "20240621215730_exp031_20files_1d_dims(64, 128, 256, 512)_7epochs_power2.5e-3\n",
      "(636640, 368)\n",
      "(625000, 368)\n",
      "20240626042548_exp031_20files_transformer_512x6_head32_lr1e-3\n",
      "(636640, 368)\n",
      "(625000, 368)\n",
      "20240626120414_exp031_20files_transformer_384x12_head32_lr1e-3\n",
      "(636640, 368)\n",
      "(625000, 368)\n",
      "20240703230157_exp042_70m_transformer_512x4_lr0.001_beta1\n",
      "(636640, 368)\n",
      "(625000, 368)\n",
      "20240705215850_exp042_70m_transformer_768x4_lr0.001_beta1\n",
      "(636640, 368)\n",
      "(625000, 368)\n",
      "20240706022848_exp042_70m_cnn64_smoothl1beta1_lr2.5e-3_beta0.01_wd0.05\n",
      "(636640, 368)\n",
      "(625000, 368)\n"
     ]
    }
   ],
   "source": [
    "# kurupical\n",
    "\n",
    "for path in cfg.exp.kurupical_pred_paths:\n",
    "    base_name = path.split(\"/\")[-1]\n",
    "    print(base_name)\n",
    "\n",
    "    # valid\n",
    "    valid_output_dir = Path(cfg.exp.output_dir) / base_name / \"valid\"\n",
    "    valid_output_dir.mkdir(parents=True, exist_ok=True)\n",
    "    valid_path = Path(path) / \"pred_valid.parquet\"\n",
    "    df = pl.read_parquet(valid_path)\n",
    "    array = df.select(TARGET_COLUMNS)[-cfg.exp.n_data_for_eval :].to_numpy()\n",
    "    print(array.shape)\n",
    "    for i in range(0, cfg.exp.n_data_for_eval, 384):\n",
    "        sub_array = array[i * 384 : (i + 1) * 384]\n",
    "        np.save(valid_output_dir / f\"{i:06d}.npy\", sub_array)\n",
    "\n",
    "    # test\n",
    "    test_output_dir = Path(cfg.exp.output_dir) / base_name / \"test\"\n",
    "    test_output_dir.mkdir(parents=True, exist_ok=True)\n",
    "    sub_path = Path(path) / \"submission.parquet\"\n",
    "    df = pl.read_parquet(sub_path)\n",
    "    array = df.select(TARGET_COLUMNS)[-cfg.exp.n_data_for_eval :].to_numpy()\n",
    "    print(array.shape)\n",
    "    for i in range(0, cfg.exp.n_data_for_eval, 384):\n",
    "        sub_array = array[i * 384 : (i + 1) * 384]\n",
    "        np.save(test_output_dir / f\"{i:06d}.npy\", sub_array)"
   ]
  },
  {
   "cell_type": "code",
   "execution_count": 41,
   "id": "b77155b2-44b0-455c-8f50-8c1487eb9499",
   "metadata": {},
   "outputs": [
    {
     "name": "stdout",
     "output_type": "stream",
     "text": [
      "ex123\n",
      "(636640, 368)\n",
      "(625000, 368)\n",
      "ex124\n",
      "(636640, 368)\n",
      "(625000, 368)\n",
      "ex130\n",
      "(636640, 368)\n",
      "(625000, 368)\n",
      "ex131\n",
      "(636640, 368)\n",
      "(625000, 368)\n",
      "ex133\n",
      "(636640, 368)\n",
      "(625000, 368)\n",
      "ex134\n",
      "(636640, 368)\n",
      "(625000, 368)\n",
      "ex135\n",
      "(636640, 368)\n",
      "(625000, 368)\n",
      "ex136\n",
      "(636640, 368)\n",
      "(625000, 368)\n",
      "ex138\n",
      "(636640, 368)\n",
      "(625000, 368)\n",
      "ex139\n",
      "(636640, 368)\n",
      "(625000, 368)\n",
      "ex141\n",
      "(636640, 368)\n",
      "(625000, 368)\n"
     ]
    }
   ],
   "source": [
    "# takoi\n",
    "\n",
    "for path in cfg.exp.takoi_pred_dir:\n",
    "    base_name = path.replace(\"_pp.parquet\", \"\").split(\"/\")[-1]\n",
    "    print(base_name)\n",
    "\n",
    "    # valid\n",
    "    valid_output_dir = Path(cfg.exp.output_dir) / base_name / \"valid\"\n",
    "    valid_output_dir.mkdir(parents=True, exist_ok=True)\n",
    "    valid_path = path.replace(\"_pp.parquet\", \"_val_preds.npy\").replace(\"ex\", \"exp\")\n",
    "    array = np.load(valid_path)\n",
    "    array = array[-cfg.exp.n_data_for_eval :]\n",
    "    print(array.shape)\n",
    "    for i in range(0, cfg.exp.n_data_for_eval, 384):\n",
    "        sub_array = array[i * 384 : (i + 1) * 384]\n",
    "        np.save(valid_output_dir / f\"{i:06d}.npy\", sub_array)\n",
    "\n",
    "    # test\n",
    "    test_output_dir = Path(cfg.exp.output_dir) / base_name / \"test\"\n",
    "    test_output_dir.mkdir(parents=True, exist_ok=True)\n",
    "    sub_path = path\n",
    "    df = pl.read_parquet(sub_path)\n",
    "    array = df.select(TARGET_COLUMNS)[-cfg.exp.n_data_for_eval :].to_numpy()\n",
    "    print(array.shape)\n",
    "    for i in range(0, cfg.exp.n_data_for_eval, 384):\n",
    "        sub_array = array[i * 384 : (i + 1) * 384]\n",
    "        np.save(test_output_dir / f\"{i:06d}.npy\", sub_array)"
   ]
  },
  {
   "cell_type": "code",
   "execution_count": 17,
   "id": "2b5b082c-de46-45b5-b061-c42b168ede98",
   "metadata": {},
   "outputs": [
    {
     "name": "stdout",
     "output_type": "stream",
     "text": [
      "(384, 556)\n"
     ]
    },
    {
     "data": {
      "text/plain": [
       "array([[2.14197182e+02, 2.38947380e+02, 2.50907070e+02, ...,\n",
       "        4.90858386e-07, 4.90858386e-07, 4.90858386e-07],\n",
       "       [2.18198634e+02, 2.33129742e+02, 2.36723381e+02, ...,\n",
       "        4.90858386e-07, 4.90858386e-07, 4.90858386e-07],\n",
       "       [2.09452196e+02, 2.33517061e+02, 2.27908495e+02, ...,\n",
       "        4.90858386e-07, 4.90858386e-07, 4.90858386e-07],\n",
       "       ...,\n",
       "       [2.01760727e+02, 2.17223779e+02, 2.28078219e+02, ...,\n",
       "        4.90858386e-07, 4.90858386e-07, 4.90858386e-07],\n",
       "       [2.17295289e+02, 2.17804358e+02, 2.30761110e+02, ...,\n",
       "        4.90858386e-07, 4.90858386e-07, 4.90858386e-07],\n",
       "       [2.14073740e+02, 2.18428334e+02, 2.31001217e+02, ...,\n",
       "        4.90858386e-07, 4.90858386e-07, 4.90858386e-07]])"
      ]
     },
     "execution_count": 17,
     "metadata": {},
     "output_type": "execute_result"
    }
   ],
   "source": [
    "array = np.load(\n",
    "    \"input/predict_split/label/test/000000.npy\",\n",
    "    allow_pickle=True,\n",
    ")\n",
    "print(array.shape)\n",
    "array"
   ]
  },
  {
   "cell_type": "code",
   "execution_count": 16,
   "id": "12986079-8f4d-4963-87fc-f1a725de85d8",
   "metadata": {},
   "outputs": [
    {
     "name": "stdout",
     "output_type": "stream",
     "text": [
      "(384, 368)\n"
     ]
    },
    {
     "data": {
      "text/plain": [
       "array([[ 3.04885907e-06, -6.41175648e-05, -8.41216461e-05, ...,\n",
       "         5.85786067e-02, -8.90148804e-02, -3.96178253e-02],\n",
       "       [-1.45590175e-05, -4.92031140e-05, -3.33135758e-05, ...,\n",
       "         1.40480161e-01, -1.18626244e-02,  5.07695191e-02],\n",
       "       [-7.37343453e-06, -7.73725042e-05, -3.20664512e-05, ...,\n",
       "         4.48914729e-02,  2.08979957e-02,  1.81443207e-02],\n",
       "       ...,\n",
       "       [-6.40458950e-07, -2.37953955e-05, -3.23130043e-05, ...,\n",
       "        -1.45362735e-01,  3.94450538e-02,  8.22350457e-02],\n",
       "       [-3.13781129e-05, -1.62495344e-05, -3.81992068e-05, ...,\n",
       "         2.49305844e-01,  3.76292579e-02, -1.92835815e-02],\n",
       "       [-1.56760270e-05, -9.72990620e-06, -2.16443259e-05, ...,\n",
       "         5.52216731e-02, -4.70493920e-02, -1.32143982e-02]])"
      ]
     },
     "execution_count": 16,
     "metadata": {},
     "output_type": "execute_result"
    }
   ],
   "source": [
    "array = np.load(\n",
    "    \"input/predict_split/20240706022848_exp042_70m_cnn64_smoothl1beta1_lr2.5e-3_beta0.01_wd0.05/test/000000.npy\",\n",
    "    allow_pickle=True,\n",
    ")\n",
    "print(array.shape)\n",
    "array"
   ]
  },
  {
   "cell_type": "code",
   "execution_count": 18,
   "id": "2b3298f0-0973-4780-9055-90231a11dcd4",
   "metadata": {},
   "outputs": [
    {
     "data": {
      "text/plain": [
       "array([[ 2.70680607e-06, -6.42092200e-05, -8.30491263e-05, ...,\n",
       "         7.09261969e-02,  1.42842159e-01,  1.91618025e-01],\n",
       "       [-1.50063715e-05, -4.95341737e-05, -3.35606201e-05, ...,\n",
       "         2.85222143e-01,  1.78699449e-01,  8.45400915e-02],\n",
       "       [-6.58305044e-06, -7.82479256e-05, -3.24354551e-05, ...,\n",
       "         7.00854436e-02,  1.32392541e-01,  8.05990025e-03],\n",
       "       ...,\n",
       "       [-1.32964215e-06, -2.37605345e-05, -3.21361476e-05, ...,\n",
       "         4.41102773e-01, -7.23679736e-02, -2.53604859e-01],\n",
       "       [-3.12274606e-05, -1.70018011e-05, -3.90337591e-05, ...,\n",
       "        -4.79047447e-01,  5.00441492e-01,  3.25025618e-01],\n",
       "       [-1.55575945e-05, -9.56874283e-06, -2.18745954e-05, ...,\n",
       "        -1.18612550e-01, -4.51425254e-01, -3.14911991e-01]])"
      ]
     },
     "execution_count": 18,
     "metadata": {},
     "output_type": "execute_result"
    }
   ],
   "source": [
    "array = np.load(\"input/predict_split/ex123/test/000000.npy\")\n",
    "array.shape\n",
    "array"
   ]
  },
  {
   "cell_type": "code",
   "execution_count": null,
   "id": "c4f4a60e-bbe2-4ada-99c4-bb68ee410763",
   "metadata": {},
   "outputs": [],
   "source": []
  }
 ],
 "metadata": {
  "kernelspec": {
   "display_name": "Python 3 (ipykernel) (Local)",
   "language": "python",
   "name": "python3"
  },
  "language_info": {
   "codemirror_mode": {
    "name": "ipython",
    "version": 3
   },
   "file_extension": ".py",
   "mimetype": "text/x-python",
   "name": "python",
   "nbconvert_exporter": "python",
   "pygments_lexer": "ipython3",
   "version": "3.10.13"
  }
 },
 "nbformat": 4,
 "nbformat_minor": 5
}
