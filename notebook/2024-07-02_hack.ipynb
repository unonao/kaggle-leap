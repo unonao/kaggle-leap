{
 "cells": [
  {
   "cell_type": "code",
   "execution_count": 6,
   "id": "75f09f97-8f79-40ce-8f24-ae3372bc53e3",
   "metadata": {},
   "outputs": [
    {
     "name": "stdout",
     "output_type": "stream",
     "text": [
      "/kaggle/working\n"
     ]
    }
   ],
   "source": [
    "%cd /kaggle/working\n",
    "import glob\n",
    "\n",
    "import numpy as np\n",
    "import polars as pl"
   ]
  },
  {
   "cell_type": "code",
   "execution_count": 65,
   "id": "771a7cee-0c35-4c4e-a95a-33aeebd4a6a9",
   "metadata": {},
   "outputs": [
    {
     "data": {
      "text/plain": [
       "3504"
      ]
     },
     "execution_count": 65,
     "metadata": {},
     "output_type": "execute_result"
    }
   ],
   "source": [
    "path_list = sorted(glob.glob(\"input/ClimSim_low-res/train/*/*.npy\"))\n",
    "path_like_test = sorted(list(set((path_list[::24] + path_list[::30]))))\n",
    "len(path_like_test)"
   ]
  },
  {
   "cell_type": "code",
   "execution_count": 66,
   "id": "745291d1-c4aa-4b7f-a86e-360259634209",
   "metadata": {},
   "outputs": [],
   "source": [
    "data_arrays = [\n",
    "    np.load(path) for path in path_like_test[:100]\n",
    "]  # Simulating the loaded arrays\n",
    "\n",
    "concatenated_array = np.vstack(data_arrays)\n",
    "\n",
    "# Create a DataFrame using Polars\n",
    "df = pl.DataFrame(concatenated_array)"
   ]
  },
  {
   "cell_type": "code",
   "execution_count": 67,
   "id": "20fe5bec-9a71-4227-85c7-b15b6591aa24",
   "metadata": {},
   "outputs": [
    {
     "data": {
      "text/html": [
       "<div><style>\n",
       ".dataframe > thead > tr,\n",
       ".dataframe > tbody > tr {\n",
       "  text-align: right;\n",
       "  white-space: pre-wrap;\n",
       "}\n",
       "</style>\n",
       "<small>shape: (38_400, 3)</small><table border=\"1\" class=\"dataframe\"><thead><tr><th>index</th><th>location</th><th>time</th></tr><tr><td>u32</td><td>u32</td><td>i32</td></tr></thead><tbody><tr><td>0</td><td>0</td><td>0</td></tr><tr><td>1</td><td>1</td><td>0</td></tr><tr><td>2</td><td>2</td><td>0</td></tr><tr><td>3</td><td>3</td><td>0</td></tr><tr><td>4</td><td>4</td><td>0</td></tr><tr><td>&hellip;</td><td>&hellip;</td><td>&hellip;</td></tr><tr><td>38395</td><td>379</td><td>48</td></tr><tr><td>38396</td><td>380</td><td>48</td></tr><tr><td>38397</td><td>381</td><td>48</td></tr><tr><td>38398</td><td>382</td><td>48</td></tr><tr><td>38399</td><td>383</td><td>48</td></tr></tbody></table></div>"
      ],
      "text/plain": [
       "shape: (38_400, 3)\n",
       "┌───────┬──────────┬──────┐\n",
       "│ index ┆ location ┆ time │\n",
       "│ ---   ┆ ---      ┆ ---  │\n",
       "│ u32   ┆ u32      ┆ i32  │\n",
       "╞═══════╪══════════╪══════╡\n",
       "│ 0     ┆ 0        ┆ 0    │\n",
       "│ 1     ┆ 1        ┆ 0    │\n",
       "│ 2     ┆ 2        ┆ 0    │\n",
       "│ 3     ┆ 3        ┆ 0    │\n",
       "│ 4     ┆ 4        ┆ 0    │\n",
       "│ …     ┆ …        ┆ …    │\n",
       "│ 38395 ┆ 379      ┆ 48   │\n",
       "│ 38396 ┆ 380      ┆ 48   │\n",
       "│ 38397 ┆ 381      ┆ 48   │\n",
       "│ 38398 ┆ 382      ┆ 48   │\n",
       "│ 38399 ┆ 383      ┆ 48   │\n",
       "└───────┴──────────┴──────┘"
      ]
     },
     "execution_count": 67,
     "metadata": {},
     "output_type": "execute_result"
    }
   ],
   "source": [
    "\"\"\"\n",
    "以下のように8個ごとに1周期\n",
    "[0,24,30,48,60,72,90,96],[120,...]\n",
    "\"\"\"\n",
    "\n",
    "df_time = (\n",
    "    df[:, :1]\n",
    "    .with_row_index()\n",
    "    .with_columns(\n",
    "        [\n",
    "            (pl.col(\"index\") % 384).alias(\"location\"),\n",
    "            ((pl.col(\"index\") // 384) % 8).alias(\"time_mod\"),\n",
    "        ]\n",
    "    )\n",
    "    .with_columns(\n",
    "        pl.when(pl.col(\"time_mod\") == 0)\n",
    "        .then(0)\n",
    "        .when(pl.col(\"time_mod\") == 1)\n",
    "        .then(24)\n",
    "        .when(pl.col(\"time_mod\") == 2)\n",
    "        .then(30)\n",
    "        .when(pl.col(\"time_mod\") == 3)\n",
    "        .then(48)\n",
    "        .when(pl.col(\"time_mod\") == 4)\n",
    "        .then(60)\n",
    "        .when(pl.col(\"time_mod\") == 5)\n",
    "        .then(72)\n",
    "        .when(pl.col(\"time_mod\") == 6)\n",
    "        .then(90)\n",
    "        .otherwise(96)\n",
    "        .alias(\"time\")\n",
    "    )\n",
    ").drop([\"column_0\", \"time_mod\"])\n",
    "\n",
    "df_time"
   ]
  },
  {
   "cell_type": "code",
   "execution_count": 87,
   "id": "07d87aee-25f1-48ad-9078-4de8d5764f3a",
   "metadata": {},
   "outputs": [
    {
     "data": {
      "application/vnd.jupyter.widget-view+json": {
       "model_id": "683315ab08154319bee7686ef7b29f41",
       "version_major": 2,
       "version_minor": 0
      },
      "text/plain": [
       "  0%|          | 0/384 [00:00<?, ?it/s]"
      ]
     },
     "metadata": {},
     "output_type": "display_data"
    }
   ],
   "source": [
    "import pickle\n",
    "from pathlib import Path\n",
    "\n",
    "import torch\n",
    "from torch.nn.functional import normalize\n",
    "from torch.utils.data import DataLoader, TensorDataset\n",
    "from tqdm.notebook import tqdm\n",
    "\n",
    "\n",
    "def compute_cosine_similarity(tensor1, tensor2):\n",
    "    return torch.mm(tensor1, tensor2.t())\n",
    "\n",
    "\n",
    "def get_top_k_similar_rows(matrix, k=5, chunk_size=1000, device=\"cpu\"):\n",
    "    matrix = matrix.to(device)\n",
    "    normalized_matrix = normalize(matrix, p=2, dim=1)\n",
    "\n",
    "    top_k_indices = torch.empty((matrix.size(0), k), dtype=torch.long, device=\"cpu\")\n",
    "\n",
    "    dataset = TensorDataset(normalized_matrix)\n",
    "    dataloader = DataLoader(dataset, batch_size=chunk_size)\n",
    "\n",
    "    for ci, chunk in enumerate(tqdm(dataloader)):\n",
    "        chunk_tensor = chunk[0]\n",
    "        chunk_size_actual = chunk_tensor.size(0)\n",
    "\n",
    "        cosine_similarities = compute_cosine_similarity(\n",
    "            chunk_tensor, normalized_matrix\n",
    "        ).to(device)\n",
    "\n",
    "        top_k = torch.topk(\n",
    "            cosine_similarities, k + 1, dim=1\n",
    "        )  # k+1 because the most similar row will be itself\n",
    "        top_k_indices[ci * chunk_size : ci * chunk_size + chunk_size_actual] = (\n",
    "            top_k.indices[:, 1:].cpu()\n",
    "        )  # Exclude the first one which is itself\n",
    "\n",
    "    return top_k_indices\n",
    "\n",
    "\n",
    "# Sample data\n",
    "data = torch.tensor(concatenated_array[:, :556])\n",
    "\n",
    "# scale\n",
    "scale_dir = \"output/preprocess/normalize_009_rate_feat/bolton\"\n",
    "feat_mean_dict = pickle.load(\n",
    "    open(\n",
    "        Path(scale_dir) / \"x_mean_feat_dict.pkl\",\n",
    "        \"rb\",\n",
    "    )\n",
    ")\n",
    "feat_std_dict = pickle.load(\n",
    "    open(\n",
    "        Path(scale_dir) / \"x_std_feat_dict.pkl\",\n",
    "        \"rb\",\n",
    "    )\n",
    ")\n",
    "\n",
    "data = (data - feat_mean_dict[\"base\"]) / (feat_std_dict[\"base\"] + 1e-60)\n",
    "\n",
    "\n",
    "k = 5\n",
    "chunk_size = 100\n",
    "\n",
    "# Use CPU or GPU\n",
    "device = \"cpu\"  # \"cuda\" if torch.cuda.is_available() else \"cpu\"\n",
    "\n",
    "top_k_similar_rows = get_top_k_similar_rows(\n",
    "    data, k=k, chunk_size=chunk_size, device=device\n",
    ")"
   ]
  },
  {
   "cell_type": "code",
   "execution_count": 88,
   "id": "b8946eff-7022-42f6-8223-26d61aa77641",
   "metadata": {},
   "outputs": [
    {
     "data": {
      "text/plain": [
       "tensor([[ 9216, 11200,  1920, 19981, 12352],\n",
       "        [12676, 16516, 20032, 13060, 21953],\n",
       "        [ 1922,  9218,  3458,   207,  1538],\n",
       "        ...,\n",
       "        [38013, 33021, 32637, 26109, 27261],\n",
       "        [38014, 31102, 36093, 21886, 37630],\n",
       "        [38015, 25727, 26111, 30719, 26878]])"
      ]
     },
     "execution_count": 88,
     "metadata": {},
     "output_type": "execute_result"
    }
   ],
   "source": [
    "top_k_similar_rows"
   ]
  },
  {
   "cell_type": "code",
   "execution_count": 89,
   "id": "30fc2fad-2e0d-4b64-a8ff-4748e7be8212",
   "metadata": {},
   "outputs": [],
   "source": [
    "df_similar = df_time.with_columns(\n",
    "    pl.Series(\"similar\", values=top_k_similar_rows.numpy())\n",
    ").with_columns(\n",
    "    pl.col(\"similar\").list.contains(pl.col(\"index\") + 384).alias(\"is_in_next\")\n",
    ")"
   ]
  },
  {
   "cell_type": "code",
   "execution_count": 90,
   "id": "5d78e4b9-9518-44a7-861d-ac15f93c2e83",
   "metadata": {},
   "outputs": [
    {
     "data": {
      "text/plain": [
       "3718"
      ]
     },
     "execution_count": 90,
     "metadata": {},
     "output_type": "execute_result"
    }
   ],
   "source": [
    "df_similar.filter(pl.col(\"time\") == 48)[\"is_in_next\"].sum()"
   ]
  },
  {
   "cell_type": "code",
   "execution_count": 91,
   "id": "5f1ca63e-a59b-4fdd-bfb3-101d6f197f37",
   "metadata": {},
   "outputs": [
    {
     "data": {
      "text/html": [
       "<div><style>\n",
       ".dataframe > thead > tr,\n",
       ".dataframe > tbody > tr {\n",
       "  text-align: right;\n",
       "  white-space: pre-wrap;\n",
       "}\n",
       "</style>\n",
       "<small>shape: (4_992, 5)</small><table border=\"1\" class=\"dataframe\"><thead><tr><th>index</th><th>location</th><th>time</th><th>similar</th><th>is_in_next</th></tr><tr><td>u32</td><td>u32</td><td>i32</td><td>list[i64]</td><td>bool</td></tr></thead><tbody><tr><td>1152</td><td>0</td><td>48</td><td>[3073, 10368, … 1357]</td><td>true</td></tr><tr><td>1153</td><td>1</td><td>48</td><td>[3076, 10369, … 20808]</td><td>false</td></tr><tr><td>1154</td><td>2</td><td>48</td><td>[3074, 1538, … 27779]</td><td>true</td></tr><tr><td>1155</td><td>3</td><td>48</td><td>[16967, 1539, … 24966]</td><td>true</td></tr><tr><td>1156</td><td>4</td><td>48</td><td>[10372, 2693, … 20809]</td><td>false</td></tr><tr><td>&hellip;</td><td>&hellip;</td><td>&hellip;</td><td>&hellip;</td><td>&hellip;</td></tr><tr><td>38395</td><td>379</td><td>48</td><td>[38011, 37627, … 32250]</td><td>false</td></tr><tr><td>38396</td><td>380</td><td>48</td><td>[38012, 37244, … 36860]</td><td>false</td></tr><tr><td>38397</td><td>381</td><td>48</td><td>[38013, 33021, … 27261]</td><td>false</td></tr><tr><td>38398</td><td>382</td><td>48</td><td>[38014, 31102, … 37630]</td><td>false</td></tr><tr><td>38399</td><td>383</td><td>48</td><td>[38015, 25727, … 26878]</td><td>false</td></tr></tbody></table></div>"
      ],
      "text/plain": [
       "shape: (4_992, 5)\n",
       "┌───────┬──────────┬──────┬─────────────────────────┬────────────┐\n",
       "│ index ┆ location ┆ time ┆ similar                 ┆ is_in_next │\n",
       "│ ---   ┆ ---      ┆ ---  ┆ ---                     ┆ ---        │\n",
       "│ u32   ┆ u32      ┆ i32  ┆ list[i64]               ┆ bool       │\n",
       "╞═══════╪══════════╪══════╪═════════════════════════╪════════════╡\n",
       "│ 1152  ┆ 0        ┆ 48   ┆ [3073, 10368, … 1357]   ┆ true       │\n",
       "│ 1153  ┆ 1        ┆ 48   ┆ [3076, 10369, … 20808]  ┆ false      │\n",
       "│ 1154  ┆ 2        ┆ 48   ┆ [3074, 1538, … 27779]   ┆ true       │\n",
       "│ 1155  ┆ 3        ┆ 48   ┆ [16967, 1539, … 24966]  ┆ true       │\n",
       "│ 1156  ┆ 4        ┆ 48   ┆ [10372, 2693, … 20809]  ┆ false      │\n",
       "│ …     ┆ …        ┆ …    ┆ …                       ┆ …          │\n",
       "│ 38395 ┆ 379      ┆ 48   ┆ [38011, 37627, … 32250] ┆ false      │\n",
       "│ 38396 ┆ 380      ┆ 48   ┆ [38012, 37244, … 36860] ┆ false      │\n",
       "│ 38397 ┆ 381      ┆ 48   ┆ [38013, 33021, … 27261] ┆ false      │\n",
       "│ 38398 ┆ 382      ┆ 48   ┆ [38014, 31102, … 37630] ┆ false      │\n",
       "│ 38399 ┆ 383      ┆ 48   ┆ [38015, 25727, … 26878] ┆ false      │\n",
       "└───────┴──────────┴──────┴─────────────────────────┴────────────┘"
      ]
     },
     "execution_count": 91,
     "metadata": {},
     "output_type": "execute_result"
    }
   ],
   "source": [
    "df_similar.filter(pl.col(\"time\") == 48)"
   ]
  },
  {
   "cell_type": "code",
   "execution_count": null,
   "id": "271aaae7-dc9f-4f8a-9d54-4547e7d8091f",
   "metadata": {},
   "outputs": [],
   "source": []
  }
 ],
 "metadata": {
  "kernelspec": {
   "display_name": "Python 3 (ipykernel) (Local)",
   "language": "python",
   "name": "python3"
  },
  "language_info": {
   "codemirror_mode": {
    "name": "ipython",
    "version": 3
   },
   "file_extension": ".py",
   "mimetype": "text/x-python",
   "name": "python",
   "nbconvert_exporter": "python",
   "pygments_lexer": "ipython3",
   "version": "3.10.13"
  }
 },
 "nbformat": 4,
 "nbformat_minor": 5
}
