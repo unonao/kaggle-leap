{
 "cells": [
  {
   "cell_type": "code",
   "execution_count": 1,
   "id": "ef4e05b5-00c1-44bd-91e8-bddd2cf166e2",
   "metadata": {},
   "outputs": [
    {
     "name": "stdout",
     "output_type": "stream",
     "text": [
      "/kaggle/working\n"
     ]
    }
   ],
   "source": [
    "%cd /kaggle/working\n",
    "\n",
    "import os\n",
    "\n",
    "from hydra import compose, initialize\n",
    "from omegaconf import OmegaConf\n",
    "\n",
    "with initialize(version_base=None, config_path=\"../experiments/032_feature_channel\"):\n",
    "    cfg = compose(\n",
    "        config_name=\"config.yaml\", overrides=[\"debug=True\"], return_hydra_config=True\n",
    "    )"
   ]
  },
  {
   "cell_type": "code",
   "execution_count": 2,
   "id": "202b8ca1-ed62-4687-ae9e-20a300dc82ea",
   "metadata": {},
   "outputs": [],
   "source": [
    "import gc\n",
    "import glob\n",
    "import json\n",
    "import math\n",
    "import os\n",
    "import pickle\n",
    "import random\n",
    "import shutil\n",
    "import sys\n",
    "import time\n",
    "from pathlib import Path\n",
    "\n",
    "import hydra\n",
    "import numpy as np\n",
    "import pandas as pd\n",
    "import polars as pl\n",
    "import torch\n",
    "import torch.nn as nn\n",
    "import torch.nn.functional as F\n",
    "import webdataset as wds\n",
    "from google.cloud import storage\n",
    "from hydra.core.hydra_config import HydraConfig\n",
    "from omegaconf import DictConfig, OmegaConf\n",
    "from pytorch_lightning import (\n",
    "    LightningDataModule,\n",
    "    LightningModule,\n",
    "    Trainer,\n",
    "    seed_everything,\n",
    ")\n",
    "from pytorch_lightning.callbacks import (\n",
    "    EarlyStopping,\n",
    "    LearningRateMonitor,\n",
    "    ModelCheckpoint,\n",
    "    RichModelSummary,\n",
    "    RichProgressBar,\n",
    ")\n",
    "from pytorch_lightning.loggers import WandbLogger\n",
    "from sklearn.metrics import r2_score\n",
    "from timm.utils import ModelEmaV2\n",
    "from torch import nn\n",
    "from torch.utils.data import DataLoader, Dataset\n",
    "from tqdm import tqdm\n",
    "from transformers import get_cosine_schedule_with_warmup\n",
    "\n",
    "import utils\n",
    "import wandb\n",
    "from utils.metric import score"
   ]
  },
  {
   "cell_type": "code",
   "execution_count": 3,
   "id": "f49dc9ff-24d5-4812-8e52-826b50f5bf6b",
   "metadata": {},
   "outputs": [
    {
     "name": "stdout",
     "output_type": "stream",
     "text": [
      "exp_name: notebook/base\n",
      "ouput_path: /kaggle/working/output/notebook/base\n"
     ]
    }
   ],
   "source": [
    "from pathlib import Path\n",
    "\n",
    "import torch\n",
    "import webdataset as wds\n",
    "from google.cloud import storage\n",
    "from pytorch_lightning import (\n",
    "    LightningDataModule,\n",
    "    LightningModule,\n",
    "    Trainer,\n",
    "    seed_everything,\n",
    ")\n",
    "from pytorch_lightning.loggers import WandbLogger\n",
    "\n",
    "runtime_choices = cfg.hydra.runtime.choices\n",
    "exp_name = f\"notebook/{runtime_choices.exp}\"\n",
    "print(f\"exp_name: {exp_name}\")\n",
    "output_path = Path(cfg.dir.output_dir) / exp_name\n",
    "print(f\"ouput_path: {output_path}\")\n",
    "os.makedirs(output_path, exist_ok=True)"
   ]
  },
  {
   "cell_type": "code",
   "execution_count": 8,
   "id": "e94d15b0-c6b4-4f25-8a5e-11da8471cc14",
   "metadata": {},
   "outputs": [],
   "source": [
    "y_nanmin = np.load(Path(cfg.exp.scale_dir) / f\"y_nanmin_{cfg.exp.norm_name}.npy\")\n",
    "y_nanmax = np.load(Path(cfg.exp.scale_dir) / f\"y_nanmax_{cfg.exp.norm_name}.npy\")"
   ]
  },
  {
   "cell_type": "code",
   "execution_count": 4,
   "id": "845918f8-4da8-43f4-9362-a9b653833f68",
   "metadata": {},
   "outputs": [],
   "source": [
    "original_predict_df = pl.read_parquet(\n",
    "    \"output/experiments/032_feature_channel/feat_channel8_all/predict.parquet\"\n",
    ")\n",
    "original_label_df = pl.read_parquet(\n",
    "    \"output/experiments/032_feature_channel/feat_channel8_all/label.parquet\"\n",
    ")"
   ]
  },
  {
   "cell_type": "code",
   "execution_count": 7,
   "id": "0ee0decb-0c81-469e-89b4-bd8ea4ad22c0",
   "metadata": {},
   "outputs": [
    {
     "data": {
      "text/html": [
       "<div><style>\n",
       ".dataframe > thead > tr,\n",
       ".dataframe > tbody > tr {\n",
       "  text-align: right;\n",
       "  white-space: pre-wrap;\n",
       "}\n",
       "</style>\n",
       "<small>shape: (5, 369)</small><table border=\"1\" class=\"dataframe\"><thead><tr><th>index</th><th>0</th><th>1</th><th>2</th><th>3</th><th>4</th><th>5</th><th>6</th><th>7</th><th>8</th><th>9</th><th>10</th><th>11</th><th>12</th><th>13</th><th>14</th><th>15</th><th>16</th><th>17</th><th>18</th><th>19</th><th>20</th><th>21</th><th>22</th><th>23</th><th>24</th><th>25</th><th>26</th><th>27</th><th>28</th><th>29</th><th>30</th><th>31</th><th>32</th><th>33</th><th>34</th><th>35</th><th>&hellip;</th><th>331</th><th>332</th><th>333</th><th>334</th><th>335</th><th>336</th><th>337</th><th>338</th><th>339</th><th>340</th><th>341</th><th>342</th><th>343</th><th>344</th><th>345</th><th>346</th><th>347</th><th>348</th><th>349</th><th>350</th><th>351</th><th>352</th><th>353</th><th>354</th><th>355</th><th>356</th><th>357</th><th>358</th><th>359</th><th>360</th><th>361</th><th>362</th><th>363</th><th>364</th><th>365</th><th>366</th><th>367</th></tr><tr><td>i64</td><td>f64</td><td>f64</td><td>f64</td><td>f64</td><td>f64</td><td>f64</td><td>f64</td><td>f64</td><td>f64</td><td>f64</td><td>f64</td><td>f64</td><td>f64</td><td>f64</td><td>f64</td><td>f64</td><td>f64</td><td>f64</td><td>f64</td><td>f64</td><td>f64</td><td>f64</td><td>f64</td><td>f64</td><td>f64</td><td>f64</td><td>f64</td><td>f64</td><td>f64</td><td>f64</td><td>f64</td><td>f64</td><td>f64</td><td>f64</td><td>f64</td><td>f64</td><td>&hellip;</td><td>f64</td><td>f64</td><td>f64</td><td>f64</td><td>f64</td><td>f64</td><td>f64</td><td>f64</td><td>f64</td><td>f64</td><td>f64</td><td>f64</td><td>f64</td><td>f64</td><td>f64</td><td>f64</td><td>f64</td><td>f64</td><td>f64</td><td>f64</td><td>f64</td><td>f64</td><td>f64</td><td>f64</td><td>f64</td><td>f64</td><td>f64</td><td>f64</td><td>f64</td><td>f64</td><td>f64</td><td>f64</td><td>f64</td><td>f64</td><td>f64</td><td>f64</td><td>f64</td></tr></thead><tbody><tr><td>0</td><td>-0.000024</td><td>0.000006</td><td>-0.000024</td><td>-0.000066</td><td>-0.000138</td><td>-0.000156</td><td>-0.000131</td><td>-0.000084</td><td>-0.000014</td><td>-0.000013</td><td>-0.000023</td><td>-0.000017</td><td>-0.000012</td><td>-0.000007</td><td>-0.000001</td><td>0.000005</td><td>0.000006</td><td>0.000003</td><td>0.000005</td><td>-0.000002</td><td>-0.000001</td><td>-0.000003</td><td>-0.000006</td><td>-0.00001</td><td>-0.000015</td><td>-0.00002</td><td>-0.000022</td><td>-0.000023</td><td>-0.000026</td><td>-0.000029</td><td>-0.000031</td><td>-0.000031</td><td>-0.000031</td><td>-0.000031</td><td>-0.000035</td><td>-0.000037</td><td>&hellip;</td><td>-1.5800e-8</td><td>7.8989e-9</td><td>2.3172e-7</td><td>3.2259e-7</td><td>2.3013e-7</td><td>-2.8454e-8</td><td>-2.1914e-7</td><td>-1.1814e-7</td><td>1.7581e-8</td><td>-3.4172e-8</td><td>-3.7411e-8</td><td>5.4711e-9</td><td>7.8780e-8</td><td>1.4250e-7</td><td>1.8799e-8</td><td>-3.9390e-8</td><td>-9.6683e-10</td><td>-4.3317e-8</td><td>5.2699e-8</td><td>3.9509e-7</td><td>1.3605e-7</td><td>-3.9763e-7</td><td>-0.000003</td><td>-0.000001</td><td>0.000006</td><td>0.000002</td><td>9.1121e-7</td><td>0.000002</td><td>-0.000004</td><td>7.360213</td><td>360.299924</td><td>-2.7235e-11</td><td>2.1936e-9</td><td>2.774152</td><td>3.827803</td><td>2.369912</td><td>0.308807</td></tr><tr><td>1</td><td>-0.000023</td><td>-0.000004</td><td>-0.000028</td><td>-0.000066</td><td>-0.000145</td><td>-0.000168</td><td>-0.000145</td><td>-0.000089</td><td>-0.000027</td><td>-0.000029</td><td>-0.000026</td><td>-0.000019</td><td>-0.000014</td><td>-0.00001</td><td>-0.000004</td><td>0.000002</td><td>0.000004</td><td>0.000002</td><td>5.6536e-7</td><td>-8.6779e-7</td><td>-0.000002</td><td>-0.000004</td><td>-0.000006</td><td>-0.000008</td><td>-0.00001</td><td>-0.000013</td><td>-0.000017</td><td>-0.000021</td><td>-0.000023</td><td>-0.000023</td><td>-0.000023</td><td>-0.000023</td><td>-0.000022</td><td>-0.000022</td><td>-0.000022</td><td>-0.000023</td><td>&hellip;</td><td>-6.1851e-8</td><td>1.1476e-7</td><td>2.1667e-7</td><td>1.9669e-7</td><td>1.1518e-7</td><td>7.5334e-9</td><td>-6.5906e-8</td><td>-5.2912e-8</td><td>-5.2241e-8</td><td>4.5929e-9</td><td>6.8246e-8</td><td>9.2768e-8</td><td>1.4415e-7</td><td>2.1780e-7</td><td>3.0475e-7</td><td>-3.1541e-7</td><td>-0.000001</td><td>0.000003</td><td>0.000001</td><td>-0.000002</td><td>-0.000002</td><td>-0.000008</td><td>0.000008</td><td>0.000011</td><td>0.000003</td><td>-6.2773e-7</td><td>-0.000002</td><td>-0.000004</td><td>-0.000002</td><td>5.603783</td><td>349.41941</td><td>1.7211e-10</td><td>4.7040e-9</td><td>0.899215</td><td>1.578063</td><td>2.103345</td><td>0.723451</td></tr><tr><td>2</td><td>-0.000024</td><td>-0.000011</td><td>-0.000029</td><td>-0.00008</td><td>-0.000086</td><td>-0.000128</td><td>-0.000121</td><td>-0.000077</td><td>-0.000043</td><td>-0.000036</td><td>-0.000023</td><td>-0.000016</td><td>-0.000009</td><td>-0.000004</td><td>-1.9135e-7</td><td>0.000004</td><td>0.000007</td><td>0.000005</td><td>0.000003</td><td>-0.000004</td><td>0.000001</td><td>-0.000002</td><td>-0.000008</td><td>-0.000015</td><td>-0.00002</td><td>-0.000023</td><td>-0.000023</td><td>-0.000022</td><td>-0.000024</td><td>-0.000027</td><td>-0.000029</td><td>-0.00003</td><td>-0.000031</td><td>-0.00003</td><td>-0.000031</td><td>-0.000029</td><td>&hellip;</td><td>-0.000004</td><td>2.4627e-7</td><td>-3.4908e-7</td><td>9.8269e-7</td><td>0.000001</td><td>5.9233e-7</td><td>-8.6126e-9</td><td>-5.5347e-8</td><td>-2.3163e-7</td><td>7.8644e-7</td><td>7.0181e-8</td><td>-2.8564e-8</td><td>2.4054e-8</td><td>5.4240e-8</td><td>-8.3176e-7</td><td>-1.7457e-7</td><td>-3.0584e-7</td><td>-6.9517e-7</td><td>8.4339e-7</td><td>0.000004</td><td>0.000005</td><td>0.000002</td><td>-0.000009</td><td>-0.000011</td><td>-0.000008</td><td>-0.000004</td><td>-0.000003</td><td>-0.000005</td><td>0.000028</td><td>3.300371</td><td>390.183003</td><td>-1.6593e-10</td><td>1.0470e-9</td><td>1.320491</td><td>2.032147</td><td>1.535427</td><td>-0.023273</td></tr><tr><td>3</td><td>-0.000022</td><td>-0.000011</td><td>-0.000037</td><td>-0.000067</td><td>-0.000087</td><td>-0.000128</td><td>-0.000121</td><td>-0.000086</td><td>-0.000049</td><td>-0.000034</td><td>-0.000022</td><td>-0.000015</td><td>-0.000009</td><td>-0.000004</td><td>-5.5180e-7</td><td>0.000003</td><td>0.000006</td><td>0.000004</td><td>0.000005</td><td>-0.000004</td><td>-2.0784e-7</td><td>-0.000004</td><td>-0.000011</td><td>-0.00002</td><td>-0.000026</td><td>-0.000026</td><td>-0.000021</td><td>-0.000021</td><td>-0.000022</td><td>-0.000031</td><td>-0.000037</td><td>-0.000036</td><td>-0.00004</td><td>-0.000046</td><td>-0.000054</td><td>-0.000048</td><td>&hellip;</td><td>-9.6770e-7</td><td>-0.000001</td><td>9.5271e-7</td><td>0.000001</td><td>8.7996e-7</td><td>3.3864e-7</td><td>1.4778e-7</td><td>4.4191e-7</td><td>1.0633e-7</td><td>7.2246e-8</td><td>5.9444e-8</td><td>6.1416e-8</td><td>-1.5952e-7</td><td>0.000002</td><td>0.000002</td><td>0.000001</td><td>0.000003</td><td>0.000003</td><td>0.000003</td><td>0.000003</td><td>0.000004</td><td>0.000002</td><td>0.000012</td><td>0.00002</td><td>-0.000005</td><td>-0.000017</td><td>-0.000019</td><td>-0.000012</td><td>-3.3626e-7</td><td>7.220975</td><td>409.877917</td><td>9.8682e-12</td><td>2.3487e-8</td><td>2.89939</td><td>3.57058</td><td>2.062725</td><td>0.415758</td></tr><tr><td>4</td><td>-0.000025</td><td>-0.000009</td><td>-0.000028</td><td>-0.000067</td><td>-0.000139</td><td>-0.000161</td><td>-0.000143</td><td>-0.000089</td><td>-0.000054</td><td>-0.000042</td><td>-0.000027</td><td>-0.000019</td><td>-0.000015</td><td>-0.000011</td><td>-0.000006</td><td>-6.2925e-7</td><td>0.000002</td><td>0.000002</td><td>-0.000002</td><td>-4.7384e-7</td><td>-0.000003</td><td>-0.000007</td><td>-0.000009</td><td>-0.000009</td><td>-0.00001</td><td>-0.000012</td><td>-0.000016</td><td>-0.00002</td><td>-0.000021</td><td>-0.000022</td><td>-0.000023</td><td>-0.000024</td><td>-0.000024</td><td>-0.000027</td><td>-0.000031</td><td>-0.000035</td><td>&hellip;</td><td>1.7575e-7</td><td>1.3374e-7</td><td>-2.8389e-8</td><td>-5.8382e-8</td><td>-1.0092e-7</td><td>3.3191e-8</td><td>2.9620e-8</td><td>-2.2144e-8</td><td>-1.7876e-7</td><td>-1.8520e-7</td><td>2.1048e-7</td><td>4.7217e-7</td><td>6.5733e-7</td><td>0.000001</td><td>0.000004</td><td>0.000012</td><td>0.000014</td><td>0.000002</td><td>-0.000003</td><td>-0.000003</td><td>-0.000002</td><td>-0.000004</td><td>-0.000003</td><td>-0.000013</td><td>-0.000029</td><td>-0.000019</td><td>0.00001</td><td>0.000009</td><td>0.000008</td><td>3.397403</td><td>358.417181</td><td>2.3334e-10</td><td>6.0147e-9</td><td>1.006747</td><td>1.652256</td><td>1.195551</td><td>0.418125</td></tr></tbody></table></div>"
      ],
      "text/plain": [
       "shape: (5, 369)\n",
       "┌───────┬───────────┬───────────┬───────────┬───┬──────────┬──────────┬──────────┬───────────┐\n",
       "│ index ┆ 0         ┆ 1         ┆ 2         ┆ … ┆ 364      ┆ 365      ┆ 366      ┆ 367       │\n",
       "│ ---   ┆ ---       ┆ ---       ┆ ---       ┆   ┆ ---      ┆ ---      ┆ ---      ┆ ---       │\n",
       "│ i64   ┆ f64       ┆ f64       ┆ f64       ┆   ┆ f64      ┆ f64      ┆ f64      ┆ f64       │\n",
       "╞═══════╪═══════════╪═══════════╪═══════════╪═══╪══════════╪══════════╪══════════╪═══════════╡\n",
       "│ 0     ┆ -0.000024 ┆ 0.000006  ┆ -0.000024 ┆ … ┆ 2.774152 ┆ 3.827803 ┆ 2.369912 ┆ 0.308807  │\n",
       "│ 1     ┆ -0.000023 ┆ -0.000004 ┆ -0.000028 ┆ … ┆ 0.899215 ┆ 1.578063 ┆ 2.103345 ┆ 0.723451  │\n",
       "│ 2     ┆ -0.000024 ┆ -0.000011 ┆ -0.000029 ┆ … ┆ 1.320491 ┆ 2.032147 ┆ 1.535427 ┆ -0.023273 │\n",
       "│ 3     ┆ -0.000022 ┆ -0.000011 ┆ -0.000037 ┆ … ┆ 2.89939  ┆ 3.57058  ┆ 2.062725 ┆ 0.415758  │\n",
       "│ 4     ┆ -0.000025 ┆ -0.000009 ┆ -0.000028 ┆ … ┆ 1.006747 ┆ 1.652256 ┆ 1.195551 ┆ 0.418125  │\n",
       "└───────┴───────────┴───────────┴───────────┴───┴──────────┴──────────┴──────────┴───────────┘"
      ]
     },
     "execution_count": 7,
     "metadata": {},
     "output_type": "execute_result"
    }
   ],
   "source": [
    "original_predict_df.head()"
   ]
  },
  {
   "cell_type": "code",
   "execution_count": 5,
   "id": "914a2e26-af98-40cc-82fc-86dd006c595f",
   "metadata": {},
   "outputs": [],
   "source": [
    "# weight (weight zero もあるのでかけておく)\n",
    "ss_df = pl.read_csv(\n",
    "    \"input/leap-atmospheric-physics-ai-climsim/sample_submission.csv\", n_rows=1\n",
    ")\n",
    "weight_array = ss_df.select([x for x in ss_df.columns if x != \"sample_id\"]).to_numpy()[\n",
    "    0\n",
    "]"
   ]
  },
  {
   "cell_type": "code",
   "execution_count": 12,
   "id": "d14abd08-1ced-4f79-b765-bb6f321462ff",
   "metadata": {},
   "outputs": [],
   "source": [
    "labels = original_label_df[:, 1:].to_numpy()\n",
    "preds = original_predict_df[:, 1:].to_numpy()\n",
    "preds = np.clip(preds, y_nanmin, y_nanmax)"
   ]
  },
  {
   "cell_type": "code",
   "execution_count": 14,
   "id": "7918cc44-af55-4c18-b1c0-67ca830ee022",
   "metadata": {},
   "outputs": [],
   "source": [
    "predict_df = pd.DataFrame(\n",
    "    preds * weight_array, columns=[i for i in range(preds.shape[1])]\n",
    ").reset_index()"
   ]
  },
  {
   "cell_type": "code",
   "execution_count": 15,
   "id": "7fac1bcf-cc3a-4543-bec4-99dc000b3532",
   "metadata": {},
   "outputs": [],
   "source": [
    "label_df = pd.DataFrame(\n",
    "    labels * weight_array, columns=[i for i in range(labels.shape[1])]\n",
    ").reset_index()"
   ]
  },
  {
   "cell_type": "code",
   "execution_count": 16,
   "id": "5ca6298d-73b8-418b-a619-dc005df12d1f",
   "metadata": {},
   "outputs": [
    {
     "data": {
      "text/plain": [
       "1121"
      ]
     },
     "execution_count": 16,
     "metadata": {},
     "output_type": "execute_result"
    }
   ],
   "source": [
    "del preds, labels\n",
    "gc.collect()"
   ]
  },
  {
   "cell_type": "code",
   "execution_count": 17,
   "id": "711661ec-b1ab-44aa-adc1-3de9b7158436",
   "metadata": {},
   "outputs": [
    {
     "name": "stdout",
     "output_type": "stream",
     "text": [
      "r2_score=0.7335064214929286\n"
     ]
    }
   ],
   "source": [
    "r2_scores = score(label_df, predict_df, \"index\", multioutput=\"raw_values\")\n",
    "r2_score_dict = {\n",
    "    col: r2 for col, r2 in dict(zip(cfg.cols.col_names, r2_scores)).items()\n",
    "}\n",
    "\n",
    "r2_score_dict = {\n",
    "    col: r2 if col not in cfg.exp.fill_target else 1.0\n",
    "    for col, r2 in r2_score_dict.items()\n",
    "}\n",
    "\n",
    "r2_score = float(np.array([v for v in r2_score_dict.values()]).mean())\n",
    "print(f\"{r2_score=}\")"
   ]
  },
  {
   "cell_type": "code",
   "execution_count": null,
   "id": "58645fbc-f9aa-4137-b6d7-d249e503c8d8",
   "metadata": {},
   "outputs": [],
   "source": []
  }
 ],
 "metadata": {
  "kernelspec": {
   "display_name": "Python 3 (ipykernel) (Local)",
   "language": "python",
   "name": "python3"
  },
  "language_info": {
   "codemirror_mode": {
    "name": "ipython",
    "version": 3
   },
   "file_extension": ".py",
   "mimetype": "text/x-python",
   "name": "python",
   "nbconvert_exporter": "python",
   "pygments_lexer": "ipython3",
   "version": "3.10.13"
  }
 },
 "nbformat": 4,
 "nbformat_minor": 5
}
