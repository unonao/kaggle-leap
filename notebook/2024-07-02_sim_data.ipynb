{
 "cells": [
  {
   "cell_type": "code",
   "execution_count": 1,
   "id": "75f09f97-8f79-40ce-8f24-ae3372bc53e3",
   "metadata": {},
   "outputs": [
    {
     "name": "stdout",
     "output_type": "stream",
     "text": [
      "/kaggle/working\n"
     ]
    }
   ],
   "source": [
    "%cd /kaggle/working\n",
    "import json\n",
    "import os\n",
    "import pickle\n",
    "import shutil\n",
    "import sys\n",
    "import time\n",
    "from glob import glob\n",
    "from pathlib import Path\n",
    "from typing import Literal\n",
    "\n",
    "import hydra\n",
    "import numpy as np\n",
    "import polars as pl\n",
    "import torch\n",
    "from hydra.core.hydra_config import HydraConfig\n",
    "from omegaconf import DictConfig, OmegaConf\n",
    "from torch.nn.functional import normalize\n",
    "from torch.utils.data import DataLoader, TensorDataset\n",
    "from tqdm.auto import tqdm\n",
    "from tqdm.notebook import tqdm"
   ]
  },
  {
   "cell_type": "code",
   "execution_count": 3,
   "id": "f54ded41-f7d8-48ec-8bc1-1c1f67257fb5",
   "metadata": {},
   "outputs": [
    {
     "name": "stdout",
     "output_type": "stream",
     "text": [
      "seed: 7\n",
      "year_index:\n",
      "- 3\n",
      "start_index:\n",
      "- 0\n",
      "topk: 5\n",
      "chunk_size: 100\n",
      "data_dir: input/ClimSim_low-res\n",
      "output_dir: input/sim_data\n",
      "scale_dir: output/preprocess/normalize_009_rate_feat/bolton\n",
      "\n"
     ]
    }
   ],
   "source": [
    "import os\n",
    "\n",
    "from hydra import compose, initialize\n",
    "from omegaconf import OmegaConf\n",
    "\n",
    "with initialize(version_base=None, config_path=\"../preprocess/make_sim_data\"):\n",
    "    cfg = compose(\n",
    "        config_name=\"config.yaml\",\n",
    "        overrides=[\"exp=base\", \"debug=True\"],\n",
    "        return_hydra_config=True,\n",
    "    )\n",
    "    print(OmegaConf.to_yaml(cfg.exp))"
   ]
  },
  {
   "cell_type": "code",
   "execution_count": 46,
   "id": "771a7cee-0c35-4c4e-a95a-33aeebd4a6a9",
   "metadata": {},
   "outputs": [],
   "source": [
    "def compute_cosine_similarity(tensor1, tensor2):\n",
    "    return torch.mm(tensor1, tensor2.t())\n",
    "\n",
    "\n",
    "def get_top_k_similar_rows(matrix, target_matrix, k=5, chunk_size=1000, device=\"cpu\"):\n",
    "    matrix = matrix.to(device)\n",
    "    normalized_matrix = normalize(matrix, p=2, dim=1)\n",
    "    target_matrix = target_matrix.to(device)\n",
    "    normalized_target_matrix = normalize(target_matrix, p=2, dim=1)\n",
    "\n",
    "    top_k_indices = torch.empty((matrix.size(0), k), dtype=torch.long, device=\"cpu\")\n",
    "\n",
    "    dataset = TensorDataset(normalized_matrix)\n",
    "    dataloader = DataLoader(dataset, batch_size=chunk_size)\n",
    "\n",
    "    for ci, chunk in enumerate(tqdm(dataloader)):\n",
    "        chunk_tensor = chunk[0]\n",
    "        chunk_size_actual = chunk_tensor.size(0)\n",
    "\n",
    "        cosine_similarities = compute_cosine_similarity(\n",
    "            chunk_tensor, normalized_target_matrix\n",
    "        ).to(device)\n",
    "        top_k = torch.topk(cosine_similarities, k, dim=1)\n",
    "        top_k_indices[ci * chunk_size : ci * chunk_size + chunk_size_actual] = (\n",
    "            top_k.indices.cpu()\n",
    "        )\n",
    "\n",
    "    return top_k_indices\n",
    "\n",
    "\n",
    "def get_two_years_month_dirs(year_id):\n",
    "    start = 1 + year_id * 2\n",
    "    month_dirs = (\n",
    "        [f\"train/000{start}-{str(m).zfill(2)}\" for m in range(2, 13)]\n",
    "        + [\n",
    "            f\"train/000{y}-{str(m).zfill(2)}\"\n",
    "            for y in range(start + 1, start + 2)\n",
    "            for m in range(1, 13)\n",
    "        ]\n",
    "        + [f\"train/000{start+2}-01\"]\n",
    "    )\n",
    "    return month_dirs"
   ]
  },
  {
   "cell_type": "code",
   "execution_count": 47,
   "id": "745291d1-c4aa-4b7f-a86e-360259634209",
   "metadata": {},
   "outputs": [],
   "source": [
    "year_id = 3\n",
    "# ベースとなるデータファイルのパスを取得\n",
    "month_dirs = get_two_years_month_dirs(year_id)\n",
    "path_list = sorted(\n",
    "    [\n",
    "        path\n",
    "        for paths in [\n",
    "            glob(str(Path(cfg.exp.data_dir) / dir_path / \"*\"))\n",
    "            for dir_path in month_dirs\n",
    "        ]\n",
    "        for path in paths\n",
    "    ]\n",
    ")\n",
    "\n",
    "if cfg.debug:\n",
    "    path_list = path_list[:100]"
   ]
  },
  {
   "cell_type": "code",
   "execution_count": 48,
   "id": "07d87aee-25f1-48ad-9078-4de8d5764f3a",
   "metadata": {},
   "outputs": [],
   "source": [
    "# 開始地点ごとに処理を行う(24ごとに作成されるので、最大24通り)\n",
    "start_id = 0\n",
    "save_dir = Path(cfg.exp.output_dir) / f\"year{year_id}_start{start_id}\"\n",
    "save_dir.mkdir(exist_ok=True, parents=True)\n",
    "\n",
    "base_array = np.vstack([np.load(path) for path in path_list[start_id::24]])\n",
    "old_array = np.vstack([np.load(path) for path in path_list[start_id::30]])\n",
    "\n",
    "df = (\n",
    "    pl.DataFrame(base_array[:, :1])\n",
    "    .with_row_index()\n",
    "    .with_columns(\n",
    "        [\n",
    "            (pl.col(\"index\") % 384).alias(\"location\"),\n",
    "            ((pl.col(\"index\") // 384) * 24).alias(\"file_index\"),\n",
    "            ((pl.col(\"index\") // 384) * 24 % 120).alias(\"time_mod\"),\n",
    "            ((pl.col(\"index\") // 384) * 24 * 384 + (pl.col(\"index\") % 384)).alias(\n",
    "                \"row_index\"\n",
    "            ),\n",
    "        ]\n",
    "    )\n",
    "    .drop([\"column_0\"])\n",
    ")\n",
    "\n",
    "# scaling\n",
    "feat_mean_dict = pickle.load(\n",
    "    open(\n",
    "        Path(cfg.exp.scale_dir) / \"x_mean_feat_dict.pkl\",\n",
    "        \"rb\",\n",
    "    )\n",
    ")\n",
    "feat_std_dict = pickle.load(\n",
    "    open(\n",
    "        Path(cfg.exp.scale_dir) / \"x_std_feat_dict.pkl\",\n",
    "        \"rb\",\n",
    "    )\n",
    ")\n",
    "data = torch.tensor(base_array[:, :556], dtype=torch.float32)\n",
    "data_old = torch.tensor(old_array[:, :556], dtype=torch.float32)\n",
    "data = (data - feat_mean_dict[\"base\"]) / (feat_std_dict[\"base\"] + 1e-60)\n",
    "data_old = (data_old - feat_mean_dict[\"base\"]) / (feat_std_dict[\"base\"] + 1e-60)"
   ]
  },
  {
   "cell_type": "code",
   "execution_count": 49,
   "id": "30fc2fad-2e0d-4b64-a8ff-4748e7be8212",
   "metadata": {},
   "outputs": [
    {
     "data": {
      "application/vnd.jupyter.widget-view+json": {
       "model_id": "5704782c344a446ba743f282560df1a0",
       "version_major": 2,
       "version_minor": 0
      },
      "text/plain": [
       "  0%|          | 0/20 [00:00<?, ?it/s]"
      ]
     },
     "metadata": {},
     "output_type": "display_data"
    },
    {
     "name": "stdout",
     "output_type": "stream",
     "text": [
      "383\n",
      "384\n"
     ]
    }
   ],
   "source": [
    "# similar\n",
    "device = \"cuda\" if torch.cuda.is_available() else \"cpu\"\n",
    "if cfg.debug:\n",
    "    device = \"cpu\"\n",
    "\n",
    "top_k_similar = get_top_k_similar_rows(\n",
    "    data,\n",
    "    data_old,\n",
    "    k=cfg.exp.topk,\n",
    "    chunk_size=cfg.exp.chunk_size,\n",
    "    device=device,\n",
    ")\n",
    "\n",
    "df_similar = df.with_columns(\n",
    "    [\n",
    "        pl.Series(\n",
    "            \"old_index\",\n",
    "            values=(top_k_similar.numpy()),\n",
    "        ),\n",
    "        pl.Series(\n",
    "            \"old_file_index\",\n",
    "            values=(top_k_similar.numpy() // 384) * 30,\n",
    "        ),\n",
    "        pl.Series(\n",
    "            \"old_row_index\",\n",
    "            values=(top_k_similar.numpy() // 384 * 30 * 384)\n",
    "            + (top_k_similar.numpy() % 384),\n",
    "        ),\n",
    "    ]\n",
    ").with_columns(\n",
    "    [\n",
    "        pl.col(\"old_row_index\")\n",
    "        .list.contains(pl.col(\"row_index\") + 384 * i)\n",
    "        .alias(f\"is_in_next{i}\")\n",
    "        for i in [0, 6, 12, 18, 24]\n",
    "    ]\n",
    ")\n",
    "print(df_similar.filter(pl.col(\"time_mod\") == 24)[\"is_in_next6\"].sum())\n",
    "print(len(df_similar.filter(pl.col(\"time_mod\") == 24)))"
   ]
  },
  {
   "cell_type": "code",
   "execution_count": 55,
   "id": "4bea275e-fa6e-46a3-90eb-36fe9efb248b",
   "metadata": {},
   "outputs": [],
   "source": [
    "# 384を1ファイルとして1つずつ近傍取得と保存を行う\n",
    "for start_ri in range(0, len(df_similar), 384):\n",
    "    end_ri = start_ri + 384\n",
    "\n",
    "    original_x = base_array[start_ri:end_ri, :556]\n",
    "    original_y = base_array[start_ri:end_ri, 556:]\n",
    "\n",
    "    sim_x = np.take(old_array[:, :556], top_k_similar[start_ri:end_ri], axis=0).reshape(\n",
    "        384, -1\n",
    "    )\n",
    "\n",
    "    is_in_bools = df_similar[start_ri:end_ri][[f\"is_in_next{i}\" for i in [0, 6, 12, 18, 24]]]\n",
    "\n",
    "    np.savez(\n",
    "        save_dir / f\"id{start_ri}.npz\",\n",
    "        x=original_x,\n",
    "        y=original_y,\n",
    "        sim_x=sim_x,\n",
    "        is_in_bools=is_in_bools,\n",
    "    )\n",
    "\n",
    "    break"
   ]
  },
  {
   "cell_type": "code",
   "execution_count": 56,
   "id": "23615aad-5f56-4cc6-b941-40d96c079f2e",
   "metadata": {},
   "outputs": [],
   "source": [
    "array = np.load(save_dir / f\"id{start_ri}.npz\")\n",
    "sim_x = array[\"sim_x\"]"
   ]
  },
  {
   "cell_type": "code",
   "execution_count": 57,
   "id": "410c9504-abbf-4e5c-aafc-3e18fcb7265d",
   "metadata": {},
   "outputs": [
    {
     "data": {
      "text/plain": [
       "(384, 5)"
      ]
     },
     "execution_count": 57,
     "metadata": {},
     "output_type": "execute_result"
    }
   ],
   "source": [
    "array['is_in_bools'].shape"
   ]
  },
  {
   "cell_type": "code",
   "execution_count": null,
   "id": "3f75d4aa-acb1-4626-b325-48222f54c3af",
   "metadata": {},
   "outputs": [],
   "source": []
  }
 ],
 "metadata": {
  "kernelspec": {
   "display_name": "Python 3 (ipykernel) (Local)",
   "language": "python",
   "name": "python3"
  },
  "language_info": {
   "codemirror_mode": {
    "name": "ipython",
    "version": 3
   },
   "file_extension": ".py",
   "mimetype": "text/x-python",
   "name": "python",
   "nbconvert_exporter": "python",
   "pygments_lexer": "ipython3",
   "version": "3.10.13"
  }
 },
 "nbformat": 4,
 "nbformat_minor": 5
}
