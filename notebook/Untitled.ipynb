{
 "cells": [
  {
   "cell_type": "code",
   "execution_count": 1,
   "id": "b2f38e68-3fc0-4f74-b1cb-88b9d60e0bfb",
   "metadata": {},
   "outputs": [],
   "source": [
    "# parameters\n",
    "config_dir = \"../experiments\"\n",
    "exp_name = \"084_q_log_same_scale/base\""
   ]
  },
  {
   "cell_type": "code",
   "execution_count": 2,
   "id": "7b60df7b-20b7-4a34-8e14-4607c204c651",
   "metadata": {},
   "outputs": [
    {
     "name": "stdout",
     "output_type": "stream",
     "text": [
      "/kaggle/working\n"
     ]
    }
   ],
   "source": [
    "%cd /kaggle/working\n",
    "\n",
    "import pickle\n",
    "from pathlib import Path\n",
    "\n",
    "import matplotlib.pyplot as plt\n",
    "import numpy as np\n",
    "import polars as pl\n",
    "import seaborn as sns\n",
    "from hydra import compose, initialize\n",
    "from omegaconf import OmegaConf\n",
    "\n",
    "with initialize(\n",
    "    version_base=None, config_path=f\"{config_dir}/{exp_name.split('/')[0]}\"\n",
    "):\n",
    "    cfg = compose(\n",
    "        config_name=\"config.yaml\",\n",
    "        overrides=[f\"exp={exp_name.split('/')[-1]}\"],\n",
    "        return_hydra_config=True,\n",
    "    )"
   ]
  },
  {
   "cell_type": "code",
   "execution_count": 4,
   "id": "3088ac22-f8ce-4320-baf0-48e8dfc2a88d",
   "metadata": {},
   "outputs": [],
   "source": [
    "feat_mean_dict = pickle.load(\n",
    "            open(\n",
    "                Path(cfg.exp.scale_dir) / \"x_mean_feat_dict.pkl\",\n",
    "                \"rb\",\n",
    "            )\n",
    "        )\n",
    "feat_std_dict = pickle.load(\n",
    "            open(\n",
    "                Path(cfg.exp.scale_dir) / \"x_std_feat_dict.pkl\",\n",
    "                \"rb\",\n",
    "            )\n",
    "        )"
   ]
  },
  {
   "cell_type": "code",
   "execution_count": 8,
   "id": "6c56817b-b4cf-42d4-a021-0e3762b70a71",
   "metadata": {},
   "outputs": [
    {
     "data": {
      "text/plain": [
       "30.328611334960883"
      ]
     },
     "execution_count": 8,
     "metadata": {},
     "output_type": "execute_result"
    }
   ],
   "source": [
    "feat_std_dict[\"t_all\"]"
   ]
  },
  {
   "cell_type": "code",
   "execution_count": 10,
   "id": "e813be5e-bc74-48b9-a944-39246df2ade2",
   "metadata": {},
   "outputs": [],
   "source": [
    "y_mean = np.load(Path(cfg.exp.scale_dir) / \"y_nanmean.npy\")\n",
    "y_rms_sub = np.maximum(\n",
    "            np.load(Path(cfg.exp.scale_dir) / \"y_rms_sub.npy\"),\n",
    "            1e-60,\n",
    "        )"
   ]
  },
  {
   "cell_type": "code",
   "execution_count": 12,
   "id": "47adbb0f-33f9-45b2-97b0-ba75a2cd74aa",
   "metadata": {},
   "outputs": [
    {
     "name": "stdout",
     "output_type": "stream",
     "text": [
      "nan_indices=array([], dtype=int64)\n"
     ]
    }
   ],
   "source": [
    "nan_indices = np.where(np.isnan(y_rms_sub))[0]\n",
    "print(f\"{nan_indices=}\")"
   ]
  },
  {
   "cell_type": "code",
   "execution_count": null,
   "id": "9e142a70-63d6-4ed5-bc46-769b4529b28f",
   "metadata": {},
   "outputs": [],
   "source": []
  }
 ],
 "metadata": {
  "kernelspec": {
   "display_name": "Python 3 (ipykernel) (Local)",
   "language": "python",
   "name": "python3"
  },
  "language_info": {
   "codemirror_mode": {
    "name": "ipython",
    "version": 3
   },
   "file_extension": ".py",
   "mimetype": "text/x-python",
   "name": "python",
   "nbconvert_exporter": "python",
   "pygments_lexer": "ipython3",
   "version": "3.10.13"
  }
 },
 "nbformat": 4,
 "nbformat_minor": 5
}
