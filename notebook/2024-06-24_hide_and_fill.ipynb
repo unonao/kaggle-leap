{
 "cells": [
  {
   "cell_type": "code",
   "execution_count": 1,
   "id": "b0d5d961-b547-4e4f-a844-a0ddd5f3cad4",
   "metadata": {},
   "outputs": [
    {
     "name": "stdout",
     "output_type": "stream",
     "text": [
      "/kaggle/working\n"
     ]
    }
   ],
   "source": [
    "%cd /kaggle/working"
   ]
  },
  {
   "cell_type": "code",
   "execution_count": 2,
   "id": "812512c6-4c01-412d-83fd-17f84f52f498",
   "metadata": {},
   "outputs": [],
   "source": [
    "import pickle\n",
    "from pathlib import Path\n",
    "\n",
    "import matplotlib.pyplot as plt\n",
    "import numpy as np\n",
    "import pandas as pd\n",
    "import polars as pl\n",
    "import seaborn as sns\n",
    "from hydra import compose, initialize\n",
    "from omegaconf import OmegaConf\n",
    "\n",
    "from utils.metric import score"
   ]
  },
  {
   "cell_type": "markdown",
   "id": "1459eaaf-1d69-4270-a35b-bc94c71afb81",
   "metadata": {},
   "source": [
    "## 提出ファイルを使ってゼロ埋めする"
   ]
  },
  {
   "cell_type": "code",
   "execution_count": 3,
   "id": "31b653b6-b2ee-43b2-98df-87d22c5677a1",
   "metadata": {},
   "outputs": [],
   "source": [
    "def hide_submission(sub_df):\n",
    "    hide_sub_df = sub_df.clone().with_columns(\n",
    "        [pl.lit(0.0).alias(f\"ptend_q0002_{i}\") for i in range(12, 22)]\n",
    "    )\n",
    "    return hide_sub_df"
   ]
  },
  {
   "cell_type": "code",
   "execution_count": 4,
   "id": "bbc431cb-4392-4d66-bfb7-ae9dc6734988",
   "metadata": {},
   "outputs": [],
   "source": [
    "base_sub_path = \"output/20240610_ensemble_nelder_mead2_lb078544.parquet\"\n",
    "base_sub_df = pl.read_parquet(base_sub_path)"
   ]
  },
  {
   "cell_type": "code",
   "execution_count": 5,
   "id": "d3c48548-3485-4906-a16a-f03c5d413ecd",
   "metadata": {},
   "outputs": [
    {
     "data": {
      "text/html": [
       "<div><style>\n",
       ".dataframe > thead > tr,\n",
       ".dataframe > tbody > tr {\n",
       "  text-align: right;\n",
       "  white-space: pre-wrap;\n",
       "}\n",
       "</style>\n",
       "<small>shape: (5, 369)</small><table border=\"1\" class=\"dataframe\"><thead><tr><th>sample_id</th><th>ptend_t_0</th><th>ptend_t_1</th><th>ptend_t_2</th><th>ptend_t_3</th><th>ptend_t_4</th><th>ptend_t_5</th><th>ptend_t_6</th><th>ptend_t_7</th><th>ptend_t_8</th><th>ptend_t_9</th><th>ptend_t_10</th><th>ptend_t_11</th><th>ptend_t_12</th><th>ptend_t_13</th><th>ptend_t_14</th><th>ptend_t_15</th><th>ptend_t_16</th><th>ptend_t_17</th><th>ptend_t_18</th><th>ptend_t_19</th><th>ptend_t_20</th><th>ptend_t_21</th><th>ptend_t_22</th><th>ptend_t_23</th><th>ptend_t_24</th><th>ptend_t_25</th><th>ptend_t_26</th><th>ptend_t_27</th><th>ptend_t_28</th><th>ptend_t_29</th><th>ptend_t_30</th><th>ptend_t_31</th><th>ptend_t_32</th><th>ptend_t_33</th><th>ptend_t_34</th><th>ptend_t_35</th><th>&hellip;</th><th>ptend_v_31</th><th>ptend_v_32</th><th>ptend_v_33</th><th>ptend_v_34</th><th>ptend_v_35</th><th>ptend_v_36</th><th>ptend_v_37</th><th>ptend_v_38</th><th>ptend_v_39</th><th>ptend_v_40</th><th>ptend_v_41</th><th>ptend_v_42</th><th>ptend_v_43</th><th>ptend_v_44</th><th>ptend_v_45</th><th>ptend_v_46</th><th>ptend_v_47</th><th>ptend_v_48</th><th>ptend_v_49</th><th>ptend_v_50</th><th>ptend_v_51</th><th>ptend_v_52</th><th>ptend_v_53</th><th>ptend_v_54</th><th>ptend_v_55</th><th>ptend_v_56</th><th>ptend_v_57</th><th>ptend_v_58</th><th>ptend_v_59</th><th>cam_out_NETSW</th><th>cam_out_FLWDS</th><th>cam_out_PRECSC</th><th>cam_out_PRECC</th><th>cam_out_SOLS</th><th>cam_out_SOLL</th><th>cam_out_SOLSD</th><th>cam_out_SOLLD</th></tr><tr><td>str</td><td>f64</td><td>f64</td><td>f64</td><td>f64</td><td>f64</td><td>f64</td><td>f64</td><td>f64</td><td>f64</td><td>f64</td><td>f64</td><td>f64</td><td>f64</td><td>f64</td><td>f64</td><td>f64</td><td>f64</td><td>f64</td><td>f64</td><td>f64</td><td>f64</td><td>f64</td><td>f64</td><td>f64</td><td>f64</td><td>f64</td><td>f64</td><td>f64</td><td>f64</td><td>f64</td><td>f64</td><td>f64</td><td>f64</td><td>f64</td><td>f64</td><td>f64</td><td>&hellip;</td><td>f64</td><td>f64</td><td>f64</td><td>f64</td><td>f64</td><td>f64</td><td>f64</td><td>f64</td><td>f64</td><td>f64</td><td>f64</td><td>f64</td><td>f64</td><td>f64</td><td>f64</td><td>f64</td><td>f64</td><td>f64</td><td>f64</td><td>f64</td><td>f64</td><td>f64</td><td>f64</td><td>f64</td><td>f64</td><td>f64</td><td>f64</td><td>f64</td><td>f64</td><td>f64</td><td>f64</td><td>f64</td><td>f64</td><td>f64</td><td>f64</td><td>f64</td><td>f64</td></tr></thead><tbody><tr><td>&quot;test_0&quot;</td><td>0.000003</td><td>-0.000065</td><td>-0.000085</td><td>-0.000086</td><td>-0.000096</td><td>-0.0001</td><td>-0.000082</td><td>-0.000064</td><td>-0.000049</td><td>-0.000041</td><td>-0.000028</td><td>-0.000018</td><td>-0.000009</td><td>-0.000004</td><td>-4.1657e-7</td><td>0.000001</td><td>0.000006</td><td>0.000004</td><td>0.000003</td><td>-0.000009</td><td>0.000009</td><td>-0.000003</td><td>-0.000012</td><td>-0.000016</td><td>-0.000015</td><td>-0.000013</td><td>-0.000016</td><td>-0.000018</td><td>-0.000023</td><td>-0.000031</td><td>-0.000037</td><td>-0.000032</td><td>-0.000023</td><td>-0.000018</td><td>-0.000017</td><td>-0.000015</td><td>&hellip;</td><td>9.3603e-7</td><td>0.000002</td><td>-4.3578e-7</td><td>-0.000002</td><td>-0.000001</td><td>-6.4969e-7</td><td>-8.2227e-7</td><td>-0.000003</td><td>-7.8813e-7</td><td>-5.8951e-7</td><td>1.9074e-7</td><td>-0.000003</td><td>0.000006</td><td>0.000001</td><td>0.000002</td><td>-0.000005</td><td>-0.000006</td><td>-0.000026</td><td>-0.000048</td><td>-0.000048</td><td>-0.000018</td><td>0.000038</td><td>0.000043</td><td>0.000042</td><td>0.000022</td><td>0.000012</td><td>0.000009</td><td>0.000008</td><td>4.1996e-7</td><td>-0.136167</td><td>402.35946</td><td>4.6684e-11</td><td>4.1327e-10</td><td>-0.033577</td><td>-0.049489</td><td>0.09329</td><td>0.212398</td></tr><tr><td>&quot;test_10&quot;</td><td>-0.000015</td><td>-0.00005</td><td>-0.000034</td><td>-0.000052</td><td>-0.00009</td><td>-0.000133</td><td>-0.000142</td><td>-0.000097</td><td>-0.000046</td><td>-0.000026</td><td>-0.000018</td><td>-0.000014</td><td>-0.000011</td><td>-0.000009</td><td>-0.000007</td><td>-0.000005</td><td>-0.000004</td><td>-0.000004</td><td>-0.000002</td><td>-0.000004</td><td>-0.000004</td><td>-0.000008</td><td>-0.000008</td><td>-0.000009</td><td>-0.000008</td><td>-0.000011</td><td>-0.000013</td><td>-0.000017</td><td>-0.00002</td><td>-0.000018</td><td>-0.00002</td><td>-0.000019</td><td>-0.000015</td><td>-0.000007</td><td>-0.000002</td><td>0.000003</td><td>&hellip;</td><td>-4.8681e-7</td><td>-3.7356e-7</td><td>2.0193e-7</td><td>4.7321e-7</td><td>3.4525e-7</td><td>2.1168e-7</td><td>1.7050e-7</td><td>6.5687e-8</td><td>2.0065e-8</td><td>2.7567e-9</td><td>1.3472e-7</td><td>-8.9901e-7</td><td>4.5322e-7</td><td>-3.2823e-7</td><td>0.000001</td><td>-4.6198e-9</td><td>-5.7225e-7</td><td>-0.000002</td><td>-0.000002</td><td>-0.000002</td><td>-0.000002</td><td>-0.000001</td><td>-1.4282e-7</td><td>9.2288e-7</td><td>0.000002</td><td>0.000001</td><td>8.3161e-7</td><td>-0.000002</td><td>0.000004</td><td>-0.027761</td><td>345.154827</td><td>2.5575e-11</td><td>-5.9339e-10</td><td>-0.316943</td><td>-0.456919</td><td>0.0302</td><td>0.172592</td></tr><tr><td>&quot;test_100&quot;</td><td>-0.000007</td><td>-0.00008</td><td>-0.000033</td><td>-0.000028</td><td>-0.000073</td><td>-0.000096</td><td>-0.000079</td><td>-0.000053</td><td>-0.00003</td><td>-0.000021</td><td>-0.000017</td><td>-0.000014</td><td>-0.000012</td><td>-0.00001</td><td>-0.000007</td><td>-0.000005</td><td>-0.000004</td><td>-0.000005</td><td>0.000004</td><td>-0.000009</td><td>-0.000004</td><td>-0.000007</td><td>-0.000006</td><td>-0.000006</td><td>-0.000004</td><td>-0.000003</td><td>-0.000006</td><td>-0.000006</td><td>-0.000007</td><td>-0.000011</td><td>-0.000015</td><td>-0.000019</td><td>-0.000022</td><td>-0.000022</td><td>-0.000024</td><td>-0.000024</td><td>&hellip;</td><td>-0.000002</td><td>-0.000002</td><td>-7.8204e-7</td><td>2.2820e-7</td><td>8.2554e-7</td><td>0.000001</td><td>8.8598e-7</td><td>8.5306e-7</td><td>6.2661e-7</td><td>3.6903e-7</td><td>1.7289e-8</td><td>-4.6920e-7</td><td>-1.9907e-7</td><td>0.000002</td><td>3.3318e-7</td><td>-0.000001</td><td>-7.2683e-7</td><td>-0.000004</td><td>-0.00001</td><td>-0.00002</td><td>-0.000023</td><td>0.000009</td><td>0.00001</td><td>0.000014</td><td>0.00001</td><td>0.000004</td><td>0.000004</td><td>0.000004</td><td>0.000012</td><td>2.065205</td><td>331.870707</td><td>3.9388e-12</td><td>6.2842e-10</td><td>0.947471</td><td>0.65194</td><td>0.288081</td><td>0.205645</td></tr><tr><td>&quot;test_1000&quot;</td><td>0.000026</td><td>0.000007</td><td>0.000033</td><td>0.000026</td><td>-0.000013</td><td>-0.000057</td><td>-0.000047</td><td>-0.000021</td><td>-0.000008</td><td>-0.000003</td><td>-0.000001</td><td>-6.6297e-7</td><td>-3.7065e-7</td><td>0.000002</td><td>0.000003</td><td>0.000005</td><td>0.000006</td><td>0.000004</td><td>1.3132e-7</td><td>7.6130e-7</td><td>-4.3587e-7</td><td>-0.000002</td><td>-0.00001</td><td>-0.000019</td><td>-0.000017</td><td>-0.000014</td><td>-0.000014</td><td>-0.000017</td><td>-0.000021</td><td>-0.000023</td><td>-0.000021</td><td>-0.00002</td><td>-0.000018</td><td>-0.000017</td><td>-0.000016</td><td>-0.000017</td><td>&hellip;</td><td>2.6728e-8</td><td>-4.6045e-8</td><td>6.6996e-7</td><td>-0.000001</td><td>8.5986e-8</td><td>0.000001</td><td>-0.000001</td><td>1.5021e-7</td><td>-9.4691e-7</td><td>3.3675e-7</td><td>-0.000005</td><td>0.000007</td><td>0.000003</td><td>0.000005</td><td>0.000007</td><td>0.000007</td><td>0.000007</td><td>0.00001</td><td>0.00001</td><td>0.000008</td><td>0.000006</td><td>0.000004</td><td>9.9584e-7</td><td>-0.000006</td><td>-0.000012</td><td>-0.000022</td><td>-0.000039</td><td>-0.000046</td><td>0.000025</td><td>2.73912</td><td>361.004821</td><td>-3.4882e-12</td><td>-7.1884e-10</td><td>-2.280668</td><td>2.305229</td><td>1.976705</td><td>-0.310764</td></tr><tr><td>&quot;test_10000&quot;</td><td>0.000048</td><td>0.000026</td><td>0.000045</td><td>0.000086</td><td>0.000127</td><td>0.000175</td><td>0.000188</td><td>0.000148</td><td>0.000089</td><td>0.000064</td><td>0.000046</td><td>0.000036</td><td>0.000029</td><td>0.00002</td><td>0.000014</td><td>0.000012</td><td>0.000011</td><td>0.00001</td><td>0.000008</td><td>0.000006</td><td>0.000003</td><td>-1.1089e-7</td><td>-0.000003</td><td>-0.000006</td><td>-0.00001</td><td>-0.000012</td><td>-0.000008</td><td>-0.000006</td><td>-0.000005</td><td>-0.000004</td><td>-0.000004</td><td>-0.000004</td><td>-0.000004</td><td>-0.000003</td><td>0.000002</td><td>0.000002</td><td>&hellip;</td><td>2.1942e-8</td><td>9.0835e-9</td><td>1.2533e-8</td><td>7.1560e-9</td><td>2.7984e-8</td><td>1.6180e-8</td><td>-1.7384e-8</td><td>2.7839e-8</td><td>-1.0827e-7</td><td>1.2593e-7</td><td>-7.0349e-8</td><td>2.6809e-8</td><td>-7.4153e-8</td><td>-2.0619e-7</td><td>1.2592e-7</td><td>6.6115e-9</td><td>-2.0495e-7</td><td>2.4834e-7</td><td>-4.8647e-9</td><td>-1.6581e-8</td><td>3.5178e-8</td><td>1.3987e-7</td><td>-1.2053e-7</td><td>-1.6337e-7</td><td>-2.0883e-7</td><td>8.2948e-7</td><td>-4.1533e-8</td><td>6.7766e-7</td><td>-9.4207e-7</td><td>921.564771</td><td>381.232881</td><td>3.8690e-11</td><td>-3.9947e-10</td><td>446.291565</td><td>452.6363</td><td>48.597155</td><td>2.662356</td></tr></tbody></table></div>"
      ],
      "text/plain": [
       "shape: (5, 369)\n",
       "┌───────────┬───────────┬───────────┬───────────┬───┬───────────┬───────────┬───────────┬──────────┐\n",
       "│ sample_id ┆ ptend_t_0 ┆ ptend_t_1 ┆ ptend_t_2 ┆ … ┆ cam_out_S ┆ cam_out_S ┆ cam_out_S ┆ cam_out_ │\n",
       "│ ---       ┆ ---       ┆ ---       ┆ ---       ┆   ┆ OLS       ┆ OLL       ┆ OLSD      ┆ SOLLD    │\n",
       "│ str       ┆ f64       ┆ f64       ┆ f64       ┆   ┆ ---       ┆ ---       ┆ ---       ┆ ---      │\n",
       "│           ┆           ┆           ┆           ┆   ┆ f64       ┆ f64       ┆ f64       ┆ f64      │\n",
       "╞═══════════╪═══════════╪═══════════╪═══════════╪═══╪═══════════╪═══════════╪═══════════╪══════════╡\n",
       "│ test_0    ┆ 0.000003  ┆ -0.000065 ┆ -0.000085 ┆ … ┆ -0.033577 ┆ -0.049489 ┆ 0.09329   ┆ 0.212398 │\n",
       "│ test_10   ┆ -0.000015 ┆ -0.00005  ┆ -0.000034 ┆ … ┆ -0.316943 ┆ -0.456919 ┆ 0.0302    ┆ 0.172592 │\n",
       "│ test_100  ┆ -0.000007 ┆ -0.00008  ┆ -0.000033 ┆ … ┆ 0.947471  ┆ 0.65194   ┆ 0.288081  ┆ 0.205645 │\n",
       "│ test_1000 ┆ 0.000026  ┆ 0.000007  ┆ 0.000033  ┆ … ┆ -2.280668 ┆ 2.305229  ┆ 1.976705  ┆ -0.31076 │\n",
       "│           ┆           ┆           ┆           ┆   ┆           ┆           ┆           ┆ 4        │\n",
       "│ test_1000 ┆ 0.000048  ┆ 0.000026  ┆ 0.000045  ┆ … ┆ 446.29156 ┆ 452.6363  ┆ 48.597155 ┆ 2.662356 │\n",
       "│ 0         ┆           ┆           ┆           ┆   ┆ 5         ┆           ┆           ┆          │\n",
       "└───────────┴───────────┴───────────┴───────────┴───┴───────────┴───────────┴───────────┴──────────┘"
      ]
     },
     "execution_count": 5,
     "metadata": {},
     "output_type": "execute_result"
    }
   ],
   "source": [
    "base_sub_df.head()"
   ]
  },
  {
   "cell_type": "code",
   "execution_count": 6,
   "id": "bd9f650f-7cef-41ce-8add-00b1820c106b",
   "metadata": {},
   "outputs": [
    {
     "name": "stdout",
     "output_type": "stream",
     "text": [
      "(625000, 369)\n"
     ]
    },
    {
     "data": {
      "text/html": [
       "<div><style>\n",
       ".dataframe > thead > tr,\n",
       ".dataframe > tbody > tr {\n",
       "  text-align: right;\n",
       "  white-space: pre-wrap;\n",
       "}\n",
       "</style>\n",
       "<small>shape: (5, 30)</small><table border=\"1\" class=\"dataframe\"><thead><tr><th>ptend_q0001_59</th><th>ptend_q0002_0</th><th>ptend_q0002_1</th><th>ptend_q0002_2</th><th>ptend_q0002_3</th><th>ptend_q0002_4</th><th>ptend_q0002_5</th><th>ptend_q0002_6</th><th>ptend_q0002_7</th><th>ptend_q0002_8</th><th>ptend_q0002_9</th><th>ptend_q0002_10</th><th>ptend_q0002_11</th><th>ptend_q0002_12</th><th>ptend_q0002_13</th><th>ptend_q0002_14</th><th>ptend_q0002_15</th><th>ptend_q0002_16</th><th>ptend_q0002_17</th><th>ptend_q0002_18</th><th>ptend_q0002_19</th><th>ptend_q0002_20</th><th>ptend_q0002_21</th><th>ptend_q0002_22</th><th>ptend_q0002_23</th><th>ptend_q0002_24</th><th>ptend_q0002_25</th><th>ptend_q0002_26</th><th>ptend_q0002_27</th><th>ptend_q0002_28</th></tr><tr><td>f64</td><td>f64</td><td>f64</td><td>f64</td><td>f64</td><td>f64</td><td>f64</td><td>f64</td><td>f64</td><td>f64</td><td>f64</td><td>f64</td><td>f64</td><td>f64</td><td>f64</td><td>f64</td><td>f64</td><td>f64</td><td>f64</td><td>f64</td><td>f64</td><td>f64</td><td>f64</td><td>f64</td><td>f64</td><td>f64</td><td>f64</td><td>f64</td><td>f64</td><td>f64</td></tr></thead><tbody><tr><td>-3.6495e-8</td><td>0.0</td><td>0.0</td><td>0.0</td><td>0.0</td><td>0.0</td><td>0.0</td><td>0.0</td><td>0.0</td><td>0.0</td><td>0.0</td><td>0.0</td><td>0.0</td><td>0.0</td><td>0.0</td><td>0.0</td><td>0.0</td><td>0.0</td><td>0.0</td><td>0.0</td><td>0.0</td><td>0.0</td><td>0.0</td><td>0.0</td><td>-3.5384e-52</td><td>-1.1441e-50</td><td>-3.8119e-46</td><td>0.0</td><td>0.0</td><td>-3.1695e-14</td></tr><tr><td>2.8797e-10</td><td>0.0</td><td>0.0</td><td>0.0</td><td>0.0</td><td>0.0</td><td>0.0</td><td>0.0</td><td>0.0</td><td>0.0</td><td>0.0</td><td>0.0</td><td>0.0</td><td>0.0</td><td>0.0</td><td>0.0</td><td>0.0</td><td>0.0</td><td>0.0</td><td>0.0</td><td>0.0</td><td>0.0</td><td>0.0</td><td>0.0</td><td>0.0</td><td>0.0</td><td>-4.7835e-38</td><td>-1.1512e-34</td><td>0.0</td><td>-1.5774e-13</td></tr><tr><td>-1.6525e-8</td><td>0.0</td><td>0.0</td><td>0.0</td><td>0.0</td><td>0.0</td><td>0.0</td><td>0.0</td><td>0.0</td><td>0.0</td><td>0.0</td><td>0.0</td><td>0.0</td><td>0.0</td><td>0.0</td><td>0.0</td><td>0.0</td><td>0.0</td><td>0.0</td><td>0.0</td><td>0.0</td><td>0.0</td><td>0.0</td><td>-4.6324e-55</td><td>-4.9586e-50</td><td>-1.7488e-45</td><td>-3.0572e-41</td><td>-1.6994e-36</td><td>-4.7132e-32</td><td>-5.3210e-14</td></tr><tr><td>-7.1831e-8</td><td>0.0</td><td>0.0</td><td>0.0</td><td>0.0</td><td>0.0</td><td>0.0</td><td>0.0</td><td>0.0</td><td>0.0</td><td>0.0</td><td>0.0</td><td>0.0</td><td>0.0</td><td>0.0</td><td>0.0</td><td>0.0</td><td>0.0</td><td>0.0</td><td>0.0</td><td>0.0</td><td>0.0</td><td>0.0</td><td>0.0</td><td>0.0</td><td>0.0</td><td>0.0</td><td>-2.2260e-33</td><td>-1.4761e-28</td><td>1.1855e-13</td></tr><tr><td>-6.1449e-10</td><td>0.0</td><td>0.0</td><td>0.0</td><td>0.0</td><td>0.0</td><td>0.0</td><td>0.0</td><td>0.0</td><td>0.0</td><td>0.0</td><td>0.0</td><td>0.0</td><td>0.0</td><td>0.0</td><td>0.0</td><td>0.0</td><td>0.0</td><td>0.0</td><td>0.0</td><td>0.0</td><td>0.0</td><td>0.0</td><td>-1.3233e-46</td><td>-1.0059e-41</td><td>-4.6097e-37</td><td>-1.4812e-32</td><td>-4.3854e-28</td><td>-1.1530e-23</td><td>-3.5388e-14</td></tr></tbody></table></div>"
      ],
      "text/plain": [
       "shape: (5, 30)\n",
       "┌───────────┬───────────┬───────────┬───────────┬───┬───────────┬───────────┬───────────┬──────────┐\n",
       "│ ptend_q00 ┆ ptend_q00 ┆ ptend_q00 ┆ ptend_q00 ┆ … ┆ ptend_q00 ┆ ptend_q00 ┆ ptend_q00 ┆ ptend_q0 │\n",
       "│ 01_59     ┆ 02_0      ┆ 02_1      ┆ 02_2      ┆   ┆ 02_25     ┆ 02_26     ┆ 02_27     ┆ 002_28   │\n",
       "│ ---       ┆ ---       ┆ ---       ┆ ---       ┆   ┆ ---       ┆ ---       ┆ ---       ┆ ---      │\n",
       "│ f64       ┆ f64       ┆ f64       ┆ f64       ┆   ┆ f64       ┆ f64       ┆ f64       ┆ f64      │\n",
       "╞═══════════╪═══════════╪═══════════╪═══════════╪═══╪═══════════╪═══════════╪═══════════╪══════════╡\n",
       "│ -3.6495e- ┆ 0.0       ┆ 0.0       ┆ 0.0       ┆ … ┆ -3.8119e- ┆ 0.0       ┆ 0.0       ┆ -3.1695e │\n",
       "│ 8         ┆           ┆           ┆           ┆   ┆ 46        ┆           ┆           ┆ -14      │\n",
       "│ 2.8797e-1 ┆ 0.0       ┆ 0.0       ┆ 0.0       ┆ … ┆ -4.7835e- ┆ -1.1512e- ┆ 0.0       ┆ -1.5774e │\n",
       "│ 0         ┆           ┆           ┆           ┆   ┆ 38        ┆ 34        ┆           ┆ -13      │\n",
       "│ -1.6525e- ┆ 0.0       ┆ 0.0       ┆ 0.0       ┆ … ┆ -3.0572e- ┆ -1.6994e- ┆ -4.7132e- ┆ -5.3210e │\n",
       "│ 8         ┆           ┆           ┆           ┆   ┆ 41        ┆ 36        ┆ 32        ┆ -14      │\n",
       "│ -7.1831e- ┆ 0.0       ┆ 0.0       ┆ 0.0       ┆ … ┆ 0.0       ┆ -2.2260e- ┆ -1.4761e- ┆ 1.1855e- │\n",
       "│ 8         ┆           ┆           ┆           ┆   ┆           ┆ 33        ┆ 28        ┆ 13       │\n",
       "│ -6.1449e- ┆ 0.0       ┆ 0.0       ┆ 0.0       ┆ … ┆ -1.4812e- ┆ -4.3854e- ┆ -1.1530e- ┆ -3.5388e │\n",
       "│ 10        ┆           ┆           ┆           ┆   ┆ 32        ┆ 28        ┆ 23        ┆ -14      │\n",
       "└───────────┴───────────┴───────────┴───────────┴───┴───────────┴───────────┴───────────┴──────────┘"
      ]
     },
     "execution_count": 6,
     "metadata": {},
     "output_type": "execute_result"
    }
   ],
   "source": [
    "# hide\n",
    "hide_base_sub_df = hide_submission(base_sub_df)\n",
    "print(hide_base_sub_df.shape)\n",
    "hide_base_sub_df[:, 120:150].head()"
   ]
  },
  {
   "cell_type": "code",
   "execution_count": 7,
   "id": "e250109b-19a5-4dd8-8fe5-b0f752eacbed",
   "metadata": {},
   "outputs": [],
   "source": [
    "hide_base_sub_df.write_parquet(\"output/hide_lb078544_sub.parquet\")"
   ]
  },
  {
   "cell_type": "markdown",
   "id": "2792fa32-efc8-449a-9103-db213748388d",
   "metadata": {},
   "source": [
    "### location使った予測で20%を埋める"
   ]
  },
  {
   "cell_type": "code",
   "execution_count": 8,
   "id": "e4a7e978-42fc-40ae-a944-45a635ec01fc",
   "metadata": {},
   "outputs": [
    {
     "name": "stderr",
     "output_type": "stream",
     "text": [
      "/tmp/ipykernel_2957/4051025496.py:23: RuntimeWarning: invalid value encountered in divide\n",
      "  multi_col_pred = multi_col_pred / weight_old_array\n"
     ]
    },
    {
     "data": {
      "text/html": [
       "<div><style>\n",
       ".dataframe > thead > tr,\n",
       ".dataframe > tbody > tr {\n",
       "  text-align: right;\n",
       "  white-space: pre-wrap;\n",
       "}\n",
       "</style>\n",
       "<small>shape: (625_000, 369)</small><table border=\"1\" class=\"dataframe\"><thead><tr><th>sample_id</th><th>ptend_t_0</th><th>ptend_t_1</th><th>ptend_t_2</th><th>ptend_t_3</th><th>ptend_t_4</th><th>ptend_t_5</th><th>ptend_t_6</th><th>ptend_t_7</th><th>ptend_t_8</th><th>ptend_t_9</th><th>ptend_t_10</th><th>ptend_t_11</th><th>ptend_t_12</th><th>ptend_t_13</th><th>ptend_t_14</th><th>ptend_t_15</th><th>ptend_t_16</th><th>ptend_t_17</th><th>ptend_t_18</th><th>ptend_t_19</th><th>ptend_t_20</th><th>ptend_t_21</th><th>ptend_t_22</th><th>ptend_t_23</th><th>ptend_t_24</th><th>ptend_t_25</th><th>ptend_t_26</th><th>ptend_t_27</th><th>ptend_t_28</th><th>ptend_t_29</th><th>ptend_t_30</th><th>ptend_t_31</th><th>ptend_t_32</th><th>ptend_t_33</th><th>ptend_t_34</th><th>ptend_t_35</th><th>&hellip;</th><th>ptend_v_31</th><th>ptend_v_32</th><th>ptend_v_33</th><th>ptend_v_34</th><th>ptend_v_35</th><th>ptend_v_36</th><th>ptend_v_37</th><th>ptend_v_38</th><th>ptend_v_39</th><th>ptend_v_40</th><th>ptend_v_41</th><th>ptend_v_42</th><th>ptend_v_43</th><th>ptend_v_44</th><th>ptend_v_45</th><th>ptend_v_46</th><th>ptend_v_47</th><th>ptend_v_48</th><th>ptend_v_49</th><th>ptend_v_50</th><th>ptend_v_51</th><th>ptend_v_52</th><th>ptend_v_53</th><th>ptend_v_54</th><th>ptend_v_55</th><th>ptend_v_56</th><th>ptend_v_57</th><th>ptend_v_58</th><th>ptend_v_59</th><th>cam_out_NETSW</th><th>cam_out_FLWDS</th><th>cam_out_PRECSC</th><th>cam_out_PRECC</th><th>cam_out_SOLS</th><th>cam_out_SOLL</th><th>cam_out_SOLSD</th><th>cam_out_SOLLD</th></tr><tr><td>str</td><td>f64</td><td>f64</td><td>f64</td><td>f64</td><td>f64</td><td>f64</td><td>f64</td><td>f64</td><td>f64</td><td>f64</td><td>f64</td><td>f64</td><td>f64</td><td>f64</td><td>f64</td><td>f64</td><td>f64</td><td>f64</td><td>f64</td><td>f64</td><td>f64</td><td>f64</td><td>f64</td><td>f64</td><td>f64</td><td>f64</td><td>f64</td><td>f64</td><td>f64</td><td>f64</td><td>f64</td><td>f64</td><td>f64</td><td>f64</td><td>f64</td><td>f64</td><td>&hellip;</td><td>f64</td><td>f64</td><td>f64</td><td>f64</td><td>f64</td><td>f64</td><td>f64</td><td>f64</td><td>f64</td><td>f64</td><td>f64</td><td>f64</td><td>f64</td><td>f64</td><td>f64</td><td>f64</td><td>f64</td><td>f64</td><td>f64</td><td>f64</td><td>f64</td><td>f64</td><td>f64</td><td>f64</td><td>f64</td><td>f64</td><td>f64</td><td>f64</td><td>f64</td><td>f64</td><td>f64</td><td>f64</td><td>f64</td><td>f64</td><td>f64</td><td>f64</td><td>f64</td></tr></thead><tbody><tr><td>&quot;test_169651&quot;</td><td>-0.000011</td><td>-0.000026</td><td>-0.000022</td><td>-0.000046</td><td>-0.000081</td><td>-0.000108</td><td>-0.000104</td><td>-0.000083</td><td>-0.000054</td><td>-0.000041</td><td>-0.000029</td><td>-0.000022</td><td>-0.000016</td><td>-0.00001</td><td>-0.000002</td><td>0.000002</td><td>0.000003</td><td>8.2796e-7</td><td>0.000004</td><td>-9.3783e-7</td><td>-0.000003</td><td>-0.000006</td><td>-0.00001</td><td>-0.000013</td><td>-0.000014</td><td>-0.000016</td><td>-0.000019</td><td>-0.000024</td><td>-0.000026</td><td>-0.000032</td><td>-0.000034</td><td>-0.000032</td><td>-0.000031</td><td>-0.000028</td><td>-0.000027</td><td>-0.000028</td><td>&hellip;</td><td>1.3003e-8</td><td>-7.8969e-9</td><td>6.6855e-8</td><td>-7.0226e-7</td><td>4.1865e-7</td><td>-2.3593e-8</td><td>3.6046e-8</td><td>3.6364e-8</td><td>-5.9829e-8</td><td>1.6644e-7</td><td>-3.4152e-7</td><td>2.3089e-7</td><td>-3.7505e-7</td><td>6.0852e-7</td><td>-1.1834e-7</td><td>2.1883e-8</td><td>6.0628e-8</td><td>4.0804e-8</td><td>-7.2421e-9</td><td>-8.3721e-9</td><td>9.4521e-8</td><td>1.1748e-7</td><td>1.1309e-7</td><td>1.4100e-7</td><td>-6.9411e-7</td><td>2.4739e-7</td><td>-3.7350e-7</td><td>-0.000006</td><td>0.000007</td><td>-0.567619</td><td>400.672139</td><td>1.0646e-11</td><td>2.7601e-10</td><td>-0.251745</td><td>-0.069717</td><td>0.011733</td><td>-0.0525</td></tr><tr><td>&quot;test_524862&quot;</td><td>-0.000008</td><td>-0.000021</td><td>-0.000023</td><td>-0.000047</td><td>-0.000086</td><td>-0.000113</td><td>-0.000104</td><td>-0.00008</td><td>-0.000052</td><td>-0.000041</td><td>-0.000031</td><td>-0.000024</td><td>-0.000018</td><td>-0.000013</td><td>-0.000006</td><td>-0.000001</td><td>8.4510e-7</td><td>5.6776e-7</td><td>-9.8362e-7</td><td>-0.000001</td><td>-0.000004</td><td>-0.000006</td><td>-0.000008</td><td>-0.000009</td><td>-0.00001</td><td>-0.000013</td><td>-0.000018</td><td>-0.000024</td><td>-0.000026</td><td>-0.000025</td><td>-0.000024</td><td>-0.000025</td><td>-0.000026</td><td>-0.000027</td><td>-0.000027</td><td>-0.000026</td><td>&hellip;</td><td>-1.9820e-7</td><td>-1.1089e-7</td><td>3.7925e-8</td><td>1.6880e-7</td><td>2.4753e-7</td><td>3.0584e-7</td><td>2.4084e-7</td><td>6.8354e-9</td><td>-1.8028e-7</td><td>-2.6124e-7</td><td>-1.2527e-7</td><td>-7.8038e-8</td><td>-2.8370e-7</td><td>0.000001</td><td>-2.3399e-8</td><td>-1.0843e-7</td><td>-3.8337e-7</td><td>-4.5829e-7</td><td>-3.4414e-7</td><td>-5.5615e-7</td><td>-4.2788e-7</td><td>2.4215e-7</td><td>-1.7502e-7</td><td>-6.0999e-7</td><td>-4.9460e-7</td><td>-0.000003</td><td>-0.000005</td><td>-0.000011</td><td>0.000023</td><td>-0.069463</td><td>388.152037</td><td>-7.1783e-12</td><td>1.1436e-8</td><td>0.205497</td><td>0.290388</td><td>-0.06125</td><td>-0.128024</td></tr><tr><td>&quot;test_634129&quot;</td><td>-0.00001</td><td>-0.000049</td><td>-0.000034</td><td>-0.000048</td><td>-0.000075</td><td>-0.000104</td><td>-0.000106</td><td>-0.000083</td><td>-0.000049</td><td>-0.000036</td><td>-0.000025</td><td>-0.000018</td><td>-0.000012</td><td>-0.000008</td><td>-0.000003</td><td>0.000004</td><td>0.000006</td><td>0.000004</td><td>0.000002</td><td>-0.000003</td><td>-0.000001</td><td>-0.000005</td><td>-0.000009</td><td>-0.000019</td><td>-0.000027</td><td>-0.000036</td><td>-0.000046</td><td>-0.000046</td><td>-0.000042</td><td>-0.000031</td><td>-0.000037</td><td>-0.000037</td><td>-0.000034</td><td>-0.000027</td><td>-0.000025</td><td>-0.000027</td><td>&hellip;</td><td>-0.000002</td><td>4.8660e-7</td><td>-2.8589e-7</td><td>-0.000001</td><td>-9.9425e-7</td><td>-3.1452e-7</td><td>1.2238e-7</td><td>2.6674e-7</td><td>2.3976e-7</td><td>-6.9269e-8</td><td>-1.8579e-7</td><td>-2.3828e-7</td><td>-7.0338e-8</td><td>1.1333e-7</td><td>-1.4694e-7</td><td>-7.2515e-7</td><td>-1.3490e-7</td><td>2.4356e-9</td><td>-3.2708e-7</td><td>-6.1495e-7</td><td>1.5782e-7</td><td>2.6185e-7</td><td>6.0001e-7</td><td>4.1940e-7</td><td>0.000001</td><td>0.000001</td><td>-3.5972e-7</td><td>4.9759e-7</td><td>-0.000002</td><td>0.107786</td><td>425.75918</td><td>-3.1899e-11</td><td>5.7591e-10</td><td>0.28341</td><td>0.404113</td><td>-0.111441</td><td>-0.221363</td></tr><tr><td>&quot;test_403572&quot;</td><td>-0.000012</td><td>-0.000039</td><td>-0.00003</td><td>-0.000044</td><td>-0.000075</td><td>-0.000109</td><td>-0.000109</td><td>-0.000083</td><td>-0.000049</td><td>-0.000037</td><td>-0.000027</td><td>-0.000019</td><td>-0.000013</td><td>-0.000009</td><td>-0.000004</td><td>0.000001</td><td>0.000005</td><td>0.000003</td><td>0.000003</td><td>-0.000002</td><td>-5.7069e-7</td><td>-0.000005</td><td>-0.00001</td><td>-0.000022</td><td>-0.000029</td><td>-0.000024</td><td>-0.00002</td><td>-0.000026</td><td>-0.000035</td><td>-0.000031</td><td>-0.000029</td><td>-0.000026</td><td>-0.000027</td><td>-0.000033</td><td>-0.000032</td><td>-0.000035</td><td>&hellip;</td><td>-1.9160e-7</td><td>-5.7978e-7</td><td>-2.0680e-7</td><td>2.3468e-8</td><td>4.5345e-7</td><td>4.4238e-7</td><td>3.7133e-7</td><td>7.2173e-8</td><td>-2.1482e-7</td><td>-3.4356e-7</td><td>-7.6084e-7</td><td>-0.000003</td><td>7.7067e-7</td><td>0.000002</td><td>1.0058e-7</td><td>1.8989e-7</td><td>-2.3146e-7</td><td>-6.6126e-7</td><td>-0.000001</td><td>-0.000003</td><td>-0.000004</td><td>-0.000003</td><td>-4.0067e-7</td><td>0.000001</td><td>0.000015</td><td>0.000011</td><td>-9.9555e-7</td><td>-0.000002</td><td>-0.000007</td><td>0.552635</td><td>427.125637</td><td>2.5277e-11</td><td>8.6554e-9</td><td>0.246733</td><td>0.292259</td><td>-0.045139</td><td>-0.037395</td></tr><tr><td>&quot;test_484578&quot;</td><td>-0.000008</td><td>-0.000013</td><td>-0.000021</td><td>-0.00005</td><td>-0.000089</td><td>-0.000118</td><td>-0.000108</td><td>-0.00008</td><td>-0.000051</td><td>-0.000041</td><td>-0.000032</td><td>-0.000025</td><td>-0.00002</td><td>-0.000016</td><td>-0.00001</td><td>-0.000005</td><td>-0.000002</td><td>-6.2304e-7</td><td>-0.000003</td><td>-0.000004</td><td>-0.000004</td><td>-0.000005</td><td>-0.000007</td><td>-0.000008</td><td>-0.00001</td><td>-0.000012</td><td>-0.000017</td><td>-0.00002</td><td>-0.000019</td><td>-0.000021</td><td>-0.000022</td><td>-0.000024</td><td>-0.000025</td><td>-0.000027</td><td>-0.000027</td><td>-0.000028</td><td>&hellip;</td><td>4.9052e-7</td><td>6.9316e-7</td><td>6.1463e-7</td><td>4.0945e-7</td><td>1.7308e-7</td><td>-9.7564e-8</td><td>-3.2238e-7</td><td>-4.7368e-7</td><td>-2.9784e-7</td><td>-4.9335e-8</td><td>-0.000002</td><td>-0.000003</td><td>0.000001</td><td>-5.0982e-7</td><td>-0.000001</td><td>-0.000003</td><td>-0.000004</td><td>-0.000002</td><td>7.1661e-7</td><td>0.000002</td><td>0.000003</td><td>0.000004</td><td>0.000004</td><td>0.000002</td><td>-8.9405e-7</td><td>-0.000005</td><td>-0.000013</td><td>0.000029</td><td>-0.000001</td><td>-0.866531</td><td>383.077402</td><td>2.1464e-11</td><td>7.7132e-9</td><td>-0.418118</td><td>-0.062038</td><td>0.01943</td><td>0.055414</td></tr><tr><td>&hellip;</td><td>&hellip;</td><td>&hellip;</td><td>&hellip;</td><td>&hellip;</td><td>&hellip;</td><td>&hellip;</td><td>&hellip;</td><td>&hellip;</td><td>&hellip;</td><td>&hellip;</td><td>&hellip;</td><td>&hellip;</td><td>&hellip;</td><td>&hellip;</td><td>&hellip;</td><td>&hellip;</td><td>&hellip;</td><td>&hellip;</td><td>&hellip;</td><td>&hellip;</td><td>&hellip;</td><td>&hellip;</td><td>&hellip;</td><td>&hellip;</td><td>&hellip;</td><td>&hellip;</td><td>&hellip;</td><td>&hellip;</td><td>&hellip;</td><td>&hellip;</td><td>&hellip;</td><td>&hellip;</td><td>&hellip;</td><td>&hellip;</td><td>&hellip;</td><td>&hellip;</td><td>&hellip;</td><td>&hellip;</td><td>&hellip;</td><td>&hellip;</td><td>&hellip;</td><td>&hellip;</td><td>&hellip;</td><td>&hellip;</td><td>&hellip;</td><td>&hellip;</td><td>&hellip;</td><td>&hellip;</td><td>&hellip;</td><td>&hellip;</td><td>&hellip;</td><td>&hellip;</td><td>&hellip;</td><td>&hellip;</td><td>&hellip;</td><td>&hellip;</td><td>&hellip;</td><td>&hellip;</td><td>&hellip;</td><td>&hellip;</td><td>&hellip;</td><td>&hellip;</td><td>&hellip;</td><td>&hellip;</td><td>&hellip;</td><td>&hellip;</td><td>&hellip;</td><td>&hellip;</td><td>&hellip;</td><td>&hellip;</td><td>&hellip;</td><td>&hellip;</td><td>&hellip;</td><td>&hellip;</td></tr><tr><td>&quot;test_578220&quot;</td><td>0.000041</td><td>0.000032</td><td>0.000058</td><td>0.000077</td><td>0.000126</td><td>0.000156</td><td>0.000144</td><td>0.000105</td><td>0.000065</td><td>0.000053</td><td>0.000042</td><td>0.000033</td><td>0.000022</td><td>0.000015</td><td>0.000013</td><td>0.000009</td><td>0.00001</td><td>0.00001</td><td>0.000009</td><td>0.000004</td><td>0.000008</td><td>-0.000003</td><td>-0.000003</td><td>-0.000011</td><td>-8.2311e-7</td><td>-0.000003</td><td>-0.00001</td><td>-0.000011</td><td>-0.000006</td><td>-0.000001</td><td>-9.8796e-7</td><td>-0.000003</td><td>-0.000008</td><td>-0.00001</td><td>-0.000013</td><td>-0.000009</td><td>&hellip;</td><td>6.9938e-7</td><td>-0.000005</td><td>-0.000004</td><td>-6.5417e-7</td><td>3.9684e-7</td><td>3.6901e-8</td><td>-0.000007</td><td>-3.8647e-7</td><td>-1.3770e-8</td><td>7.2783e-7</td><td>0.000007</td><td>0.000002</td><td>-0.000008</td><td>-0.000002</td><td>2.0438e-7</td><td>0.000001</td><td>7.3566e-7</td><td>0.000001</td><td>-2.7729e-7</td><td>-0.000002</td><td>-0.000004</td><td>-0.000009</td><td>-0.000022</td><td>0.000003</td><td>0.000004</td><td>0.000015</td><td>0.000011</td><td>0.000005</td><td>0.000005</td><td>529.823277</td><td>405.807221</td><td>2.4483e-10</td><td>-5.1420e-10</td><td>223.579471</td><td>236.449981</td><td>68.961534</td><td>24.226159</td></tr><tr><td>&quot;test_395695&quot;</td><td>0.000045</td><td>0.000033</td><td>0.000055</td><td>0.000094</td><td>0.000117</td><td>0.000164</td><td>0.000142</td><td>0.000085</td><td>0.000069</td><td>0.000062</td><td>0.000048</td><td>0.00003</td><td>0.000017</td><td>0.000013</td><td>0.00001</td><td>0.000011</td><td>0.000009</td><td>0.000007</td><td>0.000006</td><td>0.000004</td><td>0.000005</td><td>-0.000002</td><td>-0.000014</td><td>0.000024</td><td>0.000019</td><td>0.00002</td><td>0.000026</td><td>0.000033</td><td>0.000035</td><td>0.000026</td><td>-0.000013</td><td>-0.000012</td><td>-0.000006</td><td>-7.6225e-7</td><td>0.000002</td><td>0.000006</td><td>&hellip;</td><td>-0.000003</td><td>-0.000003</td><td>-0.000004</td><td>-0.000002</td><td>0.000002</td><td>-0.00001</td><td>-0.000005</td><td>0.000001</td><td>-4.5015e-7</td><td>2.9925e-7</td><td>0.000001</td><td>-0.000002</td><td>-0.000003</td><td>-0.000004</td><td>-0.000004</td><td>-9.6960e-7</td><td>0.000005</td><td>0.000007</td><td>0.000006</td><td>0.000008</td><td>0.000005</td><td>0.000006</td><td>0.000005</td><td>-0.000001</td><td>-0.000003</td><td>-0.000006</td><td>-0.000007</td><td>-0.000005</td><td>-0.000003</td><td>428.279054</td><td>428.507805</td><td>1.6572e-10</td><td>8.3880e-9</td><td>129.52087</td><td>133.457884</td><td>116.070468</td><td>66.863128</td></tr><tr><td>&quot;test_88942&quot;</td><td>0.000046</td><td>0.000019</td><td>0.000044</td><td>0.000092</td><td>0.000102</td><td>0.00012</td><td>0.000097</td><td>0.000059</td><td>0.000049</td><td>0.000044</td><td>0.000035</td><td>0.000025</td><td>0.000018</td><td>0.000014</td><td>0.000011</td><td>0.000011</td><td>0.000008</td><td>0.000007</td><td>0.000004</td><td>0.000003</td><td>0.000003</td><td>-0.000002</td><td>-0.000007</td><td>-0.000008</td><td>-0.000012</td><td>-0.000017</td><td>-0.000017</td><td>-0.000014</td><td>-0.000012</td><td>-0.000006</td><td>-0.000006</td><td>-0.000009</td><td>-0.000006</td><td>9.6754e-7</td><td>8.4268e-7</td><td>-9.8115e-7</td><td>&hellip;</td><td>-4.3047e-7</td><td>1.6530e-7</td><td>-0.000003</td><td>-0.000005</td><td>-2.4753e-8</td><td>4.0198e-7</td><td>3.8305e-7</td><td>9.7848e-9</td><td>2.2925e-7</td><td>-5.7015e-7</td><td>-9.5183e-8</td><td>-3.4449e-7</td><td>-5.1257e-7</td><td>-0.000001</td><td>-5.4039e-7</td><td>-7.5256e-7</td><td>-5.6597e-7</td><td>-1.2047e-7</td><td>9.3902e-7</td><td>0.000002</td><td>0.000003</td><td>0.000007</td><td>0.000009</td><td>0.000005</td><td>6.3734e-7</td><td>-0.000003</td><td>-0.000009</td><td>-0.000004</td><td>-0.000004</td><td>304.077407</td><td>435.276104</td><td>2.3591e-11</td><td>-1.3040e-9</td><td>101.461231</td><td>107.210126</td><td>75.377081</td><td>38.641243</td></tr><tr><td>&quot;test_79382&quot;</td><td>0.000047</td><td>0.000014</td><td>0.000052</td><td>0.000075</td><td>0.00012</td><td>0.000135</td><td>0.000106</td><td>0.000076</td><td>0.000053</td><td>0.000044</td><td>0.000034</td><td>0.000025</td><td>0.000019</td><td>0.000014</td><td>0.000013</td><td>0.000009</td><td>0.000008</td><td>0.000007</td><td>0.000007</td><td>0.000006</td><td>0.000004</td><td>0.000003</td><td>-0.000007</td><td>-0.000011</td><td>-0.000008</td><td>-0.000014</td><td>-0.000014</td><td>-0.000013</td><td>-0.000007</td><td>-0.000009</td><td>-0.000009</td><td>-0.00001</td><td>-0.000012</td><td>-0.000015</td><td>-0.000011</td><td>-0.000004</td><td>&hellip;</td><td>-0.000006</td><td>-0.000006</td><td>-0.000001</td><td>0.000002</td><td>-0.000002</td><td>-0.000005</td><td>-1.6297e-7</td><td>0.000005</td><td>8.2357e-7</td><td>0.000001</td><td>8.7679e-7</td><td>9.6633e-7</td><td>-0.000006</td><td>-0.000004</td><td>-0.000009</td><td>-0.000007</td><td>-0.000001</td><td>-0.000005</td><td>-0.000012</td><td>-0.000003</td><td>-0.000002</td><td>0.000021</td><td>0.00002</td><td>0.00001</td><td>8.5866e-7</td><td>0.000006</td><td>0.000005</td><td>0.000004</td><td>-0.000005</td><td>395.810639</td><td>399.836576</td><td>1.2757e-10</td><td>-1.5011e-9</td><td>161.936917</td><td>180.882702</td><td>62.182022</td><td>22.915357</td></tr><tr><td>&quot;test_601350&quot;</td><td>0.000044</td><td>0.00001</td><td>0.000047</td><td>0.000068</td><td>0.000116</td><td>0.000098</td><td>0.000062</td><td>0.000044</td><td>0.000036</td><td>0.000032</td><td>0.000025</td><td>0.000019</td><td>0.000014</td><td>0.000009</td><td>0.000008</td><td>0.000004</td><td>-0.000005</td><td>-0.000013</td><td>0.000005</td><td>-0.000006</td><td>0.000028</td><td>6.6929e-7</td><td>-0.000006</td><td>-8.3886e-7</td><td>-1.8481e-7</td><td>-0.000013</td><td>-0.000018</td><td>2.8731e-7</td><td>0.000032</td><td>0.000066</td><td>0.000065</td><td>0.000051</td><td>0.00003</td><td>0.000015</td><td>3.2957e-7</td><td>-0.00004</td><td>&hellip;</td><td>-0.000026</td><td>-0.000017</td><td>-0.000004</td><td>-0.000003</td><td>-0.000001</td><td>0.000005</td><td>0.000005</td><td>7.0899e-7</td><td>-0.000003</td><td>-0.000009</td><td>-0.000015</td><td>-0.000021</td><td>-0.000031</td><td>-0.000038</td><td>-0.00003</td><td>-0.000017</td><td>-0.000011</td><td>-0.000005</td><td>0.000008</td><td>0.00003</td><td>0.00005</td><td>0.000053</td><td>0.000053</td><td>0.000047</td><td>0.000051</td><td>0.000039</td><td>0.000013</td><td>-0.000004</td><td>-0.000028</td><td>187.518262</td><td>414.198323</td><td>-1.8594e-10</td><td>2.9248e-8</td><td>65.269804</td><td>74.950199</td><td>50.746165</td><td>25.622325</td></tr></tbody></table></div>"
      ],
      "text/plain": [
       "shape: (625_000, 369)\n",
       "┌───────────┬───────────┬───────────┬───────────┬───┬───────────┬───────────┬───────────┬──────────┐\n",
       "│ sample_id ┆ ptend_t_0 ┆ ptend_t_1 ┆ ptend_t_2 ┆ … ┆ cam_out_S ┆ cam_out_S ┆ cam_out_S ┆ cam_out_ │\n",
       "│ ---       ┆ ---       ┆ ---       ┆ ---       ┆   ┆ OLS       ┆ OLL       ┆ OLSD      ┆ SOLLD    │\n",
       "│ str       ┆ f64       ┆ f64       ┆ f64       ┆   ┆ ---       ┆ ---       ┆ ---       ┆ ---      │\n",
       "│           ┆           ┆           ┆           ┆   ┆ f64       ┆ f64       ┆ f64       ┆ f64      │\n",
       "╞═══════════╪═══════════╪═══════════╪═══════════╪═══╪═══════════╪═══════════╪═══════════╪══════════╡\n",
       "│ test_1696 ┆ -0.000011 ┆ -0.000026 ┆ -0.000022 ┆ … ┆ -0.251745 ┆ -0.069717 ┆ 0.011733  ┆ -0.0525  │\n",
       "│ 51        ┆           ┆           ┆           ┆   ┆           ┆           ┆           ┆          │\n",
       "│ test_5248 ┆ -0.000008 ┆ -0.000021 ┆ -0.000023 ┆ … ┆ 0.205497  ┆ 0.290388  ┆ -0.06125  ┆ -0.12802 │\n",
       "│ 62        ┆           ┆           ┆           ┆   ┆           ┆           ┆           ┆ 4        │\n",
       "│ test_6341 ┆ -0.00001  ┆ -0.000049 ┆ -0.000034 ┆ … ┆ 0.28341   ┆ 0.404113  ┆ -0.111441 ┆ -0.22136 │\n",
       "│ 29        ┆           ┆           ┆           ┆   ┆           ┆           ┆           ┆ 3        │\n",
       "│ test_4035 ┆ -0.000012 ┆ -0.000039 ┆ -0.00003  ┆ … ┆ 0.246733  ┆ 0.292259  ┆ -0.045139 ┆ -0.03739 │\n",
       "│ 72        ┆           ┆           ┆           ┆   ┆           ┆           ┆           ┆ 5        │\n",
       "│ test_4845 ┆ -0.000008 ┆ -0.000013 ┆ -0.000021 ┆ … ┆ -0.418118 ┆ -0.062038 ┆ 0.01943   ┆ 0.055414 │\n",
       "│ 78        ┆           ┆           ┆           ┆   ┆           ┆           ┆           ┆          │\n",
       "│ …         ┆ …         ┆ …         ┆ …         ┆ … ┆ …         ┆ …         ┆ …         ┆ …        │\n",
       "│ test_5782 ┆ 0.000041  ┆ 0.000032  ┆ 0.000058  ┆ … ┆ 223.57947 ┆ 236.44998 ┆ 68.961534 ┆ 24.22615 │\n",
       "│ 20        ┆           ┆           ┆           ┆   ┆ 1         ┆ 1         ┆           ┆ 9        │\n",
       "│ test_3956 ┆ 0.000045  ┆ 0.000033  ┆ 0.000055  ┆ … ┆ 129.52087 ┆ 133.45788 ┆ 116.07046 ┆ 66.86312 │\n",
       "│ 95        ┆           ┆           ┆           ┆   ┆           ┆ 4         ┆ 8         ┆ 8        │\n",
       "│ test_8894 ┆ 0.000046  ┆ 0.000019  ┆ 0.000044  ┆ … ┆ 101.46123 ┆ 107.21012 ┆ 75.377081 ┆ 38.64124 │\n",
       "│ 2         ┆           ┆           ┆           ┆   ┆ 1         ┆ 6         ┆           ┆ 3        │\n",
       "│ test_7938 ┆ 0.000047  ┆ 0.000014  ┆ 0.000052  ┆ … ┆ 161.93691 ┆ 180.88270 ┆ 62.182022 ┆ 22.91535 │\n",
       "│ 2         ┆           ┆           ┆           ┆   ┆ 7         ┆ 2         ┆           ┆ 7        │\n",
       "│ test_6013 ┆ 0.000044  ┆ 0.00001   ┆ 0.000047  ┆ … ┆ 65.269804 ┆ 74.950199 ┆ 50.746165 ┆ 25.62232 │\n",
       "│ 50        ┆           ┆           ┆           ┆   ┆           ┆           ┆           ┆ 5        │\n",
       "└───────────┴───────────┴───────────┴───────────┴───┴───────────┴───────────┴───────────┴──────────┘"
      ]
     },
     "execution_count": 8,
     "metadata": {},
     "output_type": "execute_result"
    }
   ],
   "source": [
    "# multi-column to single-column の読み込み\n",
    "multi_col_sub_path = \"output/20240610_ensemble_nelder_mead2_lb080254.parquet\"\n",
    "multi_col_sub_df = pl.read_parquet(multi_col_sub_path)\n",
    "\n",
    "# 重みが変わったので新しいスケールに変換する\n",
    "ss_old_df = pl.read_csv(\n",
    "    \"input/leap-atmospheric-physics-ai-climsim/sample_submission_old.csv\", n_rows=1\n",
    ")\n",
    "weight_old_array = ss_old_df.select(\n",
    "    [x for x in ss_old_df.columns if x != \"sample_id\"]\n",
    ").to_numpy()[0]\n",
    "\n",
    "ss_df = pl.read_csv(\n",
    "    \"input/leap-atmospheric-physics-ai-climsim/sample_submission.csv\", n_rows=1\n",
    ")\n",
    "weight_array = ss_df.select([x for x in ss_df.columns if x != \"sample_id\"]).to_numpy()[\n",
    "    0\n",
    "]\n",
    "\n",
    "\n",
    "multi_col_pred = multi_col_sub_df[:, 1:].to_numpy()\n",
    "multi_col_pred = multi_col_pred / weight_old_array\n",
    "multi_col_pred[np.isnan(multi_col_pred)] = 0\n",
    "multi_col_pred *= weight_array\n",
    "\n",
    "multi_col_sub_df = pl.concat(\n",
    "    [\n",
    "        multi_col_sub_df.select(\"sample_id\"),\n",
    "        pl.from_numpy(multi_col_pred, schema=multi_col_sub_df.columns[1:]),\n",
    "    ],\n",
    "    how=\"horizontal\",\n",
    ")\n",
    "multi_col_sub_df"
   ]
  },
  {
   "cell_type": "code",
   "execution_count": 10,
   "id": "552daf55-8761-4899-8be3-58be8f4dff39",
   "metadata": {},
   "outputs": [],
   "source": [
    "# 重複範囲を取得\n",
    "test_df = pl.read_csv(\"input/leap-atmospheric-physics-ai-climsim/test.csv\")\n",
    "test_old_df = pl.read_csv(\"input/leap-atmospheric-physics-ai-climsim/test_old.csv\")\n",
    "tmp = test_df[:, 1::10].with_row_index(\"index\")\n",
    "tmp_old = test_old_df[:, 1::10].with_row_index(\"old_index\")\n",
    "merge_df = pd.merge(tmp.to_pandas().round(5), tmp_old.to_pandas().round(5))\n",
    "\n",
    "# 新しいテストでの重複 index\n",
    "duplicated_index = merge_df[\"index\"]\n",
    "\n",
    "# 古いテストでの重複 index\n",
    "duplicated_old_index = merge_df[\"old_index\"]"
   ]
  },
  {
   "cell_type": "code",
   "execution_count": 11,
   "id": "e4a21ec1-555e-43c7-b54c-74bb531d6f7f",
   "metadata": {},
   "outputs": [
    {
     "data": {
      "text/html": [
       "<div><style>\n",
       ".dataframe > thead > tr,\n",
       ".dataframe > tbody > tr {\n",
       "  text-align: right;\n",
       "  white-space: pre-wrap;\n",
       "}\n",
       "</style>\n",
       "<small>shape: (10, 369)</small><table border=\"1\" class=\"dataframe\"><thead><tr><th>sample_id</th><th>ptend_t_0</th><th>ptend_t_1</th><th>ptend_t_2</th><th>ptend_t_3</th><th>ptend_t_4</th><th>ptend_t_5</th><th>ptend_t_6</th><th>ptend_t_7</th><th>ptend_t_8</th><th>ptend_t_9</th><th>ptend_t_10</th><th>ptend_t_11</th><th>ptend_t_12</th><th>ptend_t_13</th><th>ptend_t_14</th><th>ptend_t_15</th><th>ptend_t_16</th><th>ptend_t_17</th><th>ptend_t_18</th><th>ptend_t_19</th><th>ptend_t_20</th><th>ptend_t_21</th><th>ptend_t_22</th><th>ptend_t_23</th><th>ptend_t_24</th><th>ptend_t_25</th><th>ptend_t_26</th><th>ptend_t_27</th><th>ptend_t_28</th><th>ptend_t_29</th><th>ptend_t_30</th><th>ptend_t_31</th><th>ptend_t_32</th><th>ptend_t_33</th><th>ptend_t_34</th><th>ptend_t_35</th><th>&hellip;</th><th>ptend_v_31</th><th>ptend_v_32</th><th>ptend_v_33</th><th>ptend_v_34</th><th>ptend_v_35</th><th>ptend_v_36</th><th>ptend_v_37</th><th>ptend_v_38</th><th>ptend_v_39</th><th>ptend_v_40</th><th>ptend_v_41</th><th>ptend_v_42</th><th>ptend_v_43</th><th>ptend_v_44</th><th>ptend_v_45</th><th>ptend_v_46</th><th>ptend_v_47</th><th>ptend_v_48</th><th>ptend_v_49</th><th>ptend_v_50</th><th>ptend_v_51</th><th>ptend_v_52</th><th>ptend_v_53</th><th>ptend_v_54</th><th>ptend_v_55</th><th>ptend_v_56</th><th>ptend_v_57</th><th>ptend_v_58</th><th>ptend_v_59</th><th>cam_out_NETSW</th><th>cam_out_FLWDS</th><th>cam_out_PRECSC</th><th>cam_out_PRECC</th><th>cam_out_SOLS</th><th>cam_out_SOLL</th><th>cam_out_SOLSD</th><th>cam_out_SOLLD</th></tr><tr><td>str</td><td>f64</td><td>f64</td><td>f64</td><td>f64</td><td>f64</td><td>f64</td><td>f64</td><td>f64</td><td>f64</td><td>f64</td><td>f64</td><td>f64</td><td>f64</td><td>f64</td><td>f64</td><td>f64</td><td>f64</td><td>f64</td><td>f64</td><td>f64</td><td>f64</td><td>f64</td><td>f64</td><td>f64</td><td>f64</td><td>f64</td><td>f64</td><td>f64</td><td>f64</td><td>f64</td><td>f64</td><td>f64</td><td>f64</td><td>f64</td><td>f64</td><td>f64</td><td>&hellip;</td><td>f64</td><td>f64</td><td>f64</td><td>f64</td><td>f64</td><td>f64</td><td>f64</td><td>f64</td><td>f64</td><td>f64</td><td>f64</td><td>f64</td><td>f64</td><td>f64</td><td>f64</td><td>f64</td><td>f64</td><td>f64</td><td>f64</td><td>f64</td><td>f64</td><td>f64</td><td>f64</td><td>f64</td><td>f64</td><td>f64</td><td>f64</td><td>f64</td><td>f64</td><td>f64</td><td>f64</td><td>f64</td><td>f64</td><td>f64</td><td>f64</td><td>f64</td><td>f64</td></tr></thead><tbody><tr><td>&quot;test_0&quot;</td><td>0.000003</td><td>-0.000065</td><td>-0.000085</td><td>-0.000086</td><td>-0.000096</td><td>-0.0001</td><td>-0.000082</td><td>-0.000064</td><td>-0.000049</td><td>-0.000041</td><td>-0.000028</td><td>-0.000018</td><td>-0.000009</td><td>-0.000004</td><td>-4.1657e-7</td><td>0.000001</td><td>0.000006</td><td>0.000004</td><td>0.000003</td><td>-0.000009</td><td>0.000009</td><td>-0.000003</td><td>-0.000012</td><td>-0.000016</td><td>-0.000015</td><td>-0.000013</td><td>-0.000016</td><td>-0.000018</td><td>-0.000023</td><td>-0.000031</td><td>-0.000037</td><td>-0.000032</td><td>-0.000023</td><td>-0.000018</td><td>-0.000017</td><td>-0.000015</td><td>&hellip;</td><td>9.3603e-7</td><td>0.000002</td><td>-4.3578e-7</td><td>-0.000002</td><td>-0.000001</td><td>-6.4969e-7</td><td>-8.2227e-7</td><td>-0.000003</td><td>-7.8813e-7</td><td>-5.8951e-7</td><td>1.9074e-7</td><td>-0.000003</td><td>0.000006</td><td>0.000001</td><td>0.000002</td><td>-0.000005</td><td>-0.000006</td><td>-0.000026</td><td>-0.000048</td><td>-0.000048</td><td>-0.000018</td><td>0.000038</td><td>0.000043</td><td>0.000042</td><td>0.000022</td><td>0.000012</td><td>0.000009</td><td>0.000008</td><td>4.1996e-7</td><td>-0.136167</td><td>402.35946</td><td>4.6684e-11</td><td>4.1327e-10</td><td>-0.033577</td><td>-0.049489</td><td>0.09329</td><td>0.212398</td></tr><tr><td>&quot;test_10&quot;</td><td>-0.000015</td><td>-0.00005</td><td>-0.000034</td><td>-0.000052</td><td>-0.00009</td><td>-0.000133</td><td>-0.000142</td><td>-0.000097</td><td>-0.000046</td><td>-0.000026</td><td>-0.000018</td><td>-0.000014</td><td>-0.000011</td><td>-0.000009</td><td>-0.000007</td><td>-0.000005</td><td>-0.000004</td><td>-0.000004</td><td>-0.000002</td><td>-0.000004</td><td>-0.000004</td><td>-0.000008</td><td>-0.000008</td><td>-0.000009</td><td>-0.000008</td><td>-0.000011</td><td>-0.000013</td><td>-0.000017</td><td>-0.00002</td><td>-0.000018</td><td>-0.00002</td><td>-0.000019</td><td>-0.000015</td><td>-0.000007</td><td>-0.000002</td><td>0.000003</td><td>&hellip;</td><td>-4.8681e-7</td><td>-3.7356e-7</td><td>2.0193e-7</td><td>4.7321e-7</td><td>3.4525e-7</td><td>2.1168e-7</td><td>1.7050e-7</td><td>6.5687e-8</td><td>2.0065e-8</td><td>2.7567e-9</td><td>1.3472e-7</td><td>-8.9901e-7</td><td>4.5322e-7</td><td>-3.2823e-7</td><td>0.000001</td><td>-4.6198e-9</td><td>-5.7225e-7</td><td>-0.000002</td><td>-0.000002</td><td>-0.000002</td><td>-0.000002</td><td>-0.000001</td><td>-1.4282e-7</td><td>9.2288e-7</td><td>0.000002</td><td>0.000001</td><td>8.3161e-7</td><td>-0.000002</td><td>0.000004</td><td>-0.027761</td><td>345.154827</td><td>2.5575e-11</td><td>-5.9339e-10</td><td>-0.316943</td><td>-0.456919</td><td>0.0302</td><td>0.172592</td></tr><tr><td>&quot;test_100&quot;</td><td>-0.000007</td><td>-0.00008</td><td>-0.000033</td><td>-0.000028</td><td>-0.000073</td><td>-0.000096</td><td>-0.000079</td><td>-0.000053</td><td>-0.00003</td><td>-0.000021</td><td>-0.000017</td><td>-0.000014</td><td>-0.000012</td><td>-0.00001</td><td>-0.000007</td><td>-0.000005</td><td>-0.000004</td><td>-0.000005</td><td>0.000004</td><td>-0.000009</td><td>-0.000004</td><td>-0.000007</td><td>-0.000006</td><td>-0.000006</td><td>-0.000004</td><td>-0.000003</td><td>-0.000006</td><td>-0.000006</td><td>-0.000007</td><td>-0.000011</td><td>-0.000015</td><td>-0.000019</td><td>-0.000022</td><td>-0.000022</td><td>-0.000024</td><td>-0.000024</td><td>&hellip;</td><td>-0.000002</td><td>-0.000002</td><td>-7.8204e-7</td><td>2.2820e-7</td><td>8.2554e-7</td><td>0.000001</td><td>8.8598e-7</td><td>8.5306e-7</td><td>6.2661e-7</td><td>3.6903e-7</td><td>1.7289e-8</td><td>-4.6920e-7</td><td>-1.9907e-7</td><td>0.000002</td><td>3.3318e-7</td><td>-0.000001</td><td>-7.2683e-7</td><td>-0.000004</td><td>-0.00001</td><td>-0.00002</td><td>-0.000023</td><td>0.000009</td><td>0.00001</td><td>0.000014</td><td>0.00001</td><td>0.000004</td><td>0.000004</td><td>0.000004</td><td>0.000012</td><td>2.065205</td><td>331.870707</td><td>3.9388e-12</td><td>6.2842e-10</td><td>0.947471</td><td>0.65194</td><td>0.288081</td><td>0.205645</td></tr><tr><td>&quot;test_1000&quot;</td><td>0.000026</td><td>0.000007</td><td>0.000033</td><td>0.000026</td><td>-0.000013</td><td>-0.000057</td><td>-0.000047</td><td>-0.000021</td><td>-0.000008</td><td>-0.000003</td><td>-0.000001</td><td>-6.6297e-7</td><td>-3.7065e-7</td><td>0.000002</td><td>0.000003</td><td>0.000005</td><td>0.000006</td><td>0.000004</td><td>1.3132e-7</td><td>7.6130e-7</td><td>-4.3587e-7</td><td>-0.000002</td><td>-0.00001</td><td>-0.000019</td><td>-0.000017</td><td>-0.000014</td><td>-0.000014</td><td>-0.000017</td><td>-0.000021</td><td>-0.000023</td><td>-0.000021</td><td>-0.00002</td><td>-0.000018</td><td>-0.000017</td><td>-0.000016</td><td>-0.000017</td><td>&hellip;</td><td>2.6728e-8</td><td>-4.6045e-8</td><td>6.6996e-7</td><td>-0.000001</td><td>8.5986e-8</td><td>0.000001</td><td>-0.000001</td><td>1.5021e-7</td><td>-9.4691e-7</td><td>3.3675e-7</td><td>-0.000005</td><td>0.000007</td><td>0.000003</td><td>0.000005</td><td>0.000007</td><td>0.000007</td><td>0.000007</td><td>0.00001</td><td>0.00001</td><td>0.000008</td><td>0.000006</td><td>0.000004</td><td>9.9584e-7</td><td>-0.000006</td><td>-0.000012</td><td>-0.000022</td><td>-0.000039</td><td>-0.000046</td><td>0.000025</td><td>2.73912</td><td>361.004821</td><td>-3.4882e-12</td><td>-7.1884e-10</td><td>-2.280668</td><td>2.305229</td><td>1.976705</td><td>-0.310764</td></tr><tr><td>&quot;test_10000&quot;</td><td>0.000048</td><td>0.000026</td><td>0.000045</td><td>0.000086</td><td>0.000127</td><td>0.000175</td><td>0.000188</td><td>0.000148</td><td>0.000089</td><td>0.000064</td><td>0.000046</td><td>0.000036</td><td>0.000029</td><td>0.00002</td><td>0.000014</td><td>0.000012</td><td>0.000011</td><td>0.00001</td><td>0.000008</td><td>0.000006</td><td>0.000003</td><td>-1.1089e-7</td><td>-0.000003</td><td>-0.000006</td><td>-0.00001</td><td>-0.000012</td><td>-0.000008</td><td>-0.000006</td><td>-0.000005</td><td>-0.000004</td><td>-0.000004</td><td>-0.000004</td><td>-0.000004</td><td>-0.000003</td><td>0.000002</td><td>0.000002</td><td>&hellip;</td><td>2.1942e-8</td><td>9.0835e-9</td><td>1.2533e-8</td><td>7.1560e-9</td><td>2.7984e-8</td><td>1.6180e-8</td><td>-1.7384e-8</td><td>2.7839e-8</td><td>-1.0827e-7</td><td>1.2593e-7</td><td>-7.0349e-8</td><td>2.6809e-8</td><td>-7.4153e-8</td><td>-2.0619e-7</td><td>1.2592e-7</td><td>6.6115e-9</td><td>-2.0495e-7</td><td>2.4834e-7</td><td>-4.8647e-9</td><td>-1.6581e-8</td><td>3.5178e-8</td><td>1.3987e-7</td><td>-1.2053e-7</td><td>-1.6337e-7</td><td>-2.0883e-7</td><td>8.2948e-7</td><td>-4.1533e-8</td><td>6.7766e-7</td><td>-9.4207e-7</td><td>921.564771</td><td>381.232881</td><td>3.8690e-11</td><td>-3.9947e-10</td><td>446.291565</td><td>452.6363</td><td>48.597155</td><td>2.662356</td></tr><tr><td>&quot;test_100000&quot;</td><td>-0.000001</td><td>-0.000034</td><td>-0.00005</td><td>-0.000076</td><td>-0.000101</td><td>-0.000098</td><td>-0.000075</td><td>-0.000058</td><td>-0.000041</td><td>-0.000034</td><td>-0.000027</td><td>-0.000021</td><td>-0.000016</td><td>-0.000011</td><td>-0.000006</td><td>-0.000003</td><td>2.2540e-7</td><td>0.000003</td><td>-0.000005</td><td>0.000002</td><td>6.8898e-7</td><td>-0.000003</td><td>-0.000005</td><td>-0.000007</td><td>-0.00001</td><td>-0.00001</td><td>-0.00001</td><td>-0.000011</td><td>-0.000012</td><td>-0.000013</td><td>-0.000014</td><td>-0.000026</td><td>-0.000033</td><td>-0.000035</td><td>-0.000028</td><td>-0.000018</td><td>&hellip;</td><td>-5.5390e-7</td><td>-3.6888e-7</td><td>-1.4969e-7</td><td>-4.7143e-9</td><td>-8.4100e-8</td><td>-5.5268e-8</td><td>-7.9352e-8</td><td>-2.4143e-7</td><td>-2.5659e-7</td><td>-3.6757e-7</td><td>-3.3415e-7</td><td>-0.000001</td><td>-6.0300e-7</td><td>5.8178e-7</td><td>5.3535e-7</td><td>-0.000016</td><td>-0.000032</td><td>-0.000024</td><td>0.000013</td><td>0.000024</td><td>0.00002</td><td>0.000012</td><td>0.000012</td><td>0.000003</td><td>0.000005</td><td>0.000004</td><td>0.000004</td><td>7.8369e-7</td><td>0.000005</td><td>2.276524</td><td>291.076487</td><td>-2.5073e-11</td><td>-7.5483e-11</td><td>0.721714</td><td>0.250053</td><td>0.064561</td><td>0.131598</td></tr><tr><td>&quot;test_100001&quot;</td><td>0.00004</td><td>0.000023</td><td>0.00005</td><td>0.000067</td><td>0.000076</td><td>0.000059</td><td>0.000033</td><td>0.000021</td><td>0.000013</td><td>0.000016</td><td>0.00002</td><td>0.000017</td><td>0.000011</td><td>0.000008</td><td>0.000007</td><td>0.000004</td><td>0.000009</td><td>0.000012</td><td>0.000004</td><td>0.000004</td><td>-2.4954e-7</td><td>-0.000002</td><td>-0.000005</td><td>-0.000011</td><td>-0.000017</td><td>-0.000017</td><td>-0.000016</td><td>-0.000015</td><td>-0.000012</td><td>-0.000008</td><td>-0.000007</td><td>-0.000007</td><td>-0.000009</td><td>-0.000012</td><td>-0.000016</td><td>-0.000027</td><td>&hellip;</td><td>6.2563e-9</td><td>-3.1570e-8</td><td>-8.5312e-8</td><td>-4.9512e-8</td><td>-4.0147e-9</td><td>-2.4613e-10</td><td>1.8261e-7</td><td>-2.8862e-7</td><td>-7.9416e-8</td><td>2.3859e-8</td><td>-2.5172e-8</td><td>-1.9310e-7</td><td>6.9938e-7</td><td>-4.0218e-7</td><td>3.1347e-8</td><td>2.7174e-7</td><td>-4.7641e-7</td><td>-3.1372e-7</td><td>-2.9927e-7</td><td>-1.6141e-7</td><td>1.8495e-7</td><td>2.4546e-7</td><td>-0.000001</td><td>0.000002</td><td>-3.0680e-8</td><td>-6.0719e-9</td><td>4.2591e-7</td><td>6.1545e-7</td><td>-0.000001</td><td>263.125003</td><td>423.847457</td><td>1.7808e-11</td><td>4.5399e-10</td><td>120.42653</td><td>136.496654</td><td>37.297225</td><td>3.881723</td></tr><tr><td>&quot;test_100003&quot;</td><td>0.000043</td><td>0.000037</td><td>0.000069</td><td>0.000098</td><td>0.000133</td><td>0.000167</td><td>0.000157</td><td>0.000119</td><td>0.000073</td><td>0.000047</td><td>0.000033</td><td>0.000027</td><td>0.000023</td><td>0.000019</td><td>0.000014</td><td>0.000012</td><td>0.000009</td><td>0.000009</td><td>0.000007</td><td>9.3404e-7</td><td>0.000007</td><td>0.000003</td><td>0.000001</td><td>-0.000002</td><td>-0.000007</td><td>-0.000015</td><td>-0.000013</td><td>-0.00001</td><td>-0.000011</td><td>-0.000011</td><td>-0.000014</td><td>-0.00002</td><td>-0.000021</td><td>-0.000013</td><td>-0.000008</td><td>-0.000007</td><td>&hellip;</td><td>4.0719e-7</td><td>0.000002</td><td>0.000001</td><td>-0.000001</td><td>-0.000001</td><td>-4.9722e-7</td><td>-2.9029e-7</td><td>0.000002</td><td>-0.000003</td><td>1.6033e-7</td><td>-8.7853e-8</td><td>-9.7619e-8</td><td>3.0463e-7</td><td>0.000003</td><td>-0.000001</td><td>-8.8314e-7</td><td>-2.5318e-7</td><td>0.000003</td><td>0.000003</td><td>0.000006</td><td>0.000007</td><td>0.000005</td><td>0.000002</td><td>-0.000009</td><td>-0.000009</td><td>-0.000004</td><td>-0.000003</td><td>-0.000003</td><td>-7.3813e-7</td><td>585.260323</td><td>353.037206</td><td>-2.5920e-11</td><td>-1.6297e-10</td><td>238.938121</td><td>261.800286</td><td>77.985735</td><td>35.048268</td></tr><tr><td>&quot;test_100004&quot;</td><td>0.000029</td><td>0.000056</td><td>0.00008</td><td>0.00009</td><td>0.000111</td><td>0.000114</td><td>0.000072</td><td>0.000043</td><td>0.000031</td><td>0.00003</td><td>0.000026</td><td>0.000019</td><td>0.000011</td><td>0.000006</td><td>0.000004</td><td>0.000004</td><td>0.000007</td><td>0.000011</td><td>0.000013</td><td>0.000003</td><td>0.000003</td><td>-0.000003</td><td>-0.000012</td><td>5.8860e-7</td><td>0.000005</td><td>0.000004</td><td>0.000016</td><td>0.00003</td><td>0.000055</td><td>0.000071</td><td>0.000076</td><td>0.000056</td><td>0.000055</td><td>0.000061</td><td>0.000055</td><td>0.000024</td><td>&hellip;</td><td>-6.3461e-7</td><td>6.1100e-7</td><td>4.5689e-7</td><td>-0.000002</td><td>-0.000003</td><td>-0.000006</td><td>-0.000004</td><td>-0.000005</td><td>-0.000003</td><td>0.000001</td><td>0.000005</td><td>0.000009</td><td>0.000019</td><td>0.000006</td><td>0.000008</td><td>0.000009</td><td>0.000011</td><td>0.000015</td><td>0.000019</td><td>0.000022</td><td>0.00001</td><td>-0.000006</td><td>-0.000026</td><td>-0.000102</td><td>-0.000078</td><td>-0.00005</td><td>0.00003</td><td>-0.000001</td><td>0.000074</td><td>105.977839</td><td>454.448587</td><td>3.0183e-11</td><td>4.8694e-8</td><td>9.871578</td><td>8.654776</td><td>61.982297</td><td>37.635536</td></tr><tr><td>&quot;test_100005&quot;</td><td>0.000003</td><td>-0.000066</td><td>-0.000103</td><td>-0.000118</td><td>-0.00012</td><td>-0.000094</td><td>-0.000058</td><td>-0.000038</td><td>-0.000024</td><td>-0.000017</td><td>-0.000014</td><td>-0.000012</td><td>-0.000011</td><td>-0.00001</td><td>-0.000009</td><td>-0.000007</td><td>-0.000007</td><td>-0.000006</td><td>-0.000004</td><td>-0.000005</td><td>-0.000004</td><td>-0.000004</td><td>-0.000005</td><td>-0.000006</td><td>-0.000007</td><td>-0.000007</td><td>-0.000008</td><td>-0.000008</td><td>-0.000008</td><td>-0.000008</td><td>-0.000011</td><td>-0.000012</td><td>-0.000014</td><td>-0.000017</td><td>-0.00002</td><td>-0.00002</td><td>&hellip;</td><td>1.0540e-7</td><td>1.9386e-8</td><td>-4.8457e-8</td><td>-6.5214e-8</td><td>-2.0637e-8</td><td>-1.2484e-8</td><td>2.1094e-8</td><td>3.6394e-8</td><td>2.2775e-8</td><td>5.6850e-8</td><td>1.2272e-7</td><td>1.6301e-7</td><td>1.2579e-7</td><td>2.0244e-7</td><td>3.5480e-7</td><td>3.6567e-7</td><td>8.7895e-7</td><td>0.000001</td><td>9.8554e-7</td><td>-0.000001</td><td>-0.000011</td><td>-0.000034</td><td>-0.000073</td><td>-0.000037</td><td>-0.000035</td><td>0.000054</td><td>0.000056</td><td>0.000027</td><td>0.000039</td><td>-0.544847</td><td>308.750952</td><td>5.6440e-9</td><td>1.0802e-8</td><td>0.354453</td><td>0.100418</td><td>0.178121</td><td>-0.098509</td></tr></tbody></table></div>"
      ],
      "text/plain": [
       "shape: (10, 369)\n",
       "┌───────────┬───────────┬───────────┬───────────┬───┬───────────┬───────────┬───────────┬──────────┐\n",
       "│ sample_id ┆ ptend_t_0 ┆ ptend_t_1 ┆ ptend_t_2 ┆ … ┆ cam_out_S ┆ cam_out_S ┆ cam_out_S ┆ cam_out_ │\n",
       "│ ---       ┆ ---       ┆ ---       ┆ ---       ┆   ┆ OLS       ┆ OLL       ┆ OLSD      ┆ SOLLD    │\n",
       "│ str       ┆ f64       ┆ f64       ┆ f64       ┆   ┆ ---       ┆ ---       ┆ ---       ┆ ---      │\n",
       "│           ┆           ┆           ┆           ┆   ┆ f64       ┆ f64       ┆ f64       ┆ f64      │\n",
       "╞═══════════╪═══════════╪═══════════╪═══════════╪═══╪═══════════╪═══════════╪═══════════╪══════════╡\n",
       "│ test_0    ┆ 0.000003  ┆ -0.000065 ┆ -0.000085 ┆ … ┆ -0.033577 ┆ -0.049489 ┆ 0.09329   ┆ 0.212398 │\n",
       "│ test_10   ┆ -0.000015 ┆ -0.00005  ┆ -0.000034 ┆ … ┆ -0.316943 ┆ -0.456919 ┆ 0.0302    ┆ 0.172592 │\n",
       "│ test_100  ┆ -0.000007 ┆ -0.00008  ┆ -0.000033 ┆ … ┆ 0.947471  ┆ 0.65194   ┆ 0.288081  ┆ 0.205645 │\n",
       "│ test_1000 ┆ 0.000026  ┆ 0.000007  ┆ 0.000033  ┆ … ┆ -2.280668 ┆ 2.305229  ┆ 1.976705  ┆ -0.31076 │\n",
       "│           ┆           ┆           ┆           ┆   ┆           ┆           ┆           ┆ 4        │\n",
       "│ test_1000 ┆ 0.000048  ┆ 0.000026  ┆ 0.000045  ┆ … ┆ 446.29156 ┆ 452.6363  ┆ 48.597155 ┆ 2.662356 │\n",
       "│ 0         ┆           ┆           ┆           ┆   ┆ 5         ┆           ┆           ┆          │\n",
       "│ test_1000 ┆ -0.000001 ┆ -0.000034 ┆ -0.00005  ┆ … ┆ 0.721714  ┆ 0.250053  ┆ 0.064561  ┆ 0.131598 │\n",
       "│ 00        ┆           ┆           ┆           ┆   ┆           ┆           ┆           ┆          │\n",
       "│ test_1000 ┆ 0.00004   ┆ 0.000023  ┆ 0.00005   ┆ … ┆ 120.42653 ┆ 136.49665 ┆ 37.297225 ┆ 3.881723 │\n",
       "│ 01        ┆           ┆           ┆           ┆   ┆           ┆ 4         ┆           ┆          │\n",
       "│ test_1000 ┆ 0.000043  ┆ 0.000037  ┆ 0.000069  ┆ … ┆ 238.93812 ┆ 261.80028 ┆ 77.985735 ┆ 35.04826 │\n",
       "│ 03        ┆           ┆           ┆           ┆   ┆ 1         ┆ 6         ┆           ┆ 8        │\n",
       "│ test_1000 ┆ 0.000029  ┆ 0.000056  ┆ 0.00008   ┆ … ┆ 9.871578  ┆ 8.654776  ┆ 61.982297 ┆ 37.63553 │\n",
       "│ 04        ┆           ┆           ┆           ┆   ┆           ┆           ┆           ┆ 6        │\n",
       "│ test_1000 ┆ 0.000003  ┆ -0.000066 ┆ -0.000103 ┆ … ┆ 0.354453  ┆ 0.100418  ┆ 0.178121  ┆ -0.09850 │\n",
       "│ 05        ┆           ┆           ┆           ┆   ┆           ┆           ┆           ┆ 9        │\n",
       "└───────────┴───────────┴───────────┴───────────┴───┴───────────┴───────────┴───────────┴──────────┘"
      ]
     },
     "execution_count": 11,
     "metadata": {},
     "output_type": "execute_result"
    }
   ],
   "source": [
    "# 予測値を置き換える\n",
    "\n",
    "sub_pred = base_sub_df[:, 1:].to_numpy()\n",
    "multi_col_sub_pred = multi_col_sub_df[:, 1:].to_numpy()\n",
    "sub_pred[duplicated_index, :] = multi_col_sub_pred[duplicated_old_index, :]\n",
    "\n",
    "\n",
    "fill_sub_df = pl.concat(\n",
    "    [\n",
    "        test_df.select(\"sample_id\"),\n",
    "        pl.from_numpy(sub_pred, schema=base_sub_df.columns[1:]),\n",
    "    ],\n",
    "    how=\"horizontal\",\n",
    ")\n",
    "fill_sub_df.head(10)"
   ]
  },
  {
   "cell_type": "code",
   "execution_count": 12,
   "id": "7227ff6e-ebef-496d-aad4-fc18cbd1e7ad",
   "metadata": {},
   "outputs": [],
   "source": [
    "# 最終的に提出したいもの\n",
    "fill_sub_df.write_parquet(\"output/fill_lb078544_fill_lb080254_sub.parquet\")"
   ]
  },
  {
   "cell_type": "code",
   "execution_count": 13,
   "id": "775aedfa-bc34-4655-9e79-1c34631e94c1",
   "metadata": {},
   "outputs": [
    {
     "name": "stdout",
     "output_type": "stream",
     "text": [
      "(625000, 369)\n"
     ]
    },
    {
     "data": {
      "text/html": [
       "<div><style>\n",
       ".dataframe > thead > tr,\n",
       ".dataframe > tbody > tr {\n",
       "  text-align: right;\n",
       "  white-space: pre-wrap;\n",
       "}\n",
       "</style>\n",
       "<small>shape: (5, 30)</small><table border=\"1\" class=\"dataframe\"><thead><tr><th>ptend_q0001_59</th><th>ptend_q0002_0</th><th>ptend_q0002_1</th><th>ptend_q0002_2</th><th>ptend_q0002_3</th><th>ptend_q0002_4</th><th>ptend_q0002_5</th><th>ptend_q0002_6</th><th>ptend_q0002_7</th><th>ptend_q0002_8</th><th>ptend_q0002_9</th><th>ptend_q0002_10</th><th>ptend_q0002_11</th><th>ptend_q0002_12</th><th>ptend_q0002_13</th><th>ptend_q0002_14</th><th>ptend_q0002_15</th><th>ptend_q0002_16</th><th>ptend_q0002_17</th><th>ptend_q0002_18</th><th>ptend_q0002_19</th><th>ptend_q0002_20</th><th>ptend_q0002_21</th><th>ptend_q0002_22</th><th>ptend_q0002_23</th><th>ptend_q0002_24</th><th>ptend_q0002_25</th><th>ptend_q0002_26</th><th>ptend_q0002_27</th><th>ptend_q0002_28</th></tr><tr><td>f64</td><td>f64</td><td>f64</td><td>f64</td><td>f64</td><td>f64</td><td>f64</td><td>f64</td><td>f64</td><td>f64</td><td>f64</td><td>f64</td><td>f64</td><td>f64</td><td>f64</td><td>f64</td><td>f64</td><td>f64</td><td>f64</td><td>f64</td><td>f64</td><td>f64</td><td>f64</td><td>f64</td><td>f64</td><td>f64</td><td>f64</td><td>f64</td><td>f64</td><td>f64</td></tr></thead><tbody><tr><td>-3.6495e-8</td><td>0.0</td><td>0.0</td><td>0.0</td><td>0.0</td><td>0.0</td><td>0.0</td><td>0.0</td><td>0.0</td><td>0.0</td><td>0.0</td><td>0.0</td><td>0.0</td><td>0.0</td><td>0.0</td><td>0.0</td><td>0.0</td><td>0.0</td><td>0.0</td><td>0.0</td><td>0.0</td><td>0.0</td><td>0.0</td><td>0.0</td><td>-3.5384e-52</td><td>-1.1441e-50</td><td>-3.8119e-46</td><td>0.0</td><td>0.0</td><td>-3.1695e-14</td></tr><tr><td>2.8797e-10</td><td>0.0</td><td>0.0</td><td>0.0</td><td>0.0</td><td>0.0</td><td>0.0</td><td>0.0</td><td>0.0</td><td>0.0</td><td>0.0</td><td>0.0</td><td>0.0</td><td>0.0</td><td>0.0</td><td>0.0</td><td>0.0</td><td>0.0</td><td>0.0</td><td>0.0</td><td>0.0</td><td>0.0</td><td>0.0</td><td>0.0</td><td>0.0</td><td>0.0</td><td>-4.7835e-38</td><td>-1.1512e-34</td><td>0.0</td><td>-1.5774e-13</td></tr><tr><td>-1.6525e-8</td><td>0.0</td><td>0.0</td><td>0.0</td><td>0.0</td><td>0.0</td><td>0.0</td><td>0.0</td><td>0.0</td><td>0.0</td><td>0.0</td><td>0.0</td><td>0.0</td><td>0.0</td><td>0.0</td><td>0.0</td><td>0.0</td><td>0.0</td><td>0.0</td><td>0.0</td><td>0.0</td><td>0.0</td><td>0.0</td><td>-4.6324e-55</td><td>-4.9586e-50</td><td>-1.7488e-45</td><td>-3.0572e-41</td><td>-1.6994e-36</td><td>-4.7132e-32</td><td>-5.3210e-14</td></tr><tr><td>-7.1831e-8</td><td>0.0</td><td>0.0</td><td>0.0</td><td>0.0</td><td>0.0</td><td>0.0</td><td>0.0</td><td>0.0</td><td>0.0</td><td>0.0</td><td>0.0</td><td>0.0</td><td>0.0</td><td>0.0</td><td>0.0</td><td>0.0</td><td>0.0</td><td>0.0</td><td>0.0</td><td>0.0</td><td>0.0</td><td>0.0</td><td>0.0</td><td>0.0</td><td>0.0</td><td>0.0</td><td>-2.2260e-33</td><td>-1.4761e-28</td><td>1.1855e-13</td></tr><tr><td>-6.1449e-10</td><td>0.0</td><td>0.0</td><td>0.0</td><td>0.0</td><td>0.0</td><td>0.0</td><td>0.0</td><td>0.0</td><td>0.0</td><td>0.0</td><td>0.0</td><td>0.0</td><td>0.0</td><td>0.0</td><td>0.0</td><td>0.0</td><td>0.0</td><td>0.0</td><td>0.0</td><td>0.0</td><td>0.0</td><td>0.0</td><td>-1.3233e-46</td><td>-1.0059e-41</td><td>-4.6097e-37</td><td>-1.4812e-32</td><td>-4.3854e-28</td><td>-1.1530e-23</td><td>-3.5388e-14</td></tr></tbody></table></div>"
      ],
      "text/plain": [
       "shape: (5, 30)\n",
       "┌───────────┬───────────┬───────────┬───────────┬───┬───────────┬───────────┬───────────┬──────────┐\n",
       "│ ptend_q00 ┆ ptend_q00 ┆ ptend_q00 ┆ ptend_q00 ┆ … ┆ ptend_q00 ┆ ptend_q00 ┆ ptend_q00 ┆ ptend_q0 │\n",
       "│ 01_59     ┆ 02_0      ┆ 02_1      ┆ 02_2      ┆   ┆ 02_25     ┆ 02_26     ┆ 02_27     ┆ 002_28   │\n",
       "│ ---       ┆ ---       ┆ ---       ┆ ---       ┆   ┆ ---       ┆ ---       ┆ ---       ┆ ---      │\n",
       "│ f64       ┆ f64       ┆ f64       ┆ f64       ┆   ┆ f64       ┆ f64       ┆ f64       ┆ f64      │\n",
       "╞═══════════╪═══════════╪═══════════╪═══════════╪═══╪═══════════╪═══════════╪═══════════╪══════════╡\n",
       "│ -3.6495e- ┆ 0.0       ┆ 0.0       ┆ 0.0       ┆ … ┆ -3.8119e- ┆ 0.0       ┆ 0.0       ┆ -3.1695e │\n",
       "│ 8         ┆           ┆           ┆           ┆   ┆ 46        ┆           ┆           ┆ -14      │\n",
       "│ 2.8797e-1 ┆ 0.0       ┆ 0.0       ┆ 0.0       ┆ … ┆ -4.7835e- ┆ -1.1512e- ┆ 0.0       ┆ -1.5774e │\n",
       "│ 0         ┆           ┆           ┆           ┆   ┆ 38        ┆ 34        ┆           ┆ -13      │\n",
       "│ -1.6525e- ┆ 0.0       ┆ 0.0       ┆ 0.0       ┆ … ┆ -3.0572e- ┆ -1.6994e- ┆ -4.7132e- ┆ -5.3210e │\n",
       "│ 8         ┆           ┆           ┆           ┆   ┆ 41        ┆ 36        ┆ 32        ┆ -14      │\n",
       "│ -7.1831e- ┆ 0.0       ┆ 0.0       ┆ 0.0       ┆ … ┆ 0.0       ┆ -2.2260e- ┆ -1.4761e- ┆ 1.1855e- │\n",
       "│ 8         ┆           ┆           ┆           ┆   ┆           ┆ 33        ┆ 28        ┆ 13       │\n",
       "│ -6.1449e- ┆ 0.0       ┆ 0.0       ┆ 0.0       ┆ … ┆ -1.4812e- ┆ -4.3854e- ┆ -1.1530e- ┆ -3.5388e │\n",
       "│ 10        ┆           ┆           ┆           ┆   ┆ 32        ┆ 28        ┆ 23        ┆ -14      │\n",
       "└───────────┴───────────┴───────────┴───────────┴───┴───────────┴───────────┴───────────┴──────────┘"
      ]
     },
     "execution_count": 13,
     "metadata": {},
     "output_type": "execute_result"
    }
   ],
   "source": [
    "# hide\n",
    "hide_fill_sub_df = hide_submission(fill_sub_df)\n",
    "print(hide_fill_sub_df.shape)\n",
    "hide_fill_sub_df[:, 120:150].head()"
   ]
  },
  {
   "cell_type": "code",
   "execution_count": 14,
   "id": "102f7878-92a6-4fa7-95eb-b7aa391d6210",
   "metadata": {},
   "outputs": [],
   "source": [
    "hide_fill_sub_df.write_parquet(\"output/hide_lb078544_fill_lb080254_sub.parquet\")"
   ]
  },
  {
   "cell_type": "code",
   "execution_count": null,
   "id": "563cb9cb-6569-40f1-b325-fae5803ecaa6",
   "metadata": {},
   "outputs": [],
   "source": []
  },
  {
   "cell_type": "code",
   "execution_count": 16,
   "id": "febf2e09-50f3-418f-b027-edbc6092c5a1",
   "metadata": {},
   "outputs": [
    {
     "name": "stdout",
     "output_type": "stream",
     "text": [
      "r2_score=0.9958345362558741\n"
     ]
    }
   ],
   "source": [
    "# 埋める前後でスコアが大きく変わらないかをチェック\n",
    "preds = hide_base_sub_df[:, 1:].to_numpy()\n",
    "labels = hide_fill_sub_df[:, 1:].to_numpy()\n",
    "_predict_df = pd.DataFrame(\n",
    "    preds * weight_array, columns=[i for i in range(preds.shape[1])]\n",
    ").reset_index()\n",
    "_label_df = pd.DataFrame(\n",
    "    labels * weight_array, columns=[i for i in range(labels.shape[1])]\n",
    ").reset_index()\n",
    "r2_scores = score(_label_df, _predict_df, \"index\", multioutput=\"raw_values\")\n",
    "\n",
    "r2_score = float(np.array(r2_scores).mean())\n",
    "print(f\"{r2_score=}\")"
   ]
  },
  {
   "cell_type": "code",
   "execution_count": null,
   "id": "3ce7d038-e59c-4311-933e-ad6be4c5a935",
   "metadata": {},
   "outputs": [],
   "source": []
  },
  {
   "cell_type": "markdown",
   "id": "1eeac46e-87bb-4fc1-8b4d-9b0bbbeb96b7",
   "metadata": {},
   "source": [
    "## validationから定数埋めでどれだけスコアが下がりそうか確認"
   ]
  },
  {
   "cell_type": "code",
   "execution_count": null,
   "id": "49975fae-bc7f-4fc8-8c59-bad4814d2987",
   "metadata": {},
   "outputs": [],
   "source": [
    "config_dir = \"../experiments\"\n",
    "exp_name = \"201_unet_multi/all\""
   ]
  },
  {
   "cell_type": "code",
   "execution_count": 4,
   "id": "130b4dc6-59a2-4979-885f-e9bfa47df9e5",
   "metadata": {},
   "outputs": [
    {
     "name": "stdout",
     "output_type": "stream",
     "text": [
      "/kaggle/working\n",
      "r2:  0.7815333871933391\n"
     ]
    }
   ],
   "source": [
    "with initialize(\n",
    "    version_base=None, config_path=f\"{config_dir}/{exp_name.split('/')[0]}\"\n",
    "):\n",
    "    cfg = compose(\n",
    "        config_name=\"config.yaml\",\n",
    "        overrides=[f\"exp={exp_name.split('/')[-1]}\"],\n",
    "        return_hydra_config=True,\n",
    "    )\n",
    "\n",
    "# 定数定義\n",
    "output_dir = Path(f\"output/experiments/{exp_name}\")\n",
    "gcs_path = f\"gs://{cfg.dir.gcs_bucket}/{cfg.dir.gcs_base_dir}/experiments/{exp_name}/\"\n",
    "\n",
    "# 結果などの読み込み\n",
    "r2_score_dict = pickle.load(open(output_dir / \"val2_r2_score_dict.pkl\", \"rb\"))\n",
    "print(\"r2: \", np.mean(list(r2_score_dict.values())))"
   ]
  },
  {
   "cell_type": "code",
   "execution_count": 5,
   "id": "cd1e75d1-454f-4c4b-b9bd-f18fb9bdaf97",
   "metadata": {},
   "outputs": [],
   "source": [
    "predict_df = pl.read_parquet(gcs_path + \"val2_predict.parquet\", retries=5)\n",
    "label_df = pl.read_parquet(gcs_path + \"val2_label.parquet\", retries=5)\n",
    "ss_df = pl.read_csv(\n",
    "    \"input/leap-atmospheric-physics-ai-climsim/sample_submission.csv\", n_rows=1\n",
    ")\n",
    "weight_array = ss_df.select([x for x in ss_df.columns if x != \"sample_id\"]).to_numpy()[\n",
    "    0\n",
    "]"
   ]
  },
  {
   "cell_type": "code",
   "execution_count": 41,
   "id": "89ea941a-4d21-479a-8c28-7ffd1148ee87",
   "metadata": {},
   "outputs": [
    {
     "name": "stdout",
     "output_type": "stream",
     "text": [
      "r2_score=0.7815333871933391\n"
     ]
    }
   ],
   "source": [
    "# 通常\n",
    "preds = predict_df[:, 1:].to_numpy()\n",
    "labels = label_df[:, 1:].to_numpy()\n",
    "_predict_df = pd.DataFrame(\n",
    "    preds * weight_array, columns=[i for i in range(preds.shape[1])]\n",
    ").reset_index()\n",
    "_label_df = pd.DataFrame(\n",
    "    labels * weight_array, columns=[i for i in range(labels.shape[1])]\n",
    ").reset_index()\n",
    "r2_scores = score(_label_df, _predict_df, \"index\", multioutput=\"raw_values\")\n",
    "\n",
    "r2_score = float(np.array(r2_scores).mean())\n",
    "print(f\"{r2_score=}\")"
   ]
  },
  {
   "cell_type": "code",
   "execution_count": 42,
   "id": "a25616c1-a91e-46f7-820d-cd262193e734",
   "metadata": {},
   "outputs": [
    {
     "data": {
      "text/plain": [
       "array([1., 1., 1., 1., 1., 1., 1., 1., 1., 1.])"
      ]
     },
     "execution_count": 42,
     "metadata": {},
     "output_type": "execute_result"
    }
   ],
   "source": [
    "r2_scores[132:142]"
   ]
  },
  {
   "cell_type": "code",
   "execution_count": 44,
   "id": "1a82fb1e-1557-4a32-a29a-d41cdbbf4047",
   "metadata": {},
   "outputs": [
    {
     "name": "stdout",
     "output_type": "stream",
     "text": [
      "r2_score=0.7538482690839238\n"
     ]
    }
   ],
   "source": [
    "# 10個の後処理結果を0埋めに変換\n",
    "\n",
    "preds = predict_df[:, 1:].to_numpy()\n",
    "preds[:, 132:142] = 0\n",
    "labels = label_df[:, 1:].to_numpy()\n",
    "_predict_df = pd.DataFrame(\n",
    "    preds * weight_array, columns=[i for i in range(preds.shape[1])]\n",
    ").reset_index()\n",
    "_label_df = pd.DataFrame(\n",
    "    labels * weight_array, columns=[i for i in range(labels.shape[1])]\n",
    ").reset_index()\n",
    "r2_scores = score(_label_df, _predict_df, \"index\", multioutput=\"raw_values\")\n",
    "\n",
    "r2_score = float(np.array(r2_scores).mean())\n",
    "print(f\"{r2_score=}\")"
   ]
  },
  {
   "cell_type": "code",
   "execution_count": 47,
   "id": "37dfb4b7-6947-4b81-b894-f69eda04ef40",
   "metadata": {},
   "outputs": [
    {
     "data": {
      "text/plain": [
       "0.027685118109415333"
      ]
     },
     "execution_count": 47,
     "metadata": {},
     "output_type": "execute_result"
    }
   ],
   "source": [
    "(1 - r2_scores[132:142]).sum() / 368"
   ]
  },
  {
   "cell_type": "code",
   "execution_count": 48,
   "id": "d645bc55-cd0a-4ee7-bdf7-841893a92af0",
   "metadata": {},
   "outputs": [
    {
     "data": {
      "text/plain": [
       "0.7815333871933391"
      ]
     },
     "execution_count": 48,
     "metadata": {},
     "output_type": "execute_result"
    }
   ],
   "source": [
    "(1 - r2_scores[132:142]).sum() / 368 + 0.7538482690839238"
   ]
  },
  {
   "cell_type": "code",
   "execution_count": null,
   "id": "248f34b9-1cd2-460d-8a15-a6a794858b38",
   "metadata": {},
   "outputs": [],
   "source": []
  }
 ],
 "metadata": {
  "kernelspec": {
   "display_name": "Python 3 (ipykernel) (Local)",
   "language": "python",
   "name": "python3"
  },
  "language_info": {
   "codemirror_mode": {
    "name": "ipython",
    "version": 3
   },
   "file_extension": ".py",
   "mimetype": "text/x-python",
   "name": "python",
   "nbconvert_exporter": "python",
   "pygments_lexer": "ipython3",
   "version": "3.10.13"
  }
 },
 "nbformat": 4,
 "nbformat_minor": 5
}
