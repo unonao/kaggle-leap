{
 "cells": [
  {
   "cell_type": "code",
   "execution_count": 1,
   "id": "a48629bb-b870-42b7-99ef-56f706dc6d7f",
   "metadata": {},
   "outputs": [
    {
     "name": "stdout",
     "output_type": "stream",
     "text": [
      "/kaggle/working\n"
     ]
    }
   ],
   "source": [
    "%cd /kaggle/working\n",
    "\n",
    "import os\n",
    "\n",
    "from hydra import compose, initialize\n",
    "from omegaconf import OmegaConf\n",
    "\n",
    "with initialize(version_base=None, config_path=\"../experiments/032_feature_channel\"):\n",
    "    cfg = compose(\n",
    "        config_name=\"config.yaml\", overrides=[\"debug=True\"], return_hydra_config=True\n",
    "    )"
   ]
  },
  {
   "cell_type": "code",
   "execution_count": 2,
   "id": "a29360b9-7ef1-48df-9313-b314c5093be6",
   "metadata": {},
   "outputs": [],
   "source": [
    "import warnings\n",
    "from pathlib import Path\n",
    "\n",
    "import matplotlib.pyplot as plt\n",
    "import numpy as np\n",
    "import polars as pl\n",
    "import seaborn as sns\n",
    "\n",
    "warnings.filterwarnings(\"ignore\", \"is_categorical_dtype\")\n",
    "warnings.filterwarnings(\"ignore\", \"use_inf_as_na\")"
   ]
  },
  {
   "cell_type": "code",
   "execution_count": 11,
   "id": "80fdf63d-6e58-4cbe-8678-05d65f1d1d9b",
   "metadata": {},
   "outputs": [],
   "source": [
    "df = pl.read_parquet(\"input/train.parquet\", n_rows=1)"
   ]
  },
  {
   "cell_type": "code",
   "execution_count": 12,
   "id": "8f5eb48c-f223-4fb2-a60b-e2c0f35eebd6",
   "metadata": {},
   "outputs": [],
   "source": [
    "import xarray as xr\n",
    "\n",
    "grid_path = \"/kaggle/working/misc/grid_info/ClimSim_low-res_grid-info.nc\"\n",
    "grid_info = xr.open_dataset(grid_path)\n",
    "hyai = grid_info[\"hyai\"].to_numpy()\n",
    "hybi = grid_info[\"hybi\"].to_numpy()"
   ]
  },
  {
   "cell_type": "code",
   "execution_count": 13,
   "id": "640ba134-5555-45fe-bd6d-c95494b33ecd",
   "metadata": {},
   "outputs": [],
   "source": [
    "p0 = 1e5\n",
    "ps = df[\"state_ps\"].to_numpy()\n",
    "pressures_array = hyai * p0 + hybi[None, :] * ps[:, None]\n",
    "pressures_array = np.diff(pressures_array, n=1)"
   ]
  },
  {
   "cell_type": "code",
   "execution_count": 14,
   "id": "b676a401-1563-465f-be95-b08205039a36",
   "metadata": {},
   "outputs": [
    {
     "data": {
      "text/plain": [
       "array([[   4.49334817,    8.05875326,   14.30424243,   24.96122521,\n",
       "          42.45788005,   69.74403971,  109.74026562,  164.59057361,\n",
       "         235.29041485,  322.19294405,  426.05428239,  548.41345205,\n",
       "         690.3805663 ,  850.32906287, 1022.31781732, 1197.09251962,\n",
       "        1365.82669363, 1524.25914584, 1673.82773233, 1818.40857522,\n",
       "        1958.89747468, 2089.80538655, 2202.61800568, 2313.74224914,\n",
       "        2363.9771264 , 2390.03109911, 2407.30908291, 2431.73650427,\n",
       "        2473.40605267, 2534.16905217, 2609.58752016, 2693.01569028,\n",
       "        2778.85349906, 2863.12716733, 2941.54281821, 3006.87949088,\n",
       "        3048.13199344, 3052.86196189, 3012.19256048, 2925.85859014,\n",
       "        2804.03951687, 2664.18047104, 2524.02710921, 2394.62790479,\n",
       "        2277.17661965, 2165.18830955, 2050.36396987, 1928.62235891,\n",
       "        1803.08740666, 1682.86437945, 1578.86385644, 1499.29461107,\n",
       "        1447.09304302, 1420.01895916, 1412.61887973, 1418.626848  ,\n",
       "        1432.6977876 , 1451.11266244, 1471.68984952, 1493.34682294]])"
      ]
     },
     "execution_count": 14,
     "metadata": {},
     "output_type": "execute_result"
    }
   ],
   "source": [
    "pressures_array"
   ]
  },
  {
   "cell_type": "code",
   "execution_count": 15,
   "id": "60dec284-013b-4ee3-8b53-b9db6fdac576",
   "metadata": {},
   "outputs": [],
   "source": [
    "pre = hyai * p0 + hybi[None, :] * ps[:, None]"
   ]
  },
  {
   "cell_type": "code",
   "execution_count": 16,
   "id": "02981d88-3777-4677-a497-39071316a8ac",
   "metadata": {},
   "outputs": [],
   "source": [
    "import math\n",
    "\n",
    "# 定数の定義\n",
    "T_freeze = 273.15  # 氷点 [K]\n",
    "ep = 0.622  # 乾燥空気と水蒸気のガス定数の比\n",
    "pressure = 100000.0  # 全圧 [Pa]\n",
    "\n",
    "\n",
    "def sat_vapor_press_liq(T):\n",
    "    \"\"\"\n",
    "    液体水に対する飽和蒸気圧を計算する関数\n",
    "    Bolton (1980) の近似式を使用\n",
    "    \"\"\"\n",
    "    return 611.2 * math.exp((17.67 * (T - T_freeze)) / (T - 29.65))\n",
    "\n",
    "\n",
    "def sat_vapor_press_ice(T):\n",
    "    \"\"\"\n",
    "    氷に対する飽和蒸気圧を計算する関数\n",
    "    \"\"\"\n",
    "    return 100 * math.exp(23.33086 - (6111.72784 / T) + (0.15215 * math.log(T)))"
   ]
  },
  {
   "cell_type": "code",
   "execution_count": 17,
   "id": "af47f730-b21a-42d1-b405-24d84bd6e07b",
   "metadata": {},
   "outputs": [
    {
     "data": {
      "text/html": [
       "<div><style>\n",
       ".dataframe > thead > tr,\n",
       ".dataframe > tbody > tr {\n",
       "  text-align: right;\n",
       "  white-space: pre-wrap;\n",
       "}\n",
       "</style>\n",
       "<small>shape: (1, 925)</small><table border=\"1\" class=\"dataframe\"><thead><tr><th>sample_id</th><th>state_t_0</th><th>state_t_1</th><th>state_t_2</th><th>state_t_3</th><th>state_t_4</th><th>state_t_5</th><th>state_t_6</th><th>state_t_7</th><th>state_t_8</th><th>state_t_9</th><th>state_t_10</th><th>state_t_11</th><th>state_t_12</th><th>state_t_13</th><th>state_t_14</th><th>state_t_15</th><th>state_t_16</th><th>state_t_17</th><th>state_t_18</th><th>state_t_19</th><th>state_t_20</th><th>state_t_21</th><th>state_t_22</th><th>state_t_23</th><th>state_t_24</th><th>state_t_25</th><th>state_t_26</th><th>state_t_27</th><th>state_t_28</th><th>state_t_29</th><th>state_t_30</th><th>state_t_31</th><th>state_t_32</th><th>state_t_33</th><th>state_t_34</th><th>state_t_35</th><th>&hellip;</th><th>ptend_v_31</th><th>ptend_v_32</th><th>ptend_v_33</th><th>ptend_v_34</th><th>ptend_v_35</th><th>ptend_v_36</th><th>ptend_v_37</th><th>ptend_v_38</th><th>ptend_v_39</th><th>ptend_v_40</th><th>ptend_v_41</th><th>ptend_v_42</th><th>ptend_v_43</th><th>ptend_v_44</th><th>ptend_v_45</th><th>ptend_v_46</th><th>ptend_v_47</th><th>ptend_v_48</th><th>ptend_v_49</th><th>ptend_v_50</th><th>ptend_v_51</th><th>ptend_v_52</th><th>ptend_v_53</th><th>ptend_v_54</th><th>ptend_v_55</th><th>ptend_v_56</th><th>ptend_v_57</th><th>ptend_v_58</th><th>ptend_v_59</th><th>cam_out_NETSW</th><th>cam_out_FLWDS</th><th>cam_out_PRECSC</th><th>cam_out_PRECC</th><th>cam_out_SOLS</th><th>cam_out_SOLL</th><th>cam_out_SOLSD</th><th>cam_out_SOLLD</th></tr><tr><td>str</td><td>f64</td><td>f64</td><td>f64</td><td>f64</td><td>f64</td><td>f64</td><td>f64</td><td>f64</td><td>f64</td><td>f64</td><td>f64</td><td>f64</td><td>f64</td><td>f64</td><td>f64</td><td>f64</td><td>f64</td><td>f64</td><td>f64</td><td>f64</td><td>f64</td><td>f64</td><td>f64</td><td>f64</td><td>f64</td><td>f64</td><td>f64</td><td>f64</td><td>f64</td><td>f64</td><td>f64</td><td>f64</td><td>f64</td><td>f64</td><td>f64</td><td>f64</td><td>&hellip;</td><td>f64</td><td>f64</td><td>f64</td><td>f64</td><td>f64</td><td>f64</td><td>f64</td><td>f64</td><td>f64</td><td>f64</td><td>f64</td><td>f64</td><td>f64</td><td>f64</td><td>f64</td><td>f64</td><td>f64</td><td>f64</td><td>f64</td><td>f64</td><td>f64</td><td>f64</td><td>f64</td><td>f64</td><td>f64</td><td>f64</td><td>f64</td><td>f64</td><td>f64</td><td>f64</td><td>f64</td><td>f64</td><td>f64</td><td>f64</td><td>f64</td><td>f64</td><td>f64</td></tr></thead><tbody><tr><td>&quot;train_0&quot;</td><td>213.806117</td><td>222.244454</td><td>229.259879</td><td>245.743959</td><td>258.337482</td><td>265.772467</td><td>263.978456</td><td>254.879872</td><td>243.946147</td><td>236.70699</td><td>230.934476</td><td>226.459626</td><td>222.014096</td><td>216.91297</td><td>210.688514</td><td>205.181518</td><td>201.649949</td><td>199.354256</td><td>196.582987</td><td>198.08732</td><td>200.30267</td><td>204.5107</td><td>209.294262</td><td>214.299322</td><td>219.180883</td><td>223.644692</td><td>227.899269</td><td>231.883467</td><td>235.859155</td><td>239.75449</td><td>243.663599</td><td>247.494148</td><td>251.145756</td><td>254.734832</td><td>258.118795</td><td>261.322883</td><td>&hellip;</td><td>6.3101e-7</td><td>3.8035e-7</td><td>2.6436e-8</td><td>-7.3957e-8</td><td>-1.0226e-7</td><td>-1.5508e-7</td><td>1.8131e-8</td><td>1.8428e-7</td><td>-1.9102e-8</td><td>1.8966e-7</td><td>-3.4925e-8</td><td>-2.5049e-7</td><td>-3.5119e-7</td><td>3.1814e-8</td><td>-0.000001</td><td>-0.000002</td><td>-7.6918e-7</td><td>-0.000007</td><td>-0.000007</td><td>-0.000021</td><td>-0.000008</td><td>0.000024</td><td>0.00002</td><td>0.000008</td><td>0.000003</td><td>2.1486e-7</td><td>-0.000001</td><td>-6.1321e-7</td><td>0.000001</td><td>0.0</td><td>349.564325</td><td>0.0</td><td>2.9477e-12</td><td>0.0</td><td>0.0</td><td>0.0</td><td>0.0</td></tr></tbody></table></div>"
      ],
      "text/plain": [
       "shape: (1, 925)\n",
       "┌───────────┬───────────┬───────────┬───────────┬───┬───────────┬───────────┬───────────┬──────────┐\n",
       "│ sample_id ┆ state_t_0 ┆ state_t_1 ┆ state_t_2 ┆ … ┆ cam_out_S ┆ cam_out_S ┆ cam_out_S ┆ cam_out_ │\n",
       "│ ---       ┆ ---       ┆ ---       ┆ ---       ┆   ┆ OLS       ┆ OLL       ┆ OLSD      ┆ SOLLD    │\n",
       "│ str       ┆ f64       ┆ f64       ┆ f64       ┆   ┆ ---       ┆ ---       ┆ ---       ┆ ---      │\n",
       "│           ┆           ┆           ┆           ┆   ┆ f64       ┆ f64       ┆ f64       ┆ f64      │\n",
       "╞═══════════╪═══════════╪═══════════╪═══════════╪═══╪═══════════╪═══════════╪═══════════╪══════════╡\n",
       "│ train_0   ┆ 213.80611 ┆ 222.24445 ┆ 229.25987 ┆ … ┆ 0.0       ┆ 0.0       ┆ 0.0       ┆ 0.0      │\n",
       "│           ┆ 7         ┆ 4         ┆ 9         ┆   ┆           ┆           ┆           ┆          │\n",
       "└───────────┴───────────┴───────────┴───────────┴───┴───────────┴───────────┴───────────┴──────────┘"
      ]
     },
     "execution_count": 17,
     "metadata": {},
     "output_type": "execute_result"
    }
   ],
   "source": [
    "df.head()"
   ]
  },
  {
   "cell_type": "code",
   "execution_count": 18,
   "id": "4e64f5f5-b262-42ff-bda8-136b6614fc35",
   "metadata": {},
   "outputs": [
    {
     "data": {
      "text/html": [
       "<div><style>\n",
       ".dataframe > thead > tr,\n",
       ".dataframe > tbody > tr {\n",
       "  text-align: right;\n",
       "  white-space: pre-wrap;\n",
       "}\n",
       "</style>\n",
       "<small>shape: (1, 4)</small><table border=\"1\" class=\"dataframe\"><thead><tr><th>state_t_45</th><th>state_q0001_45</th><th>state_q0002_45</th><th>state_q0003_45</th></tr><tr><td>f64</td><td>f64</td><td>f64</td><td>f64</td></tr></thead><tbody><tr><td>279.949099</td><td>0.003745</td><td>0.000005</td><td>3.6643e-8</td></tr></tbody></table></div>"
      ],
      "text/plain": [
       "shape: (1, 4)\n",
       "┌────────────┬────────────────┬────────────────┬────────────────┐\n",
       "│ state_t_45 ┆ state_q0001_45 ┆ state_q0002_45 ┆ state_q0003_45 │\n",
       "│ ---        ┆ ---            ┆ ---            ┆ ---            │\n",
       "│ f64        ┆ f64            ┆ f64            ┆ f64            │\n",
       "╞════════════╪════════════════╪════════════════╪════════════════╡\n",
       "│ 279.949099 ┆ 0.003745       ┆ 0.000005       ┆ 3.6643e-8      │\n",
       "└────────────┴────────────────┴────────────────┴────────────────┘"
      ]
     },
     "execution_count": 18,
     "metadata": {},
     "output_type": "execute_result"
    }
   ],
   "source": [
    "df[[\"state_t_45\", \"state_q0001_45\", \"state_q0002_45\", \"state_q0003_45\"]]"
   ]
  },
  {
   "cell_type": "code",
   "execution_count": 19,
   "id": "c93157be-bae6-449e-a4ba-fcf9588c58e9",
   "metadata": {},
   "outputs": [],
   "source": [
    "e_sat_liq = sat_vapor_press_liq(279.949099)\n",
    "e_sat_ice = sat_vapor_press_ice(279.949099)"
   ]
  },
  {
   "cell_type": "code",
   "execution_count": null,
   "id": "849be983-b498-466b-a5c5-3cc6a88e6a01",
   "metadata": {},
   "outputs": [],
   "source": [
    "pressure = pre[46]\n",
    "\n",
    "# 飽和混合比の計算\n",
    "q_sat_liq = ep * e_sat_liq / (pressure - e_sat_liq)\n",
    "q_sat_ice = ep * e_sat_ice / (pressure - e_sat_ice)"
   ]
  }
 ],
 "metadata": {
  "kernelspec": {
   "display_name": "Python 3 (ipykernel) (Local)",
   "language": "python",
   "name": "python3"
  },
  "language_info": {
   "codemirror_mode": {
    "name": "ipython",
    "version": 3
   },
   "file_extension": ".py",
   "mimetype": "text/x-python",
   "name": "python",
   "nbconvert_exporter": "python",
   "pygments_lexer": "ipython3",
   "version": "3.10.13"
  }
 },
 "nbformat": 4,
 "nbformat_minor": 5
}
