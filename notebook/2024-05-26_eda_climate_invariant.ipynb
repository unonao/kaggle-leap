{
 "cells": [
  {
   "cell_type": "code",
   "execution_count": 1,
   "id": "26741628-da02-48e0-9338-9df36c23a87a",
   "metadata": {},
   "outputs": [
    {
     "name": "stdout",
     "output_type": "stream",
     "text": [
      "/kaggle/working\n"
     ]
    }
   ],
   "source": [
    "%cd /kaggle/working\n",
    "\n",
    "import os\n",
    "\n",
    "from hydra import compose, initialize\n",
    "from omegaconf import OmegaConf\n",
    "\n",
    "with initialize(\n",
    "    version_base=None, config_path=\"../experiments/091_cloud_wather_then_q23\"\n",
    "):\n",
    "    cfg = compose(\n",
    "        config_name=\"config.yaml\",\n",
    "        overrides=[\"exp=base_all\", \"debug=True\"],\n",
    "        return_hydra_config=True,\n",
    "    )"
   ]
  },
  {
   "cell_type": "code",
   "execution_count": 2,
   "id": "6da91f3c-b565-4d1b-81ad-2f75a3f80d0d",
   "metadata": {},
   "outputs": [
    {
     "data": {
      "text/plain": [
       "polars.config.Config"
      ]
     },
     "execution_count": 2,
     "metadata": {},
     "output_type": "execute_result"
    }
   ],
   "source": [
    "import warnings\n",
    "from pathlib import Path\n",
    "\n",
    "import matplotlib.pyplot as plt\n",
    "import numpy as np\n",
    "import pandas as pd\n",
    "import polars as pl\n",
    "import seaborn as sns\n",
    "\n",
    "warnings.filterwarnings(\"ignore\", \"is_categorical_dtype\")\n",
    "warnings.filterwarnings(\"ignore\", \"use_inf_as_na\")\n",
    "pl.Config.set_tbl_cols(-1)\n",
    "pl.Config.set_tbl_rows(100)"
   ]
  },
  {
   "cell_type": "code",
   "execution_count": 3,
   "id": "070373aa-30b7-48bc-9d90-674c6206db18",
   "metadata": {},
   "outputs": [],
   "source": [
    "df = pl.read_parquet(\"input/train.parquet\", n_rows=50000)\n",
    "df = df[:, 1:]  # id を抜く"
   ]
  },
  {
   "cell_type": "code",
   "execution_count": 4,
   "id": "72065911-6b5a-4fdc-a4fc-3b98eff4a760",
   "metadata": {},
   "outputs": [],
   "source": [
    "import xarray as xr\n",
    "\n",
    "grid_path = \"/kaggle/working/misc/grid_info/ClimSim_low-res_grid-info.nc\"\n",
    "grid_info = xr.open_dataset(grid_path)\n",
    "hyam = grid_info[\"hyam\"].to_numpy()\n",
    "hybm = grid_info[\"hybm\"].to_numpy()\n",
    "hyai = grid_info[\"hyai\"].to_numpy()\n",
    "hybi = grid_info[\"hybi\"].to_numpy()\n",
    "\n",
    "P0 = 1e5"
   ]
  },
  {
   "cell_type": "code",
   "execution_count": 6,
   "id": "d59bded8-a414-470e-a3f8-09e6e61dedbe",
   "metadata": {},
   "outputs": [
    {
     "data": {
      "text/plain": [
       "101135.6163329346"
      ]
     },
     "execution_count": 6,
     "metadata": {},
     "output_type": "execute_result"
    }
   ],
   "source": [
    "temperature_array = df[:, :60].to_numpy()\n",
    "specific_humidity_array = df[:, 60:120].to_numpy()\n",
    "near_surface_air_pressure = df[:, 360].to_numpy()\n",
    "near_surface_air_pressure[0]"
   ]
  },
  {
   "cell_type": "code",
   "execution_count": 15,
   "id": "c8e306f5-d449-46b9-a1cb-12553ee03b36",
   "metadata": {},
   "outputs": [
    {
     "data": {
      "text/plain": [
       "array([178.61875689, 187.11101102, 177.7739451 , 187.11493334,\n",
       "       182.29315816, 187.5466503 , 185.24974843, 180.16120985,\n",
       "       187.1654688 , 175.32836426, 174.65403678, 175.85836051,\n",
       "       181.42510951, 188.92245675])"
      ]
     },
     "execution_count": 15,
     "metadata": {},
     "output_type": "execute_result"
    }
   ],
   "source": []
  },
  {
   "cell_type": "code",
   "execution_count": 50,
   "id": "d7fbb878-2782-4e9b-bf4b-8567f5e2d966",
   "metadata": {},
   "outputs": [],
   "source": [
    "def eliq(T, method=\"paper\"):\n",
    "    \"\"\"\n",
    "    Function taking temperature (in K) and outputting liquid saturation\n",
    "    pressure (in hPa) using a polynomial fit\n",
    "    \"\"\"\n",
    "    if method == \"paper\":\n",
    "        a_liq = np.array(\n",
    "            [\n",
    "                -0.976195544e-15,\n",
    "                -0.952447341e-13,\n",
    "                0.640689451e-10,\n",
    "                0.206739458e-7,\n",
    "                0.302950461e-5,\n",
    "                0.264847430e-3,\n",
    "                0.142986287e-1,\n",
    "                0.443987641,\n",
    "                6.11239921,\n",
    "            ]\n",
    "        )\n",
    "        c_liq = -80\n",
    "        T0 = 273.16\n",
    "        return 100 * np.polyval(a_liq, np.maximum(c_liq, T - T0))\n",
    "\n",
    "    elif method == \"MurphyKoop\":\n",
    "        es = np.exp(\n",
    "            54.842763\n",
    "            - (6763.22 / T)\n",
    "            - (4.210 * np.log(T))\n",
    "            + (0.000367 * T)\n",
    "            + (\n",
    "                np.tanh(0.0415 * (T - 218.8))\n",
    "                * (53.878 - (1331.22 / T) - (9.44523 * np.log(T)) + 0.014025 * T)\n",
    "            )\n",
    "        )\n",
    "        return es\n",
    "    elif method == \"GoffGratch\":\n",
    "        tboil = 373.15  # Boiling point of water in Kelvin\n",
    "        es = (\n",
    "            10.0\n",
    "            ** (\n",
    "                -7.90298 * (tboil / T - 1.0)\n",
    "                + 5.02808 * np.log10(tboil / T)\n",
    "                - 1.3816e-7 * (10.0 ** (11.344 * (1.0 - T / tboil)) - 1.0)\n",
    "                + 8.1328e-3 * (10.0 ** (-3.49149 * (tboil / T - 1.0)) - 1.0)\n",
    "                + np.log10(1013.246)\n",
    "            )\n",
    "            * 100.0\n",
    "        )\n",
    "        return es\n",
    "    elif method == \"OldGoffGratch\":\n",
    "        tboil = 373.15  # Boiling point of water in Kelvin\n",
    "        ps = 1013.246\n",
    "        e1 = 11.344 * (1.0 - T / tboil)\n",
    "        e2 = -3.49149 * (tboil / T - 1.0)\n",
    "        f1 = -7.90298 * (tboil / T - 1.0)\n",
    "        f2 = 5.02808 * np.log10(tboil / T)\n",
    "        f3 = -1.3816 * (10.0**e1 - 1.0) / 10000000.0\n",
    "        f4 = 8.1328 * (10.0**e2 - 1.0) / 1000.0\n",
    "        f5 = np.log10(ps)\n",
    "        f = f1 + f2 + f3 + f4 + f5\n",
    "        es = (10.0**f) * 100.0\n",
    "        return es\n",
    "    elif method == \"e3sm\":\n",
    "        a0 = 6.105851\n",
    "        a1 = 0.4440316\n",
    "        a2 = 0.1430341e-1\n",
    "        a3 = 0.2641412e-3\n",
    "        a4 = 0.2995057e-5\n",
    "        a5 = 0.2031998e-7\n",
    "        a6 = 0.6936113e-10\n",
    "        a7 = 0.2564861e-13\n",
    "        a8 = -0.3704404e-15\n",
    "\n",
    "        dtt = T - 273.16\n",
    "        esatw = a0 + dtt * (\n",
    "            a1\n",
    "            + dtt\n",
    "            * (\n",
    "                a2\n",
    "                + dtt\n",
    "                * (a3 + dtt * (a4 + dtt * (a5 + dtt * (a6 + dtt * (a7 + a8 * dtt)))))\n",
    "            )\n",
    "        )\n",
    "\n",
    "        index = dtt <= -80.0\n",
    "        esatw[index] = (\n",
    "            2.0\n",
    "            * 0.01\n",
    "            * np.exp(9.550426 - 5723.265 / T + 3.53068 * np.log(T) - 0.00728332 * T)\n",
    "        )[index]\n",
    "        return esatw * (10**2)\n",
    "    elif method == \"Bolton\":\n",
    "        c1 = 611.2\n",
    "        c2 = 17.67\n",
    "        c3 = 243.5\n",
    "        tmelt = 273.15  # Melting point of water in Kelvin\n",
    "        es = c1 * np.exp((c2 * (T - tmelt)) / ((T - tmelt) + c3))\n",
    "        return es\n",
    "    elif method == \"tenten\":\n",
    "        # https://metview.readthedocs.io/en/latest/api/functions/saturation_vapour_pressure.html\n",
    "        a1 = 611.21\n",
    "        a3 = 17.502\n",
    "        a4 = 32.19\n",
    "        return a1 * np.exp(a3 * (T - 273.16) / (T - a4))\n",
    "\n",
    "\n",
    "def eice(T, method=\"paper\"):\n",
    "    \"\"\"\n",
    "    Function taking temperature (in K) and outputting ice saturation\n",
    "    pressure (in hPa) using a polynomial fit\n",
    "    \"\"\"\n",
    "    if method == \"paper\":\n",
    "        a_ice = np.array(\n",
    "            [\n",
    "                0.252751365e-14,\n",
    "                0.146898966e-11,\n",
    "                0.385852041e-9,\n",
    "                0.602588177e-7,\n",
    "                0.615021634e-5,\n",
    "                0.420895665e-3,\n",
    "                0.188439774e-1,\n",
    "                0.503160820,\n",
    "                6.11147274,\n",
    "            ]\n",
    "        )\n",
    "        c_ice = np.array([273.15, 185, -100, 0.00763685, 0.000151069, 7.48215e-07])\n",
    "        T0 = 273.16\n",
    "        return (\n",
    "            (T > c_ice[0]) * eliq(T, method)\n",
    "            + (T <= c_ice[0]) * (T > c_ice[1]) * 100 * np.polyval(a_ice, T - T0)\n",
    "            + (T <= c_ice[1])\n",
    "            * 100\n",
    "            * (\n",
    "                c_ice[3]\n",
    "                + np.maximum(c_ice[2], T - T0)\n",
    "                * (c_ice[4] + np.maximum(c_ice[2], T - T0) * c_ice[5])\n",
    "            )\n",
    "        )\n",
    "    elif method == \"GoffGratch\":\n",
    "        h2otrip = 273.16  # H2O triple point temperature in Kelvin\n",
    "        es = (\n",
    "            10.0\n",
    "            ** (\n",
    "                -9.09718 * (h2otrip / T - 1.0)\n",
    "                - 3.56654 * np.log10(h2otrip / T)\n",
    "                + 0.876793 * (1.0 - T / h2otrip)\n",
    "                + np.log10(6.1071)\n",
    "            )\n",
    "            * 100.0\n",
    "        )\n",
    "        return es\n",
    "    elif method == \"OldGoffGratch\":\n",
    "        tmelt = 273.15  # Melting point of ice in Kelvin\n",
    "        term1 = 2.01889049 / (tmelt / T)\n",
    "        term2 = 3.56654 * np.log(tmelt / T)\n",
    "        term3 = 20.947031 * (tmelt / T)\n",
    "        es = 575.185606e10 * np.exp(-(term1 + term2 + term3))\n",
    "        return es\n",
    "    elif method == \"MurphyKoop\":\n",
    "        es = np.exp(\n",
    "            9.550426 - (5723.265 / T) + (3.53068 * np.log(T)) - (0.00728332 * T)\n",
    "        )\n",
    "        return es\n",
    "    elif method == \"e3sm\":\n",
    "        a0 = 6.11147274\n",
    "        a1 = 0.503160820\n",
    "        a2 = 0.188439774e-1\n",
    "        a3 = 0.420895665e-3\n",
    "        a4 = 0.615021634e-5\n",
    "        a5 = 0.602588177e-7\n",
    "        a6 = 0.385852041e-9\n",
    "        a7 = 0.146898966e-11\n",
    "        a8 = 0.252751365e-14\n",
    "\n",
    "        dtt = T - 273.16\n",
    "        esati = a0 + dtt * (\n",
    "            a1\n",
    "            + dtt\n",
    "            * (\n",
    "                a2\n",
    "                + dtt\n",
    "                * (a3 + dtt * (a4 + dtt * (a5 + dtt * (a6 + dtt * (a7 + a8 * dtt)))))\n",
    "            )\n",
    "        )\n",
    "\n",
    "        index = dtt <= -80.0\n",
    "        esati[index] = (\n",
    "            0.01\n",
    "            * np.exp(9.550426 - 5723.265 / T + 3.53068 * np.log(T) - 0.00728332 * T)\n",
    "        )[index]\n",
    "        return esati * (10**2)\n",
    "    elif method == \"Bolton\":\n",
    "        c1 = 611.2\n",
    "        c2 = 17.67\n",
    "        c3 = 243.5\n",
    "        tmelt = 273.15  # Melting point of water in Kelvin\n",
    "        es = c1 * np.exp((c2 * (T - tmelt)) / ((T - tmelt) + c3))\n",
    "        return es\n",
    "    elif method == \"tenten\":\n",
    "        # https://metview.readthedocs.io/en/latest/api/functions/saturation_vapour_pressure.html\n",
    "        a1 = 611.21\n",
    "        a3 = 22.587\n",
    "        a4 = -0.7\n",
    "        return a1 * np.exp(a3 * (T - 273.16) / (T - a4))"
   ]
  },
  {
   "cell_type": "code",
   "execution_count": 51,
   "id": "7049f94a-73fa-4695-8660-0436137cc13e",
   "metadata": {},
   "outputs": [],
   "source": [
    "def cal_specific2relative_coef(\n",
    "    temperature_array,\n",
    "    near_surface_air_pressure,\n",
    "    hyam,\n",
    "    hybm,\n",
    "    method=\"paper\",\n",
    "):\n",
    "    \"\"\"\n",
    "    specific humidity を relative humidity に変換するための係数を算出する（逆数を取れば逆変換にも使える）\n",
    "    \"\"\"\n",
    "    P0 = 1e5  # Mean surface air pressure (Pa)\n",
    "    # Formula to calculate air pressure (in Pa) using the hybrid vertical grid\n",
    "    # coefficients at the middle of each vertical level: hyam and hybm\n",
    "    air_pressure_Pa = hyam * P0 + hybm[None, :] * near_surface_air_pressure[:, None]\n",
    "\n",
    "    # 1) Calculating saturation water vapor pressure\n",
    "    T0 = 273.16  # Freezing temperature in standard conditions\n",
    "    T00 = 253.16  # Temperature below which we use e_ice\n",
    "    omega = (temperature_array - T00) / (T0 - T00)\n",
    "    omega = np.maximum(0, np.minimum(1, omega))\n",
    "\n",
    "    esat = omega * eliq(temperature_array, method) + (1 - omega) * eice(\n",
    "        temperature_array, method\n",
    "    )\n",
    "    # 2) Calculating relative humidity\n",
    "    Rd = 287  # Specific gas constant for dry air\n",
    "    Rv = 461  # Specific gas constant for water vapor\n",
    "\n",
    "    # We use the `values` method to convert Xarray DataArray into Numpy ND-Arrays\n",
    "    return Rv / Rd * air_pressure_Pa / esat"
   ]
  },
  {
   "cell_type": "code",
   "execution_count": 29,
   "id": "73cc6221-492c-440e-a009-f7c91c025a5a",
   "metadata": {},
   "outputs": [
    {
     "data": {
      "text/plain": [
       "(array([0.00776218]), array([0.00368325]))"
      ]
     },
     "execution_count": 29,
     "metadata": {},
     "output_type": "execute_result"
    }
   ],
   "source": [
    "t = np.array([178])\n",
    "method = \"MurphyKoop\"\n",
    "eliq(t, method), eice(t, method)"
   ]
  },
  {
   "cell_type": "code",
   "execution_count": 36,
   "id": "5b473817-b6e5-46d0-8850-a1f273171585",
   "metadata": {},
   "outputs": [
    {
     "data": {
      "text/plain": [
       "array([0.00368325])"
      ]
     },
     "execution_count": 36,
     "metadata": {},
     "output_type": "execute_result"
    }
   ],
   "source": [
    "eice(t, \"e3sm\")"
   ]
  },
  {
   "cell_type": "code",
   "execution_count": 42,
   "id": "98af0fab-9c40-41fb-b904-af6134d67ce7",
   "metadata": {},
   "outputs": [
    {
     "data": {
      "text/plain": [
       "array([ 5.36684856,  5.04147533,  3.63954417,  3.19565073,  4.59619028,\n",
       "        7.8351823 ,  6.70890873,  3.32977537,  5.32169224,  3.35840091,\n",
       "        3.20610086, 11.34993881, 13.35702857,  3.7810839 ])"
      ]
     },
     "execution_count": 42,
     "metadata": {},
     "output_type": "execute_result"
    }
   ],
   "source": [
    "specific2relative_coef = cal_specific2relative_coef(\n",
    "    temperature_array,\n",
    "    near_surface_air_pressure,\n",
    "    hyam,\n",
    "    hybm,\n",
    "    method=\"paper\",\n",
    ")\n",
    "\n",
    "relative_humidity = specific2relative_coef * specific_humidity_array\n",
    "relative_humidity[relative_humidity > 3]"
   ]
  },
  {
   "cell_type": "code",
   "execution_count": 43,
   "id": "76f906a6-238b-47d2-a39d-f07f5f1f71ce",
   "metadata": {},
   "outputs": [
    {
     "data": {
      "text/plain": [
       "array([ 5.45573322,  5.31320472,  3.5725659 ,  3.36827275,  4.85876798,\n",
       "        8.34472985,  6.3769877 ,  3.51622947,  5.61714999, 10.02147409,\n",
       "       14.20738108,  4.07494236,  3.04531109])"
      ]
     },
     "execution_count": 43,
     "metadata": {},
     "output_type": "execute_result"
    }
   ],
   "source": [
    "specific2relative_coef = cal_specific2relative_coef(\n",
    "    temperature_array,\n",
    "    near_surface_air_pressure,\n",
    "    hyam,\n",
    "    hybm,\n",
    "    method=\"MurphyKoop\",\n",
    ")\n",
    "\n",
    "relative_humidity = specific2relative_coef * specific_humidity_array\n",
    "relative_humidity[relative_humidity > 3]"
   ]
  },
  {
   "cell_type": "code",
   "execution_count": 45,
   "id": "b87bc8cc-268a-4df8-ba1b-f587dd4ca0fb",
   "metadata": {},
   "outputs": [
    {
     "data": {
      "text/plain": [
       "array([ 5.45573322,  5.31320472,  3.5725659 ,  3.36827275,  4.85876798,\n",
       "        8.34472985,  6.3769877 ,  3.51622947,  5.61714999, 10.02147409,\n",
       "       14.20738108,  4.07494236,  3.04531109])"
      ]
     },
     "execution_count": 45,
     "metadata": {},
     "output_type": "execute_result"
    }
   ],
   "source": [
    "specific2relative_coef = cal_specific2relative_coef(\n",
    "    temperature_array,\n",
    "    near_surface_air_pressure,\n",
    "    hyam,\n",
    "    hybm,\n",
    "    method=\"e3sm\",\n",
    ")\n",
    "\n",
    "relative_humidity = specific2relative_coef * specific_humidity_array\n",
    "relative_humidity[relative_humidity > 3]"
   ]
  },
  {
   "cell_type": "code",
   "execution_count": 48,
   "id": "130d268c-8ae4-4414-a47f-55a249663109",
   "metadata": {},
   "outputs": [
    {
     "data": {
      "text/plain": [
       "array([ 5.47734044,  5.33209734,  3.58686767,  3.38024902,  4.87713317,\n",
       "        8.37423878,  6.40020395,  3.529885  ,  5.63710961, 10.06258128,\n",
       "       14.26167753,  4.08910377,  3.05542924])"
      ]
     },
     "execution_count": 48,
     "metadata": {},
     "output_type": "execute_result"
    }
   ],
   "source": [
    "specific2relative_coef = cal_specific2relative_coef(\n",
    "    temperature_array,\n",
    "    near_surface_air_pressure,\n",
    "    hyam,\n",
    "    hybm,\n",
    "    method=\"GoffGratch\",\n",
    ")\n",
    "\n",
    "relative_humidity = specific2relative_coef * specific_humidity_array\n",
    "relative_humidity[relative_humidity > 3]"
   ]
  },
  {
   "cell_type": "code",
   "execution_count": 49,
   "id": "ea4741b2-0221-430b-bbdc-3629ab3adfad",
   "metadata": {},
   "outputs": [
    {
     "data": {
      "text/plain": [
       "array([ 5.47047071,  5.32570549,  3.5823482 ,  3.37619702,  4.87113622,\n",
       "        8.3642229 ,  6.39245657,  3.52549466,  5.63035404, 10.04976817,\n",
       "       14.24405962,  4.0842478 ,  3.05186639])"
      ]
     },
     "execution_count": 49,
     "metadata": {},
     "output_type": "execute_result"
    }
   ],
   "source": [
    "specific2relative_coef = cal_specific2relative_coef(\n",
    "    temperature_array,\n",
    "    near_surface_air_pressure,\n",
    "    hyam,\n",
    "    hybm,\n",
    "    method=\"OldGoffGratch\",\n",
    ")\n",
    "\n",
    "relative_humidity = specific2relative_coef * specific_humidity_array\n",
    "relative_humidity[relative_humidity > 3]"
   ]
  },
  {
   "cell_type": "code",
   "execution_count": 52,
   "id": "5e8c3217-e3b7-4cd1-babe-f5ee784499d0",
   "metadata": {},
   "outputs": [
    {
     "data": {
      "text/plain": [
       "array([4.19382676, 3.19561186, 5.07746685, 7.11752223])"
      ]
     },
     "execution_count": 52,
     "metadata": {},
     "output_type": "execute_result"
    }
   ],
   "source": [
    "specific2relative_coef = cal_specific2relative_coef(\n",
    "    temperature_array,\n",
    "    near_surface_air_pressure,\n",
    "    hyam,\n",
    "    hybm,\n",
    "    method=\"Bolton\",\n",
    ")\n",
    "\n",
    "relative_humidity = specific2relative_coef * specific_humidity_array\n",
    "relative_humidity[relative_humidity > 3]"
   ]
  },
  {
   "cell_type": "code",
   "execution_count": null,
   "id": "a19a9ea7-089b-4f5a-b8b8-7dd4dd979623",
   "metadata": {},
   "outputs": [],
   "source": []
  }
 ],
 "metadata": {
  "kernelspec": {
   "display_name": "Python 3 (ipykernel) (Local)",
   "language": "python",
   "name": "python3"
  },
  "language_info": {
   "codemirror_mode": {
    "name": "ipython",
    "version": 3
   },
   "file_extension": ".py",
   "mimetype": "text/x-python",
   "name": "python",
   "nbconvert_exporter": "python",
   "pygments_lexer": "ipython3",
   "version": "3.10.13"
  }
 },
 "nbformat": 4,
 "nbformat_minor": 5
}
