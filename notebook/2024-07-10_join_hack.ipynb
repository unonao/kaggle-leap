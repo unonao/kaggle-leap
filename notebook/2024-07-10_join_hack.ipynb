{
 "cells": [
  {
   "cell_type": "code",
   "execution_count": 1,
   "id": "59c5d0a1-3691-4804-a9d8-80f682cb54ff",
   "metadata": {},
   "outputs": [
    {
     "name": "stdout",
     "output_type": "stream",
     "text": [
      "/kaggle/working\n"
     ]
    }
   ],
   "source": [
    "%cd /kaggle/working"
   ]
  },
  {
   "cell_type": "code",
   "execution_count": 2,
   "id": "40697056-e3ff-422d-84f5-7c0e21aac018",
   "metadata": {},
   "outputs": [],
   "source": [
    "import numpy as np\n",
    "import polars as pl"
   ]
  },
  {
   "cell_type": "code",
   "execution_count": 3,
   "id": "753beff6-0fef-4483-b24b-caa399c9f621",
   "metadata": {},
   "outputs": [],
   "source": [
    "test_df = pl.read_parquet(\"input/test.parquet\")\n",
    "test_old_df = pl.read_parquet(\"input/test_old.parquet\")"
   ]
  },
  {
   "cell_type": "code",
   "execution_count": 4,
   "id": "36b34351-cede-447b-be86-cc7e695adb31",
   "metadata": {},
   "outputs": [],
   "source": [
    "map_df = pl.read_parquet(\"output/preprocess/make_hack_map/base/map_hack.parquet\")"
   ]
  },
  {
   "cell_type": "code",
   "execution_count": 5,
   "id": "9ddd9b26-56b7-4024-b595-bc9188108add",
   "metadata": {},
   "outputs": [
    {
     "data": {
      "text/html": [
       "<div><style>\n",
       ".dataframe > thead > tr,\n",
       ".dataframe > tbody > tr {\n",
       "  text-align: right;\n",
       "  white-space: pre-wrap;\n",
       "}\n",
       "</style>\n",
       "<small>shape: (10_091_520, 15)</small><table border=\"1\" class=\"dataframe\"><thead><tr><th>location</th><th>pbuf_ozone_0</th><th>pbuf_ozone_1</th><th>pbuf_ozone_2</th><th>pbuf_ozone_3</th><th>pbuf_ozone_4</th><th>pbuf_ozone_5</th><th>pbuf_ozone_6</th><th>pbuf_ozone_7</th><th>pbuf_ozone_8</th><th>pbuf_ozone_9</th><th>month</th><th>day</th><th>seconds</th><th>tick</th></tr><tr><td>u32</td><td>f64</td><td>f64</td><td>f64</td><td>f64</td><td>f64</td><td>f64</td><td>f64</td><td>f64</td><td>f64</td><td>f64</td><td>i64</td><td>i64</td><td>i64</td><td>i64</td></tr></thead><tbody><tr><td>0</td><td>2.4616e-7</td><td>4.4335e-7</td><td>7.9467e-7</td><td>0.000001</td><td>0.000002</td><td>0.000004</td><td>0.000007</td><td>0.000011</td><td>0.000013</td><td>0.000014</td><td>1</td><td>1</td><td>0</td><td>0</td></tr><tr><td>1</td><td>2.4163e-7</td><td>4.3519e-7</td><td>7.8003e-7</td><td>0.000001</td><td>0.000002</td><td>0.000004</td><td>0.000007</td><td>0.000011</td><td>0.000013</td><td>0.000014</td><td>1</td><td>1</td><td>0</td><td>0</td></tr><tr><td>2</td><td>2.6509e-7</td><td>4.7745e-7</td><td>8.5578e-7</td><td>0.000002</td><td>0.000003</td><td>0.000005</td><td>0.000008</td><td>0.000012</td><td>0.000014</td><td>0.000015</td><td>1</td><td>1</td><td>0</td><td>0</td></tr><tr><td>3</td><td>2.5930e-7</td><td>4.6701e-7</td><td>8.3707e-7</td><td>0.000001</td><td>0.000003</td><td>0.000004</td><td>0.000007</td><td>0.000012</td><td>0.000014</td><td>0.000015</td><td>1</td><td>1</td><td>0</td><td>0</td></tr><tr><td>4</td><td>2.3942e-7</td><td>4.3120e-7</td><td>7.7288e-7</td><td>0.000001</td><td>0.000002</td><td>0.000004</td><td>0.000007</td><td>0.000011</td><td>0.000012</td><td>0.000014</td><td>1</td><td>1</td><td>0</td><td>0</td></tr><tr><td>&hellip;</td><td>&hellip;</td><td>&hellip;</td><td>&hellip;</td><td>&hellip;</td><td>&hellip;</td><td>&hellip;</td><td>&hellip;</td><td>&hellip;</td><td>&hellip;</td><td>&hellip;</td><td>&hellip;</td><td>&hellip;</td><td>&hellip;</td><td>&hellip;</td></tr><tr><td>379</td><td>2.9971e-7</td><td>5.3980e-7</td><td>9.6753e-7</td><td>0.000002</td><td>0.000003</td><td>0.000005</td><td>0.000009</td><td>0.000014</td><td>0.000013</td><td>0.000012</td><td>12</td><td>31</td><td>85200</td><td>71</td></tr><tr><td>380</td><td>3.0109e-7</td><td>5.4228e-7</td><td>9.7199e-7</td><td>0.000002</td><td>0.000003</td><td>0.000005</td><td>0.000009</td><td>0.000014</td><td>0.000013</td><td>0.000012</td><td>12</td><td>31</td><td>85200</td><td>71</td></tr><tr><td>381</td><td>3.0464e-7</td><td>5.4867e-7</td><td>9.8344e-7</td><td>0.000002</td><td>0.000003</td><td>0.000005</td><td>0.000009</td><td>0.000014</td><td>0.000013</td><td>0.000012</td><td>12</td><td>31</td><td>85200</td><td>71</td></tr><tr><td>382</td><td>3.0271e-7</td><td>5.4520e-7</td><td>9.7722e-7</td><td>0.000002</td><td>0.000003</td><td>0.000005</td><td>0.000009</td><td>0.000014</td><td>0.000013</td><td>0.000012</td><td>12</td><td>31</td><td>85200</td><td>71</td></tr><tr><td>383</td><td>3.0620e-7</td><td>5.5148e-7</td><td>9.8847e-7</td><td>0.000002</td><td>0.000003</td><td>0.000005</td><td>0.000009</td><td>0.000014</td><td>0.000013</td><td>0.000012</td><td>12</td><td>31</td><td>85200</td><td>71</td></tr></tbody></table></div>"
      ],
      "text/plain": [
       "shape: (10_091_520, 15)\n",
       "┌──────────┬──────────────┬──────────────┬──────────────┬───┬───────┬─────┬─────────┬──────┐\n",
       "│ location ┆ pbuf_ozone_0 ┆ pbuf_ozone_1 ┆ pbuf_ozone_2 ┆ … ┆ month ┆ day ┆ seconds ┆ tick │\n",
       "│ ---      ┆ ---          ┆ ---          ┆ ---          ┆   ┆ ---   ┆ --- ┆ ---     ┆ ---  │\n",
       "│ u32      ┆ f64          ┆ f64          ┆ f64          ┆   ┆ i64   ┆ i64 ┆ i64     ┆ i64  │\n",
       "╞══════════╪══════════════╪══════════════╪══════════════╪═══╪═══════╪═════╪═════════╪══════╡\n",
       "│ 0        ┆ 2.4616e-7    ┆ 4.4335e-7    ┆ 7.9467e-7    ┆ … ┆ 1     ┆ 1   ┆ 0       ┆ 0    │\n",
       "│ 1        ┆ 2.4163e-7    ┆ 4.3519e-7    ┆ 7.8003e-7    ┆ … ┆ 1     ┆ 1   ┆ 0       ┆ 0    │\n",
       "│ 2        ┆ 2.6509e-7    ┆ 4.7745e-7    ┆ 8.5578e-7    ┆ … ┆ 1     ┆ 1   ┆ 0       ┆ 0    │\n",
       "│ 3        ┆ 2.5930e-7    ┆ 4.6701e-7    ┆ 8.3707e-7    ┆ … ┆ 1     ┆ 1   ┆ 0       ┆ 0    │\n",
       "│ 4        ┆ 2.3942e-7    ┆ 4.3120e-7    ┆ 7.7288e-7    ┆ … ┆ 1     ┆ 1   ┆ 0       ┆ 0    │\n",
       "│ …        ┆ …            ┆ …            ┆ …            ┆ … ┆ …     ┆ …   ┆ …       ┆ …    │\n",
       "│ 379      ┆ 2.9971e-7    ┆ 5.3980e-7    ┆ 9.6753e-7    ┆ … ┆ 12    ┆ 31  ┆ 85200   ┆ 71   │\n",
       "│ 380      ┆ 3.0109e-7    ┆ 5.4228e-7    ┆ 9.7199e-7    ┆ … ┆ 12    ┆ 31  ┆ 85200   ┆ 71   │\n",
       "│ 381      ┆ 3.0464e-7    ┆ 5.4867e-7    ┆ 9.8344e-7    ┆ … ┆ 12    ┆ 31  ┆ 85200   ┆ 71   │\n",
       "│ 382      ┆ 3.0271e-7    ┆ 5.4520e-7    ┆ 9.7722e-7    ┆ … ┆ 12    ┆ 31  ┆ 85200   ┆ 71   │\n",
       "│ 383      ┆ 3.0620e-7    ┆ 5.5148e-7    ┆ 9.8847e-7    ┆ … ┆ 12    ┆ 31  ┆ 85200   ┆ 71   │\n",
       "└──────────┴──────────────┴──────────────┴──────────────┴───┴───────┴─────┴─────────┴──────┘"
      ]
     },
     "execution_count": 5,
     "metadata": {},
     "output_type": "execute_result"
    }
   ],
   "source": [
    "map_df"
   ]
  },
  {
   "cell_type": "code",
   "execution_count": 5,
   "id": "ee730467-685b-42ac-8609-59d13ead8b20",
   "metadata": {},
   "outputs": [
    {
     "name": "stdout",
     "output_type": "stream",
     "text": [
      "pbuf_ozone_0 10091520\n",
      "pbuf_ozone_1 10091520\n",
      "pbuf_ozone_2 10091520\n",
      "pbuf_ozone_3 10091520\n",
      "pbuf_ozone_4 10091520\n",
      "pbuf_ozone_5 10091520\n",
      "pbuf_ozone_6 10091520\n",
      "pbuf_ozone_7 10091520\n",
      "pbuf_ozone_8 10091520\n",
      "pbuf_ozone_9 10091520\n"
     ]
    }
   ],
   "source": [
    "for i in range(0, 10):\n",
    "    col = f\"pbuf_ozone_{i}\"\n",
    "    print(col, len(map_df[col].unique()))"
   ]
  },
  {
   "cell_type": "code",
   "execution_count": 6,
   "id": "25e5c9aa-07b2-494d-9e79-1109cde4b32a",
   "metadata": {},
   "outputs": [
    {
     "name": "stdout",
     "output_type": "stream",
     "text": [
      "null 625000\n"
     ]
    },
    {
     "data": {
      "text/html": [
       "<div><style>\n",
       ".dataframe > thead > tr,\n",
       ".dataframe > tbody > tr {\n",
       "  text-align: right;\n",
       "  white-space: pre-wrap;\n",
       "}\n",
       "</style>\n",
       "<small>shape: (625_000, 12)</small><table border=\"1\" class=\"dataframe\"><thead><tr><th>sample_id</th><th>pbuf_ozone_0</th><th>pbuf_ozone_10</th><th>pbuf_ozone_20</th><th>pbuf_ozone_30</th><th>pbuf_ozone_40</th><th>pbuf_ozone_50</th><th>location</th><th>month</th><th>day</th><th>seconds</th><th>tick</th></tr><tr><td>str</td><td>f64</td><td>f64</td><td>f64</td><td>f64</td><td>f64</td><td>f64</td><td>u32</td><td>i64</td><td>i64</td><td>i64</td><td>i64</td></tr></thead><tbody><tr><td>&quot;test_0&quot;</td><td>2.9057e-7</td><td>0.000015</td><td>8.9661e-8</td><td>7.1685e-8</td><td>7.3007e-8</td><td>7.0039e-8</td><td>null</td><td>null</td><td>null</td><td>null</td><td>null</td></tr><tr><td>&quot;test_10&quot;</td><td>3.0539e-7</td><td>0.000013</td><td>7.8383e-7</td><td>1.0526e-7</td><td>9.2631e-8</td><td>8.2155e-8</td><td>null</td><td>null</td><td>null</td><td>null</td><td>null</td></tr><tr><td>&quot;test_100&quot;</td><td>3.2143e-7</td><td>0.000012</td><td>4.8083e-7</td><td>6.5793e-8</td><td>5.5449e-8</td><td>4.8415e-8</td><td>null</td><td>null</td><td>null</td><td>null</td><td>null</td></tr><tr><td>&quot;test_1000&quot;</td><td>3.0851e-7</td><td>0.000014</td><td>1.0223e-7</td><td>8.0955e-8</td><td>7.7514e-8</td><td>8.1617e-8</td><td>null</td><td>null</td><td>null</td><td>null</td><td>null</td></tr><tr><td>&quot;test_10000&quot;</td><td>2.8595e-7</td><td>0.000015</td><td>8.7950e-8</td><td>6.0746e-8</td><td>4.8210e-8</td><td>3.8620e-8</td><td>null</td><td>null</td><td>null</td><td>null</td><td>null</td></tr><tr><td>&hellip;</td><td>&hellip;</td><td>&hellip;</td><td>&hellip;</td><td>&hellip;</td><td>&hellip;</td><td>&hellip;</td><td>&hellip;</td><td>&hellip;</td><td>&hellip;</td><td>&hellip;</td><td>&hellip;</td></tr><tr><td>&quot;test_99994&quot;</td><td>2.9806e-7</td><td>0.000014</td><td>6.8858e-8</td><td>8.3828e-8</td><td>8.4656e-8</td><td>6.9248e-8</td><td>null</td><td>null</td><td>null</td><td>null</td><td>null</td></tr><tr><td>&quot;test_99995&quot;</td><td>2.9850e-7</td><td>0.000011</td><td>0.000002</td><td>1.3587e-7</td><td>8.5169e-8</td><td>7.6053e-8</td><td>null</td><td>null</td><td>null</td><td>null</td><td>null</td></tr><tr><td>&quot;test_99996&quot;</td><td>2.4464e-7</td><td>0.000008</td><td>0.000002</td><td>1.8611e-7</td><td>9.6251e-8</td><td>7.6861e-8</td><td>null</td><td>null</td><td>null</td><td>null</td><td>null</td></tr><tr><td>&quot;test_99997&quot;</td><td>2.8100e-7</td><td>0.000015</td><td>8.7616e-8</td><td>9.4170e-8</td><td>8.5644e-8</td><td>8.7996e-8</td><td>null</td><td>null</td><td>null</td><td>null</td><td>null</td></tr><tr><td>&quot;test_99998&quot;</td><td>3.2291e-7</td><td>0.000012</td><td>5.9457e-7</td><td>6.7613e-8</td><td>5.5586e-8</td><td>4.8263e-8</td><td>null</td><td>null</td><td>null</td><td>null</td><td>null</td></tr></tbody></table></div>"
      ],
      "text/plain": [
       "shape: (625_000, 12)\n",
       "┌────────────┬──────────────┬───────────────┬───────────────┬───┬───────┬──────┬─────────┬──────┐\n",
       "│ sample_id  ┆ pbuf_ozone_0 ┆ pbuf_ozone_10 ┆ pbuf_ozone_20 ┆ … ┆ month ┆ day  ┆ seconds ┆ tick │\n",
       "│ ---        ┆ ---          ┆ ---           ┆ ---           ┆   ┆ ---   ┆ ---  ┆ ---     ┆ ---  │\n",
       "│ str        ┆ f64          ┆ f64           ┆ f64           ┆   ┆ i64   ┆ i64  ┆ i64     ┆ i64  │\n",
       "╞════════════╪══════════════╪═══════════════╪═══════════════╪═══╪═══════╪══════╪═════════╪══════╡\n",
       "│ test_0     ┆ 2.9057e-7    ┆ 0.000015      ┆ 8.9661e-8     ┆ … ┆ null  ┆ null ┆ null    ┆ null │\n",
       "│ test_10    ┆ 3.0539e-7    ┆ 0.000013      ┆ 7.8383e-7     ┆ … ┆ null  ┆ null ┆ null    ┆ null │\n",
       "│ test_100   ┆ 3.2143e-7    ┆ 0.000012      ┆ 4.8083e-7     ┆ … ┆ null  ┆ null ┆ null    ┆ null │\n",
       "│ test_1000  ┆ 3.0851e-7    ┆ 0.000014      ┆ 1.0223e-7     ┆ … ┆ null  ┆ null ┆ null    ┆ null │\n",
       "│ test_10000 ┆ 2.8595e-7    ┆ 0.000015      ┆ 8.7950e-8     ┆ … ┆ null  ┆ null ┆ null    ┆ null │\n",
       "│ …          ┆ …            ┆ …             ┆ …             ┆ … ┆ …     ┆ …    ┆ …       ┆ …    │\n",
       "│ test_99994 ┆ 2.9806e-7    ┆ 0.000014      ┆ 6.8858e-8     ┆ … ┆ null  ┆ null ┆ null    ┆ null │\n",
       "│ test_99995 ┆ 2.9850e-7    ┆ 0.000011      ┆ 0.000002      ┆ … ┆ null  ┆ null ┆ null    ┆ null │\n",
       "│ test_99996 ┆ 2.4464e-7    ┆ 0.000008      ┆ 0.000002      ┆ … ┆ null  ┆ null ┆ null    ┆ null │\n",
       "│ test_99997 ┆ 2.8100e-7    ┆ 0.000015      ┆ 8.7616e-8     ┆ … ┆ null  ┆ null ┆ null    ┆ null │\n",
       "│ test_99998 ┆ 3.2291e-7    ┆ 0.000012      ┆ 5.9457e-7     ┆ … ┆ null  ┆ null ┆ null    ┆ null │\n",
       "└────────────┴──────────────┴───────────────┴───────────────┴───┴───────┴──────┴─────────┴──────┘"
      ]
     },
     "execution_count": 6,
     "metadata": {},
     "output_type": "execute_result"
    }
   ],
   "source": [
    "skip = 10\n",
    "ozeon_cols = [f\"pbuf_ozone_{skip*s}\" for s in range(60 // skip)]\n",
    "\n",
    "test_info = test_df[[\"sample_id\"] + ozeon_cols].join(\n",
    "    map_df,\n",
    "    on=ozeon_cols,\n",
    "    how=\"left\",\n",
    ")\n",
    "print(\"null\", test_info[\"month\"].is_null().sum())\n",
    "\n",
    "test_info"
   ]
  },
  {
   "cell_type": "code",
   "execution_count": 25,
   "id": "a4032b11-5a2e-4229-a72b-5119975691b7",
   "metadata": {},
   "outputs": [
    {
     "name": "stdout",
     "output_type": "stream",
     "text": [
      "null 0\n"
     ]
    },
    {
     "data": {
      "text/html": [
       "<div><style>\n",
       ".dataframe > thead > tr,\n",
       ".dataframe > tbody > tr {\n",
       "  text-align: right;\n",
       "  white-space: pre-wrap;\n",
       "}\n",
       "</style>\n",
       "<small>shape: (625_000, 16)</small><table border=\"1\" class=\"dataframe\"><thead><tr><th>sample_id</th><th>pbuf_ozone_0</th><th>pbuf_ozone_1</th><th>pbuf_ozone_2</th><th>pbuf_ozone_3</th><th>pbuf_ozone_4</th><th>pbuf_ozone_5</th><th>pbuf_ozone_6</th><th>pbuf_ozone_7</th><th>pbuf_ozone_8</th><th>pbuf_ozone_9</th><th>location</th><th>month</th><th>day</th><th>seconds</th><th>tick</th></tr><tr><td>str</td><td>f64</td><td>f64</td><td>f64</td><td>f64</td><td>f64</td><td>f64</td><td>f64</td><td>f64</td><td>f64</td><td>f64</td><td>u32</td><td>i64</td><td>i64</td><td>i64</td><td>i64</td></tr></thead><tbody><tr><td>&quot;test_0&quot;</td><td>2.9057e-7</td><td>5.2333e-7</td><td>9.3802e-7</td><td>0.000002</td><td>0.000003</td><td>0.000005</td><td>0.000008</td><td>0.000013</td><td>0.000015</td><td>0.000016</td><td>230</td><td>3</td><td>8</td><td>28800</td><td>24</td></tr><tr><td>&quot;test_10&quot;</td><td>3.0539e-7</td><td>5.5003e-7</td><td>9.8587e-7</td><td>0.000002</td><td>0.000003</td><td>0.000005</td><td>0.000009</td><td>0.000014</td><td>0.000014</td><td>0.000014</td><td>55</td><td>3</td><td>14</td><td>0</td><td>0</td></tr><tr><td>&quot;test_100&quot;</td><td>3.2143e-7</td><td>5.7890e-7</td><td>0.000001</td><td>0.000002</td><td>0.000003</td><td>0.000006</td><td>0.000009</td><td>0.000015</td><td>0.000014</td><td>0.000013</td><td>1</td><td>7</td><td>27</td><td>0</td><td>0</td></tr><tr><td>&quot;test_1000&quot;</td><td>3.0851e-7</td><td>5.5565e-7</td><td>9.9595e-7</td><td>0.000002</td><td>0.000003</td><td>0.000005</td><td>0.000009</td><td>0.000014</td><td>0.000015</td><td>0.000015</td><td>25</td><td>7</td><td>24</td><td>57600</td><td>48</td></tr><tr><td>&quot;test_10000&quot;</td><td>2.8595e-7</td><td>5.1502e-7</td><td>9.2312e-7</td><td>0.000002</td><td>0.000003</td><td>0.000005</td><td>0.000008</td><td>0.000013</td><td>0.000015</td><td>0.000016</td><td>216</td><td>3</td><td>18</td><td>57600</td><td>48</td></tr><tr><td>&hellip;</td><td>&hellip;</td><td>&hellip;</td><td>&hellip;</td><td>&hellip;</td><td>&hellip;</td><td>&hellip;</td><td>&hellip;</td><td>&hellip;</td><td>&hellip;</td><td>&hellip;</td><td>&hellip;</td><td>&hellip;</td><td>&hellip;</td><td>&hellip;</td><td>&hellip;</td></tr><tr><td>&quot;test_99994&quot;</td><td>2.9806e-7</td><td>5.3682e-7</td><td>9.6220e-7</td><td>0.000002</td><td>0.000003</td><td>0.000005</td><td>0.000009</td><td>0.000014</td><td>0.000014</td><td>0.000015</td><td>106</td><td>1</td><td>25</td><td>28800</td><td>24</td></tr><tr><td>&quot;test_99995&quot;</td><td>2.9850e-7</td><td>5.3761e-7</td><td>9.6361e-7</td><td>0.000002</td><td>0.000003</td><td>0.000005</td><td>0.000009</td><td>0.000013</td><td>0.000012</td><td>0.000011</td><td>356</td><td>12</td><td>30</td><td>0</td><td>0</td></tr><tr><td>&quot;test_99996&quot;</td><td>2.4464e-7</td><td>4.4061e-7</td><td>7.8975e-7</td><td>0.000001</td><td>0.000002</td><td>0.000004</td><td>0.000007</td><td>0.000011</td><td>0.00001</td><td>0.000009</td><td>360</td><td>5</td><td>2</td><td>0</td><td>0</td></tr><tr><td>&quot;test_99997&quot;</td><td>2.8100e-7</td><td>5.0609e-7</td><td>9.0712e-7</td><td>0.000002</td><td>0.000003</td><td>0.000005</td><td>0.000008</td><td>0.000013</td><td>0.000015</td><td>0.000016</td><td>46</td><td>5</td><td>4</td><td>0</td><td>0</td></tr><tr><td>&quot;test_99998&quot;</td><td>3.2291e-7</td><td>5.8157e-7</td><td>0.000001</td><td>0.000002</td><td>0.000003</td><td>0.000006</td><td>0.000009</td><td>0.000015</td><td>0.000014</td><td>0.000013</td><td>4</td><td>8</td><td>2</td><td>57600</td><td>48</td></tr></tbody></table></div>"
      ],
      "text/plain": [
       "shape: (625_000, 16)\n",
       "┌────────────┬──────────────┬──────────────┬──────────────┬───┬───────┬─────┬─────────┬──────┐\n",
       "│ sample_id  ┆ pbuf_ozone_0 ┆ pbuf_ozone_1 ┆ pbuf_ozone_2 ┆ … ┆ month ┆ day ┆ seconds ┆ tick │\n",
       "│ ---        ┆ ---          ┆ ---          ┆ ---          ┆   ┆ ---   ┆ --- ┆ ---     ┆ ---  │\n",
       "│ str        ┆ f64          ┆ f64          ┆ f64          ┆   ┆ i64   ┆ i64 ┆ i64     ┆ i64  │\n",
       "╞════════════╪══════════════╪══════════════╪══════════════╪═══╪═══════╪═════╪═════════╪══════╡\n",
       "│ test_0     ┆ 2.9057e-7    ┆ 5.2333e-7    ┆ 9.3802e-7    ┆ … ┆ 3     ┆ 8   ┆ 28800   ┆ 24   │\n",
       "│ test_10    ┆ 3.0539e-7    ┆ 5.5003e-7    ┆ 9.8587e-7    ┆ … ┆ 3     ┆ 14  ┆ 0       ┆ 0    │\n",
       "│ test_100   ┆ 3.2143e-7    ┆ 5.7890e-7    ┆ 0.000001     ┆ … ┆ 7     ┆ 27  ┆ 0       ┆ 0    │\n",
       "│ test_1000  ┆ 3.0851e-7    ┆ 5.5565e-7    ┆ 9.9595e-7    ┆ … ┆ 7     ┆ 24  ┆ 57600   ┆ 48   │\n",
       "│ test_10000 ┆ 2.8595e-7    ┆ 5.1502e-7    ┆ 9.2312e-7    ┆ … ┆ 3     ┆ 18  ┆ 57600   ┆ 48   │\n",
       "│ …          ┆ …            ┆ …            ┆ …            ┆ … ┆ …     ┆ …   ┆ …       ┆ …    │\n",
       "│ test_99994 ┆ 2.9806e-7    ┆ 5.3682e-7    ┆ 9.6220e-7    ┆ … ┆ 1     ┆ 25  ┆ 28800   ┆ 24   │\n",
       "│ test_99995 ┆ 2.9850e-7    ┆ 5.3761e-7    ┆ 9.6361e-7    ┆ … ┆ 12    ┆ 30  ┆ 0       ┆ 0    │\n",
       "│ test_99996 ┆ 2.4464e-7    ┆ 4.4061e-7    ┆ 7.8975e-7    ┆ … ┆ 5     ┆ 2   ┆ 0       ┆ 0    │\n",
       "│ test_99997 ┆ 2.8100e-7    ┆ 5.0609e-7    ┆ 9.0712e-7    ┆ … ┆ 5     ┆ 4   ┆ 0       ┆ 0    │\n",
       "│ test_99998 ┆ 3.2291e-7    ┆ 5.8157e-7    ┆ 0.000001     ┆ … ┆ 8     ┆ 2   ┆ 57600   ┆ 48   │\n",
       "└────────────┴──────────────┴──────────────┴──────────────┴───┴───────┴─────┴─────────┴──────┘"
      ]
     },
     "execution_count": 25,
     "metadata": {},
     "output_type": "execute_result"
    }
   ],
   "source": [
    "ozeon_cols = [f\"pbuf_ozone_{s}\" for s in range(10)]\n",
    "\n",
    "test_info = (\n",
    "    test_df[[\"sample_id\"] + ozeon_cols]\n",
    "    .with_columns([pl.col(col).round(12) for col in ozeon_cols])\n",
    "    .join(\n",
    "        map_df.with_columns([pl.col(col).round(12) for col in ozeon_cols]),\n",
    "        on=ozeon_cols,\n",
    "        how=\"left\",\n",
    "    )\n",
    ")\n",
    "print(\"null\", test_info[\"month\"].is_null().sum())\n",
    "\n",
    "test_info"
   ]
  },
  {
   "cell_type": "code",
   "execution_count": 27,
   "id": "36d48ae3-6c75-4e86-b8f9-5d6aaa0246e1",
   "metadata": {},
   "outputs": [
    {
     "data": {
      "text/html": [
       "<div><style>\n",
       ".dataframe > thead > tr,\n",
       ".dataframe > tbody > tr {\n",
       "  text-align: right;\n",
       "  white-space: pre-wrap;\n",
       "}\n",
       "</style>\n",
       "<small>shape: (3, 2)</small><table border=\"1\" class=\"dataframe\"><thead><tr><th>seconds</th><th>count</th></tr><tr><td>i64</td><td>u32</td></tr></thead><tbody><tr><td>57600</td><td>208128</td></tr><tr><td>0</td><td>208512</td></tr><tr><td>28800</td><td>208360</td></tr></tbody></table></div>"
      ],
      "text/plain": [
       "shape: (3, 2)\n",
       "┌─────────┬────────┐\n",
       "│ seconds ┆ count  │\n",
       "│ ---     ┆ ---    │\n",
       "│ i64     ┆ u32    │\n",
       "╞═════════╪════════╡\n",
       "│ 57600   ┆ 208128 │\n",
       "│ 0       ┆ 208512 │\n",
       "│ 28800   ┆ 208360 │\n",
       "└─────────┴────────┘"
      ]
     },
     "execution_count": 27,
     "metadata": {},
     "output_type": "execute_result"
    }
   ],
   "source": [
    "test_info['seconds'].value_counts()"
   ]
  },
  {
   "cell_type": "code",
   "execution_count": 23,
   "id": "d91e4791-ad0e-41a0-ac9c-984b417e1c90",
   "metadata": {},
   "outputs": [
    {
     "data": {
      "text/html": [
       "<div><style>\n",
       ".dataframe > thead > tr,\n",
       ".dataframe > tbody > tr {\n",
       "  text-align: right;\n",
       "  white-space: pre-wrap;\n",
       "}\n",
       "</style>\n",
       "<small>shape: (13, 2)</small><table border=\"1\" class=\"dataframe\"><thead><tr><th>month</th><th>count</th></tr><tr><td>i64</td><td>u32</td></tr></thead><tbody><tr><td>null</td><td>132005</td></tr><tr><td>1</td><td>30106</td></tr><tr><td>2</td><td>27066</td></tr><tr><td>3</td><td>50806</td></tr><tr><td>4</td><td>46756</td></tr><tr><td>&hellip;</td><td>&hellip;</td></tr><tr><td>8</td><td>54040</td></tr><tr><td>9</td><td>25163</td></tr><tr><td>10</td><td>24599</td></tr><tr><td>11</td><td>26942</td></tr><tr><td>12</td><td>30705</td></tr></tbody></table></div>"
      ],
      "text/plain": [
       "shape: (13, 2)\n",
       "┌───────┬────────┐\n",
       "│ month ┆ count  │\n",
       "│ ---   ┆ ---    │\n",
       "│ i64   ┆ u32    │\n",
       "╞═══════╪════════╡\n",
       "│ null  ┆ 132005 │\n",
       "│ 1     ┆ 30106  │\n",
       "│ 2     ┆ 27066  │\n",
       "│ 3     ┆ 50806  │\n",
       "│ 4     ┆ 46756  │\n",
       "│ …     ┆ …      │\n",
       "│ 8     ┆ 54040  │\n",
       "│ 9     ┆ 25163  │\n",
       "│ 10    ┆ 24599  │\n",
       "│ 11    ┆ 26942  │\n",
       "│ 12    ┆ 30705  │\n",
       "└───────┴────────┘"
      ]
     },
     "execution_count": 23,
     "metadata": {},
     "output_type": "execute_result"
    }
   ],
   "source": [
    "test_info[\"month\"].value_counts().sort(\"month\")"
   ]
  },
  {
   "cell_type": "code",
   "execution_count": 7,
   "id": "ea0aacb8-168c-4c65-bbd7-6cf0cd7d44a9",
   "metadata": {},
   "outputs": [
    {
     "name": "stdout",
     "output_type": "stream",
     "text": [
      "null 0\n"
     ]
    },
    {
     "data": {
      "text/html": [
       "<div><style>\n",
       ".dataframe > thead > tr,\n",
       ".dataframe > tbody > tr {\n",
       "  text-align: right;\n",
       "  white-space: pre-wrap;\n",
       "}\n",
       "</style>\n",
       "<small>shape: (625_000, 12)</small><table border=\"1\" class=\"dataframe\"><thead><tr><th>sample_id</th><th>pbuf_ozone_10</th><th>location</th><th>pbuf_ozone_0</th><th>pbuf_ozone_20</th><th>pbuf_ozone_30</th><th>pbuf_ozone_40</th><th>pbuf_ozone_50</th><th>month</th><th>day</th><th>seconds</th><th>tick</th></tr><tr><td>str</td><td>f64</td><td>u32</td><td>f64</td><td>f64</td><td>f64</td><td>f64</td><td>f64</td><td>i64</td><td>i64</td><td>i64</td><td>i64</td></tr></thead><tbody><tr><td>&quot;test_169651&quot;</td><td>0.000013</td><td>0</td><td>2.6356e-7</td><td>2.4476e-7</td><td>6.7419e-8</td><td>5.5847e-8</td><td>3.4644e-8</td><td>3</td><td>1</td><td>0</td><td>0</td></tr><tr><td>&quot;test_524862&quot;</td><td>0.000013</td><td>1</td><td>2.6128e-7</td><td>3.2513e-7</td><td>6.8855e-8</td><td>5.3563e-8</td><td>3.3092e-8</td><td>3</td><td>1</td><td>0</td><td>0</td></tr><tr><td>&quot;test_634129&quot;</td><td>0.000015</td><td>2</td><td>2.7551e-7</td><td>1.4950e-7</td><td>7.0802e-8</td><td>5.8015e-8</td><td>2.9817e-8</td><td>3</td><td>1</td><td>0</td><td>0</td></tr><tr><td>&quot;test_403572&quot;</td><td>0.000014</td><td>3</td><td>2.7210e-7</td><td>1.8384e-7</td><td>7.1740e-8</td><td>5.8858e-8</td><td>2.8088e-8</td><td>3</td><td>1</td><td>0</td><td>0</td></tr><tr><td>&quot;test_484578&quot;</td><td>0.000013</td><td>4</td><td>2.6040e-7</td><td>3.5960e-7</td><td>6.9934e-8</td><td>5.2993e-8</td><td>3.2582e-8</td><td>3</td><td>1</td><td>0</td><td>0</td></tr><tr><td>&hellip;</td><td>&hellip;</td><td>&hellip;</td><td>&hellip;</td><td>&hellip;</td><td>&hellip;</td><td>&hellip;</td><td>&hellip;</td><td>&hellip;</td><td>&hellip;</td><td>&hellip;</td><td>&hellip;</td></tr><tr><td>&quot;test_578220&quot;</td><td>0.000015</td><td>227</td><td>3.0087e-7</td><td>8.8404e-8</td><td>6.2248e-8</td><td>6.3355e-8</td><td>5.5999e-8</td><td>1</td><td>7</td><td>79200</td><td>66</td></tr><tr><td>&quot;test_395695&quot;</td><td>0.000016</td><td>228</td><td>3.0920e-7</td><td>7.2369e-8</td><td>5.1252e-8</td><td>5.4098e-8</td><td>4.7274e-8</td><td>1</td><td>7</td><td>79200</td><td>66</td></tr><tr><td>&quot;test_88942&quot;</td><td>0.000016</td><td>229</td><td>3.0892e-7</td><td>7.5348e-8</td><td>5.6648e-8</td><td>6.0303e-8</td><td>5.5206e-8</td><td>1</td><td>7</td><td>79200</td><td>66</td></tr><tr><td>&quot;test_79382&quot;</td><td>0.000014</td><td>230</td><td>3.0082e-7</td><td>9.7813e-8</td><td>6.3440e-8</td><td>6.8849e-8</td><td>6.5274e-8</td><td>1</td><td>7</td><td>79200</td><td>66</td></tr><tr><td>&quot;test_601350&quot;</td><td>0.000014</td><td>231</td><td>3.0046e-7</td><td>9.8775e-8</td><td>6.2645e-8</td><td>7.0905e-8</td><td>6.3120e-8</td><td>1</td><td>7</td><td>79200</td><td>66</td></tr></tbody></table></div>"
      ],
      "text/plain": [
       "shape: (625_000, 12)\n",
       "┌─────────────┬───────────────┬──────────┬──────────────┬───┬───────┬─────┬─────────┬──────┐\n",
       "│ sample_id   ┆ pbuf_ozone_10 ┆ location ┆ pbuf_ozone_0 ┆ … ┆ month ┆ day ┆ seconds ┆ tick │\n",
       "│ ---         ┆ ---           ┆ ---      ┆ ---          ┆   ┆ ---   ┆ --- ┆ ---     ┆ ---  │\n",
       "│ str         ┆ f64           ┆ u32      ┆ f64          ┆   ┆ i64   ┆ i64 ┆ i64     ┆ i64  │\n",
       "╞═════════════╪═══════════════╪══════════╪══════════════╪═══╪═══════╪═════╪═════════╪══════╡\n",
       "│ test_169651 ┆ 0.000013      ┆ 0        ┆ 2.6356e-7    ┆ … ┆ 3     ┆ 1   ┆ 0       ┆ 0    │\n",
       "│ test_524862 ┆ 0.000013      ┆ 1        ┆ 2.6128e-7    ┆ … ┆ 3     ┆ 1   ┆ 0       ┆ 0    │\n",
       "│ test_634129 ┆ 0.000015      ┆ 2        ┆ 2.7551e-7    ┆ … ┆ 3     ┆ 1   ┆ 0       ┆ 0    │\n",
       "│ test_403572 ┆ 0.000014      ┆ 3        ┆ 2.7210e-7    ┆ … ┆ 3     ┆ 1   ┆ 0       ┆ 0    │\n",
       "│ test_484578 ┆ 0.000013      ┆ 4        ┆ 2.6040e-7    ┆ … ┆ 3     ┆ 1   ┆ 0       ┆ 0    │\n",
       "│ …           ┆ …             ┆ …        ┆ …            ┆ … ┆ …     ┆ …   ┆ …       ┆ …    │\n",
       "│ test_578220 ┆ 0.000015      ┆ 227      ┆ 3.0087e-7    ┆ … ┆ 1     ┆ 7   ┆ 79200   ┆ 66   │\n",
       "│ test_395695 ┆ 0.000016      ┆ 228      ┆ 3.0920e-7    ┆ … ┆ 1     ┆ 7   ┆ 79200   ┆ 66   │\n",
       "│ test_88942  ┆ 0.000016      ┆ 229      ┆ 3.0892e-7    ┆ … ┆ 1     ┆ 7   ┆ 79200   ┆ 66   │\n",
       "│ test_79382  ┆ 0.000014      ┆ 230      ┆ 3.0082e-7    ┆ … ┆ 1     ┆ 7   ┆ 79200   ┆ 66   │\n",
       "│ test_601350 ┆ 0.000014      ┆ 231      ┆ 3.0046e-7    ┆ … ┆ 1     ┆ 7   ┆ 79200   ┆ 66   │\n",
       "└─────────────┴───────────────┴──────────┴──────────────┴───┴───────┴─────┴─────────┴──────┘"
      ]
     },
     "execution_count": 7,
     "metadata": {},
     "output_type": "execute_result"
    }
   ],
   "source": [
    "test_old_info = test_old_df[[\"sample_id\", \"pbuf_ozone_10\"]].join(\n",
    "    map_df, on=\"pbuf_ozone_10\", how=\"left\"\n",
    ")\n",
    "\n",
    "print(\"null\", test_old_info[\"month\"].is_null().sum())\n",
    "test_old_info"
   ]
  },
  {
   "cell_type": "code",
   "execution_count": null,
   "id": "11c9b45c-eb6f-44e9-a284-05c06c9b2258",
   "metadata": {},
   "outputs": [],
   "source": []
  }
 ],
 "metadata": {
  "kernelspec": {
   "display_name": "Python 3 (ipykernel) (Local)",
   "language": "python",
   "name": "python3"
  },
  "language_info": {
   "codemirror_mode": {
    "name": "ipython",
    "version": 3
   },
   "file_extension": ".py",
   "mimetype": "text/x-python",
   "name": "python",
   "nbconvert_exporter": "python",
   "pygments_lexer": "ipython3",
   "version": "3.10.13"
  }
 },
 "nbformat": 4,
 "nbformat_minor": 5
}
