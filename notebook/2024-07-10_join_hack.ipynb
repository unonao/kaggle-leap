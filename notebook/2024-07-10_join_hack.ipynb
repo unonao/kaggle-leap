{
 "cells": [
  {
   "cell_type": "code",
   "execution_count": 1,
   "id": "59c5d0a1-3691-4804-a9d8-80f682cb54ff",
   "metadata": {},
   "outputs": [
    {
     "name": "stdout",
     "output_type": "stream",
     "text": [
      "/kaggle/working\n"
     ]
    }
   ],
   "source": [
    "%cd /kaggle/working"
   ]
  },
  {
   "cell_type": "code",
   "execution_count": 2,
   "id": "40697056-e3ff-422d-84f5-7c0e21aac018",
   "metadata": {},
   "outputs": [],
   "source": [
    "import numpy as np\n",
    "import polars as pl"
   ]
  },
  {
   "cell_type": "code",
   "execution_count": 26,
   "id": "36b34351-cede-447b-be86-cc7e695adb31",
   "metadata": {},
   "outputs": [],
   "source": [
    "test_info_df = pl.read_parquet(\"output/preprocess/make_hack_map/base/test_info.parquet\")\n",
    "test_old_info_df = pl.read_parquet(\n",
    "    \"output/preprocess/make_hack_map/base/test_old_info.parquet\"\n",
    ")"
   ]
  },
  {
   "cell_type": "code",
   "execution_count": 27,
   "id": "a68b0fd4-8179-463f-8dab-1e3fb5f2ef10",
   "metadata": {},
   "outputs": [
    {
     "data": {
      "text/html": [
       "<div><style>\n",
       ".dataframe > thead > tr,\n",
       ".dataframe > tbody > tr {\n",
       "  text-align: right;\n",
       "  white-space: pre-wrap;\n",
       "}\n",
       "</style>\n",
       "<small>shape: (5, 6)</small><table border=\"1\" class=\"dataframe\"><thead><tr><th>sample_id</th><th>location</th><th>month</th><th>day</th><th>seconds</th><th>tick</th></tr><tr><td>str</td><td>u32</td><td>i64</td><td>i64</td><td>i64</td><td>i64</td></tr></thead><tbody><tr><td>&quot;test_0&quot;</td><td>230</td><td>3</td><td>8</td><td>28800</td><td>24</td></tr><tr><td>&quot;test_10&quot;</td><td>55</td><td>3</td><td>14</td><td>0</td><td>0</td></tr><tr><td>&quot;test_100&quot;</td><td>1</td><td>7</td><td>27</td><td>0</td><td>0</td></tr><tr><td>&quot;test_1000&quot;</td><td>25</td><td>7</td><td>24</td><td>57600</td><td>48</td></tr><tr><td>&quot;test_10000&quot;</td><td>216</td><td>3</td><td>18</td><td>57600</td><td>48</td></tr></tbody></table></div>"
      ],
      "text/plain": [
       "shape: (5, 6)\n",
       "┌────────────┬──────────┬───────┬─────┬─────────┬──────┐\n",
       "│ sample_id  ┆ location ┆ month ┆ day ┆ seconds ┆ tick │\n",
       "│ ---        ┆ ---      ┆ ---   ┆ --- ┆ ---     ┆ ---  │\n",
       "│ str        ┆ u32      ┆ i64   ┆ i64 ┆ i64     ┆ i64  │\n",
       "╞════════════╪══════════╪═══════╪═════╪═════════╪══════╡\n",
       "│ test_0     ┆ 230      ┆ 3     ┆ 8   ┆ 28800   ┆ 24   │\n",
       "│ test_10    ┆ 55       ┆ 3     ┆ 14  ┆ 0       ┆ 0    │\n",
       "│ test_100   ┆ 1        ┆ 7     ┆ 27  ┆ 0       ┆ 0    │\n",
       "│ test_1000  ┆ 25       ┆ 7     ┆ 24  ┆ 57600   ┆ 48   │\n",
       "│ test_10000 ┆ 216      ┆ 3     ┆ 18  ┆ 57600   ┆ 48   │\n",
       "└────────────┴──────────┴───────┴─────┴─────────┴──────┘"
      ]
     },
     "execution_count": 27,
     "metadata": {},
     "output_type": "execute_result"
    }
   ],
   "source": [
    "test_info_df.head()"
   ]
  },
  {
   "cell_type": "code",
   "execution_count": 28,
   "id": "2733302c-1138-4a02-b5ef-6606369af0d7",
   "metadata": {},
   "outputs": [],
   "source": [
    "test_pred_df = pl.read_parquet(\n",
    "    \"output/experiments/810_pred_elaps_time/base/test_predict.parquet\"\n",
    ")\n",
    "oof_df = pl.read_parquet(\"output/experiments/810_pred_elaps_time/base/oof.parquet\")"
   ]
  },
  {
   "cell_type": "code",
   "execution_count": 29,
   "id": "2c4c5af1-4d97-4860-8c27-188a3a47a939",
   "metadata": {},
   "outputs": [
    {
     "data": {
      "text/html": [
       "<div><style>\n",
       ".dataframe > thead > tr,\n",
       ".dataframe > tbody > tr {\n",
       "  text-align: right;\n",
       "  white-space: pre-wrap;\n",
       "}\n",
       "</style>\n",
       "<small>shape: (5, 8)</small><table border=\"1\" class=\"dataframe\"><thead><tr><th>sample_id</th><th>location</th><th>month</th><th>day</th><th>seconds</th><th>tick</th><th>no_year_timestamp</th><th>pred</th></tr><tr><td>str</td><td>u32</td><td>i64</td><td>i64</td><td>i64</td><td>i64</td><td>datetime[μs]</td><td>f32</td></tr></thead><tbody><tr><td>&quot;test_0&quot;</td><td>230</td><td>3</td><td>8</td><td>28800</td><td>24</td><td>2000-03-08 08:00:00</td><td>0.027219</td></tr><tr><td>&quot;test_10&quot;</td><td>55</td><td>3</td><td>14</td><td>0</td><td>0</td><td>2000-03-14 00:00:00</td><td>0.559951</td></tr><tr><td>&quot;test_100&quot;</td><td>1</td><td>7</td><td>27</td><td>0</td><td>0</td><td>2000-07-27 00:00:00</td><td>0.758606</td></tr><tr><td>&quot;test_1000&quot;</td><td>25</td><td>7</td><td>24</td><td>57600</td><td>48</td><td>2000-07-24 16:00:00</td><td>0.217828</td></tr><tr><td>&quot;test_10000&quot;</td><td>216</td><td>3</td><td>18</td><td>57600</td><td>48</td><td>2000-03-18 16:00:00</td><td>0.023667</td></tr></tbody></table></div>"
      ],
      "text/plain": [
       "shape: (5, 8)\n",
       "┌────────────┬──────────┬───────┬─────┬─────────┬──────┬─────────────────────┬──────────┐\n",
       "│ sample_id  ┆ location ┆ month ┆ day ┆ seconds ┆ tick ┆ no_year_timestamp   ┆ pred     │\n",
       "│ ---        ┆ ---      ┆ ---   ┆ --- ┆ ---     ┆ ---  ┆ ---                 ┆ ---      │\n",
       "│ str        ┆ u32      ┆ i64   ┆ i64 ┆ i64     ┆ i64  ┆ datetime[μs]        ┆ f32      │\n",
       "╞════════════╪══════════╪═══════╪═════╪═════════╪══════╪═════════════════════╪══════════╡\n",
       "│ test_0     ┆ 230      ┆ 3     ┆ 8   ┆ 28800   ┆ 24   ┆ 2000-03-08 08:00:00 ┆ 0.027219 │\n",
       "│ test_10    ┆ 55       ┆ 3     ┆ 14  ┆ 0       ┆ 0    ┆ 2000-03-14 00:00:00 ┆ 0.559951 │\n",
       "│ test_100   ┆ 1        ┆ 7     ┆ 27  ┆ 0       ┆ 0    ┆ 2000-07-27 00:00:00 ┆ 0.758606 │\n",
       "│ test_1000  ┆ 25       ┆ 7     ┆ 24  ┆ 57600   ┆ 48   ┆ 2000-07-24 16:00:00 ┆ 0.217828 │\n",
       "│ test_10000 ┆ 216      ┆ 3     ┆ 18  ┆ 57600   ┆ 48   ┆ 2000-03-18 16:00:00 ┆ 0.023667 │\n",
       "└────────────┴──────────┴───────┴─────┴─────────┴──────┴─────────────────────┴──────────┘"
      ]
     },
     "execution_count": 29,
     "metadata": {},
     "output_type": "execute_result"
    }
   ],
   "source": [
    "test_info_df = test_info_df.with_columns(\n",
    "    [\n",
    "        (\n",
    "            pl.datetime(2000, pl.col(\"month\"), pl.col(\"day\"), 0, 0, 0)\n",
    "            + pl.duration(seconds=pl.col(\"seconds\"))\n",
    "        ).alias(\"no_year_timestamp\"),\n",
    "        test_pred_df[\"pred\"],\n",
    "    ]\n",
    ")\n",
    "test_info_df.head()"
   ]
  },
  {
   "cell_type": "code",
   "execution_count": 30,
   "id": "b28a549a-e362-40c7-afb8-6c92f06c9471",
   "metadata": {},
   "outputs": [
    {
     "data": {
      "text/html": [
       "<div><style>\n",
       ".dataframe > thead > tr,\n",
       ".dataframe > tbody > tr {\n",
       "  text-align: right;\n",
       "  white-space: pre-wrap;\n",
       "}\n",
       "</style>\n",
       "<small>shape: (5, 10)</small><table border=\"1\" class=\"dataframe\"><thead><tr><th>index</th><th>sample_id</th><th>location</th><th>month</th><th>day</th><th>seconds</th><th>tick</th><th>elaps</th><th>no_year_timestamp</th><th>pred</th></tr><tr><td>u32</td><td>str</td><td>u32</td><td>i64</td><td>i64</td><td>i64</td><td>i64</td><td>f64</td><td>datetime[μs]</td><td>f64</td></tr></thead><tbody><tr><td>0</td><td>&quot;test_169651&quot;</td><td>0</td><td>3</td><td>1</td><td>0</td><td>0</td><td>0.0</td><td>2000-03-01 00:00:00</td><td>0.011505</td></tr><tr><td>1</td><td>&quot;test_524862&quot;</td><td>1</td><td>3</td><td>1</td><td>0</td><td>0</td><td>0.0000016</td><td>2000-03-01 00:00:00</td><td>0.012009</td></tr><tr><td>2</td><td>&quot;test_634129&quot;</td><td>2</td><td>3</td><td>1</td><td>0</td><td>0</td><td>0.0000032</td><td>2000-03-01 00:00:00</td><td>0.008743</td></tr><tr><td>3</td><td>&quot;test_403572&quot;</td><td>3</td><td>3</td><td>1</td><td>0</td><td>0</td><td>0.0000048</td><td>2000-03-01 00:00:00</td><td>0.009338</td></tr><tr><td>4</td><td>&quot;test_484578&quot;</td><td>4</td><td>3</td><td>1</td><td>0</td><td>0</td><td>0.0000064</td><td>2000-03-01 00:00:00</td><td>0.013329</td></tr></tbody></table></div>"
      ],
      "text/plain": [
       "shape: (5, 10)\n",
       "┌───────┬─────────────┬──────────┬───────┬───┬──────┬───────────┬─────────────────────┬──────────┐\n",
       "│ index ┆ sample_id   ┆ location ┆ month ┆ … ┆ tick ┆ elaps     ┆ no_year_timestamp   ┆ pred     │\n",
       "│ ---   ┆ ---         ┆ ---      ┆ ---   ┆   ┆ ---  ┆ ---       ┆ ---                 ┆ ---      │\n",
       "│ u32   ┆ str         ┆ u32      ┆ i64   ┆   ┆ i64  ┆ f64       ┆ datetime[μs]        ┆ f64      │\n",
       "╞═══════╪═════════════╪══════════╪═══════╪═══╪══════╪═══════════╪═════════════════════╪══════════╡\n",
       "│ 0     ┆ test_169651 ┆ 0        ┆ 3     ┆ … ┆ 0    ┆ 0.0       ┆ 2000-03-01 00:00:00 ┆ 0.011505 │\n",
       "│ 1     ┆ test_524862 ┆ 1        ┆ 3     ┆ … ┆ 0    ┆ 0.0000016 ┆ 2000-03-01 00:00:00 ┆ 0.012009 │\n",
       "│ 2     ┆ test_634129 ┆ 2        ┆ 3     ┆ … ┆ 0    ┆ 0.0000032 ┆ 2000-03-01 00:00:00 ┆ 0.008743 │\n",
       "│ 3     ┆ test_403572 ┆ 3        ┆ 3     ┆ … ┆ 0    ┆ 0.0000048 ┆ 2000-03-01 00:00:00 ┆ 0.009338 │\n",
       "│ 4     ┆ test_484578 ┆ 4        ┆ 3     ┆ … ┆ 0    ┆ 0.0000064 ┆ 2000-03-01 00:00:00 ┆ 0.013329 │\n",
       "└───────┴─────────────┴──────────┴───────┴───┴──────┴───────────┴─────────────────────┴──────────┘"
      ]
     },
     "execution_count": 30,
     "metadata": {},
     "output_type": "execute_result"
    }
   ],
   "source": [
    "test_old_info_df = (\n",
    "    test_old_info_df.with_row_index()\n",
    "    .with_columns((pl.col(\"index\") / len(test_old_info_df)).alias(\"elaps\"))\n",
    "    .with_columns(\n",
    "        (\n",
    "            pl.datetime(2000, pl.col(\"month\"), pl.col(\"day\"), 0, 0, 0)\n",
    "            + pl.duration(seconds=pl.col(\"seconds\"))\n",
    "        ).alias(\"no_year_timestamp\"),\n",
    "        oof_df[\"pred\"],\n",
    "    )\n",
    ")\n",
    "test_old_info_df.head()"
   ]
  },
  {
   "cell_type": "markdown",
   "id": "0aba37db-1369-4f41-94d1-dc891667e3b4",
   "metadata": {},
   "source": [
    "## 誤差の確認\n",
    "### oof の誤差を確認\n",
    "oof について予測値との差分は最大でも 0.13666 で、678.168402778* 0.13666 = 92日分\n",
    "\n",
    "重複する2つが１年離れていれば大小関係を比較するだけでどっちが１年目でどっちが２年目か判断可能"
   ]
  },
  {
   "cell_type": "code",
   "execution_count": 31,
   "id": "74cc2e03-3fb3-44ef-8277-acdda8c20d03",
   "metadata": {},
   "outputs": [
    {
     "data": {
      "text/html": [
       "<div><style>\n",
       ".dataframe > thead > tr,\n",
       ".dataframe > tbody > tr {\n",
       "  text-align: right;\n",
       "  white-space: pre-wrap;\n",
       "}\n",
       "</style>\n",
       "<small>shape: (9, 2)</small><table border=\"1\" class=\"dataframe\"><thead><tr><th>statistic</th><th>value</th></tr><tr><td>str</td><td>f64</td></tr></thead><tbody><tr><td>&quot;count&quot;</td><td>625000.0</td></tr><tr><td>&quot;null_count&quot;</td><td>0.0</td></tr><tr><td>&quot;mean&quot;</td><td>0.005449</td></tr><tr><td>&quot;std&quot;</td><td>0.004499</td></tr><tr><td>&quot;min&quot;</td><td>4.8438e-8</td></tr><tr><td>&quot;25%&quot;</td><td>0.002079</td></tr><tr><td>&quot;50%&quot;</td><td>0.004427</td></tr><tr><td>&quot;75%&quot;</td><td>0.007695</td></tr><tr><td>&quot;max&quot;</td><td>0.136681</td></tr></tbody></table></div>"
      ],
      "text/plain": [
       "shape: (9, 2)\n",
       "┌────────────┬───────────┐\n",
       "│ statistic  ┆ value     │\n",
       "│ ---        ┆ ---       │\n",
       "│ str        ┆ f64       │\n",
       "╞════════════╪═══════════╡\n",
       "│ count      ┆ 625000.0  │\n",
       "│ null_count ┆ 0.0       │\n",
       "│ mean       ┆ 0.005449  │\n",
       "│ std        ┆ 0.004499  │\n",
       "│ min        ┆ 4.8438e-8 │\n",
       "│ 25%        ┆ 0.002079  │\n",
       "│ 50%        ┆ 0.004427  │\n",
       "│ 75%        ┆ 0.007695  │\n",
       "│ max        ┆ 0.136681  │\n",
       "└────────────┴───────────┘"
      ]
     },
     "execution_count": 31,
     "metadata": {},
     "output_type": "execute_result"
    }
   ],
   "source": [
    "diff_sereise = (test_old_info_df[\"elaps\"] - test_old_info_df[\"pred\"]).abs()\n",
    "\n",
    "diff_sereise.describe()"
   ]
  },
  {
   "cell_type": "code",
   "execution_count": 32,
   "id": "6e843a49-8b80-46f6-ab59-cf4cbae56be9",
   "metadata": {
    "scrolled": true
   },
   "outputs": [
    {
     "data": {
      "image/png": "[encoded data removed]",
      "text/plain": [
       "<Figure size 640x480 with 1 Axes>"
      ]
     },
     "metadata": {},
     "output_type": "display_data"
    }
   ],
   "source": [
    "import matplotlib.pyplot as plt\n",
    "\n",
    "plt.hist(diff_sereise, bins=20)\n",
    "plt.show()"
   ]
  },
  {
   "cell_type": "markdown",
   "id": "cff3e1b6-a88e-44ad-9515-54e17d279a98",
   "metadata": {},
   "source": [
    "### test_new の重複ないデータの分布を確認\n",
    "\n",
    "重複無しのデータについては必ず９年目の後半に含まれているはず"
   ]
  },
  {
   "cell_type": "code",
   "execution_count": 33,
   "id": "f8b388e3-7914-4c82-9881-eca5f725ea60",
   "metadata": {},
   "outputs": [
    {
     "data": {
      "text/plain": [
       "<Axes: >"
      ]
     },
     "execution_count": 33,
     "metadata": {},
     "output_type": "execute_result"
    },
    {
     "data": {
      "image/png": "[encoded data removed]",
      "text/plain": [
       "<Figure size 640x480 with 1 Axes>"
      ]
     },
     "metadata": {},
     "output_type": "display_data"
    }
   ],
   "source": [
    "no_duplicated = test_info_df.with_columns(\n",
    "    (pl.count(\"day\").over([\"no_year_timestamp\", \"location\"]) == 2).alias(\n",
    "        \"is_duplicated\"\n",
    "    )\n",
    ").filter(pl.col(\"is_duplicated\") == False)\n",
    "\n",
    "\n",
    "no_duplicated[\"pred\"].to_pandas().hist()"
   ]
  },
  {
   "cell_type": "markdown",
   "id": "eafe8b3c-b8c0-4898-80b3-d098400fa097",
   "metadata": {},
   "source": [
    "## 前半と後半に分ける"
   ]
  },
  {
   "cell_type": "code",
   "execution_count": 34,
   "id": "b099a1a8-3fa8-4b16-852d-708db65a665d",
   "metadata": {},
   "outputs": [
    {
     "data": {
      "text/html": [
       "<div><style>\n",
       ".dataframe > thead > tr,\n",
       ".dataframe > tbody > tr {\n",
       "  text-align: right;\n",
       "  white-space: pre-wrap;\n",
       "}\n",
       "</style>\n",
       "<small>shape: (625_000, 14)</small><table border=\"1\" class=\"dataframe\"><thead><tr><th>sort_index</th><th>original_index</th><th>sample_id</th><th>location</th><th>month</th><th>day</th><th>seconds</th><th>tick</th><th>pred</th><th>is_duplicated</th><th>pred_diff</th><th>is_second_year</th><th>year</th><th>timestamp</th></tr><tr><td>u32</td><td>u32</td><td>str</td><td>u32</td><td>i64</td><td>i64</td><td>i64</td><td>i64</td><td>f32</td><td>bool</td><td>f32</td><td>i32</td><td>i32</td><td>datetime[μs]</td></tr></thead><tbody><tr><td>0</td><td>138117</td><td>&quot;test_267252&quot;</td><td>0</td><td>3</td><td>1</td><td>0</td><td>0</td><td>0.011544</td><td>true</td><td>0.527491</td><td>0</td><td>9</td><td>0009-03-01 00:00:00</td></tr><tr><td>1</td><td>101693</td><td>&quot;test_223108&quot;</td><td>1</td><td>3</td><td>1</td><td>0</td><td>0</td><td>0.012308</td><td>true</td><td>0.524553</td><td>0</td><td>9</td><td>0009-03-01 00:00:00</td></tr><tr><td>2</td><td>562692</td><td>&quot;test_781565&quot;</td><td>2</td><td>3</td><td>1</td><td>0</td><td>0</td><td>0.009292</td><td>true</td><td>0.530859</td><td>0</td><td>9</td><td>0009-03-01 00:00:00</td></tr><tr><td>3</td><td>504741</td><td>&quot;test_711401&quot;</td><td>3</td><td>3</td><td>1</td><td>0</td><td>0</td><td>0.009514</td><td>true</td><td>0.530276</td><td>0</td><td>9</td><td>0009-03-01 00:00:00</td></tr><tr><td>4</td><td>228828</td><td>&quot;test_377300&quot;</td><td>4</td><td>3</td><td>1</td><td>0</td><td>0</td><td>0.013316</td><td>true</td><td>0.523161</td><td>0</td><td>9</td><td>0009-03-01 00:00:00</td></tr><tr><td>&hellip;</td><td>&hellip;</td><td>&hellip;</td><td>&hellip;</td><td>&hellip;</td><td>&hellip;</td><td>&hellip;</td><td>&hellip;</td><td>&hellip;</td><td>&hellip;</td><td>&hellip;</td><td>&hellip;</td><td>&hellip;</td><td>&hellip;</td></tr><tr><td>624995</td><td>597036</td><td>&quot;test_822994&quot;</td><td>227</td><td>8</td><td>25</td><td>28800</td><td>24</td><td>0.804436</td><td>true</td><td>0.54411</td><td>1</td><td>10</td><td>0010-08-25 08:00:00</td></tr><tr><td>624996</td><td>152503</td><td>&quot;test_284808&quot;</td><td>228</td><td>8</td><td>25</td><td>28800</td><td>24</td><td>0.804081</td><td>true</td><td>0.537386</td><td>1</td><td>10</td><td>0010-08-25 08:00:00</td></tr><tr><td>624997</td><td>274314</td><td>&quot;test_432560&quot;</td><td>229</td><td>8</td><td>25</td><td>28800</td><td>24</td><td>0.800769</td><td>true</td><td>0.536229</td><td>1</td><td>10</td><td>0010-08-25 08:00:00</td></tr><tr><td>624998</td><td>61857</td><td>&quot;test_174901&quot;</td><td>230</td><td>8</td><td>25</td><td>28800</td><td>24</td><td>0.801106</td><td>true</td><td>0.543163</td><td>1</td><td>10</td><td>0010-08-25 08:00:00</td></tr><tr><td>624999</td><td>88150</td><td>&quot;test_206675&quot;</td><td>231</td><td>8</td><td>25</td><td>28800</td><td>24</td><td>0.798579</td><td>true</td><td>0.543434</td><td>1</td><td>10</td><td>0010-08-25 08:00:00</td></tr></tbody></table></div>"
      ],
      "text/plain": [
       "shape: (625_000, 14)\n",
       "┌────────────┬────────────┬────────────┬──────────┬───┬───────────┬────────────┬──────┬────────────┐\n",
       "│ sort_index ┆ original_i ┆ sample_id  ┆ location ┆ … ┆ pred_diff ┆ is_second_ ┆ year ┆ timestamp  │\n",
       "│ ---        ┆ ndex       ┆ ---        ┆ ---      ┆   ┆ ---       ┆ year       ┆ ---  ┆ ---        │\n",
       "│ u32        ┆ ---        ┆ str        ┆ u32      ┆   ┆ f32       ┆ ---        ┆ i32  ┆ datetime[μ │\n",
       "│            ┆ u32        ┆            ┆          ┆   ┆           ┆ i32        ┆      ┆ s]         │\n",
       "╞════════════╪════════════╪════════════╪══════════╪═══╪═══════════╪════════════╪══════╪════════════╡\n",
       "│ 0          ┆ 138117     ┆ test_26725 ┆ 0        ┆ … ┆ 0.527491  ┆ 0          ┆ 9    ┆ 0009-03-01 │\n",
       "│            ┆            ┆ 2          ┆          ┆   ┆           ┆            ┆      ┆ 00:00:00   │\n",
       "│ 1          ┆ 101693     ┆ test_22310 ┆ 1        ┆ … ┆ 0.524553  ┆ 0          ┆ 9    ┆ 0009-03-01 │\n",
       "│            ┆            ┆ 8          ┆          ┆   ┆           ┆            ┆      ┆ 00:00:00   │\n",
       "│ 2          ┆ 562692     ┆ test_78156 ┆ 2        ┆ … ┆ 0.530859  ┆ 0          ┆ 9    ┆ 0009-03-01 │\n",
       "│            ┆            ┆ 5          ┆          ┆   ┆           ┆            ┆      ┆ 00:00:00   │\n",
       "│ 3          ┆ 504741     ┆ test_71140 ┆ 3        ┆ … ┆ 0.530276  ┆ 0          ┆ 9    ┆ 0009-03-01 │\n",
       "│            ┆            ┆ 1          ┆          ┆   ┆           ┆            ┆      ┆ 00:00:00   │\n",
       "│ 4          ┆ 228828     ┆ test_37730 ┆ 4        ┆ … ┆ 0.523161  ┆ 0          ┆ 9    ┆ 0009-03-01 │\n",
       "│            ┆            ┆ 0          ┆          ┆   ┆           ┆            ┆      ┆ 00:00:00   │\n",
       "│ …          ┆ …          ┆ …          ┆ …        ┆ … ┆ …         ┆ …          ┆ …    ┆ …          │\n",
       "│ 624995     ┆ 597036     ┆ test_82299 ┆ 227      ┆ … ┆ 0.54411   ┆ 1          ┆ 10   ┆ 0010-08-25 │\n",
       "│            ┆            ┆ 4          ┆          ┆   ┆           ┆            ┆      ┆ 08:00:00   │\n",
       "│ 624996     ┆ 152503     ┆ test_28480 ┆ 228      ┆ … ┆ 0.537386  ┆ 1          ┆ 10   ┆ 0010-08-25 │\n",
       "│            ┆            ┆ 8          ┆          ┆   ┆           ┆            ┆      ┆ 08:00:00   │\n",
       "│ 624997     ┆ 274314     ┆ test_43256 ┆ 229      ┆ … ┆ 0.536229  ┆ 1          ┆ 10   ┆ 0010-08-25 │\n",
       "│            ┆            ┆ 0          ┆          ┆   ┆           ┆            ┆      ┆ 08:00:00   │\n",
       "│ 624998     ┆ 61857      ┆ test_17490 ┆ 230      ┆ … ┆ 0.543163  ┆ 1          ┆ 10   ┆ 0010-08-25 │\n",
       "│            ┆            ┆ 1          ┆          ┆   ┆           ┆            ┆      ┆ 08:00:00   │\n",
       "│ 624999     ┆ 88150      ┆ test_20667 ┆ 231      ┆ … ┆ 0.543434  ┆ 1          ┆ 10   ┆ 0010-08-25 │\n",
       "│            ┆            ┆ 5          ┆          ┆   ┆           ┆            ┆      ┆ 08:00:00   │\n",
       "└────────────┴────────────┴────────────┴──────────┴───┴───────────┴────────────┴──────┴────────────┘"
      ]
     },
     "execution_count": 34,
     "metadata": {},
     "output_type": "execute_result"
    }
   ],
   "source": [
    "test_info_year_df = (\n",
    "    (\n",
    "        test_info_df.with_columns(\n",
    "            [\n",
    "                (pl.count(\"month\").over([\"no_year_timestamp\", \"location\"]) == 2).alias(\n",
    "                    \"is_duplicated\"\n",
    "                ),\n",
    "                (pl.mean(\"pred\").over([\"no_year_timestamp\", \"location\"])).alias(\n",
    "                    \"pred_mean\"\n",
    "                ),\n",
    "                (\n",
    "                    pl.max(\"pred\").over([\"no_year_timestamp\", \"location\"])\n",
    "                    - pl.min(\"pred\").over([\"no_year_timestamp\", \"location\"])\n",
    "                ).alias(\"pred_diff\"),\n",
    "            ]\n",
    "        )\n",
    "        .with_columns(\n",
    "            pl.when(pl.col(\"is_duplicated\") == False)\n",
    "            .then(pl.lit(0))\n",
    "            .when(pl.col(\"pred\") > pl.col(\"pred_mean\"))\n",
    "            .then(pl.lit(1))\n",
    "            .otherwise(pl.lit(0))\n",
    "            .alias(\"is_second_year\")\n",
    "        )\n",
    "        .with_columns(\n",
    "            pl.when((pl.col(\"is_second_year\") == 0) & (pl.col(\"is_duplicated\")))\n",
    "            .then(pl.lit(9))\n",
    "            .when(\n",
    "                (pl.col(\"is_second_year\") == 0)\n",
    "                & (~pl.col(\"is_duplicated\"))\n",
    "                & (pl.col(\"month\") >= 3)\n",
    "            )\n",
    "            .then(pl.lit(9))\n",
    "            .when(\n",
    "                (pl.col(\"is_second_year\") == 0)\n",
    "                & (~pl.col(\"is_duplicated\"))\n",
    "                & (pl.col(\"month\") < 3)\n",
    "            )\n",
    "            .then(pl.lit(10))\n",
    "            .when(\n",
    "                (pl.col(\"is_second_year\") == 1)\n",
    "                & (pl.col(\"is_duplicated\"))\n",
    "                & (pl.col(\"month\") >= 3)\n",
    "            )\n",
    "            .then(pl.lit(10))\n",
    "            .otherwise(pl.lit(11))\n",
    "            .alias(\"year\")\n",
    "        )\n",
    "        .with_columns(\n",
    "            (\n",
    "                pl.datetime(\n",
    "                    pl.col(\"year\").cast(pl.Int64),\n",
    "                    pl.col(\"month\"),\n",
    "                    pl.col(\"day\"),\n",
    "                    0,\n",
    "                    0,\n",
    "                    0,\n",
    "                )\n",
    "                + pl.duration(seconds=pl.col(\"seconds\"))\n",
    "            ).alias(\"timestamp\"),\n",
    "        )\n",
    "        .drop([\"pred_mean\", \"no_year_timestamp\"])\n",
    "    )\n",
    "    .with_row_index(\"original_index\")\n",
    "    .sort([\"timestamp\", \"location\"])\n",
    "    .with_row_index(\"sort_index\")\n",
    ").sort(\"original_index\")\n",
    "test_info_year_df.sort(\"sort_index\")"
   ]
  },
  {
   "cell_type": "code",
   "execution_count": 55,
   "id": "393f26a1-4878-43a8-834f-e1d9a6b28808",
   "metadata": {},
   "outputs": [
    {
     "data": {
      "text/html": [
       "<div><style>\n",
       ".dataframe > thead > tr,\n",
       ".dataframe > tbody > tr {\n",
       "  text-align: right;\n",
       "  white-space: pre-wrap;\n",
       "}\n",
       "</style>\n",
       "<small>shape: (10, 14)</small><table border=\"1\" class=\"dataframe\"><thead><tr><th>sort_index</th><th>original_index</th><th>sample_id</th><th>location</th><th>month</th><th>day</th><th>seconds</th><th>tick</th><th>pred</th><th>is_duplicated</th><th>pred_diff</th><th>is_second_year</th><th>year</th><th>timestamp</th></tr><tr><td>u32</td><td>u32</td><td>str</td><td>u32</td><td>i64</td><td>i64</td><td>i64</td><td>i64</td><td>f32</td><td>bool</td><td>f32</td><td>i32</td><td>i32</td><td>datetime[μs]</td></tr></thead><tbody><tr><td>414720</td><td>185471</td><td>&quot;test_324907&quot;</td><td>0</td><td>2</td><td>24</td><td>0</td><td>0</td><td>0.529689</td><td>false</td><td>0.0</td><td>0</td><td>10</td><td>0010-02-24 00:00:00</td></tr><tr><td>415872</td><td>131374</td><td>&quot;test_259048&quot;</td><td>0</td><td>2</td><td>25</td><td>0</td><td>0</td><td>0.531129</td><td>false</td><td>0.0</td><td>0</td><td>10</td><td>0010-02-25 00:00:00</td></tr><tr><td>417024</td><td>505632</td><td>&quot;test_712483&quot;</td><td>0</td><td>2</td><td>26</td><td>0</td><td>0</td><td>0.532686</td><td>false</td><td>0.0</td><td>0</td><td>10</td><td>0010-02-26 00:00:00</td></tr><tr><td>418176</td><td>438993</td><td>&quot;test_631830&quot;</td><td>0</td><td>2</td><td>27</td><td>0</td><td>0</td><td>0.534515</td><td>false</td><td>0.0</td><td>0</td><td>10</td><td>0010-02-27 00:00:00</td></tr><tr><td>419328</td><td>146514</td><td>&quot;test_277454&quot;</td><td>0</td><td>2</td><td>28</td><td>0</td><td>0</td><td>0.537112</td><td>false</td><td>0.0</td><td>0</td><td>10</td><td>0010-02-28 00:00:00</td></tr><tr><td>420480</td><td>375960</td><td>&quot;test_555449&quot;</td><td>0</td><td>3</td><td>1</td><td>0</td><td>0</td><td>0.539035</td><td>true</td><td>0.527491</td><td>1</td><td>10</td><td>0010-03-01 00:00:00</td></tr><tr><td>421632</td><td>555296</td><td>&quot;test_772648&quot;</td><td>0</td><td>3</td><td>2</td><td>0</td><td>0</td><td>0.542145</td><td>true</td><td>0.531213</td><td>1</td><td>10</td><td>0010-03-02 00:00:00</td></tr><tr><td>422784</td><td>624445</td><td>&quot;test_99334&quot;</td><td>0</td><td>3</td><td>3</td><td>0</td><td>0</td><td>0.54568</td><td>true</td><td>0.53355</td><td>1</td><td>10</td><td>0010-03-03 00:00:00</td></tr><tr><td>423936</td><td>307436</td><td>&quot;test_472653&quot;</td><td>0</td><td>3</td><td>4</td><td>0</td><td>0</td><td>0.547288</td><td>true</td><td>0.533072</td><td>1</td><td>10</td><td>0010-03-04 00:00:00</td></tr><tr><td>425088</td><td>77595</td><td>&quot;test_193915&quot;</td><td>0</td><td>3</td><td>5</td><td>0</td><td>0</td><td>0.544846</td><td>true</td><td>0.529055</td><td>1</td><td>10</td><td>0010-03-05 00:00:00</td></tr></tbody></table></div>"
      ],
      "text/plain": [
       "shape: (10, 14)\n",
       "┌────────────┬────────────┬────────────┬──────────┬───┬───────────┬────────────┬──────┬────────────┐\n",
       "│ sort_index ┆ original_i ┆ sample_id  ┆ location ┆ … ┆ pred_diff ┆ is_second_ ┆ year ┆ timestamp  │\n",
       "│ ---        ┆ ndex       ┆ ---        ┆ ---      ┆   ┆ ---       ┆ year       ┆ ---  ┆ ---        │\n",
       "│ u32        ┆ ---        ┆ str        ┆ u32      ┆   ┆ f32       ┆ ---        ┆ i32  ┆ datetime[μ │\n",
       "│            ┆ u32        ┆            ┆          ┆   ┆           ┆ i32        ┆      ┆ s]         │\n",
       "╞════════════╪════════════╪════════════╪══════════╪═══╪═══════════╪════════════╪══════╪════════════╡\n",
       "│ 414720     ┆ 185471     ┆ test_32490 ┆ 0        ┆ … ┆ 0.0       ┆ 0          ┆ 10   ┆ 0010-02-24 │\n",
       "│            ┆            ┆ 7          ┆          ┆   ┆           ┆            ┆      ┆ 00:00:00   │\n",
       "│ 415872     ┆ 131374     ┆ test_25904 ┆ 0        ┆ … ┆ 0.0       ┆ 0          ┆ 10   ┆ 0010-02-25 │\n",
       "│            ┆            ┆ 8          ┆          ┆   ┆           ┆            ┆      ┆ 00:00:00   │\n",
       "│ 417024     ┆ 505632     ┆ test_71248 ┆ 0        ┆ … ┆ 0.0       ┆ 0          ┆ 10   ┆ 0010-02-26 │\n",
       "│            ┆            ┆ 3          ┆          ┆   ┆           ┆            ┆      ┆ 00:00:00   │\n",
       "│ 418176     ┆ 438993     ┆ test_63183 ┆ 0        ┆ … ┆ 0.0       ┆ 0          ┆ 10   ┆ 0010-02-27 │\n",
       "│            ┆            ┆ 0          ┆          ┆   ┆           ┆            ┆      ┆ 00:00:00   │\n",
       "│ 419328     ┆ 146514     ┆ test_27745 ┆ 0        ┆ … ┆ 0.0       ┆ 0          ┆ 10   ┆ 0010-02-28 │\n",
       "│            ┆            ┆ 4          ┆          ┆   ┆           ┆            ┆      ┆ 00:00:00   │\n",
       "│ 420480     ┆ 375960     ┆ test_55544 ┆ 0        ┆ … ┆ 0.527491  ┆ 1          ┆ 10   ┆ 0010-03-01 │\n",
       "│            ┆            ┆ 9          ┆          ┆   ┆           ┆            ┆      ┆ 00:00:00   │\n",
       "│ 421632     ┆ 555296     ┆ test_77264 ┆ 0        ┆ … ┆ 0.531213  ┆ 1          ┆ 10   ┆ 0010-03-02 │\n",
       "│            ┆            ┆ 8          ┆          ┆   ┆           ┆            ┆      ┆ 00:00:00   │\n",
       "│ 422784     ┆ 624445     ┆ test_99334 ┆ 0        ┆ … ┆ 0.53355   ┆ 1          ┆ 10   ┆ 0010-03-03 │\n",
       "│            ┆            ┆            ┆          ┆   ┆           ┆            ┆      ┆ 00:00:00   │\n",
       "│ 423936     ┆ 307436     ┆ test_47265 ┆ 0        ┆ … ┆ 0.533072  ┆ 1          ┆ 10   ┆ 0010-03-04 │\n",
       "│            ┆            ┆ 3          ┆          ┆   ┆           ┆            ┆      ┆ 00:00:00   │\n",
       "│ 425088     ┆ 77595      ┆ test_19391 ┆ 0        ┆ … ┆ 0.529055  ┆ 1          ┆ 10   ┆ 0010-03-05 │\n",
       "│            ┆            ┆ 5          ┆          ┆   ┆           ┆            ┆      ┆ 00:00:00   │\n",
       "└────────────┴────────────┴────────────┴──────────┴───┴───────────┴────────────┴──────┴────────────┘"
      ]
     },
     "execution_count": 55,
     "metadata": {},
     "output_type": "execute_result"
    }
   ],
   "source": [
    "test_info_year_df.sort(\"sort_index\")[::384*3][:370].tail(10)"
   ]
  },
  {
   "cell_type": "code",
   "execution_count": 86,
   "id": "d6b65fa5-4c7f-4473-9e76-d41097653daf",
   "metadata": {},
   "outputs": [],
   "source": [
    "test_info_year_df.write_parquet(\"output/test_info_year.parquet\")"
   ]
  },
  {
   "cell_type": "markdown",
   "id": "d24f0e98-d9dc-4bd7-8dc8-a8f3b16aaf27",
   "metadata": {},
   "source": [
    "## check"
   ]
  },
  {
   "cell_type": "code",
   "execution_count": 32,
   "id": "9cf932b7-0917-4e8c-bb60-da2019219066",
   "metadata": {},
   "outputs": [
    {
     "data": {
      "text/html": [
       "<div><style>\n",
       ".dataframe > thead > tr,\n",
       ".dataframe > tbody > tr {\n",
       "  text-align: right;\n",
       "  white-space: pre-wrap;\n",
       "}\n",
       "</style>\n",
       "<small>shape: (625_000, 12)</small><table border=\"1\" class=\"dataframe\"><thead><tr><th>sort_index</th><th>original_index</th><th>sample_id</th><th>location</th><th>month</th><th>day</th><th>seconds</th><th>tick</th><th>pred</th><th>is_duplicated</th><th>pred_diff</th><th>is_second_year</th></tr><tr><td>u32</td><td>u32</td><td>str</td><td>u32</td><td>i64</td><td>i64</td><td>i64</td><td>i64</td><td>f32</td><td>bool</td><td>f32</td><td>i32</td></tr></thead><tbody><tr><td>0</td><td>136214</td><td>&quot;test_26497&quot;</td><td>0</td><td>1</td><td>1</td><td>0</td><td>0</td><td>0.445447</td><td>false</td><td>0.0</td><td>0</td></tr><tr><td>1</td><td>283072</td><td>&quot;test_44309&quot;</td><td>1</td><td>1</td><td>1</td><td>0</td><td>0</td><td>0.446103</td><td>false</td><td>0.0</td><td>0</td></tr><tr><td>2</td><td>617580</td><td>&quot;test_90906&quot;</td><td>2</td><td>1</td><td>1</td><td>0</td><td>0</td><td>0.443277</td><td>false</td><td>0.0</td><td>0</td></tr><tr><td>3</td><td>339409</td><td>&quot;test_511249&quot;</td><td>3</td><td>1</td><td>1</td><td>0</td><td>0</td><td>0.450339</td><td>false</td><td>0.0</td><td>0</td></tr><tr><td>4</td><td>113421</td><td>&quot;test_237212&quot;</td><td>4</td><td>1</td><td>1</td><td>0</td><td>0</td><td>0.450055</td><td>false</td><td>0.0</td><td>0</td></tr><tr><td>&hellip;</td><td>&hellip;</td><td>&hellip;</td><td>&hellip;</td><td>&hellip;</td><td>&hellip;</td><td>&hellip;</td><td>&hellip;</td><td>&hellip;</td><td>&hellip;</td><td>&hellip;</td><td>&hellip;</td></tr><tr><td>624995</td><td>597036</td><td>&quot;test_822994&quot;</td><td>227</td><td>8</td><td>25</td><td>28800</td><td>24</td><td>0.804436</td><td>true</td><td>0.54411</td><td>1</td></tr><tr><td>624996</td><td>152503</td><td>&quot;test_284808&quot;</td><td>228</td><td>8</td><td>25</td><td>28800</td><td>24</td><td>0.804081</td><td>true</td><td>0.537386</td><td>1</td></tr><tr><td>624997</td><td>274314</td><td>&quot;test_432560&quot;</td><td>229</td><td>8</td><td>25</td><td>28800</td><td>24</td><td>0.800769</td><td>true</td><td>0.536229</td><td>1</td></tr><tr><td>624998</td><td>61857</td><td>&quot;test_174901&quot;</td><td>230</td><td>8</td><td>25</td><td>28800</td><td>24</td><td>0.801106</td><td>true</td><td>0.543163</td><td>1</td></tr><tr><td>624999</td><td>88150</td><td>&quot;test_206675&quot;</td><td>231</td><td>8</td><td>25</td><td>28800</td><td>24</td><td>0.798579</td><td>true</td><td>0.543434</td><td>1</td></tr></tbody></table></div>"
      ],
      "text/plain": [
       "shape: (625_000, 12)\n",
       "┌────────────┬───────────┬───────────┬──────────┬───┬──────────┬───────────┬───────────┬───────────┐\n",
       "│ sort_index ┆ original_ ┆ sample_id ┆ location ┆ … ┆ pred     ┆ is_duplic ┆ pred_diff ┆ is_second │\n",
       "│ ---        ┆ index     ┆ ---       ┆ ---      ┆   ┆ ---      ┆ ated      ┆ ---       ┆ _year     │\n",
       "│ u32        ┆ ---       ┆ str       ┆ u32      ┆   ┆ f32      ┆ ---       ┆ f32       ┆ ---       │\n",
       "│            ┆ u32       ┆           ┆          ┆   ┆          ┆ bool      ┆           ┆ i32       │\n",
       "╞════════════╪═══════════╪═══════════╪══════════╪═══╪══════════╪═══════════╪═══════════╪═══════════╡\n",
       "│ 0          ┆ 136214    ┆ test_2649 ┆ 0        ┆ … ┆ 0.445447 ┆ false     ┆ 0.0       ┆ 0         │\n",
       "│            ┆           ┆ 7         ┆          ┆   ┆          ┆           ┆           ┆           │\n",
       "│ 1          ┆ 283072    ┆ test_4430 ┆ 1        ┆ … ┆ 0.446103 ┆ false     ┆ 0.0       ┆ 0         │\n",
       "│            ┆           ┆ 9         ┆          ┆   ┆          ┆           ┆           ┆           │\n",
       "│ 2          ┆ 617580    ┆ test_9090 ┆ 2        ┆ … ┆ 0.443277 ┆ false     ┆ 0.0       ┆ 0         │\n",
       "│            ┆           ┆ 6         ┆          ┆   ┆          ┆           ┆           ┆           │\n",
       "│ 3          ┆ 339409    ┆ test_5112 ┆ 3        ┆ … ┆ 0.450339 ┆ false     ┆ 0.0       ┆ 0         │\n",
       "│            ┆           ┆ 49        ┆          ┆   ┆          ┆           ┆           ┆           │\n",
       "│ 4          ┆ 113421    ┆ test_2372 ┆ 4        ┆ … ┆ 0.450055 ┆ false     ┆ 0.0       ┆ 0         │\n",
       "│            ┆           ┆ 12        ┆          ┆   ┆          ┆           ┆           ┆           │\n",
       "│ …          ┆ …         ┆ …         ┆ …        ┆ … ┆ …        ┆ …         ┆ …         ┆ …         │\n",
       "│ 624995     ┆ 597036    ┆ test_8229 ┆ 227      ┆ … ┆ 0.804436 ┆ true      ┆ 0.54411   ┆ 1         │\n",
       "│            ┆           ┆ 94        ┆          ┆   ┆          ┆           ┆           ┆           │\n",
       "│ 624996     ┆ 152503    ┆ test_2848 ┆ 228      ┆ … ┆ 0.804081 ┆ true      ┆ 0.537386  ┆ 1         │\n",
       "│            ┆           ┆ 08        ┆          ┆   ┆          ┆           ┆           ┆           │\n",
       "│ 624997     ┆ 274314    ┆ test_4325 ┆ 229      ┆ … ┆ 0.800769 ┆ true      ┆ 0.536229  ┆ 1         │\n",
       "│            ┆           ┆ 60        ┆          ┆   ┆          ┆           ┆           ┆           │\n",
       "│ 624998     ┆ 61857     ┆ test_1749 ┆ 230      ┆ … ┆ 0.801106 ┆ true      ┆ 0.543163  ┆ 1         │\n",
       "│            ┆           ┆ 01        ┆          ┆   ┆          ┆           ┆           ┆           │\n",
       "│ 624999     ┆ 88150     ┆ test_2066 ┆ 231      ┆ … ┆ 0.798579 ┆ true      ┆ 0.543434  ┆ 1         │\n",
       "│            ┆           ┆ 75        ┆          ┆   ┆          ┆           ┆           ┆           │\n",
       "└────────────┴───────────┴───────────┴──────────┴───┴──────────┴───────────┴───────────┴───────────┘"
      ]
     },
     "execution_count": 32,
     "metadata": {},
     "output_type": "execute_result"
    }
   ],
   "source": [
    "test_info_year_df.sort(\"sort_index\")"
   ]
  },
  {
   "cell_type": "code",
   "execution_count": 33,
   "id": "757b3259-3ecd-433c-b521-00b2651034e3",
   "metadata": {},
   "outputs": [
    {
     "data": {
      "text/plain": [
       "<Axes: >"
      ]
     },
     "execution_count": 33,
     "metadata": {},
     "output_type": "execute_result"
    },
    {
     "data": {
      "image/png": "[encoded data removed]",
      "text/plain": [
       "<Figure size 640x480 with 1 Axes>"
      ]
     },
     "metadata": {},
     "output_type": "display_data"
    }
   ],
   "source": [
    "test_info_year_df.filter(pl.col(\"is_duplicated\")).to_pandas()[\"pred_diff\"].hist()"
   ]
  },
  {
   "cell_type": "code",
   "execution_count": 34,
   "id": "d96bae4a-f9e3-4f32-be4a-5d21285e6fc0",
   "metadata": {},
   "outputs": [
    {
     "data": {
      "text/html": [
       "<div><style>\n",
       ".dataframe > thead > tr,\n",
       ".dataframe > tbody > tr {\n",
       "  text-align: right;\n",
       "  white-space: pre-wrap;\n",
       "}\n",
       "</style>\n",
       "<small>shape: (625_000, 12)</small><table border=\"1\" class=\"dataframe\"><thead><tr><th>sort_index</th><th>original_index</th><th>sample_id</th><th>location</th><th>month</th><th>day</th><th>seconds</th><th>tick</th><th>pred</th><th>is_duplicated</th><th>pred_diff</th><th>is_second_year</th></tr><tr><td>u32</td><td>u32</td><td>str</td><td>u32</td><td>i64</td><td>i64</td><td>i64</td><td>i64</td><td>f32</td><td>bool</td><td>f32</td><td>i32</td></tr></thead><tbody><tr><td>0</td><td>136214</td><td>&quot;test_26497&quot;</td><td>0</td><td>1</td><td>1</td><td>0</td><td>0</td><td>0.445447</td><td>false</td><td>0.0</td><td>0</td></tr><tr><td>1</td><td>283072</td><td>&quot;test_44309&quot;</td><td>1</td><td>1</td><td>1</td><td>0</td><td>0</td><td>0.446103</td><td>false</td><td>0.0</td><td>0</td></tr><tr><td>2</td><td>617580</td><td>&quot;test_90906&quot;</td><td>2</td><td>1</td><td>1</td><td>0</td><td>0</td><td>0.443277</td><td>false</td><td>0.0</td><td>0</td></tr><tr><td>3</td><td>339409</td><td>&quot;test_511249&quot;</td><td>3</td><td>1</td><td>1</td><td>0</td><td>0</td><td>0.450339</td><td>false</td><td>0.0</td><td>0</td></tr><tr><td>4</td><td>113421</td><td>&quot;test_237212&quot;</td><td>4</td><td>1</td><td>1</td><td>0</td><td>0</td><td>0.450055</td><td>false</td><td>0.0</td><td>0</td></tr><tr><td>&hellip;</td><td>&hellip;</td><td>&hellip;</td><td>&hellip;</td><td>&hellip;</td><td>&hellip;</td><td>&hellip;</td><td>&hellip;</td><td>&hellip;</td><td>&hellip;</td><td>&hellip;</td><td>&hellip;</td></tr><tr><td>624995</td><td>597036</td><td>&quot;test_822994&quot;</td><td>227</td><td>8</td><td>25</td><td>28800</td><td>24</td><td>0.804436</td><td>true</td><td>0.54411</td><td>1</td></tr><tr><td>624996</td><td>152503</td><td>&quot;test_284808&quot;</td><td>228</td><td>8</td><td>25</td><td>28800</td><td>24</td><td>0.804081</td><td>true</td><td>0.537386</td><td>1</td></tr><tr><td>624997</td><td>274314</td><td>&quot;test_432560&quot;</td><td>229</td><td>8</td><td>25</td><td>28800</td><td>24</td><td>0.800769</td><td>true</td><td>0.536229</td><td>1</td></tr><tr><td>624998</td><td>61857</td><td>&quot;test_174901&quot;</td><td>230</td><td>8</td><td>25</td><td>28800</td><td>24</td><td>0.801106</td><td>true</td><td>0.543163</td><td>1</td></tr><tr><td>624999</td><td>88150</td><td>&quot;test_206675&quot;</td><td>231</td><td>8</td><td>25</td><td>28800</td><td>24</td><td>0.798579</td><td>true</td><td>0.543434</td><td>1</td></tr></tbody></table></div>"
      ],
      "text/plain": [
       "shape: (625_000, 12)\n",
       "┌────────────┬───────────┬───────────┬──────────┬───┬──────────┬───────────┬───────────┬───────────┐\n",
       "│ sort_index ┆ original_ ┆ sample_id ┆ location ┆ … ┆ pred     ┆ is_duplic ┆ pred_diff ┆ is_second │\n",
       "│ ---        ┆ index     ┆ ---       ┆ ---      ┆   ┆ ---      ┆ ated      ┆ ---       ┆ _year     │\n",
       "│ u32        ┆ ---       ┆ str       ┆ u32      ┆   ┆ f32      ┆ ---       ┆ f32       ┆ ---       │\n",
       "│            ┆ u32       ┆           ┆          ┆   ┆          ┆ bool      ┆           ┆ i32       │\n",
       "╞════════════╪═══════════╪═══════════╪══════════╪═══╪══════════╪═══════════╪═══════════╪═══════════╡\n",
       "│ 0          ┆ 136214    ┆ test_2649 ┆ 0        ┆ … ┆ 0.445447 ┆ false     ┆ 0.0       ┆ 0         │\n",
       "│            ┆           ┆ 7         ┆          ┆   ┆          ┆           ┆           ┆           │\n",
       "│ 1          ┆ 283072    ┆ test_4430 ┆ 1        ┆ … ┆ 0.446103 ┆ false     ┆ 0.0       ┆ 0         │\n",
       "│            ┆           ┆ 9         ┆          ┆   ┆          ┆           ┆           ┆           │\n",
       "│ 2          ┆ 617580    ┆ test_9090 ┆ 2        ┆ … ┆ 0.443277 ┆ false     ┆ 0.0       ┆ 0         │\n",
       "│            ┆           ┆ 6         ┆          ┆   ┆          ┆           ┆           ┆           │\n",
       "│ 3          ┆ 339409    ┆ test_5112 ┆ 3        ┆ … ┆ 0.450339 ┆ false     ┆ 0.0       ┆ 0         │\n",
       "│            ┆           ┆ 49        ┆          ┆   ┆          ┆           ┆           ┆           │\n",
       "│ 4          ┆ 113421    ┆ test_2372 ┆ 4        ┆ … ┆ 0.450055 ┆ false     ┆ 0.0       ┆ 0         │\n",
       "│            ┆           ┆ 12        ┆          ┆   ┆          ┆           ┆           ┆           │\n",
       "│ …          ┆ …         ┆ …         ┆ …        ┆ … ┆ …        ┆ …         ┆ …         ┆ …         │\n",
       "│ 624995     ┆ 597036    ┆ test_8229 ┆ 227      ┆ … ┆ 0.804436 ┆ true      ┆ 0.54411   ┆ 1         │\n",
       "│            ┆           ┆ 94        ┆          ┆   ┆          ┆           ┆           ┆           │\n",
       "│ 624996     ┆ 152503    ┆ test_2848 ┆ 228      ┆ … ┆ 0.804081 ┆ true      ┆ 0.537386  ┆ 1         │\n",
       "│            ┆           ┆ 08        ┆          ┆   ┆          ┆           ┆           ┆           │\n",
       "│ 624997     ┆ 274314    ┆ test_4325 ┆ 229      ┆ … ┆ 0.800769 ┆ true      ┆ 0.536229  ┆ 1         │\n",
       "│            ┆           ┆ 60        ┆          ┆   ┆          ┆           ┆           ┆           │\n",
       "│ 624998     ┆ 61857     ┆ test_1749 ┆ 230      ┆ … ┆ 0.801106 ┆ true      ┆ 0.543163  ┆ 1         │\n",
       "│            ┆           ┆ 01        ┆          ┆   ┆          ┆           ┆           ┆           │\n",
       "│ 624999     ┆ 88150     ┆ test_2066 ┆ 231      ┆ … ┆ 0.798579 ┆ true      ┆ 0.543434  ┆ 1         │\n",
       "│            ┆           ┆ 75        ┆          ┆   ┆          ┆           ┆           ┆           │\n",
       "└────────────┴───────────┴───────────┴──────────┴───┴──────────┴───────────┴───────────┴───────────┘"
      ]
     },
     "execution_count": 34,
     "metadata": {},
     "output_type": "execute_result"
    }
   ],
   "source": [
    "original2sort_index = test_info_year_df.sort(\"sort_index\")[\"original_index\"].to_numpy()\n",
    "test_info_year_df[original2sort_index]"
   ]
  },
  {
   "cell_type": "code",
   "execution_count": 35,
   "id": "c48e4daa-bcee-49b5-993b-8f3346892547",
   "metadata": {},
   "outputs": [
    {
     "data": {
      "text/html": [
       "<div><style>\n",
       ".dataframe > thead > tr,\n",
       ".dataframe > tbody > tr {\n",
       "  text-align: right;\n",
       "  white-space: pre-wrap;\n",
       "}\n",
       "</style>\n",
       "<small>shape: (625_000, 12)</small><table border=\"1\" class=\"dataframe\"><thead><tr><th>sort_index</th><th>original_index</th><th>sample_id</th><th>location</th><th>month</th><th>day</th><th>seconds</th><th>tick</th><th>pred</th><th>is_duplicated</th><th>pred_diff</th><th>is_second_year</th></tr><tr><td>u32</td><td>u32</td><td>str</td><td>u32</td><td>i64</td><td>i64</td><td>i64</td><td>i64</td><td>f32</td><td>bool</td><td>f32</td><td>i32</td></tr></thead><tbody><tr><td>76646</td><td>0</td><td>&quot;test_0&quot;</td><td>230</td><td>3</td><td>8</td><td>28800</td><td>24</td><td>0.027219</td><td>true</td><td>0.523423</td><td>0</td></tr><tr><td>435511</td><td>1</td><td>&quot;test_10&quot;</td><td>55</td><td>3</td><td>14</td><td>0</td><td>0</td><td>0.559951</td><td>true</td><td>0.532115</td><td>1</td></tr><tr><td>590977</td><td>2</td><td>&quot;test_100&quot;</td><td>1</td><td>7</td><td>27</td><td>0</td><td>0</td><td>0.758606</td><td>true</td><td>0.531864</td><td>1</td></tr><tr><td>235801</td><td>3</td><td>&quot;test_1000&quot;</td><td>25</td><td>7</td><td>24</td><td>57600</td><td>48</td><td>0.217828</td><td>true</td><td>0.534374</td><td>0</td></tr><tr><td>88536</td><td>4</td><td>&quot;test_10000&quot;</td><td>216</td><td>3</td><td>18</td><td>57600</td><td>48</td><td>0.023667</td><td>true</td><td>0.541954</td><td>0</td></tr><tr><td>&hellip;</td><td>&hellip;</td><td>&hellip;</td><td>&hellip;</td><td>&hellip;</td><td>&hellip;</td><td>&hellip;</td><td>&hellip;</td><td>&hellip;</td><td>&hellip;</td><td>&hellip;</td><td>&hellip;</td></tr><tr><td>28138</td><td>624995</td><td>&quot;test_99994&quot;</td><td>106</td><td>1</td><td>25</td><td>28800</td><td>24</td><td>0.491826</td><td>false</td><td>0.0</td><td>0</td></tr><tr><td>418532</td><td>624996</td><td>&quot;test_99995&quot;</td><td>356</td><td>12</td><td>30</td><td>0</td><td>0</td><td>0.448537</td><td>false</td><td>0.0</td><td>0</td></tr><tr><td>139752</td><td>624997</td><td>&quot;test_99996&quot;</td><td>360</td><td>5</td><td>2</td><td>0</td><td>0</td><td>0.094956</td><td>true</td><td>0.530829</td><td>0</td></tr><tr><td>494254</td><td>624998</td><td>&quot;test_99997&quot;</td><td>46</td><td>5</td><td>4</td><td>0</td><td>0</td><td>0.632661</td><td>true</td><td>0.530383</td><td>1</td></tr><tr><td>246148</td><td>624999</td><td>&quot;test_99998&quot;</td><td>4</td><td>8</td><td>2</td><td>57600</td><td>48</td><td>0.228096</td><td>true</td><td>0.532188</td><td>0</td></tr></tbody></table></div>"
      ],
      "text/plain": [
       "shape: (625_000, 12)\n",
       "┌────────────┬───────────┬───────────┬──────────┬───┬──────────┬───────────┬───────────┬───────────┐\n",
       "│ sort_index ┆ original_ ┆ sample_id ┆ location ┆ … ┆ pred     ┆ is_duplic ┆ pred_diff ┆ is_second │\n",
       "│ ---        ┆ index     ┆ ---       ┆ ---      ┆   ┆ ---      ┆ ated      ┆ ---       ┆ _year     │\n",
       "│ u32        ┆ ---       ┆ str       ┆ u32      ┆   ┆ f32      ┆ ---       ┆ f32       ┆ ---       │\n",
       "│            ┆ u32       ┆           ┆          ┆   ┆          ┆ bool      ┆           ┆ i32       │\n",
       "╞════════════╪═══════════╪═══════════╪══════════╪═══╪══════════╪═══════════╪═══════════╪═══════════╡\n",
       "│ 76646      ┆ 0         ┆ test_0    ┆ 230      ┆ … ┆ 0.027219 ┆ true      ┆ 0.523423  ┆ 0         │\n",
       "│ 435511     ┆ 1         ┆ test_10   ┆ 55       ┆ … ┆ 0.559951 ┆ true      ┆ 0.532115  ┆ 1         │\n",
       "│ 590977     ┆ 2         ┆ test_100  ┆ 1        ┆ … ┆ 0.758606 ┆ true      ┆ 0.531864  ┆ 1         │\n",
       "│ 235801     ┆ 3         ┆ test_1000 ┆ 25       ┆ … ┆ 0.217828 ┆ true      ┆ 0.534374  ┆ 0         │\n",
       "│ 88536      ┆ 4         ┆ test_1000 ┆ 216      ┆ … ┆ 0.023667 ┆ true      ┆ 0.541954  ┆ 0         │\n",
       "│            ┆           ┆ 0         ┆          ┆   ┆          ┆           ┆           ┆           │\n",
       "│ …          ┆ …         ┆ …         ┆ …        ┆ … ┆ …        ┆ …         ┆ …         ┆ …         │\n",
       "│ 28138      ┆ 624995    ┆ test_9999 ┆ 106      ┆ … ┆ 0.491826 ┆ false     ┆ 0.0       ┆ 0         │\n",
       "│            ┆           ┆ 4         ┆          ┆   ┆          ┆           ┆           ┆           │\n",
       "│ 418532     ┆ 624996    ┆ test_9999 ┆ 356      ┆ … ┆ 0.448537 ┆ false     ┆ 0.0       ┆ 0         │\n",
       "│            ┆           ┆ 5         ┆          ┆   ┆          ┆           ┆           ┆           │\n",
       "│ 139752     ┆ 624997    ┆ test_9999 ┆ 360      ┆ … ┆ 0.094956 ┆ true      ┆ 0.530829  ┆ 0         │\n",
       "│            ┆           ┆ 6         ┆          ┆   ┆          ┆           ┆           ┆           │\n",
       "│ 494254     ┆ 624998    ┆ test_9999 ┆ 46       ┆ … ┆ 0.632661 ┆ true      ┆ 0.530383  ┆ 1         │\n",
       "│            ┆           ┆ 7         ┆          ┆   ┆          ┆           ┆           ┆           │\n",
       "│ 246148     ┆ 624999    ┆ test_9999 ┆ 4        ┆ … ┆ 0.228096 ┆ true      ┆ 0.532188  ┆ 0         │\n",
       "│            ┆           ┆ 8         ┆          ┆   ┆          ┆           ┆           ┆           │\n",
       "└────────────┴───────────┴───────────┴──────────┴───┴──────────┴───────────┴───────────┴───────────┘"
      ]
     },
     "execution_count": 35,
     "metadata": {},
     "output_type": "execute_result"
    }
   ],
   "source": [
    "test_info_year_df"
   ]
  },
  {
   "cell_type": "code",
   "execution_count": null,
   "id": "e8ea68a7-307e-4292-a8a4-b37b82de991d",
   "metadata": {},
   "outputs": [],
   "source": []
  }
 ],
 "metadata": {
  "kernelspec": {
   "display_name": "Python 3 (ipykernel) (Local)",
   "language": "python",
   "name": "python3"
  },
  "language_info": {
   "codemirror_mode": {
    "name": "ipython",
    "version": 3
   },
   "file_extension": ".py",
   "mimetype": "text/x-python",
   "name": "python",
   "nbconvert_exporter": "python",
   "pygments_lexer": "ipython3",
   "version": "3.10.13"
  }
 },
 "nbformat": 4,
 "nbformat_minor": 5
}
