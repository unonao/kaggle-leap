{
 "cells": [
  {
   "cell_type": "code",
   "execution_count": 1,
   "id": "59c5d0a1-3691-4804-a9d8-80f682cb54ff",
   "metadata": {},
   "outputs": [
    {
     "name": "stdout",
     "output_type": "stream",
     "text": [
      "/kaggle/working\n"
     ]
    }
   ],
   "source": [
    "%cd /kaggle/working"
   ]
  },
  {
   "cell_type": "code",
   "execution_count": 64,
   "id": "40697056-e3ff-422d-84f5-7c0e21aac018",
   "metadata": {},
   "outputs": [],
   "source": [
    "import numpy as np\n",
    "import polars as pl"
   ]
  },
  {
   "cell_type": "code",
   "execution_count": 65,
   "id": "36b34351-cede-447b-be86-cc7e695adb31",
   "metadata": {},
   "outputs": [],
   "source": [
    "test_info_df = pl.read_parquet(\"output/preprocess/make_hack_map/base/test_info.parquet\")\n",
    "test_old_info_df = pl.read_parquet(\n",
    "    \"output/preprocess/make_hack_map/base/test_old_info.parquet\"\n",
    ")"
   ]
  },
  {
   "cell_type": "code",
   "execution_count": 66,
   "id": "a68b0fd4-8179-463f-8dab-1e3fb5f2ef10",
   "metadata": {},
   "outputs": [
    {
     "data": {
      "text/html": [
       "<div><style>\n",
       ".dataframe > thead > tr,\n",
       ".dataframe > tbody > tr {\n",
       "  text-align: right;\n",
       "  white-space: pre-wrap;\n",
       "}\n",
       "</style>\n",
       "<small>shape: (5, 6)</small><table border=\"1\" class=\"dataframe\"><thead><tr><th>sample_id</th><th>location</th><th>month</th><th>day</th><th>seconds</th><th>tick</th></tr><tr><td>str</td><td>u32</td><td>i64</td><td>i64</td><td>i64</td><td>i64</td></tr></thead><tbody><tr><td>&quot;test_0&quot;</td><td>230</td><td>3</td><td>8</td><td>28800</td><td>24</td></tr><tr><td>&quot;test_10&quot;</td><td>55</td><td>3</td><td>14</td><td>0</td><td>0</td></tr><tr><td>&quot;test_100&quot;</td><td>1</td><td>7</td><td>27</td><td>0</td><td>0</td></tr><tr><td>&quot;test_1000&quot;</td><td>25</td><td>7</td><td>24</td><td>57600</td><td>48</td></tr><tr><td>&quot;test_10000&quot;</td><td>216</td><td>3</td><td>18</td><td>57600</td><td>48</td></tr></tbody></table></div>"
      ],
      "text/plain": [
       "shape: (5, 6)\n",
       "┌────────────┬──────────┬───────┬─────┬─────────┬──────┐\n",
       "│ sample_id  ┆ location ┆ month ┆ day ┆ seconds ┆ tick │\n",
       "│ ---        ┆ ---      ┆ ---   ┆ --- ┆ ---     ┆ ---  │\n",
       "│ str        ┆ u32      ┆ i64   ┆ i64 ┆ i64     ┆ i64  │\n",
       "╞════════════╪══════════╪═══════╪═════╪═════════╪══════╡\n",
       "│ test_0     ┆ 230      ┆ 3     ┆ 8   ┆ 28800   ┆ 24   │\n",
       "│ test_10    ┆ 55       ┆ 3     ┆ 14  ┆ 0       ┆ 0    │\n",
       "│ test_100   ┆ 1        ┆ 7     ┆ 27  ┆ 0       ┆ 0    │\n",
       "│ test_1000  ┆ 25       ┆ 7     ┆ 24  ┆ 57600   ┆ 48   │\n",
       "│ test_10000 ┆ 216      ┆ 3     ┆ 18  ┆ 57600   ┆ 48   │\n",
       "└────────────┴──────────┴───────┴─────┴─────────┴──────┘"
      ]
     },
     "execution_count": 66,
     "metadata": {},
     "output_type": "execute_result"
    }
   ],
   "source": [
    "test_info_df.head()"
   ]
  },
  {
   "cell_type": "code",
   "execution_count": 67,
   "id": "2733302c-1138-4a02-b5ef-6606369af0d7",
   "metadata": {},
   "outputs": [],
   "source": [
    "test_pred_df = pl.read_parquet(\n",
    "    \"output/experiments/810_pred_elaps_time/base/test_predict.parquet\"\n",
    ")\n",
    "oof_df = pl.read_parquet(\"output/experiments/810_pred_elaps_time/base/oof.parquet\")"
   ]
  },
  {
   "cell_type": "code",
   "execution_count": 68,
   "id": "2c4c5af1-4d97-4860-8c27-188a3a47a939",
   "metadata": {},
   "outputs": [
    {
     "data": {
      "text/html": [
       "<div><style>\n",
       ".dataframe > thead > tr,\n",
       ".dataframe > tbody > tr {\n",
       "  text-align: right;\n",
       "  white-space: pre-wrap;\n",
       "}\n",
       "</style>\n",
       "<small>shape: (5, 8)</small><table border=\"1\" class=\"dataframe\"><thead><tr><th>sample_id</th><th>location</th><th>month</th><th>day</th><th>seconds</th><th>tick</th><th>no_year_timestamp</th><th>pred</th></tr><tr><td>str</td><td>u32</td><td>i64</td><td>i64</td><td>i64</td><td>i64</td><td>datetime[μs]</td><td>f32</td></tr></thead><tbody><tr><td>&quot;test_0&quot;</td><td>230</td><td>3</td><td>8</td><td>28800</td><td>24</td><td>2000-03-08 08:00:00</td><td>0.027219</td></tr><tr><td>&quot;test_10&quot;</td><td>55</td><td>3</td><td>14</td><td>0</td><td>0</td><td>2000-03-14 00:00:00</td><td>0.559951</td></tr><tr><td>&quot;test_100&quot;</td><td>1</td><td>7</td><td>27</td><td>0</td><td>0</td><td>2000-07-27 00:00:00</td><td>0.758606</td></tr><tr><td>&quot;test_1000&quot;</td><td>25</td><td>7</td><td>24</td><td>57600</td><td>48</td><td>2000-07-24 16:00:00</td><td>0.217828</td></tr><tr><td>&quot;test_10000&quot;</td><td>216</td><td>3</td><td>18</td><td>57600</td><td>48</td><td>2000-03-18 16:00:00</td><td>0.023667</td></tr></tbody></table></div>"
      ],
      "text/plain": [
       "shape: (5, 8)\n",
       "┌────────────┬──────────┬───────┬─────┬─────────┬──────┬─────────────────────┬──────────┐\n",
       "│ sample_id  ┆ location ┆ month ┆ day ┆ seconds ┆ tick ┆ no_year_timestamp   ┆ pred     │\n",
       "│ ---        ┆ ---      ┆ ---   ┆ --- ┆ ---     ┆ ---  ┆ ---                 ┆ ---      │\n",
       "│ str        ┆ u32      ┆ i64   ┆ i64 ┆ i64     ┆ i64  ┆ datetime[μs]        ┆ f32      │\n",
       "╞════════════╪══════════╪═══════╪═════╪═════════╪══════╪═════════════════════╪══════════╡\n",
       "│ test_0     ┆ 230      ┆ 3     ┆ 8   ┆ 28800   ┆ 24   ┆ 2000-03-08 08:00:00 ┆ 0.027219 │\n",
       "│ test_10    ┆ 55       ┆ 3     ┆ 14  ┆ 0       ┆ 0    ┆ 2000-03-14 00:00:00 ┆ 0.559951 │\n",
       "│ test_100   ┆ 1        ┆ 7     ┆ 27  ┆ 0       ┆ 0    ┆ 2000-07-27 00:00:00 ┆ 0.758606 │\n",
       "│ test_1000  ┆ 25       ┆ 7     ┆ 24  ┆ 57600   ┆ 48   ┆ 2000-07-24 16:00:00 ┆ 0.217828 │\n",
       "│ test_10000 ┆ 216      ┆ 3     ┆ 18  ┆ 57600   ┆ 48   ┆ 2000-03-18 16:00:00 ┆ 0.023667 │\n",
       "└────────────┴──────────┴───────┴─────┴─────────┴──────┴─────────────────────┴──────────┘"
      ]
     },
     "execution_count": 68,
     "metadata": {},
     "output_type": "execute_result"
    }
   ],
   "source": [
    "test_info_df = test_info_df.with_columns(\n",
    "    [\n",
    "        (\n",
    "            pl.datetime(2000, pl.col(\"month\"), pl.col(\"day\"), 0, 0, 0)\n",
    "            + pl.duration(seconds=pl.col(\"seconds\"))\n",
    "        ).alias(\"no_year_timestamp\"),\n",
    "        test_pred_df[\"pred\"],\n",
    "    ]\n",
    ")\n",
    "test_info_df.head()"
   ]
  },
  {
   "cell_type": "code",
   "execution_count": 70,
   "id": "b28a549a-e362-40c7-afb8-6c92f06c9471",
   "metadata": {},
   "outputs": [
    {
     "data": {
      "text/html": [
       "<div><style>\n",
       ".dataframe > thead > tr,\n",
       ".dataframe > tbody > tr {\n",
       "  text-align: right;\n",
       "  white-space: pre-wrap;\n",
       "}\n",
       "</style>\n",
       "<small>shape: (5, 9)</small><table border=\"1\" class=\"dataframe\"><thead><tr><th>index</th><th>sample_id</th><th>location</th><th>month</th><th>day</th><th>seconds</th><th>tick</th><th>elaps</th><th>no_year_timestamp</th></tr><tr><td>u32</td><td>str</td><td>u32</td><td>i64</td><td>i64</td><td>i64</td><td>i64</td><td>f64</td><td>datetime[μs]</td></tr></thead><tbody><tr><td>0</td><td>&quot;test_169651&quot;</td><td>0</td><td>3</td><td>1</td><td>0</td><td>0</td><td>0.0</td><td>2000-03-01 00:00:00</td></tr><tr><td>1</td><td>&quot;test_524862&quot;</td><td>1</td><td>3</td><td>1</td><td>0</td><td>0</td><td>0.0000016</td><td>2000-03-01 00:00:00</td></tr><tr><td>2</td><td>&quot;test_634129&quot;</td><td>2</td><td>3</td><td>1</td><td>0</td><td>0</td><td>0.0000032</td><td>2000-03-01 00:00:00</td></tr><tr><td>3</td><td>&quot;test_403572&quot;</td><td>3</td><td>3</td><td>1</td><td>0</td><td>0</td><td>0.0000048</td><td>2000-03-01 00:00:00</td></tr><tr><td>4</td><td>&quot;test_484578&quot;</td><td>4</td><td>3</td><td>1</td><td>0</td><td>0</td><td>0.0000064</td><td>2000-03-01 00:00:00</td></tr></tbody></table></div>"
      ],
      "text/plain": [
       "shape: (5, 9)\n",
       "┌───────┬─────────────┬──────────┬───────┬───┬─────────┬──────┬───────────┬─────────────────────┐\n",
       "│ index ┆ sample_id   ┆ location ┆ month ┆ … ┆ seconds ┆ tick ┆ elaps     ┆ no_year_timestamp   │\n",
       "│ ---   ┆ ---         ┆ ---      ┆ ---   ┆   ┆ ---     ┆ ---  ┆ ---       ┆ ---                 │\n",
       "│ u32   ┆ str         ┆ u32      ┆ i64   ┆   ┆ i64     ┆ i64  ┆ f64       ┆ datetime[μs]        │\n",
       "╞═══════╪═════════════╪══════════╪═══════╪═══╪═════════╪══════╪═══════════╪═════════════════════╡\n",
       "│ 0     ┆ test_169651 ┆ 0        ┆ 3     ┆ … ┆ 0       ┆ 0    ┆ 0.0       ┆ 2000-03-01 00:00:00 │\n",
       "│ 1     ┆ test_524862 ┆ 1        ┆ 3     ┆ … ┆ 0       ┆ 0    ┆ 0.0000016 ┆ 2000-03-01 00:00:00 │\n",
       "│ 2     ┆ test_634129 ┆ 2        ┆ 3     ┆ … ┆ 0       ┆ 0    ┆ 0.0000032 ┆ 2000-03-01 00:00:00 │\n",
       "│ 3     ┆ test_403572 ┆ 3        ┆ 3     ┆ … ┆ 0       ┆ 0    ┆ 0.0000048 ┆ 2000-03-01 00:00:00 │\n",
       "│ 4     ┆ test_484578 ┆ 4        ┆ 3     ┆ … ┆ 0       ┆ 0    ┆ 0.0000064 ┆ 2000-03-01 00:00:00 │\n",
       "└───────┴─────────────┴──────────┴───────┴───┴─────────┴──────┴───────────┴─────────────────────┘"
      ]
     },
     "execution_count": 70,
     "metadata": {},
     "output_type": "execute_result"
    }
   ],
   "source": [
    "test_old_info_df = (\n",
    "    test_old_info_df.with_row_index()\n",
    "    .with_columns((pl.col(\"index\") / len(test_old_info_df)).alias(\"elaps\"))\n",
    "    .with_columns(\n",
    "        (\n",
    "            pl.datetime(2000, pl.col(\"month\"), pl.col(\"day\"), 0, 0, 0)\n",
    "            + pl.duration(seconds=pl.col(\"seconds\"))\n",
    "        ).alias(\"no_year_timestamp\")\n",
    "    )\n",
    ")\n",
    "test_old_info_df.head()"
   ]
  },
  {
   "cell_type": "markdown",
   "id": "0aba37db-1369-4f41-94d1-dc891667e3b4",
   "metadata": {
    "jp-MarkdownHeadingCollapsed": true
   },
   "source": [
    "## 誤差の確認\n",
    "### oof の誤差を確認\n",
    "oof について予測値との差分は最大でも 0.13666 で、678.168402778* 0.13666 = 92日分\n",
    "\n",
    "重複する2つが１年離れていれば大小関係を比較するだけでどっちが１年目でどっちが２年目か判断可能"
   ]
  },
  {
   "cell_type": "code",
   "execution_count": 35,
   "id": "74cc2e03-3fb3-44ef-8277-acdda8c20d03",
   "metadata": {},
   "outputs": [
    {
     "data": {
      "text/html": [
       "<div><style>\n",
       ".dataframe > thead > tr,\n",
       ".dataframe > tbody > tr {\n",
       "  text-align: right;\n",
       "  white-space: pre-wrap;\n",
       "}\n",
       "</style>\n",
       "<small>shape: (9, 2)</small><table border=\"1\" class=\"dataframe\"><thead><tr><th>statistic</th><th>value</th></tr><tr><td>str</td><td>f64</td></tr></thead><tbody><tr><td>&quot;count&quot;</td><td>625000.0</td></tr><tr><td>&quot;null_count&quot;</td><td>0.0</td></tr><tr><td>&quot;mean&quot;</td><td>0.005449</td></tr><tr><td>&quot;std&quot;</td><td>0.004499</td></tr><tr><td>&quot;min&quot;</td><td>4.8438e-8</td></tr><tr><td>&quot;25%&quot;</td><td>0.002079</td></tr><tr><td>&quot;50%&quot;</td><td>0.004427</td></tr><tr><td>&quot;75%&quot;</td><td>0.007695</td></tr><tr><td>&quot;max&quot;</td><td>0.136681</td></tr></tbody></table></div>"
      ],
      "text/plain": [
       "shape: (9, 2)\n",
       "┌────────────┬───────────┐\n",
       "│ statistic  ┆ value     │\n",
       "│ ---        ┆ ---       │\n",
       "│ str        ┆ f64       │\n",
       "╞════════════╪═══════════╡\n",
       "│ count      ┆ 625000.0  │\n",
       "│ null_count ┆ 0.0       │\n",
       "│ mean       ┆ 0.005449  │\n",
       "│ std        ┆ 0.004499  │\n",
       "│ min        ┆ 4.8438e-8 │\n",
       "│ 25%        ┆ 0.002079  │\n",
       "│ 50%        ┆ 0.004427  │\n",
       "│ 75%        ┆ 0.007695  │\n",
       "│ max        ┆ 0.136681  │\n",
       "└────────────┴───────────┘"
      ]
     },
     "execution_count": 35,
     "metadata": {},
     "output_type": "execute_result"
    }
   ],
   "source": [
    "diff_sereise = (test_old_info_df[\"elaps\"] - test_old_info_df[\"pred\"]).abs()\n",
    "\n",
    "diff_sereise.describe()"
   ]
  },
  {
   "cell_type": "code",
   "execution_count": 36,
   "id": "6e843a49-8b80-46f6-ab59-cf4cbae56be9",
   "metadata": {
    "scrolled": true
   },
   "outputs": [
    {
     "data": {
      "image/png": "[encoded data removed]",
      "text/plain": [
       "<Figure size 640x480 with 1 Axes>"
      ]
     },
     "metadata": {},
     "output_type": "display_data"
    }
   ],
   "source": [
    "import matplotlib.pyplot as plt\n",
    "\n",
    "plt.hist(diff_sereise, bins=20)\n",
    "plt.show()"
   ]
  },
  {
   "cell_type": "markdown",
   "id": "cff3e1b6-a88e-44ad-9515-54e17d279a98",
   "metadata": {},
   "source": [
    "### test_new の重複ないデータの分布を確認\n",
    "\n",
    "重複無しのデータについては必ず９年目の後半に含まれているはず"
   ]
  },
  {
   "cell_type": "code",
   "execution_count": 45,
   "id": "f8b388e3-7914-4c82-9881-eca5f725ea60",
   "metadata": {},
   "outputs": [
    {
     "data": {
      "text/plain": [
       "<Axes: >"
      ]
     },
     "execution_count": 45,
     "metadata": {},
     "output_type": "execute_result"
    },
    {
     "data": {
      "image/png": "[encoded data removed]",
      "text/plain": [
       "<Figure size 640x480 with 1 Axes>"
      ]
     },
     "metadata": {},
     "output_type": "display_data"
    }
   ],
   "source": [
    "no_duplicated = test_info_df.with_columns(\n",
    "    (pl.count(\"day\").over([\"no_year_timestamp\", \"location\"]) == 2).alias(\n",
    "        \"is_duplicated\"\n",
    "    )\n",
    ").filter(pl.col(\"is_duplicated\") == False)\n",
    "\n",
    "\n",
    "no_duplicated[\"pred\"].to_pandas().hist()"
   ]
  },
  {
   "cell_type": "markdown",
   "id": "eafe8b3c-b8c0-4898-80b3-d098400fa097",
   "metadata": {},
   "source": [
    "## 前半と後半に分ける"
   ]
  },
  {
   "cell_type": "code",
   "execution_count": 75,
   "id": "b099a1a8-3fa8-4b16-852d-708db65a665d",
   "metadata": {},
   "outputs": [
    {
     "data": {
      "text/html": [
       "<div><style>\n",
       ".dataframe > thead > tr,\n",
       ".dataframe > tbody > tr {\n",
       "  text-align: right;\n",
       "  white-space: pre-wrap;\n",
       "}\n",
       "</style>\n",
       "<small>shape: (5, 11)</small><table border=\"1\" class=\"dataframe\"><thead><tr><th>sort_index</th><th>original_index</th><th>sample_id</th><th>location</th><th>month</th><th>day</th><th>seconds</th><th>tick</th><th>pred</th><th>is_duplicated</th><th>is_first_year</th></tr><tr><td>u32</td><td>u32</td><td>str</td><td>u32</td><td>i64</td><td>i64</td><td>i64</td><td>i64</td><td>f32</td><td>bool</td><td>i32</td></tr></thead><tbody><tr><td>8678</td><td>0</td><td>&quot;test_0&quot;</td><td>230</td><td>3</td><td>8</td><td>28800</td><td>24</td><td>0.027219</td><td>true</td><td>0</td></tr><tr><td>287519</td><td>1</td><td>&quot;test_10&quot;</td><td>55</td><td>3</td><td>14</td><td>0</td><td>0</td><td>0.559951</td><td>true</td><td>1</td></tr><tr><td>442985</td><td>2</td><td>&quot;test_100&quot;</td><td>1</td><td>7</td><td>27</td><td>0</td><td>0</td><td>0.758606</td><td>true</td><td>1</td></tr><tr><td>167833</td><td>3</td><td>&quot;test_1000&quot;</td><td>25</td><td>7</td><td>24</td><td>57600</td><td>48</td><td>0.217828</td><td>true</td><td>0</td></tr><tr><td>20568</td><td>4</td><td>&quot;test_10000&quot;</td><td>216</td><td>3</td><td>18</td><td>57600</td><td>48</td><td>0.023667</td><td>true</td><td>0</td></tr></tbody></table></div>"
      ],
      "text/plain": [
       "shape: (5, 11)\n",
       "┌────────────┬─────────────┬────────────┬──────────┬───┬──────┬──────────┬────────────┬────────────┐\n",
       "│ sort_index ┆ original_in ┆ sample_id  ┆ location ┆ … ┆ tick ┆ pred     ┆ is_duplica ┆ is_first_y │\n",
       "│ ---        ┆ dex         ┆ ---        ┆ ---      ┆   ┆ ---  ┆ ---      ┆ ted        ┆ ear        │\n",
       "│ u32        ┆ ---         ┆ str        ┆ u32      ┆   ┆ i64  ┆ f32      ┆ ---        ┆ ---        │\n",
       "│            ┆ u32         ┆            ┆          ┆   ┆      ┆          ┆ bool       ┆ i32        │\n",
       "╞════════════╪═════════════╪════════════╪══════════╪═══╪══════╪══════════╪════════════╪════════════╡\n",
       "│ 8678       ┆ 0           ┆ test_0     ┆ 230      ┆ … ┆ 24   ┆ 0.027219 ┆ true       ┆ 0          │\n",
       "│ 287519     ┆ 1           ┆ test_10    ┆ 55       ┆ … ┆ 0    ┆ 0.559951 ┆ true       ┆ 1          │\n",
       "│ 442985     ┆ 2           ┆ test_100   ┆ 1        ┆ … ┆ 0    ┆ 0.758606 ┆ true       ┆ 1          │\n",
       "│ 167833     ┆ 3           ┆ test_1000  ┆ 25       ┆ … ┆ 48   ┆ 0.217828 ┆ true       ┆ 0          │\n",
       "│ 20568      ┆ 4           ┆ test_10000 ┆ 216      ┆ … ┆ 48   ┆ 0.023667 ┆ true       ┆ 0          │\n",
       "└────────────┴─────────────┴────────────┴──────────┴───┴──────┴──────────┴────────────┴────────────┘"
      ]
     },
     "execution_count": 75,
     "metadata": {},
     "output_type": "execute_result"
    }
   ],
   "source": [
    "test_info_year_df = (\n",
    "    (\n",
    "        test_info_df.with_columns(\n",
    "            [\n",
    "                (pl.count(\"month\").over([\"no_year_timestamp\", \"location\"]) == 2).alias(\n",
    "                    \"is_duplicated\"\n",
    "                ),\n",
    "                (pl.mean(\"pred\").over([\"no_year_timestamp\", \"location\"])).alias(\n",
    "                    \"pred_mean\"\n",
    "                ),\n",
    "            ]\n",
    "        )\n",
    "        .with_columns(\n",
    "            pl.when(pl.col(\"is_duplicated\") == False)\n",
    "            .then(pl.lit(1))\n",
    "            .when(pl.col(\"pred\") > pl.col(\"pred_mean\"))\n",
    "            .then(pl.lit(1))\n",
    "            .otherwise(pl.lit(0))\n",
    "            .alias(\"is_first_year\")\n",
    "        )\n",
    "        .drop([\"pred_mean\", \"no_year_timestamp\"])\n",
    "    )\n",
    "    .with_row_index(\"original_index\")\n",
    "    .sort([\"is_first_year\", \"month\", \"day\", \"seconds\", \"location\"])\n",
    "    .with_row_index(\"sort_index\")\n",
    ").sort(\"original_index\")\n",
    "test_info_year_df.head()"
   ]
  },
  {
   "cell_type": "code",
   "execution_count": 76,
   "id": "d6b65fa5-4c7f-4473-9e76-d41097653daf",
   "metadata": {},
   "outputs": [],
   "source": [
    "test_info_year_df.write_parquet(\"output/test_info_year.parquet\")"
   ]
  },
  {
   "cell_type": "code",
   "execution_count": 78,
   "id": "9cf932b7-0917-4e8c-bb60-da2019219066",
   "metadata": {},
   "outputs": [
    {
     "data": {
      "text/html": [
       "<div><style>\n",
       ".dataframe > thead > tr,\n",
       ".dataframe > tbody > tr {\n",
       "  text-align: right;\n",
       "  white-space: pre-wrap;\n",
       "}\n",
       "</style>\n",
       "<small>shape: (625_000, 11)</small><table border=\"1\" class=\"dataframe\"><thead><tr><th>sort_index</th><th>original_index</th><th>sample_id</th><th>location</th><th>month</th><th>day</th><th>seconds</th><th>tick</th><th>pred</th><th>is_duplicated</th><th>is_first_year</th></tr><tr><td>u32</td><td>u32</td><td>str</td><td>u32</td><td>i64</td><td>i64</td><td>i64</td><td>i64</td><td>f32</td><td>bool</td><td>i32</td></tr></thead><tbody><tr><td>0</td><td>138117</td><td>&quot;test_267252&quot;</td><td>0</td><td>3</td><td>1</td><td>0</td><td>0</td><td>0.011544</td><td>true</td><td>0</td></tr><tr><td>1</td><td>101693</td><td>&quot;test_223108&quot;</td><td>1</td><td>3</td><td>1</td><td>0</td><td>0</td><td>0.012308</td><td>true</td><td>0</td></tr><tr><td>2</td><td>562692</td><td>&quot;test_781565&quot;</td><td>2</td><td>3</td><td>1</td><td>0</td><td>0</td><td>0.009292</td><td>true</td><td>0</td></tr><tr><td>3</td><td>504741</td><td>&quot;test_711401&quot;</td><td>3</td><td>3</td><td>1</td><td>0</td><td>0</td><td>0.009514</td><td>true</td><td>0</td></tr><tr><td>4</td><td>228828</td><td>&quot;test_377300&quot;</td><td>4</td><td>3</td><td>1</td><td>0</td><td>0</td><td>0.013316</td><td>true</td><td>0</td></tr><tr><td>&hellip;</td><td>&hellip;</td><td>&hellip;</td><td>&hellip;</td><td>&hellip;</td><td>&hellip;</td><td>&hellip;</td><td>&hellip;</td><td>&hellip;</td><td>&hellip;</td><td>&hellip;</td></tr><tr><td>624995</td><td>448011</td><td>&quot;test_642749&quot;</td><td>379</td><td>12</td><td>31</td><td>57600</td><td>48</td><td>0.451198</td><td>false</td><td>1</td></tr><tr><td>624996</td><td>524428</td><td>&quot;test_735293&quot;</td><td>380</td><td>12</td><td>31</td><td>57600</td><td>48</td><td>0.449318</td><td>false</td><td>1</td></tr><tr><td>624997</td><td>624017</td><td>&quot;test_98809&quot;</td><td>381</td><td>12</td><td>31</td><td>57600</td><td>48</td><td>0.45092</td><td>false</td><td>1</td></tr><tr><td>624998</td><td>193100</td><td>&quot;test_334234&quot;</td><td>382</td><td>12</td><td>31</td><td>57600</td><td>48</td><td>0.446292</td><td>false</td><td>1</td></tr><tr><td>624999</td><td>291007</td><td>&quot;test_452794&quot;</td><td>383</td><td>12</td><td>31</td><td>57600</td><td>48</td><td>0.44647</td><td>false</td><td>1</td></tr></tbody></table></div>"
      ],
      "text/plain": [
       "shape: (625_000, 11)\n",
       "┌────────────┬─────────────┬────────────┬──────────┬───┬──────┬──────────┬────────────┬────────────┐\n",
       "│ sort_index ┆ original_in ┆ sample_id  ┆ location ┆ … ┆ tick ┆ pred     ┆ is_duplica ┆ is_first_y │\n",
       "│ ---        ┆ dex         ┆ ---        ┆ ---      ┆   ┆ ---  ┆ ---      ┆ ted        ┆ ear        │\n",
       "│ u32        ┆ ---         ┆ str        ┆ u32      ┆   ┆ i64  ┆ f32      ┆ ---        ┆ ---        │\n",
       "│            ┆ u32         ┆            ┆          ┆   ┆      ┆          ┆ bool       ┆ i32        │\n",
       "╞════════════╪═════════════╪════════════╪══════════╪═══╪══════╪══════════╪════════════╪════════════╡\n",
       "│ 0          ┆ 138117      ┆ test_26725 ┆ 0        ┆ … ┆ 0    ┆ 0.011544 ┆ true       ┆ 0          │\n",
       "│            ┆             ┆ 2          ┆          ┆   ┆      ┆          ┆            ┆            │\n",
       "│ 1          ┆ 101693      ┆ test_22310 ┆ 1        ┆ … ┆ 0    ┆ 0.012308 ┆ true       ┆ 0          │\n",
       "│            ┆             ┆ 8          ┆          ┆   ┆      ┆          ┆            ┆            │\n",
       "│ 2          ┆ 562692      ┆ test_78156 ┆ 2        ┆ … ┆ 0    ┆ 0.009292 ┆ true       ┆ 0          │\n",
       "│            ┆             ┆ 5          ┆          ┆   ┆      ┆          ┆            ┆            │\n",
       "│ 3          ┆ 504741      ┆ test_71140 ┆ 3        ┆ … ┆ 0    ┆ 0.009514 ┆ true       ┆ 0          │\n",
       "│            ┆             ┆ 1          ┆          ┆   ┆      ┆          ┆            ┆            │\n",
       "│ 4          ┆ 228828      ┆ test_37730 ┆ 4        ┆ … ┆ 0    ┆ 0.013316 ┆ true       ┆ 0          │\n",
       "│            ┆             ┆ 0          ┆          ┆   ┆      ┆          ┆            ┆            │\n",
       "│ …          ┆ …           ┆ …          ┆ …        ┆ … ┆ …    ┆ …        ┆ …          ┆ …          │\n",
       "│ 624995     ┆ 448011      ┆ test_64274 ┆ 379      ┆ … ┆ 48   ┆ 0.451198 ┆ false      ┆ 1          │\n",
       "│            ┆             ┆ 9          ┆          ┆   ┆      ┆          ┆            ┆            │\n",
       "│ 624996     ┆ 524428      ┆ test_73529 ┆ 380      ┆ … ┆ 48   ┆ 0.449318 ┆ false      ┆ 1          │\n",
       "│            ┆             ┆ 3          ┆          ┆   ┆      ┆          ┆            ┆            │\n",
       "│ 624997     ┆ 624017      ┆ test_98809 ┆ 381      ┆ … ┆ 48   ┆ 0.45092  ┆ false      ┆ 1          │\n",
       "│ 624998     ┆ 193100      ┆ test_33423 ┆ 382      ┆ … ┆ 48   ┆ 0.446292 ┆ false      ┆ 1          │\n",
       "│            ┆             ┆ 4          ┆          ┆   ┆      ┆          ┆            ┆            │\n",
       "│ 624999     ┆ 291007      ┆ test_45279 ┆ 383      ┆ … ┆ 48   ┆ 0.44647  ┆ false      ┆ 1          │\n",
       "│            ┆             ┆ 4          ┆          ┆   ┆      ┆          ┆            ┆            │\n",
       "└────────────┴─────────────┴────────────┴──────────┴───┴──────┴──────────┴────────────┴────────────┘"
      ]
     },
     "execution_count": 78,
     "metadata": {},
     "output_type": "execute_result"
    }
   ],
   "source": [
    "test_info_year_df.sort(\"sort_index\")"
   ]
  },
  {
   "cell_type": "code",
   "execution_count": 11,
   "id": "6aadedbd-9853-46e0-9e30-88529855bb7e",
   "metadata": {},
   "outputs": [
    {
     "name": "stdout",
     "output_type": "stream",
     "text": [
      "/kaggle/working\n",
      "seed: 7\n",
      "topk: 3\n",
      "chunk_size: 100\n",
      "output_dir: input/sim6_data\n",
      "scale_dir: output/preprocess/normalize_009_rate_feat/bolton\n",
      "test_data_path: input/test.parquet\n",
      "test_old_data_path: input/test_old.parquet\n",
      "data_dir: input/ClimSim_low-res\n",
      "valid_year_id: 0\n",
      "\n"
     ]
    }
   ],
   "source": [
    "%cd /kaggle/working\n",
    "\n",
    "import os\n",
    "\n",
    "from hydra import compose, initialize\n",
    "from omegaconf import OmegaConf\n",
    "\n",
    "with initialize(version_base=None, config_path=\"../preprocess/make_val_test_sim6\"):\n",
    "    cfg = compose(\n",
    "        config_name=\"config.yaml\", overrides=[\"debug=True\"], return_hydra_config=True\n",
    "    )\n",
    "    print(OmegaConf.to_yaml(cfg.exp))"
   ]
  },
  {
   "cell_type": "code",
   "execution_count": 12,
   "id": "ef74966e-7185-4992-adeb-7d7aa05862ed",
   "metadata": {},
   "outputs": [],
   "source": [
    "import json\n",
    "import os\n",
    "import pickle\n",
    "import shutil\n",
    "import sys\n",
    "import time\n",
    "from glob import glob\n",
    "from pathlib import Path\n",
    "from typing import Literal\n",
    "\n",
    "import hydra\n",
    "import numpy as np\n",
    "import polars as pl\n",
    "import torch\n",
    "from hydra.core.hydra_config import HydraConfig\n",
    "from omegaconf import DictConfig, OmegaConf\n",
    "from torch.nn.functional import normalize\n",
    "from torch.utils.data import DataLoader, TensorDataset\n",
    "from tqdm.auto import tqdm\n",
    "\n",
    "\n",
    "def compute_cosine_similarity(tensor1, tensor2):\n",
    "    return torch.mm(tensor1, tensor2.t())\n",
    "\n",
    "\n",
    "def get_top_k_similar_rows(matrix, target_matrix, k=5, chunk_size=1000, device=\"cpu\"):\n",
    "    matrix = matrix.to(device)\n",
    "    normalized_matrix = normalize(matrix, p=2, dim=1)\n",
    "    target_matrix = target_matrix.to(device)\n",
    "    normalized_target_matrix = normalize(target_matrix, p=2, dim=1)\n",
    "\n",
    "    top_k_indices = torch.empty((matrix.size(0), k), dtype=torch.long, device=\"cpu\")\n",
    "\n",
    "    dataset = TensorDataset(normalized_matrix)\n",
    "    dataloader = DataLoader(dataset, batch_size=chunk_size)\n",
    "\n",
    "    for ci, chunk in enumerate(tqdm(dataloader)):\n",
    "        chunk_tensor = chunk[0]\n",
    "        chunk_size_actual = chunk_tensor.size(0)\n",
    "\n",
    "        cosine_similarities = compute_cosine_similarity(\n",
    "            chunk_tensor, normalized_target_matrix\n",
    "        ).to(device)\n",
    "        top_k = torch.topk(cosine_similarities, k, dim=1)\n",
    "        top_k_indices[ci * chunk_size : ci * chunk_size + chunk_size_actual] = (\n",
    "            top_k.indices.cpu()\n",
    "        )\n",
    "\n",
    "    return top_k_indices"
   ]
  },
  {
   "cell_type": "code",
   "execution_count": 13,
   "id": "bfd8da25-e2b8-45af-99de-8814cfd638d4",
   "metadata": {},
   "outputs": [],
   "source": [
    "test_df = pl.read_csv(\"input/leap-atmospheric-physics-ai-climsim/test.csv\")\n",
    "test_old_df = pl.read_csv(\"input/leap-atmospheric-physics-ai-climsim/test_old.csv\")"
   ]
  },
  {
   "cell_type": "code",
   "execution_count": 130,
   "id": "f2af6de0-a720-4ce0-90c3-cc5dd6bba17f",
   "metadata": {},
   "outputs": [],
   "source": [
    "base_array = test_df[:, 1:].to_numpy()\n",
    "old_array = test_old_df[:, 1:].to_numpy()\n",
    "\n",
    "# scaling\n",
    "feat_mean_dict = pickle.load(\n",
    "    open(\n",
    "        Path(cfg.exp.scale_dir) / \"x_mean_feat_dict.pkl\",\n",
    "        \"rb\",\n",
    "    )\n",
    ")\n",
    "feat_std_dict = pickle.load(\n",
    "    open(\n",
    "        Path(cfg.exp.scale_dir) / \"x_std_feat_dict.pkl\",\n",
    "        \"rb\",\n",
    "    )\n",
    ")\n",
    "\n",
    "data = torch.tensor(base_array[:, :556])\n",
    "data = (data - feat_mean_dict[\"base\"]) / (feat_std_dict[\"base\"] + 1e-60)\n",
    "data = data.float()\n",
    "data_old = torch.tensor(old_array[:, :556])\n",
    "data_old = (data_old - feat_mean_dict[\"base\"]) / (feat_std_dict[\"base\"] + 1e-60)\n",
    "data_old = data_old.float()\n",
    "\n",
    "top_k_similar = get_top_k_similar_rows(\n",
    "    data,\n",
    "    data_old,\n",
    "    k=cfg.exp.topk,\n",
    "    chunk_size=cfg.exp.chunk_size,\n",
    "    device=\"cuda\",\n",
    ")"
   ]
  },
  {
   "cell_type": "code",
   "execution_count": null,
   "id": "0e6b064e-bdd7-401b-b2e4-c702b4bcc8b2",
   "metadata": {},
   "outputs": [],
   "source": []
  },
  {
   "cell_type": "code",
   "execution_count": null,
   "id": "bb1f841f-80c1-4e71-8e1d-e3126679e549",
   "metadata": {},
   "outputs": [],
   "source": []
  },
  {
   "cell_type": "code",
   "execution_count": 139,
   "id": "e0bf1a0e-7837-4633-9ef3-ba727ebb7f8b",
   "metadata": {},
   "outputs": [],
   "source": [
    "test_info_top1_df = test_info_df.with_columns(\n",
    "    pl.Series(name=\"top1_index\", values=top_k_similar[:, 0].numpy())\n",
    ")"
   ]
  },
  {
   "cell_type": "code",
   "execution_count": 140,
   "id": "6b20d0ed-2705-4da2-9172-e0471b196fe7",
   "metadata": {},
   "outputs": [],
   "source": [
    "test_info_top1_df = test_info_top1_df.join(\n",
    "    test_old_info_df.with_row_index(\"top1_index\").with_columns(\n",
    "        pl.col(\"top1_index\").cast(pl.Int64)\n",
    "    ),\n",
    "    on=\"top1_index\",\n",
    "    suffix=\"_old\",\n",
    ").sort([\"month\", \"day\", \"tick\", \"location\"])"
   ]
  },
  {
   "cell_type": "code",
   "execution_count": 141,
   "id": "3b7e5b56-c46b-4733-a45e-eff25c97b2bc",
   "metadata": {},
   "outputs": [],
   "source": [
    "group_list = [\"month\", \"day\", \"tick\", \"location\"]\n",
    "\n",
    "test_info_top1_df = test_info_top1_df.with_columns(\n",
    "    pl.max(\"timestamp\").over(group_list).alias(\"max_timestamp\"),\n",
    "    pl.min(\"timestamp\").over(group_list).alias(\"min_timestamp\"),\n",
    "    pl.count(\"timestamp\").over(group_list).alias(\"count\"),\n",
    ").with_columns((pl.col(\"max_timestamp\") - pl.col(\"min_timestamp\")).alias(\"time_diff\"))"
   ]
  },
  {
   "cell_type": "code",
   "execution_count": 176,
   "id": "f7a25d67-7221-4085-b677-628117452260",
   "metadata": {},
   "outputs": [],
   "source": [
    "test_info_top1_df = test_info_top1_df.with_columns(\n",
    "    pl.col(\"time_diff\").dt.total_days().alias(\"time_diff_days\")\n",
    ").with_columns(\n",
    "    ((360 < pl.col(\"time_diff_days\")) & (pl.col(\"time_diff_days\") < 370)).alias(\"is_ok\")\n",
    ")"
   ]
  },
  {
   "cell_type": "code",
   "execution_count": 179,
   "id": "29badaef-7a09-4a35-a64b-49fa0cb2d830",
   "metadata": {},
   "outputs": [
    {
     "data": {
      "text/plain": [
       "391942"
      ]
     },
     "execution_count": 179,
     "metadata": {},
     "output_type": "execute_result"
    }
   ],
   "source": [
    "test_info_top1_df.filter(pl.col(\"count\") >= 2)[\"is_ok\"].sum()"
   ]
  },
  {
   "cell_type": "code",
   "execution_count": 178,
   "id": "6e4c25ee-9b61-479a-8d4d-e3a497563b60",
   "metadata": {},
   "outputs": [
    {
     "data": {
      "text/plain": [
       "(409040, 22)"
      ]
     },
     "execution_count": 178,
     "metadata": {},
     "output_type": "execute_result"
    }
   ],
   "source": [
    "test_info_top1_df.filter(pl.col(\"count\") >= 2)"
   ]
  },
  {
   "cell_type": "code",
   "execution_count": null,
   "id": "e8ea68a7-307e-4292-a8a4-b37b82de991d",
   "metadata": {},
   "outputs": [],
   "source": []
  }
 ],
 "metadata": {
  "kernelspec": {
   "display_name": "Python 3 (ipykernel) (Local)",
   "language": "python",
   "name": "python3"
  },
  "language_info": {
   "codemirror_mode": {
    "name": "ipython",
    "version": 3
   },
   "file_extension": ".py",
   "mimetype": "text/x-python",
   "name": "python",
   "nbconvert_exporter": "python",
   "pygments_lexer": "ipython3",
   "version": "3.10.13"
  }
 },
 "nbformat": 4,
 "nbformat_minor": 5
}
