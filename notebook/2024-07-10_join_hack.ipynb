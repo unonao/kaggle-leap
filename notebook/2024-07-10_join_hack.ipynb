{
 "cells": [
  {
   "cell_type": "code",
   "execution_count": 1,
   "id": "59c5d0a1-3691-4804-a9d8-80f682cb54ff",
   "metadata": {},
   "outputs": [
    {
     "name": "stdout",
     "output_type": "stream",
     "text": [
      "/kaggle/working\n"
     ]
    }
   ],
   "source": [
    "%cd /kaggle/working"
   ]
  },
  {
   "cell_type": "code",
   "execution_count": 2,
   "id": "40697056-e3ff-422d-84f5-7c0e21aac018",
   "metadata": {},
   "outputs": [],
   "source": [
    "import numpy as np\n",
    "import polars as pl"
   ]
  },
  {
   "cell_type": "code",
   "execution_count": 163,
   "id": "36b34351-cede-447b-be86-cc7e695adb31",
   "metadata": {},
   "outputs": [],
   "source": [
    "test_info_df = pl.read_parquet(\"output/preprocess/make_hack_map/base/test_info.parquet\")\n",
    "test_old_info_df = pl.read_parquet(\n",
    "    \"output/preprocess/make_hack_map/base/test_old_info.parquet\"\n",
    ")"
   ]
  },
  {
   "cell_type": "code",
   "execution_count": 164,
   "id": "2c4c5af1-4d97-4860-8c27-188a3a47a939",
   "metadata": {},
   "outputs": [
    {
     "data": {
      "text/html": [
       "<div><style>\n",
       ".dataframe > thead > tr,\n",
       ".dataframe > tbody > tr {\n",
       "  text-align: right;\n",
       "  white-space: pre-wrap;\n",
       "}\n",
       "</style>\n",
       "<small>shape: (5, 7)</small><table border=\"1\" class=\"dataframe\"><thead><tr><th>sample_id</th><th>location</th><th>month</th><th>day</th><th>seconds</th><th>tick</th><th>no_year_timestamp</th></tr><tr><td>str</td><td>u32</td><td>i64</td><td>i64</td><td>i64</td><td>i64</td><td>datetime[μs]</td></tr></thead><tbody><tr><td>&quot;test_100324&quot;</td><td>234</td><td>1</td><td>1</td><td>0</td><td>0</td><td>2000-01-01 00:00:00</td></tr><tr><td>&quot;test_101381&quot;</td><td>46</td><td>1</td><td>1</td><td>0</td><td>0</td><td>2000-01-01 00:00:00</td></tr><tr><td>&quot;test_102391&quot;</td><td>179</td><td>1</td><td>1</td><td>0</td><td>0</td><td>2000-01-01 00:00:00</td></tr><tr><td>&quot;test_103808&quot;</td><td>66</td><td>1</td><td>1</td><td>0</td><td>0</td><td>2000-01-01 00:00:00</td></tr><tr><td>&quot;test_107667&quot;</td><td>151</td><td>1</td><td>1</td><td>0</td><td>0</td><td>2000-01-01 00:00:00</td></tr></tbody></table></div>"
      ],
      "text/plain": [
       "shape: (5, 7)\n",
       "┌─────────────┬──────────┬───────┬─────┬─────────┬──────┬─────────────────────┐\n",
       "│ sample_id   ┆ location ┆ month ┆ day ┆ seconds ┆ tick ┆ no_year_timestamp   │\n",
       "│ ---         ┆ ---      ┆ ---   ┆ --- ┆ ---     ┆ ---  ┆ ---                 │\n",
       "│ str         ┆ u32      ┆ i64   ┆ i64 ┆ i64     ┆ i64  ┆ datetime[μs]        │\n",
       "╞═════════════╪══════════╪═══════╪═════╪═════════╪══════╪═════════════════════╡\n",
       "│ test_100324 ┆ 234      ┆ 1     ┆ 1   ┆ 0       ┆ 0    ┆ 2000-01-01 00:00:00 │\n",
       "│ test_101381 ┆ 46       ┆ 1     ┆ 1   ┆ 0       ┆ 0    ┆ 2000-01-01 00:00:00 │\n",
       "│ test_102391 ┆ 179      ┆ 1     ┆ 1   ┆ 0       ┆ 0    ┆ 2000-01-01 00:00:00 │\n",
       "│ test_103808 ┆ 66       ┆ 1     ┆ 1   ┆ 0       ┆ 0    ┆ 2000-01-01 00:00:00 │\n",
       "│ test_107667 ┆ 151      ┆ 1     ┆ 1   ┆ 0       ┆ 0    ┆ 2000-01-01 00:00:00 │\n",
       "└─────────────┴──────────┴───────┴─────┴─────────┴──────┴─────────────────────┘"
      ]
     },
     "execution_count": 164,
     "metadata": {},
     "output_type": "execute_result"
    }
   ],
   "source": [
    "test_info_df = test_info_df.with_columns(\n",
    "    (\n",
    "        pl.datetime(2000, pl.col(\"month\"), pl.col(\"day\"), 0, 0, 0)\n",
    "        + pl.duration(seconds=pl.col(\"seconds\"))\n",
    "    ).alias(\"no_year_timestamp\")\n",
    ").sort(\"no_year_timestamp\")\n",
    "test_info_df.head()"
   ]
  },
  {
   "cell_type": "code",
   "execution_count": 165,
   "id": "b28a549a-e362-40c7-afb8-6c92f06c9471",
   "metadata": {},
   "outputs": [
    {
     "data": {
      "text/html": [
       "<div><style>\n",
       ".dataframe > thead > tr,\n",
       ".dataframe > tbody > tr {\n",
       "  text-align: right;\n",
       "  white-space: pre-wrap;\n",
       "}\n",
       "</style>\n",
       "<small>shape: (5, 10)</small><table border=\"1\" class=\"dataframe\"><thead><tr><th>index</th><th>sample_id</th><th>location</th><th>month</th><th>day</th><th>seconds</th><th>tick</th><th>year</th><th>timestamp</th><th>no_year_timestamp</th></tr><tr><td>u32</td><td>str</td><td>u32</td><td>i64</td><td>i64</td><td>i64</td><td>i64</td><td>i32</td><td>datetime[μs]</td><td>datetime[μs]</td></tr></thead><tbody><tr><td>0</td><td>&quot;test_169651&quot;</td><td>0</td><td>3</td><td>1</td><td>0</td><td>0</td><td>9</td><td>0009-03-01 00:00:00</td><td>2000-03-01 00:00:00</td></tr><tr><td>1</td><td>&quot;test_524862&quot;</td><td>1</td><td>3</td><td>1</td><td>0</td><td>0</td><td>9</td><td>0009-03-01 00:00:00</td><td>2000-03-01 00:00:00</td></tr><tr><td>2</td><td>&quot;test_634129&quot;</td><td>2</td><td>3</td><td>1</td><td>0</td><td>0</td><td>9</td><td>0009-03-01 00:00:00</td><td>2000-03-01 00:00:00</td></tr><tr><td>3</td><td>&quot;test_403572&quot;</td><td>3</td><td>3</td><td>1</td><td>0</td><td>0</td><td>9</td><td>0009-03-01 00:00:00</td><td>2000-03-01 00:00:00</td></tr><tr><td>4</td><td>&quot;test_484578&quot;</td><td>4</td><td>3</td><td>1</td><td>0</td><td>0</td><td>9</td><td>0009-03-01 00:00:00</td><td>2000-03-01 00:00:00</td></tr></tbody></table></div>"
      ],
      "text/plain": [
       "shape: (5, 10)\n",
       "┌───────┬─────────────┬──────────┬───────┬───┬──────┬──────┬──────────────┬─────────────────────┐\n",
       "│ index ┆ sample_id   ┆ location ┆ month ┆ … ┆ tick ┆ year ┆ timestamp    ┆ no_year_timestamp   │\n",
       "│ ---   ┆ ---         ┆ ---      ┆ ---   ┆   ┆ ---  ┆ ---  ┆ ---          ┆ ---                 │\n",
       "│ u32   ┆ str         ┆ u32      ┆ i64   ┆   ┆ i64  ┆ i32  ┆ datetime[μs] ┆ datetime[μs]        │\n",
       "╞═══════╪═════════════╪══════════╪═══════╪═══╪══════╪══════╪══════════════╪═════════════════════╡\n",
       "│ 0     ┆ test_169651 ┆ 0        ┆ 3     ┆ … ┆ 0    ┆ 9    ┆ 0009-03-01   ┆ 2000-03-01 00:00:00 │\n",
       "│       ┆             ┆          ┆       ┆   ┆      ┆      ┆ 00:00:00     ┆                     │\n",
       "│ 1     ┆ test_524862 ┆ 1        ┆ 3     ┆ … ┆ 0    ┆ 9    ┆ 0009-03-01   ┆ 2000-03-01 00:00:00 │\n",
       "│       ┆             ┆          ┆       ┆   ┆      ┆      ┆ 00:00:00     ┆                     │\n",
       "│ 2     ┆ test_634129 ┆ 2        ┆ 3     ┆ … ┆ 0    ┆ 9    ┆ 0009-03-01   ┆ 2000-03-01 00:00:00 │\n",
       "│       ┆             ┆          ┆       ┆   ┆      ┆      ┆ 00:00:00     ┆                     │\n",
       "│ 3     ┆ test_403572 ┆ 3        ┆ 3     ┆ … ┆ 0    ┆ 9    ┆ 0009-03-01   ┆ 2000-03-01 00:00:00 │\n",
       "│       ┆             ┆          ┆       ┆   ┆      ┆      ┆ 00:00:00     ┆                     │\n",
       "│ 4     ┆ test_484578 ┆ 4        ┆ 3     ┆ … ┆ 0    ┆ 9    ┆ 0009-03-01   ┆ 2000-03-01 00:00:00 │\n",
       "│       ┆             ┆          ┆       ┆   ┆      ┆      ┆ 00:00:00     ┆                     │\n",
       "└───────┴─────────────┴──────────┴───────┴───┴──────┴──────┴──────────────┴─────────────────────┘"
      ]
     },
     "execution_count": 165,
     "metadata": {},
     "output_type": "execute_result"
    }
   ],
   "source": [
    "test_old_info_df = (\n",
    "    test_old_info_df.with_row_index()\n",
    "    .with_columns(\n",
    "        pl.when(pl.col(\"index\") <= 282239)\n",
    "        .then(pl.lit(9))\n",
    "        .when(pl.col(\"index\") <= 618623)\n",
    "        .then(pl.lit(10))\n",
    "        .otherwise(pl.lit(11))\n",
    "        .alias(\"year\")\n",
    "    )\n",
    "    .with_columns(\n",
    "        (\n",
    "            pl.datetime(pl.col(\"year\"), pl.col(\"month\"), pl.col(\"day\"), 0, 0, 0)\n",
    "            + pl.duration(seconds=pl.col(\"seconds\"))\n",
    "        ).alias(\"timestamp\")\n",
    "    )\n",
    "    .with_columns(\n",
    "        (\n",
    "            pl.datetime(2000, pl.col(\"month\"), pl.col(\"day\"), 0, 0, 0)\n",
    "            + pl.duration(seconds=pl.col(\"seconds\"))\n",
    "        ).alias(\"no_year_timestamp\")\n",
    "    )\n",
    "    .sort(\"timestamp\")\n",
    ")\n",
    "test_old_info_df.head()"
   ]
  },
  {
   "cell_type": "code",
   "execution_count": 166,
   "id": "3a550cad-aba0-4726-bc1f-a6dfe7b7aa8e",
   "metadata": {},
   "outputs": [
    {
     "data": {
      "text/html": [
       "<div><style>\n",
       ".dataframe > thead > tr,\n",
       ".dataframe > tbody > tr {\n",
       "  text-align: right;\n",
       "  white-space: pre-wrap;\n",
       "}\n",
       "</style>\n",
       "<small>shape: (10, 10)</small><table border=\"1\" class=\"dataframe\"><thead><tr><th>index</th><th>sample_id</th><th>location</th><th>month</th><th>day</th><th>seconds</th><th>tick</th><th>year</th><th>timestamp</th><th>no_year_timestamp</th></tr><tr><td>u32</td><td>str</td><td>u32</td><td>i64</td><td>i64</td><td>i64</td><td>i64</td><td>i32</td><td>datetime[μs]</td><td>datetime[μs]</td></tr></thead><tbody><tr><td>282235</td><td>&quot;test_404451&quot;</td><td>379</td><td>12</td><td>31</td><td>72000</td><td>60</td><td>9</td><td>0009-12-31 20:00:00</td><td>2000-12-31 20:00:00</td></tr><tr><td>282236</td><td>&quot;test_305312&quot;</td><td>380</td><td>12</td><td>31</td><td>72000</td><td>60</td><td>9</td><td>0009-12-31 20:00:00</td><td>2000-12-31 20:00:00</td></tr><tr><td>282237</td><td>&quot;test_638294&quot;</td><td>381</td><td>12</td><td>31</td><td>72000</td><td>60</td><td>9</td><td>0009-12-31 20:00:00</td><td>2000-12-31 20:00:00</td></tr><tr><td>282238</td><td>&quot;test_492038&quot;</td><td>382</td><td>12</td><td>31</td><td>72000</td><td>60</td><td>9</td><td>0009-12-31 20:00:00</td><td>2000-12-31 20:00:00</td></tr><tr><td>282239</td><td>&quot;test_384591&quot;</td><td>383</td><td>12</td><td>31</td><td>72000</td><td>60</td><td>9</td><td>0009-12-31 20:00:00</td><td>2000-12-31 20:00:00</td></tr><tr><td>282240</td><td>&quot;test_20748&quot;</td><td>0</td><td>1</td><td>1</td><td>21600</td><td>18</td><td>10</td><td>0010-01-01 06:00:00</td><td>2000-01-01 06:00:00</td></tr><tr><td>282241</td><td>&quot;test_409714&quot;</td><td>1</td><td>1</td><td>1</td><td>21600</td><td>18</td><td>10</td><td>0010-01-01 06:00:00</td><td>2000-01-01 06:00:00</td></tr><tr><td>282242</td><td>&quot;test_148301&quot;</td><td>2</td><td>1</td><td>1</td><td>21600</td><td>18</td><td>10</td><td>0010-01-01 06:00:00</td><td>2000-01-01 06:00:00</td></tr><tr><td>282243</td><td>&quot;test_250407&quot;</td><td>3</td><td>1</td><td>1</td><td>21600</td><td>18</td><td>10</td><td>0010-01-01 06:00:00</td><td>2000-01-01 06:00:00</td></tr><tr><td>282244</td><td>&quot;test_114328&quot;</td><td>4</td><td>1</td><td>1</td><td>21600</td><td>18</td><td>10</td><td>0010-01-01 06:00:00</td><td>2000-01-01 06:00:00</td></tr></tbody></table></div>"
      ],
      "text/plain": [
       "shape: (10, 10)\n",
       "┌────────┬─────────────┬──────────┬───────┬───┬──────┬──────┬──────────────┬───────────────────────┐\n",
       "│ index  ┆ sample_id   ┆ location ┆ month ┆ … ┆ tick ┆ year ┆ timestamp    ┆ no_year_timestamp     │\n",
       "│ ---    ┆ ---         ┆ ---      ┆ ---   ┆   ┆ ---  ┆ ---  ┆ ---          ┆ ---                   │\n",
       "│ u32    ┆ str         ┆ u32      ┆ i64   ┆   ┆ i64  ┆ i32  ┆ datetime[μs] ┆ datetime[μs]          │\n",
       "╞════════╪═════════════╪══════════╪═══════╪═══╪══════╪══════╪══════════════╪═══════════════════════╡\n",
       "│ 282235 ┆ test_404451 ┆ 379      ┆ 12    ┆ … ┆ 60   ┆ 9    ┆ 0009-12-31   ┆ 2000-12-31 20:00:00   │\n",
       "│        ┆             ┆          ┆       ┆   ┆      ┆      ┆ 20:00:00     ┆                       │\n",
       "│ 282236 ┆ test_305312 ┆ 380      ┆ 12    ┆ … ┆ 60   ┆ 9    ┆ 0009-12-31   ┆ 2000-12-31 20:00:00   │\n",
       "│        ┆             ┆          ┆       ┆   ┆      ┆      ┆ 20:00:00     ┆                       │\n",
       "│ 282237 ┆ test_638294 ┆ 381      ┆ 12    ┆ … ┆ 60   ┆ 9    ┆ 0009-12-31   ┆ 2000-12-31 20:00:00   │\n",
       "│        ┆             ┆          ┆       ┆   ┆      ┆      ┆ 20:00:00     ┆                       │\n",
       "│ 282238 ┆ test_492038 ┆ 382      ┆ 12    ┆ … ┆ 60   ┆ 9    ┆ 0009-12-31   ┆ 2000-12-31 20:00:00   │\n",
       "│        ┆             ┆          ┆       ┆   ┆      ┆      ┆ 20:00:00     ┆                       │\n",
       "│ 282239 ┆ test_384591 ┆ 383      ┆ 12    ┆ … ┆ 60   ┆ 9    ┆ 0009-12-31   ┆ 2000-12-31 20:00:00   │\n",
       "│        ┆             ┆          ┆       ┆   ┆      ┆      ┆ 20:00:00     ┆                       │\n",
       "│ 282240 ┆ test_20748  ┆ 0        ┆ 1     ┆ … ┆ 18   ┆ 10   ┆ 0010-01-01   ┆ 2000-01-01 06:00:00   │\n",
       "│        ┆             ┆          ┆       ┆   ┆      ┆      ┆ 06:00:00     ┆                       │\n",
       "│ 282241 ┆ test_409714 ┆ 1        ┆ 1     ┆ … ┆ 18   ┆ 10   ┆ 0010-01-01   ┆ 2000-01-01 06:00:00   │\n",
       "│        ┆             ┆          ┆       ┆   ┆      ┆      ┆ 06:00:00     ┆                       │\n",
       "│ 282242 ┆ test_148301 ┆ 2        ┆ 1     ┆ … ┆ 18   ┆ 10   ┆ 0010-01-01   ┆ 2000-01-01 06:00:00   │\n",
       "│        ┆             ┆          ┆       ┆   ┆      ┆      ┆ 06:00:00     ┆                       │\n",
       "│ 282243 ┆ test_250407 ┆ 3        ┆ 1     ┆ … ┆ 18   ┆ 10   ┆ 0010-01-01   ┆ 2000-01-01 06:00:00   │\n",
       "│        ┆             ┆          ┆       ┆   ┆      ┆      ┆ 06:00:00     ┆                       │\n",
       "│ 282244 ┆ test_114328 ┆ 4        ┆ 1     ┆ … ┆ 18   ┆ 10   ┆ 0010-01-01   ┆ 2000-01-01 06:00:00   │\n",
       "│        ┆             ┆          ┆       ┆   ┆      ┆      ┆ 06:00:00     ┆                       │\n",
       "└────────┴─────────────┴──────────┴───────┴───┴──────┴──────┴──────────────┴───────────────────────┘"
      ]
     },
     "execution_count": 166,
     "metadata": {},
     "output_type": "execute_result"
    }
   ],
   "source": [
    "test_old_info_df[:282245].tail(10)  # 282239"
   ]
  },
  {
   "cell_type": "code",
   "execution_count": 167,
   "id": "e1143d9a-29a8-465d-83ab-cad693829d6a",
   "metadata": {},
   "outputs": [
    {
     "data": {
      "text/html": [
       "<div><style>\n",
       ".dataframe > thead > tr,\n",
       ".dataframe > tbody > tr {\n",
       "  text-align: right;\n",
       "  white-space: pre-wrap;\n",
       "}\n",
       "</style>\n",
       "<small>shape: (10, 10)</small><table border=\"1\" class=\"dataframe\"><thead><tr><th>index</th><th>sample_id</th><th>location</th><th>month</th><th>day</th><th>seconds</th><th>tick</th><th>year</th><th>timestamp</th><th>no_year_timestamp</th></tr><tr><td>u32</td><td>str</td><td>u32</td><td>i64</td><td>i64</td><td>i64</td><td>i64</td><td>i32</td><td>datetime[μs]</td><td>datetime[μs]</td></tr></thead><tbody><tr><td>618619</td><td>&quot;test_490095&quot;</td><td>379</td><td>12</td><td>31</td><td>72000</td><td>60</td><td>10</td><td>0010-12-31 20:00:00</td><td>2000-12-31 20:00:00</td></tr><tr><td>618620</td><td>&quot;test_256221&quot;</td><td>380</td><td>12</td><td>31</td><td>72000</td><td>60</td><td>10</td><td>0010-12-31 20:00:00</td><td>2000-12-31 20:00:00</td></tr><tr><td>618621</td><td>&quot;test_151665&quot;</td><td>381</td><td>12</td><td>31</td><td>72000</td><td>60</td><td>10</td><td>0010-12-31 20:00:00</td><td>2000-12-31 20:00:00</td></tr><tr><td>618622</td><td>&quot;test_465143&quot;</td><td>382</td><td>12</td><td>31</td><td>72000</td><td>60</td><td>10</td><td>0010-12-31 20:00:00</td><td>2000-12-31 20:00:00</td></tr><tr><td>618623</td><td>&quot;test_336617&quot;</td><td>383</td><td>12</td><td>31</td><td>72000</td><td>60</td><td>10</td><td>0010-12-31 20:00:00</td><td>2000-12-31 20:00:00</td></tr><tr><td>618624</td><td>&quot;test_364584&quot;</td><td>0</td><td>1</td><td>1</td><td>21600</td><td>18</td><td>11</td><td>0011-01-01 06:00:00</td><td>2000-01-01 06:00:00</td></tr><tr><td>618625</td><td>&quot;test_56256&quot;</td><td>1</td><td>1</td><td>1</td><td>21600</td><td>18</td><td>11</td><td>0011-01-01 06:00:00</td><td>2000-01-01 06:00:00</td></tr><tr><td>618626</td><td>&quot;test_441627&quot;</td><td>2</td><td>1</td><td>1</td><td>21600</td><td>18</td><td>11</td><td>0011-01-01 06:00:00</td><td>2000-01-01 06:00:00</td></tr><tr><td>618627</td><td>&quot;test_69092&quot;</td><td>3</td><td>1</td><td>1</td><td>21600</td><td>18</td><td>11</td><td>0011-01-01 06:00:00</td><td>2000-01-01 06:00:00</td></tr><tr><td>618628</td><td>&quot;test_521592&quot;</td><td>4</td><td>1</td><td>1</td><td>21600</td><td>18</td><td>11</td><td>0011-01-01 06:00:00</td><td>2000-01-01 06:00:00</td></tr></tbody></table></div>"
      ],
      "text/plain": [
       "shape: (10, 10)\n",
       "┌────────┬─────────────┬──────────┬───────┬───┬──────┬──────┬──────────────┬───────────────────────┐\n",
       "│ index  ┆ sample_id   ┆ location ┆ month ┆ … ┆ tick ┆ year ┆ timestamp    ┆ no_year_timestamp     │\n",
       "│ ---    ┆ ---         ┆ ---      ┆ ---   ┆   ┆ ---  ┆ ---  ┆ ---          ┆ ---                   │\n",
       "│ u32    ┆ str         ┆ u32      ┆ i64   ┆   ┆ i64  ┆ i32  ┆ datetime[μs] ┆ datetime[μs]          │\n",
       "╞════════╪═════════════╪══════════╪═══════╪═══╪══════╪══════╪══════════════╪═══════════════════════╡\n",
       "│ 618619 ┆ test_490095 ┆ 379      ┆ 12    ┆ … ┆ 60   ┆ 10   ┆ 0010-12-31   ┆ 2000-12-31 20:00:00   │\n",
       "│        ┆             ┆          ┆       ┆   ┆      ┆      ┆ 20:00:00     ┆                       │\n",
       "│ 618620 ┆ test_256221 ┆ 380      ┆ 12    ┆ … ┆ 60   ┆ 10   ┆ 0010-12-31   ┆ 2000-12-31 20:00:00   │\n",
       "│        ┆             ┆          ┆       ┆   ┆      ┆      ┆ 20:00:00     ┆                       │\n",
       "│ 618621 ┆ test_151665 ┆ 381      ┆ 12    ┆ … ┆ 60   ┆ 10   ┆ 0010-12-31   ┆ 2000-12-31 20:00:00   │\n",
       "│        ┆             ┆          ┆       ┆   ┆      ┆      ┆ 20:00:00     ┆                       │\n",
       "│ 618622 ┆ test_465143 ┆ 382      ┆ 12    ┆ … ┆ 60   ┆ 10   ┆ 0010-12-31   ┆ 2000-12-31 20:00:00   │\n",
       "│        ┆             ┆          ┆       ┆   ┆      ┆      ┆ 20:00:00     ┆                       │\n",
       "│ 618623 ┆ test_336617 ┆ 383      ┆ 12    ┆ … ┆ 60   ┆ 10   ┆ 0010-12-31   ┆ 2000-12-31 20:00:00   │\n",
       "│        ┆             ┆          ┆       ┆   ┆      ┆      ┆ 20:00:00     ┆                       │\n",
       "│ 618624 ┆ test_364584 ┆ 0        ┆ 1     ┆ … ┆ 18   ┆ 11   ┆ 0011-01-01   ┆ 2000-01-01 06:00:00   │\n",
       "│        ┆             ┆          ┆       ┆   ┆      ┆      ┆ 06:00:00     ┆                       │\n",
       "│ 618625 ┆ test_56256  ┆ 1        ┆ 1     ┆ … ┆ 18   ┆ 11   ┆ 0011-01-01   ┆ 2000-01-01 06:00:00   │\n",
       "│        ┆             ┆          ┆       ┆   ┆      ┆      ┆ 06:00:00     ┆                       │\n",
       "│ 618626 ┆ test_441627 ┆ 2        ┆ 1     ┆ … ┆ 18   ┆ 11   ┆ 0011-01-01   ┆ 2000-01-01 06:00:00   │\n",
       "│        ┆             ┆          ┆       ┆   ┆      ┆      ┆ 06:00:00     ┆                       │\n",
       "│ 618627 ┆ test_69092  ┆ 3        ┆ 1     ┆ … ┆ 18   ┆ 11   ┆ 0011-01-01   ┆ 2000-01-01 06:00:00   │\n",
       "│        ┆             ┆          ┆       ┆   ┆      ┆      ┆ 06:00:00     ┆                       │\n",
       "│ 618628 ┆ test_521592 ┆ 4        ┆ 1     ┆ … ┆ 18   ┆ 11   ┆ 0011-01-01   ┆ 2000-01-01 06:00:00   │\n",
       "│        ┆             ┆          ┆       ┆   ┆      ┆      ┆ 06:00:00     ┆                       │\n",
       "└────────┴─────────────┴──────────┴───────┴───┴──────┴──────┴──────────────┴───────────────────────┘"
      ]
     },
     "execution_count": 167,
     "metadata": {},
     "output_type": "execute_result"
    }
   ],
   "source": [
    "test_old_info_df[:618629].tail(10)  # 618623"
   ]
  },
  {
   "cell_type": "code",
   "execution_count": 168,
   "id": "74cc2e03-3fb3-44ef-8277-acdda8c20d03",
   "metadata": {},
   "outputs": [
    {
     "data": {
      "text/html": [
       "<div><style>\n",
       ".dataframe > thead > tr,\n",
       ".dataframe > tbody > tr {\n",
       "  text-align: right;\n",
       "  white-space: pre-wrap;\n",
       "}\n",
       "</style>\n",
       "<small>shape: (625_000, 7)</small><table border=\"1\" class=\"dataframe\"><thead><tr><th>sample_id</th><th>location</th><th>month</th><th>day</th><th>seconds</th><th>tick</th><th>no_year_timestamp</th></tr><tr><td>str</td><td>u32</td><td>i64</td><td>i64</td><td>i64</td><td>i64</td><td>datetime[μs]</td></tr></thead><tbody><tr><td>&quot;test_100324&quot;</td><td>234</td><td>1</td><td>1</td><td>0</td><td>0</td><td>2000-01-01 00:00:00</td></tr><tr><td>&quot;test_101381&quot;</td><td>46</td><td>1</td><td>1</td><td>0</td><td>0</td><td>2000-01-01 00:00:00</td></tr><tr><td>&quot;test_102391&quot;</td><td>179</td><td>1</td><td>1</td><td>0</td><td>0</td><td>2000-01-01 00:00:00</td></tr><tr><td>&quot;test_103808&quot;</td><td>66</td><td>1</td><td>1</td><td>0</td><td>0</td><td>2000-01-01 00:00:00</td></tr><tr><td>&quot;test_107667&quot;</td><td>151</td><td>1</td><td>1</td><td>0</td><td>0</td><td>2000-01-01 00:00:00</td></tr><tr><td>&hellip;</td><td>&hellip;</td><td>&hellip;</td><td>&hellip;</td><td>&hellip;</td><td>&hellip;</td><td>&hellip;</td></tr><tr><td>&quot;test_93387&quot;</td><td>33</td><td>12</td><td>31</td><td>57600</td><td>48</td><td>2000-12-31 16:00:00</td></tr><tr><td>&quot;test_94307&quot;</td><td>40</td><td>12</td><td>31</td><td>57600</td><td>48</td><td>2000-12-31 16:00:00</td></tr><tr><td>&quot;test_96792&quot;</td><td>355</td><td>12</td><td>31</td><td>57600</td><td>48</td><td>2000-12-31 16:00:00</td></tr><tr><td>&quot;test_97848&quot;</td><td>363</td><td>12</td><td>31</td><td>57600</td><td>48</td><td>2000-12-31 16:00:00</td></tr><tr><td>&quot;test_98809&quot;</td><td>381</td><td>12</td><td>31</td><td>57600</td><td>48</td><td>2000-12-31 16:00:00</td></tr></tbody></table></div>"
      ],
      "text/plain": [
       "shape: (625_000, 7)\n",
       "┌─────────────┬──────────┬───────┬─────┬─────────┬──────┬─────────────────────┐\n",
       "│ sample_id   ┆ location ┆ month ┆ day ┆ seconds ┆ tick ┆ no_year_timestamp   │\n",
       "│ ---         ┆ ---      ┆ ---   ┆ --- ┆ ---     ┆ ---  ┆ ---                 │\n",
       "│ str         ┆ u32      ┆ i64   ┆ i64 ┆ i64     ┆ i64  ┆ datetime[μs]        │\n",
       "╞═════════════╪══════════╪═══════╪═════╪═════════╪══════╪═════════════════════╡\n",
       "│ test_100324 ┆ 234      ┆ 1     ┆ 1   ┆ 0       ┆ 0    ┆ 2000-01-01 00:00:00 │\n",
       "│ test_101381 ┆ 46       ┆ 1     ┆ 1   ┆ 0       ┆ 0    ┆ 2000-01-01 00:00:00 │\n",
       "│ test_102391 ┆ 179      ┆ 1     ┆ 1   ┆ 0       ┆ 0    ┆ 2000-01-01 00:00:00 │\n",
       "│ test_103808 ┆ 66       ┆ 1     ┆ 1   ┆ 0       ┆ 0    ┆ 2000-01-01 00:00:00 │\n",
       "│ test_107667 ┆ 151      ┆ 1     ┆ 1   ┆ 0       ┆ 0    ┆ 2000-01-01 00:00:00 │\n",
       "│ …           ┆ …        ┆ …     ┆ …   ┆ …       ┆ …    ┆ …                   │\n",
       "│ test_93387  ┆ 33       ┆ 12    ┆ 31  ┆ 57600   ┆ 48   ┆ 2000-12-31 16:00:00 │\n",
       "│ test_94307  ┆ 40       ┆ 12    ┆ 31  ┆ 57600   ┆ 48   ┆ 2000-12-31 16:00:00 │\n",
       "│ test_96792  ┆ 355      ┆ 12    ┆ 31  ┆ 57600   ┆ 48   ┆ 2000-12-31 16:00:00 │\n",
       "│ test_97848  ┆ 363      ┆ 12    ┆ 31  ┆ 57600   ┆ 48   ┆ 2000-12-31 16:00:00 │\n",
       "│ test_98809  ┆ 381      ┆ 12    ┆ 31  ┆ 57600   ┆ 48   ┆ 2000-12-31 16:00:00 │\n",
       "└─────────────┴──────────┴───────┴─────┴─────────┴──────┴─────────────────────┘"
      ]
     },
     "execution_count": 168,
     "metadata": {},
     "output_type": "execute_result"
    }
   ],
   "source": [
    "test_info_df"
   ]
  },
  {
   "cell_type": "markdown",
   "id": "4704a9da-1ce2-4e8f-836f-953fb585ec2c",
   "metadata": {},
   "source": [
    "## old との類似度を見て近いやつを取る"
   ]
  },
  {
   "cell_type": "code",
   "execution_count": 11,
   "id": "6aadedbd-9853-46e0-9e30-88529855bb7e",
   "metadata": {},
   "outputs": [
    {
     "name": "stdout",
     "output_type": "stream",
     "text": [
      "/kaggle/working\n",
      "seed: 7\n",
      "topk: 3\n",
      "chunk_size: 100\n",
      "output_dir: input/sim6_data\n",
      "scale_dir: output/preprocess/normalize_009_rate_feat/bolton\n",
      "test_data_path: input/test.parquet\n",
      "test_old_data_path: input/test_old.parquet\n",
      "data_dir: input/ClimSim_low-res\n",
      "valid_year_id: 0\n",
      "\n"
     ]
    }
   ],
   "source": [
    "%cd /kaggle/working\n",
    "\n",
    "import os\n",
    "\n",
    "from hydra import compose, initialize\n",
    "from omegaconf import OmegaConf\n",
    "\n",
    "with initialize(version_base=None, config_path=\"../preprocess/make_val_test_sim6\"):\n",
    "    cfg = compose(\n",
    "        config_name=\"config.yaml\", overrides=[\"debug=True\"], return_hydra_config=True\n",
    "    )\n",
    "    print(OmegaConf.to_yaml(cfg.exp))"
   ]
  },
  {
   "cell_type": "code",
   "execution_count": 12,
   "id": "ef74966e-7185-4992-adeb-7d7aa05862ed",
   "metadata": {},
   "outputs": [],
   "source": [
    "import json\n",
    "import os\n",
    "import pickle\n",
    "import shutil\n",
    "import sys\n",
    "import time\n",
    "from glob import glob\n",
    "from pathlib import Path\n",
    "from typing import Literal\n",
    "\n",
    "import hydra\n",
    "import numpy as np\n",
    "import polars as pl\n",
    "import torch\n",
    "from hydra.core.hydra_config import HydraConfig\n",
    "from omegaconf import DictConfig, OmegaConf\n",
    "from torch.nn.functional import normalize\n",
    "from torch.utils.data import DataLoader, TensorDataset\n",
    "from tqdm.auto import tqdm\n",
    "\n",
    "\n",
    "def compute_cosine_similarity(tensor1, tensor2):\n",
    "    return torch.mm(tensor1, tensor2.t())\n",
    "\n",
    "\n",
    "def get_top_k_similar_rows(matrix, target_matrix, k=5, chunk_size=1000, device=\"cpu\"):\n",
    "    matrix = matrix.to(device)\n",
    "    normalized_matrix = normalize(matrix, p=2, dim=1)\n",
    "    target_matrix = target_matrix.to(device)\n",
    "    normalized_target_matrix = normalize(target_matrix, p=2, dim=1)\n",
    "\n",
    "    top_k_indices = torch.empty((matrix.size(0), k), dtype=torch.long, device=\"cpu\")\n",
    "\n",
    "    dataset = TensorDataset(normalized_matrix)\n",
    "    dataloader = DataLoader(dataset, batch_size=chunk_size)\n",
    "\n",
    "    for ci, chunk in enumerate(tqdm(dataloader)):\n",
    "        chunk_tensor = chunk[0]\n",
    "        chunk_size_actual = chunk_tensor.size(0)\n",
    "\n",
    "        cosine_similarities = compute_cosine_similarity(\n",
    "            chunk_tensor, normalized_target_matrix\n",
    "        ).to(device)\n",
    "        top_k = torch.topk(cosine_similarities, k, dim=1)\n",
    "        top_k_indices[ci * chunk_size : ci * chunk_size + chunk_size_actual] = (\n",
    "            top_k.indices.cpu()\n",
    "        )\n",
    "\n",
    "    return top_k_indices"
   ]
  },
  {
   "cell_type": "code",
   "execution_count": 13,
   "id": "bfd8da25-e2b8-45af-99de-8814cfd638d4",
   "metadata": {},
   "outputs": [],
   "source": [
    "test_df = pl.read_csv(\"input/leap-atmospheric-physics-ai-climsim/test.csv\")\n",
    "test_old_df = pl.read_csv(\"input/leap-atmospheric-physics-ai-climsim/test_old.csv\")"
   ]
  },
  {
   "cell_type": "code",
   "execution_count": 130,
   "id": "f2af6de0-a720-4ce0-90c3-cc5dd6bba17f",
   "metadata": {},
   "outputs": [],
   "source": [
    "base_array = test_df[:, 1:].to_numpy()\n",
    "old_array = test_old_df[:, 1:].to_numpy()\n",
    "\n",
    "# scaling\n",
    "feat_mean_dict = pickle.load(\n",
    "    open(\n",
    "        Path(cfg.exp.scale_dir) / \"x_mean_feat_dict.pkl\",\n",
    "        \"rb\",\n",
    "    )\n",
    ")\n",
    "feat_std_dict = pickle.load(\n",
    "    open(\n",
    "        Path(cfg.exp.scale_dir) / \"x_std_feat_dict.pkl\",\n",
    "        \"rb\",\n",
    "    )\n",
    ")\n",
    "\n",
    "data = torch.tensor(base_array[:, :556])\n",
    "data = (data - feat_mean_dict[\"base\"]) / (feat_std_dict[\"base\"] + 1e-60)\n",
    "data = data.float()\n",
    "data_old = torch.tensor(old_array[:, :556])\n",
    "data_old = (data_old - feat_mean_dict[\"base\"]) / (feat_std_dict[\"base\"] + 1e-60)\n",
    "data_old = data_old.float()\n",
    "\n",
    "top_k_similar = get_top_k_similar_rows(\n",
    "    data,\n",
    "    data_old,\n",
    "    k=cfg.exp.topk,\n",
    "    chunk_size=cfg.exp.chunk_size,\n",
    "    device=\"cuda\",\n",
    ")"
   ]
  },
  {
   "cell_type": "code",
   "execution_count": null,
   "id": "0e6b064e-bdd7-401b-b2e4-c702b4bcc8b2",
   "metadata": {},
   "outputs": [],
   "source": []
  },
  {
   "cell_type": "code",
   "execution_count": null,
   "id": "bb1f841f-80c1-4e71-8e1d-e3126679e549",
   "metadata": {},
   "outputs": [],
   "source": []
  },
  {
   "cell_type": "code",
   "execution_count": 139,
   "id": "e0bf1a0e-7837-4633-9ef3-ba727ebb7f8b",
   "metadata": {},
   "outputs": [],
   "source": [
    "test_info_top1_df = test_info_df.with_columns(\n",
    "    pl.Series(name=\"top1_index\", values=top_k_similar[:, 0].numpy())\n",
    ")"
   ]
  },
  {
   "cell_type": "code",
   "execution_count": 140,
   "id": "6b20d0ed-2705-4da2-9172-e0471b196fe7",
   "metadata": {},
   "outputs": [],
   "source": [
    "test_info_top1_df = test_info_top1_df.join(\n",
    "    test_old_info_df.with_row_index(\"top1_index\").with_columns(\n",
    "        pl.col(\"top1_index\").cast(pl.Int64)\n",
    "    ),\n",
    "    on=\"top1_index\",\n",
    "    suffix=\"_old\",\n",
    ").sort([\"month\", \"day\", \"tick\", \"location\"])"
   ]
  },
  {
   "cell_type": "code",
   "execution_count": 141,
   "id": "3b7e5b56-c46b-4733-a45e-eff25c97b2bc",
   "metadata": {},
   "outputs": [],
   "source": [
    "group_list = [\"month\", \"day\", \"tick\", \"location\"]\n",
    "\n",
    "test_info_top1_df = test_info_top1_df.with_columns(\n",
    "    pl.max(\"timestamp\").over(group_list).alias(\"max_timestamp\"),\n",
    "    pl.min(\"timestamp\").over(group_list).alias(\"min_timestamp\"),\n",
    "    pl.count(\"timestamp\").over(group_list).alias(\"count\"),\n",
    ").with_columns((pl.col(\"max_timestamp\") - pl.col(\"min_timestamp\")).alias(\"time_diff\"))"
   ]
  },
  {
   "cell_type": "code",
   "execution_count": 176,
   "id": "f7a25d67-7221-4085-b677-628117452260",
   "metadata": {},
   "outputs": [],
   "source": [
    "test_info_top1_df = test_info_top1_df.with_columns(\n",
    "    pl.col(\"time_diff\").dt.total_days().alias(\"time_diff_days\")\n",
    ").with_columns(\n",
    "    ((360 < pl.col(\"time_diff_days\")) & (pl.col(\"time_diff_days\") < 370)).alias(\"is_ok\")\n",
    ")"
   ]
  },
  {
   "cell_type": "code",
   "execution_count": 179,
   "id": "29badaef-7a09-4a35-a64b-49fa0cb2d830",
   "metadata": {},
   "outputs": [
    {
     "data": {
      "text/plain": [
       "391942"
      ]
     },
     "execution_count": 179,
     "metadata": {},
     "output_type": "execute_result"
    }
   ],
   "source": [
    "test_info_top1_df.filter(pl.col(\"count\") >= 2)['is_ok'].sum()"
   ]
  },
  {
   "cell_type": "code",
   "execution_count": 178,
   "id": "6e4c25ee-9b61-479a-8d4d-e3a497563b60",
   "metadata": {},
   "outputs": [
    {
     "data": {
      "text/plain": [
       "(409040, 22)"
      ]
     },
     "execution_count": 178,
     "metadata": {},
     "output_type": "execute_result"
    }
   ],
   "source": [
    "test_info_top1_df.filter(pl.col(\"count\") >= 2)"
   ]
  },
  {
   "cell_type": "code",
   "execution_count": null,
   "id": "e8ea68a7-307e-4292-a8a4-b37b82de991d",
   "metadata": {},
   "outputs": [],
   "source": []
  }
 ],
 "metadata": {
  "kernelspec": {
   "display_name": "Python 3 (ipykernel) (Local)",
   "language": "python",
   "name": "python3"
  },
  "language_info": {
   "codemirror_mode": {
    "name": "ipython",
    "version": 3
   },
   "file_extension": ".py",
   "mimetype": "text/x-python",
   "name": "python",
   "nbconvert_exporter": "python",
   "pygments_lexer": "ipython3",
   "version": "3.10.13"
  }
 },
 "nbformat": 4,
 "nbformat_minor": 5
}
