{
 "cells": [
  {
   "cell_type": "code",
   "execution_count": 3,
   "id": "2528999d-3832-4169-850e-e83373aa8230",
   "metadata": {},
   "outputs": [
    {
     "name": "stdout",
     "output_type": "stream",
     "text": [
      "/kaggle/working\n"
     ]
    }
   ],
   "source": [
    "%cd /kaggle/working"
   ]
  },
  {
   "cell_type": "code",
   "execution_count": 4,
   "id": "87239568-7c59-4da6-820f-e28944d9244b",
   "metadata": {},
   "outputs": [],
   "source": [
    "import datetime\n",
    "import gc\n",
    "from glob import glob\n",
    "from pathlib import Path\n",
    "\n",
    "import netCDF4  # implicitly required by xarray to load .nc\n",
    "import numpy as np\n",
    "import pandas as pd\n",
    "import polars as pl\n",
    "import tqdm\n",
    "import xarray as xr\n",
    "from tqdm import tqdm"
   ]
  },
  {
   "cell_type": "code",
   "execution_count": 5,
   "id": "51467b65-4948-4798-b363-2ffb1210799f",
   "metadata": {},
   "outputs": [],
   "source": [
    "paths = sorted(glob(\"input/ClimSim_low-res/train/0002-*/*.npy\"))"
   ]
  },
  {
   "cell_type": "code",
   "execution_count": 6,
   "id": "55f827f9-5b9f-4383-ae44-168f2bab712a",
   "metadata": {},
   "outputs": [
    {
     "data": {
      "text/plain": [
       "(26280, ['input/ClimSim_low-res/train/0002-01/0002-01-01-00000.npy'])"
      ]
     },
     "execution_count": 6,
     "metadata": {},
     "output_type": "execute_result"
    }
   ],
   "source": [
    "len(paths), paths[:1]"
   ]
  },
  {
   "cell_type": "markdown",
   "id": "799a4839-d560-4094-9a9c-e6437f74e229",
   "metadata": {},
   "source": [
    "mappingに欲しい情報\n",
    "\n",
    "- key\n",
    "  - pbuf_ozone_2\n",
    "- value\n",
    "  - location\n",
    "  - timestamp"
   ]
  },
  {
   "cell_type": "code",
   "execution_count": 39,
   "id": "3ea2f80a-0ce8-477c-88de-3c846071e30b",
   "metadata": {},
   "outputs": [
    {
     "name": "stderr",
     "output_type": "stream",
     "text": [
      "  0%|          | 0/26280 [00:00<?, ?it/s]\n"
     ]
    }
   ],
   "source": [
    "pbuf_ozone_list = []\n",
    "month_list = []\n",
    "day_list = []\n",
    "seconds_list = []\n",
    "skip = 10\n",
    "for i, path in enumerate(tqdm(paths)):\n",
    "    x = np.load(path)\n",
    "    pbuf_ozone_list.append(x[:, 377:437:skip].copy())\n",
    "    name = Path(path).name\n",
    "    timestamp_str = name.split(\".\")[0]\n",
    "    year, month, day, seconds = timestamp_str.split(\"-\")\n",
    "    year, month, day, seconds = int(year), int(month), int(day), int(seconds)\n",
    "    month_list.append([month] * 384)\n",
    "    day_list.append([day] * 384)\n",
    "    seconds_list.append([seconds] * 384)\n",
    "    break\n",
    "\n",
    "pbuf_ozone_list = np.vstack(pbuf_ozone_list)\n",
    "month_list = [item for sublist in month_list for item in sublist]\n",
    "day_list = [item for sublist in day_list for item in sublist]\n",
    "seconds_list = [item for sublist in seconds_list for item in sublist]"
   ]
  },
  {
   "cell_type": "code",
   "execution_count": 41,
   "id": "1294554d-fe67-4ae5-9ca5-859e1b36b0f4",
   "metadata": {
    "scrolled": true
   },
   "outputs": [
    {
     "data": {
      "text/html": [
       "<div><style>\n",
       ".dataframe > thead > tr,\n",
       ".dataframe > tbody > tr {\n",
       "  text-align: right;\n",
       "  white-space: pre-wrap;\n",
       "}\n",
       "</style>\n",
       "<small>shape: (384, 11)</small><table border=\"1\" class=\"dataframe\"><thead><tr><th>location</th><th>pbuf_ozone_0</th><th>pbuf_ozone_10</th><th>pbuf_ozone_20</th><th>pbuf_ozone_30</th><th>pbuf_ozone_40</th><th>pbuf_ozone_50</th><th>month</th><th>day</th><th>seconds</th><th>tick</th></tr><tr><td>u32</td><td>f64</td><td>f64</td><td>f64</td><td>f64</td><td>f64</td><td>f64</td><td>i64</td><td>i64</td><td>i64</td><td>i64</td></tr></thead><tbody><tr><td>0</td><td>4.4335e-7</td><td>0.000012</td><td>2.3536e-7</td><td>8.1375e-8</td><td>5.8524e-8</td><td>3.5211e-8</td><td>1</td><td>1</td><td>0</td><td>0</td></tr><tr><td>1</td><td>4.3519e-7</td><td>0.000012</td><td>3.2219e-7</td><td>7.8852e-8</td><td>5.4014e-8</td><td>3.0162e-8</td><td>1</td><td>1</td><td>0</td><td>0</td></tr><tr><td>2</td><td>4.7745e-7</td><td>0.000013</td><td>1.2123e-7</td><td>7.8984e-8</td><td>6.1798e-8</td><td>3.2987e-8</td><td>1</td><td>1</td><td>0</td><td>0</td></tr><tr><td>3</td><td>4.6701e-7</td><td>0.000012</td><td>1.5172e-7</td><td>8.0751e-8</td><td>6.3946e-8</td><td>2.7481e-8</td><td>1</td><td>1</td><td>0</td><td>0</td></tr><tr><td>4</td><td>4.3120e-7</td><td>0.000012</td><td>3.5661e-7</td><td>7.7078e-8</td><td>5.1578e-8</td><td>2.9283e-8</td><td>1</td><td>1</td><td>0</td><td>0</td></tr><tr><td>&hellip;</td><td>&hellip;</td><td>&hellip;</td><td>&hellip;</td><td>&hellip;</td><td>&hellip;</td><td>&hellip;</td><td>&hellip;</td><td>&hellip;</td><td>&hellip;</td><td>&hellip;</td></tr><tr><td>379</td><td>5.3979e-7</td><td>0.000011</td><td>0.000001</td><td>1.2733e-7</td><td>8.0014e-8</td><td>7.3130e-8</td><td>1</td><td>1</td><td>0</td><td>0</td></tr><tr><td>380</td><td>5.4228e-7</td><td>0.00001</td><td>0.000001</td><td>1.2237e-7</td><td>7.9764e-8</td><td>7.0875e-8</td><td>1</td><td>1</td><td>0</td><td>0</td></tr><tr><td>381</td><td>5.4867e-7</td><td>0.000011</td><td>9.0636e-7</td><td>1.2059e-7</td><td>8.3027e-8</td><td>7.1162e-8</td><td>1</td><td>1</td><td>0</td><td>0</td></tr><tr><td>382</td><td>5.4520e-7</td><td>0.000011</td><td>9.5337e-7</td><td>1.3005e-7</td><td>8.1560e-8</td><td>7.1599e-8</td><td>1</td><td>1</td><td>0</td><td>0</td></tr><tr><td>383</td><td>5.5147e-7</td><td>0.000011</td><td>6.7822e-7</td><td>1.2442e-7</td><td>8.4637e-8</td><td>7.1218e-8</td><td>1</td><td>1</td><td>0</td><td>0</td></tr></tbody></table></div>"
      ],
      "text/plain": [
       "shape: (384, 11)\n",
       "┌──────────┬──────────────┬───────────────┬───────────────┬───┬───────┬─────┬─────────┬──────┐\n",
       "│ location ┆ pbuf_ozone_0 ┆ pbuf_ozone_10 ┆ pbuf_ozone_20 ┆ … ┆ month ┆ day ┆ seconds ┆ tick │\n",
       "│ ---      ┆ ---          ┆ ---           ┆ ---           ┆   ┆ ---   ┆ --- ┆ ---     ┆ ---  │\n",
       "│ u32      ┆ f64          ┆ f64           ┆ f64           ┆   ┆ i64   ┆ i64 ┆ i64     ┆ i64  │\n",
       "╞══════════╪══════════════╪═══════════════╪═══════════════╪═══╪═══════╪═════╪═════════╪══════╡\n",
       "│ 0        ┆ 4.4335e-7    ┆ 0.000012      ┆ 2.3536e-7     ┆ … ┆ 1     ┆ 1   ┆ 0       ┆ 0    │\n",
       "│ 1        ┆ 4.3519e-7    ┆ 0.000012      ┆ 3.2219e-7     ┆ … ┆ 1     ┆ 1   ┆ 0       ┆ 0    │\n",
       "│ 2        ┆ 4.7745e-7    ┆ 0.000013      ┆ 1.2123e-7     ┆ … ┆ 1     ┆ 1   ┆ 0       ┆ 0    │\n",
       "│ 3        ┆ 4.6701e-7    ┆ 0.000012      ┆ 1.5172e-7     ┆ … ┆ 1     ┆ 1   ┆ 0       ┆ 0    │\n",
       "│ 4        ┆ 4.3120e-7    ┆ 0.000012      ┆ 3.5661e-7     ┆ … ┆ 1     ┆ 1   ┆ 0       ┆ 0    │\n",
       "│ …        ┆ …            ┆ …             ┆ …             ┆ … ┆ …     ┆ …   ┆ …       ┆ …    │\n",
       "│ 379      ┆ 5.3979e-7    ┆ 0.000011      ┆ 0.000001      ┆ … ┆ 1     ┆ 1   ┆ 0       ┆ 0    │\n",
       "│ 380      ┆ 5.4228e-7    ┆ 0.00001       ┆ 0.000001      ┆ … ┆ 1     ┆ 1   ┆ 0       ┆ 0    │\n",
       "│ 381      ┆ 5.4867e-7    ┆ 0.000011      ┆ 9.0636e-7     ┆ … ┆ 1     ┆ 1   ┆ 0       ┆ 0    │\n",
       "│ 382      ┆ 5.4520e-7    ┆ 0.000011      ┆ 9.5337e-7     ┆ … ┆ 1     ┆ 1   ┆ 0       ┆ 0    │\n",
       "│ 383      ┆ 5.5147e-7    ┆ 0.000011      ┆ 6.7822e-7     ┆ … ┆ 1     ┆ 1   ┆ 0       ┆ 0    │\n",
       "└──────────┴──────────────┴───────────────┴───────────────┴───┴───────┴─────┴─────────┴──────┘"
      ]
     },
     "execution_count": 41,
     "metadata": {},
     "output_type": "execute_result"
    }
   ],
   "source": [
    "map_df = (\n",
    "    pl.concat(\n",
    "        [\n",
    "            pl.from_numpy(\n",
    "                pbuf_ozone_list,\n",
    "                schema=[f\"pbuf_ozone_{skip*s}\" for s in range(60 // skip)],\n",
    "            ),\n",
    "            pl.DataFrame(\n",
    "                [\n",
    "                    pl.Series(name=\"month\", values=month_list),\n",
    "                    pl.Series(name=\"day\", values=day_list),\n",
    "                    pl.Series(name=\"seconds\", values=seconds_list),\n",
    "                ]\n",
    "            ),\n",
    "        ],\n",
    "        how=\"horizontal\",\n",
    "    )\n",
    "    .with_columns((pl.col(\"seconds\") // (20 * 60)).alias(\"tick\"))\n",
    "    .with_row_index(\"location\")\n",
    "    .with_columns(pl.col(\"location\") % 384)\n",
    ").drop([\"timestamp_str\", \"year\"])\n",
    "map_df"
   ]
  },
  {
   "cell_type": "code",
   "execution_count": 9,
   "id": "ce549350-3066-4555-a1aa-4c8863a9a65d",
   "metadata": {},
   "outputs": [],
   "source": [
    "map_df.write_parquet(\"output/map_hack.parquet\")"
   ]
  },
  {
   "cell_type": "code",
   "execution_count": 10,
   "id": "1994ec2c-c5ba-48f5-8e28-69beeb18c507",
   "metadata": {},
   "outputs": [
    {
     "data": {
      "text/html": [
       "<div><style>\n",
       ".dataframe > thead > tr,\n",
       ".dataframe > tbody > tr {\n",
       "  text-align: right;\n",
       "  white-space: pre-wrap;\n",
       "}\n",
       "</style>\n",
       "<small>shape: (10_091_520, 6)</small><table border=\"1\" class=\"dataframe\"><thead><tr><th>location</th><th>pbuf_ozone_2</th><th>month</th><th>day</th><th>seconds</th><th>tick</th></tr><tr><td>u32</td><td>f64</td><td>i64</td><td>i64</td><td>i64</td><td>i64</td></tr></thead><tbody><tr><td>0</td><td>7.9467e-7</td><td>1</td><td>1</td><td>0</td><td>0</td></tr><tr><td>1</td><td>7.8003e-7</td><td>1</td><td>1</td><td>0</td><td>0</td></tr><tr><td>2</td><td>8.5578e-7</td><td>1</td><td>1</td><td>0</td><td>0</td></tr><tr><td>3</td><td>8.3707e-7</td><td>1</td><td>1</td><td>0</td><td>0</td></tr><tr><td>4</td><td>7.7288e-7</td><td>1</td><td>1</td><td>0</td><td>0</td></tr><tr><td>&hellip;</td><td>&hellip;</td><td>&hellip;</td><td>&hellip;</td><td>&hellip;</td><td>&hellip;</td></tr><tr><td>379</td><td>9.6753e-7</td><td>12</td><td>31</td><td>85200</td><td>71</td></tr><tr><td>380</td><td>9.7199e-7</td><td>12</td><td>31</td><td>85200</td><td>71</td></tr><tr><td>381</td><td>9.8344e-7</td><td>12</td><td>31</td><td>85200</td><td>71</td></tr><tr><td>382</td><td>9.7722e-7</td><td>12</td><td>31</td><td>85200</td><td>71</td></tr><tr><td>383</td><td>9.8847e-7</td><td>12</td><td>31</td><td>85200</td><td>71</td></tr></tbody></table></div>"
      ],
      "text/plain": [
       "shape: (10_091_520, 6)\n",
       "┌──────────┬──────────────┬───────┬─────┬─────────┬──────┐\n",
       "│ location ┆ pbuf_ozone_2 ┆ month ┆ day ┆ seconds ┆ tick │\n",
       "│ ---      ┆ ---          ┆ ---   ┆ --- ┆ ---     ┆ ---  │\n",
       "│ u32      ┆ f64          ┆ i64   ┆ i64 ┆ i64     ┆ i64  │\n",
       "╞══════════╪══════════════╪═══════╪═════╪═════════╪══════╡\n",
       "│ 0        ┆ 7.9467e-7    ┆ 1     ┆ 1   ┆ 0       ┆ 0    │\n",
       "│ 1        ┆ 7.8003e-7    ┆ 1     ┆ 1   ┆ 0       ┆ 0    │\n",
       "│ 2        ┆ 8.5578e-7    ┆ 1     ┆ 1   ┆ 0       ┆ 0    │\n",
       "│ 3        ┆ 8.3707e-7    ┆ 1     ┆ 1   ┆ 0       ┆ 0    │\n",
       "│ 4        ┆ 7.7288e-7    ┆ 1     ┆ 1   ┆ 0       ┆ 0    │\n",
       "│ …        ┆ …            ┆ …     ┆ …   ┆ …       ┆ …    │\n",
       "│ 379      ┆ 9.6753e-7    ┆ 12    ┆ 31  ┆ 85200   ┆ 71   │\n",
       "│ 380      ┆ 9.7199e-7    ┆ 12    ┆ 31  ┆ 85200   ┆ 71   │\n",
       "│ 381      ┆ 9.8344e-7    ┆ 12    ┆ 31  ┆ 85200   ┆ 71   │\n",
       "│ 382      ┆ 9.7722e-7    ┆ 12    ┆ 31  ┆ 85200   ┆ 71   │\n",
       "│ 383      ┆ 9.8847e-7    ┆ 12    ┆ 31  ┆ 85200   ┆ 71   │\n",
       "└──────────┴──────────────┴───────┴─────┴─────────┴──────┘"
      ]
     },
     "execution_count": 10,
     "metadata": {},
     "output_type": "execute_result"
    }
   ],
   "source": [
    "map_df"
   ]
  },
  {
   "cell_type": "code",
   "execution_count": 11,
   "id": "ed9fe367-e152-4240-9fe7-96584a4b570e",
   "metadata": {},
   "outputs": [
    {
     "data": {
      "text/plain": [
       "10091520"
      ]
     },
     "execution_count": 11,
     "metadata": {},
     "output_type": "execute_result"
    }
   ],
   "source": [
    "len(map_df[\"pbuf_ozone_2\"].unique())"
   ]
  },
  {
   "cell_type": "code",
   "execution_count": 12,
   "id": "36e814c5-a461-4b8c-958f-e7441315c59d",
   "metadata": {},
   "outputs": [
    {
     "data": {
      "text/plain": [
       "3594961"
      ]
     },
     "execution_count": 12,
     "metadata": {},
     "output_type": "execute_result"
    }
   ],
   "source": [
    "len(map_df[\"pbuf_ozone_2\"].cast(pl.Float32).unique())"
   ]
  },
  {
   "cell_type": "markdown",
   "id": "61c61bbe-3681-467d-a06a-b98ed743dd1f",
   "metadata": {},
   "source": [
    "## 一致しているのかの検証"
   ]
  },
  {
   "cell_type": "code",
   "execution_count": 11,
   "id": "dd609b99-001a-4352-947e-f1ba96982ef2",
   "metadata": {},
   "outputs": [],
   "source": [
    "x1 = np.load(\"input/ClimSim_low-res/train/0001-02/0001-02-01-00000.npy\")\n",
    "x2 = np.load(\"input/ClimSim_low-res/train/0002-02/0002-02-01-00000.npy\")"
   ]
  },
  {
   "cell_type": "code",
   "execution_count": 13,
   "id": "f81887c0-5dc3-4012-8fc3-d29e033ca9bf",
   "metadata": {},
   "outputs": [
    {
     "data": {
      "text/plain": [
       "376"
      ]
     },
     "execution_count": 13,
     "metadata": {},
     "output_type": "execute_result"
    }
   ],
   "source": [
    "train_df = pl.read_csv(\"input/leap-atmospheric-physics-ai-climsim/train.csv\", n_rows=1)\n",
    "train_df.columns[1:].index(\"pbuf_ozone_0\")"
   ]
  },
  {
   "cell_type": "code",
   "execution_count": 12,
   "id": "7355d810-a566-400f-b8eb-e49c14751d46",
   "metadata": {},
   "outputs": [
    {
     "data": {
      "text/plain": [
       "array([[ True,  True,  True,  True,  True,  True,  True,  True,  True,\n",
       "         True,  True],\n",
       "       [ True,  True,  True,  True,  True,  True,  True,  True,  True,\n",
       "         True,  True],\n",
       "       [ True,  True,  True,  True,  True,  True,  True,  True,  True,\n",
       "         True,  True],\n",
       "       [ True,  True,  True,  True,  True,  True,  True,  True,  True,\n",
       "         True,  True],\n",
       "       [ True,  True,  True,  True,  True,  True,  True,  True,  True,\n",
       "         True,  True],\n",
       "       [ True,  True,  True,  True,  True,  True,  True,  True,  True,\n",
       "         True,  True],\n",
       "       [ True,  True,  True,  True,  True,  True,  True,  True,  True,\n",
       "         True,  True],\n",
       "       [ True,  True,  True,  True,  True,  True,  True,  True,  True,\n",
       "         True,  True],\n",
       "       [ True,  True,  True,  True,  True,  True,  True,  True,  True,\n",
       "         True,  True],\n",
       "       [ True,  True,  True,  True,  True,  True,  True,  True,  True,\n",
       "         True,  True]])"
      ]
     },
     "execution_count": 12,
     "metadata": {},
     "output_type": "execute_result"
    }
   ],
   "source": [
    "x1[:10, 377:388] == x2[:10, 377:388]"
   ]
  },
  {
   "cell_type": "code",
   "execution_count": 35,
   "id": "72e23e35-f275-426f-8886-198aba660d6d",
   "metadata": {},
   "outputs": [
    {
     "data": {
      "text/plain": [
       "array([[4.50361359e-07],\n",
       "       [4.42347221e-07],\n",
       "       [4.83336415e-07],\n",
       "       [4.73959806e-07],\n",
       "       [4.38636056e-07],\n",
       "       [4.37787253e-07],\n",
       "       [4.68321652e-07],\n",
       "       [4.65993386e-07],\n",
       "       [4.38666593e-07],\n",
       "       [4.40487285e-07]])"
      ]
     },
     "execution_count": 35,
     "metadata": {},
     "output_type": "execute_result"
    }
   ],
   "source": [
    "x2[:10, 377:378]"
   ]
  },
  {
   "cell_type": "code",
   "execution_count": null,
   "id": "e01e1537-86cc-43d1-b43c-c4dc63deb138",
   "metadata": {},
   "outputs": [],
   "source": []
  }
 ],
 "metadata": {
  "kernelspec": {
   "display_name": "Python 3 (ipykernel) (Local)",
   "language": "python",
   "name": "python3"
  },
  "language_info": {
   "codemirror_mode": {
    "name": "ipython",
    "version": 3
   },
   "file_extension": ".py",
   "mimetype": "text/x-python",
   "name": "python",
   "nbconvert_exporter": "python",
   "pygments_lexer": "ipython3",
   "version": "3.10.13"
  }
 },
 "nbformat": 4,
 "nbformat_minor": 5
}
