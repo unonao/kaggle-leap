{
 "cells": [
  {
   "cell_type": "code",
   "execution_count": 1,
   "id": "116a23a6-2c3d-4da1-9a03-e8977528b65c",
   "metadata": {},
   "outputs": [
    {
     "name": "stdout",
     "output_type": "stream",
     "text": [
      "/kaggle/working\n"
     ]
    }
   ],
   "source": [
    "%cd /kaggle/working"
   ]
  },
  {
   "cell_type": "code",
   "execution_count": 27,
   "id": "b36652a4-0d76-4d21-a426-f8aee8ba3c7a",
   "metadata": {},
   "outputs": [
    {
     "name": "stdout",
     "output_type": "stream",
     "text": [
      "seed: 7\n",
      "\n"
     ]
    }
   ],
   "source": [
    "import os\n",
    "\n",
    "from hydra import compose, initialize\n",
    "from omegaconf import OmegaConf\n",
    "\n",
    "with initialize(version_base=None, config_path=\"../experiments/sample\"):\n",
    "    cfg = compose(\n",
    "        config_name=\"config.yaml\", overrides=[\"debug=True\"], return_hydra_config=True\n",
    "    )\n",
    "    print(OmegaConf.to_yaml(cfg.exp))"
   ]
  },
  {
   "cell_type": "code",
   "execution_count": 19,
   "id": "d73010bb-d682-4390-868b-9dad0a32368e",
   "metadata": {},
   "outputs": [],
   "source": [
    "import numpy as np\n",
    "import polars as pl"
   ]
  },
  {
   "cell_type": "code",
   "execution_count": 5,
   "id": "26d798ef-7466-4c56-8f5b-543d80450cc6",
   "metadata": {},
   "outputs": [],
   "source": [
    "ss_df = pl.scan_csv(\n",
    "    \"input/leap-atmospheric-physics-ai-climsim/sample_submission.csv\"\n",
    ").slice(0, 1)\n",
    "ss_df = ss_df.select([x for x in ss_df.columns if x != \"sample_id\"]).collect()"
   ]
  },
  {
   "cell_type": "code",
   "execution_count": 17,
   "id": "ffb48020-dcd4-40a9-92f4-55aaf71998fd",
   "metadata": {},
   "outputs": [
    {
     "data": {
      "text/plain": [
       "array([0, 0, 0, 0, 0, 0, 0, 0, 0, 0, 0, 0, 0, 0, 0, 0, 0, 0, 0, 0, 0, 0,\n",
       "       0, 0, 0, 0, 0, 0, 0, 0, 0, 0, 0, 0, 0, 0, 0, 0, 0, 0, 0, 0, 0, 0,\n",
       "       0, 0, 0, 0, 0, 0, 0, 0, 0, 0, 0, 0, 0, 0, 0, 0, 1, 1, 1, 1, 1, 1,\n",
       "       1, 1, 1, 1, 1, 1, 0, 0, 0, 0, 0, 0, 0, 0, 0, 0, 0, 0, 0, 0, 0, 0,\n",
       "       0, 0, 0, 0, 0, 0, 0, 0, 0, 0, 0, 0, 0, 0, 0, 0, 0, 0, 0, 0, 0, 0,\n",
       "       0, 0, 0, 0, 0, 0, 0, 0, 0, 0, 1, 1, 1, 1, 1, 1, 1, 1, 1, 1, 1, 1,\n",
       "       1, 1, 1, 0, 0, 0, 0, 0, 0, 0, 0, 0, 0, 0, 0, 0, 0, 0, 0, 0, 0, 0,\n",
       "       0, 0, 0, 0, 0, 0, 0, 0, 0, 0, 0, 0, 0, 0, 0, 0, 0, 0, 0, 0, 0, 0,\n",
       "       0, 0, 0, 0, 1, 1, 1, 1, 1, 1, 1, 1, 1, 1, 1, 1, 0, 0, 0, 0, 0, 0,\n",
       "       0, 0, 0, 0, 0, 0, 0, 0, 0, 0, 0, 0, 0, 0, 0, 0, 0, 0, 0, 0, 0, 0,\n",
       "       0, 0, 0, 0, 0, 0, 0, 0, 0, 0, 0, 0, 0, 0, 0, 0, 0, 0, 0, 0, 1, 1,\n",
       "       1, 1, 1, 1, 1, 1, 1, 1, 1, 1, 0, 0, 0, 0, 0, 0, 0, 0, 0, 0, 0, 0,\n",
       "       0, 0, 0, 0, 0, 0, 0, 0, 0, 0, 0, 0, 0, 0, 0, 0, 0, 0, 0, 0, 0, 0,\n",
       "       0, 0, 0, 0, 0, 0, 0, 0, 0, 0, 0, 0, 0, 0, 1, 1, 1, 1, 1, 1, 1, 1,\n",
       "       1, 1, 1, 1, 0, 0, 0, 0, 0, 0, 0, 0, 0, 0, 0, 0, 0, 0, 0, 0, 0, 0,\n",
       "       0, 0, 0, 0, 0, 0, 0, 0, 0, 0, 0, 0, 0, 0, 0, 0, 0, 0, 0, 0, 0, 0,\n",
       "       0, 0, 0, 0, 0, 0, 0, 0, 0, 0, 0, 0, 0, 0, 0, 0])"
      ]
     },
     "execution_count": 17,
     "metadata": {},
     "output_type": "execute_result"
    }
   ],
   "source": [
    "zero_bool_list = (ss_df == 0).to_numpy()[0].astype(int)\n",
    "zero_bool_list"
   ]
  },
  {
   "cell_type": "code",
   "execution_count": 25,
   "id": "2cedb3a9-7484-4308-a491-b712d42c911d",
   "metadata": {},
   "outputs": [
    {
     "data": {
      "text/plain": [
       "array([ 60,  61,  62,  63,  64,  65,  66,  67,  68,  69,  70,  71, 120,\n",
       "       121, 122, 123, 124, 125, 126, 127, 128, 129, 130, 131, 132, 133,\n",
       "       134, 180, 181, 182, 183, 184, 185, 186, 187, 188, 189, 190, 191,\n",
       "       240, 241, 242, 243, 244, 245, 246, 247, 248, 249, 250, 251, 300,\n",
       "       301, 302, 303, 304, 305, 306, 307, 308, 309, 310, 311])"
      ]
     },
     "execution_count": 25,
     "metadata": {},
     "output_type": "execute_result"
    }
   ],
   "source": [
    "zero_bool_index_list = np.arange(368)[zero_bool_list == 1]\n",
    "zero_bool_index_list"
   ]
  },
  {
   "cell_type": "code",
   "execution_count": 33,
   "id": "9b22833c-9297-4acd-bdac-bb449b3bf0d2",
   "metadata": {},
   "outputs": [],
   "source": [
    "ss_df = pl.scan_csv(\n",
    "    \"input/leap-atmospheric-physics-ai-climsim/sample_submission.csv\"\n",
    ").slice(0, 1)\n",
    "weight_array = (\n",
    "    ss_df.select([x for x in ss_df.columns if x != \"sample_id\"]).collect().to_numpy()[0]\n",
    ")"
   ]
  },
  {
   "cell_type": "code",
   "execution_count": 38,
   "id": "7d9fdd7d-7f41-4869-9b86-88a1d06be426",
   "metadata": {},
   "outputs": [
    {
     "data": {
      "text/plain": [
       "dtype('float64')"
      ]
     },
     "execution_count": 38,
     "metadata": {},
     "output_type": "execute_result"
    }
   ],
   "source": [
    "weight_array.dtype"
   ]
  },
  {
   "cell_type": "code",
   "execution_count": 42,
   "id": "8db41db8-682a-4b03-b950-807710671215",
   "metadata": {},
   "outputs": [],
   "source": [
    "ss_df = (\n",
    "    pl.scan_csv(\"input/leap-atmospheric-physics-ai-climsim/sample_submission.csv\")\n",
    "    .slice(0, 2)\n",
    "    .collect()\n",
    "    .to_pandas()\n",
    ")"
   ]
  },
  {
   "cell_type": "code",
   "execution_count": 43,
   "id": "441d2644-a763-4c0c-ac67-46b536f0d4d6",
   "metadata": {},
   "outputs": [
    {
     "data": {
      "text/html": [
       "<div>\n",
       "<style scoped>\n",
       "    .dataframe tbody tr th:only-of-type {\n",
       "        vertical-align: middle;\n",
       "    }\n",
       "\n",
       "    .dataframe tbody tr th {\n",
       "        vertical-align: top;\n",
       "    }\n",
       "\n",
       "    .dataframe thead th {\n",
       "        text-align: right;\n",
       "    }\n",
       "</style>\n",
       "<table border=\"1\" class=\"dataframe\">\n",
       "  <thead>\n",
       "    <tr style=\"text-align: right;\">\n",
       "      <th></th>\n",
       "      <th>sample_id</th>\n",
       "      <th>ptend_t_0</th>\n",
       "      <th>ptend_t_1</th>\n",
       "      <th>ptend_t_2</th>\n",
       "      <th>ptend_t_3</th>\n",
       "      <th>ptend_t_4</th>\n",
       "      <th>ptend_t_5</th>\n",
       "      <th>ptend_t_6</th>\n",
       "      <th>ptend_t_7</th>\n",
       "      <th>ptend_t_8</th>\n",
       "      <th>...</th>\n",
       "      <th>ptend_v_58</th>\n",
       "      <th>ptend_v_59</th>\n",
       "      <th>cam_out_NETSW</th>\n",
       "      <th>cam_out_FLWDS</th>\n",
       "      <th>cam_out_PRECSC</th>\n",
       "      <th>cam_out_PRECC</th>\n",
       "      <th>cam_out_SOLS</th>\n",
       "      <th>cam_out_SOLL</th>\n",
       "      <th>cam_out_SOLSD</th>\n",
       "      <th>cam_out_SOLLD</th>\n",
       "    </tr>\n",
       "  </thead>\n",
       "  <tbody>\n",
       "    <tr>\n",
       "      <th>0</th>\n",
       "      <td>test_169651</td>\n",
       "      <td>30981.265272</td>\n",
       "      <td>22502.432414</td>\n",
       "      <td>18894.14713</td>\n",
       "      <td>14514.244731</td>\n",
       "      <td>10944.348069</td>\n",
       "      <td>9065.01072</td>\n",
       "      <td>9663.669039</td>\n",
       "      <td>12688.557363</td>\n",
       "      <td>19890.172265</td>\n",
       "      <td>...</td>\n",
       "      <td>41183.344137</td>\n",
       "      <td>29194.123693</td>\n",
       "      <td>0.004054</td>\n",
       "      <td>0.013882</td>\n",
       "      <td>1.351299e+08</td>\n",
       "      <td>1.221972e+07</td>\n",
       "      <td>0.009071</td>\n",
       "      <td>0.00859</td>\n",
       "      <td>0.021537</td>\n",
       "      <td>0.033632</td>\n",
       "    </tr>\n",
       "    <tr>\n",
       "      <th>1</th>\n",
       "      <td>test_524862</td>\n",
       "      <td>30981.265272</td>\n",
       "      <td>22502.432414</td>\n",
       "      <td>18894.14713</td>\n",
       "      <td>14514.244731</td>\n",
       "      <td>10944.348069</td>\n",
       "      <td>9065.01072</td>\n",
       "      <td>9663.669039</td>\n",
       "      <td>12688.557363</td>\n",
       "      <td>19890.172265</td>\n",
       "      <td>...</td>\n",
       "      <td>41183.344137</td>\n",
       "      <td>29194.123693</td>\n",
       "      <td>0.004054</td>\n",
       "      <td>0.013882</td>\n",
       "      <td>1.351299e+08</td>\n",
       "      <td>1.221972e+07</td>\n",
       "      <td>0.009071</td>\n",
       "      <td>0.00859</td>\n",
       "      <td>0.021537</td>\n",
       "      <td>0.033632</td>\n",
       "    </tr>\n",
       "  </tbody>\n",
       "</table>\n",
       "<p>2 rows × 369 columns</p>\n",
       "</div>"
      ],
      "text/plain": [
       "     sample_id     ptend_t_0     ptend_t_1    ptend_t_2     ptend_t_3  \\\n",
       "0  test_169651  30981.265272  22502.432414  18894.14713  14514.244731   \n",
       "1  test_524862  30981.265272  22502.432414  18894.14713  14514.244731   \n",
       "\n",
       "      ptend_t_4   ptend_t_5    ptend_t_6     ptend_t_7     ptend_t_8  ...  \\\n",
       "0  10944.348069  9065.01072  9663.669039  12688.557363  19890.172265  ...   \n",
       "1  10944.348069  9065.01072  9663.669039  12688.557363  19890.172265  ...   \n",
       "\n",
       "     ptend_v_58    ptend_v_59  cam_out_NETSW  cam_out_FLWDS  cam_out_PRECSC  \\\n",
       "0  41183.344137  29194.123693       0.004054       0.013882    1.351299e+08   \n",
       "1  41183.344137  29194.123693       0.004054       0.013882    1.351299e+08   \n",
       "\n",
       "   cam_out_PRECC  cam_out_SOLS  cam_out_SOLL  cam_out_SOLSD  cam_out_SOLLD  \n",
       "0   1.221972e+07      0.009071       0.00859       0.021537       0.033632  \n",
       "1   1.221972e+07      0.009071       0.00859       0.021537       0.033632  \n",
       "\n",
       "[2 rows x 369 columns]"
      ]
     },
     "execution_count": 43,
     "metadata": {},
     "output_type": "execute_result"
    }
   ],
   "source": [
    "ss_df"
   ]
  },
  {
   "cell_type": "code",
   "execution_count": null,
   "id": "c81937c5-fb72-4079-8571-919cc1ceac61",
   "metadata": {},
   "outputs": [],
   "source": []
  }
 ],
 "metadata": {
  "kernelspec": {
   "display_name": "Python 3 (ipykernel) (Local)",
   "language": "python",
   "name": "python3"
  },
  "language_info": {
   "codemirror_mode": {
    "name": "ipython",
    "version": 3
   },
   "file_extension": ".py",
   "mimetype": "text/x-python",
   "name": "python",
   "nbconvert_exporter": "python",
   "pygments_lexer": "ipython3",
   "version": "3.10.13"
  }
 },
 "nbformat": 4,
 "nbformat_minor": 5
}
