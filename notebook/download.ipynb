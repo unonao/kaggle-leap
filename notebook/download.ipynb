{
 "cells": [
  {
   "cell_type": "code",
   "execution_count": 46,
   "id": "8a188689-73a0-4de0-a642-18b845a0f8b7",
   "metadata": {},
   "outputs": [
    {
     "name": "stdout",
     "output_type": "stream",
     "text": [
      "/kaggle/working\n",
      "seed: 7\n",
      "\n"
     ]
    }
   ],
   "source": [
    "%cd /kaggle/working\n",
    "import os\n",
    "\n",
    "from hydra import compose, initialize\n",
    "from omegaconf import OmegaConf\n",
    "\n",
    "with initialize(version_base=None, config_path=\"../preprocess/make_webdataset\"):\n",
    "    cfg = compose(\n",
    "        config_name=\"config.yaml\", overrides=[\"debug=True\"], return_hydra_config=True\n",
    "    )\n",
    "    print(OmegaConf.to_yaml(cfg.exp))"
   ]
  },
  {
   "cell_type": "code",
   "execution_count": 43,
   "id": "1a81a624-0397-49bf-bc73-68bf7c6b8b6d",
   "metadata": {
    "scrolled": true
   },
   "outputs": [
    {
     "name": "stdout",
     "output_type": "stream",
     "text": [
      "exp_name: notebook/base\n",
      "ouput_path: /kaggle/working/output/notebook/base\n"
     ]
    }
   ],
   "source": [
    "import copy\n",
    "import glob\n",
    "import json\n",
    "import logging\n",
    "import os\n",
    "import pickle\n",
    "import re\n",
    "import shutil\n",
    "import string\n",
    "from glob import glob\n",
    "from pathlib import Path\n",
    "from typing import Literal\n",
    "\n",
    "import datasets\n",
    "import h5py\n",
    "import matplotlib.pyplot as plt\n",
    "import netCDF4\n",
    "import numpy as np\n",
    "import pandas as pd\n",
    "import tensorflow as tf\n",
    "import webdataset as wds\n",
    "import xarray as xr\n",
    "from huggingface_hub import snapshot_download\n",
    "from tqdm import tqdm\n",
    "from tqdm.auto import tqdm\n",
    "\n",
    "runtime_choices = cfg.hydra.runtime.choices\n",
    "exp_name = f\"notebook/{runtime_choices.exp}\"\n",
    "print(f\"exp_name: {exp_name}\")\n",
    "output_path = Path(cfg.dir.output_dir) / exp_name\n",
    "print(f\"ouput_path: {output_path}\")\n",
    "os.makedirs(output_path, exist_ok=True)"
   ]
  },
  {
   "cell_type": "code",
   "execution_count": 6,
   "id": "ba2df0cb-4c90-452b-9c13-f5bd680b8ff3",
   "metadata": {},
   "outputs": [],
   "source": [
    "MLBackendType = Literal[\"tensorflow\", \"pytorch\"]\n",
    "\n",
    "\n",
    "class DataUtils:\n",
    "    def __init__(\n",
    "        self,\n",
    "        grid_info,\n",
    "        input_mean,\n",
    "        input_max,\n",
    "        input_min,\n",
    "        output_scale,\n",
    "        ml_backend: MLBackendType = \"pytorch\",\n",
    "    ):\n",
    "        self.data_path = None\n",
    "        self.input_vars = []\n",
    "        self.target_vars = []\n",
    "        self.input_feature_len = None\n",
    "        self.target_feature_len = None\n",
    "        self.grid_info = grid_info\n",
    "        self.level_name = \"lev\"\n",
    "        self.sample_name = \"sample\"\n",
    "        self.num_levels = len(self.grid_info[\"lev\"])\n",
    "        self.num_latlon = len(\n",
    "            self.grid_info[\"ncol\"]\n",
    "        )  # number of unique lat/lon grid points\n",
    "        # make area-weights\n",
    "        self.grid_info[\"area_wgt\"] = self.grid_info[\"area\"] / self.grid_info[\n",
    "            \"area\"\n",
    "        ].mean(dim=\"ncol\")\n",
    "        self.area_wgt = self.grid_info[\"area_wgt\"].values\n",
    "        # map ncol to nsamples dimension\n",
    "        # to_xarray = {'area_wgt':(self.sample_name,np.tile(self.grid_info['area_wgt'], int(n_samples/len(self.grid_info['ncol']))))}\n",
    "        # to_xarray = xr.Dataset(to_xarray)\n",
    "        self.input_mean = input_mean\n",
    "        self.input_max = input_max\n",
    "        self.input_min = input_min\n",
    "        self.output_scale = output_scale\n",
    "        self.normalize = True\n",
    "        self.lats, self.lats_indices = np.unique(\n",
    "            self.grid_info[\"lat\"].values, return_index=True\n",
    "        )\n",
    "        self.lons, self.lons_indices = np.unique(\n",
    "            self.grid_info[\"lon\"].values, return_index=True\n",
    "        )\n",
    "        self.sort_lat_key = np.argsort(\n",
    "            self.grid_info[\"lat\"].values[np.sort(self.lats_indices)]\n",
    "        )\n",
    "        self.sort_lon_key = np.argsort(\n",
    "            self.grid_info[\"lon\"].values[np.sort(self.lons_indices)]\n",
    "        )\n",
    "        self.indextolatlon = {\n",
    "            i: (\n",
    "                self.grid_info[\"lat\"].values[i % self.num_latlon],\n",
    "                self.grid_info[\"lon\"].values[i % self.num_latlon],\n",
    "            )\n",
    "            for i in range(self.num_latlon)\n",
    "        }\n",
    "\n",
    "        self.ml_backend = ml_backend\n",
    "        self.tf = None\n",
    "        self.torch = None\n",
    "\n",
    "        if self.ml_backend == \"tensorflow\":\n",
    "            self.successful_backend_import = False\n",
    "\n",
    "            try:\n",
    "                import tensorflow as tf\n",
    "\n",
    "                self.tf = tf\n",
    "                self.successful_backend_import = True\n",
    "            except ImportError:\n",
    "                raise ImportError(\"Tensorflow is not installed.\")\n",
    "\n",
    "        elif self.ml_backend == \"pytorch\":\n",
    "            self.successful_backend_import = False\n",
    "\n",
    "            try:\n",
    "                import torch\n",
    "\n",
    "                self.torch = torch\n",
    "                self.successful_backend_import = True\n",
    "            except ImportError:\n",
    "                raise ImportError(\"PyTorch is not installed.\")\n",
    "\n",
    "        def find_keys(dictionary, value):\n",
    "            keys = []\n",
    "            for key, val in dictionary.items():\n",
    "                if val[0] == value:\n",
    "                    keys.append(key)\n",
    "            return keys\n",
    "\n",
    "        indices_list = []\n",
    "        for lat in self.lats:\n",
    "            indices = find_keys(self.indextolatlon, lat)\n",
    "            indices_list.append(indices)\n",
    "        indices_list.sort(key=lambda x: x[0])\n",
    "        self.lat_indices_list = indices_list\n",
    "\n",
    "        self.hyam = self.grid_info[\"hyam\"].values\n",
    "        self.hybm = self.grid_info[\"hybm\"].values\n",
    "        self.p0 = 1e5  # code assumes this will always be a scalar\n",
    "        self.ps_index = None\n",
    "\n",
    "        self.pressure_grid_train = None\n",
    "        self.pressure_grid_val = None\n",
    "        self.pressure_grid_scoring = None\n",
    "        self.pressure_grid_test = None\n",
    "\n",
    "        self.dp_train = None\n",
    "        self.dp_val = None\n",
    "        self.dp_scoring = None\n",
    "        self.dp_test = None\n",
    "\n",
    "        self.train_regexps = None\n",
    "        self.train_stride_sample = None\n",
    "        self.train_filelist = None\n",
    "        self.val_regexps = None\n",
    "        self.val_stride_sample = None\n",
    "        self.val_filelist = None\n",
    "        self.scoring_regexps = None\n",
    "        self.scoring_stride_sample = None\n",
    "        self.scoring_filelist = None\n",
    "        self.test_regexps = None\n",
    "        self.test_stride_sample = None\n",
    "        self.test_filelist = None\n",
    "\n",
    "        self.full_vars = False\n",
    "\n",
    "        # physical constants from E3SM_ROOT/share/util/shr_const_mod.F90\n",
    "        self.grav = 9.80616  # acceleration of gravity ~ m/s^2\n",
    "        self.cp = 1.00464e3  # specific heat of dry air   ~ J/kg/K\n",
    "        self.lv = 2.501e6  # latent heat of evaporation ~ J/kg\n",
    "        self.lf = 3.337e5  # latent heat of fusion      ~ J/kg\n",
    "        self.lsub = self.lv + self.lf  # latent heat of sublimation ~ J/kg\n",
    "        self.rho_air = (\n",
    "            101325 / (6.02214e26 * 1.38065e-23 / 28.966) / 273.15\n",
    "        )  # density of dry air at STP  ~ kg/m^3\n",
    "        # ~ 1.2923182846924677\n",
    "        # SHR_CONST_PSTD/(SHR_CONST_RDAIR*SHR_CONST_TKFRZ)\n",
    "        # SHR_CONST_RDAIR   = SHR_CONST_RGAS/SHR_CONST_MWDAIR\n",
    "        # SHR_CONST_RGAS    = SHR_CONST_AVOGAD*SHR_CONST_BOLTZ\n",
    "        self.rho_h20 = 1.0e3  # density of fresh water     ~ kg/m^ 3\n",
    "\n",
    "        self.v1_inputs = [\n",
    "            \"state_t\",\n",
    "            \"state_q0001\",\n",
    "            \"state_ps\",\n",
    "            \"pbuf_SOLIN\",\n",
    "            \"pbuf_LHFLX\",\n",
    "            \"pbuf_SHFLX\",\n",
    "        ]\n",
    "\n",
    "        self.v1_outputs = [\n",
    "            \"ptend_t\",\n",
    "            \"ptend_q0001\",\n",
    "            \"cam_out_NETSW\",\n",
    "            \"cam_out_FLWDS\",\n",
    "            \"cam_out_PRECSC\",\n",
    "            \"cam_out_PRECC\",\n",
    "            \"cam_out_SOLS\",\n",
    "            \"cam_out_SOLL\",\n",
    "            \"cam_out_SOLSD\",\n",
    "            \"cam_out_SOLLD\",\n",
    "        ]\n",
    "\n",
    "        self.v2_inputs = [\n",
    "            \"state_t\",\n",
    "            \"state_q0001\",\n",
    "            \"state_q0002\",\n",
    "            \"state_q0003\",\n",
    "            \"state_u\",\n",
    "            \"state_v\",\n",
    "            \"state_ps\",\n",
    "            \"pbuf_SOLIN\",\n",
    "            \"pbuf_LHFLX\",\n",
    "            \"pbuf_SHFLX\",\n",
    "            \"pbuf_TAUX\",\n",
    "            \"pbuf_TAUY\",\n",
    "            \"pbuf_COSZRS\",\n",
    "            \"cam_in_ALDIF\",\n",
    "            \"cam_in_ALDIR\",\n",
    "            \"cam_in_ASDIF\",\n",
    "            \"cam_in_ASDIR\",\n",
    "            \"cam_in_LWUP\",\n",
    "            \"cam_in_ICEFRAC\",\n",
    "            \"cam_in_LANDFRAC\",\n",
    "            \"cam_in_OCNFRAC\",\n",
    "            \"cam_in_SNOWHICE\",\n",
    "            \"cam_in_SNOWHLAND\",\n",
    "            \"pbuf_ozone\",  # outside of the upper troposphere lower stratosphere (UTLS, corresponding to indices 5-21), variance in minimal for these last 3\n",
    "            \"pbuf_CH4\",\n",
    "            \"pbuf_N2O\",\n",
    "        ]\n",
    "\n",
    "        self.v2_outputs = [\n",
    "            \"ptend_t\",\n",
    "            \"ptend_q0001\",\n",
    "            \"ptend_q0002\",\n",
    "            \"ptend_q0003\",\n",
    "            \"ptend_u\",\n",
    "            \"ptend_v\",\n",
    "            \"cam_out_NETSW\",\n",
    "            \"cam_out_FLWDS\",\n",
    "            \"cam_out_PRECSC\",\n",
    "            \"cam_out_PRECC\",\n",
    "            \"cam_out_SOLS\",\n",
    "            \"cam_out_SOLL\",\n",
    "            \"cam_out_SOLSD\",\n",
    "            \"cam_out_SOLLD\",\n",
    "        ]\n",
    "\n",
    "        self.var_lens = {  # inputs\n",
    "            \"state_t\": self.num_levels,\n",
    "            \"state_q0001\": self.num_levels,\n",
    "            \"state_q0002\": self.num_levels,\n",
    "            \"state_q0003\": self.num_levels,\n",
    "            \"state_u\": self.num_levels,\n",
    "            \"state_v\": self.num_levels,\n",
    "            \"state_ps\": 1,\n",
    "            \"pbuf_SOLIN\": 1,\n",
    "            \"pbuf_LHFLX\": 1,\n",
    "            \"pbuf_SHFLX\": 1,\n",
    "            \"pbuf_TAUX\": 1,\n",
    "            \"pbuf_TAUY\": 1,\n",
    "            \"pbuf_COSZRS\": 1,\n",
    "            \"cam_in_ALDIF\": 1,\n",
    "            \"cam_in_ALDIR\": 1,\n",
    "            \"cam_in_ASDIF\": 1,\n",
    "            \"cam_in_ASDIR\": 1,\n",
    "            \"cam_in_LWUP\": 1,\n",
    "            \"cam_in_ICEFRAC\": 1,\n",
    "            \"cam_in_LANDFRAC\": 1,\n",
    "            \"cam_in_OCNFRAC\": 1,\n",
    "            \"cam_in_SNOWHICE\": 1,\n",
    "            \"cam_in_SNOWHLAND\": 1,\n",
    "            \"pbuf_ozone\": self.num_levels,\n",
    "            \"pbuf_CH4\": self.num_levels,\n",
    "            \"pbuf_N2O\": self.num_levels,\n",
    "            # outputs\n",
    "            \"ptend_t\": self.num_levels,\n",
    "            \"ptend_q0001\": self.num_levels,\n",
    "            \"ptend_q0002\": self.num_levels,\n",
    "            \"ptend_q0003\": self.num_levels,\n",
    "            \"ptend_u\": self.num_levels,\n",
    "            \"ptend_v\": self.num_levels,\n",
    "            \"cam_out_NETSW\": 1,\n",
    "            \"cam_out_FLWDS\": 1,\n",
    "            \"cam_out_PRECSC\": 1,\n",
    "            \"cam_out_PRECC\": 1,\n",
    "            \"cam_out_SOLS\": 1,\n",
    "            \"cam_out_SOLL\": 1,\n",
    "            \"cam_out_SOLSD\": 1,\n",
    "            \"cam_out_SOLLD\": 1,\n",
    "        }\n",
    "\n",
    "        self.var_short_names = {\n",
    "            \"ptend_t\": \"$dT/dt$\",\n",
    "            \"ptend_q0001\": \"$dq/dt$\",\n",
    "            \"cam_out_NETSW\": \"NETSW\",\n",
    "            \"cam_out_FLWDS\": \"FLWDS\",\n",
    "            \"cam_out_PRECSC\": \"PRECSC\",\n",
    "            \"cam_out_PRECC\": \"PRECC\",\n",
    "            \"cam_out_SOLS\": \"SOLS\",\n",
    "            \"cam_out_SOLL\": \"SOLL\",\n",
    "            \"cam_out_SOLSD\": \"SOLSD\",\n",
    "            \"cam_out_SOLLD\": \"SOLLD\",\n",
    "        }\n",
    "\n",
    "        self.target_energy_conv = {\n",
    "            \"ptend_t\": self.cp,\n",
    "            \"ptend_q0001\": self.lv,\n",
    "            \"ptend_q0002\": self.lv,\n",
    "            \"ptend_q0003\": self.lv,\n",
    "            \"ptend_wind\": None,\n",
    "            \"cam_out_NETSW\": 1.0,\n",
    "            \"cam_out_FLWDS\": 1.0,\n",
    "            \"cam_out_PRECSC\": self.lv * self.rho_h20,\n",
    "            \"cam_out_PRECC\": self.lv * self.rho_h20,\n",
    "            \"cam_out_SOLS\": 1.0,\n",
    "            \"cam_out_SOLL\": 1.0,\n",
    "            \"cam_out_SOLSD\": 1.0,\n",
    "            \"cam_out_SOLLD\": 1.0,\n",
    "        }\n",
    "\n",
    "        # for metrics\n",
    "\n",
    "        self.input_train = None\n",
    "        self.target_train = None\n",
    "        self.preds_train = None\n",
    "        self.samplepreds_train = None\n",
    "        self.target_weighted_train = {}\n",
    "        self.preds_weighted_train = {}\n",
    "        self.samplepreds_weighted_train = {}\n",
    "        self.metrics_train = []\n",
    "        self.metrics_idx_train = {}\n",
    "        self.metrics_var_train = {}\n",
    "\n",
    "        self.input_val = None\n",
    "        self.target_val = None\n",
    "        self.preds_val = None\n",
    "        self.samplepreds_val = None\n",
    "        self.target_weighted_val = {}\n",
    "        self.preds_weighted_val = {}\n",
    "        self.samplepreds_weighted_val = {}\n",
    "        self.metrics_val = []\n",
    "        self.metrics_idx_val = {}\n",
    "        self.metrics_var_val = {}\n",
    "\n",
    "        self.input_scoring = None\n",
    "        self.target_scoring = None\n",
    "        self.preds_scoring = None\n",
    "        self.samplepreds_scoring = None\n",
    "        self.target_weighted_scoring = {}\n",
    "        self.preds_weighted_scoring = {}\n",
    "        self.samplepreds_weighted_scoring = {}\n",
    "        self.metrics_scoring = []\n",
    "        self.metrics_idx_scoring = {}\n",
    "        self.metrics_var_scoring = {}\n",
    "\n",
    "        self.input_test = None\n",
    "        self.target_test = None\n",
    "        self.preds_test = None\n",
    "        self.samplepreds_test = None\n",
    "        self.target_weighted_test = {}\n",
    "        self.preds_weighted_test = {}\n",
    "        self.samplepreds_weighted_test = {}\n",
    "        self.metrics_test = []\n",
    "        self.metrics_idx_test = {}\n",
    "        self.metrics_var_test = {}\n",
    "\n",
    "        self.model_names = []\n",
    "        self.metrics_names = []\n",
    "        self.num_CRPS = 32\n",
    "        self.linecolors = [\"#0072B2\", \"#E69F00\", \"#882255\", \"#009E73\", \"#D55E00\"]\n",
    "\n",
    "    def set_to_v2_vars(self):\n",
    "        \"\"\"\n",
    "        This function sets the inputs and outputs to the V2 subset.\n",
    "        It also indicates the index of the surface pressure variable.\n",
    "        \"\"\"\n",
    "        self.input_vars = self.v2_inputs\n",
    "        self.target_vars = self.v2_outputs\n",
    "        self.ps_index = 360\n",
    "        self.input_feature_len = 557\n",
    "        self.target_feature_len = 368\n",
    "        self.full_vars = True\n",
    "\n",
    "    def get_xrdata(self, file, file_vars=None):\n",
    "        \"\"\"\n",
    "        This function reads in a file and returns an xarray dataset with the variables specified.\n",
    "        file_vars must be a list of strings.\n",
    "        \"\"\"\n",
    "        ds = xr.open_dataset(file, engine=\"netcdf4\")\n",
    "        if file_vars is not None:\n",
    "            ds = ds[file_vars]\n",
    "        ds = ds.merge(self.grid_info[[\"lat\", \"lon\"]])\n",
    "        ds = ds.where((ds[\"lat\"] > -999) * (ds[\"lat\"] < 999), drop=True)\n",
    "        ds = ds.where((ds[\"lon\"] > -999) * (ds[\"lon\"] < 999), drop=True)\n",
    "        return ds\n",
    "\n",
    "    def get_input(self, input_file):\n",
    "        \"\"\"\n",
    "        This function reads in a file and returns an xarray dataset with the input variables for the emulator.\n",
    "        \"\"\"\n",
    "        # read inputs\n",
    "        return self.get_xrdata(input_file, self.input_vars)\n",
    "\n",
    "    def get_target(self, input_file):\n",
    "        \"\"\"\n",
    "        This function reads in a file and returns an xarray dataset with the target variables for the emulator.\n",
    "        \"\"\"\n",
    "        # read inputs\n",
    "        ds_input = self.get_input(input_file)\n",
    "        ds_target = self.get_xrdata(input_file.replace(\".mli.\", \".mlo.\"))\n",
    "        # each timestep is 20 minutes which corresponds to 1200 seconds\n",
    "        ds_target[\"ptend_t\"] = (\n",
    "            ds_target[\"state_t\"] - ds_input[\"state_t\"]\n",
    "        ) / 1200  # T tendency [K/s]\n",
    "        ds_target[\"ptend_q0001\"] = (\n",
    "            ds_target[\"state_q0001\"] - ds_input[\"state_q0001\"]\n",
    "        ) / 1200  # Q tendency [kg/kg/s]\n",
    "        if self.full_vars:\n",
    "            ds_target[\"ptend_q0002\"] = (\n",
    "                ds_target[\"state_q0002\"] - ds_input[\"state_q0002\"]\n",
    "            ) / 1200  # Q tendency [kg/kg/s]\n",
    "            ds_target[\"ptend_q0003\"] = (\n",
    "                ds_target[\"state_q0003\"] - ds_input[\"state_q0003\"]\n",
    "            ) / 1200  # Q tendency [kg/kg/s]\n",
    "            ds_target[\"ptend_u\"] = (\n",
    "                ds_target[\"state_u\"] - ds_input[\"state_u\"]\n",
    "            ) / 1200  # U tendency [m/s/s]\n",
    "            ds_target[\"ptend_v\"] = (\n",
    "                ds_target[\"state_v\"] - ds_input[\"state_v\"]\n",
    "            ) / 1200  # V tendency [m/s/s]\n",
    "        ds_target = ds_target[self.target_vars]\n",
    "        return ds_target\n",
    "\n",
    "    def set_regexps(self, data_split, regexps):\n",
    "        \"\"\"\n",
    "        This function sets the regular expressions used for getting the filelist for train, val, scoring, and test.\n",
    "        \"\"\"\n",
    "        assert data_split in [\n",
    "            \"train\",\n",
    "            \"val\",\n",
    "            \"scoring\",\n",
    "            \"test\",\n",
    "        ], \"Provided data_split is not valid. Available options are train, val, scoring, and test.\"\n",
    "        if data_split == \"train\":\n",
    "            self.train_regexps = regexps\n",
    "        elif data_split == \"val\":\n",
    "            self.val_regexps = regexps\n",
    "        elif data_split == \"scoring\":\n",
    "            self.scoring_regexps = regexps\n",
    "        elif data_split == \"test\":\n",
    "            self.test_regexps = regexps\n",
    "\n",
    "    def set_stride_sample(self, data_split, stride_sample):\n",
    "        \"\"\"\n",
    "        This function sets the stride_sample for train, val, scoring, and test.\n",
    "        \"\"\"\n",
    "        assert data_split in [\n",
    "            \"train\",\n",
    "            \"val\",\n",
    "            \"scoring\",\n",
    "            \"test\",\n",
    "        ], \"Provided data_split is not valid. Available options are train, val, scoring, and test.\"\n",
    "        if data_split == \"train\":\n",
    "            self.train_stride_sample = stride_sample\n",
    "        elif data_split == \"val\":\n",
    "            self.val_stride_sample = stride_sample\n",
    "        elif data_split == \"scoring\":\n",
    "            self.scoring_stride_sample = stride_sample\n",
    "        elif data_split == \"test\":\n",
    "            self.test_stride_sample = stride_sample\n",
    "\n",
    "    def set_filelist(self, data_split):\n",
    "        \"\"\"\n",
    "        This function sets the filelists corresponding to data splits for train, val, scoring, and test.\n",
    "        \"\"\"\n",
    "        filelist = []\n",
    "        assert data_split in [\n",
    "            \"train\",\n",
    "            \"val\",\n",
    "            \"scoring\",\n",
    "            \"test\",\n",
    "        ], \"Provided data_split is not valid. Available options are train, val, scoring, and test.\"\n",
    "        if data_split == \"train\":\n",
    "            assert self.train_regexps is not None, \"regexps for train is not set.\"\n",
    "            assert (\n",
    "                self.train_stride_sample is not None\n",
    "            ), \"stride_sample for train is not set.\"\n",
    "            for regexp in self.train_regexps:\n",
    "                filelist = filelist + glob.glob(self.data_path + \"*/\" + regexp)\n",
    "            self.train_filelist = sorted(filelist)[:: self.train_stride_sample]\n",
    "        elif data_split == \"val\":\n",
    "            assert self.val_regexps is not None, \"regexps for val is not set.\"\n",
    "            assert (\n",
    "                self.val_stride_sample is not None\n",
    "            ), \"stride_sample for val is not set.\"\n",
    "            for regexp in self.val_regexps:\n",
    "                filelist = filelist + glob.glob(self.data_path + \"*/\" + regexp)\n",
    "            self.val_filelist = sorted(filelist)[:: self.val_stride_sample]\n",
    "        elif data_split == \"scoring\":\n",
    "            assert self.scoring_regexps is not None, \"regexps for scoring is not set.\"\n",
    "            assert (\n",
    "                self.scoring_stride_sample is not None\n",
    "            ), \"stride_sample for scoring is not set.\"\n",
    "            for regexp in self.scoring_regexps:\n",
    "                filelist = filelist + glob.glob(self.data_path + \"*/\" + regexp)\n",
    "            self.scoring_filelist = sorted(filelist)[:: self.scoring_stride_sample]\n",
    "        elif data_split == \"test\":\n",
    "            assert self.test_regexps is not None, \"regexps for test is not set.\"\n",
    "            assert (\n",
    "                self.test_stride_sample is not None\n",
    "            ), \"stride_sample for test is not set.\"\n",
    "            for regexp in self.test_regexps:\n",
    "                filelist = filelist + glob.glob(self.data_path + \"*/\" + regexp)\n",
    "            self.test_filelist = sorted(filelist)[:: self.test_stride_sample]\n",
    "\n",
    "    def get_filelist(self, data_split):\n",
    "        \"\"\"\n",
    "        This function returns the filelist corresponding to data splits for train, val, scoring, and test.\n",
    "        \"\"\"\n",
    "        assert data_split in [\n",
    "            \"train\",\n",
    "            \"val\",\n",
    "            \"scoring\",\n",
    "            \"test\",\n",
    "        ], \"Provided data_split is not valid. Available options are train, val, scoring, and test.\"\n",
    "        if data_split == \"train\":\n",
    "            assert self.train_filelist is not None, \"filelist for train is not set.\"\n",
    "            return self.train_filelist\n",
    "        elif data_split == \"val\":\n",
    "            assert self.val_filelist is not None, \"filelist for val is not set.\"\n",
    "            return self.val_filelist\n",
    "        elif data_split == \"scoring\":\n",
    "            assert self.scoring_filelist is not None, \"filelist for scoring is not set.\"\n",
    "            return self.scoring_filelist\n",
    "        elif data_split == \"test\":\n",
    "            assert self.test_filelist is not None, \"filelist for test is not set.\"\n",
    "            return self.test_filelist\n",
    "\n",
    "    def gen(self, file):\n",
    "        # read inputs\n",
    "        ds_input = self.get_input(file)\n",
    "        # read targets\n",
    "        ds_target = self.get_target(file)\n",
    "\n",
    "        # normalization, scaling\n",
    "        if self.normalize:\n",
    "            ds_input = (ds_input - self.input_mean) / (self.input_max - self.input_min)\n",
    "            ds_target = ds_target * self.output_scale\n",
    "        else:\n",
    "            ds_input = ds_input.drop_vars([\"lat\", \"lon\"])\n",
    "\n",
    "        # stack\n",
    "        # ds = ds.stack({'batch':{'sample','ncol'}})\n",
    "        ds_input = ds_input.stack({\"batch\": {\"ncol\"}})\n",
    "        ds_input = ds_input.to_stacked_array(\"mlvar\", sample_dims=[\"batch\"], name=\"mli\")\n",
    "        # dso = dso.stack({'batch':{'sample','ncol'}})\n",
    "        ds_target = ds_target.stack({\"batch\": {\"ncol\"}})\n",
    "        ds_target = ds_target.to_stacked_array(\n",
    "            \"mlvar\", sample_dims=[\"batch\"], name=\"mlo\"\n",
    "        )\n",
    "        return (ds_input.values, ds_target.values)"
   ]
  },
  {
   "cell_type": "code",
   "execution_count": null,
   "id": "35ceeef0-b4c1-414b-b438-63b036746409",
   "metadata": {},
   "outputs": [],
   "source": []
  },
  {
   "cell_type": "code",
   "execution_count": 7,
   "id": "5fc9514a-1427-4884-8afd-db5c92b7320f",
   "metadata": {},
   "outputs": [],
   "source": [
    "grid_path = \"/kaggle/working/misc/grid_info/ClimSim_low-res_grid-info.nc\"\n",
    "norm_path = \"/kaggle/working/misc/preprocessing/normalizations/\"\n",
    "grid_info = xr.open_dataset(grid_path)\n",
    "input_mean = xr.open_dataset(norm_path + \"inputs/input_mean.nc\")\n",
    "input_max = xr.open_dataset(norm_path + \"inputs/input_max.nc\")\n",
    "input_min = xr.open_dataset(norm_path + \"inputs/input_min.nc\")\n",
    "output_scale = xr.open_dataset(norm_path + \"outputs/output_scale.nc\")\n",
    "\n",
    "data = DataUtils(\n",
    "    grid_info=grid_info,\n",
    "    input_mean=input_mean,\n",
    "    input_max=input_max,\n",
    "    input_min=input_min,\n",
    "    output_scale=output_scale,\n",
    ")\n",
    "data.set_to_v2_vars()\n",
    "data.normalize = False"
   ]
  },
  {
   "cell_type": "code",
   "execution_count": 8,
   "id": "42dafa98-b7cf-4ee3-a6da-d8f04e578538",
   "metadata": {},
   "outputs": [],
   "source": [
    "# ディレクトリ指定\n",
    "TMP_DIR = Path(\"/kaggle/working/tmp\")\n",
    "\n",
    "month_dirs = [\"train/0001-02\", \"train/0001-03\"]  # 本当はもっとある\n",
    "\n",
    "month_dir = Path(month_dirs[0])  # 本当は for で取り出す"
   ]
  },
  {
   "cell_type": "code",
   "execution_count": 57,
   "id": "254f037b-32aa-4f16-accc-ab22edf286ae",
   "metadata": {},
   "outputs": [
    {
     "data": {
      "text/plain": [
       "['train/0001-02',\n",
       " 'train/0001-03',\n",
       " 'train/0001-04',\n",
       " 'train/0001-05',\n",
       " 'train/0001-06',\n",
       " 'train/0001-07',\n",
       " 'train/0001-08',\n",
       " 'train/0001-09',\n",
       " 'train/0001-10',\n",
       " 'train/0001-11',\n",
       " 'train/0001-12',\n",
       " 'train/0002-01',\n",
       " 'train/0002-02',\n",
       " 'train/0002-03',\n",
       " 'train/0002-04',\n",
       " 'train/0002-05',\n",
       " 'train/0002-06',\n",
       " 'train/0002-07',\n",
       " 'train/0002-08',\n",
       " 'train/0002-09',\n",
       " 'train/0002-10',\n",
       " 'train/0002-11',\n",
       " 'train/0002-12',\n",
       " 'train/0003-01',\n",
       " 'train/0003-02',\n",
       " 'train/0003-03',\n",
       " 'train/0003-04',\n",
       " 'train/0003-05',\n",
       " 'train/0003-06',\n",
       " 'train/0003-07',\n",
       " 'train/0003-08',\n",
       " 'train/0003-09',\n",
       " 'train/0003-10',\n",
       " 'train/0003-11',\n",
       " 'train/0003-12',\n",
       " 'train/0004-01',\n",
       " 'train/0004-02',\n",
       " 'train/0004-03',\n",
       " 'train/0004-04',\n",
       " 'train/0004-05',\n",
       " 'train/0004-06',\n",
       " 'train/0004-07',\n",
       " 'train/0004-08',\n",
       " 'train/0004-09',\n",
       " 'train/0004-10',\n",
       " 'train/0004-11',\n",
       " 'train/0004-12',\n",
       " 'train/0005-01',\n",
       " 'train/0005-02',\n",
       " 'train/0005-03',\n",
       " 'train/0005-04',\n",
       " 'train/0005-05',\n",
       " 'train/0005-06',\n",
       " 'train/0005-07',\n",
       " 'train/0005-08',\n",
       " 'train/0005-09',\n",
       " 'train/0005-10',\n",
       " 'train/0005-11',\n",
       " 'train/0005-12',\n",
       " 'train/0006-01',\n",
       " 'train/0006-02',\n",
       " 'train/0006-03',\n",
       " 'train/0006-04',\n",
       " 'train/0006-05',\n",
       " 'train/0006-06',\n",
       " 'train/0006-07',\n",
       " 'train/0006-08',\n",
       " 'train/0006-09',\n",
       " 'train/0006-10',\n",
       " 'train/0006-11',\n",
       " 'train/0006-12',\n",
       " 'train/0007-01',\n",
       " 'train/0007-02',\n",
       " 'train/0007-03',\n",
       " 'train/0007-04',\n",
       " 'train/0007-05',\n",
       " 'train/0007-06',\n",
       " 'train/0007-07',\n",
       " 'train/0007-08',\n",
       " 'train/0007-09',\n",
       " 'train/0007-10',\n",
       " 'train/0007-11',\n",
       " 'train/0007-12',\n",
       " 'train/0008-01',\n",
       " 'train/0008-02',\n",
       " 'train/0008-03',\n",
       " 'train/0008-04',\n",
       " 'train/0008-05',\n",
       " 'train/0008-06',\n",
       " 'train/0008-07',\n",
       " 'train/0008-08',\n",
       " 'train/0008-09',\n",
       " 'train/0008-10',\n",
       " 'train/0008-11',\n",
       " 'train/0008-12',\n",
       " 'train/0009-01']"
      ]
     },
     "execution_count": 57,
     "metadata": {},
     "output_type": "execute_result"
    }
   ],
   "source": [
    "month_dirs = (\n",
    "    [f\"train/0001-{str(m).zfill(2)}\" for m in range(2, 13)]\n",
    "    + [f\"train/000{y}-{str(m).zfill(2)}\" for y in range(2, 9) for m in range(1, 13)]\n",
    "    + [\"train/0009-01\"]\n",
    ")\n",
    "month_dirs"
   ]
  },
  {
   "cell_type": "code",
   "execution_count": 26,
   "id": "59bb13af-4e0a-4be4-ad0f-1083706f8c95",
   "metadata": {},
   "outputs": [],
   "source": [
    "if os.path.exists(TMP_DIR):\n",
    "    shutil.rmtree(TMP_DIR)\n",
    "TMP_DIR.mkdir(exist_ok=True)"
   ]
  },
  {
   "cell_type": "code",
   "execution_count": 27,
   "id": "c44f3689-3543-461d-ad96-d49773cddf97",
   "metadata": {
    "scrolled": true
   },
   "outputs": [
    {
     "data": {
      "application/vnd.jupyter.widget-view+json": {
       "model_id": "d9fc8fb76c2448b6ae94e8dc4532319a",
       "version_major": 2,
       "version_minor": 0
      },
      "text/plain": [
       "Fetching 144 files:   0%|          | 0/144 [00:00<?, ?it/s]"
      ]
     },
     "metadata": {},
     "output_type": "display_data"
    },
    {
     "data": {
      "application/vnd.jupyter.widget-view+json": {
       "model_id": "f20eaa7c30ea4366a834e15f0cdb3a94",
       "version_major": 2,
       "version_minor": 0
      },
      "text/plain": [
       "(…)0001-02/E3SM-MMF.mli.0001-02-01-04800.nc:   0%|          | 0.00/1.90M [00:00<?, ?B/s]"
      ]
     },
     "metadata": {},
     "output_type": "display_data"
    },
    {
     "data": {
      "application/vnd.jupyter.widget-view+json": {
       "model_id": "57f7a9a41bf14712a7582f7c5e5dcb85",
       "version_major": 2,
       "version_minor": 0
      },
      "text/plain": [
       "(…)0001-02/E3SM-MMF.mli.0001-02-01-02400.nc:   0%|          | 0.00/1.90M [00:00<?, ?B/s]"
      ]
     },
     "metadata": {},
     "output_type": "display_data"
    },
    {
     "data": {
      "application/vnd.jupyter.widget-view+json": {
       "model_id": "65fe842d5e974cc5b81b6597cfbb6f21",
       "version_major": 2,
       "version_minor": 0
      },
      "text/plain": [
       "(…)0001-02/E3SM-MMF.mli.0001-02-01-01200.nc:   0%|          | 0.00/1.90M [00:00<?, ?B/s]"
      ]
     },
     "metadata": {},
     "output_type": "display_data"
    },
    {
     "data": {
      "application/vnd.jupyter.widget-view+json": {
       "model_id": "768e16c04bb44a059dbf96f25238c66c",
       "version_major": 2,
       "version_minor": 0
      },
      "text/plain": [
       "(…)0001-02/E3SM-MMF.mli.0001-02-01-03600.nc:   0%|          | 0.00/1.90M [00:00<?, ?B/s]"
      ]
     },
     "metadata": {},
     "output_type": "display_data"
    },
    {
     "data": {
      "application/vnd.jupyter.widget-view+json": {
       "model_id": "d41ab8f6d84b417faac14c1ea73707fa",
       "version_major": 2,
       "version_minor": 0
      },
      "text/plain": [
       "(…)0001-02/E3SM-MMF.mli.0001-02-01-07200.nc:   0%|          | 0.00/1.90M [00:00<?, ?B/s]"
      ]
     },
     "metadata": {},
     "output_type": "display_data"
    },
    {
     "data": {
      "application/vnd.jupyter.widget-view+json": {
       "model_id": "566f98307d334d8aa5962a8b92030149",
       "version_major": 2,
       "version_minor": 0
      },
      "text/plain": [
       "(…)0001-02/E3SM-MMF.mli.0001-02-01-06000.nc:   0%|          | 0.00/1.90M [00:00<?, ?B/s]"
      ]
     },
     "metadata": {},
     "output_type": "display_data"
    },
    {
     "data": {
      "application/vnd.jupyter.widget-view+json": {
       "model_id": "a5bf16b19172442f8491388520426de9",
       "version_major": 2,
       "version_minor": 0
      },
      "text/plain": [
       "(…)0001-02/E3SM-MMF.mli.0001-02-01-08400.nc:   0%|          | 0.00/1.90M [00:00<?, ?B/s]"
      ]
     },
     "metadata": {},
     "output_type": "display_data"
    },
    {
     "data": {
      "application/vnd.jupyter.widget-view+json": {
       "model_id": "a6ed4e6dfd5641bfa4584ded9173f7bf",
       "version_major": 2,
       "version_minor": 0
      },
      "text/plain": [
       "(…)0001-02/E3SM-MMF.mli.0001-02-01-00000.nc:   0%|          | 0.00/1.90M [00:00<?, ?B/s]"
      ]
     },
     "metadata": {},
     "output_type": "display_data"
    },
    {
     "data": {
      "application/vnd.jupyter.widget-view+json": {
       "model_id": "e135a63888f6407caf1a4af9208cf35b",
       "version_major": 2,
       "version_minor": 0
      },
      "text/plain": [
       "(…)0001-02/E3SM-MMF.mli.0001-02-01-13200.nc:   0%|          | 0.00/1.90M [00:00<?, ?B/s]"
      ]
     },
     "metadata": {},
     "output_type": "display_data"
    },
    {
     "data": {
      "application/vnd.jupyter.widget-view+json": {
       "model_id": "d3cd053555894dfc9b4cdf7ea803f18d",
       "version_major": 2,
       "version_minor": 0
      },
      "text/plain": [
       "(…)0001-02/E3SM-MMF.mli.0001-02-01-09600.nc:   0%|          | 0.00/1.90M [00:00<?, ?B/s]"
      ]
     },
     "metadata": {},
     "output_type": "display_data"
    },
    {
     "data": {
      "application/vnd.jupyter.widget-view+json": {
       "model_id": "9aa8d080211445a9883cd04029cf5e4c",
       "version_major": 2,
       "version_minor": 0
      },
      "text/plain": [
       "(…)0001-02/E3SM-MMF.mli.0001-02-01-10800.nc:   0%|          | 0.00/1.90M [00:00<?, ?B/s]"
      ]
     },
     "metadata": {},
     "output_type": "display_data"
    },
    {
     "data": {
      "application/vnd.jupyter.widget-view+json": {
       "model_id": "bf3883a9e3814c42ab902f1b55c34d33",
       "version_major": 2,
       "version_minor": 0
      },
      "text/plain": [
       "(…)0001-02/E3SM-MMF.mli.0001-02-01-16800.nc:   0%|          | 0.00/1.90M [00:00<?, ?B/s]"
      ]
     },
     "metadata": {},
     "output_type": "display_data"
    },
    {
     "data": {
      "application/vnd.jupyter.widget-view+json": {
       "model_id": "672f45b4e9b042d49937cd904eaf8d63",
       "version_major": 2,
       "version_minor": 0
      },
      "text/plain": [
       "(…)0001-02/E3SM-MMF.mli.0001-02-01-12000.nc:   0%|          | 0.00/1.90M [00:00<?, ?B/s]"
      ]
     },
     "metadata": {},
     "output_type": "display_data"
    },
    {
     "data": {
      "application/vnd.jupyter.widget-view+json": {
       "model_id": "5389293e8108419f880d90e162c811b2",
       "version_major": 2,
       "version_minor": 0
      },
      "text/plain": [
       "(…)0001-02/E3SM-MMF.mli.0001-02-01-15600.nc:   0%|          | 0.00/1.90M [00:00<?, ?B/s]"
      ]
     },
     "metadata": {},
     "output_type": "display_data"
    },
    {
     "data": {
      "application/vnd.jupyter.widget-view+json": {
       "model_id": "a194edaf7b404fe9801703ad995d4b37",
       "version_major": 2,
       "version_minor": 0
      },
      "text/plain": [
       "(…)0001-02/E3SM-MMF.mli.0001-02-01-14400.nc:   0%|          | 0.00/1.90M [00:00<?, ?B/s]"
      ]
     },
     "metadata": {},
     "output_type": "display_data"
    },
    {
     "data": {
      "application/vnd.jupyter.widget-view+json": {
       "model_id": "271b63ccabfc48c5963d44a37c826571",
       "version_major": 2,
       "version_minor": 0
      },
      "text/plain": [
       "(…)0001-02/E3SM-MMF.mli.0001-02-01-18000.nc:   0%|          | 0.00/1.90M [00:00<?, ?B/s]"
      ]
     },
     "metadata": {},
     "output_type": "display_data"
    },
    {
     "data": {
      "application/vnd.jupyter.widget-view+json": {
       "model_id": "59edf8476a7a47f5bc1467147e67a86d",
       "version_major": 2,
       "version_minor": 0
      },
      "text/plain": [
       "(…)0001-02/E3SM-MMF.mli.0001-02-01-20400.nc:   0%|          | 0.00/1.90M [00:00<?, ?B/s]"
      ]
     },
     "metadata": {},
     "output_type": "display_data"
    },
    {
     "data": {
      "application/vnd.jupyter.widget-view+json": {
       "model_id": "59546c08d8024767b96fc6c45ab1683a",
       "version_major": 2,
       "version_minor": 0
      },
      "text/plain": [
       "(…)0001-02/E3SM-MMF.mli.0001-02-01-22800.nc:   0%|          | 0.00/1.90M [00:00<?, ?B/s]"
      ]
     },
     "metadata": {},
     "output_type": "display_data"
    },
    {
     "data": {
      "application/vnd.jupyter.widget-view+json": {
       "model_id": "2af9181d0409493881089b7be58ec1ff",
       "version_major": 2,
       "version_minor": 0
      },
      "text/plain": [
       "(…)0001-02/E3SM-MMF.mli.0001-02-01-21600.nc:   0%|          | 0.00/1.90M [00:00<?, ?B/s]"
      ]
     },
     "metadata": {},
     "output_type": "display_data"
    },
    {
     "data": {
      "application/vnd.jupyter.widget-view+json": {
       "model_id": "b04a724955b3485fae45a93491feddc1",
       "version_major": 2,
       "version_minor": 0
      },
      "text/plain": [
       "(…)0001-02/E3SM-MMF.mli.0001-02-01-24000.nc:   0%|          | 0.00/1.90M [00:00<?, ?B/s]"
      ]
     },
     "metadata": {},
     "output_type": "display_data"
    },
    {
     "data": {
      "application/vnd.jupyter.widget-view+json": {
       "model_id": "b54383387ba143148ccdb44f4d6abf03",
       "version_major": 2,
       "version_minor": 0
      },
      "text/plain": [
       "(…)0001-02/E3SM-MMF.mli.0001-02-01-26400.nc:   0%|          | 0.00/1.90M [00:00<?, ?B/s]"
      ]
     },
     "metadata": {},
     "output_type": "display_data"
    },
    {
     "data": {
      "application/vnd.jupyter.widget-view+json": {
       "model_id": "09de84a13a5744b3af38927607c1dc50",
       "version_major": 2,
       "version_minor": 0
      },
      "text/plain": [
       "(…)0001-02/E3SM-MMF.mli.0001-02-01-19200.nc:   0%|          | 0.00/1.90M [00:00<?, ?B/s]"
      ]
     },
     "metadata": {},
     "output_type": "display_data"
    },
    {
     "data": {
      "application/vnd.jupyter.widget-view+json": {
       "model_id": "402a127b77c44d578184ad75c8ef116f",
       "version_major": 2,
       "version_minor": 0
      },
      "text/plain": [
       "(…)0001-02/E3SM-MMF.mli.0001-02-01-25200.nc:   0%|          | 0.00/1.90M [00:00<?, ?B/s]"
      ]
     },
     "metadata": {},
     "output_type": "display_data"
    },
    {
     "data": {
      "application/vnd.jupyter.widget-view+json": {
       "model_id": "cde681bc78c34e5fa25cfccbb3e49013",
       "version_major": 2,
       "version_minor": 0
      },
      "text/plain": [
       "(…)0001-02/E3SM-MMF.mli.0001-02-01-27600.nc:   0%|          | 0.00/1.90M [00:00<?, ?B/s]"
      ]
     },
     "metadata": {},
     "output_type": "display_data"
    },
    {
     "data": {
      "application/vnd.jupyter.widget-view+json": {
       "model_id": "6c7fc6ea02184e6da535a99acd5415c9",
       "version_major": 2,
       "version_minor": 0
      },
      "text/plain": [
       "(…)0001-02/E3SM-MMF.mli.0001-02-01-28800.nc:   0%|          | 0.00/1.90M [00:00<?, ?B/s]"
      ]
     },
     "metadata": {},
     "output_type": "display_data"
    },
    {
     "data": {
      "application/vnd.jupyter.widget-view+json": {
       "model_id": "525d5d9a495e4adb9234a80eeed70e6b",
       "version_major": 2,
       "version_minor": 0
      },
      "text/plain": [
       "(…)0001-02/E3SM-MMF.mli.0001-02-01-36000.nc:   0%|          | 0.00/1.90M [00:00<?, ?B/s]"
      ]
     },
     "metadata": {},
     "output_type": "display_data"
    },
    {
     "data": {
      "application/vnd.jupyter.widget-view+json": {
       "model_id": "d4ce1bfefa544b8c8a2dfdec832a7af2",
       "version_major": 2,
       "version_minor": 0
      },
      "text/plain": [
       "(…)0001-02/E3SM-MMF.mli.0001-02-01-37200.nc:   0%|          | 0.00/1.90M [00:00<?, ?B/s]"
      ]
     },
     "metadata": {},
     "output_type": "display_data"
    },
    {
     "data": {
      "application/vnd.jupyter.widget-view+json": {
       "model_id": "7ad896041b2c47ab841d622a671dfb50",
       "version_major": 2,
       "version_minor": 0
      },
      "text/plain": [
       "(…)0001-02/E3SM-MMF.mli.0001-02-01-30000.nc:   0%|          | 0.00/1.90M [00:00<?, ?B/s]"
      ]
     },
     "metadata": {},
     "output_type": "display_data"
    },
    {
     "data": {
      "application/vnd.jupyter.widget-view+json": {
       "model_id": "cacbba71f95849e28cbd1a82666df5ee",
       "version_major": 2,
       "version_minor": 0
      },
      "text/plain": [
       "(…)0001-02/E3SM-MMF.mli.0001-02-01-31200.nc:   0%|          | 0.00/1.90M [00:00<?, ?B/s]"
      ]
     },
     "metadata": {},
     "output_type": "display_data"
    },
    {
     "data": {
      "application/vnd.jupyter.widget-view+json": {
       "model_id": "316a1c92058d4a82b17785eea8079a58",
       "version_major": 2,
       "version_minor": 0
      },
      "text/plain": [
       "(…)0001-02/E3SM-MMF.mli.0001-02-01-33600.nc:   0%|          | 0.00/1.90M [00:00<?, ?B/s]"
      ]
     },
     "metadata": {},
     "output_type": "display_data"
    },
    {
     "data": {
      "application/vnd.jupyter.widget-view+json": {
       "model_id": "09e41f9d89694c5fa2fb96b481d38989",
       "version_major": 2,
       "version_minor": 0
      },
      "text/plain": [
       "(…)0001-02/E3SM-MMF.mli.0001-02-01-34800.nc:   0%|          | 0.00/1.90M [00:00<?, ?B/s]"
      ]
     },
     "metadata": {},
     "output_type": "display_data"
    },
    {
     "data": {
      "application/vnd.jupyter.widget-view+json": {
       "model_id": "4df3c40c2663443f89ce7f955e3c5980",
       "version_major": 2,
       "version_minor": 0
      },
      "text/plain": [
       "(…)0001-02/E3SM-MMF.mli.0001-02-01-32400.nc:   0%|          | 0.00/1.90M [00:00<?, ?B/s]"
      ]
     },
     "metadata": {},
     "output_type": "display_data"
    },
    {
     "data": {
      "application/vnd.jupyter.widget-view+json": {
       "model_id": "202b070a968e4c07a725cb81c1cb8d18",
       "version_major": 2,
       "version_minor": 0
      },
      "text/plain": [
       "(…)0001-02/E3SM-MMF.mli.0001-02-01-38400.nc:   0%|          | 0.00/1.90M [00:00<?, ?B/s]"
      ]
     },
     "metadata": {},
     "output_type": "display_data"
    },
    {
     "data": {
      "application/vnd.jupyter.widget-view+json": {
       "model_id": "d9f68192f928467d971e8cdfef66d17b",
       "version_major": 2,
       "version_minor": 0
      },
      "text/plain": [
       "(…)0001-02/E3SM-MMF.mli.0001-02-01-40800.nc:   0%|          | 0.00/1.90M [00:00<?, ?B/s]"
      ]
     },
     "metadata": {},
     "output_type": "display_data"
    },
    {
     "data": {
      "application/vnd.jupyter.widget-view+json": {
       "model_id": "474886e76437432b8ec486f197edff69",
       "version_major": 2,
       "version_minor": 0
      },
      "text/plain": [
       "(…)0001-02/E3SM-MMF.mli.0001-02-01-46800.nc:   0%|          | 0.00/1.90M [00:00<?, ?B/s]"
      ]
     },
     "metadata": {},
     "output_type": "display_data"
    },
    {
     "data": {
      "application/vnd.jupyter.widget-view+json": {
       "model_id": "2c6d0c9ebd5b41129bee984127df8779",
       "version_major": 2,
       "version_minor": 0
      },
      "text/plain": [
       "(…)0001-02/E3SM-MMF.mli.0001-02-01-39600.nc:   0%|          | 0.00/1.90M [00:00<?, ?B/s]"
      ]
     },
     "metadata": {},
     "output_type": "display_data"
    },
    {
     "data": {
      "application/vnd.jupyter.widget-view+json": {
       "model_id": "13d75a981d334f3785157804b58e2a32",
       "version_major": 2,
       "version_minor": 0
      },
      "text/plain": [
       "(…)0001-02/E3SM-MMF.mli.0001-02-01-42000.nc:   0%|          | 0.00/1.90M [00:00<?, ?B/s]"
      ]
     },
     "metadata": {},
     "output_type": "display_data"
    },
    {
     "data": {
      "application/vnd.jupyter.widget-view+json": {
       "model_id": "4412be5e0a1e4243a0c0dd7268348606",
       "version_major": 2,
       "version_minor": 0
      },
      "text/plain": [
       "(…)0001-02/E3SM-MMF.mli.0001-02-01-43200.nc:   0%|          | 0.00/1.90M [00:00<?, ?B/s]"
      ]
     },
     "metadata": {},
     "output_type": "display_data"
    },
    {
     "data": {
      "application/vnd.jupyter.widget-view+json": {
       "model_id": "5ed639ffc1e04372bcc769bff6533312",
       "version_major": 2,
       "version_minor": 0
      },
      "text/plain": [
       "(…)0001-02/E3SM-MMF.mli.0001-02-01-45600.nc:   0%|          | 0.00/1.90M [00:00<?, ?B/s]"
      ]
     },
     "metadata": {},
     "output_type": "display_data"
    },
    {
     "data": {
      "application/vnd.jupyter.widget-view+json": {
       "model_id": "1d247af20418418b8d99c3be272d36b2",
       "version_major": 2,
       "version_minor": 0
      },
      "text/plain": [
       "(…)0001-02/E3SM-MMF.mli.0001-02-01-44400.nc:   0%|          | 0.00/1.90M [00:00<?, ?B/s]"
      ]
     },
     "metadata": {},
     "output_type": "display_data"
    },
    {
     "data": {
      "application/vnd.jupyter.widget-view+json": {
       "model_id": "912991e8268447f0b7a269e39993a347",
       "version_major": 2,
       "version_minor": 0
      },
      "text/plain": [
       "(…)0001-02/E3SM-MMF.mli.0001-02-01-48000.nc:   0%|          | 0.00/1.90M [00:00<?, ?B/s]"
      ]
     },
     "metadata": {},
     "output_type": "display_data"
    },
    {
     "data": {
      "application/vnd.jupyter.widget-view+json": {
       "model_id": "90a619f995264cdea6977b591de809a2",
       "version_major": 2,
       "version_minor": 0
      },
      "text/plain": [
       "(…)0001-02/E3SM-MMF.mli.0001-02-01-50400.nc:   0%|          | 0.00/1.90M [00:00<?, ?B/s]"
      ]
     },
     "metadata": {},
     "output_type": "display_data"
    },
    {
     "data": {
      "application/vnd.jupyter.widget-view+json": {
       "model_id": "278a441d544047e4b0cb177a27f700f9",
       "version_major": 2,
       "version_minor": 0
      },
      "text/plain": [
       "(…)0001-02/E3SM-MMF.mli.0001-02-01-55200.nc:   0%|          | 0.00/1.90M [00:00<?, ?B/s]"
      ]
     },
     "metadata": {},
     "output_type": "display_data"
    },
    {
     "data": {
      "application/vnd.jupyter.widget-view+json": {
       "model_id": "6c0a31f08e51461eabb608a22bd535f3",
       "version_major": 2,
       "version_minor": 0
      },
      "text/plain": [
       "(…)0001-02/E3SM-MMF.mli.0001-02-01-51600.nc:   0%|          | 0.00/1.90M [00:00<?, ?B/s]"
      ]
     },
     "metadata": {},
     "output_type": "display_data"
    },
    {
     "data": {
      "application/vnd.jupyter.widget-view+json": {
       "model_id": "7356a046f12941b4a010c41aa7e194c6",
       "version_major": 2,
       "version_minor": 0
      },
      "text/plain": [
       "(…)0001-02/E3SM-MMF.mli.0001-02-01-49200.nc:   0%|          | 0.00/1.90M [00:00<?, ?B/s]"
      ]
     },
     "metadata": {},
     "output_type": "display_data"
    },
    {
     "data": {
      "application/vnd.jupyter.widget-view+json": {
       "model_id": "f0a2d18f9516471eb8400f1fa0e0d688",
       "version_major": 2,
       "version_minor": 0
      },
      "text/plain": [
       "(…)0001-02/E3SM-MMF.mli.0001-02-01-52800.nc:   0%|          | 0.00/1.90M [00:00<?, ?B/s]"
      ]
     },
     "metadata": {},
     "output_type": "display_data"
    },
    {
     "data": {
      "application/vnd.jupyter.widget-view+json": {
       "model_id": "f28dadf10a374d47af430c08c2bbf2b7",
       "version_major": 2,
       "version_minor": 0
      },
      "text/plain": [
       "(…)0001-02/E3SM-MMF.mli.0001-02-01-56400.nc:   0%|          | 0.00/1.90M [00:00<?, ?B/s]"
      ]
     },
     "metadata": {},
     "output_type": "display_data"
    },
    {
     "data": {
      "application/vnd.jupyter.widget-view+json": {
       "model_id": "327f881657bf4921a48ea753fdeef87c",
       "version_major": 2,
       "version_minor": 0
      },
      "text/plain": [
       "(…)0001-02/E3SM-MMF.mli.0001-02-01-54000.nc:   0%|          | 0.00/1.90M [00:00<?, ?B/s]"
      ]
     },
     "metadata": {},
     "output_type": "display_data"
    },
    {
     "data": {
      "application/vnd.jupyter.widget-view+json": {
       "model_id": "9d8916dc492441c4b69460e8c840ce7b",
       "version_major": 2,
       "version_minor": 0
      },
      "text/plain": [
       "(…)0001-02/E3SM-MMF.mli.0001-02-01-57600.nc:   0%|          | 0.00/1.90M [00:00<?, ?B/s]"
      ]
     },
     "metadata": {},
     "output_type": "display_data"
    },
    {
     "data": {
      "application/vnd.jupyter.widget-view+json": {
       "model_id": "2faeb85004dd49b7b9b8d542296f60ca",
       "version_major": 2,
       "version_minor": 0
      },
      "text/plain": [
       "(…)0001-02/E3SM-MMF.mli.0001-02-01-64800.nc:   0%|          | 0.00/1.90M [00:00<?, ?B/s]"
      ]
     },
     "metadata": {},
     "output_type": "display_data"
    },
    {
     "data": {
      "application/vnd.jupyter.widget-view+json": {
       "model_id": "b33f412e4fce4b4f986450229e93f4f8",
       "version_major": 2,
       "version_minor": 0
      },
      "text/plain": [
       "(…)0001-02/E3SM-MMF.mli.0001-02-01-62400.nc:   0%|          | 0.00/1.90M [00:00<?, ?B/s]"
      ]
     },
     "metadata": {},
     "output_type": "display_data"
    },
    {
     "data": {
      "application/vnd.jupyter.widget-view+json": {
       "model_id": "efbccd0102f2497187cee86ed0a3e6ca",
       "version_major": 2,
       "version_minor": 0
      },
      "text/plain": [
       "(…)0001-02/E3SM-MMF.mli.0001-02-01-58800.nc:   0%|          | 0.00/1.90M [00:00<?, ?B/s]"
      ]
     },
     "metadata": {},
     "output_type": "display_data"
    },
    {
     "data": {
      "application/vnd.jupyter.widget-view+json": {
       "model_id": "0e442a06b96942fd8134da3354db1074",
       "version_major": 2,
       "version_minor": 0
      },
      "text/plain": [
       "(…)0001-02/E3SM-MMF.mli.0001-02-01-66000.nc:   0%|          | 0.00/1.90M [00:00<?, ?B/s]"
      ]
     },
     "metadata": {},
     "output_type": "display_data"
    },
    {
     "data": {
      "application/vnd.jupyter.widget-view+json": {
       "model_id": "6462eda1f5ab4d298b92c8748e8951bf",
       "version_major": 2,
       "version_minor": 0
      },
      "text/plain": [
       "(…)0001-02/E3SM-MMF.mli.0001-02-01-63600.nc:   0%|          | 0.00/1.90M [00:00<?, ?B/s]"
      ]
     },
     "metadata": {},
     "output_type": "display_data"
    },
    {
     "data": {
      "application/vnd.jupyter.widget-view+json": {
       "model_id": "b167abb520a04ece8870913b0e4038fe",
       "version_major": 2,
       "version_minor": 0
      },
      "text/plain": [
       "(…)0001-02/E3SM-MMF.mli.0001-02-01-61200.nc:   0%|          | 0.00/1.90M [00:00<?, ?B/s]"
      ]
     },
     "metadata": {},
     "output_type": "display_data"
    },
    {
     "data": {
      "application/vnd.jupyter.widget-view+json": {
       "model_id": "51e4150f2f834349bcb722a25a06948c",
       "version_major": 2,
       "version_minor": 0
      },
      "text/plain": [
       "(…)0001-02/E3SM-MMF.mli.0001-02-01-60000.nc:   0%|          | 0.00/1.90M [00:00<?, ?B/s]"
      ]
     },
     "metadata": {},
     "output_type": "display_data"
    },
    {
     "data": {
      "application/vnd.jupyter.widget-view+json": {
       "model_id": "70a440277a79492f818a8352074599d8",
       "version_major": 2,
       "version_minor": 0
      },
      "text/plain": [
       "(…)0001-02/E3SM-MMF.mli.0001-02-01-67200.nc:   0%|          | 0.00/1.90M [00:00<?, ?B/s]"
      ]
     },
     "metadata": {},
     "output_type": "display_data"
    },
    {
     "data": {
      "application/vnd.jupyter.widget-view+json": {
       "model_id": "9304b15c93a344f982af580a98dbf90d",
       "version_major": 2,
       "version_minor": 0
      },
      "text/plain": [
       "(…)0001-02/E3SM-MMF.mli.0001-02-01-72000.nc:   0%|          | 0.00/1.90M [00:00<?, ?B/s]"
      ]
     },
     "metadata": {},
     "output_type": "display_data"
    },
    {
     "data": {
      "application/vnd.jupyter.widget-view+json": {
       "model_id": "90e252ef51f24e959cf1f0cf0991af60",
       "version_major": 2,
       "version_minor": 0
      },
      "text/plain": [
       "(…)0001-02/E3SM-MMF.mli.0001-02-01-70800.nc:   0%|          | 0.00/1.90M [00:00<?, ?B/s]"
      ]
     },
     "metadata": {},
     "output_type": "display_data"
    },
    {
     "data": {
      "application/vnd.jupyter.widget-view+json": {
       "model_id": "7a847eb778624a04bed2341a26da55c5",
       "version_major": 2,
       "version_minor": 0
      },
      "text/plain": [
       "(…)0001-02/E3SM-MMF.mli.0001-02-01-69600.nc:   0%|          | 0.00/1.90M [00:00<?, ?B/s]"
      ]
     },
     "metadata": {},
     "output_type": "display_data"
    },
    {
     "data": {
      "application/vnd.jupyter.widget-view+json": {
       "model_id": "e19abc371570455c87206bdd8c1b6b0f",
       "version_major": 2,
       "version_minor": 0
      },
      "text/plain": [
       "(…)0001-02/E3SM-MMF.mli.0001-02-01-75600.nc:   0%|          | 0.00/1.90M [00:00<?, ?B/s]"
      ]
     },
     "metadata": {},
     "output_type": "display_data"
    },
    {
     "data": {
      "application/vnd.jupyter.widget-view+json": {
       "model_id": "94fdb12853864dd59914da07428f9484",
       "version_major": 2,
       "version_minor": 0
      },
      "text/plain": [
       "(…)0001-02/E3SM-MMF.mli.0001-02-01-74400.nc:   0%|          | 0.00/1.90M [00:00<?, ?B/s]"
      ]
     },
     "metadata": {},
     "output_type": "display_data"
    },
    {
     "data": {
      "application/vnd.jupyter.widget-view+json": {
       "model_id": "7a06f343c12a44688cc7f061189c3acd",
       "version_major": 2,
       "version_minor": 0
      },
      "text/plain": [
       "(…)0001-02/E3SM-MMF.mli.0001-02-01-68400.nc:   0%|          | 0.00/1.90M [00:00<?, ?B/s]"
      ]
     },
     "metadata": {},
     "output_type": "display_data"
    },
    {
     "data": {
      "application/vnd.jupyter.widget-view+json": {
       "model_id": "2844aed6a4a14bf39af599b298cd15de",
       "version_major": 2,
       "version_minor": 0
      },
      "text/plain": [
       "(…)0001-02/E3SM-MMF.mli.0001-02-01-73200.nc:   0%|          | 0.00/1.90M [00:00<?, ?B/s]"
      ]
     },
     "metadata": {},
     "output_type": "display_data"
    },
    {
     "data": {
      "application/vnd.jupyter.widget-view+json": {
       "model_id": "190ae321ad024768999f697c4c5348e3",
       "version_major": 2,
       "version_minor": 0
      },
      "text/plain": [
       "(…)0001-02/E3SM-MMF.mli.0001-02-01-78000.nc:   0%|          | 0.00/1.90M [00:00<?, ?B/s]"
      ]
     },
     "metadata": {},
     "output_type": "display_data"
    },
    {
     "data": {
      "application/vnd.jupyter.widget-view+json": {
       "model_id": "be8b9199326840d5a529652a06bb0103",
       "version_major": 2,
       "version_minor": 0
      },
      "text/plain": [
       "(…)0001-02/E3SM-MMF.mli.0001-02-01-79200.nc:   0%|          | 0.00/1.90M [00:00<?, ?B/s]"
      ]
     },
     "metadata": {},
     "output_type": "display_data"
    },
    {
     "data": {
      "application/vnd.jupyter.widget-view+json": {
       "model_id": "97c99d545aa747a4a8235c08fa6ce5de",
       "version_major": 2,
       "version_minor": 0
      },
      "text/plain": [
       "(…)0001-02/E3SM-MMF.mli.0001-02-01-80400.nc:   0%|          | 0.00/1.90M [00:00<?, ?B/s]"
      ]
     },
     "metadata": {},
     "output_type": "display_data"
    },
    {
     "data": {
      "application/vnd.jupyter.widget-view+json": {
       "model_id": "9bb0ace3bcca4edd95e964777655fccb",
       "version_major": 2,
       "version_minor": 0
      },
      "text/plain": [
       "(…)0001-02/E3SM-MMF.mli.0001-02-01-76800.nc:   0%|          | 0.00/1.90M [00:00<?, ?B/s]"
      ]
     },
     "metadata": {},
     "output_type": "display_data"
    },
    {
     "data": {
      "application/vnd.jupyter.widget-view+json": {
       "model_id": "3aa7b68422704ab0909ce3699ada4526",
       "version_major": 2,
       "version_minor": 0
      },
      "text/plain": [
       "(…)0001-02/E3SM-MMF.mli.0001-02-01-81600.nc:   0%|          | 0.00/1.90M [00:00<?, ?B/s]"
      ]
     },
     "metadata": {},
     "output_type": "display_data"
    },
    {
     "data": {
      "application/vnd.jupyter.widget-view+json": {
       "model_id": "b981b2c653ca42e79cc175d44b0e6318",
       "version_major": 2,
       "version_minor": 0
      },
      "text/plain": [
       "(…)0001-02/E3SM-MMF.mli.0001-02-01-82800.nc:   0%|          | 0.00/1.90M [00:00<?, ?B/s]"
      ]
     },
     "metadata": {},
     "output_type": "display_data"
    },
    {
     "data": {
      "application/vnd.jupyter.widget-view+json": {
       "model_id": "8474511ed78142ac8eb004bd24df59fa",
       "version_major": 2,
       "version_minor": 0
      },
      "text/plain": [
       "(…)0001-02/E3SM-MMF.mli.0001-02-01-84000.nc:   0%|          | 0.00/1.90M [00:00<?, ?B/s]"
      ]
     },
     "metadata": {},
     "output_type": "display_data"
    },
    {
     "data": {
      "application/vnd.jupyter.widget-view+json": {
       "model_id": "7c6845373b4a4a07bb36b7e8276c53d2",
       "version_major": 2,
       "version_minor": 0
      },
      "text/plain": [
       "(…)0001-02/E3SM-MMF.mli.0001-02-01-85200.nc:   0%|          | 0.00/1.90M [00:00<?, ?B/s]"
      ]
     },
     "metadata": {},
     "output_type": "display_data"
    },
    {
     "data": {
      "application/vnd.jupyter.widget-view+json": {
       "model_id": "df3bc3736a614d35b0927584d574d35e",
       "version_major": 2,
       "version_minor": 0
      },
      "text/plain": [
       "(…)0001-02/E3SM-MMF.mlo.0001-02-01-01200.nc:   0%|          | 0.00/1.13M [00:00<?, ?B/s]"
      ]
     },
     "metadata": {},
     "output_type": "display_data"
    },
    {
     "data": {
      "application/vnd.jupyter.widget-view+json": {
       "model_id": "ee3961bfc9c447fab3366a41453074f6",
       "version_major": 2,
       "version_minor": 0
      },
      "text/plain": [
       "(…)0001-02/E3SM-MMF.mlo.0001-02-01-02400.nc:   0%|          | 0.00/1.13M [00:00<?, ?B/s]"
      ]
     },
     "metadata": {},
     "output_type": "display_data"
    },
    {
     "data": {
      "application/vnd.jupyter.widget-view+json": {
       "model_id": "326581970e9f492b92deae2cbb7e2c33",
       "version_major": 2,
       "version_minor": 0
      },
      "text/plain": [
       "(…)0001-02/E3SM-MMF.mlo.0001-02-01-00000.nc:   0%|          | 0.00/1.13M [00:00<?, ?B/s]"
      ]
     },
     "metadata": {},
     "output_type": "display_data"
    },
    {
     "data": {
      "application/vnd.jupyter.widget-view+json": {
       "model_id": "cda18230f4304ef6b09f8c51a4fd80f1",
       "version_major": 2,
       "version_minor": 0
      },
      "text/plain": [
       "(…)0001-02/E3SM-MMF.mlo.0001-02-01-03600.nc:   0%|          | 0.00/1.13M [00:00<?, ?B/s]"
      ]
     },
     "metadata": {},
     "output_type": "display_data"
    },
    {
     "data": {
      "application/vnd.jupyter.widget-view+json": {
       "model_id": "430d06868f744317831a437683391042",
       "version_major": 2,
       "version_minor": 0
      },
      "text/plain": [
       "(…)0001-02/E3SM-MMF.mlo.0001-02-01-04800.nc:   0%|          | 0.00/1.13M [00:00<?, ?B/s]"
      ]
     },
     "metadata": {},
     "output_type": "display_data"
    },
    {
     "data": {
      "application/vnd.jupyter.widget-view+json": {
       "model_id": "0b402b101b5c4c1fb0f84db7458ceed5",
       "version_major": 2,
       "version_minor": 0
      },
      "text/plain": [
       "(…)0001-02/E3SM-MMF.mlo.0001-02-01-06000.nc:   0%|          | 0.00/1.13M [00:00<?, ?B/s]"
      ]
     },
     "metadata": {},
     "output_type": "display_data"
    },
    {
     "data": {
      "application/vnd.jupyter.widget-view+json": {
       "model_id": "4c88bea4681548079fe19db5788a381a",
       "version_major": 2,
       "version_minor": 0
      },
      "text/plain": [
       "(…)0001-02/E3SM-MMF.mlo.0001-02-01-08400.nc:   0%|          | 0.00/1.13M [00:00<?, ?B/s]"
      ]
     },
     "metadata": {},
     "output_type": "display_data"
    },
    {
     "data": {
      "application/vnd.jupyter.widget-view+json": {
       "model_id": "faafbc3f0fa64b6e882948222b854fb9",
       "version_major": 2,
       "version_minor": 0
      },
      "text/plain": [
       "(…)0001-02/E3SM-MMF.mlo.0001-02-01-07200.nc:   0%|          | 0.00/1.13M [00:00<?, ?B/s]"
      ]
     },
     "metadata": {},
     "output_type": "display_data"
    },
    {
     "data": {
      "application/vnd.jupyter.widget-view+json": {
       "model_id": "68fe87b63a7c42158c0f0acfa6557b9d",
       "version_major": 2,
       "version_minor": 0
      },
      "text/plain": [
       "(…)0001-02/E3SM-MMF.mlo.0001-02-01-09600.nc:   0%|          | 0.00/1.13M [00:00<?, ?B/s]"
      ]
     },
     "metadata": {},
     "output_type": "display_data"
    },
    {
     "data": {
      "application/vnd.jupyter.widget-view+json": {
       "model_id": "04c9d678c9734faeb65297c5ba20953e",
       "version_major": 2,
       "version_minor": 0
      },
      "text/plain": [
       "(…)0001-02/E3SM-MMF.mlo.0001-02-01-12000.nc:   0%|          | 0.00/1.13M [00:00<?, ?B/s]"
      ]
     },
     "metadata": {},
     "output_type": "display_data"
    },
    {
     "data": {
      "application/vnd.jupyter.widget-view+json": {
       "model_id": "809198b152244cf7a908ce69b3494329",
       "version_major": 2,
       "version_minor": 0
      },
      "text/plain": [
       "(…)0001-02/E3SM-MMF.mlo.0001-02-01-15600.nc:   0%|          | 0.00/1.13M [00:00<?, ?B/s]"
      ]
     },
     "metadata": {},
     "output_type": "display_data"
    },
    {
     "data": {
      "application/vnd.jupyter.widget-view+json": {
       "model_id": "e5ef9cb5e872402081841b80d776eb9a",
       "version_major": 2,
       "version_minor": 0
      },
      "text/plain": [
       "(…)0001-02/E3SM-MMF.mlo.0001-02-01-13200.nc:   0%|          | 0.00/1.13M [00:00<?, ?B/s]"
      ]
     },
     "metadata": {},
     "output_type": "display_data"
    },
    {
     "data": {
      "application/vnd.jupyter.widget-view+json": {
       "model_id": "586ac016a7824ab68c03a07e78c8a5d7",
       "version_major": 2,
       "version_minor": 0
      },
      "text/plain": [
       "(…)0001-02/E3SM-MMF.mlo.0001-02-01-14400.nc:   0%|          | 0.00/1.13M [00:00<?, ?B/s]"
      ]
     },
     "metadata": {},
     "output_type": "display_data"
    },
    {
     "data": {
      "application/vnd.jupyter.widget-view+json": {
       "model_id": "4499917961da43be8db2b9f81214ace7",
       "version_major": 2,
       "version_minor": 0
      },
      "text/plain": [
       "(…)0001-02/E3SM-MMF.mlo.0001-02-01-10800.nc:   0%|          | 0.00/1.13M [00:00<?, ?B/s]"
      ]
     },
     "metadata": {},
     "output_type": "display_data"
    },
    {
     "data": {
      "application/vnd.jupyter.widget-view+json": {
       "model_id": "afd08183c358463b90ff43cd93c3c0c7",
       "version_major": 2,
       "version_minor": 0
      },
      "text/plain": [
       "(…)0001-02/E3SM-MMF.mlo.0001-02-01-16800.nc:   0%|          | 0.00/1.13M [00:00<?, ?B/s]"
      ]
     },
     "metadata": {},
     "output_type": "display_data"
    },
    {
     "data": {
      "application/vnd.jupyter.widget-view+json": {
       "model_id": "a91c4c69df644e518f4460f518594dfc",
       "version_major": 2,
       "version_minor": 0
      },
      "text/plain": [
       "(…)0001-02/E3SM-MMF.mlo.0001-02-01-18000.nc:   0%|          | 0.00/1.13M [00:00<?, ?B/s]"
      ]
     },
     "metadata": {},
     "output_type": "display_data"
    },
    {
     "data": {
      "application/vnd.jupyter.widget-view+json": {
       "model_id": "a3e56dbc7a8343d7becfd5e53faa6093",
       "version_major": 2,
       "version_minor": 0
      },
      "text/plain": [
       "(…)0001-02/E3SM-MMF.mlo.0001-02-01-19200.nc:   0%|          | 0.00/1.13M [00:00<?, ?B/s]"
      ]
     },
     "metadata": {},
     "output_type": "display_data"
    },
    {
     "data": {
      "application/vnd.jupyter.widget-view+json": {
       "model_id": "696cc681c6d04199b563a02517345095",
       "version_major": 2,
       "version_minor": 0
      },
      "text/plain": [
       "(…)0001-02/E3SM-MMF.mlo.0001-02-01-22800.nc:   0%|          | 0.00/1.13M [00:00<?, ?B/s]"
      ]
     },
     "metadata": {},
     "output_type": "display_data"
    },
    {
     "data": {
      "application/vnd.jupyter.widget-view+json": {
       "model_id": "34b4ed1140b34d7a95e201d26019d1e1",
       "version_major": 2,
       "version_minor": 0
      },
      "text/plain": [
       "(…)0001-02/E3SM-MMF.mlo.0001-02-01-21600.nc:   0%|          | 0.00/1.13M [00:00<?, ?B/s]"
      ]
     },
     "metadata": {},
     "output_type": "display_data"
    },
    {
     "data": {
      "application/vnd.jupyter.widget-view+json": {
       "model_id": "4e98255ec8ab4888a828051d480213c3",
       "version_major": 2,
       "version_minor": 0
      },
      "text/plain": [
       "(…)0001-02/E3SM-MMF.mlo.0001-02-01-24000.nc:   0%|          | 0.00/1.13M [00:00<?, ?B/s]"
      ]
     },
     "metadata": {},
     "output_type": "display_data"
    },
    {
     "data": {
      "application/vnd.jupyter.widget-view+json": {
       "model_id": "f4246bae02034a67aacd7518323f6f4f",
       "version_major": 2,
       "version_minor": 0
      },
      "text/plain": [
       "(…)0001-02/E3SM-MMF.mlo.0001-02-01-25200.nc:   0%|          | 0.00/1.13M [00:00<?, ?B/s]"
      ]
     },
     "metadata": {},
     "output_type": "display_data"
    },
    {
     "data": {
      "application/vnd.jupyter.widget-view+json": {
       "model_id": "7a7bafb99d104a6fa644534cf73a95fd",
       "version_major": 2,
       "version_minor": 0
      },
      "text/plain": [
       "(…)0001-02/E3SM-MMF.mlo.0001-02-01-20400.nc:   0%|          | 0.00/1.13M [00:00<?, ?B/s]"
      ]
     },
     "metadata": {},
     "output_type": "display_data"
    },
    {
     "data": {
      "application/vnd.jupyter.widget-view+json": {
       "model_id": "418e58ed24834b82b47437ca774b6c2a",
       "version_major": 2,
       "version_minor": 0
      },
      "text/plain": [
       "(…)0001-02/E3SM-MMF.mlo.0001-02-01-26400.nc:   0%|          | 0.00/1.13M [00:00<?, ?B/s]"
      ]
     },
     "metadata": {},
     "output_type": "display_data"
    },
    {
     "data": {
      "application/vnd.jupyter.widget-view+json": {
       "model_id": "5f1dbcc3a00d4892bf03803b05026807",
       "version_major": 2,
       "version_minor": 0
      },
      "text/plain": [
       "(…)0001-02/E3SM-MMF.mlo.0001-02-01-27600.nc:   0%|          | 0.00/1.13M [00:00<?, ?B/s]"
      ]
     },
     "metadata": {},
     "output_type": "display_data"
    },
    {
     "data": {
      "application/vnd.jupyter.widget-view+json": {
       "model_id": "fb5c342f67a440648c404d45f90fe525",
       "version_major": 2,
       "version_minor": 0
      },
      "text/plain": [
       "(…)0001-02/E3SM-MMF.mlo.0001-02-01-28800.nc:   0%|          | 0.00/1.13M [00:00<?, ?B/s]"
      ]
     },
     "metadata": {},
     "output_type": "display_data"
    },
    {
     "data": {
      "application/vnd.jupyter.widget-view+json": {
       "model_id": "6907f499b6e8499d83fd3e685cc8886e",
       "version_major": 2,
       "version_minor": 0
      },
      "text/plain": [
       "(…)0001-02/E3SM-MMF.mlo.0001-02-01-32400.nc:   0%|          | 0.00/1.13M [00:00<?, ?B/s]"
      ]
     },
     "metadata": {},
     "output_type": "display_data"
    },
    {
     "data": {
      "application/vnd.jupyter.widget-view+json": {
       "model_id": "d4f5ca4e44fd45a195d8a823a4a03bda",
       "version_major": 2,
       "version_minor": 0
      },
      "text/plain": [
       "(…)0001-02/E3SM-MMF.mlo.0001-02-01-31200.nc:   0%|          | 0.00/1.13M [00:00<?, ?B/s]"
      ]
     },
     "metadata": {},
     "output_type": "display_data"
    },
    {
     "data": {
      "application/vnd.jupyter.widget-view+json": {
       "model_id": "7144c255244b4fe0b065da4dbb6e7c73",
       "version_major": 2,
       "version_minor": 0
      },
      "text/plain": [
       "(…)0001-02/E3SM-MMF.mlo.0001-02-01-33600.nc:   0%|          | 0.00/1.13M [00:00<?, ?B/s]"
      ]
     },
     "metadata": {},
     "output_type": "display_data"
    },
    {
     "data": {
      "application/vnd.jupyter.widget-view+json": {
       "model_id": "dbd4aa8b608d43b7a73967570e278177",
       "version_major": 2,
       "version_minor": 0
      },
      "text/plain": [
       "(…)0001-02/E3SM-MMF.mlo.0001-02-01-30000.nc:   0%|          | 0.00/1.13M [00:00<?, ?B/s]"
      ]
     },
     "metadata": {},
     "output_type": "display_data"
    },
    {
     "data": {
      "application/vnd.jupyter.widget-view+json": {
       "model_id": "e213076f5fc74647b53e14b7ce62ca79",
       "version_major": 2,
       "version_minor": 0
      },
      "text/plain": [
       "(…)0001-02/E3SM-MMF.mlo.0001-02-01-34800.nc:   0%|          | 0.00/1.13M [00:00<?, ?B/s]"
      ]
     },
     "metadata": {},
     "output_type": "display_data"
    },
    {
     "data": {
      "application/vnd.jupyter.widget-view+json": {
       "model_id": "e5517848dc0842549d679a73f4d92757",
       "version_major": 2,
       "version_minor": 0
      },
      "text/plain": [
       "(…)0001-02/E3SM-MMF.mlo.0001-02-01-36000.nc:   0%|          | 0.00/1.13M [00:00<?, ?B/s]"
      ]
     },
     "metadata": {},
     "output_type": "display_data"
    },
    {
     "data": {
      "application/vnd.jupyter.widget-view+json": {
       "model_id": "2b3e396d0c9f48cd90b9379231e365a9",
       "version_major": 2,
       "version_minor": 0
      },
      "text/plain": [
       "(…)0001-02/E3SM-MMF.mlo.0001-02-01-37200.nc:   0%|          | 0.00/1.13M [00:00<?, ?B/s]"
      ]
     },
     "metadata": {},
     "output_type": "display_data"
    },
    {
     "data": {
      "application/vnd.jupyter.widget-view+json": {
       "model_id": "1ce7344413da4dda86e4bed589a52cfb",
       "version_major": 2,
       "version_minor": 0
      },
      "text/plain": [
       "(…)0001-02/E3SM-MMF.mlo.0001-02-01-38400.nc:   0%|          | 0.00/1.13M [00:00<?, ?B/s]"
      ]
     },
     "metadata": {},
     "output_type": "display_data"
    },
    {
     "data": {
      "application/vnd.jupyter.widget-view+json": {
       "model_id": "c0c40cd3f00e44a5942335f815b94a35",
       "version_major": 2,
       "version_minor": 0
      },
      "text/plain": [
       "(…)0001-02/E3SM-MMF.mlo.0001-02-01-42000.nc:   0%|          | 0.00/1.13M [00:00<?, ?B/s]"
      ]
     },
     "metadata": {},
     "output_type": "display_data"
    },
    {
     "data": {
      "application/vnd.jupyter.widget-view+json": {
       "model_id": "4429bc9749c44bfc93a401d38a6b53a7",
       "version_major": 2,
       "version_minor": 0
      },
      "text/plain": [
       "(…)0001-02/E3SM-MMF.mlo.0001-02-01-39600.nc:   0%|          | 0.00/1.13M [00:00<?, ?B/s]"
      ]
     },
     "metadata": {},
     "output_type": "display_data"
    },
    {
     "data": {
      "application/vnd.jupyter.widget-view+json": {
       "model_id": "035042c9bbaf458695b09db8aa0588c7",
       "version_major": 2,
       "version_minor": 0
      },
      "text/plain": [
       "(…)0001-02/E3SM-MMF.mlo.0001-02-01-40800.nc:   0%|          | 0.00/1.13M [00:00<?, ?B/s]"
      ]
     },
     "metadata": {},
     "output_type": "display_data"
    },
    {
     "data": {
      "application/vnd.jupyter.widget-view+json": {
       "model_id": "b21c84e7c6b74242a7f9422fca795f25",
       "version_major": 2,
       "version_minor": 0
      },
      "text/plain": [
       "(…)0001-02/E3SM-MMF.mlo.0001-02-01-44400.nc:   0%|          | 0.00/1.13M [00:00<?, ?B/s]"
      ]
     },
     "metadata": {},
     "output_type": "display_data"
    },
    {
     "data": {
      "application/vnd.jupyter.widget-view+json": {
       "model_id": "172a4137688c4dd88cb304b7409fb719",
       "version_major": 2,
       "version_minor": 0
      },
      "text/plain": [
       "(…)0001-02/E3SM-MMF.mlo.0001-02-01-43200.nc:   0%|          | 0.00/1.13M [00:00<?, ?B/s]"
      ]
     },
     "metadata": {},
     "output_type": "display_data"
    },
    {
     "data": {
      "application/vnd.jupyter.widget-view+json": {
       "model_id": "99c5bcc64e09434d9924e74f711fdb42",
       "version_major": 2,
       "version_minor": 0
      },
      "text/plain": [
       "(…)0001-02/E3SM-MMF.mlo.0001-02-01-45600.nc:   0%|          | 0.00/1.13M [00:00<?, ?B/s]"
      ]
     },
     "metadata": {},
     "output_type": "display_data"
    },
    {
     "data": {
      "application/vnd.jupyter.widget-view+json": {
       "model_id": "b429105847064cfd8992e726b224c42b",
       "version_major": 2,
       "version_minor": 0
      },
      "text/plain": [
       "(…)0001-02/E3SM-MMF.mlo.0001-02-01-46800.nc:   0%|          | 0.00/1.13M [00:00<?, ?B/s]"
      ]
     },
     "metadata": {},
     "output_type": "display_data"
    },
    {
     "data": {
      "application/vnd.jupyter.widget-view+json": {
       "model_id": "bdcb85bf42d5497491212df4a683d24a",
       "version_major": 2,
       "version_minor": 0
      },
      "text/plain": [
       "(…)0001-02/E3SM-MMF.mlo.0001-02-01-48000.nc:   0%|          | 0.00/1.13M [00:00<?, ?B/s]"
      ]
     },
     "metadata": {},
     "output_type": "display_data"
    },
    {
     "data": {
      "application/vnd.jupyter.widget-view+json": {
       "model_id": "0ac716f6ae2e47fb95e31041449f39b0",
       "version_major": 2,
       "version_minor": 0
      },
      "text/plain": [
       "(…)0001-02/E3SM-MMF.mlo.0001-02-01-49200.nc:   0%|          | 0.00/1.13M [00:00<?, ?B/s]"
      ]
     },
     "metadata": {},
     "output_type": "display_data"
    },
    {
     "data": {
      "application/vnd.jupyter.widget-view+json": {
       "model_id": "809d5e627fcf461085c64b5b1c990d41",
       "version_major": 2,
       "version_minor": 0
      },
      "text/plain": [
       "(…)0001-02/E3SM-MMF.mlo.0001-02-01-50400.nc:   0%|          | 0.00/1.13M [00:00<?, ?B/s]"
      ]
     },
     "metadata": {},
     "output_type": "display_data"
    },
    {
     "data": {
      "application/vnd.jupyter.widget-view+json": {
       "model_id": "a2d4641340c246689c0b728b2ba0a978",
       "version_major": 2,
       "version_minor": 0
      },
      "text/plain": [
       "(…)0001-02/E3SM-MMF.mlo.0001-02-01-51600.nc:   0%|          | 0.00/1.13M [00:00<?, ?B/s]"
      ]
     },
     "metadata": {},
     "output_type": "display_data"
    },
    {
     "data": {
      "application/vnd.jupyter.widget-view+json": {
       "model_id": "28264fcc3f8440e1913d72ec18a2b8f1",
       "version_major": 2,
       "version_minor": 0
      },
      "text/plain": [
       "(…)0001-02/E3SM-MMF.mlo.0001-02-01-54000.nc:   0%|          | 0.00/1.13M [00:00<?, ?B/s]"
      ]
     },
     "metadata": {},
     "output_type": "display_data"
    },
    {
     "data": {
      "application/vnd.jupyter.widget-view+json": {
       "model_id": "a08d8f29f59f4c3e897c9bc3800df021",
       "version_major": 2,
       "version_minor": 0
      },
      "text/plain": [
       "(…)0001-02/E3SM-MMF.mlo.0001-02-01-52800.nc:   0%|          | 0.00/1.13M [00:00<?, ?B/s]"
      ]
     },
     "metadata": {},
     "output_type": "display_data"
    },
    {
     "data": {
      "application/vnd.jupyter.widget-view+json": {
       "model_id": "f9baa4524544480cbbb8a299b52afee5",
       "version_major": 2,
       "version_minor": 0
      },
      "text/plain": [
       "(…)0001-02/E3SM-MMF.mlo.0001-02-01-55200.nc:   0%|          | 0.00/1.13M [00:00<?, ?B/s]"
      ]
     },
     "metadata": {},
     "output_type": "display_data"
    },
    {
     "data": {
      "application/vnd.jupyter.widget-view+json": {
       "model_id": "f9e26231f2584535b6d3d5a7c3948118",
       "version_major": 2,
       "version_minor": 0
      },
      "text/plain": [
       "(…)0001-02/E3SM-MMF.mlo.0001-02-01-56400.nc:   0%|          | 0.00/1.13M [00:00<?, ?B/s]"
      ]
     },
     "metadata": {},
     "output_type": "display_data"
    },
    {
     "data": {
      "application/vnd.jupyter.widget-view+json": {
       "model_id": "47c4f71413be485793eb10b5d34e2a98",
       "version_major": 2,
       "version_minor": 0
      },
      "text/plain": [
       "(…)0001-02/E3SM-MMF.mlo.0001-02-01-57600.nc:   0%|          | 0.00/1.13M [00:00<?, ?B/s]"
      ]
     },
     "metadata": {},
     "output_type": "display_data"
    },
    {
     "data": {
      "application/vnd.jupyter.widget-view+json": {
       "model_id": "c4a311bdeb3a46d9afa6f2571473f8f7",
       "version_major": 2,
       "version_minor": 0
      },
      "text/plain": [
       "(…)0001-02/E3SM-MMF.mlo.0001-02-01-58800.nc:   0%|          | 0.00/1.13M [00:00<?, ?B/s]"
      ]
     },
     "metadata": {},
     "output_type": "display_data"
    },
    {
     "data": {
      "application/vnd.jupyter.widget-view+json": {
       "model_id": "c806a92b25d7460d8a4392e6af038432",
       "version_major": 2,
       "version_minor": 0
      },
      "text/plain": [
       "(…)0001-02/E3SM-MMF.mlo.0001-02-01-60000.nc:   0%|          | 0.00/1.13M [00:00<?, ?B/s]"
      ]
     },
     "metadata": {},
     "output_type": "display_data"
    },
    {
     "data": {
      "application/vnd.jupyter.widget-view+json": {
       "model_id": "97591fd2465a4214bdc01cf121822b78",
       "version_major": 2,
       "version_minor": 0
      },
      "text/plain": [
       "(…)0001-02/E3SM-MMF.mlo.0001-02-01-61200.nc:   0%|          | 0.00/1.13M [00:00<?, ?B/s]"
      ]
     },
     "metadata": {},
     "output_type": "display_data"
    },
    {
     "data": {
      "application/vnd.jupyter.widget-view+json": {
       "model_id": "2cb79a11b5be4d79b95564c61c4bb89e",
       "version_major": 2,
       "version_minor": 0
      },
      "text/plain": [
       "(…)0001-02/E3SM-MMF.mlo.0001-02-01-62400.nc:   0%|          | 0.00/1.13M [00:00<?, ?B/s]"
      ]
     },
     "metadata": {},
     "output_type": "display_data"
    },
    {
     "data": {
      "application/vnd.jupyter.widget-view+json": {
       "model_id": "1339f6ee06494c05af5640c73553b9db",
       "version_major": 2,
       "version_minor": 0
      },
      "text/plain": [
       "(…)0001-02/E3SM-MMF.mlo.0001-02-01-63600.nc:   0%|          | 0.00/1.13M [00:00<?, ?B/s]"
      ]
     },
     "metadata": {},
     "output_type": "display_data"
    },
    {
     "data": {
      "application/vnd.jupyter.widget-view+json": {
       "model_id": "6921f161a928415d93409d0af01721f5",
       "version_major": 2,
       "version_minor": 0
      },
      "text/plain": [
       "(…)0001-02/E3SM-MMF.mlo.0001-02-01-64800.nc:   0%|          | 0.00/1.13M [00:00<?, ?B/s]"
      ]
     },
     "metadata": {},
     "output_type": "display_data"
    },
    {
     "data": {
      "application/vnd.jupyter.widget-view+json": {
       "model_id": "2fed558121e941099273b635a6da0394",
       "version_major": 2,
       "version_minor": 0
      },
      "text/plain": [
       "(…)0001-02/E3SM-MMF.mlo.0001-02-01-67200.nc:   0%|          | 0.00/1.13M [00:00<?, ?B/s]"
      ]
     },
     "metadata": {},
     "output_type": "display_data"
    },
    {
     "data": {
      "application/vnd.jupyter.widget-view+json": {
       "model_id": "a26c824c13df49bb97e22acbaba3b29a",
       "version_major": 2,
       "version_minor": 0
      },
      "text/plain": [
       "(…)0001-02/E3SM-MMF.mlo.0001-02-01-69600.nc:   0%|          | 0.00/1.13M [00:00<?, ?B/s]"
      ]
     },
     "metadata": {},
     "output_type": "display_data"
    },
    {
     "data": {
      "application/vnd.jupyter.widget-view+json": {
       "model_id": "96ad62473199417aa99493aaee651557",
       "version_major": 2,
       "version_minor": 0
      },
      "text/plain": [
       "(…)0001-02/E3SM-MMF.mlo.0001-02-01-66000.nc:   0%|          | 0.00/1.13M [00:00<?, ?B/s]"
      ]
     },
     "metadata": {},
     "output_type": "display_data"
    },
    {
     "data": {
      "application/vnd.jupyter.widget-view+json": {
       "model_id": "9bb5fdb61d5444acbad3c8e786e823a8",
       "version_major": 2,
       "version_minor": 0
      },
      "text/plain": [
       "(…)0001-02/E3SM-MMF.mlo.0001-02-01-73200.nc:   0%|          | 0.00/1.13M [00:00<?, ?B/s]"
      ]
     },
     "metadata": {},
     "output_type": "display_data"
    },
    {
     "data": {
      "application/vnd.jupyter.widget-view+json": {
       "model_id": "596f8ea16eb34b65a6547f6d04d3bfdc",
       "version_major": 2,
       "version_minor": 0
      },
      "text/plain": [
       "(…)0001-02/E3SM-MMF.mlo.0001-02-01-68400.nc:   0%|          | 0.00/1.13M [00:00<?, ?B/s]"
      ]
     },
     "metadata": {},
     "output_type": "display_data"
    },
    {
     "data": {
      "application/vnd.jupyter.widget-view+json": {
       "model_id": "5f90109c7f9f48b28eb44d0ac2d0669b",
       "version_major": 2,
       "version_minor": 0
      },
      "text/plain": [
       "(…)0001-02/E3SM-MMF.mlo.0001-02-01-70800.nc:   0%|          | 0.00/1.13M [00:00<?, ?B/s]"
      ]
     },
     "metadata": {},
     "output_type": "display_data"
    },
    {
     "data": {
      "application/vnd.jupyter.widget-view+json": {
       "model_id": "c22254d34a3f4d7585409aed35eca400",
       "version_major": 2,
       "version_minor": 0
      },
      "text/plain": [
       "(…)0001-02/E3SM-MMF.mlo.0001-02-01-72000.nc:   0%|          | 0.00/1.13M [00:00<?, ?B/s]"
      ]
     },
     "metadata": {},
     "output_type": "display_data"
    },
    {
     "data": {
      "application/vnd.jupyter.widget-view+json": {
       "model_id": "830425b9425f41e1ab5c5f672d5dc01f",
       "version_major": 2,
       "version_minor": 0
      },
      "text/plain": [
       "(…)0001-02/E3SM-MMF.mlo.0001-02-01-74400.nc:   0%|          | 0.00/1.13M [00:00<?, ?B/s]"
      ]
     },
     "metadata": {},
     "output_type": "display_data"
    },
    {
     "data": {
      "application/vnd.jupyter.widget-view+json": {
       "model_id": "eeda944c0fa240ec8db977a0e1c940e0",
       "version_major": 2,
       "version_minor": 0
      },
      "text/plain": [
       "(…)0001-02/E3SM-MMF.mlo.0001-02-01-80400.nc:   0%|          | 0.00/1.13M [00:00<?, ?B/s]"
      ]
     },
     "metadata": {},
     "output_type": "display_data"
    },
    {
     "data": {
      "application/vnd.jupyter.widget-view+json": {
       "model_id": "5f2a84ab5f044acaa579befa1013381c",
       "version_major": 2,
       "version_minor": 0
      },
      "text/plain": [
       "(…)0001-02/E3SM-MMF.mlo.0001-02-01-78000.nc:   0%|          | 0.00/1.13M [00:00<?, ?B/s]"
      ]
     },
     "metadata": {},
     "output_type": "display_data"
    },
    {
     "data": {
      "application/vnd.jupyter.widget-view+json": {
       "model_id": "5ba272fb81ac494ea89c5a4991f0a96c",
       "version_major": 2,
       "version_minor": 0
      },
      "text/plain": [
       "(…)0001-02/E3SM-MMF.mlo.0001-02-01-75600.nc:   0%|          | 0.00/1.13M [00:00<?, ?B/s]"
      ]
     },
     "metadata": {},
     "output_type": "display_data"
    },
    {
     "data": {
      "application/vnd.jupyter.widget-view+json": {
       "model_id": "7541211acbcd462ca42b904d80ca5b82",
       "version_major": 2,
       "version_minor": 0
      },
      "text/plain": [
       "(…)0001-02/E3SM-MMF.mlo.0001-02-01-76800.nc:   0%|          | 0.00/1.13M [00:00<?, ?B/s]"
      ]
     },
     "metadata": {},
     "output_type": "display_data"
    },
    {
     "data": {
      "application/vnd.jupyter.widget-view+json": {
       "model_id": "7e53f34fbd2a44b2b903ca98ed432532",
       "version_major": 2,
       "version_minor": 0
      },
      "text/plain": [
       "(…)0001-02/E3SM-MMF.mlo.0001-02-01-81600.nc:   0%|          | 0.00/1.13M [00:00<?, ?B/s]"
      ]
     },
     "metadata": {},
     "output_type": "display_data"
    },
    {
     "data": {
      "application/vnd.jupyter.widget-view+json": {
       "model_id": "d0fdaba451724c5fbd1dabccae26add7",
       "version_major": 2,
       "version_minor": 0
      },
      "text/plain": [
       "(…)0001-02/E3SM-MMF.mlo.0001-02-01-79200.nc:   0%|          | 0.00/1.13M [00:00<?, ?B/s]"
      ]
     },
     "metadata": {},
     "output_type": "display_data"
    },
    {
     "data": {
      "application/vnd.jupyter.widget-view+json": {
       "model_id": "719275ae9c474caca8024b8c79f9cade",
       "version_major": 2,
       "version_minor": 0
      },
      "text/plain": [
       "(…)0001-02/E3SM-MMF.mlo.0001-02-01-82800.nc:   0%|          | 0.00/1.13M [00:00<?, ?B/s]"
      ]
     },
     "metadata": {},
     "output_type": "display_data"
    },
    {
     "data": {
      "application/vnd.jupyter.widget-view+json": {
       "model_id": "6c520d2573d446bdae60ef55879af745",
       "version_major": 2,
       "version_minor": 0
      },
      "text/plain": [
       "(…)0001-02/E3SM-MMF.mlo.0001-02-01-84000.nc:   0%|          | 0.00/1.13M [00:00<?, ?B/s]"
      ]
     },
     "metadata": {},
     "output_type": "display_data"
    },
    {
     "data": {
      "application/vnd.jupyter.widget-view+json": {
       "model_id": "29a428900e5e486eb479777d751de184",
       "version_major": 2,
       "version_minor": 0
      },
      "text/plain": [
       "(…)0001-02/E3SM-MMF.mlo.0001-02-01-85200.nc:   0%|          | 0.00/1.13M [00:00<?, ?B/s]"
      ]
     },
     "metadata": {},
     "output_type": "display_data"
    }
   ],
   "source": [
    "# Download\n",
    "download_path = snapshot_download(\n",
    "    repo_id=\"LEAP/ClimSim_low-res\",\n",
    "    allow_patterns=str(\n",
    "        month_dir / \"*0001-02-01-*.nc\"\n",
    "    ),  # 本当は全部使うがデバッグ用に一日だけ\n",
    "    local_dir=TMP_DIR,\n",
    "    local_dir_use_symlinks=False,  # キャッシュしない\n",
    "    repo_type=\"dataset\",\n",
    ")"
   ]
  },
  {
   "cell_type": "code",
   "execution_count": 28,
   "id": "cec94c3c-7613-45c5-974a-1d7878739b3a",
   "metadata": {},
   "outputs": [],
   "source": [
    "input_paths = glob(str(TMP_DIR / month_dir / \"*.mli.*.nc\"))"
   ]
  },
  {
   "cell_type": "code",
   "execution_count": 29,
   "id": "3effa77d-cdcd-43ca-8719-fd29088cd5c9",
   "metadata": {},
   "outputs": [],
   "source": [
    "input_path = input_paths[0]\n",
    "input_data, output_data = data.gen(input_path)"
   ]
  },
  {
   "cell_type": "code",
   "execution_count": 30,
   "id": "62782e5a-7cb6-42c9-bcce-7d9d95325cea",
   "metadata": {
    "scrolled": true
   },
   "outputs": [
    {
     "data": {
      "text/plain": [
       "((384, 557), (384, 368))"
      ]
     },
     "execution_count": 30,
     "metadata": {},
     "output_type": "execute_result"
    }
   ],
   "source": [
    "input_data.shape, output_data.shape"
   ]
  },
  {
   "cell_type": "code",
   "execution_count": 32,
   "id": "56b9fa11-77af-4b58-ac3c-88d9e4328b49",
   "metadata": {},
   "outputs": [
    {
     "data": {
      "text/plain": [
       "PosixPath('/kaggle/working/tmp/shards_0001-02')"
      ]
     },
     "execution_count": 32,
     "metadata": {},
     "output_type": "execute_result"
    }
   ],
   "source": [
    "shard_path = TMP_DIR / f\"shards_{month_dir.name}\"\n",
    "shard_path"
   ]
  },
  {
   "cell_type": "code",
   "execution_count": 37,
   "id": "a3bf784f-3727-42dd-a1ca-009742045935",
   "metadata": {
    "scrolled": true
   },
   "outputs": [
    {
     "name": "stdout",
     "output_type": "stream",
     "text": [
      "# writing /kaggle/working/tmp/shards_0001-02/shards-00000.tar 0 0.0 GB 0\n"
     ]
    },
    {
     "data": {
      "application/vnd.jupyter.widget-view+json": {
       "model_id": "f87cec3a89184dee8e7aeeb59750afdf",
       "version_major": 2,
       "version_minor": 0
      },
      "text/plain": [
       "  0%|          | 0/72 [00:00<?, ?it/s]"
      ]
     },
     "metadata": {},
     "output_type": "display_data"
    },
    {
     "name": "stdout",
     "output_type": "stream",
     "text": [
      "# writing /kaggle/working/tmp/shards_0001-02/shards-00001.tar 6496 0.1 GB 6496\n",
      "# writing /kaggle/working/tmp/shards_0001-02/shards-00002.tar 6496 0.1 GB 12992\n",
      "# writing /kaggle/working/tmp/shards_0001-02/shards-00003.tar 6496 0.1 GB 19488\n",
      "# writing /kaggle/working/tmp/shards_0001-02/shards-00004.tar 6496 0.1 GB 25984\n"
     ]
    }
   ],
   "source": [
    "if os.path.exists(shard_path):\n",
    "    shutil.rmtree(shard_path)\n",
    "shard_path.mkdir(exist_ok=True)\n",
    "shard_filename = str(shard_path / \"shards-%05d.tar\")\n",
    "\n",
    "shard_size = int(50 * 1000**2)  # 50MB each\n",
    "\n",
    "dataset_size = 0\n",
    "with wds.ShardWriter(shard_filename, maxsize=shard_size, maxcount=1e7) as sink, tqdm(\n",
    "    input_paths\n",
    ") as pbar:\n",
    "\n",
    "    for input_path in pbar:\n",
    "        input_data, output_data = data.gen(input_path)\n",
    "\n",
    "        for i in range(len(input_data)):\n",
    "            input_path = Path(input_path)\n",
    "            month_text = input_path.parent.name\n",
    "            file_name_text = input_path.name\n",
    "\n",
    "            write_obj = {\n",
    "                \"__key__\": f\"{file_name_text}_{i}\",\n",
    "                \"file_name_text.txt\": file_name_text,\n",
    "                \"id\": i,\n",
    "                \"month.txt\": month_text,\n",
    "                \"input.npy\": input_data[i, :],\n",
    "                \"output.npy\": output_data[i, :],\n",
    "            }\n",
    "\n",
    "            sink.write(write_obj)\n",
    "        dataset_size += len(input_data)"
   ]
  },
  {
   "cell_type": "code",
   "execution_count": 38,
   "id": "467a9bbd-a546-4716-9e78-792b04e287da",
   "metadata": {},
   "outputs": [
    {
     "data": {
      "text/plain": [
       "27648"
      ]
     },
     "execution_count": 38,
     "metadata": {},
     "output_type": "execute_result"
    }
   ],
   "source": [
    "dataset_size"
   ]
  },
  {
   "cell_type": "code",
   "execution_count": 39,
   "id": "17fd162a-15d0-46b8-a22c-fc27ddd2b3e2",
   "metadata": {},
   "outputs": [],
   "source": [
    "with open(str(shard_path / \"dataset-size.json\"), \"w\") as fp:\n",
    "    json.dump(\n",
    "        {\n",
    "            \"dataset size\": dataset_size,\n",
    "        },\n",
    "        fp,\n",
    "    )"
   ]
  },
  {
   "cell_type": "code",
   "execution_count": 40,
   "id": "dbc1cb07-815d-4b47-8f6b-dade86cac989",
   "metadata": {},
   "outputs": [],
   "source": [
    "from google.cloud import storage"
   ]
  },
  {
   "cell_type": "code",
   "execution_count": 52,
   "id": "9346dd28-7499-4d5f-8c31-d4a9a8a3054e",
   "metadata": {},
   "outputs": [],
   "source": [
    "from tqdm.auto import tqdm\n",
    "\n",
    "\n",
    "def upload_directory_to_gcs(local_directory, bucket_name, gcs_directory):\n",
    "    client = storage.Client()\n",
    "    bucket = client.get_bucket(bucket_name)\n",
    "\n",
    "    files_to_upload = []\n",
    "    for root, dirs, files in os.walk(local_directory):\n",
    "        for file in files:\n",
    "            local_file_path = os.path.join(root, file)\n",
    "            gcs_file_path = os.path.join(\n",
    "                gcs_directory, os.path.relpath(local_file_path, local_directory)\n",
    "            )\n",
    "            files_to_upload.append((local_file_path, gcs_file_path))\n",
    "\n",
    "    progress_bar = tqdm(total=len(files_to_upload), unit=\"file\")\n",
    "\n",
    "    for local_file_path, gcs_file_path in files_to_upload:\n",
    "        blob = bucket.blob(gcs_file_path)\n",
    "        blob.upload_from_filename(local_file_path, if_generation_match=None)\n",
    "        progress_bar.update(1)\n",
    "        progress_bar.set_postfix(file=os.path.basename(local_file_path))\n",
    "\n",
    "    progress_bar.close()\n",
    "    print(f\"All files uploaded successfully to {gcs_directory}.\")"
   ]
  },
  {
   "cell_type": "code",
   "execution_count": 53,
   "id": "b32d69ea-87a8-4bf2-8f05-9031363445b7",
   "metadata": {},
   "outputs": [
    {
     "data": {
      "application/vnd.jupyter.widget-view+json": {
       "model_id": "71ee382e402b48ef82fbcfb09076cb9e",
       "version_major": 2,
       "version_minor": 0
      },
      "text/plain": [
       "  0%|          | 0/6 [00:00<?, ?file/s]"
      ]
     },
     "metadata": {},
     "output_type": "display_data"
    },
    {
     "name": "stdout",
     "output_type": "stream",
     "text": [
      "All files uploaded successfully to kami/notebook/base/shards_0001-02.\n"
     ]
    }
   ],
   "source": [
    "upload_directory_to_gcs(\n",
    "    shard_path,\n",
    "    cfg.dir.gcs_bucket,\n",
    "    str(Path(cfg.dir.gcs_base_dir) / exp_name / shard_path.name),\n",
    ")"
   ]
  },
  {
   "cell_type": "code",
   "execution_count": 51,
   "id": "932f9a52-931e-4b14-aaca-8e97ea54747f",
   "metadata": {},
   "outputs": [
    {
     "data": {
      "text/plain": [
       "'kami/notebook/base/shards_0001-02'"
      ]
     },
     "execution_count": 51,
     "metadata": {},
     "output_type": "execute_result"
    }
   ],
   "source": [
    "str(Path(cfg.dir.gcs_base_dir) / exp_name / shard_path.name)"
   ]
  },
  {
   "cell_type": "code",
   "execution_count": null,
   "id": "a9aeb77e-0d3c-4ff8-a0f7-4fee2f2f3193",
   "metadata": {},
   "outputs": [],
   "source": []
  },
  {
   "cell_type": "code",
   "execution_count": null,
   "id": "ef6be3aa-35b2-42d4-a813-67d9c3fd8f4d",
   "metadata": {},
   "outputs": [],
   "source": []
  }
 ],
 "metadata": {
  "kernelspec": {
   "display_name": "Python 3 (ipykernel) (Local)",
   "language": "python",
   "name": "python3"
  },
  "language_info": {
   "codemirror_mode": {
    "name": "ipython",
    "version": 3
   },
   "file_extension": ".py",
   "mimetype": "text/x-python",
   "name": "python",
   "nbconvert_exporter": "python",
   "pygments_lexer": "ipython3",
   "version": "3.10.13"
  }
 },
 "nbformat": 4,
 "nbformat_minor": 5
}
