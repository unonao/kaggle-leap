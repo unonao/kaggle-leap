{
 "cells": [
  {
   "cell_type": "code",
   "execution_count": 3,
   "id": "b0d5d961-b547-4e4f-a844-a0ddd5f3cad4",
   "metadata": {},
   "outputs": [],
   "source": [
    "config_dir = \"../experiments\"\n",
    "exp_name = \"201_unet_multi/all\""
   ]
  },
  {
   "cell_type": "code",
   "execution_count": 4,
   "id": "130b4dc6-59a2-4979-885f-e9bfa47df9e5",
   "metadata": {},
   "outputs": [
    {
     "name": "stdout",
     "output_type": "stream",
     "text": [
      "/kaggle/working\n",
      "r2:  0.7815333871933391\n"
     ]
    }
   ],
   "source": [
    "%cd /kaggle/working\n",
    "\n",
    "import pickle\n",
    "from pathlib import Path\n",
    "\n",
    "import matplotlib.pyplot as plt\n",
    "import numpy as np\n",
    "import pandas as pd\n",
    "import polars as pl\n",
    "import seaborn as sns\n",
    "from hydra import compose, initialize\n",
    "from omegaconf import OmegaConf\n",
    "\n",
    "from utils.metric import score\n",
    "\n",
    "with initialize(\n",
    "    version_base=None, config_path=f\"{config_dir}/{exp_name.split('/')[0]}\"\n",
    "):\n",
    "    cfg = compose(\n",
    "        config_name=\"config.yaml\",\n",
    "        overrides=[f\"exp={exp_name.split('/')[-1]}\"],\n",
    "        return_hydra_config=True,\n",
    "    )\n",
    "\n",
    "# 定数定義\n",
    "output_dir = Path(f\"output/experiments/{exp_name}\")\n",
    "gcs_path = f\"gs://{cfg.dir.gcs_bucket}/{cfg.dir.gcs_base_dir}/experiments/{exp_name}/\"\n",
    "\n",
    "# 結果などの読み込み\n",
    "r2_score_dict = pickle.load(open(output_dir / \"val2_r2_score_dict.pkl\", \"rb\"))\n",
    "print(\"r2: \", np.mean(list(r2_score_dict.values())))"
   ]
  },
  {
   "cell_type": "code",
   "execution_count": 5,
   "id": "cd1e75d1-454f-4c4b-b9bd-f18fb9bdaf97",
   "metadata": {},
   "outputs": [],
   "source": [
    "predict_df = pl.read_parquet(gcs_path + \"val2_predict.parquet\", retries=5)\n",
    "label_df = pl.read_parquet(gcs_path + \"val2_label.parquet\", retries=5)\n",
    "ss_df = pl.read_csv(\n",
    "    \"input/leap-atmospheric-physics-ai-climsim/sample_submission.csv\", n_rows=1\n",
    ")\n",
    "weight_array = ss_df.select([x for x in ss_df.columns if x != \"sample_id\"]).to_numpy()[\n",
    "    0\n",
    "]"
   ]
  },
  {
   "cell_type": "code",
   "execution_count": 41,
   "id": "89ea941a-4d21-479a-8c28-7ffd1148ee87",
   "metadata": {},
   "outputs": [
    {
     "name": "stdout",
     "output_type": "stream",
     "text": [
      "r2_score=0.7815333871933391\n"
     ]
    }
   ],
   "source": [
    "# 通常\n",
    "preds = predict_df[:, 1:].to_numpy()\n",
    "labels = label_df[:, 1:].to_numpy()\n",
    "_predict_df = pd.DataFrame(\n",
    "    preds * weight_array, columns=[i for i in range(preds.shape[1])]\n",
    ").reset_index()\n",
    "_label_df = pd.DataFrame(\n",
    "    labels * weight_array, columns=[i for i in range(labels.shape[1])]\n",
    ").reset_index()\n",
    "r2_scores = score(_label_df, _predict_df, \"index\", multioutput=\"raw_values\")\n",
    "\n",
    "r2_score = float(np.array(r2_scores).mean())\n",
    "print(f\"{r2_score=}\")"
   ]
  },
  {
   "cell_type": "code",
   "execution_count": 42,
   "id": "a25616c1-a91e-46f7-820d-cd262193e734",
   "metadata": {},
   "outputs": [
    {
     "data": {
      "text/plain": [
       "array([1., 1., 1., 1., 1., 1., 1., 1., 1., 1.])"
      ]
     },
     "execution_count": 42,
     "metadata": {},
     "output_type": "execute_result"
    }
   ],
   "source": [
    "r2_scores[132:142]"
   ]
  },
  {
   "cell_type": "code",
   "execution_count": 44,
   "id": "1a82fb1e-1557-4a32-a29a-d41cdbbf4047",
   "metadata": {},
   "outputs": [
    {
     "name": "stdout",
     "output_type": "stream",
     "text": [
      "r2_score=0.7538482690839238\n"
     ]
    }
   ],
   "source": [
    "# 10個の後処理結果を0埋めに変換\n",
    "\n",
    "preds = predict_df[:, 1:].to_numpy()\n",
    "preds[:, 132:142] = 0\n",
    "labels = label_df[:, 1:].to_numpy()\n",
    "_predict_df = pd.DataFrame(\n",
    "    preds * weight_array, columns=[i for i in range(preds.shape[1])]\n",
    ").reset_index()\n",
    "_label_df = pd.DataFrame(\n",
    "    labels * weight_array, columns=[i for i in range(labels.shape[1])]\n",
    ").reset_index()\n",
    "r2_scores = score(_label_df, _predict_df, \"index\", multioutput=\"raw_values\")\n",
    "\n",
    "r2_score = float(np.array(r2_scores).mean())\n",
    "print(f\"{r2_score=}\")"
   ]
  },
  {
   "cell_type": "code",
   "execution_count": 47,
   "id": "37dfb4b7-6947-4b81-b894-f69eda04ef40",
   "metadata": {},
   "outputs": [
    {
     "data": {
      "text/plain": [
       "0.027685118109415333"
      ]
     },
     "execution_count": 47,
     "metadata": {},
     "output_type": "execute_result"
    }
   ],
   "source": [
    "(1-r2_scores[132:142]).sum()/368"
   ]
  },
  {
   "cell_type": "code",
   "execution_count": 48,
   "id": "d645bc55-cd0a-4ee7-bdf7-841893a92af0",
   "metadata": {},
   "outputs": [
    {
     "data": {
      "text/plain": [
       "0.7815333871933391"
      ]
     },
     "execution_count": 48,
     "metadata": {},
     "output_type": "execute_result"
    }
   ],
   "source": [
    "(1-r2_scores[132:142]).sum()/368 + 0.7538482690839238"
   ]
  },
  {
   "cell_type": "code",
   "execution_count": null,
   "id": "248f34b9-1cd2-460d-8a15-a6a794858b38",
   "metadata": {},
   "outputs": [],
   "source": []
  }
 ],
 "metadata": {
  "kernelspec": {
   "display_name": "Python 3 (ipykernel) (Local)",
   "language": "python",
   "name": "python3"
  },
  "language_info": {
   "codemirror_mode": {
    "name": "ipython",
    "version": 3
   },
   "file_extension": ".py",
   "mimetype": "text/x-python",
   "name": "python",
   "nbconvert_exporter": "python",
   "pygments_lexer": "ipython3",
   "version": "3.10.13"
  }
 },
 "nbformat": 4,
 "nbformat_minor": 5
}
