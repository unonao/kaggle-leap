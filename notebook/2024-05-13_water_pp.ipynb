{
 "cells": [
  {
   "cell_type": "code",
   "execution_count": 1,
   "id": "ef4e05b5-00c1-44bd-91e8-bddd2cf166e2",
   "metadata": {},
   "outputs": [
    {
     "name": "stdout",
     "output_type": "stream",
     "text": [
      "/kaggle/working\n"
     ]
    }
   ],
   "source": [
    "%cd /kaggle/working\n",
    "\n",
    "import os\n",
    "\n",
    "from hydra import compose, initialize\n",
    "from omegaconf import OmegaConf\n",
    "\n",
    "with initialize(version_base=None, config_path=\"../experiments/032_feature_channel\"):\n",
    "    cfg = compose(\n",
    "        config_name=\"config.yaml\", overrides=[\"debug=True\"], return_hydra_config=True\n",
    "    )"
   ]
  },
  {
   "cell_type": "code",
   "execution_count": 2,
   "id": "202b8ca1-ed62-4687-ae9e-20a300dc82ea",
   "metadata": {},
   "outputs": [],
   "source": [
    "import gc\n",
    "import glob\n",
    "import json\n",
    "import math\n",
    "import os\n",
    "import pickle\n",
    "import random\n",
    "import shutil\n",
    "import sys\n",
    "import time\n",
    "from pathlib import Path\n",
    "\n",
    "import hydra\n",
    "import numpy as np\n",
    "import pandas as pd\n",
    "import polars as pl\n",
    "import torch\n",
    "import torch.nn as nn\n",
    "import torch.nn.functional as F\n",
    "import webdataset as wds\n",
    "from google.cloud import storage\n",
    "from hydra.core.hydra_config import HydraConfig\n",
    "from omegaconf import DictConfig, OmegaConf\n",
    "from pytorch_lightning import (\n",
    "    LightningDataModule,\n",
    "    LightningModule,\n",
    "    Trainer,\n",
    "    seed_everything,\n",
    ")\n",
    "from pytorch_lightning.callbacks import (\n",
    "    EarlyStopping,\n",
    "    LearningRateMonitor,\n",
    "    ModelCheckpoint,\n",
    "    RichModelSummary,\n",
    "    RichProgressBar,\n",
    ")\n",
    "from pytorch_lightning.loggers import WandbLogger\n",
    "from sklearn.metrics import r2_score\n",
    "from timm.utils import ModelEmaV2\n",
    "from torch import nn\n",
    "from torch.utils.data import DataLoader, Dataset\n",
    "from tqdm import tqdm\n",
    "from transformers import get_cosine_schedule_with_warmup\n",
    "\n",
    "import utils\n",
    "import wandb\n",
    "from utils.metric import score"
   ]
  },
  {
   "cell_type": "code",
   "execution_count": 3,
   "id": "f49dc9ff-24d5-4812-8e52-826b50f5bf6b",
   "metadata": {},
   "outputs": [
    {
     "name": "stdout",
     "output_type": "stream",
     "text": [
      "exp_name: notebook/base\n",
      "ouput_path: /kaggle/working/output/notebook/base\n"
     ]
    }
   ],
   "source": [
    "from pathlib import Path\n",
    "\n",
    "import torch\n",
    "import webdataset as wds\n",
    "from google.cloud import storage\n",
    "from pytorch_lightning import (\n",
    "    LightningDataModule,\n",
    "    LightningModule,\n",
    "    Trainer,\n",
    "    seed_everything,\n",
    ")\n",
    "from pytorch_lightning.loggers import WandbLogger\n",
    "\n",
    "runtime_choices = cfg.hydra.runtime.choices\n",
    "exp_name = f\"notebook/{runtime_choices.exp}\"\n",
    "print(f\"exp_name: {exp_name}\")\n",
    "output_path = Path(cfg.dir.output_dir) / exp_name\n",
    "print(f\"ouput_path: {output_path}\")\n",
    "os.makedirs(output_path, exist_ok=True)"
   ]
  },
  {
   "cell_type": "code",
   "execution_count": 4,
   "id": "845918f8-4da8-43f4-9362-a9b653833f68",
   "metadata": {},
   "outputs": [],
   "source": [
    "original_predict_df = pl.read_parquet(\n",
    "    \"gs://kaggle-leap/kami/experiments/054_adan/003/predict.parquet\"\n",
    ")"
   ]
  },
  {
   "cell_type": "code",
   "execution_count": 5,
   "id": "7e8ebea4-aa10-407d-a18f-71a7e087735b",
   "metadata": {},
   "outputs": [],
   "source": [
    "original_label_df = pl.read_parquet(\n",
    "    \"gs://kaggle-leap/kami/experiments/054_adan/003/label.parquet\"\n",
    ")"
   ]
  },
  {
   "cell_type": "code",
   "execution_count": 10,
   "id": "5eba5882-bce9-4b18-b3d5-dd10c7b60ea5",
   "metadata": {},
   "outputs": [
    {
     "data": {
      "text/plain": [
       "(1451520, 369)"
      ]
     },
     "execution_count": 10,
     "metadata": {},
     "output_type": "execute_result"
    }
   ],
   "source": [
    "original_label_df.shape"
   ]
  },
  {
   "cell_type": "code",
   "execution_count": 6,
   "id": "0d02f52c-b2c9-4cb4-9b4a-f60c871c39aa",
   "metadata": {},
   "outputs": [],
   "source": [
    "test_df = pl.read_parquet(cfg.exp.test_path)"
   ]
  },
  {
   "cell_type": "code",
   "execution_count": 7,
   "id": "0ee0decb-0c81-469e-89b4-bd8ea4ad22c0",
   "metadata": {},
   "outputs": [],
   "source": [
    "def water_constraints(predict_df: pl.DataFrame, test_df: pl.DataFrame):\n",
    "    predict_water = predict_df[:, 60:240].to_numpy()\n",
    "    state_water = test_df[:, 61:241].to_numpy()  # considering test_id, add 1\n",
    "    predict_water = np.clip(predict_water, None, state_water / 1200.0)\n",
    "    predict_df = predict_df.with_columns(\n",
    "        [\n",
    "            pl.Series(name=col, values=predict_water[i])\n",
    "            for i, col in enumerate(predict_df.columns[61:241])\n",
    "        ]\n",
    "    )"
   ]
  },
  {
   "cell_type": "code",
   "execution_count": 8,
   "id": "b1a981a0-010d-4b05-b8e4-d7c4b470fc5e",
   "metadata": {},
   "outputs": [
    {
     "ename": "ValueError",
     "evalue": "operands could not be broadcast together with shapes (1451520,180) (625000,180) ",
     "output_type": "error",
     "traceback": [
      "\u001b[0;31m---------------------------------------------------------------------------\u001b[0m",
      "\u001b[0;31mValueError\u001b[0m                                Traceback (most recent call last)",
      "Cell \u001b[0;32mIn[8], line 1\u001b[0m\n\u001b[0;32m----> 1\u001b[0m predict_df \u001b[38;5;241m=\u001b[39m \u001b[43mwater_constraints\u001b[49m\u001b[43m(\u001b[49m\u001b[43moriginal_predict_df\u001b[49m\u001b[43m,\u001b[49m\u001b[43m \u001b[49m\u001b[43mtest_df\u001b[49m\u001b[43m)\u001b[49m\n",
      "Cell \u001b[0;32mIn[7], line 4\u001b[0m, in \u001b[0;36mwater_constraints\u001b[0;34m(predict_df, test_df)\u001b[0m\n\u001b[1;32m      2\u001b[0m predict_water \u001b[38;5;241m=\u001b[39m predict_df[:, \u001b[38;5;241m60\u001b[39m:\u001b[38;5;241m240\u001b[39m]\u001b[38;5;241m.\u001b[39mto_numpy()\n\u001b[1;32m      3\u001b[0m state_water \u001b[38;5;241m=\u001b[39m test_df[:, \u001b[38;5;241m61\u001b[39m:\u001b[38;5;241m241\u001b[39m]\u001b[38;5;241m.\u001b[39mto_numpy()  \u001b[38;5;66;03m# considering test_id, add 1\u001b[39;00m\n\u001b[0;32m----> 4\u001b[0m predict_water \u001b[38;5;241m=\u001b[39m \u001b[43mnp\u001b[49m\u001b[38;5;241;43m.\u001b[39;49m\u001b[43mclip\u001b[49m\u001b[43m(\u001b[49m\u001b[43mpredict_water\u001b[49m\u001b[43m,\u001b[49m\u001b[43m \u001b[49m\u001b[38;5;28;43;01mNone\u001b[39;49;00m\u001b[43m,\u001b[49m\u001b[43m \u001b[49m\u001b[43mstate_water\u001b[49m\u001b[43m \u001b[49m\u001b[38;5;241;43m/\u001b[39;49m\u001b[43m \u001b[49m\u001b[38;5;241;43m1200.0\u001b[39;49m\u001b[43m)\u001b[49m\n\u001b[1;32m      5\u001b[0m predict_df \u001b[38;5;241m=\u001b[39m predict_df\u001b[38;5;241m.\u001b[39mwith_columns(\n\u001b[1;32m      6\u001b[0m     [\n\u001b[1;32m      7\u001b[0m         pl\u001b[38;5;241m.\u001b[39mSeries(name\u001b[38;5;241m=\u001b[39mcol, values\u001b[38;5;241m=\u001b[39mpredict_water[i])\n\u001b[1;32m      8\u001b[0m         \u001b[38;5;28;01mfor\u001b[39;00m i, col \u001b[38;5;129;01min\u001b[39;00m \u001b[38;5;28menumerate\u001b[39m(predict_df\u001b[38;5;241m.\u001b[39mcolumns[\u001b[38;5;241m61\u001b[39m:\u001b[38;5;241m241\u001b[39m])\n\u001b[1;32m      9\u001b[0m     ]\n\u001b[1;32m     10\u001b[0m )\n",
      "File \u001b[0;32m/opt/conda/lib/python3.10/site-packages/numpy/core/fromnumeric.py:2169\u001b[0m, in \u001b[0;36mclip\u001b[0;34m(a, a_min, a_max, out, **kwargs)\u001b[0m\n\u001b[1;32m   2100\u001b[0m \u001b[38;5;129m@array_function_dispatch\u001b[39m(_clip_dispatcher)\n\u001b[1;32m   2101\u001b[0m \u001b[38;5;28;01mdef\u001b[39;00m \u001b[38;5;21mclip\u001b[39m(a, a_min, a_max, out\u001b[38;5;241m=\u001b[39m\u001b[38;5;28;01mNone\u001b[39;00m, \u001b[38;5;241m*\u001b[39m\u001b[38;5;241m*\u001b[39mkwargs):\n\u001b[1;32m   2102\u001b[0m \u001b[38;5;250m    \u001b[39m\u001b[38;5;124;03m\"\"\"\u001b[39;00m\n\u001b[1;32m   2103\u001b[0m \u001b[38;5;124;03m    Clip (limit) the values in an array.\u001b[39;00m\n\u001b[1;32m   2104\u001b[0m \n\u001b[0;32m   (...)\u001b[0m\n\u001b[1;32m   2167\u001b[0m \n\u001b[1;32m   2168\u001b[0m \u001b[38;5;124;03m    \"\"\"\u001b[39;00m\n\u001b[0;32m-> 2169\u001b[0m     \u001b[38;5;28;01mreturn\u001b[39;00m \u001b[43m_wrapfunc\u001b[49m\u001b[43m(\u001b[49m\u001b[43ma\u001b[49m\u001b[43m,\u001b[49m\u001b[43m \u001b[49m\u001b[38;5;124;43m'\u001b[39;49m\u001b[38;5;124;43mclip\u001b[39;49m\u001b[38;5;124;43m'\u001b[39;49m\u001b[43m,\u001b[49m\u001b[43m \u001b[49m\u001b[43ma_min\u001b[49m\u001b[43m,\u001b[49m\u001b[43m \u001b[49m\u001b[43ma_max\u001b[49m\u001b[43m,\u001b[49m\u001b[43m \u001b[49m\u001b[43mout\u001b[49m\u001b[38;5;241;43m=\u001b[39;49m\u001b[43mout\u001b[49m\u001b[43m,\u001b[49m\u001b[43m \u001b[49m\u001b[38;5;241;43m*\u001b[39;49m\u001b[38;5;241;43m*\u001b[39;49m\u001b[43mkwargs\u001b[49m\u001b[43m)\u001b[49m\n",
      "File \u001b[0;32m/opt/conda/lib/python3.10/site-packages/numpy/core/fromnumeric.py:59\u001b[0m, in \u001b[0;36m_wrapfunc\u001b[0;34m(obj, method, *args, **kwds)\u001b[0m\n\u001b[1;32m     56\u001b[0m     \u001b[38;5;28;01mreturn\u001b[39;00m _wrapit(obj, method, \u001b[38;5;241m*\u001b[39margs, \u001b[38;5;241m*\u001b[39m\u001b[38;5;241m*\u001b[39mkwds)\n\u001b[1;32m     58\u001b[0m \u001b[38;5;28;01mtry\u001b[39;00m:\n\u001b[0;32m---> 59\u001b[0m     \u001b[38;5;28;01mreturn\u001b[39;00m \u001b[43mbound\u001b[49m\u001b[43m(\u001b[49m\u001b[38;5;241;43m*\u001b[39;49m\u001b[43margs\u001b[49m\u001b[43m,\u001b[49m\u001b[43m \u001b[49m\u001b[38;5;241;43m*\u001b[39;49m\u001b[38;5;241;43m*\u001b[39;49m\u001b[43mkwds\u001b[49m\u001b[43m)\u001b[49m\n\u001b[1;32m     60\u001b[0m \u001b[38;5;28;01mexcept\u001b[39;00m \u001b[38;5;167;01mTypeError\u001b[39;00m:\n\u001b[1;32m     61\u001b[0m     \u001b[38;5;66;03m# A TypeError occurs if the object does have such a method in its\u001b[39;00m\n\u001b[1;32m     62\u001b[0m     \u001b[38;5;66;03m# class, but its signature is not identical to that of NumPy's. This\u001b[39;00m\n\u001b[0;32m   (...)\u001b[0m\n\u001b[1;32m     66\u001b[0m     \u001b[38;5;66;03m# Call _wrapit from within the except clause to ensure a potential\u001b[39;00m\n\u001b[1;32m     67\u001b[0m     \u001b[38;5;66;03m# exception has a traceback chain.\u001b[39;00m\n\u001b[1;32m     68\u001b[0m     \u001b[38;5;28;01mreturn\u001b[39;00m _wrapit(obj, method, \u001b[38;5;241m*\u001b[39margs, \u001b[38;5;241m*\u001b[39m\u001b[38;5;241m*\u001b[39mkwds)\n",
      "File \u001b[0;32m/opt/conda/lib/python3.10/site-packages/numpy/core/_methods.py:95\u001b[0m, in \u001b[0;36m_clip\u001b[0;34m(a, min, max, out, **kwargs)\u001b[0m\n\u001b[1;32m     92\u001b[0m     \u001b[38;5;28;01mraise\u001b[39;00m \u001b[38;5;167;01mValueError\u001b[39;00m(\u001b[38;5;124m\"\u001b[39m\u001b[38;5;124mOne of max or min must be given\u001b[39m\u001b[38;5;124m\"\u001b[39m)\n\u001b[1;32m     94\u001b[0m \u001b[38;5;28;01mif\u001b[39;00m \u001b[38;5;28mmin\u001b[39m \u001b[38;5;129;01mis\u001b[39;00m \u001b[38;5;28;01mNone\u001b[39;00m:\n\u001b[0;32m---> 95\u001b[0m     \u001b[38;5;28;01mreturn\u001b[39;00m \u001b[43mum\u001b[49m\u001b[38;5;241;43m.\u001b[39;49m\u001b[43mminimum\u001b[49m\u001b[43m(\u001b[49m\u001b[43ma\u001b[49m\u001b[43m,\u001b[49m\u001b[43m \u001b[49m\u001b[38;5;28;43mmax\u001b[39;49m\u001b[43m,\u001b[49m\u001b[43m \u001b[49m\u001b[43mout\u001b[49m\u001b[38;5;241;43m=\u001b[39;49m\u001b[43mout\u001b[49m\u001b[43m,\u001b[49m\u001b[43m \u001b[49m\u001b[38;5;241;43m*\u001b[39;49m\u001b[38;5;241;43m*\u001b[39;49m\u001b[43mkwargs\u001b[49m\u001b[43m)\u001b[49m\n\u001b[1;32m     96\u001b[0m \u001b[38;5;28;01melif\u001b[39;00m \u001b[38;5;28mmax\u001b[39m \u001b[38;5;129;01mis\u001b[39;00m \u001b[38;5;28;01mNone\u001b[39;00m:\n\u001b[1;32m     97\u001b[0m     \u001b[38;5;28;01mreturn\u001b[39;00m um\u001b[38;5;241m.\u001b[39mmaximum(a, \u001b[38;5;28mmin\u001b[39m, out\u001b[38;5;241m=\u001b[39mout, \u001b[38;5;241m*\u001b[39m\u001b[38;5;241m*\u001b[39mkwargs)\n",
      "\u001b[0;31mValueError\u001b[0m: operands could not be broadcast together with shapes (1451520,180) (625000,180) "
     ]
    }
   ],
   "source": [
    "predict_df = water_constraints(original_predict_df, test_df)"
   ]
  },
  {
   "cell_type": "code",
   "execution_count": null,
   "id": "92e0ea3d-7b44-47e2-9c89-c1de5fc8559e",
   "metadata": {},
   "outputs": [],
   "source": []
  },
  {
   "cell_type": "code",
   "execution_count": 5,
   "id": "914a2e26-af98-40cc-82fc-86dd006c595f",
   "metadata": {},
   "outputs": [],
   "source": [
    "# weight (weight zero もあるのでかけておく)\n",
    "ss_df = pl.read_csv(\n",
    "    \"input/leap-atmospheric-physics-ai-climsim/sample_submission.csv\", n_rows=1\n",
    ")\n",
    "weight_array = ss_df.select([x for x in ss_df.columns if x != \"sample_id\"]).to_numpy()[\n",
    "    0\n",
    "]"
   ]
  },
  {
   "cell_type": "code",
   "execution_count": 12,
   "id": "d14abd08-1ced-4f79-b765-bb6f321462ff",
   "metadata": {},
   "outputs": [],
   "source": [
    "labels = original_label_df[:, 1:].to_numpy()\n",
    "preds = original_predict_df[:, 1:].to_numpy()"
   ]
  },
  {
   "cell_type": "code",
   "execution_count": 14,
   "id": "7918cc44-af55-4c18-b1c0-67ca830ee022",
   "metadata": {},
   "outputs": [],
   "source": [
    "predict_df = pd.DataFrame(\n",
    "    preds * weight_array, columns=[i for i in range(preds.shape[1])]\n",
    ").reset_index()"
   ]
  },
  {
   "cell_type": "code",
   "execution_count": 15,
   "id": "7fac1bcf-cc3a-4543-bec4-99dc000b3532",
   "metadata": {},
   "outputs": [],
   "source": [
    "label_df = pd.DataFrame(\n",
    "    labels * weight_array, columns=[i for i in range(labels.shape[1])]\n",
    ").reset_index()"
   ]
  },
  {
   "cell_type": "code",
   "execution_count": 16,
   "id": "5ca6298d-73b8-418b-a619-dc005df12d1f",
   "metadata": {},
   "outputs": [
    {
     "data": {
      "text/plain": [
       "1121"
      ]
     },
     "execution_count": 16,
     "metadata": {},
     "output_type": "execute_result"
    }
   ],
   "source": [
    "del preds, labels\n",
    "gc.collect()"
   ]
  },
  {
   "cell_type": "code",
   "execution_count": 17,
   "id": "711661ec-b1ab-44aa-adc1-3de9b7158436",
   "metadata": {},
   "outputs": [
    {
     "name": "stdout",
     "output_type": "stream",
     "text": [
      "r2_score=0.7335064214929286\n"
     ]
    }
   ],
   "source": [
    "r2_scores = score(label_df, predict_df, \"index\", multioutput=\"raw_values\")\n",
    "r2_score_dict = {\n",
    "    col: r2 for col, r2 in dict(zip(cfg.cols.col_names, r2_scores)).items()\n",
    "}\n",
    "\n",
    "r2_score_dict = {\n",
    "    col: r2 if col not in cfg.exp.fill_target else 1.0\n",
    "    for col, r2 in r2_score_dict.items()\n",
    "}\n",
    "\n",
    "r2_score = float(np.array([v for v in r2_score_dict.values()]).mean())\n",
    "print(f\"{r2_score=}\")"
   ]
  },
  {
   "cell_type": "code",
   "execution_count": null,
   "id": "58645fbc-f9aa-4137-b6d7-d249e503c8d8",
   "metadata": {},
   "outputs": [],
   "source": []
  }
 ],
 "metadata": {
  "kernelspec": {
   "display_name": "Python 3 (ipykernel) (Local)",
   "language": "python",
   "name": "python3"
  },
  "language_info": {
   "codemirror_mode": {
    "name": "ipython",
    "version": 3
   },
   "file_extension": ".py",
   "mimetype": "text/x-python",
   "name": "python",
   "nbconvert_exporter": "python",
   "pygments_lexer": "ipython3",
   "version": "3.10.13"
  }
 },
 "nbformat": 4,
 "nbformat_minor": 5
}
