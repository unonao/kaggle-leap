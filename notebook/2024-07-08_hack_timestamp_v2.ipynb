{
 "cells": [
  {
   "cell_type": "code",
   "execution_count": 1,
   "id": "1359fbe9-ef15-49a2-a079-3bfe40424bc7",
   "metadata": {},
   "outputs": [
    {
     "name": "stdout",
     "output_type": "stream",
     "text": [
      "/kaggle/working\n"
     ]
    }
   ],
   "source": [
    "%cd /kaggle/working"
   ]
  },
  {
   "cell_type": "code",
   "execution_count": 2,
   "id": "45973d13-3a68-44bc-9f16-c095282b0451",
   "metadata": {},
   "outputs": [],
   "source": [
    "import pickle\n",
    "from pathlib import Path\n",
    "\n",
    "import matplotlib.pyplot as plt\n",
    "import numpy as np\n",
    "import pandas as pd\n",
    "import polars as pl\n",
    "import seaborn as sns\n",
    "from hydra import compose, initialize\n",
    "from omegaconf import OmegaConf\n",
    "\n",
    "from utils.metric import score"
   ]
  },
  {
   "cell_type": "code",
   "execution_count": 3,
   "id": "0388fa8a-8cd6-448d-8b72-e745f314d654",
   "metadata": {},
   "outputs": [],
   "source": [
    "def hide_submission(sub_df):\n",
    "    hide_sub_df = sub_df.clone().with_columns(\n",
    "        [pl.lit(0.0).alias(f\"ptend_q0002_{i}\") for i in range(12, 22)]\n",
    "    )\n",
    "    return hide_sub_df"
   ]
  },
  {
   "cell_type": "code",
   "execution_count": 4,
   "id": "00569ced-ef52-4f47-84e4-3adf65ed8929",
   "metadata": {},
   "outputs": [
    {
     "data": {
      "text/html": [
       "<div><style>\n",
       ".dataframe > thead > tr,\n",
       ".dataframe > tbody > tr {\n",
       "  text-align: right;\n",
       "  white-space: pre-wrap;\n",
       "}\n",
       "</style>\n",
       "<small>shape: (5, 369)</small><table border=\"1\" class=\"dataframe\"><thead><tr><th>sample_id</th><th>ptend_t_0</th><th>ptend_t_1</th><th>ptend_t_2</th><th>ptend_t_3</th><th>ptend_t_4</th><th>ptend_t_5</th><th>ptend_t_6</th><th>ptend_t_7</th><th>ptend_t_8</th><th>ptend_t_9</th><th>ptend_t_10</th><th>ptend_t_11</th><th>ptend_t_12</th><th>ptend_t_13</th><th>ptend_t_14</th><th>ptend_t_15</th><th>ptend_t_16</th><th>ptend_t_17</th><th>ptend_t_18</th><th>ptend_t_19</th><th>ptend_t_20</th><th>ptend_t_21</th><th>ptend_t_22</th><th>ptend_t_23</th><th>ptend_t_24</th><th>ptend_t_25</th><th>ptend_t_26</th><th>ptend_t_27</th><th>ptend_t_28</th><th>ptend_t_29</th><th>ptend_t_30</th><th>ptend_t_31</th><th>ptend_t_32</th><th>ptend_t_33</th><th>ptend_t_34</th><th>ptend_t_35</th><th>&hellip;</th><th>ptend_v_31</th><th>ptend_v_32</th><th>ptend_v_33</th><th>ptend_v_34</th><th>ptend_v_35</th><th>ptend_v_36</th><th>ptend_v_37</th><th>ptend_v_38</th><th>ptend_v_39</th><th>ptend_v_40</th><th>ptend_v_41</th><th>ptend_v_42</th><th>ptend_v_43</th><th>ptend_v_44</th><th>ptend_v_45</th><th>ptend_v_46</th><th>ptend_v_47</th><th>ptend_v_48</th><th>ptend_v_49</th><th>ptend_v_50</th><th>ptend_v_51</th><th>ptend_v_52</th><th>ptend_v_53</th><th>ptend_v_54</th><th>ptend_v_55</th><th>ptend_v_56</th><th>ptend_v_57</th><th>ptend_v_58</th><th>ptend_v_59</th><th>cam_out_NETSW</th><th>cam_out_FLWDS</th><th>cam_out_PRECSC</th><th>cam_out_PRECC</th><th>cam_out_SOLS</th><th>cam_out_SOLL</th><th>cam_out_SOLSD</th><th>cam_out_SOLLD</th></tr><tr><td>str</td><td>f64</td><td>f64</td><td>f64</td><td>f64</td><td>f64</td><td>f64</td><td>f64</td><td>f64</td><td>f64</td><td>f64</td><td>f64</td><td>f64</td><td>f64</td><td>f64</td><td>f64</td><td>f64</td><td>f64</td><td>f64</td><td>f64</td><td>f64</td><td>f64</td><td>f64</td><td>f64</td><td>f64</td><td>f64</td><td>f64</td><td>f64</td><td>f64</td><td>f64</td><td>f64</td><td>f64</td><td>f64</td><td>f64</td><td>f64</td><td>f64</td><td>f64</td><td>&hellip;</td><td>f64</td><td>f64</td><td>f64</td><td>f64</td><td>f64</td><td>f64</td><td>f64</td><td>f64</td><td>f64</td><td>f64</td><td>f64</td><td>f64</td><td>f64</td><td>f64</td><td>f64</td><td>f64</td><td>f64</td><td>f64</td><td>f64</td><td>f64</td><td>f64</td><td>f64</td><td>f64</td><td>f64</td><td>f64</td><td>f64</td><td>f64</td><td>f64</td><td>f64</td><td>f64</td><td>f64</td><td>f64</td><td>f64</td><td>f64</td><td>f64</td><td>f64</td><td>f64</td></tr></thead><tbody><tr><td>&quot;test_0&quot;</td><td>0.000003</td><td>-0.000065</td><td>-0.000085</td><td>-0.000086</td><td>-0.000096</td><td>-0.0001</td><td>-0.000082</td><td>-0.000064</td><td>-0.000049</td><td>-0.000041</td><td>-0.000028</td><td>-0.000018</td><td>-0.000009</td><td>-0.000004</td><td>-4.1657e-7</td><td>0.000001</td><td>0.000006</td><td>0.000004</td><td>0.000003</td><td>-0.000009</td><td>0.000009</td><td>-0.000003</td><td>-0.000012</td><td>-0.000016</td><td>-0.000015</td><td>-0.000013</td><td>-0.000016</td><td>-0.000018</td><td>-0.000023</td><td>-0.000031</td><td>-0.000037</td><td>-0.000032</td><td>-0.000023</td><td>-0.000018</td><td>-0.000017</td><td>-0.000015</td><td>&hellip;</td><td>9.3603e-7</td><td>0.000002</td><td>-4.3578e-7</td><td>-0.000002</td><td>-0.000001</td><td>-6.4969e-7</td><td>-8.2227e-7</td><td>-0.000003</td><td>-7.8813e-7</td><td>-5.8951e-7</td><td>1.9074e-7</td><td>-0.000003</td><td>0.000006</td><td>0.000001</td><td>0.000002</td><td>-0.000005</td><td>-0.000006</td><td>-0.000026</td><td>-0.000048</td><td>-0.000048</td><td>-0.000018</td><td>0.000038</td><td>0.000043</td><td>0.000042</td><td>0.000022</td><td>0.000012</td><td>0.000009</td><td>0.000008</td><td>4.1996e-7</td><td>-0.136167</td><td>402.35946</td><td>4.6684e-11</td><td>4.1327e-10</td><td>-0.033577</td><td>-0.049489</td><td>0.09329</td><td>0.212398</td></tr><tr><td>&quot;test_10&quot;</td><td>-0.000015</td><td>-0.00005</td><td>-0.000034</td><td>-0.000052</td><td>-0.00009</td><td>-0.000133</td><td>-0.000142</td><td>-0.000097</td><td>-0.000046</td><td>-0.000026</td><td>-0.000018</td><td>-0.000014</td><td>-0.000011</td><td>-0.000009</td><td>-0.000007</td><td>-0.000005</td><td>-0.000004</td><td>-0.000004</td><td>-0.000002</td><td>-0.000004</td><td>-0.000004</td><td>-0.000008</td><td>-0.000008</td><td>-0.000009</td><td>-0.000008</td><td>-0.000011</td><td>-0.000013</td><td>-0.000017</td><td>-0.00002</td><td>-0.000018</td><td>-0.00002</td><td>-0.000019</td><td>-0.000015</td><td>-0.000007</td><td>-0.000002</td><td>0.000003</td><td>&hellip;</td><td>-4.8681e-7</td><td>-3.7356e-7</td><td>2.0193e-7</td><td>4.7321e-7</td><td>3.4525e-7</td><td>2.1168e-7</td><td>1.7050e-7</td><td>6.5687e-8</td><td>2.0065e-8</td><td>2.7567e-9</td><td>1.3472e-7</td><td>-8.9901e-7</td><td>4.5322e-7</td><td>-3.2823e-7</td><td>0.000001</td><td>-4.6198e-9</td><td>-5.7225e-7</td><td>-0.000002</td><td>-0.000002</td><td>-0.000002</td><td>-0.000002</td><td>-0.000001</td><td>-1.4282e-7</td><td>9.2288e-7</td><td>0.000002</td><td>0.000001</td><td>8.3161e-7</td><td>-0.000002</td><td>0.000004</td><td>-0.027761</td><td>345.154827</td><td>2.5575e-11</td><td>-5.9339e-10</td><td>-0.316943</td><td>-0.456919</td><td>0.0302</td><td>0.172592</td></tr><tr><td>&quot;test_100&quot;</td><td>-0.000007</td><td>-0.00008</td><td>-0.000033</td><td>-0.000028</td><td>-0.000073</td><td>-0.000096</td><td>-0.000079</td><td>-0.000053</td><td>-0.00003</td><td>-0.000021</td><td>-0.000017</td><td>-0.000014</td><td>-0.000012</td><td>-0.00001</td><td>-0.000007</td><td>-0.000005</td><td>-0.000004</td><td>-0.000005</td><td>0.000004</td><td>-0.000009</td><td>-0.000004</td><td>-0.000007</td><td>-0.000006</td><td>-0.000006</td><td>-0.000004</td><td>-0.000003</td><td>-0.000006</td><td>-0.000006</td><td>-0.000007</td><td>-0.000011</td><td>-0.000015</td><td>-0.000019</td><td>-0.000022</td><td>-0.000022</td><td>-0.000024</td><td>-0.000024</td><td>&hellip;</td><td>-0.000002</td><td>-0.000002</td><td>-7.8204e-7</td><td>2.2820e-7</td><td>8.2554e-7</td><td>0.000001</td><td>8.8598e-7</td><td>8.5306e-7</td><td>6.2661e-7</td><td>3.6903e-7</td><td>1.7289e-8</td><td>-4.6920e-7</td><td>-1.9907e-7</td><td>0.000002</td><td>3.3318e-7</td><td>-0.000001</td><td>-7.2683e-7</td><td>-0.000004</td><td>-0.00001</td><td>-0.00002</td><td>-0.000023</td><td>0.000009</td><td>0.00001</td><td>0.000014</td><td>0.00001</td><td>0.000004</td><td>0.000004</td><td>0.000004</td><td>0.000012</td><td>2.065205</td><td>331.870707</td><td>3.9388e-12</td><td>6.2842e-10</td><td>0.947471</td><td>0.65194</td><td>0.288081</td><td>0.205645</td></tr><tr><td>&quot;test_1000&quot;</td><td>0.000026</td><td>0.000007</td><td>0.000033</td><td>0.000026</td><td>-0.000013</td><td>-0.000057</td><td>-0.000047</td><td>-0.000021</td><td>-0.000008</td><td>-0.000003</td><td>-0.000001</td><td>-6.6297e-7</td><td>-3.7065e-7</td><td>0.000002</td><td>0.000003</td><td>0.000005</td><td>0.000006</td><td>0.000004</td><td>1.3132e-7</td><td>7.6130e-7</td><td>-4.3587e-7</td><td>-0.000002</td><td>-0.00001</td><td>-0.000019</td><td>-0.000017</td><td>-0.000014</td><td>-0.000014</td><td>-0.000017</td><td>-0.000021</td><td>-0.000023</td><td>-0.000021</td><td>-0.00002</td><td>-0.000018</td><td>-0.000017</td><td>-0.000016</td><td>-0.000017</td><td>&hellip;</td><td>2.6728e-8</td><td>-4.6045e-8</td><td>6.6996e-7</td><td>-0.000001</td><td>8.5986e-8</td><td>0.000001</td><td>-0.000001</td><td>1.5021e-7</td><td>-9.4691e-7</td><td>3.3675e-7</td><td>-0.000005</td><td>0.000007</td><td>0.000003</td><td>0.000005</td><td>0.000007</td><td>0.000007</td><td>0.000007</td><td>0.00001</td><td>0.00001</td><td>0.000008</td><td>0.000006</td><td>0.000004</td><td>9.9584e-7</td><td>-0.000006</td><td>-0.000012</td><td>-0.000022</td><td>-0.000039</td><td>-0.000046</td><td>0.000025</td><td>2.73912</td><td>361.004821</td><td>-3.4882e-12</td><td>-7.1884e-10</td><td>-2.280668</td><td>2.305229</td><td>1.976705</td><td>-0.310764</td></tr><tr><td>&quot;test_10000&quot;</td><td>0.000048</td><td>0.000026</td><td>0.000045</td><td>0.000086</td><td>0.000127</td><td>0.000175</td><td>0.000188</td><td>0.000148</td><td>0.000089</td><td>0.000064</td><td>0.000046</td><td>0.000036</td><td>0.000029</td><td>0.00002</td><td>0.000014</td><td>0.000012</td><td>0.000011</td><td>0.00001</td><td>0.000008</td><td>0.000006</td><td>0.000003</td><td>-1.1089e-7</td><td>-0.000003</td><td>-0.000006</td><td>-0.00001</td><td>-0.000012</td><td>-0.000008</td><td>-0.000006</td><td>-0.000005</td><td>-0.000004</td><td>-0.000004</td><td>-0.000004</td><td>-0.000004</td><td>-0.000003</td><td>0.000002</td><td>0.000002</td><td>&hellip;</td><td>2.1942e-8</td><td>9.0835e-9</td><td>1.2533e-8</td><td>7.1560e-9</td><td>2.7984e-8</td><td>1.6180e-8</td><td>-1.7384e-8</td><td>2.7839e-8</td><td>-1.0827e-7</td><td>1.2593e-7</td><td>-7.0349e-8</td><td>2.6809e-8</td><td>-7.4153e-8</td><td>-2.0619e-7</td><td>1.2592e-7</td><td>6.6115e-9</td><td>-2.0495e-7</td><td>2.4834e-7</td><td>-4.8647e-9</td><td>-1.6581e-8</td><td>3.5178e-8</td><td>1.3987e-7</td><td>-1.2053e-7</td><td>-1.6337e-7</td><td>-2.0883e-7</td><td>8.2948e-7</td><td>-4.1533e-8</td><td>6.7766e-7</td><td>-9.4207e-7</td><td>921.564771</td><td>381.232881</td><td>3.8690e-11</td><td>-3.9947e-10</td><td>446.291565</td><td>452.6363</td><td>48.597155</td><td>2.662356</td></tr></tbody></table></div>"
      ],
      "text/plain": [
       "shape: (5, 369)\n",
       "┌───────────┬───────────┬───────────┬───────────┬───┬───────────┬───────────┬───────────┬──────────┐\n",
       "│ sample_id ┆ ptend_t_0 ┆ ptend_t_1 ┆ ptend_t_2 ┆ … ┆ cam_out_S ┆ cam_out_S ┆ cam_out_S ┆ cam_out_ │\n",
       "│ ---       ┆ ---       ┆ ---       ┆ ---       ┆   ┆ OLS       ┆ OLL       ┆ OLSD      ┆ SOLLD    │\n",
       "│ str       ┆ f64       ┆ f64       ┆ f64       ┆   ┆ ---       ┆ ---       ┆ ---       ┆ ---      │\n",
       "│           ┆           ┆           ┆           ┆   ┆ f64       ┆ f64       ┆ f64       ┆ f64      │\n",
       "╞═══════════╪═══════════╪═══════════╪═══════════╪═══╪═══════════╪═══════════╪═══════════╪══════════╡\n",
       "│ test_0    ┆ 0.000003  ┆ -0.000065 ┆ -0.000085 ┆ … ┆ -0.033577 ┆ -0.049489 ┆ 0.09329   ┆ 0.212398 │\n",
       "│ test_10   ┆ -0.000015 ┆ -0.00005  ┆ -0.000034 ┆ … ┆ -0.316943 ┆ -0.456919 ┆ 0.0302    ┆ 0.172592 │\n",
       "│ test_100  ┆ -0.000007 ┆ -0.00008  ┆ -0.000033 ┆ … ┆ 0.947471  ┆ 0.65194   ┆ 0.288081  ┆ 0.205645 │\n",
       "│ test_1000 ┆ 0.000026  ┆ 0.000007  ┆ 0.000033  ┆ … ┆ -2.280668 ┆ 2.305229  ┆ 1.976705  ┆ -0.31076 │\n",
       "│           ┆           ┆           ┆           ┆   ┆           ┆           ┆           ┆ 4        │\n",
       "│ test_1000 ┆ 0.000048  ┆ 0.000026  ┆ 0.000045  ┆ … ┆ 446.29156 ┆ 452.6363  ┆ 48.597155 ┆ 2.662356 │\n",
       "│ 0         ┆           ┆           ┆           ┆   ┆ 5         ┆           ┆           ┆          │\n",
       "└───────────┴───────────┴───────────┴───────────┴───┴───────────┴───────────┴───────────┴──────────┘"
      ]
     },
     "execution_count": 4,
     "metadata": {},
     "output_type": "execute_result"
    }
   ],
   "source": [
    "base_sub_path = \"gs://kaggle-leap/kami/20240610_ensemble_nelder_mead2_lb078544.parquet\"\n",
    "base_sub_df = pl.read_parquet(base_sub_path)\n",
    "base_sub_df.head()"
   ]
  },
  {
   "cell_type": "markdown",
   "id": "897ea026-1c6d-434b-87fd-e52b6d83e4e9",
   "metadata": {},
   "source": [
    "## timestamp使った予測値で置き換える"
   ]
  },
  {
   "cell_type": "code",
   "execution_count": 5,
   "id": "bd28b0f4-a95f-4bc5-9172-e87a90d8825d",
   "metadata": {},
   "outputs": [
    {
     "data": {
      "text/html": [
       "<div><style>\n",
       ".dataframe > thead > tr,\n",
       ".dataframe > tbody > tr {\n",
       "  text-align: right;\n",
       "  white-space: pre-wrap;\n",
       "}\n",
       "</style>\n",
       "<small>shape: (5, 369)</small><table border=\"1\" class=\"dataframe\"><thead><tr><th>sample_id</th><th>ptend_t_0</th><th>ptend_t_1</th><th>ptend_t_2</th><th>ptend_t_3</th><th>ptend_t_4</th><th>ptend_t_5</th><th>ptend_t_6</th><th>ptend_t_7</th><th>ptend_t_8</th><th>ptend_t_9</th><th>ptend_t_10</th><th>ptend_t_11</th><th>ptend_t_12</th><th>ptend_t_13</th><th>ptend_t_14</th><th>ptend_t_15</th><th>ptend_t_16</th><th>ptend_t_17</th><th>ptend_t_18</th><th>ptend_t_19</th><th>ptend_t_20</th><th>ptend_t_21</th><th>ptend_t_22</th><th>ptend_t_23</th><th>ptend_t_24</th><th>ptend_t_25</th><th>ptend_t_26</th><th>ptend_t_27</th><th>ptend_t_28</th><th>ptend_t_29</th><th>ptend_t_30</th><th>ptend_t_31</th><th>ptend_t_32</th><th>ptend_t_33</th><th>ptend_t_34</th><th>ptend_t_35</th><th>&hellip;</th><th>ptend_v_31</th><th>ptend_v_32</th><th>ptend_v_33</th><th>ptend_v_34</th><th>ptend_v_35</th><th>ptend_v_36</th><th>ptend_v_37</th><th>ptend_v_38</th><th>ptend_v_39</th><th>ptend_v_40</th><th>ptend_v_41</th><th>ptend_v_42</th><th>ptend_v_43</th><th>ptend_v_44</th><th>ptend_v_45</th><th>ptend_v_46</th><th>ptend_v_47</th><th>ptend_v_48</th><th>ptend_v_49</th><th>ptend_v_50</th><th>ptend_v_51</th><th>ptend_v_52</th><th>ptend_v_53</th><th>ptend_v_54</th><th>ptend_v_55</th><th>ptend_v_56</th><th>ptend_v_57</th><th>ptend_v_58</th><th>ptend_v_59</th><th>cam_out_NETSW</th><th>cam_out_FLWDS</th><th>cam_out_PRECSC</th><th>cam_out_PRECC</th><th>cam_out_SOLS</th><th>cam_out_SOLL</th><th>cam_out_SOLSD</th><th>cam_out_SOLLD</th></tr><tr><td>str</td><td>f64</td><td>f64</td><td>f64</td><td>f64</td><td>f64</td><td>f64</td><td>f64</td><td>f64</td><td>f64</td><td>f64</td><td>f64</td><td>f64</td><td>f64</td><td>f64</td><td>f64</td><td>f64</td><td>f64</td><td>f64</td><td>f64</td><td>f64</td><td>f64</td><td>f64</td><td>f64</td><td>f64</td><td>f64</td><td>f64</td><td>f64</td><td>f64</td><td>f64</td><td>f64</td><td>f64</td><td>f64</td><td>f64</td><td>f64</td><td>f64</td><td>f64</td><td>&hellip;</td><td>f64</td><td>f64</td><td>f64</td><td>f64</td><td>f64</td><td>f64</td><td>f64</td><td>f64</td><td>f64</td><td>f64</td><td>f64</td><td>f64</td><td>f64</td><td>f64</td><td>f64</td><td>f64</td><td>f64</td><td>f64</td><td>f64</td><td>f64</td><td>f64</td><td>f64</td><td>f64</td><td>f64</td><td>f64</td><td>f64</td><td>f64</td><td>f64</td><td>f64</td><td>f64</td><td>f64</td><td>f64</td><td>f64</td><td>f64</td><td>f64</td><td>f64</td><td>f64</td></tr></thead><tbody><tr><td>&quot;test_99994&quot;</td><td>0.000049</td><td>-0.000014</td><td>0.000017</td><td>0.000092</td><td>0.000122</td><td>0.000152</td><td>0.000135</td><td>0.000099</td><td>0.000062</td><td>0.000045</td><td>0.000036</td><td>0.00003</td><td>0.000024</td><td>0.000017</td><td>0.000011</td><td>0.00001</td><td>0.000009</td><td>0.000004</td><td>0.000002</td><td>0.000006</td><td>0.000006</td><td>9.6646e-9</td><td>-0.000009</td><td>0.000003</td><td>-0.000004</td><td>-0.000001</td><td>-0.000007</td><td>-0.000024</td><td>-0.000027</td><td>-0.000005</td><td>-0.00002</td><td>-0.000022</td><td>-0.000004</td><td>-0.000007</td><td>-0.000005</td><td>-0.000008</td><td>&hellip;</td><td>0.000016</td><td>-0.000008</td><td>-0.000011</td><td>-0.000018</td><td>-0.000007</td><td>-0.000002</td><td>-0.000006</td><td>-0.000023</td><td>-0.000035</td><td>-0.000026</td><td>-0.000015</td><td>-0.000013</td><td>-0.000019</td><td>-0.000016</td><td>-0.000009</td><td>-9.7080e-7</td><td>0.000009</td><td>0.000011</td><td>0.000018</td><td>0.000049</td><td>0.000053</td><td>0.000048</td><td>0.000041</td><td>0.000029</td><td>0.000015</td><td>0.000006</td><td>0.000001</td><td>0.000001</td><td>0.000006</td><td>399.04611</td><td>401.382947</td><td>-1.5271e-10</td><td>6.6942e-8</td><td>171.562718</td><td>181.812864</td><td>58.599328</td><td>21.616242</td></tr><tr><td>&quot;test_99995&quot;</td><td>0.000008</td><td>-0.000058</td><td>-0.000148</td><td>-0.000076</td><td>-0.000063</td><td>-0.000054</td><td>-0.000044</td><td>-0.000037</td><td>-0.000029</td><td>-0.000021</td><td>-0.000015</td><td>-0.000011</td><td>-0.000009</td><td>-0.000009</td><td>-0.000008</td><td>-0.000007</td><td>-0.000007</td><td>-0.000007</td><td>-0.000006</td><td>-0.000006</td><td>-0.000005</td><td>-0.000004</td><td>-0.000004</td><td>-0.000004</td><td>-0.000004</td><td>-0.000004</td><td>-0.000004</td><td>-0.000005</td><td>-0.000005</td><td>-0.000006</td><td>-0.000006</td><td>-0.000006</td><td>-0.000007</td><td>-0.000007</td><td>-0.000007</td><td>-0.000007</td><td>&hellip;</td><td>1.7207e-10</td><td>-1.8932e-8</td><td>-1.2410e-8</td><td>2.0099e-9</td><td>7.9380e-10</td><td>-1.2611e-8</td><td>-2.5287e-8</td><td>-2.4455e-8</td><td>-7.7381e-9</td><td>-2.4830e-8</td><td>2.4685e-10</td><td>-1.3635e-8</td><td>4.2712e-9</td><td>-3.3214e-9</td><td>-2.4595e-10</td><td>8.2156e-9</td><td>2.6690e-8</td><td>-7.8904e-10</td><td>5.2038e-8</td><td>3.0195e-9</td><td>1.8045e-8</td><td>5.9917e-8</td><td>8.5916e-10</td><td>-9.2541e-9</td><td>-7.7758e-8</td><td>0.000001</td><td>-7.8526e-7</td><td>0.000003</td><td>-0.000004</td><td>4.128117</td><td>129.454714</td><td>2.4516e-9</td><td>2.5919e-9</td><td>-2.794531</td><td>0.167184</td><td>0.947156</td><td>0.278601</td></tr><tr><td>&quot;test_99996&quot;</td><td>0.000031</td><td>0.000007</td><td>0.000014</td><td>0.000023</td><td>0.000038</td><td>0.000057</td><td>0.000052</td><td>0.000035</td><td>0.000022</td><td>0.000014</td><td>0.000009</td><td>0.000006</td><td>0.000005</td><td>0.000005</td><td>0.000005</td><td>0.000004</td><td>0.000003</td><td>0.000001</td><td>0.000002</td><td>-5.1099e-9</td><td>-1.8696e-7</td><td>-8.5789e-7</td><td>-0.000001</td><td>-0.000001</td><td>-0.000002</td><td>-0.000001</td><td>-0.000001</td><td>-9.1397e-7</td><td>-7.0128e-7</td><td>-6.8083e-7</td><td>-0.000001</td><td>-0.000002</td><td>-0.000003</td><td>-0.000002</td><td>-0.000003</td><td>-0.000003</td><td>&hellip;</td><td>-1.1775e-9</td><td>1.2595e-9</td><td>1.7976e-8</td><td>1.2556e-8</td><td>3.5801e-9</td><td>-6.9413e-9</td><td>-2.1745e-8</td><td>-2.5806e-8</td><td>-4.2072e-8</td><td>-1.6486e-8</td><td>6.4778e-9</td><td>1.4215e-8</td><td>1.4364e-8</td><td>2.7725e-8</td><td>3.1253e-8</td><td>8.5301e-8</td><td>5.1695e-8</td><td>2.6145e-8</td><td>3.5554e-8</td><td>2.4522e-8</td><td>3.3049e-9</td><td>-4.3264e-8</td><td>-2.6685e-8</td><td>-8.5703e-8</td><td>-5.7899e-8</td><td>-2.6684e-8</td><td>1.0132e-7</td><td>-1.7862e-7</td><td>-1.0988e-7</td><td>54.404942</td><td>179.010257</td><td>6.1634e-9</td><td>2.4665e-9</td><td>116.811957</td><td>171.915093</td><td>65.05633</td><td>19.937927</td></tr><tr><td>&quot;test_99997&quot;</td><td>-0.00002</td><td>-0.000017</td><td>-0.000037</td><td>-0.000055</td><td>-0.000081</td><td>-0.000108</td><td>-0.000098</td><td>-0.000068</td><td>-0.000044</td><td>-0.000037</td><td>-0.000028</td><td>-0.000021</td><td>-0.000014</td><td>-0.000009</td><td>-0.000003</td><td>8.4431e-7</td><td>0.000002</td><td>0.000006</td><td>-0.000001</td><td>0.000001</td><td>-0.000006</td><td>-0.00001</td><td>-0.000004</td><td>-0.000011</td><td>-0.000018</td><td>-0.00001</td><td>-0.000034</td><td>-0.000037</td><td>-0.00002</td><td>-0.000022</td><td>-0.000031</td><td>-0.000016</td><td>-0.000018</td><td>-0.000039</td><td>-0.000028</td><td>-0.000033</td><td>&hellip;</td><td>2.7996e-7</td><td>-0.000003</td><td>-0.000003</td><td>-0.000003</td><td>-0.000001</td><td>-0.000001</td><td>0.000002</td><td>0.000008</td><td>-0.000027</td><td>-0.000035</td><td>-0.000014</td><td>-0.000002</td><td>0.000011</td><td>0.000027</td><td>0.000036</td><td>0.000036</td><td>0.000033</td><td>0.000027</td><td>0.000021</td><td>0.000013</td><td>0.000006</td><td>-0.000003</td><td>-0.00001</td><td>-0.000015</td><td>-0.000021</td><td>-0.000024</td><td>-0.000028</td><td>-0.000032</td><td>-0.000033</td><td>9.15325</td><td>376.723258</td><td>-1.3968e-10</td><td>1.9992e-8</td><td>1.226492</td><td>1.764846</td><td>0.441646</td><td>0.187387</td></tr><tr><td>&quot;test_99998&quot;</td><td>0.000034</td><td>0.000025</td><td>0.000076</td><td>0.000086</td><td>0.000098</td><td>0.000089</td><td>0.000067</td><td>0.000058</td><td>0.000036</td><td>0.000025</td><td>0.00002</td><td>0.000016</td><td>0.000013</td><td>0.00001</td><td>0.000008</td><td>0.000005</td><td>0.000002</td><td>0.000003</td><td>-0.000004</td><td>0.000004</td><td>-0.000003</td><td>-0.000003</td><td>-2.6499e-7</td><td>-0.000006</td><td>-0.000005</td><td>-0.000004</td><td>-0.000003</td><td>-0.000007</td><td>-0.000007</td><td>-0.000006</td><td>-0.00001</td><td>-0.00001</td><td>-0.000013</td><td>-0.000015</td><td>-0.000019</td><td>-0.000017</td><td>&hellip;</td><td>-4.8734e-7</td><td>-3.9399e-7</td><td>-2.9979e-7</td><td>-2.8940e-7</td><td>-1.2960e-7</td><td>-1.1381e-7</td><td>-1.1808e-7</td><td>-4.1745e-7</td><td>-9.8755e-7</td><td>-0.000002</td><td>-0.000004</td><td>-0.000011</td><td>-0.000029</td><td>-0.00003</td><td>-0.000019</td><td>-3.9327e-7</td><td>0.000014</td><td>0.000019</td><td>0.00002</td><td>0.000017</td><td>0.000014</td><td>0.00002</td><td>0.00003</td><td>0.000033</td><td>0.00004</td><td>0.000006</td><td>-0.000018</td><td>-0.000012</td><td>-0.000014</td><td>199.821852</td><td>321.935073</td><td>2.3587e-10</td><td>7.2995e-8</td><td>54.51357</td><td>74.902052</td><td>54.572131</td><td>33.800705</td></tr></tbody></table></div>"
      ],
      "text/plain": [
       "shape: (5, 369)\n",
       "┌───────────┬───────────┬───────────┬───────────┬───┬───────────┬───────────┬───────────┬──────────┐\n",
       "│ sample_id ┆ ptend_t_0 ┆ ptend_t_1 ┆ ptend_t_2 ┆ … ┆ cam_out_S ┆ cam_out_S ┆ cam_out_S ┆ cam_out_ │\n",
       "│ ---       ┆ ---       ┆ ---       ┆ ---       ┆   ┆ OLS       ┆ OLL       ┆ OLSD      ┆ SOLLD    │\n",
       "│ str       ┆ f64       ┆ f64       ┆ f64       ┆   ┆ ---       ┆ ---       ┆ ---       ┆ ---      │\n",
       "│           ┆           ┆           ┆           ┆   ┆ f64       ┆ f64       ┆ f64       ┆ f64      │\n",
       "╞═══════════╪═══════════╪═══════════╪═══════════╪═══╪═══════════╪═══════════╪═══════════╪══════════╡\n",
       "│ test_9999 ┆ 0.000049  ┆ -0.000014 ┆ 0.000017  ┆ … ┆ 171.56271 ┆ 181.81286 ┆ 58.599328 ┆ 21.61624 │\n",
       "│ 4         ┆           ┆           ┆           ┆   ┆ 8         ┆ 4         ┆           ┆ 2        │\n",
       "│ test_9999 ┆ 0.000008  ┆ -0.000058 ┆ -0.000148 ┆ … ┆ -2.794531 ┆ 0.167184  ┆ 0.947156  ┆ 0.278601 │\n",
       "│ 5         ┆           ┆           ┆           ┆   ┆           ┆           ┆           ┆          │\n",
       "│ test_9999 ┆ 0.000031  ┆ 0.000007  ┆ 0.000014  ┆ … ┆ 116.81195 ┆ 171.91509 ┆ 65.05633  ┆ 19.93792 │\n",
       "│ 6         ┆           ┆           ┆           ┆   ┆ 7         ┆ 3         ┆           ┆ 7        │\n",
       "│ test_9999 ┆ -0.00002  ┆ -0.000017 ┆ -0.000037 ┆ … ┆ 1.226492  ┆ 1.764846  ┆ 0.441646  ┆ 0.187387 │\n",
       "│ 7         ┆           ┆           ┆           ┆   ┆           ┆           ┆           ┆          │\n",
       "│ test_9999 ┆ 0.000034  ┆ 0.000025  ┆ 0.000076  ┆ … ┆ 54.51357  ┆ 74.902052 ┆ 54.572131 ┆ 33.80070 │\n",
       "│ 8         ┆           ┆           ┆           ┆   ┆           ┆           ┆           ┆ 5        │\n",
       "└───────────┴───────────┴───────────┴───────────┴───┴───────────┴───────────┴───────────┴──────────┘"
      ]
     },
     "execution_count": 5,
     "metadata": {},
     "output_type": "execute_result"
    }
   ],
   "source": [
    "time_sub_path = \"gs://kaggle-leap/kami/experiments/610_sim6/mid/submission.parquet\"\n",
    "time_sub_df = pl.read_parquet(time_sub_path)\n",
    "time_sub_df.tail()"
   ]
  },
  {
   "cell_type": "code",
   "execution_count": 39,
   "id": "83b9f046-8836-43f3-9754-755d67e6b391",
   "metadata": {},
   "outputs": [],
   "source": [
    "class_exps = [\"702_multi_class11/mid\", \"702_multi_class11/all\", \"701_multi_class/small\"]\n",
    "# class_exp = \"701_multi_class/small\"\n",
    "# class_exp = \"700_binary_classify/small\""
   ]
  },
  {
   "cell_type": "code",
   "execution_count": 41,
   "id": "9f3110a8-d82f-4059-9b16-14269f999403",
   "metadata": {},
   "outputs": [
    {
     "name": "stdout",
     "output_type": "stream",
     "text": [
      "Threshold: 0.50000, Num:163390, Precision: 0.99663, Recall: 0.99999\n",
      "Threshold: 0.99900, Num:160852, Precision: 0.99998, Recall: 0.98776\n",
      "Threshold: 0.99990, Num:154407, Precision: 0.99999, Recall: 0.94820\n",
      "Threshold: 0.99995, Num:150114, Precision: 0.99999, Recall: 0.92184\n",
      "Threshold: 0.99997, Num:145841, Precision: 1.00000, Recall: 0.89560\n",
      "Threshold: 0.99998, Num:141607, Precision: 1.00000, Recall: 0.86960\n",
      "Threshold: 0.99999, Num:132300, Precision: 1.00000, Recall: 0.81245\n"
     ]
    }
   ],
   "source": [
    "# 閾値ごとの値をチェック\n",
    "\n",
    "from sklearn.metrics import precision_score, recall_score\n",
    "\n",
    "valid_preds_list = []\n",
    "for class_exp in class_exps:\n",
    "    val2_predict_df = pl.read_parquet(\n",
    "        f\"gs://kaggle-leap/kami/experiments/{class_exp}/val2_predict.parquet\"\n",
    "    )\n",
    "    val2_label_df = pl.read_parquet(\n",
    "        f\"gs://kaggle-leap/kami/experiments/{class_exp}/val2_label.parquet\"\n",
    "    )\n",
    "    valid_preds = val2_predict_df.select([\"0\"]).to_numpy()  # classの番号\n",
    "    valid_preds_list.append(valid_preds)\n",
    "    valid_y_class = val2_label_df.select([\"0\"]).to_numpy() == 0\n",
    "valid_preds = np.mean(valid_preds_list, axis=0)\n",
    "\n",
    "thresholds = [0.5, 0.999, 0.9999, 0.99995, 0.99997, 0.99998, 0.99999]\n",
    "for threshold in thresholds:\n",
    "    y_pred = (valid_preds > threshold).astype(np.int64)\n",
    "    # リコールと精度を計算\n",
    "    num_cand = np.sum(y_pred)\n",
    "    precision = precision_score(valid_y_class, y_pred)\n",
    "    recall = recall_score(valid_y_class, y_pred)\n",
    "    print(\n",
    "        f\"Threshold: {threshold:.5f}, Num:{num_cand}, Precision: {precision:.5f}, Recall: {recall:.5f}\"\n",
    "    )"
   ]
  },
  {
   "cell_type": "code",
   "execution_count": 15,
   "id": "fc70aa13-abd7-40c2-8f70-262b7bdebaa6",
   "metadata": {},
   "outputs": [
    {
     "data": {
      "text/html": [
       "<div><style>\n",
       ".dataframe > thead > tr,\n",
       ".dataframe > tbody > tr {\n",
       "  text-align: right;\n",
       "  white-space: pre-wrap;\n",
       "}\n",
       "</style>\n",
       "<small>shape: (5, 6)</small><table border=\"1\" class=\"dataframe\"><thead><tr><th>index</th><th>0</th><th>1</th><th>2</th><th>3</th><th>4</th></tr><tr><td>i64</td><td>f32</td><td>f32</td><td>f32</td><td>f32</td><td>f32</td></tr></thead><tbody><tr><td>624995</td><td>1.0</td><td>2.0277e-7</td><td>1.1019e-7</td><td>2.1507e-8</td><td>1.0022e-10</td></tr><tr><td>624996</td><td>0.000012</td><td>0.987593</td><td>0.012306</td><td>0.000088</td><td>1.8166e-7</td></tr><tr><td>624997</td><td>0.99999</td><td>0.000005</td><td>3.0728e-7</td><td>0.000004</td><td>1.1756e-9</td></tr><tr><td>624998</td><td>2.9659e-7</td><td>0.999991</td><td>0.000007</td><td>9.7062e-7</td><td>8.0808e-9</td></tr><tr><td>624999</td><td>4.3638e-7</td><td>0.000002</td><td>0.000559</td><td>0.006239</td><td>0.9932</td></tr></tbody></table></div>"
      ],
      "text/plain": [
       "shape: (5, 6)\n",
       "┌────────┬───────────┬───────────┬───────────┬───────────┬────────────┐\n",
       "│ index  ┆ 0         ┆ 1         ┆ 2         ┆ 3         ┆ 4          │\n",
       "│ ---    ┆ ---       ┆ ---       ┆ ---       ┆ ---       ┆ ---        │\n",
       "│ i64    ┆ f32       ┆ f32       ┆ f32       ┆ f32       ┆ f32        │\n",
       "╞════════╪═══════════╪═══════════╪═══════════╪═══════════╪════════════╡\n",
       "│ 624995 ┆ 1.0       ┆ 2.0277e-7 ┆ 1.1019e-7 ┆ 2.1507e-8 ┆ 1.0022e-10 │\n",
       "│ 624996 ┆ 0.000012  ┆ 0.987593  ┆ 0.012306  ┆ 0.000088  ┆ 1.8166e-7  │\n",
       "│ 624997 ┆ 0.99999   ┆ 0.000005  ┆ 3.0728e-7 ┆ 0.000004  ┆ 1.1756e-9  │\n",
       "│ 624998 ┆ 2.9659e-7 ┆ 0.999991  ┆ 0.000007  ┆ 9.7062e-7 ┆ 8.0808e-9  │\n",
       "│ 624999 ┆ 4.3638e-7 ┆ 0.000002  ┆ 0.000559  ┆ 0.006239  ┆ 0.9932     │\n",
       "└────────┴───────────┴───────────┴───────────┴───────────┴────────────┘"
      ]
     },
     "execution_count": 15,
     "metadata": {},
     "output_type": "execute_result"
    }
   ],
   "source": [
    "class_preds_list = []\n",
    "for class_exp in class_exps:\n",
    "    class_pred_df = pl.read_parquet(\n",
    "        f\"gs://kaggle-leap/kami/experiments/{class_exp}/test_predict.parquet\"\n",
    "    )\n",
    "    class_preds = class_pred_df.get_column(\"0\").to_numpy().reshape(-1)\n",
    "    class_preds_list.append(class_preds)\n",
    "class_preds = np.mean(class_preds_list, axis=0)\n",
    "\n",
    "class_pred_df.tail()"
   ]
  },
  {
   "cell_type": "code",
   "execution_count": 16,
   "id": "730e368b-72e5-4b97-b13e-a0fc820d62fd",
   "metadata": {},
   "outputs": [
    {
     "name": "stdout",
     "output_type": "stream",
     "text": [
      "['test_100008' 'test_100009' 'test_100016' ... 'test_99976' 'test_99994'\n",
      " 'test_99996']\n"
     ]
    },
    {
     "data": {
      "text/html": [
       "<div><style>\n",
       ".dataframe > thead > tr,\n",
       ".dataframe > tbody > tr {\n",
       "  text-align: right;\n",
       "  white-space: pre-wrap;\n",
       "}\n",
       "</style>\n",
       "<small>shape: (117_263, 7)</small><table border=\"1\" class=\"dataframe\"><thead><tr><th>nears</th><th>dist</th><th>old_time</th><th>new_place</th><th>sample_id</th><th>time_6_18_66_78</th><th>old_place</th></tr><tr><td>i64</td><td>f32</td><td>i64</td><td>i64</td><td>str</td><td>i64</td><td>i64</td></tr></thead><tbody><tr><td>258761</td><td>0.005093</td><td>20190</td><td>329</td><td>&quot;test_100008&quot;</td><td>0</td><td>329</td></tr><tr><td>456820</td><td>0.01054</td><td>35670</td><td>244</td><td>&quot;test_100016&quot;</td><td>0</td><td>244</td></tr><tr><td>235737</td><td>0.011838</td><td>18390</td><td>345</td><td>&quot;test_100023&quot;</td><td>0</td><td>345</td></tr><tr><td>234122</td><td>0.00494</td><td>18270</td><td>266</td><td>&quot;test_100027&quot;</td><td>0</td><td>266</td></tr><tr><td>69637</td><td>0.028217</td><td>5430</td><td>133</td><td>&quot;test_100028&quot;</td><td>0</td><td>133</td></tr><tr><td>&hellip;</td><td>&hellip;</td><td>&hellip;</td><td>&hellip;</td><td>&hellip;</td><td>&hellip;</td><td>&hellip;</td></tr><tr><td>412236</td><td>0.018188</td><td>32190</td><td>204</td><td>&quot;test_99956&quot;</td><td>0</td><td>204</td></tr><tr><td>419900</td><td>0.01401</td><td>32790</td><td>188</td><td>&quot;test_99969&quot;</td><td>0</td><td>188</td></tr><tr><td>392107</td><td>0.007062</td><td>30630</td><td>43</td><td>&quot;test_99976&quot;</td><td>0</td><td>43</td></tr><tr><td>304618</td><td>0.012626</td><td>23790</td><td>106</td><td>&quot;test_99994&quot;</td><td>0</td><td>106</td></tr><tr><td>57576</td><td>0.000487</td><td>4470</td><td>360</td><td>&quot;test_99996&quot;</td><td>0</td><td>360</td></tr></tbody></table></div>"
      ],
      "text/plain": [
       "shape: (117_263, 7)\n",
       "┌────────┬──────────┬──────────┬───────────┬─────────────┬─────────────────┬───────────┐\n",
       "│ nears  ┆ dist     ┆ old_time ┆ new_place ┆ sample_id   ┆ time_6_18_66_78 ┆ old_place │\n",
       "│ ---    ┆ ---      ┆ ---      ┆ ---       ┆ ---         ┆ ---             ┆ ---       │\n",
       "│ i64    ┆ f32      ┆ i64      ┆ i64       ┆ str         ┆ i64             ┆ i64       │\n",
       "╞════════╪══════════╪══════════╪═══════════╪═════════════╪═════════════════╪═══════════╡\n",
       "│ 258761 ┆ 0.005093 ┆ 20190    ┆ 329       ┆ test_100008 ┆ 0               ┆ 329       │\n",
       "│ 456820 ┆ 0.01054  ┆ 35670    ┆ 244       ┆ test_100016 ┆ 0               ┆ 244       │\n",
       "│ 235737 ┆ 0.011838 ┆ 18390    ┆ 345       ┆ test_100023 ┆ 0               ┆ 345       │\n",
       "│ 234122 ┆ 0.00494  ┆ 18270    ┆ 266       ┆ test_100027 ┆ 0               ┆ 266       │\n",
       "│ 69637  ┆ 0.028217 ┆ 5430     ┆ 133       ┆ test_100028 ┆ 0               ┆ 133       │\n",
       "│ …      ┆ …        ┆ …        ┆ …         ┆ …           ┆ …               ┆ …         │\n",
       "│ 412236 ┆ 0.018188 ┆ 32190    ┆ 204       ┆ test_99956  ┆ 0               ┆ 204       │\n",
       "│ 419900 ┆ 0.01401  ┆ 32790    ┆ 188       ┆ test_99969  ┆ 0               ┆ 188       │\n",
       "│ 392107 ┆ 0.007062 ┆ 30630    ┆ 43        ┆ test_99976  ┆ 0               ┆ 43        │\n",
       "│ 304618 ┆ 0.012626 ┆ 23790    ┆ 106       ┆ test_99994  ┆ 0               ┆ 106       │\n",
       "│ 57576  ┆ 0.000487 ┆ 4470     ┆ 360       ┆ test_99996  ┆ 0               ┆ 360       │\n",
       "└────────┴──────────┴──────────┴───────────┴─────────────┴─────────────────┴───────────┘"
      ]
     },
     "execution_count": 16,
     "metadata": {},
     "output_type": "execute_result"
    }
   ],
   "source": [
    "# takoi-san check\n",
    "print(base_sub_df[\"sample_id\"].to_numpy()[class_preds > 0.999])\n",
    "df = pl.read_parquet(\"output/exp152_143.parquet\")\n",
    "df.sort(\"sample_id\")"
   ]
  },
  {
   "cell_type": "code",
   "execution_count": 23,
   "id": "312fb000-b349-41d6-b0ad-2726ee734ecb",
   "metadata": {},
   "outputs": [
    {
     "name": "stdout",
     "output_type": "stream",
     "text": [
      "replace num:90195 rate:0.144312\n"
     ]
    }
   ],
   "source": [
    "# 閾値以上の行について、カラムごとにR2を計算して一定値以上であれば置き換えを行う\n",
    "from sklearn.metrics import r2_score\n",
    "\n",
    "threshold = 0.99999\n",
    "replace_index = class_preds > threshold\n",
    "print(f\"replace num:{replace_index.sum()} rate:{replace_index.sum()/len(class_preds)}\")\n",
    "\n",
    "replace_sub_df = base_sub_df.clone()\n",
    "r2_score_vals = []\n",
    "\n",
    "for col in base_sub_df.columns[1:]:\n",
    "    time_pred = time_sub_df[col].to_numpy()\n",
    "    base_pred = base_sub_df[col].to_numpy()\n",
    "    r2_score_val = r2_score(\n",
    "        base_pred[replace_index],\n",
    "        time_pred[replace_index],\n",
    "    )\n",
    "    if r2_score_val > 0.5:\n",
    "        replace_pred = base_sub_df[col].to_numpy().copy()\n",
    "        replace_pred[replace_index] = time_pred[replace_index]\n",
    "        replace_sub_df = replace_sub_df.with_columns(\n",
    "            pl.Series(name=col, values=replace_pred)\n",
    "        )\n",
    "        r2_score_vals.append(r2_score_val)\n",
    "    else:\n",
    "        print(col, r2_score_val)"
   ]
  },
  {
   "cell_type": "code",
   "execution_count": 15,
   "id": "8a866bf0-1fa6-42d7-b711-8a147479f9f9",
   "metadata": {},
   "outputs": [
    {
     "data": {
      "text/html": [
       "<div><style>\n",
       ".dataframe > thead > tr,\n",
       ".dataframe > tbody > tr {\n",
       "  text-align: right;\n",
       "  white-space: pre-wrap;\n",
       "}\n",
       "</style>\n",
       "<small>shape: (5, 369)</small><table border=\"1\" class=\"dataframe\"><thead><tr><th>sample_id</th><th>ptend_t_0</th><th>ptend_t_1</th><th>ptend_t_2</th><th>ptend_t_3</th><th>ptend_t_4</th><th>ptend_t_5</th><th>ptend_t_6</th><th>ptend_t_7</th><th>ptend_t_8</th><th>ptend_t_9</th><th>ptend_t_10</th><th>ptend_t_11</th><th>ptend_t_12</th><th>ptend_t_13</th><th>ptend_t_14</th><th>ptend_t_15</th><th>ptend_t_16</th><th>ptend_t_17</th><th>ptend_t_18</th><th>ptend_t_19</th><th>ptend_t_20</th><th>ptend_t_21</th><th>ptend_t_22</th><th>ptend_t_23</th><th>ptend_t_24</th><th>ptend_t_25</th><th>ptend_t_26</th><th>ptend_t_27</th><th>ptend_t_28</th><th>ptend_t_29</th><th>ptend_t_30</th><th>ptend_t_31</th><th>ptend_t_32</th><th>ptend_t_33</th><th>ptend_t_34</th><th>ptend_t_35</th><th>&hellip;</th><th>ptend_v_31</th><th>ptend_v_32</th><th>ptend_v_33</th><th>ptend_v_34</th><th>ptend_v_35</th><th>ptend_v_36</th><th>ptend_v_37</th><th>ptend_v_38</th><th>ptend_v_39</th><th>ptend_v_40</th><th>ptend_v_41</th><th>ptend_v_42</th><th>ptend_v_43</th><th>ptend_v_44</th><th>ptend_v_45</th><th>ptend_v_46</th><th>ptend_v_47</th><th>ptend_v_48</th><th>ptend_v_49</th><th>ptend_v_50</th><th>ptend_v_51</th><th>ptend_v_52</th><th>ptend_v_53</th><th>ptend_v_54</th><th>ptend_v_55</th><th>ptend_v_56</th><th>ptend_v_57</th><th>ptend_v_58</th><th>ptend_v_59</th><th>cam_out_NETSW</th><th>cam_out_FLWDS</th><th>cam_out_PRECSC</th><th>cam_out_PRECC</th><th>cam_out_SOLS</th><th>cam_out_SOLL</th><th>cam_out_SOLSD</th><th>cam_out_SOLLD</th></tr><tr><td>str</td><td>f64</td><td>f64</td><td>f64</td><td>f64</td><td>f64</td><td>f64</td><td>f64</td><td>f64</td><td>f64</td><td>f64</td><td>f64</td><td>f64</td><td>f64</td><td>f64</td><td>f64</td><td>f64</td><td>f64</td><td>f64</td><td>f64</td><td>f64</td><td>f64</td><td>f64</td><td>f64</td><td>f64</td><td>f64</td><td>f64</td><td>f64</td><td>f64</td><td>f64</td><td>f64</td><td>f64</td><td>f64</td><td>f64</td><td>f64</td><td>f64</td><td>f64</td><td>&hellip;</td><td>f64</td><td>f64</td><td>f64</td><td>f64</td><td>f64</td><td>f64</td><td>f64</td><td>f64</td><td>f64</td><td>f64</td><td>f64</td><td>f64</td><td>f64</td><td>f64</td><td>f64</td><td>f64</td><td>f64</td><td>f64</td><td>f64</td><td>f64</td><td>f64</td><td>f64</td><td>f64</td><td>f64</td><td>f64</td><td>f64</td><td>f64</td><td>f64</td><td>f64</td><td>f64</td><td>f64</td><td>f64</td><td>f64</td><td>f64</td><td>f64</td><td>f64</td><td>f64</td></tr></thead><tbody><tr><td>&quot;test_0&quot;</td><td>0.000003</td><td>-0.000065</td><td>-0.000085</td><td>-0.000086</td><td>-0.000096</td><td>-0.0001</td><td>-0.000082</td><td>-0.000064</td><td>-0.000049</td><td>-0.000041</td><td>-0.000028</td><td>-0.000018</td><td>-0.000009</td><td>-0.000004</td><td>-4.1657e-7</td><td>0.000001</td><td>0.000006</td><td>0.000004</td><td>0.000003</td><td>-0.000009</td><td>0.000009</td><td>-0.000003</td><td>-0.000012</td><td>-0.000016</td><td>-0.000015</td><td>-0.000013</td><td>-0.000016</td><td>-0.000018</td><td>-0.000023</td><td>-0.000031</td><td>-0.000037</td><td>-0.000032</td><td>-0.000023</td><td>-0.000018</td><td>-0.000017</td><td>-0.000015</td><td>&hellip;</td><td>9.3603e-7</td><td>0.000002</td><td>-4.3578e-7</td><td>-0.000002</td><td>-0.000001</td><td>-6.4969e-7</td><td>-8.2227e-7</td><td>-0.000003</td><td>-7.8813e-7</td><td>-5.8951e-7</td><td>1.9074e-7</td><td>-0.000003</td><td>0.000006</td><td>0.000001</td><td>0.000002</td><td>-0.000005</td><td>-0.000006</td><td>-0.000026</td><td>-0.000048</td><td>-0.000048</td><td>-0.000018</td><td>0.000038</td><td>0.000043</td><td>0.000042</td><td>0.000022</td><td>0.000012</td><td>0.000009</td><td>0.000008</td><td>4.1996e-7</td><td>-0.136167</td><td>402.35946</td><td>4.6684e-11</td><td>4.1327e-10</td><td>-0.033577</td><td>-0.049489</td><td>0.09329</td><td>0.212398</td></tr><tr><td>&quot;test_10&quot;</td><td>-0.000015</td><td>-0.00005</td><td>-0.000034</td><td>-0.000052</td><td>-0.00009</td><td>-0.000133</td><td>-0.000142</td><td>-0.000097</td><td>-0.000046</td><td>-0.000026</td><td>-0.000018</td><td>-0.000014</td><td>-0.000011</td><td>-0.000009</td><td>-0.000007</td><td>-0.000005</td><td>-0.000004</td><td>-0.000004</td><td>-0.000002</td><td>-0.000004</td><td>-0.000004</td><td>-0.000008</td><td>-0.000008</td><td>-0.000009</td><td>-0.000008</td><td>-0.000011</td><td>-0.000013</td><td>-0.000017</td><td>-0.00002</td><td>-0.000018</td><td>-0.00002</td><td>-0.000019</td><td>-0.000015</td><td>-0.000007</td><td>-0.000002</td><td>0.000003</td><td>&hellip;</td><td>-4.8681e-7</td><td>-3.7356e-7</td><td>2.0193e-7</td><td>4.7321e-7</td><td>3.4525e-7</td><td>2.1168e-7</td><td>1.7050e-7</td><td>6.5687e-8</td><td>2.0065e-8</td><td>2.7567e-9</td><td>1.3472e-7</td><td>-8.9901e-7</td><td>4.5322e-7</td><td>-3.2823e-7</td><td>0.000001</td><td>-4.6198e-9</td><td>-5.7225e-7</td><td>-0.000002</td><td>-0.000002</td><td>-0.000002</td><td>-0.000002</td><td>-0.000001</td><td>-1.4282e-7</td><td>9.2288e-7</td><td>0.000002</td><td>0.000001</td><td>8.3161e-7</td><td>-0.000002</td><td>0.000004</td><td>-0.027761</td><td>345.154827</td><td>2.5575e-11</td><td>-5.9339e-10</td><td>-0.316943</td><td>-0.456919</td><td>0.0302</td><td>0.172592</td></tr><tr><td>&quot;test_100&quot;</td><td>-0.000007</td><td>-0.00008</td><td>-0.000033</td><td>-0.000028</td><td>-0.000073</td><td>-0.000096</td><td>-0.000079</td><td>-0.000053</td><td>-0.00003</td><td>-0.000021</td><td>-0.000017</td><td>-0.000014</td><td>-0.000012</td><td>-0.00001</td><td>-0.000007</td><td>-0.000005</td><td>-0.000004</td><td>-0.000005</td><td>0.000004</td><td>-0.000009</td><td>-0.000004</td><td>-0.000007</td><td>-0.000006</td><td>-0.000006</td><td>-0.000004</td><td>-0.000003</td><td>-0.000006</td><td>-0.000006</td><td>-0.000007</td><td>-0.000011</td><td>-0.000015</td><td>-0.000019</td><td>-0.000022</td><td>-0.000022</td><td>-0.000024</td><td>-0.000024</td><td>&hellip;</td><td>-0.000002</td><td>-0.000002</td><td>-7.8204e-7</td><td>2.2820e-7</td><td>8.2554e-7</td><td>0.000001</td><td>8.8598e-7</td><td>8.5306e-7</td><td>6.2661e-7</td><td>3.6903e-7</td><td>1.7289e-8</td><td>-4.6920e-7</td><td>-1.9907e-7</td><td>0.000002</td><td>3.3318e-7</td><td>-0.000001</td><td>-7.2683e-7</td><td>-0.000004</td><td>-0.00001</td><td>-0.00002</td><td>-0.000023</td><td>0.000009</td><td>0.00001</td><td>0.000014</td><td>0.00001</td><td>0.000004</td><td>0.000004</td><td>0.000004</td><td>0.000012</td><td>2.065205</td><td>331.870707</td><td>3.9388e-12</td><td>6.2842e-10</td><td>0.947471</td><td>0.65194</td><td>0.288081</td><td>0.205645</td></tr><tr><td>&quot;test_1000&quot;</td><td>0.000026</td><td>0.000007</td><td>0.000033</td><td>0.000026</td><td>-0.000013</td><td>-0.000057</td><td>-0.000047</td><td>-0.000021</td><td>-0.000008</td><td>-0.000003</td><td>-0.000001</td><td>-6.6297e-7</td><td>-3.7065e-7</td><td>0.000002</td><td>0.000003</td><td>0.000005</td><td>0.000006</td><td>0.000004</td><td>1.3132e-7</td><td>7.6130e-7</td><td>-4.3587e-7</td><td>-0.000002</td><td>-0.00001</td><td>-0.000019</td><td>-0.000017</td><td>-0.000014</td><td>-0.000014</td><td>-0.000017</td><td>-0.000021</td><td>-0.000023</td><td>-0.000021</td><td>-0.00002</td><td>-0.000018</td><td>-0.000017</td><td>-0.000016</td><td>-0.000017</td><td>&hellip;</td><td>2.6728e-8</td><td>-4.6045e-8</td><td>6.6996e-7</td><td>-0.000001</td><td>8.5986e-8</td><td>0.000001</td><td>-0.000001</td><td>1.5021e-7</td><td>-9.4691e-7</td><td>3.3675e-7</td><td>-0.000005</td><td>0.000007</td><td>0.000003</td><td>0.000005</td><td>0.000007</td><td>0.000007</td><td>0.000007</td><td>0.00001</td><td>0.00001</td><td>0.000008</td><td>0.000006</td><td>0.000004</td><td>9.9584e-7</td><td>-0.000006</td><td>-0.000012</td><td>-0.000022</td><td>-0.000039</td><td>-0.000046</td><td>0.000025</td><td>2.73912</td><td>361.004821</td><td>-3.4882e-12</td><td>-7.1884e-10</td><td>-2.280668</td><td>2.305229</td><td>1.976705</td><td>-0.310764</td></tr><tr><td>&quot;test_10000&quot;</td><td>0.000048</td><td>0.000026</td><td>0.000045</td><td>0.000086</td><td>0.000127</td><td>0.000175</td><td>0.000188</td><td>0.000148</td><td>0.000089</td><td>0.000064</td><td>0.000046</td><td>0.000036</td><td>0.000029</td><td>0.00002</td><td>0.000014</td><td>0.000012</td><td>0.000011</td><td>0.00001</td><td>0.000008</td><td>0.000006</td><td>0.000003</td><td>-1.1089e-7</td><td>-0.000003</td><td>-0.000006</td><td>-0.00001</td><td>-0.000012</td><td>-0.000008</td><td>-0.000006</td><td>-0.000005</td><td>-0.000004</td><td>-0.000004</td><td>-0.000004</td><td>-0.000004</td><td>-0.000003</td><td>0.000002</td><td>0.000002</td><td>&hellip;</td><td>2.1942e-8</td><td>9.0835e-9</td><td>1.2533e-8</td><td>7.1560e-9</td><td>2.7984e-8</td><td>1.6180e-8</td><td>-1.7384e-8</td><td>2.7839e-8</td><td>-1.0827e-7</td><td>1.2593e-7</td><td>-7.0349e-8</td><td>2.6809e-8</td><td>-7.4153e-8</td><td>-2.0619e-7</td><td>1.2592e-7</td><td>6.6115e-9</td><td>-2.0495e-7</td><td>2.4834e-7</td><td>-4.8647e-9</td><td>-1.6581e-8</td><td>3.5178e-8</td><td>1.3987e-7</td><td>-1.2053e-7</td><td>-1.6337e-7</td><td>-2.0883e-7</td><td>8.2948e-7</td><td>-4.1533e-8</td><td>6.7766e-7</td><td>-9.4207e-7</td><td>921.564771</td><td>381.232881</td><td>3.8690e-11</td><td>-3.9947e-10</td><td>446.291565</td><td>452.6363</td><td>48.597155</td><td>2.662356</td></tr></tbody></table></div>"
      ],
      "text/plain": [
       "shape: (5, 369)\n",
       "┌───────────┬───────────┬───────────┬───────────┬───┬───────────┬───────────┬───────────┬──────────┐\n",
       "│ sample_id ┆ ptend_t_0 ┆ ptend_t_1 ┆ ptend_t_2 ┆ … ┆ cam_out_S ┆ cam_out_S ┆ cam_out_S ┆ cam_out_ │\n",
       "│ ---       ┆ ---       ┆ ---       ┆ ---       ┆   ┆ OLS       ┆ OLL       ┆ OLSD      ┆ SOLLD    │\n",
       "│ str       ┆ f64       ┆ f64       ┆ f64       ┆   ┆ ---       ┆ ---       ┆ ---       ┆ ---      │\n",
       "│           ┆           ┆           ┆           ┆   ┆ f64       ┆ f64       ┆ f64       ┆ f64      │\n",
       "╞═══════════╪═══════════╪═══════════╪═══════════╪═══╪═══════════╪═══════════╪═══════════╪══════════╡\n",
       "│ test_0    ┆ 0.000003  ┆ -0.000065 ┆ -0.000085 ┆ … ┆ -0.033577 ┆ -0.049489 ┆ 0.09329   ┆ 0.212398 │\n",
       "│ test_10   ┆ -0.000015 ┆ -0.00005  ┆ -0.000034 ┆ … ┆ -0.316943 ┆ -0.456919 ┆ 0.0302    ┆ 0.172592 │\n",
       "│ test_100  ┆ -0.000007 ┆ -0.00008  ┆ -0.000033 ┆ … ┆ 0.947471  ┆ 0.65194   ┆ 0.288081  ┆ 0.205645 │\n",
       "│ test_1000 ┆ 0.000026  ┆ 0.000007  ┆ 0.000033  ┆ … ┆ -2.280668 ┆ 2.305229  ┆ 1.976705  ┆ -0.31076 │\n",
       "│           ┆           ┆           ┆           ┆   ┆           ┆           ┆           ┆ 4        │\n",
       "│ test_1000 ┆ 0.000048  ┆ 0.000026  ┆ 0.000045  ┆ … ┆ 446.29156 ┆ 452.6363  ┆ 48.597155 ┆ 2.662356 │\n",
       "│ 0         ┆           ┆           ┆           ┆   ┆ 5         ┆           ┆           ┆          │\n",
       "└───────────┴───────────┴───────────┴───────────┴───┴───────────┴───────────┴───────────┴──────────┘"
      ]
     },
     "execution_count": 15,
     "metadata": {},
     "output_type": "execute_result"
    }
   ],
   "source": [
    "replace_sub_df.write_parquet(\"output/2024-07-08_hack_sub_v2.parquet\")\n",
    "replace_sub_df.head()"
   ]
  },
  {
   "cell_type": "code",
   "execution_count": 24,
   "id": "4e4905a0-658e-4acb-a4bc-ec18c4ef5483",
   "metadata": {},
   "outputs": [
    {
     "data": {
      "text/plain": [
       "3567454"
      ]
     },
     "execution_count": 24,
     "metadata": {},
     "output_type": "execute_result"
    }
   ],
   "source": [
    "# 符号が違うやつがどれくらいあるか\n",
    "((base_sub_df[:, 1:].to_numpy() >= 0) ^ (replace_sub_df[:, 1:].to_numpy() >= 0)).sum()"
   ]
  },
  {
   "cell_type": "code",
   "execution_count": 36,
   "id": "cda666b0-a682-4995-a762-0a2cba96802b",
   "metadata": {},
   "outputs": [
    {
     "data": {
      "text/plain": [
       "3567454"
      ]
     },
     "execution_count": 36,
     "metadata": {},
     "output_type": "execute_result"
    }
   ],
   "source": [
    "(\n",
    "    (base_sub_df[:, 1:].to_numpy()[replace_index] >= 0)\n",
    "    ^ (replace_sub_df[:, 1:].to_numpy()[replace_index] >= 0)\n",
    ").sum()"
   ]
  },
  {
   "cell_type": "code",
   "execution_count": 37,
   "id": "c7da78c2-10fb-45df-b06e-0ae199706c9d",
   "metadata": {},
   "outputs": [
    {
     "data": {
      "text/plain": [
       "(90195, 368)"
      ]
     },
     "execution_count": 37,
     "metadata": {},
     "output_type": "execute_result"
    }
   ],
   "source": [
    "base_sub_df[:, 1:].to_numpy()[replace_index].shape"
   ]
  },
  {
   "cell_type": "code",
   "execution_count": 13,
   "id": "c64c2909-3879-46f5-bb99-03415293d6cb",
   "metadata": {},
   "outputs": [
    {
     "data": {
      "image/png": "[encoded data removed]",
      "text/plain": [
       "<Figure size 640x480 with 1 Axes>"
      ]
     },
     "metadata": {},
     "output_type": "display_data"
    }
   ],
   "source": [
    "import matplotlib.pyplot as plt\n",
    "\n",
    "# ヒストグラムをプロットするためのリストデータ\n",
    "\n",
    "# ヒストグラムの描画\n",
    "plt.hist(r2_score_vals, bins=20, edgecolor=\"black\")\n",
    "\n",
    "# グラフのタイトルとラベルを設定\n",
    "plt.title(\"Histogram of Data\")\n",
    "plt.xlabel(\"Value\")\n",
    "plt.ylabel(\"Frequency\")\n",
    "\n",
    "# グラフを表示\n",
    "plt.show()"
   ]
  },
  {
   "cell_type": "code",
   "execution_count": null,
   "id": "298af02e-6a56-459e-9c42-3c5d5bfd5c85",
   "metadata": {},
   "outputs": [],
   "source": []
  }
 ],
 "metadata": {
  "kernelspec": {
   "display_name": "Python 3 (ipykernel) (Local)",
   "language": "python",
   "name": "python3"
  },
  "language_info": {
   "codemirror_mode": {
    "name": "ipython",
    "version": 3
   },
   "file_extension": ".py",
   "mimetype": "text/x-python",
   "name": "python",
   "nbconvert_exporter": "python",
   "pygments_lexer": "ipython3",
   "version": "3.10.13"
  }
 },
 "nbformat": 4,
 "nbformat_minor": 5
}
