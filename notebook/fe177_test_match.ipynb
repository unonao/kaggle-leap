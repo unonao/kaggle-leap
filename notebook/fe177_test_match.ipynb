{
 "cells": [
  {
   "cell_type": "code",
   "execution_count": 1,
   "id": "8a8769a7",
   "metadata": {},
   "outputs": [],
   "source": [
    "# =============================\n",
    "# library\n",
    "# =============================\n",
    "import pandas as pd\n",
    "import numpy as np\n",
    "from pathlib import Path\n",
    "import matplotlib.pyplot as plt\n",
    "import polars as pl\n",
    "from tqdm import tqdm\n",
    "import pickle"
   ]
  },
  {
   "cell_type": "code",
   "execution_count": 2,
   "id": "43e33683",
   "metadata": {},
   "outputs": [],
   "source": [
    "# =============================\n",
    "# constant\n",
    "# =============================\n",
    "#TRAIN_PATH = Path(\"../storage/leap/data/train.csv\")\n",
    "#TEST_PATH = Path(\"../storage/leap/data/test.csv\")\n",
    "OUTPUT_DIR = Path(\"../storage/leap/output\")\n",
    "DATA_DIR = Path(\"../storage/leap/data\")"
   ]
  },
  {
   "cell_type": "code",
   "execution_count": 3,
   "id": "fa2458b1",
   "metadata": {},
   "outputs": [],
   "source": [
    "# =============================\n",
    "# settings\n",
    "# =============================\n",
    "fe = \"177\"\n",
    "fe_dir = OUTPUT_DIR / \"fe\" / f\"fe{fe}\"\n",
    "fe_dir.mkdir(parents=True, exist_ok=True)\n",
    "fe_save_dir = fe_dir / \"save\"\n",
    "fe_save_dir.mkdir(parents=True, exist_ok=True)\n",
    "\n",
    "TEST_PATH1 = Path(\"../storage/leap/output/fe/fe100/fe100_test.parquet\")\n",
    "TEST_OLD_PATH1 = Path(\"../storage/leap/output/fe/fe173/fe173_test.parquet\")\n",
    "train_state_sum_sc_path = OUTPUT_DIR / \"fe\" / \"fe103\" / \"fe103_state_sum_mean_std.pkl\""
   ]
  },
  {
   "cell_type": "code",
   "execution_count": 4,
   "id": "306a48b1",
   "metadata": {},
   "outputs": [],
   "source": [
    "# =============================\n",
    "# main\n",
    "# =============================\n",
    "df = pl.read_parquet(TEST_PATH1)\n",
    "df_old = pl.read_parquet(TEST_OLD_PATH1)"
   ]
  },
  {
   "cell_type": "code",
   "execution_count": 5,
   "id": "0c0e9143",
   "metadata": {},
   "outputs": [],
   "source": [
    "df = df[['sample_id',\n",
    " 'state_t_0',\n",
    " 'state_t_1',\n",
    " 'state_t_2',\n",
    " 'state_t_3',\n",
    " 'state_t_4',\n",
    " 'state_t_5',\n",
    " 'state_t_6',\n",
    " 'state_t_7',\n",
    " 'state_t_8',\n",
    " 'state_t_9',\n",
    " 'state_t_10',\n",
    " 'state_t_11',\n",
    " 'state_t_12',\n",
    " 'state_t_13',\n",
    " 'state_t_14',\n",
    " 'state_t_15',\n",
    " 'state_t_16',\n",
    " 'state_t_17',\n",
    " 'state_t_18',\n",
    " 'state_t_19',\n",
    " 'state_t_20']]\n",
    "df_old = df_old[['sample_id',\n",
    " 'state_t_0',\n",
    " 'state_t_1',\n",
    " 'state_t_2',\n",
    " 'state_t_3',\n",
    " 'state_t_4',\n",
    " 'state_t_5',\n",
    " 'state_t_6',\n",
    " 'state_t_7',\n",
    " 'state_t_8',\n",
    " 'state_t_9',\n",
    " 'state_t_10',\n",
    " 'state_t_11',\n",
    " 'state_t_12',\n",
    " 'state_t_13',\n",
    " 'state_t_14',\n",
    " 'state_t_15',\n",
    " 'state_t_16',\n",
    " 'state_t_17',\n",
    " 'state_t_18',\n",
    " 'state_t_19',\n",
    " 'state_t_20']]"
   ]
  },
  {
   "cell_type": "code",
   "execution_count": 6,
   "id": "c93feb52",
   "metadata": {},
   "outputs": [],
   "source": [
    "df = df.with_columns([pl.col(c).cast(pl.Float32) for c in df.columns[1:]])\n",
    "df_old = df_old.with_columns([pl.col(c).cast(pl.Float32) for c in df_old.columns[1:]])"
   ]
  },
  {
   "cell_type": "code",
   "execution_count": 7,
   "id": "c43a9a5c",
   "metadata": {},
   "outputs": [],
   "source": [
    "df = df.rename({'sample_id': 'new_sample_id'})"
   ]
  },
  {
   "cell_type": "code",
   "execution_count": 8,
   "id": "48f1a93b",
   "metadata": {},
   "outputs": [],
   "source": [
    "df_old = df_old.join(df,how=\"left\",on=['state_t_0',\n",
    " 'state_t_1',\n",
    " 'state_t_2',\n",
    " 'state_t_3',\n",
    " 'state_t_4',\n",
    " 'state_t_5',\n",
    " 'state_t_6',\n",
    " 'state_t_7',\n",
    " 'state_t_8',\n",
    " 'state_t_9',\n",
    " 'state_t_10',\n",
    " 'state_t_11',\n",
    " 'state_t_12',\n",
    " 'state_t_13',\n",
    " 'state_t_14',\n",
    " 'state_t_15',\n",
    " 'state_t_16',\n",
    " 'state_t_17',\n",
    " 'state_t_18',\n",
    " 'state_t_19',\n",
    " 'state_t_20'])"
   ]
  },
  {
   "cell_type": "code",
   "execution_count": 9,
   "id": "e691ea8d",
   "metadata": {},
   "outputs": [],
   "source": [
    "df_old = df_old.to_pandas()"
   ]
  },
  {
   "cell_type": "code",
   "execution_count": 10,
   "id": "fc78d858",
   "metadata": {},
   "outputs": [],
   "source": [
    "df_old[\"num\"] = np.arange(len(df_old))\n",
    "df_old[\"time\"] = df_old[\"num\"] // 384"
   ]
  },
  {
   "cell_type": "code",
   "execution_count": 11,
   "id": "9b8e365a",
   "metadata": {},
   "outputs": [
    {
     "data": {
      "text/plain": [
       "count\n",
       "384    326\n",
       "Name: count, dtype: int64"
      ]
     },
     "execution_count": 11,
     "metadata": {},
     "output_type": "execute_result"
    }
   ],
   "source": [
    "df_old[df_old[\"new_sample_id\"].notnull()][\"time\"].value_counts().value_counts()"
   ]
  },
  {
   "cell_type": "code",
   "execution_count": 12,
   "id": "60b37847",
   "metadata": {},
   "outputs": [],
   "source": [
    "df_old = df_old[[\"sample_id\",\"new_sample_id\",\"time\"]].reset_index(drop=True)"
   ]
  },
  {
   "cell_type": "code",
   "execution_count": 13,
   "id": "7f662312",
   "metadata": {},
   "outputs": [],
   "source": [
    "df_old.to_parquet(fe_dir / \"test_old_test_match.parquet\")"
   ]
  },
  {
   "cell_type": "code",
   "execution_count": null,
   "id": "671d5385",
   "metadata": {},
   "outputs": [],
   "source": []
  }
 ],
 "metadata": {
  "kernelspec": {
   "display_name": "Python 3 (ipykernel)",
   "language": "python",
   "name": "python3"
  },
  "language_info": {
   "codemirror_mode": {
    "name": "ipython",
    "version": 3
   },
   "file_extension": ".py",
   "mimetype": "text/x-python",
   "name": "python",
   "nbconvert_exporter": "python",
   "pygments_lexer": "ipython3",
   "version": "3.10.12"
  }
 },
 "nbformat": 4,
 "nbformat_minor": 5
}
