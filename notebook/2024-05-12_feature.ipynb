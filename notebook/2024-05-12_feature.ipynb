{
 "cells": [
  {
   "cell_type": "code",
   "execution_count": 1,
   "id": "20c20afa-164d-42f9-b3b3-21401800d840",
   "metadata": {},
   "outputs": [
    {
     "name": "stdout",
     "output_type": "stream",
     "text": [
      "/kaggle/working\n"
     ]
    }
   ],
   "source": [
    "%cd /kaggle/working\n",
    "\n",
    "import os\n",
    "\n",
    "from hydra import compose, initialize\n",
    "from omegaconf import OmegaConf\n",
    "\n",
    "with initialize(version_base=None, config_path=\"../experiments/016_norm_v5\"):\n",
    "    cfg = compose(\n",
    "        config_name=\"config.yaml\", overrides=[\"debug=True\"], return_hydra_config=True\n",
    "    )"
   ]
  },
  {
   "cell_type": "code",
   "execution_count": 2,
   "id": "90eeeb3b-72a6-44e4-bab3-ef5d4fff578c",
   "metadata": {},
   "outputs": [],
   "source": [
    "from pathlib import Path\n",
    "\n",
    "import numpy as np\n",
    "import polars as pl\n",
    "import xarray as xr\n",
    "from tqdm import tqdm\n",
    "\n",
    "debug = True\n",
    "n_sampling = 9000 if debug else int(625000 * 0.8)\n",
    "iter_sampling = 10 if debug else 100"
   ]
  },
  {
   "cell_type": "code",
   "execution_count": 4,
   "id": "80e3407d-5b08-434d-b458-3ad01a6f8b8f",
   "metadata": {},
   "outputs": [],
   "source": [
    "df = pl.read_parquet(\"input/train.parquet\", n_rows=10000 if debug else None)"
   ]
  },
  {
   "cell_type": "code",
   "execution_count": 9,
   "id": "fc7a425c-5eb5-4113-86fd-b099e592fa56",
   "metadata": {},
   "outputs": [],
   "source": [
    "x_array = df[:, 1:557].to_numpy()"
   ]
  },
  {
   "cell_type": "markdown",
   "id": "44bcc518-a836-4739-9982-8e4bd0a0e064",
   "metadata": {},
   "source": [
    "## 前処理"
   ]
  },
  {
   "cell_type": "code",
   "execution_count": 17,
   "id": "6bdf4654-9ca4-4bfc-b698-f452c3a00e5e",
   "metadata": {},
   "outputs": [],
   "source": [
    "# physical constatns from (E3SM_ROOT/share/util/shr_const_mod.F90)\n",
    "grav = 9.80616  # acceleration of gravity ~ m/s^2\n",
    "cp = 1.00464e3  # specific heat of dry air   ~ J/kg/K\n",
    "lv = 2.501e6  # latent heat of evaporation ~ J/kg\n",
    "lf = 3.337e5  # latent heat of fusion      ~ J/kg\n",
    "ls = lv + lf  # latent heat of sublimation ~ J/kg\n",
    "rho_air = (\n",
    "    101325.0 / (6.02214e26 * 1.38065e-23 / 28.966) / 273.15\n",
    ")  # density of dry air at STP  ~ kg/m^3\n",
    "# ~ 1.2923182846924677\n",
    "# SHR_CONST_PSTD/(SHR_CONST_RDAIR*SHR_CONST_TKFRZ)\n",
    "# SHR_CONST_RDAIR   = SHR_CONST_RGAS/SHR_CONST_MWDAIR\n",
    "# SHR_CONST_RGAS    = SHR_CONST_AVOGAD*SHR_CONST_BOLTZ\n",
    "rho_h20 = 1.0e3  # density of fresh water     ~ kg/m^ 3"
   ]
  },
  {
   "cell_type": "code",
   "execution_count": 15,
   "id": "0ced70a7-a294-4b8a-a00f-d30ce0fac148",
   "metadata": {},
   "outputs": [
    {
     "name": "stdout",
     "output_type": "stream",
     "text": [
      "pressures_array.shape=(10000, 60)\n"
     ]
    }
   ],
   "source": [
    "grid_path = \"/kaggle/working/misc/grid_info/ClimSim_low-res_grid-info.nc\"\n",
    "grid_info = xr.open_dataset(grid_path)\n",
    "hyai = grid_info[\"hyai\"].to_numpy()\n",
    "hybi = grid_info[\"hybi\"].to_numpy()\n",
    "p0 = 1e5\n",
    "ps = df[\"state_ps\"].to_numpy()\n",
    "pressures_array = hyai * p0 + hybi[None, :] * ps[:, None]\n",
    "pressures_array = np.diff(pressures_array, n=1)\n",
    "print(f\"{pressures_array.shape=}\")"
   ]
  },
  {
   "cell_type": "markdown",
   "id": "dc5a8533-25df-4943-ad2f-cfd0d58e6168",
   "metadata": {},
   "source": [
    "## 水量"
   ]
  },
  {
   "cell_type": "code",
   "execution_count": 14,
   "id": "4f22acf4-04a2-429a-afae-90e3ef02e480",
   "metadata": {},
   "outputs": [
    {
     "data": {
      "text/plain": [
       "((10000, 60),\n",
       " array([1.48456291e-06, 1.47749180e-06, 1.46554004e-06, 1.43009203e-06,\n",
       "        1.41853247e-06, 1.43263880e-06, 1.43797962e-06, 1.41230028e-06,\n",
       "        1.41259059e-06, 1.39545808e-06, 1.28483556e-06, 1.20852461e-06,\n",
       "        1.20696588e-06, 1.21846131e-06, 1.25747249e-06, 1.28216891e-06,\n",
       "        1.28508931e-06, 1.29570503e-06, 1.86475177e-06, 3.54215221e-06,\n",
       "        5.64159041e-06, 8.28468727e-06, 1.31591138e-05, 2.12735059e-05,\n",
       "        3.12911327e-05, 4.37278980e-05, 6.22128744e-05, 9.04670266e-05,\n",
       "        1.20846887e-04, 1.65968615e-04, 2.26157023e-04, 3.06602214e-04,\n",
       "        4.27570913e-04, 5.30491570e-04, 6.54893414e-04, 8.21625404e-04,\n",
       "        9.80661482e-04, 1.14783147e-03, 1.39870680e-03, 1.64666236e-03,\n",
       "        1.84539966e-03, 2.17196447e-03, 2.42082698e-03, 2.58498546e-03,\n",
       "        3.26316783e-03, 3.75013378e-03, 4.08554754e-03, 5.04706054e-03,\n",
       "        6.07494259e-03, 7.01202385e-03, 7.85594443e-03, 8.53700461e-03,\n",
       "        9.24132139e-03, 9.61908042e-03, 9.77965338e-03, 9.88061004e-03,\n",
       "        9.92579412e-03, 9.98353622e-03, 1.00239278e-02, 1.01217061e-02]))"
      ]
     },
     "execution_count": 14,
     "metadata": {},
     "output_type": "execute_result"
    }
   ],
   "source": [
    "water_array = x_array[:, 60:120] + x_array[:, 120:180] + x_array[:, 180:240]\n",
    "water_array.shape, water_array[0]"
   ]
  },
  {
   "cell_type": "markdown",
   "id": "e99e89e6-4d71-4a59-80e9-9e269e369bc4",
   "metadata": {},
   "source": [
    "## 各層のエネルギー"
   ]
  },
  {
   "cell_type": "code",
   "execution_count": 25,
   "id": "cb0d2a13-66a7-42aa-ab4d-d3f6a67dd3ae",
   "metadata": {},
   "outputs": [
    {
     "data": {
      "text/plain": [
       "((10000, 60),\n",
       " array([1.70130977e+00, 3.03674031e+00, 5.34659473e+00, 9.10425896e+00,\n",
       "        1.53607458e+01, 2.54834677e+01, 4.02469944e+01, 5.92852587e+01,\n",
       "        8.47686486e+01, 1.14669399e+02, 1.39613431e+02, 1.69035652e+02,\n",
       "        2.12519246e+02, 2.64249079e+02, 3.27868083e+02, 3.91460256e+02,\n",
       "        4.47655192e+02, 5.03708953e+02, 7.96061286e+02, 1.64275730e+03,\n",
       "        2.81856449e+03, 4.41567072e+03, 7.39231634e+03, 1.25536137e+04,\n",
       "        1.88659757e+04, 2.66548885e+04, 3.81967875e+04, 5.61075813e+04,\n",
       "        7.62334552e+04, 1.07269503e+05, 1.50520850e+05, 2.10585705e+05,\n",
       "        3.03032020e+05, 3.87377009e+05, 4.91315555e+05, 6.30092918e+05,\n",
       "        7.62373169e+05, 8.93716988e+05, 1.07454383e+06, 1.22877568e+06,\n",
       "        1.31974274e+06, 1.47581212e+06, 1.55837683e+06, 1.57874090e+06,\n",
       "        1.89518166e+06, 2.07089057e+06, 2.13646581e+06, 2.48256386e+06,\n",
       "        2.79366081e+06, 3.00958920e+06, 3.16342689e+06, 3.26442889e+06,\n",
       "        3.41071355e+06, 3.48371337e+06, 3.52341002e+06, 3.57492266e+06,\n",
       "        3.62689155e+06, 3.69487922e+06, 3.76243444e+06, 3.85504208e+06]))"
      ]
     },
     "execution_count": 25,
     "metadata": {},
     "output_type": "execute_result"
    }
   ],
   "source": [
    "water_energy_array = water_array * pressures_array * lv / grav\n",
    "water_energy_array.shape, water_energy_array[0]"
   ]
  },
  {
   "cell_type": "code",
   "execution_count": 26,
   "id": "cd8701a2-ef78-4a54-8a35-c719771757e4",
   "metadata": {},
   "outputs": [
    {
     "data": {
      "text/plain": [
       "((10000, 60),\n",
       " array([   98424.15327963,   183489.10444772,   335973.02587484,\n",
       "          628434.81989231,  1123717.6925473 ,  1899015.79348353,\n",
       "         2967877.57413114,  4297857.28975142,  5880438.17839143,\n",
       "         7813373.73109888, 10080108.30199832, 12723610.78389943,\n",
       "        15702926.50460158, 18896615.85014577, 22066745.17296807,\n",
       "        25163870.80500036, 28216633.92101603, 31131196.39269888,\n",
       "        33710731.67466716, 36902827.00420462, 40198508.03270261,\n",
       "        43785808.17049824, 47228918.24703036, 50798076.23320971,\n",
       "        53083241.23375994, 54761285.93654535, 56206465.63445565,\n",
       "        57769391.01603334, 59766750.99575   , 62246340.26997215,\n",
       "        65143938.6741154 , 68283426.89917834, 71499496.98744181,\n",
       "        74720619.20324974, 77786869.62700363, 80501681.83963309,\n",
       "        82519471.98168613, 83522423.42193228, 83163968.17447706,\n",
       "        81489066.95688194, 78658345.07602952, 75133085.48667696,\n",
       "        71559243.18731001, 68194609.52837212, 65076691.7682159 ,\n",
       "        62099233.40253215, 58957755.91744417, 55559180.16755332,\n",
       "        52069607.07130193, 48750031.38133375, 45890162.29279458,\n",
       "        43728061.28708462, 42365202.84790854, 41745416.20504669,\n",
       "        41704313.22686673, 42058713.3553048 , 42656054.17939115,\n",
       "        43387189.6447223 , 44190033.72608975, 45031530.56777269]))"
      ]
     },
     "execution_count": 26,
     "metadata": {},
     "output_type": "execute_result"
    }
   ],
   "source": [
    "# 温度\n",
    "temp_energy_array = x_array[:, 0:60] * pressures_array * cp / grav\n",
    "temp_energy_array.shape, temp_energy_array[0]"
   ]
  },
  {
   "cell_type": "code",
   "execution_count": 27,
   "id": "e2b00bc9-ba1f-45a4-9a5d-a43ca2d5e264",
   "metadata": {},
   "outputs": [
    {
     "data": {
      "text/plain": [
       "((10000, 60),\n",
       " array([   98425.85458939,   183492.14118803,   335978.37246957,\n",
       "          628443.92415127,  1123733.05329314,  1899041.2769512 ,\n",
       "         2967917.82112553,  4297916.57501017,  5880522.94704001,\n",
       "         7813488.40049822, 10080247.91542928, 12723779.81955175,\n",
       "        15703139.02384769, 18896880.09922463, 22067073.04105071,\n",
       "        25164262.26525593, 28217081.5762076 , 31131700.10165233,\n",
       "        33711527.7359536 , 36904469.7615089 , 40201326.5971901 ,\n",
       "        43790223.84121997, 47236310.56336755, 50810629.84694294,\n",
       "        53102107.20947903, 54787940.82506182, 56244662.42196368,\n",
       "        57825498.59732894, 59842984.45094223, 62353609.77303924,\n",
       "        65294459.52430611, 68494012.60420623, 71802529.00738843,\n",
       "        75107996.21250807, 78278185.18177122, 81131774.75783898,\n",
       "        83281845.15091026, 84416140.41005325, 84238512.00696321,\n",
       "        82717842.64057511, 79978087.8186072 , 76608897.60980716,\n",
       "        73117620.01743284, 69773350.42841141, 66971873.42505757,\n",
       "        64170123.97579674, 61094221.72514523, 58041744.02509162,\n",
       "        54863267.87630213, 51759620.57750101, 49053589.18535125,\n",
       "        46992490.17852014, 45775916.3985201 , 45229129.5750616 ,\n",
       "        45227723.25091361, 45633636.01547735, 46282945.73063836,\n",
       "        47082068.86368522, 47952468.1687346 , 48886572.64955679]))"
      ]
     },
     "execution_count": 27,
     "metadata": {},
     "output_type": "execute_result"
    }
   ],
   "source": [
    "temp_water_energy_array = water_energy_array + temp_energy_array\n",
    "temp_water_energy_array.shape, temp_water_energy_array[0]"
   ]
  },
  {
   "cell_type": "code",
   "execution_count": 28,
   "id": "a0b513b5-718b-4043-ad76-0069319fc0e0",
   "metadata": {},
   "outputs": [
    {
     "data": {
      "text/plain": [
       "((10000, 60), (10000, 60))"
      ]
     },
     "execution_count": 28,
     "metadata": {},
     "output_type": "execute_result"
    }
   ],
   "source": [
    "# wind\n",
    "u_energy_array = x_array[:, 240:300] * pressures_array / grav\n",
    "v_energy_array = x_array[:, 300:360] * pressures_array / grav\n",
    "u_energy_array.shape, v_energy_array.shape,"
   ]
  },
  {
   "cell_type": "code",
   "execution_count": 29,
   "id": "c988eddf-c80b-4b43-b548-0a2bb27f3500",
   "metadata": {},
   "outputs": [
    {
     "data": {
      "text/plain": [
       "((10000, 60),\n",
       " array([5.79967183e+03, 4.79184995e+03, 3.71398533e+03, 1.80647253e+03,\n",
       "        1.57353397e+03, 1.26000825e+03, 8.23784736e+02, 4.90113503e+02,\n",
       "        3.51775206e+02, 2.51855501e+02, 1.24129695e+02, 4.37690797e+01,\n",
       "        1.51443689e+01, 1.69276235e+00, 3.03117217e+01, 8.64823086e+01,\n",
       "        2.02305553e+02, 4.45585081e+02, 8.26191340e+02, 1.17216873e+03,\n",
       "        1.40583133e+03, 1.66428941e+03, 1.84449685e+03, 1.83267444e+03,\n",
       "        1.71455729e+03, 1.47188561e+03, 1.20464920e+03, 9.54596765e+02,\n",
       "        7.39858389e+02, 5.78293933e+02, 4.69788212e+02, 3.94269993e+02,\n",
       "        3.33744520e+02, 2.79261106e+02, 2.29071258e+02, 1.84451499e+02,\n",
       "        1.47110945e+02, 1.17318440e+02, 9.43302308e+01, 7.72603109e+01,\n",
       "        6.50419110e+01, 5.68057552e+01, 5.03587943e+01, 4.50503120e+01,\n",
       "        4.05290625e+01, 3.66164282e+01, 3.27146127e+01, 2.77400810e+01,\n",
       "        2.33394023e+01, 1.84828804e+01, 1.51957984e+01, 1.07976049e+01,\n",
       "        8.03793898e+00, 7.36469910e+00, 7.29134697e+00, 7.34835838e+00,\n",
       "        7.48731956e+00, 7.63014846e+00, 7.73006288e+00, 7.84908918e+00]))"
      ]
     },
     "execution_count": 29,
     "metadata": {},
     "output_type": "execute_result"
    }
   ],
   "source": [
    "# wind energy\n",
    "wind_energy_array = x_array[:, 240:300] ** 2 + x_array[:, 300:360] ** 2\n",
    "wind_energy_array.shape, wind_energy_array[0]"
   ]
  },
  {
   "cell_type": "code",
   "execution_count": 32,
   "id": "e01c261d-8491-4590-b81c-a6b31f1fd7cb",
   "metadata": {},
   "outputs": [
    {
     "data": {
      "text/plain": [
       "((10000, 60),\n",
       " array([76.15557647, 69.22318942, 60.94247555, 42.50261797, 39.66779513,\n",
       "        35.49659489, 28.7016504 , 22.13850724, 18.7556713 , 15.86995594,\n",
       "        11.14135069,  6.61582041,  3.89157666,  1.30106201,  5.5056082 ,\n",
       "         9.29958647, 14.22341566, 21.10888629, 28.74354432, 34.23694973,\n",
       "        37.49441738, 40.79570333, 42.94760589, 42.80974698, 41.40721302,\n",
       "        38.36516143, 34.70805673, 30.8965494 , 27.20033803, 24.04774278,\n",
       "        21.67459831, 19.8562331 , 18.26867593, 16.71110727, 15.1351002 ,\n",
       "        13.58129224, 12.1289301 , 10.83136371,  9.71237514,  8.78978447,\n",
       "         8.06485654,  7.53695928,  7.09639305,  6.71195292,  6.36624399,\n",
       "         6.05115098,  5.71966893,  5.26688532,  4.83108707,  4.29917207,\n",
       "         3.89817886,  3.28597092,  2.83512592,  2.71379791,  2.70024943,\n",
       "         2.71078557,  2.73629669,  2.76227234,  2.78029906,  2.8016226 ]))"
      ]
     },
     "execution_count": 32,
     "metadata": {},
     "output_type": "execute_result"
    }
   ],
   "source": [
    "# wind vec\n",
    "wind_vec_array = np.sqrt(wind_energy_array)\n",
    "wind_vec_array.shape, wind_vec_array[0]"
   ]
  },
  {
   "cell_type": "markdown",
   "id": "6550a005-3eb7-4785-9b7b-fcd95cd760e2",
   "metadata": {},
   "source": [
    "## 単位が W/m^2"
   ]
  },
  {
   "cell_type": "code",
   "execution_count": 6,
   "id": "890623be-0c27-4586-8056-1dc04f3bafe8",
   "metadata": {},
   "outputs": [
    {
     "name": "stdout",
     "output_type": "stream",
     "text": [
      "shape: (10_000, 4)\n",
      "┌─────────────┬────────────┬────────────┬─────────────┐\n",
      "│ pbuf_SOLIN  ┆ pbuf_LHFLX ┆ pbuf_SHFLX ┆ cam_in_LWUP │\n",
      "│ ---         ┆ ---        ┆ ---        ┆ ---         │\n",
      "│ f64         ┆ f64        ┆ f64        ┆ f64         │\n",
      "╞═════════════╪════════════╪════════════╪═════════════╡\n",
      "│ 0.0         ┆ 89.488774  ┆ 5.65951    ┆ 435.869227  │\n",
      "│ 0.0         ┆ 102.340975 ┆ 10.924796  ┆ 418.813856  │\n",
      "│ 0.0         ┆ 187.06813  ┆ 6.692277   ┆ 454.118907  │\n",
      "│ 0.0         ┆ 252.083263 ┆ 34.809143  ┆ 458.833796  │\n",
      "│ 0.0         ┆ 67.252308  ┆ 9.070964   ┆ 406.082712  │\n",
      "│ …           ┆ …          ┆ …          ┆ …           │\n",
      "│ 1222.494478 ┆ 14.081274  ┆ 226.243759 ┆ 535.173337  │\n",
      "│ 1055.611282 ┆ 128.906815 ┆ 34.335404  ┆ 439.611415  │\n",
      "│ 908.68778   ┆ 78.248006  ┆ -1.32336   ┆ 444.016211  │\n",
      "│ 1089.461421 ┆ 52.990573  ┆ 273.916256 ┆ 549.101882  │\n",
      "│ 915.747971  ┆ 147.217205 ┆ 28.479347  ┆ 474.87686   │\n",
      "└─────────────┴────────────┴────────────┴─────────────┘\n",
      "pbuf_SOLIN 361\n",
      "pbuf_LHFLX 362\n",
      "pbuf_SHFLX 363\n",
      "cam_in_LWUP 371\n"
     ]
    }
   ],
   "source": [
    "cols = [\"pbuf_SOLIN\", \"pbuf_LHFLX\", \"pbuf_SHFLX\", \"cam_in_LWUP\"]\n",
    "\n",
    "\"\"\" \n",
    "作る特徴量\n",
    "- 全部の合計\n",
    "- pbuf_SHFLX, pbuf_SHFLX, cam_in_LWUP の合計\n",
    "- pbuf_SOLIN　と他３つとの差\n",
    "\"\"\"\n",
    "print(df[cols])\n",
    "\n",
    "for col in cols:\n",
    "    print(col, df[:, 1:].columns.index(col))"
   ]
  },
  {
   "cell_type": "code",
   "execution_count": 11,
   "id": "3ebbb476-3ffb-4480-bd88-4d4aa389efac",
   "metadata": {},
   "outputs": [
    {
     "data": {
      "text/plain": [
       "((10000,), 531.0175117780348)"
      ]
     },
     "execution_count": 11,
     "metadata": {},
     "output_type": "execute_result"
    }
   ],
   "source": [
    "sum_energy_array = x_array[:, [361, 362, 363, 371]].sum(axis=1)\n",
    "sum_energy_array.shape, sum_energy_array[0]"
   ]
  },
  {
   "cell_type": "code",
   "execution_count": 12,
   "id": "cd196847-720a-47c8-a50f-09a9c1f40cf2",
   "metadata": {},
   "outputs": [
    {
     "data": {
      "text/plain": [
       "((10000,), 531.0175117780348)"
      ]
     },
     "execution_count": 12,
     "metadata": {},
     "output_type": "execute_result"
    }
   ],
   "source": [
    "sum_flux_array = x_array[:, [362, 363, 371]].sum(axis=1)\n",
    "sum_flux_array.shape, sum_flux_array[0]"
   ]
  },
  {
   "cell_type": "code",
   "execution_count": 13,
   "id": "bbf39f82-c5ad-4953-b4bc-ee120b27d2bc",
   "metadata": {},
   "outputs": [
    {
     "data": {
      "text/plain": [
       "((10000,), -531.0175117780348)"
      ]
     },
     "execution_count": 13,
     "metadata": {},
     "output_type": "execute_result"
    }
   ],
   "source": [
    "energy_diff_array = x_array[:, 361] - sum_flux_array\n",
    "energy_diff_array.shape, energy_diff_array[0]"
   ]
  },
  {
   "cell_type": "code",
   "execution_count": 52,
   "id": "8371abb4-eee4-45a8-8dc4-422ea8aba539",
   "metadata": {},
   "outputs": [
    {
     "data": {
      "text/plain": [
       "((10000,), 15.812105991111302)"
      ]
     },
     "execution_count": 52,
     "metadata": {},
     "output_type": "execute_result"
    }
   ],
   "source": [
    "# 潜熱と顕熱の比 (Bowen ratio):\n",
    "bowen_ratio_array = x_array[:, 362] / x_array[:, 363]\n",
    "bowen_ratio_array.shape, bowen_ratio_array[0]"
   ]
  },
  {
   "cell_type": "markdown",
   "id": "5140853b-8a9f-4f7b-9ee0-9435150c24a4",
   "metadata": {},
   "source": [
    "## 単位が𝑁/𝑚2\n",
    "\n"
   ]
  },
  {
   "cell_type": "code",
   "execution_count": 30,
   "id": "67340806-493c-41a9-b2fc-4aeacf29138d",
   "metadata": {},
   "outputs": [
    {
     "name": "stdout",
     "output_type": "stream",
     "text": [
      "shape: (10_000, 2)\n",
      "┌───────────┬───────────┐\n",
      "│ pbuf_TAUX ┆ pbuf_TAUY │\n",
      "│ ---       ┆ ---       │\n",
      "│ f64       ┆ f64       │\n",
      "╞═══════════╪═══════════╡\n",
      "│ 0.005498  ┆ -0.012671 │\n",
      "│ -0.029348 ┆ -0.008927 │\n",
      "│ 0.192057  ┆ -0.186918 │\n",
      "│ 0.092754  ┆ -0.083188 │\n",
      "│ -0.020079 ┆ 0.001456  │\n",
      "│ …         ┆ …         │\n",
      "│ -0.03434  ┆ -0.031219 │\n",
      "│ -0.047314 ┆ -0.057721 │\n",
      "│ -0.038995 ┆ 0.016687  │\n",
      "│ -0.084857 ┆ -0.011904 │\n",
      "│ -0.002867 ┆ 0.02247   │\n",
      "└───────────┴───────────┘\n",
      "pbuf_TAUX 364\n",
      "pbuf_TAUY 365\n"
     ]
    }
   ],
   "source": [
    "cols = [\"pbuf_TAUX\", \"pbuf_TAUY\"]\n",
    "\n",
    "\"\"\" \n",
    "作る特徴量\n",
    "- pbuf_TAUX, pbuf_TAUY の合計\n",
    "\"\"\"\n",
    "print(df[cols])\n",
    "\n",
    "for col in cols:\n",
    "    print(col, df[:, 1:].columns.index(col))"
   ]
  },
  {
   "cell_type": "code",
   "execution_count": null,
   "id": "f4378254-57b2-4937-802b-f94c19c8f2d7",
   "metadata": {},
   "outputs": [],
   "source": [
    "sum_surface_stress_array = x_array[:, [364, 365]].sum(axis=1)\n",
    "sum_surface_stress_array.shape, sum_surface_stress_array[0]"
   ]
  },
  {
   "cell_type": "markdown",
   "id": "da89a2b7-09df-4cfa-a942-8e40d126c427",
   "metadata": {},
   "source": [
    "## other"
   ]
  },
  {
   "cell_type": "code",
   "execution_count": 54,
   "id": "85f17598-a94b-4c7c-b819-551816cd54a8",
   "metadata": {},
   "outputs": [
    {
     "name": "stdout",
     "output_type": "stream",
     "text": [
      "shape: (10_000, 7)\n",
      "┌─────────────┬─────────────┬─────────────┬──────────────┬─────────────┬─────────────┬─────────────┐\n",
      "│ pbuf_SOLIN  ┆ pbuf_COSZRS ┆ cam_in_LWUP ┆ cam_in_ALDIF ┆ cam_in_ALDI ┆ cam_in_ASDI ┆ cam_in_ASDI │\n",
      "│ ---         ┆ ---         ┆ ---         ┆ ---          ┆ R           ┆ F           ┆ R           │\n",
      "│ f64         ┆ f64         ┆ f64         ┆ f64          ┆ ---         ┆ ---         ┆ ---         │\n",
      "│             ┆             ┆             ┆              ┆ f64         ┆ f64         ┆ f64         │\n",
      "╞═════════════╪═════════════╪═════════════╪══════════════╪═════════════╪═════════════╪═════════════╡\n",
      "│ 0.0         ┆ 0.0         ┆ 435.869227  ┆ 1.0          ┆ 1.0         ┆ 1.0         ┆ 1.0         │\n",
      "│ 0.0         ┆ 0.0         ┆ 418.813856  ┆ 1.0          ┆ 1.0         ┆ 1.0         ┆ 1.0         │\n",
      "│ 0.0         ┆ 0.0         ┆ 454.118907  ┆ 1.0          ┆ 1.0         ┆ 1.0         ┆ 1.0         │\n",
      "│ 0.0         ┆ 0.0         ┆ 458.833796  ┆ 1.0          ┆ 1.0         ┆ 1.0         ┆ 1.0         │\n",
      "│ 0.0         ┆ 0.0         ┆ 406.082712  ┆ 1.0          ┆ 1.0         ┆ 1.0         ┆ 1.0         │\n",
      "│ …           ┆ …           ┆ …           ┆ …            ┆ …           ┆ …           ┆ …           │\n",
      "│ 1222.494478 ┆ 0.872973    ┆ 535.173337  ┆ 0.206632     ┆ 0.182173    ┆ 0.117913    ┆ 0.103026    │\n",
      "│ 1055.611282 ┆ 0.753803    ┆ 439.611415  ┆ 0.089182     ┆ 0.059501    ┆ 0.060584    ┆ 0.036797    │\n",
      "│ 908.68778   ┆ 0.648886    ┆ 444.016211  ┆ 0.06         ┆ 0.047449    ┆ 0.06        ┆ 0.047449    │\n",
      "│ 1089.461421 ┆ 0.777975    ┆ 549.101882  ┆ 0.25717      ┆ 0.208086    ┆ 0.07332     ┆ 0.05979     │\n",
      "│ 915.747971  ┆ 0.653928    ┆ 474.87686   ┆ 0.090826     ┆ 0.073982    ┆ 0.060521    ┆ 0.047654    │\n",
      "└─────────────┴─────────────┴─────────────┴──────────────┴─────────────┴─────────────┴─────────────┘\n",
      "pbuf_SOLIN 361\n",
      "pbuf_COSZRS 366\n",
      "cam_in_LWUP 371\n",
      "cam_in_ALDIF 367\n",
      "cam_in_ALDIR 368\n",
      "cam_in_ASDIF 369\n",
      "cam_in_ASDIR 370\n"
     ]
    }
   ],
   "source": [
    "cols = [\n",
    "    \"pbuf_SOLIN\",\n",
    "    \"pbuf_COSZRS\",\n",
    "    \"cam_in_LWUP\",\n",
    "    \"cam_in_ALDIF\",\n",
    "    \"cam_in_ALDIR\",\n",
    "    \"cam_in_ASDIF\",\n",
    "    \"cam_in_ASDIR\",\n",
    "]\n",
    "\n",
    "\"\"\" \n",
    "作る特徴量\n",
    "- pbuf_TAUX, pbuf_TAUY の合計\n",
    "\"\"\"\n",
    "print(df[cols])\n",
    "\n",
    "for col in cols:\n",
    "    print(col, df[:, 1:].columns.index(col))\n",
    "# Net radiative flux"
   ]
  },
  {
   "cell_type": "code",
   "execution_count": 34,
   "id": "79030cc6-9ee2-44e0-a4ba-5d3ad6ae6d3c",
   "metadata": {},
   "outputs": [
    {
     "data": {
      "text/plain": [
       "((10000,), -435.8692271656608)"
      ]
     },
     "execution_count": 34,
     "metadata": {},
     "output_type": "execute_result"
    }
   ],
   "source": [
    "net_radiative_flux_array = x_array[:, 361] * x_array[:, 366] - x_array[:, 371]\n",
    "net_radiative_flux_array.shape, net_radiative_flux_array[0]"
   ]
  },
  {
   "cell_type": "code",
   "execution_count": 51,
   "id": "239e6caf-f961-4b7c-8ca1-9a9d976804e1",
   "metadata": {},
   "outputs": [
    {
     "data": {
      "text/plain": [
       "((10000,), 0.0)"
      ]
     },
     "execution_count": 51,
     "metadata": {},
     "output_type": "execute_result"
    }
   ],
   "source": [
    "# Global solar irradiance\n",
    "global_solar_irradiance_array = (\n",
    "    x_array[:, 361] * (1 - x_array[:, 369]) * (1 - x_array[:, 370])\n",
    ")\n",
    "global_solar_irradiance_array.shape, global_solar_irradiance_array[0]"
   ]
  },
  {
   "cell_type": "code",
   "execution_count": 55,
   "id": "531cd02a-5ac4-4d07-a1fa-c39d93935826",
   "metadata": {},
   "outputs": [
    {
     "data": {
      "text/plain": [
       "((10000,), 0.0)"
      ]
     },
     "execution_count": 55,
     "metadata": {},
     "output_type": "execute_result"
    }
   ],
   "source": [
    "# global_longwave_flux\n",
    "global_longwave_flux_array = (\n",
    "    x_array[:, 371] * (1 - x_array[:, 367]) * (1 - x_array[:, 368])\n",
    ")\n",
    "global_longwave_flux_array.shape, global_longwave_flux_array[0]"
   ]
  },
  {
   "cell_type": "code",
   "execution_count": null,
   "id": "804f627e-3fdb-4227-b93f-2f6a74bba41b",
   "metadata": {},
   "outputs": [],
   "source": []
  }
 ],
 "metadata": {
  "kernelspec": {
   "display_name": "Python 3 (ipykernel) (Local)",
   "language": "python",
   "name": "python3"
  },
  "language_info": {
   "codemirror_mode": {
    "name": "ipython",
    "version": 3
   },
   "file_extension": ".py",
   "mimetype": "text/x-python",
   "name": "python",
   "nbconvert_exporter": "python",
   "pygments_lexer": "ipython3",
   "version": "3.10.13"
  }
 },
 "nbformat": 4,
 "nbformat_minor": 5
}
